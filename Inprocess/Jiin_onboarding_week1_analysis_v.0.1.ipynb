{
 "cells": [
  {
   "cell_type": "markdown",
   "metadata": {
    "heading_collapsed": true
   },
   "source": [
    "### 모듈 import"
   ]
  },
  {
   "cell_type": "code",
   "execution_count": 1,
   "metadata": {
    "hidden": true
   },
   "outputs": [],
   "source": [
    "import numpy as np\n",
    "import pandas as pd\n",
    "\n",
    "# visualization\n",
    "\n",
    "import matplotlib.pyplot as plt\n",
    "import seaborn as sns\n",
    "%matplotlib inline\n",
    "sns.set_style(style=\"white\")\n",
    "plt.rc('font', family='Malgun Gothic') \n",
    "plt.rcParams['figure.figsize'] = (10, 7)\n",
    "plt.rcParams['axes.unicode_minus'] = False    # minus\n",
    "\n",
    "# interactive\n",
    "import plotly.express as px\n",
    "import plotly.graph_objects as go\n",
    "from plotly.subplots import make_subplots\n",
    "\n",
    "import warnings\n",
    "warnings.filterwarnings('ignore')"
   ]
  },
  {
   "cell_type": "markdown",
   "metadata": {
    "heading_collapsed": true
   },
   "source": [
    "### 노트북 세팅"
   ]
  },
  {
   "cell_type": "code",
   "execution_count": 2,
   "metadata": {
    "hidden": true
   },
   "outputs": [],
   "source": [
    "# 노트북 세팅\n",
    "pd.options.display.float_format = '{:.2f}'.format"
   ]
  },
  {
   "cell_type": "markdown",
   "metadata": {},
   "source": [
    "## 유니콘 기업 재정의\n",
    "- 2021년 (누적) 기준으로 유니콘 기업으로 선정된 기업들 중 하기 7개 기업의 국민연금 데이터로 분석 방향을 설정함"
   ]
  },
  {
   "cell_type": "markdown",
   "metadata": {},
   "source": [
    "### 유니콘 기업으로 선정된 기업 정보 수집 \n",
    "- 출처 : https://www.data.go.kr/data/3046071/fileData.do\n",
    "- 수집 대상 기업 : 비바리퍼블리카, 쏘카, 무신사, 크래프톤, 야놀자, 에이프로젠, 지피클럽\n",
    "- 수집 대상 기간 : 2015-2019년 (매년 12월 데이터)"
   ]
  },
  {
   "cell_type": "code",
   "execution_count": null,
   "metadata": {},
   "outputs": [],
   "source": [
    "unicorn2019 = pd.read_csv(\"국민연금 가입 사업장 내역 2019년 12월.csv\", encoding='cp949')\n",
    "unicorn2018 = pd.read_csv(\"국민연금 가입 사업장 내역 2018년 12월.csv\", encoding='cp949')\n",
    "unicorn2017 = pd.read_csv(\"국민연금 가입 사업장 내역 2017년 12월.csv\", encoding='cp949')\n",
    "unicorn2016 = pd.read_csv(\"국민연금 가입 사업장 내역 2016년 12월.csv\", encoding='cp949')\n",
    "unicorn2015 = pd.read_csv(\"국민연금 가입 사업장 내역 2015년 12월.csv\", encoding='cp949')"
   ]
  },
  {
   "cell_type": "code",
   "execution_count": null,
   "metadata": {},
   "outputs": [],
   "source": [
    "df_unicorn=pd.DataFrame()\n",
    "unicorn_list = ['비바리퍼블리카$', '쏘카', '주식회사 무신사', '크래프톤', '.주.야놀자$', '.주.에이프로젠$', '지피클럽']\n",
    "for i in unicorn_list :\n",
    "    df_unicorn = df_unicorn.append(unicorn2019[unicorn2019['사업장명 WKPL_NM\\tVARCHAR(100)'].str.contains(i)])\n",
    "    df_unicorn = df_unicorn.append(unicorn2018[unicorn2018['사업장명 WKPL_NM\\tVARCHAR(100)'].str.contains(i)])\n",
    "    df_unicorn = df_unicorn.append(unicorn2017[unicorn2017['사업장명 WKPL_NM\\tVARCHAR(100)'].str.contains(i)])\n",
    "    df_unicorn = df_unicorn.append(unicorn2016[unicorn2016['사업장명 WKPL_NM\\tVARCHAR(100)'].str.contains(i)])\n",
    "    df_unicorn = df_unicorn.append(unicorn2015[unicorn2015['사업장명 WKPL_NM\\tVARCHAR(100)'].str.contains(i)])\n",
    "\n",
    "# 불필요한 컬럼 제거 및 인덱스 리셋\n",
    "df_unicorn.drop(df_unicorn.filter(regex='주소|가입상태|우편번호|등록번호|등록일자|사업장업종코드 WKPL|탈퇴일자|구분코드').columns , axis=1, inplace=True)\n",
    "df_unicorn = df_unicorn.reset_index().drop('index', axis=1)\n",
    "\n",
    "# 컬럼명 재지정\n",
    "unicorn_newcol = ['년월','사업장명','업종', '적용일자', '직원수', '연금보험료', '신규취득자수','상실가입자수' ]\n",
    "df_unicorn.columns = unicorn_newcol\n",
    "\n",
    "# 연도, 월 컬럼 생성\n",
    "df_unicorn[['년도','월']]=pd.DataFrame(df_unicorn['년월'].str.split('-',2).tolist())\n",
    "df_unicorn.drop(['년월','월'], axis=1, inplace=True)\n",
    "df_unicorn['년도'] = df_unicorn['년도'].astype('int64')\n",
    "\n",
    "# 7개 유니콘 기업 기본 정보 (trend 파악용)\n",
    "df_unicorn.to_csv('유니콘기업정보.csv')"
   ]
  },
  {
   "cell_type": "code",
   "execution_count": 1525,
   "metadata": {
    "scrolled": false
   },
   "outputs": [
    {
     "data": {
      "text/html": [
       "<div>\n",
       "<style scoped>\n",
       "    .dataframe tbody tr th:only-of-type {\n",
       "        vertical-align: middle;\n",
       "    }\n",
       "\n",
       "    .dataframe tbody tr th {\n",
       "        vertical-align: top;\n",
       "    }\n",
       "\n",
       "    .dataframe thead th {\n",
       "        text-align: right;\n",
       "    }\n",
       "</style>\n",
       "<table border=\"1\" class=\"dataframe\">\n",
       "  <thead>\n",
       "    <tr style=\"text-align: right;\">\n",
       "      <th></th>\n",
       "      <th>사업장명</th>\n",
       "      <th>업종</th>\n",
       "      <th>적용일자</th>\n",
       "      <th>직원수</th>\n",
       "      <th>연금보험료</th>\n",
       "      <th>신규취득자수</th>\n",
       "      <th>상실가입자수</th>\n",
       "      <th>년도</th>\n",
       "    </tr>\n",
       "  </thead>\n",
       "  <tbody>\n",
       "    <tr>\n",
       "      <th>0</th>\n",
       "      <td>（주）비바리퍼블리카</td>\n",
       "      <td>응용 소프트웨어 개발 및 공급업</td>\n",
       "      <td>2013-08-01</td>\n",
       "      <td>310</td>\n",
       "      <td>118457320</td>\n",
       "      <td>18</td>\n",
       "      <td>12</td>\n",
       "      <td>2019</td>\n",
       "    </tr>\n",
       "    <tr>\n",
       "      <th>1</th>\n",
       "      <td>（주）비바리퍼블리카</td>\n",
       "      <td>응용 소프트웨어 개발 및 공급업</td>\n",
       "      <td>2013-08-01</td>\n",
       "      <td>158</td>\n",
       "      <td>57709520</td>\n",
       "      <td>5</td>\n",
       "      <td>3</td>\n",
       "      <td>2018</td>\n",
       "    </tr>\n",
       "    <tr>\n",
       "      <th>2</th>\n",
       "      <td>（주）비바리퍼블리카</td>\n",
       "      <td>응용 소프트웨어 개발 및 공급업</td>\n",
       "      <td>2013-08-01</td>\n",
       "      <td>103</td>\n",
       "      <td>34070000</td>\n",
       "      <td>5</td>\n",
       "      <td>2</td>\n",
       "      <td>2017</td>\n",
       "    </tr>\n",
       "    <tr>\n",
       "      <th>3</th>\n",
       "      <td>（주）비바리퍼블리카</td>\n",
       "      <td>응용 소프트웨어 개발 및 공급업</td>\n",
       "      <td>2013-08-01</td>\n",
       "      <td>60</td>\n",
       "      <td>17035140</td>\n",
       "      <td>5</td>\n",
       "      <td>3</td>\n",
       "      <td>2016</td>\n",
       "    </tr>\n",
       "    <tr>\n",
       "      <th>4</th>\n",
       "      <td>（주）비바리퍼블리카</td>\n",
       "      <td>응용 소프트웨어 개발 및 공급업</td>\n",
       "      <td>2013-08-01</td>\n",
       "      <td>27</td>\n",
       "      <td>6171340</td>\n",
       "      <td>0</td>\n",
       "      <td>2</td>\n",
       "      <td>2015</td>\n",
       "    </tr>\n",
       "  </tbody>\n",
       "</table>\n",
       "</div>"
      ],
      "text/plain": [
       "         사업장명                 업종        적용일자  직원수      연금보험료  신규취득자수  상실가입자수  \\\n",
       "0  （주）비바리퍼블리카  응용 소프트웨어 개발 및 공급업  2013-08-01  310  118457320      18      12   \n",
       "1  （주）비바리퍼블리카  응용 소프트웨어 개발 및 공급업  2013-08-01  158   57709520       5       3   \n",
       "2  （주）비바리퍼블리카  응용 소프트웨어 개발 및 공급업  2013-08-01  103   34070000       5       2   \n",
       "3  （주）비바리퍼블리카  응용 소프트웨어 개발 및 공급업  2013-08-01   60   17035140       5       3   \n",
       "4  （주）비바리퍼블리카  응용 소프트웨어 개발 및 공급업  2013-08-01   27    6171340       0       2   \n",
       "\n",
       "     년도  \n",
       "0  2019  \n",
       "1  2018  \n",
       "2  2017  \n",
       "3  2016  \n",
       "4  2015  "
      ]
     },
     "execution_count": 1525,
     "metadata": {},
     "output_type": "execute_result"
    }
   ],
   "source": [
    "df_unicorn = pd.read_csv('유니콘기업정보.csv').drop('Unnamed: 0', axis=1)\n",
    "df_unicorn.head()"
   ]
  },
  {
   "cell_type": "code",
   "execution_count": 188,
   "metadata": {
    "scrolled": true
   },
   "outputs": [
    {
     "data": {
      "text/plain": [
       "사업장명\n",
       "(주)야놀자        5\n",
       "(주)에이프로젠      5\n",
       "(주)크래프톤       5\n",
       "주식회사 무신사      5\n",
       "주식회사쏘카        5\n",
       "（주）비바리퍼블리카    5\n",
       "（주）지피클럽       5\n",
       "Name: 년도, dtype: int64"
      ]
     },
     "execution_count": 188,
     "metadata": {},
     "output_type": "execute_result"
    }
   ],
   "source": [
    "# 데이터 보유 기간 동일\n",
    "df_unicorn.groupby('사업장명').count()['년도']"
   ]
  },
  {
   "cell_type": "markdown",
   "metadata": {},
   "source": [
    "### 유니콘 기업 분석 "
   ]
  },
  {
   "cell_type": "code",
   "execution_count": 189,
   "metadata": {
    "scrolled": true
   },
   "outputs": [
    {
     "data": {
      "text/plain": [
       "<matplotlib.axes._subplots.AxesSubplot at 0x130c63f6e80>"
      ]
     },
     "execution_count": 189,
     "metadata": {},
     "output_type": "execute_result"
    },
    {
     "data": {
      "image/png": "[encoded data removed]",
      "text/plain": [
       "<Figure size 936x432 with 2 Axes>"
      ]
     },
     "metadata": {
      "needs_background": "light"
     },
     "output_type": "display_data"
    }
   ],
   "source": [
    "fig, axes = plt.subplots(ncols=2, figsize=(13,6), sharex=True, sharey=True)\n",
    "\n",
    "sns.lineplot(data = df_unicorn[['사업장명','직원수','년도']], x='년도', y='직원수', ax=axes[0])\n",
    "sns.lineplot(data = df_unicorn[['사업장명','직원수','년도']], x='년도', y='직원수', hue='사업장명', ax=axes[1])"
   ]
  },
  {
   "cell_type": "code",
   "execution_count": 1526,
   "metadata": {
    "scrolled": false
   },
   "outputs": [
    {
     "data": {
      "text/html": [
       "<div>\n",
       "<style scoped>\n",
       "    .dataframe tbody tr th:only-of-type {\n",
       "        vertical-align: middle;\n",
       "    }\n",
       "\n",
       "    .dataframe tbody tr th {\n",
       "        vertical-align: top;\n",
       "    }\n",
       "\n",
       "    .dataframe thead th {\n",
       "        text-align: right;\n",
       "    }\n",
       "</style>\n",
       "<table border=\"1\" class=\"dataframe\">\n",
       "  <thead>\n",
       "    <tr style=\"text-align: right;\">\n",
       "      <th></th>\n",
       "      <th>사업장명</th>\n",
       "      <th>업종</th>\n",
       "      <th>적용일자</th>\n",
       "      <th>직원수</th>\n",
       "      <th>연금보험료</th>\n",
       "      <th>신규취득자수</th>\n",
       "      <th>상실가입자수</th>\n",
       "      <th>년도</th>\n",
       "      <th>성장율_직원수</th>\n",
       "      <th>기간내성장율_직원수</th>\n",
       "      <th>연평균성장율_직원수</th>\n",
       "      <th>valuation</th>\n",
       "    </tr>\n",
       "  </thead>\n",
       "  <tbody>\n",
       "    <tr>\n",
       "      <th>0</th>\n",
       "      <td>（주）비바리퍼블리카</td>\n",
       "      <td>응용 소프트웨어 개발 및 공급업</td>\n",
       "      <td>2013-08-01</td>\n",
       "      <td>310</td>\n",
       "      <td>118457320</td>\n",
       "      <td>18</td>\n",
       "      <td>12</td>\n",
       "      <td>2019</td>\n",
       "      <td>0.96</td>\n",
       "      <td>10.48</td>\n",
       "      <td>0.69</td>\n",
       "      <td>2.60</td>\n",
       "    </tr>\n",
       "  </tbody>\n",
       "</table>\n",
       "</div>"
      ],
      "text/plain": [
       "         사업장명                 업종        적용일자  직원수      연금보험료  신규취득자수  상실가입자수  \\\n",
       "0  （주）비바리퍼블리카  응용 소프트웨어 개발 및 공급업  2013-08-01  310  118457320      18      12   \n",
       "\n",
       "     년도  성장율_직원수  기간내성장율_직원수  연평균성장율_직원수  valuation  \n",
       "0  2019     0.96       10.48        0.69       2.60  "
      ]
     },
     "execution_count": 1526,
     "metadata": {},
     "output_type": "execute_result"
    }
   ],
   "source": [
    "# 유니콘 기업별 직원수 연성장율 기업가치 파악\n",
    "df_unicorn_change = pd.DataFrame(df_unicorn.sort_values(['사업장명','년도']).groupby('사업장명')['직원수'].pct_change(periods=1)).rename(columns={'직원수':'성장율_직원수'}).fillna(0)\n",
    "df_unicorn_change_total = pd.DataFrame(df_unicorn.sort_values(['사업장명','년도']).groupby('사업장명')['직원수'].pct_change(periods=4)).rename(columns={'직원수':'기간내성장율_직원수'}).fillna(0)\n",
    "\n",
    "df_unicorn = df_unicorn.merge(df_unicorn_change,how='left', right_index=True,left_index=True)\n",
    "df_unicorn = df_unicorn.merge(df_unicorn_change_total, how='left', right_index=True,left_index=True)\n",
    "\n",
    "df_unicorn_growth = df_unicorn.groupby('사업장명').agg({'성장율_직원수':'mean'}).rename(columns={'성장율_직원수':'연평균성장율_직원수'})\n",
    "\n",
    "# valuation 정보 추가\n",
    "# valuation 정보는 유니콘 기업 선정시 공개자료 활용\n",
    "df_unicorn_growth['valuation']=list((1,1.04,5,2.2,1,2.6,1.32))\n",
    "\n",
    "# 유니콘 기업정보 최종 (직원수 - 성장율, 기간내성장율, 연평균성장율, valuation)\n",
    "df_unicorn = df_unicorn.merge(df_unicorn_growth, on='사업장명', how='left')\n",
    "df_unicorn.head(1)"
   ]
  },
  {
   "cell_type": "code",
   "execution_count": 1496,
   "metadata": {
    "scrolled": false
   },
   "outputs": [
    {
     "data": {
      "text/html": [
       "<div>\n",
       "<style scoped>\n",
       "    .dataframe tbody tr th:only-of-type {\n",
       "        vertical-align: middle;\n",
       "    }\n",
       "\n",
       "    .dataframe tbody tr th {\n",
       "        vertical-align: top;\n",
       "    }\n",
       "\n",
       "    .dataframe thead th {\n",
       "        text-align: right;\n",
       "    }\n",
       "</style>\n",
       "<table border=\"1\" class=\"dataframe\">\n",
       "  <thead>\n",
       "    <tr style=\"text-align: right;\">\n",
       "      <th></th>\n",
       "      <th>사업장명</th>\n",
       "      <th>업종</th>\n",
       "      <th>적용일자</th>\n",
       "      <th>직원수</th>\n",
       "      <th>연금보험료</th>\n",
       "      <th>신규취득자수</th>\n",
       "      <th>상실가입자수</th>\n",
       "      <th>년도</th>\n",
       "      <th>성장율_직원수</th>\n",
       "      <th>기간내성장율_직원수</th>\n",
       "      <th>연평균성장율_직원수</th>\n",
       "      <th>valuation</th>\n",
       "    </tr>\n",
       "  </thead>\n",
       "  <tbody>\n",
       "    <tr>\n",
       "      <th>0</th>\n",
       "      <td>（주）비바리퍼블리카</td>\n",
       "      <td>응용 소프트웨어 개발 및 공급업</td>\n",
       "      <td>2013-08-01</td>\n",
       "      <td>310</td>\n",
       "      <td>118457320</td>\n",
       "      <td>18</td>\n",
       "      <td>12</td>\n",
       "      <td>2019</td>\n",
       "      <td>0.96</td>\n",
       "      <td>10.48</td>\n",
       "      <td>0.69</td>\n",
       "      <td>2.60</td>\n",
       "    </tr>\n",
       "    <tr>\n",
       "      <th>1</th>\n",
       "      <td>（주）비바리퍼블리카</td>\n",
       "      <td>응용 소프트웨어 개발 및 공급업</td>\n",
       "      <td>2013-08-01</td>\n",
       "      <td>158</td>\n",
       "      <td>57709520</td>\n",
       "      <td>5</td>\n",
       "      <td>3</td>\n",
       "      <td>2018</td>\n",
       "      <td>0.53</td>\n",
       "      <td>0.00</td>\n",
       "      <td>0.69</td>\n",
       "      <td>2.60</td>\n",
       "    </tr>\n",
       "    <tr>\n",
       "      <th>2</th>\n",
       "      <td>（주）비바리퍼블리카</td>\n",
       "      <td>응용 소프트웨어 개발 및 공급업</td>\n",
       "      <td>2013-08-01</td>\n",
       "      <td>103</td>\n",
       "      <td>34070000</td>\n",
       "      <td>5</td>\n",
       "      <td>2</td>\n",
       "      <td>2017</td>\n",
       "      <td>0.72</td>\n",
       "      <td>0.00</td>\n",
       "      <td>0.69</td>\n",
       "      <td>2.60</td>\n",
       "    </tr>\n",
       "    <tr>\n",
       "      <th>3</th>\n",
       "      <td>（주）비바리퍼블리카</td>\n",
       "      <td>응용 소프트웨어 개발 및 공급업</td>\n",
       "      <td>2013-08-01</td>\n",
       "      <td>60</td>\n",
       "      <td>17035140</td>\n",
       "      <td>5</td>\n",
       "      <td>3</td>\n",
       "      <td>2016</td>\n",
       "      <td>1.22</td>\n",
       "      <td>0.00</td>\n",
       "      <td>0.69</td>\n",
       "      <td>2.60</td>\n",
       "    </tr>\n",
       "    <tr>\n",
       "      <th>4</th>\n",
       "      <td>（주）비바리퍼블리카</td>\n",
       "      <td>응용 소프트웨어 개발 및 공급업</td>\n",
       "      <td>2013-08-01</td>\n",
       "      <td>27</td>\n",
       "      <td>6171340</td>\n",
       "      <td>0</td>\n",
       "      <td>2</td>\n",
       "      <td>2015</td>\n",
       "      <td>0.00</td>\n",
       "      <td>0.00</td>\n",
       "      <td>0.69</td>\n",
       "      <td>2.60</td>\n",
       "    </tr>\n",
       "  </tbody>\n",
       "</table>\n",
       "</div>"
      ],
      "text/plain": [
       "         사업장명                 업종        적용일자  직원수      연금보험료  신규취득자수  상실가입자수  \\\n",
       "0  （주）비바리퍼블리카  응용 소프트웨어 개발 및 공급업  2013-08-01  310  118457320      18      12   \n",
       "1  （주）비바리퍼블리카  응용 소프트웨어 개발 및 공급업  2013-08-01  158   57709520       5       3   \n",
       "2  （주）비바리퍼블리카  응용 소프트웨어 개발 및 공급업  2013-08-01  103   34070000       5       2   \n",
       "3  （주）비바리퍼블리카  응용 소프트웨어 개발 및 공급업  2013-08-01   60   17035140       5       3   \n",
       "4  （주）비바리퍼블리카  응용 소프트웨어 개발 및 공급업  2013-08-01   27    6171340       0       2   \n",
       "\n",
       "     년도  성장율_직원수  기간내성장율_직원수  연평균성장율_직원수  valuation  \n",
       "0  2019     0.96       10.48        0.69       2.60  \n",
       "1  2018     0.53        0.00        0.69       2.60  \n",
       "2  2017     0.72        0.00        0.69       2.60  \n",
       "3  2016     1.22        0.00        0.69       2.60  \n",
       "4  2015     0.00        0.00        0.69       2.60  "
      ]
     },
     "execution_count": 1496,
     "metadata": {},
     "output_type": "execute_result"
    }
   ],
   "source": [
    "df_unicorn.head(5)"
   ]
  },
  {
   "cell_type": "code",
   "execution_count": 1497,
   "metadata": {},
   "outputs": [
    {
     "data": {
      "text/plain": [
       "array(['（주）비바리퍼블리카', '주식회사쏘카', '주식회사 무신사', '(주)크래프톤', '(주)야놀자',\n",
       "       '(주)에이프로젠', '（주）지피클럽'], dtype=object)"
      ]
     },
     "execution_count": 1497,
     "metadata": {},
     "output_type": "execute_result"
    }
   ],
   "source": [
    "df_unicorn['사업장명'].unique()"
   ]
  },
  {
   "cell_type": "code",
   "execution_count": 1539,
   "metadata": {
    "scrolled": true
   },
   "outputs": [
    {
     "data": {
      "text/html": [
       "<div>\n",
       "<style scoped>\n",
       "    .dataframe tbody tr th:only-of-type {\n",
       "        vertical-align: middle;\n",
       "    }\n",
       "\n",
       "    .dataframe tbody tr th {\n",
       "        vertical-align: top;\n",
       "    }\n",
       "\n",
       "    .dataframe thead th {\n",
       "        text-align: right;\n",
       "    }\n",
       "</style>\n",
       "<table border=\"1\" class=\"dataframe\">\n",
       "  <thead>\n",
       "    <tr style=\"text-align: right;\">\n",
       "      <th></th>\n",
       "      <th>사업장명</th>\n",
       "      <th>년도</th>\n",
       "      <th>직원수</th>\n",
       "      <th>연금보험료</th>\n",
       "    </tr>\n",
       "  </thead>\n",
       "  <tbody>\n",
       "    <tr>\n",
       "      <th>0</th>\n",
       "      <td>（주）비바리퍼블리카</td>\n",
       "      <td>2019</td>\n",
       "      <td>310</td>\n",
       "      <td>118.46</td>\n",
       "    </tr>\n",
       "    <tr>\n",
       "      <th>1</th>\n",
       "      <td>（주）비바리퍼블리카</td>\n",
       "      <td>2018</td>\n",
       "      <td>158</td>\n",
       "      <td>57.71</td>\n",
       "    </tr>\n",
       "  </tbody>\n",
       "</table>\n",
       "</div>"
      ],
      "text/plain": [
       "         사업장명    년도  직원수  연금보험료\n",
       "0  （주）비바리퍼블리카  2019  310 118.46\n",
       "1  （주）비바리퍼블리카  2018  158  57.71"
      ]
     },
     "execution_count": 1539,
     "metadata": {},
     "output_type": "execute_result"
    }
   ],
   "source": [
    "df_unicorn['연금보험료'] = df_unicorn['연금보험료'].apply(lambda x : x/1000000)\n",
    "df_g = df_unicorn[['사업장명','년도', '직원수','연금보험료']]\n",
    "df_g.head(2)"
   ]
  },
  {
   "cell_type": "code",
   "execution_count": 1527,
   "metadata": {},
   "outputs": [],
   "source": [
    "df_unicorn = df_unicorn.merge(df_unicorn_sales2, on=['사업장명','년도'], how='left')"
   ]
  },
  {
   "cell_type": "code",
   "execution_count": 1528,
   "metadata": {},
   "outputs": [
    {
     "data": {
      "text/html": [
       "<div>\n",
       "<style scoped>\n",
       "    .dataframe tbody tr th:only-of-type {\n",
       "        vertical-align: middle;\n",
       "    }\n",
       "\n",
       "    .dataframe tbody tr th {\n",
       "        vertical-align: top;\n",
       "    }\n",
       "\n",
       "    .dataframe thead th {\n",
       "        text-align: right;\n",
       "    }\n",
       "</style>\n",
       "<table border=\"1\" class=\"dataframe\">\n",
       "  <thead>\n",
       "    <tr style=\"text-align: right;\">\n",
       "      <th></th>\n",
       "      <th>사업장명</th>\n",
       "      <th>업종</th>\n",
       "      <th>적용일자</th>\n",
       "      <th>직원수</th>\n",
       "      <th>연금보험료</th>\n",
       "      <th>신규취득자수</th>\n",
       "      <th>상실가입자수</th>\n",
       "      <th>년도</th>\n",
       "      <th>성장율_직원수</th>\n",
       "      <th>기간내성장율_직원수</th>\n",
       "      <th>연평균성장율_직원수</th>\n",
       "      <th>valuation</th>\n",
       "      <th>매출액</th>\n",
       "    </tr>\n",
       "  </thead>\n",
       "  <tbody>\n",
       "    <tr>\n",
       "      <th>0</th>\n",
       "      <td>（주）비바리퍼블리카</td>\n",
       "      <td>응용 소프트웨어 개발 및 공급업</td>\n",
       "      <td>2013-08-01</td>\n",
       "      <td>310</td>\n",
       "      <td>118457320</td>\n",
       "      <td>18</td>\n",
       "      <td>12</td>\n",
       "      <td>2019</td>\n",
       "      <td>0.96</td>\n",
       "      <td>10.48</td>\n",
       "      <td>0.69</td>\n",
       "      <td>2.60</td>\n",
       "      <td>548.00</td>\n",
       "    </tr>\n",
       "  </tbody>\n",
       "</table>\n",
       "</div>"
      ],
      "text/plain": [
       "         사업장명                 업종        적용일자  직원수      연금보험료  신규취득자수  상실가입자수  \\\n",
       "0  （주）비바리퍼블리카  응용 소프트웨어 개발 및 공급업  2013-08-01  310  118457320      18      12   \n",
       "\n",
       "     년도  성장율_직원수  기간내성장율_직원수  연평균성장율_직원수  valuation    매출액  \n",
       "0  2019     0.96       10.48        0.69       2.60 548.00  "
      ]
     },
     "execution_count": 1528,
     "metadata": {},
     "output_type": "execute_result"
    }
   ],
   "source": [
    "df_unicorn.head(1)"
   ]
  },
  {
   "cell_type": "code",
   "execution_count": 1529,
   "metadata": {},
   "outputs": [],
   "source": [
    "df_unicorn['인당매출액']=df_unicorn['매출액']/df_unicorn['직원수']"
   ]
  },
  {
   "cell_type": "code",
   "execution_count": 1541,
   "metadata": {},
   "outputs": [],
   "source": [
    "#df_unicorn.groupby('사업장명')['인당매출액'].pct_change(periods=1).fillna(0)"
   ]
  },
  {
   "cell_type": "code",
   "execution_count": 1513,
   "metadata": {},
   "outputs": [
    {
     "data": {
      "text/html": [
       "<div>\n",
       "<style scoped>\n",
       "    .dataframe tbody tr th:only-of-type {\n",
       "        vertical-align: middle;\n",
       "    }\n",
       "\n",
       "    .dataframe tbody tr th {\n",
       "        vertical-align: top;\n",
       "    }\n",
       "\n",
       "    .dataframe thead th {\n",
       "        text-align: right;\n",
       "    }\n",
       "</style>\n",
       "<table border=\"1\" class=\"dataframe\">\n",
       "  <thead>\n",
       "    <tr style=\"text-align: right;\">\n",
       "      <th></th>\n",
       "      <th>직원수</th>\n",
       "      <th>연금보험료</th>\n",
       "      <th>신규취득자수</th>\n",
       "      <th>상실가입자수</th>\n",
       "      <th>년도</th>\n",
       "      <th>성장율_직원수</th>\n",
       "      <th>기간내성장율_직원수</th>\n",
       "      <th>연평균성장율_직원수</th>\n",
       "      <th>valuation</th>\n",
       "      <th>매출액</th>\n",
       "      <th>1인당매출액</th>\n",
       "    </tr>\n",
       "  </thead>\n",
       "  <tbody>\n",
       "    <tr>\n",
       "      <th>valuation</th>\n",
       "      <td>0.36</td>\n",
       "      <td>0.44</td>\n",
       "      <td>-0.05</td>\n",
       "      <td>-0.05</td>\n",
       "      <td>-0.00</td>\n",
       "      <td>-0.09</td>\n",
       "      <td>-0.04</td>\n",
       "      <td>-0.24</td>\n",
       "      <td>1.00</td>\n",
       "      <td>0.48</td>\n",
       "      <td>0.02</td>\n",
       "    </tr>\n",
       "  </tbody>\n",
       "</table>\n",
       "</div>"
      ],
      "text/plain": [
       "           직원수  연금보험료  신규취득자수  상실가입자수    년도  성장율_직원수  기간내성장율_직원수  연평균성장율_직원수  \\\n",
       "valuation 0.36   0.44   -0.05   -0.05 -0.00    -0.09       -0.04       -0.24   \n",
       "\n",
       "           valuation  매출액  1인당매출액  \n",
       "valuation       1.00 0.48    0.02  "
      ]
     },
     "execution_count": 1513,
     "metadata": {},
     "output_type": "execute_result"
    }
   ],
   "source": [
    "df_unicorn.corr().filter(regex='valuation').T"
   ]
  },
  {
   "cell_type": "code",
   "execution_count": 1424,
   "metadata": {},
   "outputs": [],
   "source": [
    "dict_unicorn={'주식회사 무신사': 2019,\n",
    " '주식회사쏘카': 2020,\n",
    " '(주)야놀자': 2019,\n",
    " '(주)에이프로젠': 2019,\n",
    " '（주）지피클럽': 2018,\n",
    " '(주)크래프톤': 2018,\n",
    "  '（주）비바리퍼블리카': 2018}"
   ]
  },
  {
   "cell_type": "code",
   "execution_count": 1417,
   "metadata": {},
   "outputs": [],
   "source": [
    "df_unicorn_sales=df_unicorn_sales.reset_index()"
   ]
  },
  {
   "cell_type": "code",
   "execution_count": 1430,
   "metadata": {},
   "outputs": [
    {
     "data": {
      "text/html": [
       "<div>\n",
       "<style scoped>\n",
       "    .dataframe tbody tr th:only-of-type {\n",
       "        vertical-align: middle;\n",
       "    }\n",
       "\n",
       "    .dataframe tbody tr th {\n",
       "        vertical-align: top;\n",
       "    }\n",
       "\n",
       "    .dataframe thead th {\n",
       "        text-align: right;\n",
       "    }\n",
       "</style>\n",
       "<table border=\"1\" class=\"dataframe\">\n",
       "  <thead>\n",
       "    <tr style=\"text-align: right;\">\n",
       "      <th></th>\n",
       "      <th>0</th>\n",
       "      <th>1</th>\n",
       "      <th>2</th>\n",
       "      <th>3</th>\n",
       "      <th>4</th>\n",
       "      <th>5</th>\n",
       "      <th>6</th>\n",
       "      <th>7</th>\n",
       "      <th>8</th>\n",
       "      <th>9</th>\n",
       "    </tr>\n",
       "  </thead>\n",
       "  <tbody>\n",
       "    <tr>\n",
       "      <th>사업장명</th>\n",
       "      <td>쿠팡</td>\n",
       "      <td>(주)크래프톤</td>\n",
       "      <td>（주）비바리퍼블리카</td>\n",
       "      <td>위메프</td>\n",
       "      <td>주식회사 무신사</td>\n",
       "      <td>（주）지피클럽</td>\n",
       "      <td>엘앤피코스메틱</td>\n",
       "      <td>(주)에이프로젠</td>\n",
       "      <td>(주)야놀자</td>\n",
       "      <td>주식회사쏘카</td>\n",
       "    </tr>\n",
       "    <tr>\n",
       "      <th>2016</th>\n",
       "      <td>1130000000.00</td>\n",
       "      <td>NaN</td>\n",
       "      <td>NaN</td>\n",
       "      <td>216500000.00</td>\n",
       "      <td>32900000.00</td>\n",
       "      <td>NaN</td>\n",
       "      <td>188800000.00</td>\n",
       "      <td>NaN</td>\n",
       "      <td>29900000.00</td>\n",
       "      <td>44800000.00</td>\n",
       "    </tr>\n",
       "    <tr>\n",
       "      <th>2017</th>\n",
       "      <td>1919500000.00</td>\n",
       "      <td>37200000.00</td>\n",
       "      <td>3400000.00</td>\n",
       "      <td>369100000.00</td>\n",
       "      <td>47000000.00</td>\n",
       "      <td>NaN</td>\n",
       "      <td>401500000.00</td>\n",
       "      <td>68000000.00</td>\n",
       "      <td>33700000.00</td>\n",
       "      <td>90700000.00</td>\n",
       "    </tr>\n",
       "    <tr>\n",
       "      <th>2018</th>\n",
       "      <td>2680000000</td>\n",
       "      <td>310400000</td>\n",
       "      <td>20000000</td>\n",
       "      <td>473000000</td>\n",
       "      <td>67700000</td>\n",
       "      <td>49700000</td>\n",
       "      <td>315500000</td>\n",
       "      <td>62100000</td>\n",
       "      <td>54500000</td>\n",
       "      <td>121000000</td>\n",
       "    </tr>\n",
       "    <tr>\n",
       "      <th>2019</th>\n",
       "      <td>4340000000</td>\n",
       "      <td>1120000000</td>\n",
       "      <td>54800000</td>\n",
       "      <td>429400000</td>\n",
       "      <td>108100000</td>\n",
       "      <td>513700000</td>\n",
       "      <td>314000000</td>\n",
       "      <td>48100000</td>\n",
       "      <td>73800000</td>\n",
       "      <td>159400000</td>\n",
       "    </tr>\n",
       "  </tbody>\n",
       "</table>\n",
       "</div>"
      ],
      "text/plain": [
       "                 0           1           2            3           4  \\\n",
       "사업장명            쿠팡     (주)크래프톤  （주）비바리퍼블리카          위메프    주식회사 무신사   \n",
       "2016 1130000000.00         NaN         NaN 216500000.00 32900000.00   \n",
       "2017 1919500000.00 37200000.00  3400000.00 369100000.00 47000000.00   \n",
       "2018    2680000000   310400000    20000000    473000000    67700000   \n",
       "2019    4340000000  1120000000    54800000    429400000   108100000   \n",
       "\n",
       "              5            6           7           8           9  \n",
       "사업장명    （주）지피클럽      엘앤피코스메틱    (주)에이프로젠      (주)야놀자      주식회사쏘카  \n",
       "2016        NaN 188800000.00         NaN 29900000.00 44800000.00  \n",
       "2017        NaN 401500000.00 68000000.00 33700000.00 90700000.00  \n",
       "2018   49700000    315500000    62100000    54500000   121000000  \n",
       "2019  513700000    314000000    48100000    73800000   159400000  "
      ]
     },
     "execution_count": 1430,
     "metadata": {},
     "output_type": "execute_result"
    }
   ],
   "source": [
    "df_unicorn_sales.T"
   ]
  },
  {
   "cell_type": "code",
   "execution_count": 1411,
   "metadata": {
    "scrolled": true
   },
   "outputs": [
    {
     "data": {
      "text/plain": [
       "dict_items([('주식회사 무신사', 2019), ('（주）비바리퍼블리카', 2018), ('주식회사쏘카', 2020), ('(주)야놀자', 2019), ('(주)에이프로젠', 2019), ('（주）지피클럽', 2018), ('(주)크래프톤', 2018)])"
      ]
     },
     "execution_count": 1411,
     "metadata": {},
     "output_type": "execute_result"
    }
   ],
   "source": [
    "dict_unicorn.items()"
   ]
  },
  {
   "cell_type": "code",
   "execution_count": 1542,
   "metadata": {
    "scrolled": false
   },
   "outputs": [],
   "source": [
    "#df_unicorn_sales2"
   ]
  },
  {
   "cell_type": "code",
   "execution_count": 1460,
   "metadata": {
    "scrolled": true
   },
   "outputs": [
    {
     "name": "stdout",
     "output_type": "stream",
     "text": [
      "<class 'pandas.core.frame.DataFrame'>\n",
      "RangeIndex: 40 entries, 0 to 39\n",
      "Data columns (total 3 columns):\n",
      " #   Column  Non-Null Count  Dtype  \n",
      "---  ------  --------------  -----  \n",
      " 0   사업장명    40 non-null     object \n",
      " 1   년도      40 non-null     int64  \n",
      " 2   매출액     35 non-null     float64\n",
      "dtypes: float64(1), int64(1), object(1)\n",
      "memory usage: 1.1+ KB\n"
     ]
    }
   ],
   "source": [
    "df_unicorn_sales2.info()"
   ]
  },
  {
   "cell_type": "code",
   "execution_count": 1540,
   "metadata": {
    "scrolled": false
   },
   "outputs": [
    {
     "data": {
      "image/png": "[encoded data removed]",
      "text/plain": [
       "<Figure size 432x288 with 1 Axes>"
      ]
     },
     "metadata": {
      "needs_background": "light"
     },
     "output_type": "display_data"
    },
    {
     "data": {
      "image/png": "[encoded data removed]",
      "text/plain": [
       "<Figure size 432x288 with 1 Axes>"
      ]
     },
     "metadata": {
      "needs_background": "light"
     },
     "output_type": "display_data"
    },
    {
     "data": {
      "image/png": "[encoded data removed]",
      "text/plain": [
       "<Figure size 432x288 with 1 Axes>"
      ]
     },
     "metadata": {
      "needs_background": "light"
     },
     "output_type": "display_data"
    },
    {
     "data": {
      "image/png": "[encoded data removed]",
      "text/plain": [
       "<Figure size 432x288 with 1 Axes>"
      ]
     },
     "metadata": {
      "needs_background": "light"
     },
     "output_type": "display_data"
    },
    {
     "data": {
      "image/png": "[encoded data removed]",
      "text/plain": [
       "<Figure size 432x288 with 1 Axes>"
      ]
     },
     "metadata": {
      "needs_background": "light"
     },
     "output_type": "display_data"
    },
    {
     "data": {
      "image/png": "[encoded data removed]",
      "text/plain": [
       "<Figure size 432x288 with 1 Axes>"
      ]
     },
     "metadata": {
      "needs_background": "light"
     },
     "output_type": "display_data"
    },
    {
     "data": {
      "image/png": "[encoded data removed]",
      "text/plain": [
       "<Figure size 432x288 with 1 Axes>"
      ]
     },
     "metadata": {
      "needs_background": "light"
     },
     "output_type": "display_data"
    }
   ],
   "source": [
    "for company, year in dict_unicorn.items():\n",
    "    df_g =df_unicorn[['사업장명','년도', '직원수','연금보험료']]\n",
    "    df_g = df_g[df_g['사업장명'] == company]\n",
    "    df_s = df_unicorn_sales2[df_unicorn_sales2['사업장명']==company]\n",
    "    \n",
    "    # 매출액 변화 그래프 그리기\n",
    "    #plt.plot(df_s['년도'], df_s['매출액'], label='매출액')          # 억원\n",
    "    plt.plot(df_g['년도'], df_g['직원수'], label='직원수')          \n",
    "    plt.plot(df_g['년도'], df_g['연금보험료'], label='연금보험료')   # 만원\n",
    "\n",
    "    plt.title(f\"{company}\")\n",
    "    plt.xlabel('년도')\n",
    "    plt.ylabel('직원수/매출액/연금보험료')\n",
    "    plt.legend()\n",
    "    plt.locator_params(integer=True)\n",
    "    \n",
    "    # 유니콘 등재년도 세로줄로 표시\n",
    "    plt.axvline(x=year, color = 'r')\n",
    "  \n",
    "    plt.show()"
   ]
  },
  {
   "cell_type": "code",
   "execution_count": 190,
   "metadata": {
    "scrolled": true
   },
   "outputs": [
    {
     "data": {
      "application/vnd.plotly.v1+json": {
       "config": {
        "plotlyServerURL": "https://plot.ly"
       },
       "data": [
        {
         "hovertemplate": "<b>%{hovertext}</b><br><br>사업장명=（주）비바리퍼블리카<br>년도=%{x}<br>직원수=%{y}<extra></extra>",
         "hovertext": [
          "（주）비바리퍼블리카",
          "（주）비바리퍼블리카",
          "（주）비바리퍼블리카",
          "（주）비바리퍼블리카",
          "（주）비바리퍼블리카"
         ],
         "legendgroup": "（주）비바리퍼블리카",
         "line": {
          "color": "#636efa",
          "dash": "solid"
         },
         "mode": "lines",
         "name": "（주）비바리퍼블리카",
         "orientation": "v",
         "showlegend": true,
         "type": "scatter",
         "x": [
          2019,
          2018,
          2017,
          2016,
          2015
         ],
         "xaxis": "x",
         "y": [
          310,
          158,
          103,
          60,
          27
         ],
         "yaxis": "y"
        },
        {
         "hovertemplate": "<b>%{hovertext}</b><br><br>사업장명=주식회사쏘카<br>년도=%{x}<br>직원수=%{y}<extra></extra>",
         "hovertext": [
          "주식회사쏘카",
          "주식회사쏘카",
          "주식회사쏘카",
          "주식회사쏘카",
          "주식회사쏘카"
         ],
         "legendgroup": "주식회사쏘카",
         "line": {
          "color": "#EF553B",
          "dash": "solid"
         },
         "mode": "lines",
         "name": "주식회사쏘카",
         "orientation": "v",
         "showlegend": true,
         "type": "scatter",
         "x": [
          2019,
          2018,
          2017,
          2016,
          2015
         ],
         "xaxis": "x",
         "y": [
          364,
          281,
          287,
          271,
          89
         ],
         "yaxis": "y"
        },
        {
         "hovertemplate": "<b>%{hovertext}</b><br><br>사업장명=주식회사 무신사<br>년도=%{x}<br>직원수=%{y}<extra></extra>",
         "hovertext": [
          "주식회사 무신사",
          "주식회사 무신사",
          "주식회사 무신사",
          "주식회사 무신사",
          "주식회사 무신사"
         ],
         "legendgroup": "주식회사 무신사",
         "line": {
          "color": "#00cc96",
          "dash": "solid"
         },
         "mode": "lines",
         "name": "주식회사 무신사",
         "orientation": "v",
         "showlegend": true,
         "type": "scatter",
         "x": [
          2019,
          2018,
          2017,
          2016,
          2015
         ],
         "xaxis": "x",
         "y": [
          332,
          174,
          100,
          84,
          61
         ],
         "yaxis": "y"
        },
        {
         "hovertemplate": "<b>%{hovertext}</b><br><br>사업장명=(주)크래프톤<br>년도=%{x}<br>직원수=%{y}<extra></extra>",
         "hovertext": [
          "(주)크래프톤",
          "(주)크래프톤",
          "(주)크래프톤",
          "(주)크래프톤",
          "(주)크래프톤"
         ],
         "legendgroup": "(주)크래프톤",
         "line": {
          "color": "#ab63fa",
          "dash": "solid"
         },
         "mode": "lines",
         "name": "(주)크래프톤",
         "orientation": "v",
         "showlegend": true,
         "type": "scatter",
         "x": [
          2019,
          2018,
          2017,
          2016,
          2015
         ],
         "xaxis": "x",
         "y": [
          718,
          570,
          404,
          257,
          244
         ],
         "yaxis": "y"
        },
        {
         "hovertemplate": "<b>%{hovertext}</b><br><br>사업장명=(주)야놀자<br>년도=%{x}<br>직원수=%{y}<extra></extra>",
         "hovertext": [
          "(주)야놀자",
          "(주)야놀자",
          "(주)야놀자",
          "(주)야놀자",
          "(주)야놀자"
         ],
         "legendgroup": "(주)야놀자",
         "line": {
          "color": "#FFA15A",
          "dash": "solid"
         },
         "mode": "lines",
         "name": "(주)야놀자",
         "orientation": "v",
         "showlegend": true,
         "type": "scatter",
         "x": [
          2019,
          2018,
          2017,
          2016,
          2015
         ],
         "xaxis": "x",
         "y": [
          752,
          414,
          281,
          218,
          130
         ],
         "yaxis": "y"
        },
        {
         "hovertemplate": "<b>%{hovertext}</b><br><br>사업장명=(주)에이프로젠<br>년도=%{x}<br>직원수=%{y}<extra></extra>",
         "hovertext": [
          "(주)에이프로젠",
          "(주)에이프로젠",
          "(주)에이프로젠",
          "(주)에이프로젠",
          "(주)에이프로젠"
         ],
         "legendgroup": "(주)에이프로젠",
         "line": {
          "color": "#19d3f3",
          "dash": "solid"
         },
         "mode": "lines",
         "name": "(주)에이프로젠",
         "orientation": "v",
         "showlegend": true,
         "type": "scatter",
         "x": [
          2019,
          2018,
          2017,
          2016,
          2015
         ],
         "xaxis": "x",
         "y": [
          178,
          128,
          145,
          119,
          85
         ],
         "yaxis": "y"
        },
        {
         "hovertemplate": "<b>%{hovertext}</b><br><br>사업장명=（주）지피클럽<br>년도=%{x}<br>직원수=%{y}<extra></extra>",
         "hovertext": [
          "（주）지피클럽",
          "（주）지피클럽",
          "（주）지피클럽",
          "（주）지피클럽",
          "（주）지피클럽"
         ],
         "legendgroup": "（주）지피클럽",
         "line": {
          "color": "#FF6692",
          "dash": "solid"
         },
         "mode": "lines",
         "name": "（주）지피클럽",
         "orientation": "v",
         "showlegend": true,
         "type": "scatter",
         "x": [
          2019,
          2018,
          2017,
          2016,
          2015
         ],
         "xaxis": "x",
         "y": [
          113,
          47,
          12,
          13,
          8
         ],
         "yaxis": "y"
        }
       ],
       "layout": {
        "autosize": false,
        "height": 500,
        "legend": {
         "title": {
          "text": "사업장명"
         },
         "tracegroupgap": 0
        },
        "template": {
         "data": {
          "bar": [
           {
            "error_x": {
             "color": "#2a3f5f"
            },
            "error_y": {
             "color": "#2a3f5f"
            },
            "marker": {
             "line": {
              "color": "#E5ECF6",
              "width": 0.5
             }
            },
            "type": "bar"
           }
          ],
          "barpolar": [
           {
            "marker": {
             "line": {
              "color": "#E5ECF6",
              "width": 0.5
             }
            },
            "type": "barpolar"
           }
          ],
          "carpet": [
           {
            "aaxis": {
             "endlinecolor": "#2a3f5f",
             "gridcolor": "white",
             "linecolor": "white",
             "minorgridcolor": "white",
             "startlinecolor": "#2a3f5f"
            },
            "baxis": {
             "endlinecolor": "#2a3f5f",
             "gridcolor": "white",
             "linecolor": "white",
             "minorgridcolor": "white",
             "startlinecolor": "#2a3f5f"
            },
            "type": "carpet"
           }
          ],
          "choropleth": [
           {
            "colorbar": {
             "outlinewidth": 0,
             "ticks": ""
            },
            "type": "choropleth"
           }
          ],
          "contour": [
           {
            "colorbar": {
             "outlinewidth": 0,
             "ticks": ""
            },
            "colorscale": [
             [
              0,
              "#0d0887"
             ],
             [
              0.1111111111111111,
              "#46039f"
             ],
             [
              0.2222222222222222,
              "#7201a8"
             ],
             [
              0.3333333333333333,
              "#9c179e"
             ],
             [
              0.4444444444444444,
              "#bd3786"
             ],
             [
              0.5555555555555556,
              "#d8576b"
             ],
             [
              0.6666666666666666,
              "#ed7953"
             ],
             [
              0.7777777777777778,
              "#fb9f3a"
             ],
             [
              0.8888888888888888,
              "#fdca26"
             ],
             [
              1,
              "#f0f921"
             ]
            ],
            "type": "contour"
           }
          ],
          "contourcarpet": [
           {
            "colorbar": {
             "outlinewidth": 0,
             "ticks": ""
            },
            "type": "contourcarpet"
           }
          ],
          "heatmap": [
           {
            "colorbar": {
             "outlinewidth": 0,
             "ticks": ""
            },
            "colorscale": [
             [
              0,
              "#0d0887"
             ],
             [
              0.1111111111111111,
              "#46039f"
             ],
             [
              0.2222222222222222,
              "#7201a8"
             ],
             [
              0.3333333333333333,
              "#9c179e"
             ],
             [
              0.4444444444444444,
              "#bd3786"
             ],
             [
              0.5555555555555556,
              "#d8576b"
             ],
             [
              0.6666666666666666,
              "#ed7953"
             ],
             [
              0.7777777777777778,
              "#fb9f3a"
             ],
             [
              0.8888888888888888,
              "#fdca26"
             ],
             [
              1,
              "#f0f921"
             ]
            ],
            "type": "heatmap"
           }
          ],
          "heatmapgl": [
           {
            "colorbar": {
             "outlinewidth": 0,
             "ticks": ""
            },
            "colorscale": [
             [
              0,
              "#0d0887"
             ],
             [
              0.1111111111111111,
              "#46039f"
             ],
             [
              0.2222222222222222,
              "#7201a8"
             ],
             [
              0.3333333333333333,
              "#9c179e"
             ],
             [
              0.4444444444444444,
              "#bd3786"
             ],
             [
              0.5555555555555556,
              "#d8576b"
             ],
             [
              0.6666666666666666,
              "#ed7953"
             ],
             [
              0.7777777777777778,
              "#fb9f3a"
             ],
             [
              0.8888888888888888,
              "#fdca26"
             ],
             [
              1,
              "#f0f921"
             ]
            ],
            "type": "heatmapgl"
           }
          ],
          "histogram": [
           {
            "marker": {
             "colorbar": {
              "outlinewidth": 0,
              "ticks": ""
             }
            },
            "type": "histogram"
           }
          ],
          "histogram2d": [
           {
            "colorbar": {
             "outlinewidth": 0,
             "ticks": ""
            },
            "colorscale": [
             [
              0,
              "#0d0887"
             ],
             [
              0.1111111111111111,
              "#46039f"
             ],
             [
              0.2222222222222222,
              "#7201a8"
             ],
             [
              0.3333333333333333,
              "#9c179e"
             ],
             [
              0.4444444444444444,
              "#bd3786"
             ],
             [
              0.5555555555555556,
              "#d8576b"
             ],
             [
              0.6666666666666666,
              "#ed7953"
             ],
             [
              0.7777777777777778,
              "#fb9f3a"
             ],
             [
              0.8888888888888888,
              "#fdca26"
             ],
             [
              1,
              "#f0f921"
             ]
            ],
            "type": "histogram2d"
           }
          ],
          "histogram2dcontour": [
           {
            "colorbar": {
             "outlinewidth": 0,
             "ticks": ""
            },
            "colorscale": [
             [
              0,
              "#0d0887"
             ],
             [
              0.1111111111111111,
              "#46039f"
             ],
             [
              0.2222222222222222,
              "#7201a8"
             ],
             [
              0.3333333333333333,
              "#9c179e"
             ],
             [
              0.4444444444444444,
              "#bd3786"
             ],
             [
              0.5555555555555556,
              "#d8576b"
             ],
             [
              0.6666666666666666,
              "#ed7953"
             ],
             [
              0.7777777777777778,
              "#fb9f3a"
             ],
             [
              0.8888888888888888,
              "#fdca26"
             ],
             [
              1,
              "#f0f921"
             ]
            ],
            "type": "histogram2dcontour"
           }
          ],
          "mesh3d": [
           {
            "colorbar": {
             "outlinewidth": 0,
             "ticks": ""
            },
            "type": "mesh3d"
           }
          ],
          "parcoords": [
           {
            "line": {
             "colorbar": {
              "outlinewidth": 0,
              "ticks": ""
             }
            },
            "type": "parcoords"
           }
          ],
          "pie": [
           {
            "automargin": true,
            "type": "pie"
           }
          ],
          "scatter": [
           {
            "marker": {
             "colorbar": {
              "outlinewidth": 0,
              "ticks": ""
             }
            },
            "type": "scatter"
           }
          ],
          "scatter3d": [
           {
            "line": {
             "colorbar": {
              "outlinewidth": 0,
              "ticks": ""
             }
            },
            "marker": {
             "colorbar": {
              "outlinewidth": 0,
              "ticks": ""
             }
            },
            "type": "scatter3d"
           }
          ],
          "scattercarpet": [
           {
            "marker": {
             "colorbar": {
              "outlinewidth": 0,
              "ticks": ""
             }
            },
            "type": "scattercarpet"
           }
          ],
          "scattergeo": [
           {
            "marker": {
             "colorbar": {
              "outlinewidth": 0,
              "ticks": ""
             }
            },
            "type": "scattergeo"
           }
          ],
          "scattergl": [
           {
            "marker": {
             "colorbar": {
              "outlinewidth": 0,
              "ticks": ""
             }
            },
            "type": "scattergl"
           }
          ],
          "scattermapbox": [
           {
            "marker": {
             "colorbar": {
              "outlinewidth": 0,
              "ticks": ""
             }
            },
            "type": "scattermapbox"
           }
          ],
          "scatterpolar": [
           {
            "marker": {
             "colorbar": {
              "outlinewidth": 0,
              "ticks": ""
             }
            },
            "type": "scatterpolar"
           }
          ],
          "scatterpolargl": [
           {
            "marker": {
             "colorbar": {
              "outlinewidth": 0,
              "ticks": ""
             }
            },
            "type": "scatterpolargl"
           }
          ],
          "scatterternary": [
           {
            "marker": {
             "colorbar": {
              "outlinewidth": 0,
              "ticks": ""
             }
            },
            "type": "scatterternary"
           }
          ],
          "surface": [
           {
            "colorbar": {
             "outlinewidth": 0,
             "ticks": ""
            },
            "colorscale": [
             [
              0,
              "#0d0887"
             ],
             [
              0.1111111111111111,
              "#46039f"
             ],
             [
              0.2222222222222222,
              "#7201a8"
             ],
             [
              0.3333333333333333,
              "#9c179e"
             ],
             [
              0.4444444444444444,
              "#bd3786"
             ],
             [
              0.5555555555555556,
              "#d8576b"
             ],
             [
              0.6666666666666666,
              "#ed7953"
             ],
             [
              0.7777777777777778,
              "#fb9f3a"
             ],
             [
              0.8888888888888888,
              "#fdca26"
             ],
             [
              1,
              "#f0f921"
             ]
            ],
            "type": "surface"
           }
          ],
          "table": [
           {
            "cells": {
             "fill": {
              "color": "#EBF0F8"
             },
             "line": {
              "color": "white"
             }
            },
            "header": {
             "fill": {
              "color": "#C8D4E3"
             },
             "line": {
              "color": "white"
             }
            },
            "type": "table"
           }
          ]
         },
         "layout": {
          "annotationdefaults": {
           "arrowcolor": "#2a3f5f",
           "arrowhead": 0,
           "arrowwidth": 1
          },
          "autotypenumbers": "strict",
          "coloraxis": {
           "colorbar": {
            "outlinewidth": 0,
            "ticks": ""
           }
          },
          "colorscale": {
           "diverging": [
            [
             0,
             "#8e0152"
            ],
            [
             0.1,
             "#c51b7d"
            ],
            [
             0.2,
             "#de77ae"
            ],
            [
             0.3,
             "#f1b6da"
            ],
            [
             0.4,
             "#fde0ef"
            ],
            [
             0.5,
             "#f7f7f7"
            ],
            [
             0.6,
             "#e6f5d0"
            ],
            [
             0.7,
             "#b8e186"
            ],
            [
             0.8,
             "#7fbc41"
            ],
            [
             0.9,
             "#4d9221"
            ],
            [
             1,
             "#276419"
            ]
           ],
           "sequential": [
            [
             0,
             "#0d0887"
            ],
            [
             0.1111111111111111,
             "#46039f"
            ],
            [
             0.2222222222222222,
             "#7201a8"
            ],
            [
             0.3333333333333333,
             "#9c179e"
            ],
            [
             0.4444444444444444,
             "#bd3786"
            ],
            [
             0.5555555555555556,
             "#d8576b"
            ],
            [
             0.6666666666666666,
             "#ed7953"
            ],
            [
             0.7777777777777778,
             "#fb9f3a"
            ],
            [
             0.8888888888888888,
             "#fdca26"
            ],
            [
             1,
             "#f0f921"
            ]
           ],
           "sequentialminus": [
            [
             0,
             "#0d0887"
            ],
            [
             0.1111111111111111,
             "#46039f"
            ],
            [
             0.2222222222222222,
             "#7201a8"
            ],
            [
             0.3333333333333333,
             "#9c179e"
            ],
            [
             0.4444444444444444,
             "#bd3786"
            ],
            [
             0.5555555555555556,
             "#d8576b"
            ],
            [
             0.6666666666666666,
             "#ed7953"
            ],
            [
             0.7777777777777778,
             "#fb9f3a"
            ],
            [
             0.8888888888888888,
             "#fdca26"
            ],
            [
             1,
             "#f0f921"
            ]
           ]
          },
          "colorway": [
           "#636efa",
           "#EF553B",
           "#00cc96",
           "#ab63fa",
           "#FFA15A",
           "#19d3f3",
           "#FF6692",
           "#B6E880",
           "#FF97FF",
           "#FECB52"
          ],
          "font": {
           "color": "#2a3f5f"
          },
          "geo": {
           "bgcolor": "white",
           "lakecolor": "white",
           "landcolor": "#E5ECF6",
           "showlakes": true,
           "showland": true,
           "subunitcolor": "white"
          },
          "hoverlabel": {
           "align": "left"
          },
          "hovermode": "closest",
          "mapbox": {
           "style": "light"
          },
          "paper_bgcolor": "white",
          "plot_bgcolor": "#E5ECF6",
          "polar": {
           "angularaxis": {
            "gridcolor": "white",
            "linecolor": "white",
            "ticks": ""
           },
           "bgcolor": "#E5ECF6",
           "radialaxis": {
            "gridcolor": "white",
            "linecolor": "white",
            "ticks": ""
           }
          },
          "scene": {
           "xaxis": {
            "backgroundcolor": "#E5ECF6",
            "gridcolor": "white",
            "gridwidth": 2,
            "linecolor": "white",
            "showbackground": true,
            "ticks": "",
            "zerolinecolor": "white"
           },
           "yaxis": {
            "backgroundcolor": "#E5ECF6",
            "gridcolor": "white",
            "gridwidth": 2,
            "linecolor": "white",
            "showbackground": true,
            "ticks": "",
            "zerolinecolor": "white"
           },
           "zaxis": {
            "backgroundcolor": "#E5ECF6",
            "gridcolor": "white",
            "gridwidth": 2,
            "linecolor": "white",
            "showbackground": true,
            "ticks": "",
            "zerolinecolor": "white"
           }
          },
          "shapedefaults": {
           "line": {
            "color": "#2a3f5f"
           }
          },
          "ternary": {
           "aaxis": {
            "gridcolor": "white",
            "linecolor": "white",
            "ticks": ""
           },
           "baxis": {
            "gridcolor": "white",
            "linecolor": "white",
            "ticks": ""
           },
           "bgcolor": "#E5ECF6",
           "caxis": {
            "gridcolor": "white",
            "linecolor": "white",
            "ticks": ""
           }
          },
          "title": {
           "x": 0.05
          },
          "xaxis": {
           "automargin": true,
           "gridcolor": "white",
           "linecolor": "white",
           "ticks": "",
           "title": {
            "standoff": 15
           },
           "zerolinecolor": "white",
           "zerolinewidth": 2
          },
          "yaxis": {
           "automargin": true,
           "gridcolor": "white",
           "linecolor": "white",
           "ticks": "",
           "title": {
            "standoff": 15
           },
           "zerolinecolor": "white",
           "zerolinewidth": 2
          }
         }
        },
        "title": {
         "text": "유니콘 기업 연도별 국민연금 가입자 수"
        },
        "width": 600,
        "xaxis": {
         "anchor": "y",
         "domain": [
          0,
          1
         ],
         "title": {
          "text": "년도"
         }
        },
        "yaxis": {
         "anchor": "x",
         "domain": [
          0,
          1
         ],
         "title": {
          "text": "직원수"
         }
        }
       }
      },
      "text/html": [
       "<div>                            <div id=\"ad3a033a-5ba7-4e4a-97f1-b11fa6c91e21\" class=\"plotly-graph-div\" style=\"height:500px; width:600px;\"></div>            <script type=\"text/javascript\">                require([\"plotly\"], function(Plotly) {                    window.PLOTLYENV=window.PLOTLYENV || {};                                    if (document.getElementById(\"ad3a033a-5ba7-4e4a-97f1-b11fa6c91e21\")) {                    Plotly.newPlot(                        \"ad3a033a-5ba7-4e4a-97f1-b11fa6c91e21\",                        [{\"hovertemplate\": \"<b>%{hovertext}</b><br><br>\\uc0ac\\uc5c5\\uc7a5\\uba85=\\uff08\\uc8fc\\uff09\\ube44\\ubc14\\ub9ac\\ud37c\\ube14\\ub9ac\\uce74<br>\\ub144\\ub3c4=%{x}<br>\\uc9c1\\uc6d0\\uc218=%{y}<extra></extra>\", \"hovertext\": [\"\\uff08\\uc8fc\\uff09\\ube44\\ubc14\\ub9ac\\ud37c\\ube14\\ub9ac\\uce74\", \"\\uff08\\uc8fc\\uff09\\ube44\\ubc14\\ub9ac\\ud37c\\ube14\\ub9ac\\uce74\", \"\\uff08\\uc8fc\\uff09\\ube44\\ubc14\\ub9ac\\ud37c\\ube14\\ub9ac\\uce74\", \"\\uff08\\uc8fc\\uff09\\ube44\\ubc14\\ub9ac\\ud37c\\ube14\\ub9ac\\uce74\", \"\\uff08\\uc8fc\\uff09\\ube44\\ubc14\\ub9ac\\ud37c\\ube14\\ub9ac\\uce74\"], \"legendgroup\": \"\\uff08\\uc8fc\\uff09\\ube44\\ubc14\\ub9ac\\ud37c\\ube14\\ub9ac\\uce74\", \"line\": {\"color\": \"#636efa\", \"dash\": \"solid\"}, \"mode\": \"lines\", \"name\": \"\\uff08\\uc8fc\\uff09\\ube44\\ubc14\\ub9ac\\ud37c\\ube14\\ub9ac\\uce74\", \"orientation\": \"v\", \"showlegend\": true, \"type\": \"scatter\", \"x\": [2019, 2018, 2017, 2016, 2015], \"xaxis\": \"x\", \"y\": [310, 158, 103, 60, 27], \"yaxis\": \"y\"}, {\"hovertemplate\": \"<b>%{hovertext}</b><br><br>\\uc0ac\\uc5c5\\uc7a5\\uba85=\\uc8fc\\uc2dd\\ud68c\\uc0ac\\uc3d8\\uce74<br>\\ub144\\ub3c4=%{x}<br>\\uc9c1\\uc6d0\\uc218=%{y}<extra></extra>\", \"hovertext\": [\"\\uc8fc\\uc2dd\\ud68c\\uc0ac\\uc3d8\\uce74\", \"\\uc8fc\\uc2dd\\ud68c\\uc0ac\\uc3d8\\uce74\", \"\\uc8fc\\uc2dd\\ud68c\\uc0ac\\uc3d8\\uce74\", \"\\uc8fc\\uc2dd\\ud68c\\uc0ac\\uc3d8\\uce74\", \"\\uc8fc\\uc2dd\\ud68c\\uc0ac\\uc3d8\\uce74\"], \"legendgroup\": \"\\uc8fc\\uc2dd\\ud68c\\uc0ac\\uc3d8\\uce74\", \"line\": {\"color\": \"#EF553B\", \"dash\": \"solid\"}, \"mode\": \"lines\", \"name\": \"\\uc8fc\\uc2dd\\ud68c\\uc0ac\\uc3d8\\uce74\", \"orientation\": \"v\", \"showlegend\": true, \"type\": \"scatter\", \"x\": [2019, 2018, 2017, 2016, 2015], \"xaxis\": \"x\", \"y\": [364, 281, 287, 271, 89], \"yaxis\": \"y\"}, {\"hovertemplate\": \"<b>%{hovertext}</b><br><br>\\uc0ac\\uc5c5\\uc7a5\\uba85=\\uc8fc\\uc2dd\\ud68c\\uc0ac \\ubb34\\uc2e0\\uc0ac<br>\\ub144\\ub3c4=%{x}<br>\\uc9c1\\uc6d0\\uc218=%{y}<extra></extra>\", \"hovertext\": [\"\\uc8fc\\uc2dd\\ud68c\\uc0ac \\ubb34\\uc2e0\\uc0ac\", \"\\uc8fc\\uc2dd\\ud68c\\uc0ac \\ubb34\\uc2e0\\uc0ac\", \"\\uc8fc\\uc2dd\\ud68c\\uc0ac \\ubb34\\uc2e0\\uc0ac\", \"\\uc8fc\\uc2dd\\ud68c\\uc0ac \\ubb34\\uc2e0\\uc0ac\", \"\\uc8fc\\uc2dd\\ud68c\\uc0ac \\ubb34\\uc2e0\\uc0ac\"], \"legendgroup\": \"\\uc8fc\\uc2dd\\ud68c\\uc0ac \\ubb34\\uc2e0\\uc0ac\", \"line\": {\"color\": \"#00cc96\", \"dash\": \"solid\"}, \"mode\": \"lines\", \"name\": \"\\uc8fc\\uc2dd\\ud68c\\uc0ac \\ubb34\\uc2e0\\uc0ac\", \"orientation\": \"v\", \"showlegend\": true, \"type\": \"scatter\", \"x\": [2019, 2018, 2017, 2016, 2015], \"xaxis\": \"x\", \"y\": [332, 174, 100, 84, 61], \"yaxis\": \"y\"}, {\"hovertemplate\": \"<b>%{hovertext}</b><br><br>\\uc0ac\\uc5c5\\uc7a5\\uba85=(\\uc8fc)\\ud06c\\ub798\\ud504\\ud1a4<br>\\ub144\\ub3c4=%{x}<br>\\uc9c1\\uc6d0\\uc218=%{y}<extra></extra>\", \"hovertext\": [\"(\\uc8fc)\\ud06c\\ub798\\ud504\\ud1a4\", \"(\\uc8fc)\\ud06c\\ub798\\ud504\\ud1a4\", \"(\\uc8fc)\\ud06c\\ub798\\ud504\\ud1a4\", \"(\\uc8fc)\\ud06c\\ub798\\ud504\\ud1a4\", \"(\\uc8fc)\\ud06c\\ub798\\ud504\\ud1a4\"], \"legendgroup\": \"(\\uc8fc)\\ud06c\\ub798\\ud504\\ud1a4\", \"line\": {\"color\": \"#ab63fa\", \"dash\": \"solid\"}, \"mode\": \"lines\", \"name\": \"(\\uc8fc)\\ud06c\\ub798\\ud504\\ud1a4\", \"orientation\": \"v\", \"showlegend\": true, \"type\": \"scatter\", \"x\": [2019, 2018, 2017, 2016, 2015], \"xaxis\": \"x\", \"y\": [718, 570, 404, 257, 244], \"yaxis\": \"y\"}, {\"hovertemplate\": \"<b>%{hovertext}</b><br><br>\\uc0ac\\uc5c5\\uc7a5\\uba85=(\\uc8fc)\\uc57c\\ub180\\uc790<br>\\ub144\\ub3c4=%{x}<br>\\uc9c1\\uc6d0\\uc218=%{y}<extra></extra>\", \"hovertext\": [\"(\\uc8fc)\\uc57c\\ub180\\uc790\", \"(\\uc8fc)\\uc57c\\ub180\\uc790\", \"(\\uc8fc)\\uc57c\\ub180\\uc790\", \"(\\uc8fc)\\uc57c\\ub180\\uc790\", \"(\\uc8fc)\\uc57c\\ub180\\uc790\"], \"legendgroup\": \"(\\uc8fc)\\uc57c\\ub180\\uc790\", \"line\": {\"color\": \"#FFA15A\", \"dash\": \"solid\"}, \"mode\": \"lines\", \"name\": \"(\\uc8fc)\\uc57c\\ub180\\uc790\", \"orientation\": \"v\", \"showlegend\": true, \"type\": \"scatter\", \"x\": [2019, 2018, 2017, 2016, 2015], \"xaxis\": \"x\", \"y\": [752, 414, 281, 218, 130], \"yaxis\": \"y\"}, {\"hovertemplate\": \"<b>%{hovertext}</b><br><br>\\uc0ac\\uc5c5\\uc7a5\\uba85=(\\uc8fc)\\uc5d0\\uc774\\ud504\\ub85c\\uc820<br>\\ub144\\ub3c4=%{x}<br>\\uc9c1\\uc6d0\\uc218=%{y}<extra></extra>\", \"hovertext\": [\"(\\uc8fc)\\uc5d0\\uc774\\ud504\\ub85c\\uc820\", \"(\\uc8fc)\\uc5d0\\uc774\\ud504\\ub85c\\uc820\", \"(\\uc8fc)\\uc5d0\\uc774\\ud504\\ub85c\\uc820\", \"(\\uc8fc)\\uc5d0\\uc774\\ud504\\ub85c\\uc820\", \"(\\uc8fc)\\uc5d0\\uc774\\ud504\\ub85c\\uc820\"], \"legendgroup\": \"(\\uc8fc)\\uc5d0\\uc774\\ud504\\ub85c\\uc820\", \"line\": {\"color\": \"#19d3f3\", \"dash\": \"solid\"}, \"mode\": \"lines\", \"name\": \"(\\uc8fc)\\uc5d0\\uc774\\ud504\\ub85c\\uc820\", \"orientation\": \"v\", \"showlegend\": true, \"type\": \"scatter\", \"x\": [2019, 2018, 2017, 2016, 2015], \"xaxis\": \"x\", \"y\": [178, 128, 145, 119, 85], \"yaxis\": \"y\"}, {\"hovertemplate\": \"<b>%{hovertext}</b><br><br>\\uc0ac\\uc5c5\\uc7a5\\uba85=\\uff08\\uc8fc\\uff09\\uc9c0\\ud53c\\ud074\\ub7fd<br>\\ub144\\ub3c4=%{x}<br>\\uc9c1\\uc6d0\\uc218=%{y}<extra></extra>\", \"hovertext\": [\"\\uff08\\uc8fc\\uff09\\uc9c0\\ud53c\\ud074\\ub7fd\", \"\\uff08\\uc8fc\\uff09\\uc9c0\\ud53c\\ud074\\ub7fd\", \"\\uff08\\uc8fc\\uff09\\uc9c0\\ud53c\\ud074\\ub7fd\", \"\\uff08\\uc8fc\\uff09\\uc9c0\\ud53c\\ud074\\ub7fd\", \"\\uff08\\uc8fc\\uff09\\uc9c0\\ud53c\\ud074\\ub7fd\"], \"legendgroup\": \"\\uff08\\uc8fc\\uff09\\uc9c0\\ud53c\\ud074\\ub7fd\", \"line\": {\"color\": \"#FF6692\", \"dash\": \"solid\"}, \"mode\": \"lines\", \"name\": \"\\uff08\\uc8fc\\uff09\\uc9c0\\ud53c\\ud074\\ub7fd\", \"orientation\": \"v\", \"showlegend\": true, \"type\": \"scatter\", \"x\": [2019, 2018, 2017, 2016, 2015], \"xaxis\": \"x\", \"y\": [113, 47, 12, 13, 8], \"yaxis\": \"y\"}],                        {\"autosize\": false, \"height\": 500, \"legend\": {\"title\": {\"text\": \"\\uc0ac\\uc5c5\\uc7a5\\uba85\"}, \"tracegroupgap\": 0}, \"template\": {\"data\": {\"bar\": [{\"error_x\": {\"color\": \"#2a3f5f\"}, \"error_y\": {\"color\": \"#2a3f5f\"}, \"marker\": {\"line\": {\"color\": \"#E5ECF6\", \"width\": 0.5}}, \"type\": \"bar\"}], \"barpolar\": [{\"marker\": {\"line\": {\"color\": \"#E5ECF6\", \"width\": 0.5}}, \"type\": \"barpolar\"}], \"carpet\": [{\"aaxis\": {\"endlinecolor\": \"#2a3f5f\", \"gridcolor\": \"white\", \"linecolor\": \"white\", \"minorgridcolor\": \"white\", \"startlinecolor\": \"#2a3f5f\"}, \"baxis\": {\"endlinecolor\": \"#2a3f5f\", \"gridcolor\": \"white\", \"linecolor\": \"white\", \"minorgridcolor\": \"white\", \"startlinecolor\": \"#2a3f5f\"}, \"type\": \"carpet\"}], \"choropleth\": [{\"colorbar\": {\"outlinewidth\": 0, \"ticks\": \"\"}, \"type\": \"choropleth\"}], \"contour\": [{\"colorbar\": {\"outlinewidth\": 0, \"ticks\": \"\"}, \"colorscale\": [[0.0, \"#0d0887\"], [0.1111111111111111, \"#46039f\"], [0.2222222222222222, \"#7201a8\"], [0.3333333333333333, \"#9c179e\"], [0.4444444444444444, \"#bd3786\"], [0.5555555555555556, \"#d8576b\"], [0.6666666666666666, \"#ed7953\"], [0.7777777777777778, \"#fb9f3a\"], [0.8888888888888888, \"#fdca26\"], [1.0, \"#f0f921\"]], \"type\": \"contour\"}], \"contourcarpet\": [{\"colorbar\": {\"outlinewidth\": 0, \"ticks\": \"\"}, \"type\": \"contourcarpet\"}], \"heatmap\": [{\"colorbar\": {\"outlinewidth\": 0, \"ticks\": \"\"}, \"colorscale\": [[0.0, \"#0d0887\"], [0.1111111111111111, \"#46039f\"], [0.2222222222222222, \"#7201a8\"], [0.3333333333333333, \"#9c179e\"], [0.4444444444444444, \"#bd3786\"], [0.5555555555555556, \"#d8576b\"], [0.6666666666666666, \"#ed7953\"], [0.7777777777777778, \"#fb9f3a\"], [0.8888888888888888, \"#fdca26\"], [1.0, \"#f0f921\"]], \"type\": \"heatmap\"}], \"heatmapgl\": [{\"colorbar\": {\"outlinewidth\": 0, \"ticks\": \"\"}, \"colorscale\": [[0.0, \"#0d0887\"], [0.1111111111111111, \"#46039f\"], [0.2222222222222222, \"#7201a8\"], [0.3333333333333333, \"#9c179e\"], [0.4444444444444444, \"#bd3786\"], [0.5555555555555556, \"#d8576b\"], [0.6666666666666666, \"#ed7953\"], [0.7777777777777778, \"#fb9f3a\"], [0.8888888888888888, \"#fdca26\"], [1.0, \"#f0f921\"]], \"type\": \"heatmapgl\"}], \"histogram\": [{\"marker\": {\"colorbar\": {\"outlinewidth\": 0, \"ticks\": \"\"}}, \"type\": \"histogram\"}], \"histogram2d\": [{\"colorbar\": {\"outlinewidth\": 0, \"ticks\": \"\"}, \"colorscale\": [[0.0, \"#0d0887\"], [0.1111111111111111, \"#46039f\"], [0.2222222222222222, \"#7201a8\"], [0.3333333333333333, \"#9c179e\"], [0.4444444444444444, \"#bd3786\"], [0.5555555555555556, \"#d8576b\"], [0.6666666666666666, \"#ed7953\"], [0.7777777777777778, \"#fb9f3a\"], [0.8888888888888888, \"#fdca26\"], [1.0, \"#f0f921\"]], \"type\": \"histogram2d\"}], \"histogram2dcontour\": [{\"colorbar\": {\"outlinewidth\": 0, \"ticks\": \"\"}, \"colorscale\": [[0.0, \"#0d0887\"], [0.1111111111111111, \"#46039f\"], [0.2222222222222222, \"#7201a8\"], [0.3333333333333333, \"#9c179e\"], [0.4444444444444444, \"#bd3786\"], [0.5555555555555556, \"#d8576b\"], [0.6666666666666666, \"#ed7953\"], [0.7777777777777778, \"#fb9f3a\"], [0.8888888888888888, \"#fdca26\"], [1.0, \"#f0f921\"]], \"type\": \"histogram2dcontour\"}], \"mesh3d\": [{\"colorbar\": {\"outlinewidth\": 0, \"ticks\": \"\"}, \"type\": \"mesh3d\"}], \"parcoords\": [{\"line\": {\"colorbar\": {\"outlinewidth\": 0, \"ticks\": \"\"}}, \"type\": \"parcoords\"}], \"pie\": [{\"automargin\": true, \"type\": \"pie\"}], \"scatter\": [{\"marker\": {\"colorbar\": {\"outlinewidth\": 0, \"ticks\": \"\"}}, \"type\": \"scatter\"}], \"scatter3d\": [{\"line\": {\"colorbar\": {\"outlinewidth\": 0, \"ticks\": \"\"}}, \"marker\": {\"colorbar\": {\"outlinewidth\": 0, \"ticks\": \"\"}}, \"type\": \"scatter3d\"}], \"scattercarpet\": [{\"marker\": {\"colorbar\": {\"outlinewidth\": 0, \"ticks\": \"\"}}, \"type\": \"scattercarpet\"}], \"scattergeo\": [{\"marker\": {\"colorbar\": {\"outlinewidth\": 0, \"ticks\": \"\"}}, \"type\": \"scattergeo\"}], \"scattergl\": [{\"marker\": {\"colorbar\": {\"outlinewidth\": 0, \"ticks\": \"\"}}, \"type\": \"scattergl\"}], \"scattermapbox\": [{\"marker\": {\"colorbar\": {\"outlinewidth\": 0, \"ticks\": \"\"}}, \"type\": \"scattermapbox\"}], \"scatterpolar\": [{\"marker\": {\"colorbar\": {\"outlinewidth\": 0, \"ticks\": \"\"}}, \"type\": \"scatterpolar\"}], \"scatterpolargl\": [{\"marker\": {\"colorbar\": {\"outlinewidth\": 0, \"ticks\": \"\"}}, \"type\": \"scatterpolargl\"}], \"scatterternary\": [{\"marker\": {\"colorbar\": {\"outlinewidth\": 0, \"ticks\": \"\"}}, \"type\": \"scatterternary\"}], \"surface\": [{\"colorbar\": {\"outlinewidth\": 0, \"ticks\": \"\"}, \"colorscale\": [[0.0, \"#0d0887\"], [0.1111111111111111, \"#46039f\"], [0.2222222222222222, \"#7201a8\"], [0.3333333333333333, \"#9c179e\"], [0.4444444444444444, \"#bd3786\"], [0.5555555555555556, \"#d8576b\"], [0.6666666666666666, \"#ed7953\"], [0.7777777777777778, \"#fb9f3a\"], [0.8888888888888888, \"#fdca26\"], [1.0, \"#f0f921\"]], \"type\": \"surface\"}], \"table\": [{\"cells\": {\"fill\": {\"color\": \"#EBF0F8\"}, \"line\": {\"color\": \"white\"}}, \"header\": {\"fill\": {\"color\": \"#C8D4E3\"}, \"line\": {\"color\": \"white\"}}, \"type\": \"table\"}]}, \"layout\": {\"annotationdefaults\": {\"arrowcolor\": \"#2a3f5f\", \"arrowhead\": 0, \"arrowwidth\": 1}, \"autotypenumbers\": \"strict\", \"coloraxis\": {\"colorbar\": {\"outlinewidth\": 0, \"ticks\": \"\"}}, \"colorscale\": {\"diverging\": [[0, \"#8e0152\"], [0.1, \"#c51b7d\"], [0.2, \"#de77ae\"], [0.3, \"#f1b6da\"], [0.4, \"#fde0ef\"], [0.5, \"#f7f7f7\"], [0.6, \"#e6f5d0\"], [0.7, \"#b8e186\"], [0.8, \"#7fbc41\"], [0.9, \"#4d9221\"], [1, \"#276419\"]], \"sequential\": [[0.0, \"#0d0887\"], [0.1111111111111111, \"#46039f\"], [0.2222222222222222, \"#7201a8\"], [0.3333333333333333, \"#9c179e\"], [0.4444444444444444, \"#bd3786\"], [0.5555555555555556, \"#d8576b\"], [0.6666666666666666, \"#ed7953\"], [0.7777777777777778, \"#fb9f3a\"], [0.8888888888888888, \"#fdca26\"], [1.0, \"#f0f921\"]], \"sequentialminus\": [[0.0, \"#0d0887\"], [0.1111111111111111, \"#46039f\"], [0.2222222222222222, \"#7201a8\"], [0.3333333333333333, \"#9c179e\"], [0.4444444444444444, \"#bd3786\"], [0.5555555555555556, \"#d8576b\"], [0.6666666666666666, \"#ed7953\"], [0.7777777777777778, \"#fb9f3a\"], [0.8888888888888888, \"#fdca26\"], [1.0, \"#f0f921\"]]}, \"colorway\": [\"#636efa\", \"#EF553B\", \"#00cc96\", \"#ab63fa\", \"#FFA15A\", \"#19d3f3\", \"#FF6692\", \"#B6E880\", \"#FF97FF\", \"#FECB52\"], \"font\": {\"color\": \"#2a3f5f\"}, \"geo\": {\"bgcolor\": \"white\", \"lakecolor\": \"white\", \"landcolor\": \"#E5ECF6\", \"showlakes\": true, \"showland\": true, \"subunitcolor\": \"white\"}, \"hoverlabel\": {\"align\": \"left\"}, \"hovermode\": \"closest\", \"mapbox\": {\"style\": \"light\"}, \"paper_bgcolor\": \"white\", \"plot_bgcolor\": \"#E5ECF6\", \"polar\": {\"angularaxis\": {\"gridcolor\": \"white\", \"linecolor\": \"white\", \"ticks\": \"\"}, \"bgcolor\": \"#E5ECF6\", \"radialaxis\": {\"gridcolor\": \"white\", \"linecolor\": \"white\", \"ticks\": \"\"}}, \"scene\": {\"xaxis\": {\"backgroundcolor\": \"#E5ECF6\", \"gridcolor\": \"white\", \"gridwidth\": 2, \"linecolor\": \"white\", \"showbackground\": true, \"ticks\": \"\", \"zerolinecolor\": \"white\"}, \"yaxis\": {\"backgroundcolor\": \"#E5ECF6\", \"gridcolor\": \"white\", \"gridwidth\": 2, \"linecolor\": \"white\", \"showbackground\": true, \"ticks\": \"\", \"zerolinecolor\": \"white\"}, \"zaxis\": {\"backgroundcolor\": \"#E5ECF6\", \"gridcolor\": \"white\", \"gridwidth\": 2, \"linecolor\": \"white\", \"showbackground\": true, \"ticks\": \"\", \"zerolinecolor\": \"white\"}}, \"shapedefaults\": {\"line\": {\"color\": \"#2a3f5f\"}}, \"ternary\": {\"aaxis\": {\"gridcolor\": \"white\", \"linecolor\": \"white\", \"ticks\": \"\"}, \"baxis\": {\"gridcolor\": \"white\", \"linecolor\": \"white\", \"ticks\": \"\"}, \"bgcolor\": \"#E5ECF6\", \"caxis\": {\"gridcolor\": \"white\", \"linecolor\": \"white\", \"ticks\": \"\"}}, \"title\": {\"x\": 0.05}, \"xaxis\": {\"automargin\": true, \"gridcolor\": \"white\", \"linecolor\": \"white\", \"ticks\": \"\", \"title\": {\"standoff\": 15}, \"zerolinecolor\": \"white\", \"zerolinewidth\": 2}, \"yaxis\": {\"automargin\": true, \"gridcolor\": \"white\", \"linecolor\": \"white\", \"ticks\": \"\", \"title\": {\"standoff\": 15}, \"zerolinecolor\": \"white\", \"zerolinewidth\": 2}}}, \"title\": {\"text\": \"\\uc720\\ub2c8\\ucf58 \\uae30\\uc5c5 \\uc5f0\\ub3c4\\ubcc4 \\uad6d\\ubbfc\\uc5f0\\uae08 \\uac00\\uc785\\uc790 \\uc218\"}, \"width\": 600, \"xaxis\": {\"anchor\": \"y\", \"domain\": [0.0, 1.0], \"title\": {\"text\": \"\\ub144\\ub3c4\"}}, \"yaxis\": {\"anchor\": \"x\", \"domain\": [0.0, 1.0], \"title\": {\"text\": \"\\uc9c1\\uc6d0\\uc218\"}}},                        {\"responsive\": true}                    ).then(function(){\n",
       "                            \n",
       "var gd = document.getElementById('ad3a033a-5ba7-4e4a-97f1-b11fa6c91e21');\n",
       "var x = new MutationObserver(function (mutations, observer) {{\n",
       "        var display = window.getComputedStyle(gd).display;\n",
       "        if (!display || display === 'none') {{\n",
       "            console.log([gd, 'removed!']);\n",
       "            Plotly.purge(gd);\n",
       "            observer.disconnect();\n",
       "        }}\n",
       "}});\n",
       "\n",
       "// Listen for the removal of the full notebook cells\n",
       "var notebookContainer = gd.closest('#notebook-container');\n",
       "if (notebookContainer) {{\n",
       "    x.observe(notebookContainer, {childList: true});\n",
       "}}\n",
       "\n",
       "// Listen for the clearing of the current output cell\n",
       "var outputEl = gd.closest('.output');\n",
       "if (outputEl) {{\n",
       "    x.observe(outputEl, {childList: true});\n",
       "}}\n",
       "\n",
       "                        })                };                });            </script>        </div>"
      ]
     },
     "metadata": {},
     "output_type": "display_data"
    }
   ],
   "source": [
    "# plotly\n",
    "fig = px.line(df_unicorn, x=\"년도\", y=\"직원수\", \n",
    "             title='유니콘 기업 연도별 국민연금 가입자 수',\n",
    "             color='사업장명',\n",
    "             line_group='사업장명',\n",
    "             hover_name='사업장명')\n",
    "fig.update_layout(\n",
    "    autosize=False,\n",
    "    width=600,\n",
    "    height=500)\n",
    "\n",
    "fig.show()"
   ]
  },
  {
   "cell_type": "code",
   "execution_count": 52,
   "metadata": {
    "scrolled": false
   },
   "outputs": [],
   "source": [
    "#df_unicorn[df_unicorn['년도']==2019].filter(regex='직원수|valuation|연금보험료').corr()['valuation']"
   ]
  },
  {
   "cell_type": "code",
   "execution_count": 1493,
   "metadata": {
    "scrolled": false
   },
   "outputs": [
    {
     "data": {
      "text/html": [
       "<div>\n",
       "<style scoped>\n",
       "    .dataframe tbody tr th:only-of-type {\n",
       "        vertical-align: middle;\n",
       "    }\n",
       "\n",
       "    .dataframe tbody tr th {\n",
       "        vertical-align: top;\n",
       "    }\n",
       "\n",
       "    .dataframe thead th {\n",
       "        text-align: right;\n",
       "    }\n",
       "</style>\n",
       "<table border=\"1\" class=\"dataframe\">\n",
       "  <thead>\n",
       "    <tr style=\"text-align: right;\">\n",
       "      <th></th>\n",
       "      <th>직원수</th>\n",
       "      <th>연금보험료</th>\n",
       "    </tr>\n",
       "  </thead>\n",
       "  <tbody>\n",
       "    <tr>\n",
       "      <th>직원수</th>\n",
       "      <td>1.00</td>\n",
       "      <td>0.98</td>\n",
       "    </tr>\n",
       "    <tr>\n",
       "      <th>연금보험료</th>\n",
       "      <td>0.98</td>\n",
       "      <td>1.00</td>\n",
       "    </tr>\n",
       "  </tbody>\n",
       "</table>\n",
       "</div>"
      ],
      "text/plain": [
       "       직원수  연금보험료\n",
       "직원수   1.00   0.98\n",
       "연금보험료 0.98   1.00"
      ]
     },
     "execution_count": 1493,
     "metadata": {},
     "output_type": "execute_result"
    }
   ],
   "source": [
    "df_unicorn.filter(regex='^직원수|연금보험료|valuation').corr()"
   ]
  },
  {
   "cell_type": "code",
   "execution_count": 197,
   "metadata": {
    "scrolled": false
   },
   "outputs": [
    {
     "data": {
      "text/html": [
       "<div>\n",
       "<style scoped>\n",
       "    .dataframe tbody tr th:only-of-type {\n",
       "        vertical-align: middle;\n",
       "    }\n",
       "\n",
       "    .dataframe tbody tr th {\n",
       "        vertical-align: top;\n",
       "    }\n",
       "\n",
       "    .dataframe thead th {\n",
       "        text-align: right;\n",
       "    }\n",
       "</style>\n",
       "<table border=\"1\" class=\"dataframe\">\n",
       "  <thead>\n",
       "    <tr style=\"text-align: right;\">\n",
       "      <th></th>\n",
       "      <th>count</th>\n",
       "      <th>mean</th>\n",
       "      <th>std</th>\n",
       "      <th>min</th>\n",
       "      <th>25%</th>\n",
       "      <th>50%</th>\n",
       "      <th>75%</th>\n",
       "      <th>max</th>\n",
       "    </tr>\n",
       "  </thead>\n",
       "  <tbody>\n",
       "    <tr>\n",
       "      <th>성장율_직원수</th>\n",
       "      <td>35.00</td>\n",
       "      <td>0.50</td>\n",
       "      <td>0.63</td>\n",
       "      <td>-0.12</td>\n",
       "      <td>0.00</td>\n",
       "      <td>0.38</td>\n",
       "      <td>0.70</td>\n",
       "      <td>2.92</td>\n",
       "    </tr>\n",
       "    <tr>\n",
       "      <th>기간내성장율_직원수</th>\n",
       "      <td>35.00</td>\n",
       "      <td>1.11</td>\n",
       "      <td>2.95</td>\n",
       "      <td>0.00</td>\n",
       "      <td>0.00</td>\n",
       "      <td>0.00</td>\n",
       "      <td>0.00</td>\n",
       "      <td>13.12</td>\n",
       "    </tr>\n",
       "    <tr>\n",
       "      <th>연평균성장율_직원수</th>\n",
       "      <td>35.00</td>\n",
       "      <td>0.50</td>\n",
       "      <td>0.25</td>\n",
       "      <td>0.18</td>\n",
       "      <td>0.26</td>\n",
       "      <td>0.45</td>\n",
       "      <td>0.69</td>\n",
       "      <td>0.97</td>\n",
       "    </tr>\n",
       "  </tbody>\n",
       "</table>\n",
       "</div>"
      ],
      "text/plain": [
       "            count  mean  std   min  25%  50%  75%   max\n",
       "성장율_직원수     35.00  0.50 0.63 -0.12 0.00 0.38 0.70  2.92\n",
       "기간내성장율_직원수  35.00  1.11 2.95  0.00 0.00 0.00 0.00 13.12\n",
       "연평균성장율_직원수  35.00  0.50 0.25  0.18 0.26 0.45 0.69  0.97"
      ]
     },
     "execution_count": 197,
     "metadata": {},
     "output_type": "execute_result"
    }
   ],
   "source": [
    "df_unicorn.filter(regex='성장율').describe().T"
   ]
  },
  {
   "cell_type": "code",
   "execution_count": 1182,
   "metadata": {
    "scrolled": false
   },
   "outputs": [
    {
     "data": {
      "text/html": [
       "<div>\n",
       "<style scoped>\n",
       "    .dataframe tbody tr th:only-of-type {\n",
       "        vertical-align: middle;\n",
       "    }\n",
       "\n",
       "    .dataframe tbody tr th {\n",
       "        vertical-align: top;\n",
       "    }\n",
       "\n",
       "    .dataframe thead th {\n",
       "        text-align: right;\n",
       "    }\n",
       "</style>\n",
       "<table border=\"1\" class=\"dataframe\">\n",
       "  <thead>\n",
       "    <tr style=\"text-align: right;\">\n",
       "      <th></th>\n",
       "      <th>count</th>\n",
       "      <th>mean</th>\n",
       "      <th>std</th>\n",
       "      <th>min</th>\n",
       "      <th>25%</th>\n",
       "      <th>50%</th>\n",
       "      <th>75%</th>\n",
       "      <th>max</th>\n",
       "    </tr>\n",
       "  </thead>\n",
       "  <tbody>\n",
       "    <tr>\n",
       "      <th>2016</th>\n",
       "      <td>6.00</td>\n",
       "      <td>273816666.67</td>\n",
       "      <td>427445376.24</td>\n",
       "      <td>29900000.00</td>\n",
       "      <td>35875000.00</td>\n",
       "      <td>116800000.00</td>\n",
       "      <td>209575000.00</td>\n",
       "      <td>1130000000.00</td>\n",
       "    </tr>\n",
       "    <tr>\n",
       "      <th>2017</th>\n",
       "      <td>9.00</td>\n",
       "      <td>330011111.11</td>\n",
       "      <td>614343337.32</td>\n",
       "      <td>3400000.00</td>\n",
       "      <td>37200000.00</td>\n",
       "      <td>68000000.00</td>\n",
       "      <td>369100000.00</td>\n",
       "      <td>1919500000.00</td>\n",
       "    </tr>\n",
       "    <tr>\n",
       "      <th>2018</th>\n",
       "      <td>10.00</td>\n",
       "      <td>415390000.00</td>\n",
       "      <td>810037717.16</td>\n",
       "      <td>20000000.00</td>\n",
       "      <td>56400000.00</td>\n",
       "      <td>94350000.00</td>\n",
       "      <td>314225000.00</td>\n",
       "      <td>2680000000.00</td>\n",
       "    </tr>\n",
       "    <tr>\n",
       "      <th>2019</th>\n",
       "      <td>10.00</td>\n",
       "      <td>716130000.00</td>\n",
       "      <td>1314715995.57</td>\n",
       "      <td>48100000.00</td>\n",
       "      <td>82375000.00</td>\n",
       "      <td>236700000.00</td>\n",
       "      <td>492625000.00</td>\n",
       "      <td>4340000000.00</td>\n",
       "    </tr>\n",
       "  </tbody>\n",
       "</table>\n",
       "</div>"
      ],
      "text/plain": [
       "      count         mean           std         min         25%          50%  \\\n",
       "2016   6.00 273816666.67  427445376.24 29900000.00 35875000.00 116800000.00   \n",
       "2017   9.00 330011111.11  614343337.32  3400000.00 37200000.00  68000000.00   \n",
       "2018  10.00 415390000.00  810037717.16 20000000.00 56400000.00  94350000.00   \n",
       "2019  10.00 716130000.00 1314715995.57 48100000.00 82375000.00 236700000.00   \n",
       "\n",
       "              75%           max  \n",
       "2016 209575000.00 1130000000.00  \n",
       "2017 369100000.00 1919500000.00  \n",
       "2018 314225000.00 2680000000.00  \n",
       "2019 492625000.00 4340000000.00  "
      ]
     },
     "execution_count": 1182,
     "metadata": {},
     "output_type": "execute_result"
    }
   ],
   "source": [
    "df_unicorn_sales = pd.read_csv('../매출액데이터.csv')\n",
    "df_unicorn_sales = df_unicorn_sales.set_index('사업장명').apply(lambda x : x*100000)\n",
    "df_unicorn_sales.describe().T"
   ]
  },
  {
   "cell_type": "code",
   "execution_count": 1431,
   "metadata": {},
   "outputs": [],
   "source": [
    "df_unicorn_sales2 = pd.read_csv('../매출액데이터_V2.csv')"
   ]
  },
  {
   "cell_type": "code",
   "execution_count": 1432,
   "metadata": {
    "scrolled": true
   },
   "outputs": [
    {
     "data": {
      "text/html": [
       "<div>\n",
       "<style scoped>\n",
       "    .dataframe tbody tr th:only-of-type {\n",
       "        vertical-align: middle;\n",
       "    }\n",
       "\n",
       "    .dataframe tbody tr th {\n",
       "        vertical-align: top;\n",
       "    }\n",
       "\n",
       "    .dataframe thead th {\n",
       "        text-align: right;\n",
       "    }\n",
       "</style>\n",
       "<table border=\"1\" class=\"dataframe\">\n",
       "  <thead>\n",
       "    <tr style=\"text-align: right;\">\n",
       "      <th></th>\n",
       "      <th>사업장명</th>\n",
       "      <th>년도</th>\n",
       "      <th>매출액</th>\n",
       "    </tr>\n",
       "  </thead>\n",
       "  <tbody>\n",
       "    <tr>\n",
       "      <th>0</th>\n",
       "      <td>쿠팡</td>\n",
       "      <td>2016</td>\n",
       "      <td>11300.00</td>\n",
       "    </tr>\n",
       "    <tr>\n",
       "      <th>1</th>\n",
       "      <td>쿠팡</td>\n",
       "      <td>2017</td>\n",
       "      <td>19195.00</td>\n",
       "    </tr>\n",
       "    <tr>\n",
       "      <th>2</th>\n",
       "      <td>쿠팡</td>\n",
       "      <td>2018</td>\n",
       "      <td>26800.00</td>\n",
       "    </tr>\n",
       "    <tr>\n",
       "      <th>3</th>\n",
       "      <td>쿠팡</td>\n",
       "      <td>2019</td>\n",
       "      <td>43400.00</td>\n",
       "    </tr>\n",
       "    <tr>\n",
       "      <th>4</th>\n",
       "      <td>(주)크래프톤</td>\n",
       "      <td>2016</td>\n",
       "      <td>NaN</td>\n",
       "    </tr>\n",
       "    <tr>\n",
       "      <th>5</th>\n",
       "      <td>(주)크래프톤</td>\n",
       "      <td>2017</td>\n",
       "      <td>372.00</td>\n",
       "    </tr>\n",
       "    <tr>\n",
       "      <th>6</th>\n",
       "      <td>(주)크래프톤</td>\n",
       "      <td>2018</td>\n",
       "      <td>3104.00</td>\n",
       "    </tr>\n",
       "    <tr>\n",
       "      <th>7</th>\n",
       "      <td>(주)크래프톤</td>\n",
       "      <td>2019</td>\n",
       "      <td>11200.00</td>\n",
       "    </tr>\n",
       "    <tr>\n",
       "      <th>8</th>\n",
       "      <td>（주）비바리퍼블리카</td>\n",
       "      <td>2016</td>\n",
       "      <td>NaN</td>\n",
       "    </tr>\n",
       "    <tr>\n",
       "      <th>9</th>\n",
       "      <td>（주）비바리퍼블리카</td>\n",
       "      <td>2017</td>\n",
       "      <td>34.00</td>\n",
       "    </tr>\n",
       "    <tr>\n",
       "      <th>10</th>\n",
       "      <td>（주）비바리퍼블리카</td>\n",
       "      <td>2018</td>\n",
       "      <td>200.00</td>\n",
       "    </tr>\n",
       "    <tr>\n",
       "      <th>11</th>\n",
       "      <td>（주）비바리퍼블리카</td>\n",
       "      <td>2019</td>\n",
       "      <td>548.00</td>\n",
       "    </tr>\n",
       "    <tr>\n",
       "      <th>12</th>\n",
       "      <td>위메프</td>\n",
       "      <td>2016</td>\n",
       "      <td>2165.00</td>\n",
       "    </tr>\n",
       "    <tr>\n",
       "      <th>13</th>\n",
       "      <td>위메프</td>\n",
       "      <td>2017</td>\n",
       "      <td>3691.00</td>\n",
       "    </tr>\n",
       "    <tr>\n",
       "      <th>14</th>\n",
       "      <td>위메프</td>\n",
       "      <td>2018</td>\n",
       "      <td>4730.00</td>\n",
       "    </tr>\n",
       "    <tr>\n",
       "      <th>15</th>\n",
       "      <td>위메프</td>\n",
       "      <td>2019</td>\n",
       "      <td>4294.00</td>\n",
       "    </tr>\n",
       "    <tr>\n",
       "      <th>16</th>\n",
       "      <td>주식회사 무신사</td>\n",
       "      <td>2016</td>\n",
       "      <td>329.00</td>\n",
       "    </tr>\n",
       "    <tr>\n",
       "      <th>17</th>\n",
       "      <td>주식회사 무신사</td>\n",
       "      <td>2017</td>\n",
       "      <td>470.00</td>\n",
       "    </tr>\n",
       "    <tr>\n",
       "      <th>18</th>\n",
       "      <td>주식회사 무신사</td>\n",
       "      <td>2018</td>\n",
       "      <td>677.00</td>\n",
       "    </tr>\n",
       "    <tr>\n",
       "      <th>19</th>\n",
       "      <td>주식회사 무신사</td>\n",
       "      <td>2019</td>\n",
       "      <td>1081.00</td>\n",
       "    </tr>\n",
       "    <tr>\n",
       "      <th>20</th>\n",
       "      <td>（주）지피클럽</td>\n",
       "      <td>2016</td>\n",
       "      <td>NaN</td>\n",
       "    </tr>\n",
       "    <tr>\n",
       "      <th>21</th>\n",
       "      <td>（주）지피클럽</td>\n",
       "      <td>2017</td>\n",
       "      <td>NaN</td>\n",
       "    </tr>\n",
       "    <tr>\n",
       "      <th>22</th>\n",
       "      <td>（주）지피클럽</td>\n",
       "      <td>2018</td>\n",
       "      <td>497.00</td>\n",
       "    </tr>\n",
       "    <tr>\n",
       "      <th>23</th>\n",
       "      <td>（주）지피클럽</td>\n",
       "      <td>2019</td>\n",
       "      <td>5137.00</td>\n",
       "    </tr>\n",
       "    <tr>\n",
       "      <th>24</th>\n",
       "      <td>엘앤피코스메틱</td>\n",
       "      <td>2016</td>\n",
       "      <td>1888.00</td>\n",
       "    </tr>\n",
       "    <tr>\n",
       "      <th>25</th>\n",
       "      <td>엘앤피코스메틱</td>\n",
       "      <td>2017</td>\n",
       "      <td>4015.00</td>\n",
       "    </tr>\n",
       "    <tr>\n",
       "      <th>26</th>\n",
       "      <td>엘앤피코스메틱</td>\n",
       "      <td>2018</td>\n",
       "      <td>3155.00</td>\n",
       "    </tr>\n",
       "    <tr>\n",
       "      <th>27</th>\n",
       "      <td>엘앤피코스메틱</td>\n",
       "      <td>2019</td>\n",
       "      <td>3140.00</td>\n",
       "    </tr>\n",
       "    <tr>\n",
       "      <th>28</th>\n",
       "      <td>(주)에이프로젠</td>\n",
       "      <td>2016</td>\n",
       "      <td>NaN</td>\n",
       "    </tr>\n",
       "    <tr>\n",
       "      <th>29</th>\n",
       "      <td>(주)에이프로젠</td>\n",
       "      <td>2017</td>\n",
       "      <td>680.00</td>\n",
       "    </tr>\n",
       "    <tr>\n",
       "      <th>30</th>\n",
       "      <td>(주)에이프로젠</td>\n",
       "      <td>2018</td>\n",
       "      <td>621.00</td>\n",
       "    </tr>\n",
       "    <tr>\n",
       "      <th>31</th>\n",
       "      <td>(주)에이프로젠</td>\n",
       "      <td>2019</td>\n",
       "      <td>481.00</td>\n",
       "    </tr>\n",
       "    <tr>\n",
       "      <th>32</th>\n",
       "      <td>(주)야놀자</td>\n",
       "      <td>2016</td>\n",
       "      <td>299.00</td>\n",
       "    </tr>\n",
       "    <tr>\n",
       "      <th>33</th>\n",
       "      <td>(주)야놀자</td>\n",
       "      <td>2017</td>\n",
       "      <td>337.00</td>\n",
       "    </tr>\n",
       "    <tr>\n",
       "      <th>34</th>\n",
       "      <td>(주)야놀자</td>\n",
       "      <td>2018</td>\n",
       "      <td>545.00</td>\n",
       "    </tr>\n",
       "    <tr>\n",
       "      <th>35</th>\n",
       "      <td>(주)야놀자</td>\n",
       "      <td>2019</td>\n",
       "      <td>738.00</td>\n",
       "    </tr>\n",
       "    <tr>\n",
       "      <th>36</th>\n",
       "      <td>주식회사쏘카</td>\n",
       "      <td>2016</td>\n",
       "      <td>448.00</td>\n",
       "    </tr>\n",
       "    <tr>\n",
       "      <th>37</th>\n",
       "      <td>주식회사쏘카</td>\n",
       "      <td>2017</td>\n",
       "      <td>907.00</td>\n",
       "    </tr>\n",
       "    <tr>\n",
       "      <th>38</th>\n",
       "      <td>주식회사쏘카</td>\n",
       "      <td>2018</td>\n",
       "      <td>1210.00</td>\n",
       "    </tr>\n",
       "    <tr>\n",
       "      <th>39</th>\n",
       "      <td>주식회사쏘카</td>\n",
       "      <td>2019</td>\n",
       "      <td>1594.00</td>\n",
       "    </tr>\n",
       "  </tbody>\n",
       "</table>\n",
       "</div>"
      ],
      "text/plain": [
       "          사업장명    년도      매출액\n",
       "0           쿠팡  2016 11300.00\n",
       "1           쿠팡  2017 19195.00\n",
       "2           쿠팡  2018 26800.00\n",
       "3           쿠팡  2019 43400.00\n",
       "4      (주)크래프톤  2016      NaN\n",
       "5      (주)크래프톤  2017   372.00\n",
       "6      (주)크래프톤  2018  3104.00\n",
       "7      (주)크래프톤  2019 11200.00\n",
       "8   （주）비바리퍼블리카  2016      NaN\n",
       "9   （주）비바리퍼블리카  2017    34.00\n",
       "10  （주）비바리퍼블리카  2018   200.00\n",
       "11  （주）비바리퍼블리카  2019   548.00\n",
       "12         위메프  2016  2165.00\n",
       "13         위메프  2017  3691.00\n",
       "14         위메프  2018  4730.00\n",
       "15         위메프  2019  4294.00\n",
       "16    주식회사 무신사  2016   329.00\n",
       "17    주식회사 무신사  2017   470.00\n",
       "18    주식회사 무신사  2018   677.00\n",
       "19    주식회사 무신사  2019  1081.00\n",
       "20     （주）지피클럽  2016      NaN\n",
       "21     （주）지피클럽  2017      NaN\n",
       "22     （주）지피클럽  2018   497.00\n",
       "23     （주）지피클럽  2019  5137.00\n",
       "24     엘앤피코스메틱  2016  1888.00\n",
       "25     엘앤피코스메틱  2017  4015.00\n",
       "26     엘앤피코스메틱  2018  3155.00\n",
       "27     엘앤피코스메틱  2019  3140.00\n",
       "28    (주)에이프로젠  2016      NaN\n",
       "29    (주)에이프로젠  2017   680.00\n",
       "30    (주)에이프로젠  2018   621.00\n",
       "31    (주)에이프로젠  2019   481.00\n",
       "32      (주)야놀자  2016   299.00\n",
       "33      (주)야놀자  2017   337.00\n",
       "34      (주)야놀자  2018   545.00\n",
       "35      (주)야놀자  2019   738.00\n",
       "36      주식회사쏘카  2016   448.00\n",
       "37      주식회사쏘카  2017   907.00\n",
       "38      주식회사쏘카  2018  1210.00\n",
       "39      주식회사쏘카  2019  1594.00"
      ]
     },
     "execution_count": 1432,
     "metadata": {},
     "output_type": "execute_result"
    }
   ],
   "source": [
    "df_unicorn_sales2"
   ]
  },
  {
   "cell_type": "code",
   "execution_count": 1499,
   "metadata": {},
   "outputs": [
    {
     "ename": "TypeError",
     "evalue": "unsupported operand type(s) for /: 'float' and 'str'",
     "output_type": "error",
     "traceback": [
      "\u001b[1;31m---------------------------------------------------------------------------\u001b[0m",
      "\u001b[1;31mTypeError\u001b[0m                                 Traceback (most recent call last)",
      "\u001b[1;32m~\\AppData\\Local\\Continuum\\anaconda3\\lib\\site-packages\\pandas\\core\\ops\\array_ops.py\u001b[0m in \u001b[0;36m_na_arithmetic_op\u001b[1;34m(left, right, op, is_cmp)\u001b[0m\n\u001b[0;32m    141\u001b[0m     \u001b[1;32mtry\u001b[0m\u001b[1;33m:\u001b[0m\u001b[1;33m\u001b[0m\u001b[1;33m\u001b[0m\u001b[0m\n\u001b[1;32m--> 142\u001b[1;33m         \u001b[0mresult\u001b[0m \u001b[1;33m=\u001b[0m \u001b[0mexpressions\u001b[0m\u001b[1;33m.\u001b[0m\u001b[0mevaluate\u001b[0m\u001b[1;33m(\u001b[0m\u001b[0mop\u001b[0m\u001b[1;33m,\u001b[0m \u001b[0mleft\u001b[0m\u001b[1;33m,\u001b[0m \u001b[0mright\u001b[0m\u001b[1;33m)\u001b[0m\u001b[1;33m\u001b[0m\u001b[1;33m\u001b[0m\u001b[0m\n\u001b[0m\u001b[0;32m    143\u001b[0m     \u001b[1;32mexcept\u001b[0m \u001b[0mTypeError\u001b[0m\u001b[1;33m:\u001b[0m\u001b[1;33m\u001b[0m\u001b[1;33m\u001b[0m\u001b[0m\n",
      "\u001b[1;32m~\\AppData\\Local\\Continuum\\anaconda3\\lib\\site-packages\\pandas\\core\\computation\\expressions.py\u001b[0m in \u001b[0;36mevaluate\u001b[1;34m(op, a, b, use_numexpr)\u001b[0m\n\u001b[0;32m    234\u001b[0m             \u001b[1;31m# error: \"None\" not callable\u001b[0m\u001b[1;33m\u001b[0m\u001b[1;33m\u001b[0m\u001b[1;33m\u001b[0m\u001b[0m\n\u001b[1;32m--> 235\u001b[1;33m             \u001b[1;32mreturn\u001b[0m \u001b[0m_evaluate\u001b[0m\u001b[1;33m(\u001b[0m\u001b[0mop\u001b[0m\u001b[1;33m,\u001b[0m \u001b[0mop_str\u001b[0m\u001b[1;33m,\u001b[0m \u001b[0ma\u001b[0m\u001b[1;33m,\u001b[0m \u001b[0mb\u001b[0m\u001b[1;33m)\u001b[0m  \u001b[1;31m# type: ignore[misc]\u001b[0m\u001b[1;33m\u001b[0m\u001b[1;33m\u001b[0m\u001b[0m\n\u001b[0m\u001b[0;32m    236\u001b[0m     \u001b[1;32mreturn\u001b[0m \u001b[0m_evaluate_standard\u001b[0m\u001b[1;33m(\u001b[0m\u001b[0mop\u001b[0m\u001b[1;33m,\u001b[0m \u001b[0mop_str\u001b[0m\u001b[1;33m,\u001b[0m \u001b[0ma\u001b[0m\u001b[1;33m,\u001b[0m \u001b[0mb\u001b[0m\u001b[1;33m)\u001b[0m\u001b[1;33m\u001b[0m\u001b[1;33m\u001b[0m\u001b[0m\n",
      "\u001b[1;32m~\\AppData\\Local\\Continuum\\anaconda3\\lib\\site-packages\\pandas\\core\\computation\\expressions.py\u001b[0m in \u001b[0;36m_evaluate_numexpr\u001b[1;34m(op, op_str, a, b)\u001b[0m\n\u001b[0;32m    119\u001b[0m     \u001b[1;32mif\u001b[0m \u001b[0mresult\u001b[0m \u001b[1;32mis\u001b[0m \u001b[1;32mNone\u001b[0m\u001b[1;33m:\u001b[0m\u001b[1;33m\u001b[0m\u001b[1;33m\u001b[0m\u001b[0m\n\u001b[1;32m--> 120\u001b[1;33m         \u001b[0mresult\u001b[0m \u001b[1;33m=\u001b[0m \u001b[0m_evaluate_standard\u001b[0m\u001b[1;33m(\u001b[0m\u001b[0mop\u001b[0m\u001b[1;33m,\u001b[0m \u001b[0mop_str\u001b[0m\u001b[1;33m,\u001b[0m \u001b[0ma\u001b[0m\u001b[1;33m,\u001b[0m \u001b[0mb\u001b[0m\u001b[1;33m)\u001b[0m\u001b[1;33m\u001b[0m\u001b[1;33m\u001b[0m\u001b[0m\n\u001b[0m\u001b[0;32m    121\u001b[0m \u001b[1;33m\u001b[0m\u001b[0m\n",
      "\u001b[1;32m~\\AppData\\Local\\Continuum\\anaconda3\\lib\\site-packages\\pandas\\core\\computation\\expressions.py\u001b[0m in \u001b[0;36m_evaluate_standard\u001b[1;34m(op, op_str, a, b)\u001b[0m\n\u001b[0;32m     68\u001b[0m     \u001b[1;32mwith\u001b[0m \u001b[0mnp\u001b[0m\u001b[1;33m.\u001b[0m\u001b[0merrstate\u001b[0m\u001b[1;33m(\u001b[0m\u001b[0mall\u001b[0m\u001b[1;33m=\u001b[0m\u001b[1;34m\"ignore\"\u001b[0m\u001b[1;33m)\u001b[0m\u001b[1;33m:\u001b[0m\u001b[1;33m\u001b[0m\u001b[1;33m\u001b[0m\u001b[0m\n\u001b[1;32m---> 69\u001b[1;33m         \u001b[1;32mreturn\u001b[0m \u001b[0mop\u001b[0m\u001b[1;33m(\u001b[0m\u001b[0ma\u001b[0m\u001b[1;33m,\u001b[0m \u001b[0mb\u001b[0m\u001b[1;33m)\u001b[0m\u001b[1;33m\u001b[0m\u001b[1;33m\u001b[0m\u001b[0m\n\u001b[0m\u001b[0;32m     70\u001b[0m \u001b[1;33m\u001b[0m\u001b[0m\n",
      "\u001b[1;31mTypeError\u001b[0m: unsupported operand type(s) for /: 'float' and 'str'",
      "\nDuring handling of the above exception, another exception occurred:\n",
      "\u001b[1;31mTypeError\u001b[0m                                 Traceback (most recent call last)",
      "\u001b[1;32m<ipython-input-1499-da74311a40b3>\u001b[0m in \u001b[0;36m<module>\u001b[1;34m\u001b[0m\n\u001b[1;32m----> 1\u001b[1;33m \u001b[0mdf_unicorn_growth\u001b[0m\u001b[1;33m=\u001b[0m\u001b[0mpd\u001b[0m\u001b[1;33m.\u001b[0m\u001b[0mDataFrame\u001b[0m\u001b[1;33m(\u001b[0m\u001b[0mdf_unicorn_sales\u001b[0m\u001b[1;33m.\u001b[0m\u001b[0mpct_change\u001b[0m\u001b[1;33m(\u001b[0m\u001b[0maxis\u001b[0m\u001b[1;33m=\u001b[0m\u001b[1;36m1\u001b[0m\u001b[1;33m)\u001b[0m\u001b[1;33m.\u001b[0m\u001b[0mT\u001b[0m\u001b[1;33m.\u001b[0m\u001b[0mmax\u001b[0m\u001b[1;33m(\u001b[0m\u001b[1;33m)\u001b[0m\u001b[1;33m)\u001b[0m\u001b[1;33m.\u001b[0m\u001b[0mrename\u001b[0m\u001b[1;33m(\u001b[0m\u001b[0mcolumns\u001b[0m\u001b[1;33m=\u001b[0m\u001b[1;33m{\u001b[0m\u001b[1;36m0\u001b[0m\u001b[1;33m:\u001b[0m\u001b[1;34m'성장율_매출액'\u001b[0m\u001b[1;33m}\u001b[0m\u001b[1;33m)\u001b[0m\u001b[1;33m.\u001b[0m\u001b[0mreset_index\u001b[0m\u001b[1;33m(\u001b[0m\u001b[1;33m)\u001b[0m\u001b[1;33m\u001b[0m\u001b[1;33m\u001b[0m\u001b[0m\n\u001b[0m\u001b[0;32m      2\u001b[0m \u001b[0mdf_unicorn_growth_ls\u001b[0m\u001b[1;33m=\u001b[0m \u001b[0mdf_unicorn_growth\u001b[0m\u001b[1;33m.\u001b[0m\u001b[0mmerge\u001b[0m\u001b[1;33m(\u001b[0m\u001b[0mpd\u001b[0m\u001b[1;33m.\u001b[0m\u001b[0mDataFrame\u001b[0m\u001b[1;33m(\u001b[0m\u001b[0mdf_unicorn\u001b[0m\u001b[1;33m.\u001b[0m\u001b[0mfilter\u001b[0m\u001b[1;33m(\u001b[0m\u001b[0mregex\u001b[0m\u001b[1;33m=\u001b[0m\u001b[1;34m'사업|성장율|valuation'\u001b[0m\u001b[1;33m)\u001b[0m\u001b[1;33m.\u001b[0m\u001b[0mgroupby\u001b[0m\u001b[1;33m(\u001b[0m\u001b[1;34m'사업장명'\u001b[0m\u001b[1;33m)\u001b[0m\u001b[1;33m.\u001b[0m\u001b[0mmax\u001b[0m\u001b[1;33m(\u001b[0m\u001b[1;33m)\u001b[0m\u001b[1;33m[\u001b[0m\u001b[1;33m[\u001b[0m\u001b[1;34m'성장율_직원수'\u001b[0m\u001b[1;33m,\u001b[0m\u001b[1;34m'valuation'\u001b[0m\u001b[1;33m]\u001b[0m\u001b[1;33m]\u001b[0m\u001b[1;33m)\u001b[0m\u001b[1;33m.\u001b[0m\u001b[0mreset_index\u001b[0m\u001b[1;33m(\u001b[0m\u001b[1;33m)\u001b[0m\u001b[1;33m)\u001b[0m\u001b[1;33m\u001b[0m\u001b[1;33m\u001b[0m\u001b[0m\n\u001b[0;32m      3\u001b[0m \u001b[0mdf_unicorn_growth_ls\u001b[0m\u001b[1;33m=\u001b[0m\u001b[0mdf_unicorn_growth_ls\u001b[0m\u001b[1;33m.\u001b[0m\u001b[0mrename\u001b[0m\u001b[1;33m(\u001b[0m\u001b[0mcolumns\u001b[0m\u001b[1;33m=\u001b[0m\u001b[1;33m{\u001b[0m\u001b[1;34m'성장율_매출액'\u001b[0m\u001b[1;33m:\u001b[0m\u001b[1;34m'max성장율_매출액'\u001b[0m\u001b[1;33m,\u001b[0m\u001b[1;34m'성장율_직원수'\u001b[0m\u001b[1;33m:\u001b[0m\u001b[1;34m'max연평균성장율_직원수'\u001b[0m\u001b[1;33m}\u001b[0m\u001b[1;33m)\u001b[0m\u001b[1;33m\u001b[0m\u001b[1;33m\u001b[0m\u001b[0m\n\u001b[0;32m      4\u001b[0m \u001b[0mdf_unicorn_growth_ls\u001b[0m\u001b[1;33m.\u001b[0m\u001b[0mhead\u001b[0m\u001b[1;33m(\u001b[0m\u001b[1;36m1\u001b[0m\u001b[1;33m)\u001b[0m\u001b[1;33m\u001b[0m\u001b[1;33m\u001b[0m\u001b[0m\n",
      "\u001b[1;32m~\\AppData\\Local\\Continuum\\anaconda3\\lib\\site-packages\\pandas\\core\\generic.py\u001b[0m in \u001b[0;36mpct_change\u001b[1;34m(self, periods, fill_method, limit, freq, **kwargs)\u001b[0m\n\u001b[0;32m  10543\u001b[0m             \u001b[0mdata\u001b[0m \u001b[1;33m=\u001b[0m \u001b[0m_data\u001b[0m\u001b[1;33m\u001b[0m\u001b[1;33m\u001b[0m\u001b[0m\n\u001b[0;32m  10544\u001b[0m \u001b[1;33m\u001b[0m\u001b[0m\n\u001b[1;32m> 10545\u001b[1;33m         \u001b[0mrs\u001b[0m \u001b[1;33m=\u001b[0m \u001b[0mdata\u001b[0m\u001b[1;33m.\u001b[0m\u001b[0mdiv\u001b[0m\u001b[1;33m(\u001b[0m\u001b[0mdata\u001b[0m\u001b[1;33m.\u001b[0m\u001b[0mshift\u001b[0m\u001b[1;33m(\u001b[0m\u001b[0mperiods\u001b[0m\u001b[1;33m=\u001b[0m\u001b[0mperiods\u001b[0m\u001b[1;33m,\u001b[0m \u001b[0mfreq\u001b[0m\u001b[1;33m=\u001b[0m\u001b[0mfreq\u001b[0m\u001b[1;33m,\u001b[0m \u001b[0maxis\u001b[0m\u001b[1;33m=\u001b[0m\u001b[0maxis\u001b[0m\u001b[1;33m,\u001b[0m \u001b[1;33m**\u001b[0m\u001b[0mkwargs\u001b[0m\u001b[1;33m)\u001b[0m\u001b[1;33m)\u001b[0m \u001b[1;33m-\u001b[0m \u001b[1;36m1\u001b[0m\u001b[1;33m\u001b[0m\u001b[1;33m\u001b[0m\u001b[0m\n\u001b[0m\u001b[0;32m  10546\u001b[0m         \u001b[1;32mif\u001b[0m \u001b[0mfreq\u001b[0m \u001b[1;32mis\u001b[0m \u001b[1;32mnot\u001b[0m \u001b[1;32mNone\u001b[0m\u001b[1;33m:\u001b[0m\u001b[1;33m\u001b[0m\u001b[1;33m\u001b[0m\u001b[0m\n\u001b[0;32m  10547\u001b[0m             \u001b[1;31m# Shift method is implemented differently when freq is not None\u001b[0m\u001b[1;33m\u001b[0m\u001b[1;33m\u001b[0m\u001b[1;33m\u001b[0m\u001b[0m\n",
      "\u001b[1;32m~\\AppData\\Local\\Continuum\\anaconda3\\lib\\site-packages\\pandas\\core\\ops\\__init__.py\u001b[0m in \u001b[0;36mf\u001b[1;34m(self, other, axis, level, fill_value)\u001b[0m\n\u001b[0;32m    417\u001b[0m         \u001b[1;32mif\u001b[0m \u001b[0misinstance\u001b[0m\u001b[1;33m(\u001b[0m\u001b[0mother\u001b[0m\u001b[1;33m,\u001b[0m \u001b[0mABCDataFrame\u001b[0m\u001b[1;33m)\u001b[0m\u001b[1;33m:\u001b[0m\u001b[1;33m\u001b[0m\u001b[1;33m\u001b[0m\u001b[0m\n\u001b[0;32m    418\u001b[0m             \u001b[1;31m# Another DataFrame\u001b[0m\u001b[1;33m\u001b[0m\u001b[1;33m\u001b[0m\u001b[1;33m\u001b[0m\u001b[0m\n\u001b[1;32m--> 419\u001b[1;33m             \u001b[0mnew_data\u001b[0m \u001b[1;33m=\u001b[0m \u001b[0mself\u001b[0m\u001b[1;33m.\u001b[0m\u001b[0m_combine_frame\u001b[0m\u001b[1;33m(\u001b[0m\u001b[0mother\u001b[0m\u001b[1;33m,\u001b[0m \u001b[0mna_op\u001b[0m\u001b[1;33m,\u001b[0m \u001b[0mfill_value\u001b[0m\u001b[1;33m)\u001b[0m\u001b[1;33m\u001b[0m\u001b[1;33m\u001b[0m\u001b[0m\n\u001b[0m\u001b[0;32m    420\u001b[0m \u001b[1;33m\u001b[0m\u001b[0m\n\u001b[0;32m    421\u001b[0m         \u001b[1;32melif\u001b[0m \u001b[0misinstance\u001b[0m\u001b[1;33m(\u001b[0m\u001b[0mother\u001b[0m\u001b[1;33m,\u001b[0m \u001b[0mABCSeries\u001b[0m\u001b[1;33m)\u001b[0m\u001b[1;33m:\u001b[0m\u001b[1;33m\u001b[0m\u001b[1;33m\u001b[0m\u001b[0m\n",
      "\u001b[1;32m~\\AppData\\Local\\Continuum\\anaconda3\\lib\\site-packages\\pandas\\core\\frame.py\u001b[0m in \u001b[0;36m_combine_frame\u001b[1;34m(self, other, func, fill_value)\u001b[0m\n\u001b[0;32m   6063\u001b[0m                 \u001b[1;32mreturn\u001b[0m \u001b[0mfunc\u001b[0m\u001b[1;33m(\u001b[0m\u001b[0mleft\u001b[0m\u001b[1;33m,\u001b[0m \u001b[0mright\u001b[0m\u001b[1;33m)\u001b[0m\u001b[1;33m\u001b[0m\u001b[1;33m\u001b[0m\u001b[0m\n\u001b[0;32m   6064\u001b[0m \u001b[1;33m\u001b[0m\u001b[0m\n\u001b[1;32m-> 6065\u001b[1;33m         \u001b[0mnew_data\u001b[0m \u001b[1;33m=\u001b[0m \u001b[0mself\u001b[0m\u001b[1;33m.\u001b[0m\u001b[0m_dispatch_frame_op\u001b[0m\u001b[1;33m(\u001b[0m\u001b[0mother\u001b[0m\u001b[1;33m,\u001b[0m \u001b[0m_arith_op\u001b[0m\u001b[1;33m)\u001b[0m\u001b[1;33m\u001b[0m\u001b[1;33m\u001b[0m\u001b[0m\n\u001b[0m\u001b[0;32m   6066\u001b[0m         \u001b[1;32mreturn\u001b[0m \u001b[0mnew_data\u001b[0m\u001b[1;33m\u001b[0m\u001b[1;33m\u001b[0m\u001b[0m\n\u001b[0;32m   6067\u001b[0m \u001b[1;33m\u001b[0m\u001b[0m\n",
      "\u001b[1;32m~\\AppData\\Local\\Continuum\\anaconda3\\lib\\site-packages\\pandas\\core\\frame.py\u001b[0m in \u001b[0;36m_dispatch_frame_op\u001b[1;34m(self, right, func, axis)\u001b[0m\n\u001b[0;32m   6016\u001b[0m             \u001b[1;31m#  _frame_arith_method_with_reindex\u001b[0m\u001b[1;33m\u001b[0m\u001b[1;33m\u001b[0m\u001b[1;33m\u001b[0m\u001b[0m\n\u001b[0;32m   6017\u001b[0m \u001b[1;33m\u001b[0m\u001b[0m\n\u001b[1;32m-> 6018\u001b[1;33m             \u001b[0mbm\u001b[0m \u001b[1;33m=\u001b[0m \u001b[0mself\u001b[0m\u001b[1;33m.\u001b[0m\u001b[0m_mgr\u001b[0m\u001b[1;33m.\u001b[0m\u001b[0moperate_blockwise\u001b[0m\u001b[1;33m(\u001b[0m\u001b[0mright\u001b[0m\u001b[1;33m.\u001b[0m\u001b[0m_mgr\u001b[0m\u001b[1;33m,\u001b[0m \u001b[0marray_op\u001b[0m\u001b[1;33m)\u001b[0m\u001b[1;33m\u001b[0m\u001b[1;33m\u001b[0m\u001b[0m\n\u001b[0m\u001b[0;32m   6019\u001b[0m             \u001b[1;32mreturn\u001b[0m \u001b[0mtype\u001b[0m\u001b[1;33m(\u001b[0m\u001b[0mself\u001b[0m\u001b[1;33m)\u001b[0m\u001b[1;33m(\u001b[0m\u001b[0mbm\u001b[0m\u001b[1;33m)\u001b[0m\u001b[1;33m\u001b[0m\u001b[1;33m\u001b[0m\u001b[0m\n\u001b[0;32m   6020\u001b[0m \u001b[1;33m\u001b[0m\u001b[0m\n",
      "\u001b[1;32m~\\AppData\\Local\\Continuum\\anaconda3\\lib\\site-packages\\pandas\\core\\internals\\managers.py\u001b[0m in \u001b[0;36moperate_blockwise\u001b[1;34m(self, other, array_op)\u001b[0m\n\u001b[0;32m    372\u001b[0m         \u001b[0mApply\u001b[0m \u001b[0marray_op\u001b[0m \u001b[0mblockwise\u001b[0m \u001b[1;32mwith\u001b[0m \u001b[0manother\u001b[0m \u001b[1;33m(\u001b[0m\u001b[0maligned\u001b[0m\u001b[1;33m)\u001b[0m \u001b[0mBlockManager\u001b[0m\u001b[1;33m.\u001b[0m\u001b[1;33m\u001b[0m\u001b[1;33m\u001b[0m\u001b[0m\n\u001b[0;32m    373\u001b[0m         \"\"\"\n\u001b[1;32m--> 374\u001b[1;33m         \u001b[1;32mreturn\u001b[0m \u001b[0moperate_blockwise\u001b[0m\u001b[1;33m(\u001b[0m\u001b[0mself\u001b[0m\u001b[1;33m,\u001b[0m \u001b[0mother\u001b[0m\u001b[1;33m,\u001b[0m \u001b[0marray_op\u001b[0m\u001b[1;33m)\u001b[0m\u001b[1;33m\u001b[0m\u001b[1;33m\u001b[0m\u001b[0m\n\u001b[0m\u001b[0;32m    375\u001b[0m \u001b[1;33m\u001b[0m\u001b[0m\n\u001b[0;32m    376\u001b[0m     def apply(\n",
      "\u001b[1;32m~\\AppData\\Local\\Continuum\\anaconda3\\lib\\site-packages\\pandas\\core\\internals\\ops.py\u001b[0m in \u001b[0;36moperate_blockwise\u001b[1;34m(left, right, array_op)\u001b[0m\n\u001b[0;32m     52\u001b[0m     \u001b[0mres_blks\u001b[0m\u001b[1;33m:\u001b[0m \u001b[0mList\u001b[0m\u001b[1;33m[\u001b[0m\u001b[1;34m\"Block\"\u001b[0m\u001b[1;33m]\u001b[0m \u001b[1;33m=\u001b[0m \u001b[1;33m[\u001b[0m\u001b[1;33m]\u001b[0m\u001b[1;33m\u001b[0m\u001b[1;33m\u001b[0m\u001b[0m\n\u001b[0;32m     53\u001b[0m     \u001b[1;32mfor\u001b[0m \u001b[0mlvals\u001b[0m\u001b[1;33m,\u001b[0m \u001b[0mrvals\u001b[0m\u001b[1;33m,\u001b[0m \u001b[0mlocs\u001b[0m\u001b[1;33m,\u001b[0m \u001b[0mleft_ea\u001b[0m\u001b[1;33m,\u001b[0m \u001b[0mright_ea\u001b[0m\u001b[1;33m,\u001b[0m \u001b[0mrblk\u001b[0m \u001b[1;32min\u001b[0m \u001b[0m_iter_block_pairs\u001b[0m\u001b[1;33m(\u001b[0m\u001b[0mleft\u001b[0m\u001b[1;33m,\u001b[0m \u001b[0mright\u001b[0m\u001b[1;33m)\u001b[0m\u001b[1;33m:\u001b[0m\u001b[1;33m\u001b[0m\u001b[1;33m\u001b[0m\u001b[0m\n\u001b[1;32m---> 54\u001b[1;33m         \u001b[0mres_values\u001b[0m \u001b[1;33m=\u001b[0m \u001b[0marray_op\u001b[0m\u001b[1;33m(\u001b[0m\u001b[0mlvals\u001b[0m\u001b[1;33m,\u001b[0m \u001b[0mrvals\u001b[0m\u001b[1;33m)\u001b[0m\u001b[1;33m\u001b[0m\u001b[1;33m\u001b[0m\u001b[0m\n\u001b[0m\u001b[0;32m     55\u001b[0m         \u001b[1;32mif\u001b[0m \u001b[0mleft_ea\u001b[0m \u001b[1;32mand\u001b[0m \u001b[1;32mnot\u001b[0m \u001b[0mright_ea\u001b[0m \u001b[1;32mand\u001b[0m \u001b[0mhasattr\u001b[0m\u001b[1;33m(\u001b[0m\u001b[0mres_values\u001b[0m\u001b[1;33m,\u001b[0m \u001b[1;34m\"reshape\"\u001b[0m\u001b[1;33m)\u001b[0m\u001b[1;33m:\u001b[0m\u001b[1;33m\u001b[0m\u001b[1;33m\u001b[0m\u001b[0m\n\u001b[0;32m     56\u001b[0m             \u001b[0mres_values\u001b[0m \u001b[1;33m=\u001b[0m \u001b[0mres_values\u001b[0m\u001b[1;33m.\u001b[0m\u001b[0mreshape\u001b[0m\u001b[1;33m(\u001b[0m\u001b[1;36m1\u001b[0m\u001b[1;33m,\u001b[0m \u001b[1;33m-\u001b[0m\u001b[1;36m1\u001b[0m\u001b[1;33m)\u001b[0m\u001b[1;33m\u001b[0m\u001b[1;33m\u001b[0m\u001b[0m\n",
      "\u001b[1;32m~\\AppData\\Local\\Continuum\\anaconda3\\lib\\site-packages\\pandas\\core\\ops\\array_ops.py\u001b[0m in \u001b[0;36marithmetic_op\u001b[1;34m(left, right, op)\u001b[0m\n\u001b[0;32m    187\u001b[0m     \u001b[1;32melse\u001b[0m\u001b[1;33m:\u001b[0m\u001b[1;33m\u001b[0m\u001b[1;33m\u001b[0m\u001b[0m\n\u001b[0;32m    188\u001b[0m         \u001b[1;32mwith\u001b[0m \u001b[0mnp\u001b[0m\u001b[1;33m.\u001b[0m\u001b[0merrstate\u001b[0m\u001b[1;33m(\u001b[0m\u001b[0mall\u001b[0m\u001b[1;33m=\u001b[0m\u001b[1;34m\"ignore\"\u001b[0m\u001b[1;33m)\u001b[0m\u001b[1;33m:\u001b[0m\u001b[1;33m\u001b[0m\u001b[1;33m\u001b[0m\u001b[0m\n\u001b[1;32m--> 189\u001b[1;33m             \u001b[0mres_values\u001b[0m \u001b[1;33m=\u001b[0m \u001b[0m_na_arithmetic_op\u001b[0m\u001b[1;33m(\u001b[0m\u001b[0mlvalues\u001b[0m\u001b[1;33m,\u001b[0m \u001b[0mrvalues\u001b[0m\u001b[1;33m,\u001b[0m \u001b[0mop\u001b[0m\u001b[1;33m)\u001b[0m\u001b[1;33m\u001b[0m\u001b[1;33m\u001b[0m\u001b[0m\n\u001b[0m\u001b[0;32m    190\u001b[0m \u001b[1;33m\u001b[0m\u001b[0m\n\u001b[0;32m    191\u001b[0m     \u001b[1;32mreturn\u001b[0m \u001b[0mres_values\u001b[0m\u001b[1;33m\u001b[0m\u001b[1;33m\u001b[0m\u001b[0m\n",
      "\u001b[1;32m~\\AppData\\Local\\Continuum\\anaconda3\\lib\\site-packages\\pandas\\core\\ops\\array_ops.py\u001b[0m in \u001b[0;36m_na_arithmetic_op\u001b[1;34m(left, right, op, is_cmp)\u001b[0m\n\u001b[0;32m    147\u001b[0m             \u001b[1;31m#  will handle complex numbers incorrectly, see GH#32047\u001b[0m\u001b[1;33m\u001b[0m\u001b[1;33m\u001b[0m\u001b[1;33m\u001b[0m\u001b[0m\n\u001b[0;32m    148\u001b[0m             \u001b[1;32mraise\u001b[0m\u001b[1;33m\u001b[0m\u001b[1;33m\u001b[0m\u001b[0m\n\u001b[1;32m--> 149\u001b[1;33m         \u001b[0mresult\u001b[0m \u001b[1;33m=\u001b[0m \u001b[0m_masked_arith_op\u001b[0m\u001b[1;33m(\u001b[0m\u001b[0mleft\u001b[0m\u001b[1;33m,\u001b[0m \u001b[0mright\u001b[0m\u001b[1;33m,\u001b[0m \u001b[0mop\u001b[0m\u001b[1;33m)\u001b[0m\u001b[1;33m\u001b[0m\u001b[1;33m\u001b[0m\u001b[0m\n\u001b[0m\u001b[0;32m    150\u001b[0m \u001b[1;33m\u001b[0m\u001b[0m\n\u001b[0;32m    151\u001b[0m     \u001b[1;32mif\u001b[0m \u001b[0mis_cmp\u001b[0m \u001b[1;32mand\u001b[0m \u001b[1;33m(\u001b[0m\u001b[0mis_scalar\u001b[0m\u001b[1;33m(\u001b[0m\u001b[0mresult\u001b[0m\u001b[1;33m)\u001b[0m \u001b[1;32mor\u001b[0m \u001b[0mresult\u001b[0m \u001b[1;32mis\u001b[0m \u001b[0mNotImplemented\u001b[0m\u001b[1;33m)\u001b[0m\u001b[1;33m:\u001b[0m\u001b[1;33m\u001b[0m\u001b[1;33m\u001b[0m\u001b[0m\n",
      "\u001b[1;32m~\\AppData\\Local\\Continuum\\anaconda3\\lib\\site-packages\\pandas\\core\\ops\\array_ops.py\u001b[0m in \u001b[0;36m_masked_arith_op\u001b[1;34m(x, y, op)\u001b[0m\n\u001b[0;32m     89\u001b[0m         \u001b[1;32mif\u001b[0m \u001b[0mmask\u001b[0m\u001b[1;33m.\u001b[0m\u001b[0many\u001b[0m\u001b[1;33m(\u001b[0m\u001b[1;33m)\u001b[0m\u001b[1;33m:\u001b[0m\u001b[1;33m\u001b[0m\u001b[1;33m\u001b[0m\u001b[0m\n\u001b[0;32m     90\u001b[0m             \u001b[1;32mwith\u001b[0m \u001b[0mnp\u001b[0m\u001b[1;33m.\u001b[0m\u001b[0merrstate\u001b[0m\u001b[1;33m(\u001b[0m\u001b[0mall\u001b[0m\u001b[1;33m=\u001b[0m\u001b[1;34m\"ignore\"\u001b[0m\u001b[1;33m)\u001b[0m\u001b[1;33m:\u001b[0m\u001b[1;33m\u001b[0m\u001b[1;33m\u001b[0m\u001b[0m\n\u001b[1;32m---> 91\u001b[1;33m                 \u001b[0mresult\u001b[0m\u001b[1;33m[\u001b[0m\u001b[0mmask\u001b[0m\u001b[1;33m]\u001b[0m \u001b[1;33m=\u001b[0m \u001b[0mop\u001b[0m\u001b[1;33m(\u001b[0m\u001b[0mxrav\u001b[0m\u001b[1;33m[\u001b[0m\u001b[0mmask\u001b[0m\u001b[1;33m]\u001b[0m\u001b[1;33m,\u001b[0m \u001b[0myrav\u001b[0m\u001b[1;33m[\u001b[0m\u001b[0mmask\u001b[0m\u001b[1;33m]\u001b[0m\u001b[1;33m)\u001b[0m\u001b[1;33m\u001b[0m\u001b[1;33m\u001b[0m\u001b[0m\n\u001b[0m\u001b[0;32m     92\u001b[0m \u001b[1;33m\u001b[0m\u001b[0m\n\u001b[0;32m     93\u001b[0m     \u001b[1;32melse\u001b[0m\u001b[1;33m:\u001b[0m\u001b[1;33m\u001b[0m\u001b[1;33m\u001b[0m\u001b[0m\n",
      "\u001b[1;31mTypeError\u001b[0m: unsupported operand type(s) for /: 'float' and 'str'"
     ]
    }
   ],
   "source": [
    "df_unicorn_growth=pd.DataFrame(df_unicorn_sales.pct_change(axis=1).T.max()).rename(columns={0:'성장율_매출액'}).reset_index()\n",
    "df_unicorn_growth_ls= df_unicorn_growth.merge(pd.DataFrame(df_unicorn.filter(regex='사업|성장율|valuation').groupby('사업장명').max()[['성장율_직원수','valuation']]).reset_index())\n",
    "df_unicorn_growth_ls=df_unicorn_growth_ls.rename(columns={'성장율_매출액':'max성장율_매출액','성장율_직원수':'max연평균성장율_직원수'})\n",
    "df_unicorn_growth_ls.head(1)"
   ]
  },
  {
   "cell_type": "code",
   "execution_count": 1377,
   "metadata": {
    "scrolled": true
   },
   "outputs": [
    {
     "data": {
      "text/html": [
       "<div>\n",
       "<style scoped>\n",
       "    .dataframe tbody tr th:only-of-type {\n",
       "        vertical-align: middle;\n",
       "    }\n",
       "\n",
       "    .dataframe tbody tr th {\n",
       "        vertical-align: top;\n",
       "    }\n",
       "\n",
       "    .dataframe thead th {\n",
       "        text-align: right;\n",
       "    }\n",
       "</style>\n",
       "<table border=\"1\" class=\"dataframe\">\n",
       "  <thead>\n",
       "    <tr style=\"text-align: right;\">\n",
       "      <th></th>\n",
       "      <th>사업장명</th>\n",
       "      <th>max성장율_매출액</th>\n",
       "      <th>max연평균성장율_직원수</th>\n",
       "      <th>valuation</th>\n",
       "    </tr>\n",
       "  </thead>\n",
       "  <tbody>\n",
       "    <tr>\n",
       "      <th>0</th>\n",
       "      <td>(주)크래프톤</td>\n",
       "      <td>1.13</td>\n",
       "      <td>-0.83</td>\n",
       "      <td>2.20</td>\n",
       "    </tr>\n",
       "  </tbody>\n",
       "</table>\n",
       "</div>"
      ],
      "text/plain": [
       "      사업장명  max성장율_매출액  max연평균성장율_직원수  valuation\n",
       "0  (주)크래프톤        1.13          -0.83       2.20"
      ]
     },
     "execution_count": 1377,
     "metadata": {},
     "output_type": "execute_result"
    }
   ],
   "source": [
    "# 표준화\n",
    "from sklearn.preprocessing import StandardScaler\n",
    "df_unicorn_growth_ls.iloc[:,1:4]=StandardScaler().fit_transform(df_unicorn_growth_ls.iloc[:,1:4])\n",
    "df_unicorn_growth_ls.head(1)"
   ]
  },
  {
   "cell_type": "code",
   "execution_count": 1501,
   "metadata": {
    "scrolled": true
   },
   "outputs": [
    {
     "data": {
      "text/html": [
       "<div>\n",
       "<style scoped>\n",
       "    .dataframe tbody tr th:only-of-type {\n",
       "        vertical-align: middle;\n",
       "    }\n",
       "\n",
       "    .dataframe tbody tr th {\n",
       "        vertical-align: top;\n",
       "    }\n",
       "\n",
       "    .dataframe thead th {\n",
       "        text-align: right;\n",
       "    }\n",
       "</style>\n",
       "<table border=\"1\" class=\"dataframe\">\n",
       "  <thead>\n",
       "    <tr style=\"text-align: right;\">\n",
       "      <th></th>\n",
       "      <th>valuation</th>\n",
       "    </tr>\n",
       "  </thead>\n",
       "  <tbody>\n",
       "    <tr>\n",
       "      <th>연평균성장율_직원수</th>\n",
       "      <td>-0.21</td>\n",
       "    </tr>\n",
       "    <tr>\n",
       "      <th>valuation</th>\n",
       "      <td>1.00</td>\n",
       "    </tr>\n",
       "    <tr>\n",
       "      <th>max연평균성장율_직원수</th>\n",
       "      <td>-0.34</td>\n",
       "    </tr>\n",
       "  </tbody>\n",
       "</table>\n",
       "</div>"
      ],
      "text/plain": [
       "               valuation\n",
       "연평균성장율_직원수         -0.21\n",
       "valuation           1.00\n",
       "max연평균성장율_직원수      -0.34"
      ]
     },
     "execution_count": 1501,
     "metadata": {},
     "output_type": "execute_result"
    }
   ],
   "source": [
    "df_unicorn_growth_ls= df_unicorn_growth.merge(pd.DataFrame(df_unicorn.filter(regex='사업|성장율|valuation').groupby('사업장명').max()[['성장율_직원수','valuation']]).reset_index())\n",
    "df_unicorn_growth_ls=df_unicorn_growth_ls.rename(columns={'성장율_매출액':'max성장율_매출액','성장율_직원수':'max연평균성장율_직원수','성장율_매출액':'max성장율_연금보험료'})\n",
    "df_unicorn_growth_ls.corr(method='pearson').filter(regex='valuation') # 상관계수"
   ]
  },
  {
   "cell_type": "code",
   "execution_count": 1379,
   "metadata": {},
   "outputs": [],
   "source": [
    "from sklearn import linear_model\n",
    "linear_regression = linear_model.LinearRegression()\n",
    "X = df_unicorn_growth_ls[['max성장율_매출액','max연평균성장율_직원수']]      # 독립           \n",
    "y = df_unicorn_growth_ls['valuation']                                      # 종속\n",
    "linear_regression.fit(X = pd.DataFrame(X), y = y)\n",
    "prediction = linear_regression.predict(X = pd.DataFrame(X))\n",
    "# 잔차\n",
    "residuals = y-prediction\n",
    "# 결정계수\n",
    "SSE = (residuals**2).sum()\n",
    "SST = ((y-y.mean())**2).sum()\n",
    "R_squared = 1 - (SSE/SST)"
   ]
  },
  {
   "cell_type": "code",
   "execution_count": 1380,
   "metadata": {
    "scrolled": true
   },
   "outputs": [
    {
     "name": "stdout",
     "output_type": "stream",
     "text": [
      "8.387611204706477e-17\n",
      "coef of x1&x2 : [ 0.91485518 -0.81766105]\n",
      "R_squared =  0.7474552506734968\n"
     ]
    }
   ],
   "source": [
    "print(linear_regression.intercept_)\n",
    "print('coef of x1&x2 :', linear_regression.coef_)\n",
    "print('R_squared = ', R_squared)"
   ]
  },
  {
   "cell_type": "code",
   "execution_count": null,
   "metadata": {
    "scrolled": true
   },
   "outputs": [],
   "source": []
  },
  {
   "cell_type": "code",
   "execution_count": 1360,
   "metadata": {},
   "outputs": [],
   "source": []
  },
  {
   "cell_type": "code",
   "execution_count": 1356,
   "metadata": {},
   "outputs": [
    {
     "name": "stdout",
     "output_type": "stream",
     "text": [
      "R_squared =  0.5132758318357186\n"
     ]
    }
   ],
   "source": [
    "\n",
    "# 적합도 검증 - 결정계수\n",
    "SSE = (residuals**2).sum()\n",
    "SST = ((y-y.mean())**2).sum()\n",
    "R_squared = 1 - (SSE/SST)\n"
   ]
  },
  {
   "cell_type": "code",
   "execution_count": 1319,
   "metadata": {
    "scrolled": true
   },
   "outputs": [
    {
     "data": {
      "text/plain": [
       "count    7.00\n",
       "mean     0.00\n",
       "std      0.59\n",
       "min     -0.81\n",
       "25%     -0.37\n",
       "50%     -0.12\n",
       "75%      0.47\n",
       "max      0.75\n",
       "Name: valuation, dtype: float64"
      ]
     },
     "execution_count": 1319,
     "metadata": {},
     "output_type": "execute_result"
    }
   ],
   "source": [
    "residuals.describe()"
   ]
  },
  {
   "cell_type": "code",
   "execution_count": null,
   "metadata": {},
   "outputs": [],
   "source": [
    "고객만족도지수를 산출하는데 있어 가중치\n",
    "산출방법에 따라 각 차원의 가중치 크기 및 순위, 그리고\n",
    "고객만족도지수가 어떻게 달라지는지를 보다 상세히 비\n",
    "교하는데 목적이 있다. 이를 위해 1) 가중치 산출방법을\n",
    "주관적 방법과 통계적 방법으로 구분하고, 2) 주관적 방\n",
    "법인 고정총합법과 통계적 방법인 상관분석, 회귀분석,\n",
    "주성분분석, 요인분석, 구조방정식을 이용한 가중치를 비\n",
    "교하며, 3) 각각의 가중치 산출방법에 의한 최종적인 고\n",
    "객만족도지수를 비교함으로써 고객만족도지수를 구할\n",
    "때 최선의 방법을 제시하고자 한다.\n"
   ]
  },
  {
   "cell_type": "code",
   "execution_count": 1125,
   "metadata": {},
   "outputs": [
    {
     "data": {
      "text/html": [
       "<div>\n",
       "<style scoped>\n",
       "    .dataframe tbody tr th:only-of-type {\n",
       "        vertical-align: middle;\n",
       "    }\n",
       "\n",
       "    .dataframe tbody tr th {\n",
       "        vertical-align: top;\n",
       "    }\n",
       "\n",
       "    .dataframe thead th {\n",
       "        text-align: right;\n",
       "    }\n",
       "</style>\n",
       "<table border=\"1\" class=\"dataframe\">\n",
       "  <thead>\n",
       "    <tr style=\"text-align: right;\">\n",
       "      <th></th>\n",
       "      <th>사업장명</th>\n",
       "      <th>직원수</th>\n",
       "      <th>성장율_직원수</th>\n",
       "      <th>기간내성장율_직원수</th>\n",
       "      <th>연평균성장율_직원수</th>\n",
       "    </tr>\n",
       "  </thead>\n",
       "  <tbody>\n",
       "    <tr>\n",
       "      <th>0</th>\n",
       "      <td>（주）비바리퍼블리카</td>\n",
       "      <td>310</td>\n",
       "      <td>0.96</td>\n",
       "      <td>10.48</td>\n",
       "      <td>0.69</td>\n",
       "    </tr>\n",
       "    <tr>\n",
       "      <th>1</th>\n",
       "      <td>（주）비바리퍼블리카</td>\n",
       "      <td>158</td>\n",
       "      <td>0.53</td>\n",
       "      <td>0.00</td>\n",
       "      <td>0.69</td>\n",
       "    </tr>\n",
       "    <tr>\n",
       "      <th>2</th>\n",
       "      <td>（주）비바리퍼블리카</td>\n",
       "      <td>103</td>\n",
       "      <td>0.72</td>\n",
       "      <td>0.00</td>\n",
       "      <td>0.69</td>\n",
       "    </tr>\n",
       "    <tr>\n",
       "      <th>3</th>\n",
       "      <td>（주）비바리퍼블리카</td>\n",
       "      <td>60</td>\n",
       "      <td>1.22</td>\n",
       "      <td>0.00</td>\n",
       "      <td>0.69</td>\n",
       "    </tr>\n",
       "    <tr>\n",
       "      <th>4</th>\n",
       "      <td>（주）비바리퍼블리카</td>\n",
       "      <td>27</td>\n",
       "      <td>0.00</td>\n",
       "      <td>0.00</td>\n",
       "      <td>0.69</td>\n",
       "    </tr>\n",
       "    <tr>\n",
       "      <th>5</th>\n",
       "      <td>주식회사쏘카</td>\n",
       "      <td>364</td>\n",
       "      <td>0.30</td>\n",
       "      <td>3.09</td>\n",
       "      <td>0.48</td>\n",
       "    </tr>\n",
       "    <tr>\n",
       "      <th>6</th>\n",
       "      <td>주식회사쏘카</td>\n",
       "      <td>281</td>\n",
       "      <td>-0.02</td>\n",
       "      <td>0.00</td>\n",
       "      <td>0.48</td>\n",
       "    </tr>\n",
       "    <tr>\n",
       "      <th>7</th>\n",
       "      <td>주식회사쏘카</td>\n",
       "      <td>287</td>\n",
       "      <td>0.06</td>\n",
       "      <td>0.00</td>\n",
       "      <td>0.48</td>\n",
       "    </tr>\n",
       "    <tr>\n",
       "      <th>8</th>\n",
       "      <td>주식회사쏘카</td>\n",
       "      <td>271</td>\n",
       "      <td>2.04</td>\n",
       "      <td>0.00</td>\n",
       "      <td>0.48</td>\n",
       "    </tr>\n",
       "    <tr>\n",
       "      <th>9</th>\n",
       "      <td>주식회사쏘카</td>\n",
       "      <td>89</td>\n",
       "      <td>0.00</td>\n",
       "      <td>0.00</td>\n",
       "      <td>0.48</td>\n",
       "    </tr>\n",
       "    <tr>\n",
       "      <th>10</th>\n",
       "      <td>주식회사 무신사</td>\n",
       "      <td>332</td>\n",
       "      <td>0.91</td>\n",
       "      <td>4.44</td>\n",
       "      <td>0.44</td>\n",
       "    </tr>\n",
       "    <tr>\n",
       "      <th>11</th>\n",
       "      <td>주식회사 무신사</td>\n",
       "      <td>174</td>\n",
       "      <td>0.74</td>\n",
       "      <td>0.00</td>\n",
       "      <td>0.44</td>\n",
       "    </tr>\n",
       "    <tr>\n",
       "      <th>12</th>\n",
       "      <td>주식회사 무신사</td>\n",
       "      <td>100</td>\n",
       "      <td>0.19</td>\n",
       "      <td>0.00</td>\n",
       "      <td>0.44</td>\n",
       "    </tr>\n",
       "    <tr>\n",
       "      <th>13</th>\n",
       "      <td>주식회사 무신사</td>\n",
       "      <td>84</td>\n",
       "      <td>0.38</td>\n",
       "      <td>0.00</td>\n",
       "      <td>0.44</td>\n",
       "    </tr>\n",
       "    <tr>\n",
       "      <th>14</th>\n",
       "      <td>주식회사 무신사</td>\n",
       "      <td>61</td>\n",
       "      <td>0.00</td>\n",
       "      <td>0.00</td>\n",
       "      <td>0.44</td>\n",
       "    </tr>\n",
       "    <tr>\n",
       "      <th>15</th>\n",
       "      <td>(주)크래프톤</td>\n",
       "      <td>718</td>\n",
       "      <td>0.26</td>\n",
       "      <td>1.94</td>\n",
       "      <td>0.26</td>\n",
       "    </tr>\n",
       "    <tr>\n",
       "      <th>16</th>\n",
       "      <td>(주)크래프톤</td>\n",
       "      <td>570</td>\n",
       "      <td>0.41</td>\n",
       "      <td>0.00</td>\n",
       "      <td>0.26</td>\n",
       "    </tr>\n",
       "    <tr>\n",
       "      <th>17</th>\n",
       "      <td>(주)크래프톤</td>\n",
       "      <td>404</td>\n",
       "      <td>0.57</td>\n",
       "      <td>0.00</td>\n",
       "      <td>0.26</td>\n",
       "    </tr>\n",
       "    <tr>\n",
       "      <th>18</th>\n",
       "      <td>(주)크래프톤</td>\n",
       "      <td>257</td>\n",
       "      <td>0.05</td>\n",
       "      <td>0.00</td>\n",
       "      <td>0.26</td>\n",
       "    </tr>\n",
       "    <tr>\n",
       "      <th>19</th>\n",
       "      <td>(주)크래프톤</td>\n",
       "      <td>244</td>\n",
       "      <td>0.00</td>\n",
       "      <td>0.00</td>\n",
       "      <td>0.26</td>\n",
       "    </tr>\n",
       "    <tr>\n",
       "      <th>20</th>\n",
       "      <td>(주)야놀자</td>\n",
       "      <td>752</td>\n",
       "      <td>0.82</td>\n",
       "      <td>4.78</td>\n",
       "      <td>0.45</td>\n",
       "    </tr>\n",
       "    <tr>\n",
       "      <th>21</th>\n",
       "      <td>(주)야놀자</td>\n",
       "      <td>414</td>\n",
       "      <td>0.47</td>\n",
       "      <td>0.00</td>\n",
       "      <td>0.45</td>\n",
       "    </tr>\n",
       "    <tr>\n",
       "      <th>22</th>\n",
       "      <td>(주)야놀자</td>\n",
       "      <td>281</td>\n",
       "      <td>0.29</td>\n",
       "      <td>0.00</td>\n",
       "      <td>0.45</td>\n",
       "    </tr>\n",
       "    <tr>\n",
       "      <th>23</th>\n",
       "      <td>(주)야놀자</td>\n",
       "      <td>218</td>\n",
       "      <td>0.68</td>\n",
       "      <td>0.00</td>\n",
       "      <td>0.45</td>\n",
       "    </tr>\n",
       "    <tr>\n",
       "      <th>24</th>\n",
       "      <td>(주)야놀자</td>\n",
       "      <td>130</td>\n",
       "      <td>0.00</td>\n",
       "      <td>0.00</td>\n",
       "      <td>0.45</td>\n",
       "    </tr>\n",
       "    <tr>\n",
       "      <th>25</th>\n",
       "      <td>(주)에이프로젠</td>\n",
       "      <td>178</td>\n",
       "      <td>0.39</td>\n",
       "      <td>1.09</td>\n",
       "      <td>0.18</td>\n",
       "    </tr>\n",
       "    <tr>\n",
       "      <th>26</th>\n",
       "      <td>(주)에이프로젠</td>\n",
       "      <td>128</td>\n",
       "      <td>-0.12</td>\n",
       "      <td>0.00</td>\n",
       "      <td>0.18</td>\n",
       "    </tr>\n",
       "    <tr>\n",
       "      <th>27</th>\n",
       "      <td>(주)에이프로젠</td>\n",
       "      <td>145</td>\n",
       "      <td>0.22</td>\n",
       "      <td>0.00</td>\n",
       "      <td>0.18</td>\n",
       "    </tr>\n",
       "    <tr>\n",
       "      <th>28</th>\n",
       "      <td>(주)에이프로젠</td>\n",
       "      <td>119</td>\n",
       "      <td>0.40</td>\n",
       "      <td>0.00</td>\n",
       "      <td>0.18</td>\n",
       "    </tr>\n",
       "    <tr>\n",
       "      <th>29</th>\n",
       "      <td>(주)에이프로젠</td>\n",
       "      <td>85</td>\n",
       "      <td>0.00</td>\n",
       "      <td>0.00</td>\n",
       "      <td>0.18</td>\n",
       "    </tr>\n",
       "    <tr>\n",
       "      <th>30</th>\n",
       "      <td>（주）지피클럽</td>\n",
       "      <td>113</td>\n",
       "      <td>1.40</td>\n",
       "      <td>13.12</td>\n",
       "      <td>0.97</td>\n",
       "    </tr>\n",
       "    <tr>\n",
       "      <th>31</th>\n",
       "      <td>（주）지피클럽</td>\n",
       "      <td>47</td>\n",
       "      <td>2.92</td>\n",
       "      <td>0.00</td>\n",
       "      <td>0.97</td>\n",
       "    </tr>\n",
       "    <tr>\n",
       "      <th>32</th>\n",
       "      <td>（주）지피클럽</td>\n",
       "      <td>12</td>\n",
       "      <td>-0.08</td>\n",
       "      <td>0.00</td>\n",
       "      <td>0.97</td>\n",
       "    </tr>\n",
       "    <tr>\n",
       "      <th>33</th>\n",
       "      <td>（주）지피클럽</td>\n",
       "      <td>13</td>\n",
       "      <td>0.62</td>\n",
       "      <td>0.00</td>\n",
       "      <td>0.97</td>\n",
       "    </tr>\n",
       "    <tr>\n",
       "      <th>34</th>\n",
       "      <td>（주）지피클럽</td>\n",
       "      <td>8</td>\n",
       "      <td>0.00</td>\n",
       "      <td>0.00</td>\n",
       "      <td>0.97</td>\n",
       "    </tr>\n",
       "  </tbody>\n",
       "</table>\n",
       "</div>"
      ],
      "text/plain": [
       "          사업장명  직원수  성장율_직원수  기간내성장율_직원수  연평균성장율_직원수\n",
       "0   （주）비바리퍼블리카  310     0.96       10.48        0.69\n",
       "1   （주）비바리퍼블리카  158     0.53        0.00        0.69\n",
       "2   （주）비바리퍼블리카  103     0.72        0.00        0.69\n",
       "3   （주）비바리퍼블리카   60     1.22        0.00        0.69\n",
       "4   （주）비바리퍼블리카   27     0.00        0.00        0.69\n",
       "5       주식회사쏘카  364     0.30        3.09        0.48\n",
       "6       주식회사쏘카  281    -0.02        0.00        0.48\n",
       "7       주식회사쏘카  287     0.06        0.00        0.48\n",
       "8       주식회사쏘카  271     2.04        0.00        0.48\n",
       "9       주식회사쏘카   89     0.00        0.00        0.48\n",
       "10    주식회사 무신사  332     0.91        4.44        0.44\n",
       "11    주식회사 무신사  174     0.74        0.00        0.44\n",
       "12    주식회사 무신사  100     0.19        0.00        0.44\n",
       "13    주식회사 무신사   84     0.38        0.00        0.44\n",
       "14    주식회사 무신사   61     0.00        0.00        0.44\n",
       "15     (주)크래프톤  718     0.26        1.94        0.26\n",
       "16     (주)크래프톤  570     0.41        0.00        0.26\n",
       "17     (주)크래프톤  404     0.57        0.00        0.26\n",
       "18     (주)크래프톤  257     0.05        0.00        0.26\n",
       "19     (주)크래프톤  244     0.00        0.00        0.26\n",
       "20      (주)야놀자  752     0.82        4.78        0.45\n",
       "21      (주)야놀자  414     0.47        0.00        0.45\n",
       "22      (주)야놀자  281     0.29        0.00        0.45\n",
       "23      (주)야놀자  218     0.68        0.00        0.45\n",
       "24      (주)야놀자  130     0.00        0.00        0.45\n",
       "25    (주)에이프로젠  178     0.39        1.09        0.18\n",
       "26    (주)에이프로젠  128    -0.12        0.00        0.18\n",
       "27    (주)에이프로젠  145     0.22        0.00        0.18\n",
       "28    (주)에이프로젠  119     0.40        0.00        0.18\n",
       "29    (주)에이프로젠   85     0.00        0.00        0.18\n",
       "30     （주）지피클럽  113     1.40       13.12        0.97\n",
       "31     （주）지피클럽   47     2.92        0.00        0.97\n",
       "32     （주）지피클럽   12    -0.08        0.00        0.97\n",
       "33     （주）지피클럽   13     0.62        0.00        0.97\n",
       "34     （주）지피클럽    8     0.00        0.00        0.97"
      ]
     },
     "execution_count": 1125,
     "metadata": {},
     "output_type": "execute_result"
    }
   ],
   "source": [
    "df_unicorn.filter(regex='사업|직원')#.groupby('사업장명').max('연평균성장율_직원수')"
   ]
  },
  {
   "cell_type": "markdown",
   "metadata": {
    "heading_collapsed": true
   },
   "source": [
    "### 데이터 로드"
   ]
  },
  {
   "cell_type": "code",
   "execution_count": 223,
   "metadata": {
    "hidden": true
   },
   "outputs": [],
   "source": [
    "# 원본데이터 nps\n",
    "nps = pd.read_csv('../company_nps_data.csv', encoding = 'CP949')\n",
    "df = nps.copy()"
   ]
  },
  {
   "cell_type": "code",
   "execution_count": 16,
   "metadata": {
    "hidden": true
   },
   "outputs": [
    {
     "data": {
      "text/html": [
       "<div>\n",
       "<style scoped>\n",
       "    .dataframe tbody tr th:only-of-type {\n",
       "        vertical-align: middle;\n",
       "    }\n",
       "\n",
       "    .dataframe tbody tr th {\n",
       "        vertical-align: top;\n",
       "    }\n",
       "\n",
       "    .dataframe thead th {\n",
       "        text-align: right;\n",
       "    }\n",
       "</style>\n",
       "<table border=\"1\" class=\"dataframe\">\n",
       "  <thead>\n",
       "    <tr style=\"text-align: right;\">\n",
       "      <th></th>\n",
       "      <th>회사ID</th>\n",
       "      <th>연매출액</th>\n",
       "      <th>년도</th>\n",
       "      <th>월</th>\n",
       "      <th>월별_연금보험료</th>\n",
       "      <th>월별_직원수</th>\n",
       "    </tr>\n",
       "  </thead>\n",
       "  <tbody>\n",
       "    <tr>\n",
       "      <th>0</th>\n",
       "      <td>233757</td>\n",
       "      <td>41688077</td>\n",
       "      <td>2018</td>\n",
       "      <td>7</td>\n",
       "      <td>8912380</td>\n",
       "      <td>36</td>\n",
       "    </tr>\n",
       "    <tr>\n",
       "      <th>1</th>\n",
       "      <td>123464</td>\n",
       "      <td>1760695</td>\n",
       "      <td>2018</td>\n",
       "      <td>3</td>\n",
       "      <td>942380</td>\n",
       "      <td>5</td>\n",
       "    </tr>\n",
       "    <tr>\n",
       "      <th>2</th>\n",
       "      <td>342124</td>\n",
       "      <td>3221341</td>\n",
       "      <td>2018</td>\n",
       "      <td>7</td>\n",
       "      <td>781180</td>\n",
       "      <td>4</td>\n",
       "    </tr>\n",
       "    <tr>\n",
       "      <th>3</th>\n",
       "      <td>386420</td>\n",
       "      <td>4815584</td>\n",
       "      <td>2015</td>\n",
       "      <td>11</td>\n",
       "      <td>3795900</td>\n",
       "      <td>14</td>\n",
       "    </tr>\n",
       "    <tr>\n",
       "      <th>4</th>\n",
       "      <td>129243</td>\n",
       "      <td>9799736</td>\n",
       "      <td>2018</td>\n",
       "      <td>10</td>\n",
       "      <td>40724680</td>\n",
       "      <td>151</td>\n",
       "    </tr>\n",
       "    <tr>\n",
       "      <th>...</th>\n",
       "      <td>...</td>\n",
       "      <td>...</td>\n",
       "      <td>...</td>\n",
       "      <td>...</td>\n",
       "      <td>...</td>\n",
       "      <td>...</td>\n",
       "    </tr>\n",
       "    <tr>\n",
       "      <th>99796</th>\n",
       "      <td>171439</td>\n",
       "      <td>4630622</td>\n",
       "      <td>2017</td>\n",
       "      <td>2</td>\n",
       "      <td>2402740</td>\n",
       "      <td>11</td>\n",
       "    </tr>\n",
       "    <tr>\n",
       "      <th>99797</th>\n",
       "      <td>239388</td>\n",
       "      <td>1045021</td>\n",
       "      <td>2018</td>\n",
       "      <td>10</td>\n",
       "      <td>1428800</td>\n",
       "      <td>9</td>\n",
       "    </tr>\n",
       "    <tr>\n",
       "      <th>99798</th>\n",
       "      <td>272304</td>\n",
       "      <td>181898</td>\n",
       "      <td>2018</td>\n",
       "      <td>3</td>\n",
       "      <td>392560</td>\n",
       "      <td>4</td>\n",
       "    </tr>\n",
       "    <tr>\n",
       "      <th>99799</th>\n",
       "      <td>362194</td>\n",
       "      <td>2100218</td>\n",
       "      <td>2018</td>\n",
       "      <td>12</td>\n",
       "      <td>874780</td>\n",
       "      <td>3</td>\n",
       "    </tr>\n",
       "    <tr>\n",
       "      <th>99800</th>\n",
       "      <td>124281</td>\n",
       "      <td>132900</td>\n",
       "      <td>2017</td>\n",
       "      <td>11</td>\n",
       "      <td>291940</td>\n",
       "      <td>5</td>\n",
       "    </tr>\n",
       "  </tbody>\n",
       "</table>\n",
       "<p>99801 rows × 6 columns</p>\n",
       "</div>"
      ],
      "text/plain": [
       "         회사ID      연매출액    년도   월  월별_연금보험료  월별_직원수\n",
       "0      233757  41688077  2018   7   8912380      36\n",
       "1      123464   1760695  2018   3    942380       5\n",
       "2      342124   3221341  2018   7    781180       4\n",
       "3      386420   4815584  2015  11   3795900      14\n",
       "4      129243   9799736  2018  10  40724680     151\n",
       "...       ...       ...   ...  ..       ...     ...\n",
       "99796  171439   4630622  2017   2   2402740      11\n",
       "99797  239388   1045021  2018  10   1428800       9\n",
       "99798  272304    181898  2018   3    392560       4\n",
       "99799  362194   2100218  2018  12    874780       3\n",
       "99800  124281    132900  2017  11    291940       5\n",
       "\n",
       "[99801 rows x 6 columns]"
      ]
     },
     "execution_count": 16,
     "metadata": {},
     "output_type": "execute_result"
    }
   ],
   "source": [
    "df"
   ]
  },
  {
   "cell_type": "markdown",
   "metadata": {
    "heading_collapsed": true
   },
   "source": [
    "### 데이터 개요"
   ]
  },
  {
   "cell_type": "code",
   "execution_count": 17,
   "metadata": {
    "hidden": true,
    "scrolled": true
   },
   "outputs": [
    {
     "data": {
      "text/html": [
       "<div>\n",
       "<style scoped>\n",
       "    .dataframe tbody tr th:only-of-type {\n",
       "        vertical-align: middle;\n",
       "    }\n",
       "\n",
       "    .dataframe tbody tr th {\n",
       "        vertical-align: top;\n",
       "    }\n",
       "\n",
       "    .dataframe thead th {\n",
       "        text-align: right;\n",
       "    }\n",
       "</style>\n",
       "<table border=\"1\" class=\"dataframe\">\n",
       "  <thead>\n",
       "    <tr style=\"text-align: right;\">\n",
       "      <th></th>\n",
       "      <th>회사ID</th>\n",
       "      <th>연매출액</th>\n",
       "      <th>년도</th>\n",
       "      <th>월</th>\n",
       "      <th>월별_연금보험료</th>\n",
       "      <th>월별_직원수</th>\n",
       "    </tr>\n",
       "  </thead>\n",
       "  <tbody>\n",
       "    <tr>\n",
       "      <th>0</th>\n",
       "      <td>233757</td>\n",
       "      <td>41688077</td>\n",
       "      <td>2018</td>\n",
       "      <td>7</td>\n",
       "      <td>8912380</td>\n",
       "      <td>36</td>\n",
       "    </tr>\n",
       "    <tr>\n",
       "      <th>1</th>\n",
       "      <td>123464</td>\n",
       "      <td>1760695</td>\n",
       "      <td>2018</td>\n",
       "      <td>3</td>\n",
       "      <td>942380</td>\n",
       "      <td>5</td>\n",
       "    </tr>\n",
       "    <tr>\n",
       "      <th>2</th>\n",
       "      <td>342124</td>\n",
       "      <td>3221341</td>\n",
       "      <td>2018</td>\n",
       "      <td>7</td>\n",
       "      <td>781180</td>\n",
       "      <td>4</td>\n",
       "    </tr>\n",
       "    <tr>\n",
       "      <th>3</th>\n",
       "      <td>386420</td>\n",
       "      <td>4815584</td>\n",
       "      <td>2015</td>\n",
       "      <td>11</td>\n",
       "      <td>3795900</td>\n",
       "      <td>14</td>\n",
       "    </tr>\n",
       "    <tr>\n",
       "      <th>4</th>\n",
       "      <td>129243</td>\n",
       "      <td>9799736</td>\n",
       "      <td>2018</td>\n",
       "      <td>10</td>\n",
       "      <td>40724680</td>\n",
       "      <td>151</td>\n",
       "    </tr>\n",
       "  </tbody>\n",
       "</table>\n",
       "</div>"
      ],
      "text/plain": [
       "     회사ID      연매출액    년도   월  월별_연금보험료  월별_직원수\n",
       "0  233757  41688077  2018   7   8912380      36\n",
       "1  123464   1760695  2018   3    942380       5\n",
       "2  342124   3221341  2018   7    781180       4\n",
       "3  386420   4815584  2015  11   3795900      14\n",
       "4  129243   9799736  2018  10  40724680     151"
      ]
     },
     "execution_count": 17,
     "metadata": {},
     "output_type": "execute_result"
    }
   ],
   "source": [
    "df.head()"
   ]
  },
  {
   "cell_type": "code",
   "execution_count": 18,
   "metadata": {
    "hidden": true,
    "scrolled": true
   },
   "outputs": [
    {
     "data": {
      "text/plain": [
       "Index(['회사ID', '연매출액', '년도', '월', '월별_연금보험료', '월별_직원수'], dtype='object')"
      ]
     },
     "execution_count": 18,
     "metadata": {},
     "output_type": "execute_result"
    }
   ],
   "source": [
    "df.columns"
   ]
  },
  {
   "cell_type": "code",
   "execution_count": 19,
   "metadata": {
    "hidden": true,
    "scrolled": false
   },
   "outputs": [
    {
     "name": "stdout",
     "output_type": "stream",
     "text": [
      "<class 'pandas.core.frame.DataFrame'>\n",
      "RangeIndex: 99801 entries, 0 to 99800\n",
      "Data columns (total 6 columns):\n",
      " #   Column    Non-Null Count  Dtype\n",
      "---  ------    --------------  -----\n",
      " 0   회사ID      99801 non-null  int64\n",
      " 1   연매출액      99801 non-null  int64\n",
      " 2   년도        99801 non-null  int64\n",
      " 3   월         99801 non-null  int64\n",
      " 4   월별_연금보험료  99801 non-null  int64\n",
      " 5   월별_직원수    99801 non-null  int64\n",
      "dtypes: int64(6)\n",
      "memory usage: 4.6 MB\n"
     ]
    }
   ],
   "source": [
    "df.info()"
   ]
  },
  {
   "cell_type": "code",
   "execution_count": 20,
   "metadata": {
    "hidden": true,
    "scrolled": false
   },
   "outputs": [
    {
     "data": {
      "text/plain": [
       "count   99801.00\n",
       "mean     2016.97\n",
       "std         0.98\n",
       "min      2015.00\n",
       "25%      2016.00\n",
       "50%      2017.00\n",
       "75%      2018.00\n",
       "max      2019.00\n",
       "Name: 년도, dtype: float64"
      ]
     },
     "execution_count": 20,
     "metadata": {},
     "output_type": "execute_result"
    }
   ],
   "source": [
    "df['년도'].describe()   # 2015년 - 2019년"
   ]
  },
  {
   "cell_type": "code",
   "execution_count": 21,
   "metadata": {
    "hidden": true
   },
   "outputs": [
    {
     "data": {
      "text/plain": [
       "5000"
      ]
     },
     "execution_count": 21,
     "metadata": {},
     "output_type": "execute_result"
    }
   ],
   "source": [
    "df['회사ID'].nunique()  # 5000개 회사"
   ]
  },
  {
   "cell_type": "code",
   "execution_count": 22,
   "metadata": {
    "hidden": true,
    "scrolled": true
   },
   "outputs": [
    {
     "data": {
      "text/html": [
       "<div>\n",
       "<style scoped>\n",
       "    .dataframe tbody tr th:only-of-type {\n",
       "        vertical-align: middle;\n",
       "    }\n",
       "\n",
       "    .dataframe tbody tr th {\n",
       "        vertical-align: top;\n",
       "    }\n",
       "\n",
       "    .dataframe thead th {\n",
       "        text-align: right;\n",
       "    }\n",
       "</style>\n",
       "<table border=\"1\" class=\"dataframe\">\n",
       "  <thead>\n",
       "    <tr style=\"text-align: right;\">\n",
       "      <th></th>\n",
       "      <th>회사ID</th>\n",
       "      <th>연매출액</th>\n",
       "      <th>년도</th>\n",
       "      <th>월</th>\n",
       "      <th>월별_연금보험료</th>\n",
       "      <th>월별_직원수</th>\n",
       "    </tr>\n",
       "  </thead>\n",
       "  <tbody>\n",
       "    <tr>\n",
       "      <th>33039</th>\n",
       "      <td>63</td>\n",
       "      <td>11328779396</td>\n",
       "      <td>2018</td>\n",
       "      <td>1</td>\n",
       "      <td>403119840</td>\n",
       "      <td>1006</td>\n",
       "    </tr>\n",
       "    <tr>\n",
       "      <th>74251</th>\n",
       "      <td>63</td>\n",
       "      <td>11328779396</td>\n",
       "      <td>2018</td>\n",
       "      <td>2</td>\n",
       "      <td>406770960</td>\n",
       "      <td>1018</td>\n",
       "    </tr>\n",
       "    <tr>\n",
       "      <th>80947</th>\n",
       "      <td>63</td>\n",
       "      <td>11328779396</td>\n",
       "      <td>2018</td>\n",
       "      <td>3</td>\n",
       "      <td>404826240</td>\n",
       "      <td>1013</td>\n",
       "    </tr>\n",
       "    <tr>\n",
       "      <th>80770</th>\n",
       "      <td>63</td>\n",
       "      <td>11328779396</td>\n",
       "      <td>2018</td>\n",
       "      <td>4</td>\n",
       "      <td>404211800</td>\n",
       "      <td>1012</td>\n",
       "    </tr>\n",
       "    <tr>\n",
       "      <th>28110</th>\n",
       "      <td>63</td>\n",
       "      <td>11328779396</td>\n",
       "      <td>2018</td>\n",
       "      <td>5</td>\n",
       "      <td>400339640</td>\n",
       "      <td>1002</td>\n",
       "    </tr>\n",
       "    <tr>\n",
       "      <th>...</th>\n",
       "      <td>...</td>\n",
       "      <td>...</td>\n",
       "      <td>...</td>\n",
       "      <td>...</td>\n",
       "      <td>...</td>\n",
       "      <td>...</td>\n",
       "    </tr>\n",
       "    <tr>\n",
       "      <th>244</th>\n",
       "      <td>3312354</td>\n",
       "      <td>1451563</td>\n",
       "      <td>2019</td>\n",
       "      <td>9</td>\n",
       "      <td>1312200</td>\n",
       "      <td>3</td>\n",
       "    </tr>\n",
       "    <tr>\n",
       "      <th>38757</th>\n",
       "      <td>3312354</td>\n",
       "      <td>1451563</td>\n",
       "      <td>2019</td>\n",
       "      <td>10</td>\n",
       "      <td>1312200</td>\n",
       "      <td>3</td>\n",
       "    </tr>\n",
       "    <tr>\n",
       "      <th>49019</th>\n",
       "      <td>3312354</td>\n",
       "      <td>1451563</td>\n",
       "      <td>2019</td>\n",
       "      <td>11</td>\n",
       "      <td>1312200</td>\n",
       "      <td>3</td>\n",
       "    </tr>\n",
       "    <tr>\n",
       "      <th>72163</th>\n",
       "      <td>3312354</td>\n",
       "      <td>1451563</td>\n",
       "      <td>2019</td>\n",
       "      <td>12</td>\n",
       "      <td>1312200</td>\n",
       "      <td>3</td>\n",
       "    </tr>\n",
       "    <tr>\n",
       "      <th>78099</th>\n",
       "      <td>5159723</td>\n",
       "      <td>2591898</td>\n",
       "      <td>2019</td>\n",
       "      <td>12</td>\n",
       "      <td>1257280</td>\n",
       "      <td>5</td>\n",
       "    </tr>\n",
       "  </tbody>\n",
       "</table>\n",
       "<p>99801 rows × 6 columns</p>\n",
       "</div>"
      ],
      "text/plain": [
       "          회사ID         연매출액    년도   월   월별_연금보험료  월별_직원수\n",
       "33039       63  11328779396  2018   1  403119840    1006\n",
       "74251       63  11328779396  2018   2  406770960    1018\n",
       "80947       63  11328779396  2018   3  404826240    1013\n",
       "80770       63  11328779396  2018   4  404211800    1012\n",
       "28110       63  11328779396  2018   5  400339640    1002\n",
       "...        ...          ...   ...  ..        ...     ...\n",
       "244    3312354      1451563  2019   9    1312200       3\n",
       "38757  3312354      1451563  2019  10    1312200       3\n",
       "49019  3312354      1451563  2019  11    1312200       3\n",
       "72163  3312354      1451563  2019  12    1312200       3\n",
       "78099  5159723      2591898  2019  12    1257280       5\n",
       "\n",
       "[99801 rows x 6 columns]"
      ]
     },
     "execution_count": 22,
     "metadata": {},
     "output_type": "execute_result"
    }
   ],
   "source": [
    "df.sort_values(['회사ID','년도','월'])"
   ]
  },
  {
   "cell_type": "markdown",
   "metadata": {
    "hidden": true
   },
   "source": [
    "- 5000개의 회사 데이터\n",
    "- '회사ID', '연매출액', '년도', '월', '월별_연금보험료', '월별_직원수'\n",
    "- 대상 기간: 2015년 - 2019년 (회사마다 데이터 보유기간 상이)"
   ]
  },
  {
   "cell_type": "markdown",
   "metadata": {
    "heading_collapsed": true
   },
   "source": [
    "### 전처리"
   ]
  },
  {
   "cell_type": "code",
   "execution_count": 348,
   "metadata": {
    "hidden": true
   },
   "outputs": [],
   "source": [
    "df = df.drop(index=df.query('연매출액 < 0').index)\n",
    "df = df.drop(index=df.query('월별_직원수 == 0').index)"
   ]
  },
  {
   "cell_type": "code",
   "execution_count": 350,
   "metadata": {
    "hidden": true
   },
   "outputs": [],
   "source": [
    "# 1인당 매출액 추가\n",
    "df.loc[:,'인당_매출액'] = df.loc[:, '연매출액'] / df.loc[:, '월별_직원수']"
   ]
  },
  {
   "cell_type": "code",
   "execution_count": 355,
   "metadata": {
    "hidden": true
   },
   "outputs": [
    {
     "name": "stdout",
     "output_type": "stream",
     "text": [
      "전처리 후 기업 수 : 4998\n"
     ]
    }
   ],
   "source": [
    "print('전처리 후 기업 수 :', df['회사ID'].nunique())"
   ]
  },
  {
   "cell_type": "markdown",
   "metadata": {},
   "source": [
    "## EDA\n",
    "**EDA 목적 :유니콘 지수 산출**\n",
    ">   - 데이터 파악 및 전처리 작업으로 최종 분석 데이터셋 구성\n",
    ">   - 최종 분석 데이터셋으로 유니콘 지수 산출 (스코어링에 필요한 지표 및 가중치 파악)"
   ]
  },
  {
   "cell_type": "code",
   "execution_count": 358,
   "metadata": {
    "scrolled": true
   },
   "outputs": [
    {
     "data": {
      "text/html": [
       "<div>\n",
       "<style scoped>\n",
       "    .dataframe tbody tr th:only-of-type {\n",
       "        vertical-align: middle;\n",
       "    }\n",
       "\n",
       "    .dataframe tbody tr th {\n",
       "        vertical-align: top;\n",
       "    }\n",
       "\n",
       "    .dataframe thead th {\n",
       "        text-align: right;\n",
       "    }\n",
       "</style>\n",
       "<table border=\"1\" class=\"dataframe\">\n",
       "  <thead>\n",
       "    <tr style=\"text-align: right;\">\n",
       "      <th></th>\n",
       "      <th>회사ID</th>\n",
       "      <th>연매출액</th>\n",
       "      <th>년도</th>\n",
       "      <th>월</th>\n",
       "      <th>월별_연금보험료</th>\n",
       "      <th>월별_직원수</th>\n",
       "      <th>인당_매출액</th>\n",
       "    </tr>\n",
       "  </thead>\n",
       "  <tbody>\n",
       "    <tr>\n",
       "      <th>0</th>\n",
       "      <td>63</td>\n",
       "      <td>11328779396</td>\n",
       "      <td>2018</td>\n",
       "      <td>1</td>\n",
       "      <td>403119840</td>\n",
       "      <td>1006</td>\n",
       "      <td>11261212.12</td>\n",
       "    </tr>\n",
       "    <tr>\n",
       "      <th>1</th>\n",
       "      <td>63</td>\n",
       "      <td>11328779396</td>\n",
       "      <td>2018</td>\n",
       "      <td>2</td>\n",
       "      <td>406770960</td>\n",
       "      <td>1018</td>\n",
       "      <td>11128466.99</td>\n",
       "    </tr>\n",
       "    <tr>\n",
       "      <th>2</th>\n",
       "      <td>63</td>\n",
       "      <td>11328779396</td>\n",
       "      <td>2018</td>\n",
       "      <td>3</td>\n",
       "      <td>404826240</td>\n",
       "      <td>1013</td>\n",
       "      <td>11183395.26</td>\n",
       "    </tr>\n",
       "    <tr>\n",
       "      <th>3</th>\n",
       "      <td>63</td>\n",
       "      <td>11328779396</td>\n",
       "      <td>2018</td>\n",
       "      <td>4</td>\n",
       "      <td>404211800</td>\n",
       "      <td>1012</td>\n",
       "      <td>11194446.04</td>\n",
       "    </tr>\n",
       "    <tr>\n",
       "      <th>4</th>\n",
       "      <td>63</td>\n",
       "      <td>11328779396</td>\n",
       "      <td>2018</td>\n",
       "      <td>5</td>\n",
       "      <td>400339640</td>\n",
       "      <td>1002</td>\n",
       "      <td>11306167.06</td>\n",
       "    </tr>\n",
       "  </tbody>\n",
       "</table>\n",
       "</div>"
      ],
      "text/plain": [
       "   회사ID         연매출액    년도  월   월별_연금보험료  월별_직원수      인당_매출액\n",
       "0    63  11328779396  2018  1  403119840    1006 11261212.12\n",
       "1    63  11328779396  2018  2  406770960    1018 11128466.99\n",
       "2    63  11328779396  2018  3  404826240    1013 11183395.26\n",
       "3    63  11328779396  2018  4  404211800    1012 11194446.04\n",
       "4    63  11328779396  2018  5  400339640    1002 11306167.06"
      ]
     },
     "execution_count": 358,
     "metadata": {},
     "output_type": "execute_result"
    }
   ],
   "source": [
    "# df_eda : 회사ID/년도/월별 sorting 데이터 셋\n",
    "df_eda = df.sort_values(['회사ID','년도','월']).reset_index().drop('index', axis=1)\n",
    "df_eda.head()"
   ]
  },
  {
   "cell_type": "markdown",
   "metadata": {},
   "source": [
    "### 분석대상 필터링\n"
   ]
  },
  {
   "cell_type": "markdown",
   "metadata": {},
   "source": [
    "#### 분석대상금액 (연매출액기준)\n",
    "- 기준 : 연매출액 1000억원 이상\n",
    "- 근거 : 유니콘 기업들 등재시점 기준 연매출액 1000억원 이상"
   ]
  },
  {
   "cell_type": "code",
   "execution_count": 359,
   "metadata": {
    "scrolled": true
   },
   "outputs": [
    {
     "name": "stdout",
     "output_type": "stream",
     "text": [
      "df_eda shape : (97662, 7)\n",
      "raw data 기업 수 : 4998\n",
      "분석대상금액 필터링 후 기업 수 : 4928\n"
     ]
    }
   ],
   "source": [
    "# 2019년 매출액 정보 있으면서 천억이상이 아닌 기업\n",
    "sales_list = list(df_eda.query('년도==2019&연매출액<100000000')['회사ID'].unique())\n",
    "df_eda = df_eda[~df_eda['회사ID'].isin(sales_list)].reset_index().drop('index',axis=1)\n",
    "print('df_eda shape :', df_eda.shape)\n",
    "print('raw data 기업 수 :', df['회사ID'].nunique())\n",
    "print('분석대상금액 필터링 후 기업 수 :', df_eda['회사ID'].nunique())"
   ]
  },
  {
   "cell_type": "code",
   "execution_count": 449,
   "metadata": {
    "scrolled": false
   },
   "outputs": [
    {
     "name": "stdout",
     "output_type": "stream",
     "text": [
      "데이터 보유기간 1년 이하 기업 수 : 2407\n"
     ]
    },
    {
     "data": {
      "image/png": "[encoded data removed]",
      "text/plain": [
       "<Figure size 504x288 with 1 Axes>"
      ]
     },
     "metadata": {
      "needs_background": "light"
     },
     "output_type": "display_data"
    }
   ],
   "source": [
    "df_periodsize = pd.DataFrame(df_eda.groupby('회사ID').size()).reset_index().rename(columns={0:'데이터보유기간'})\n",
    "df_periodsize.groupby('데이터보유기간').count().rename(columns={'회사ID':'기업 수'}).plot.bar(rot=45, figsize=(7,4))\n",
    "print('데이터 보유기간 1년 이하 기업 수 :', df_periodsize.query('데이터보유기간<=12')['회사ID'].nunique())"
   ]
  },
  {
   "cell_type": "markdown",
   "metadata": {},
   "source": [
    "#### 분석대상기간 (1년이하)\n",
    "- 기준 : 데이터 기간 1년 이하\n",
    "- 근거 : "
   ]
  },
  {
   "cell_type": "markdown",
   "metadata": {},
   "source": [
    "**데이터기간 1년이하인 기업들 중 높은 직원성장율을 보이는 곳이 있는지 파악하고자 함**"
   ]
  },
  {
   "cell_type": "code",
   "execution_count": 450,
   "metadata": {
    "scrolled": true
   },
   "outputs": [],
   "source": [
    "# 1년 이하의 데이터만 존재하는 기업 데이터 셋\n",
    "less_list = df_periodsize.query('데이터보유기간<=12')['회사ID'].to_list()\n",
    "df_less = df_eda[df_eda['회사ID'].isin(less_list)].sort_values(['회사ID','년도','월']).reset_index()\n",
    "\n",
    "# 시작 시점 (기준시점)\n",
    "df_less_start = df_less[df_less['index'].isin(list(df_less.groupby('회사ID').agg({'index':'min'})['index']))]\n",
    "df_less_start = df_less_start.drop('index', axis=1).rename(columns={'월별_연금보험료': '기준_연금보험료',\n",
    "                                                                  '월별_직원수':'기준_직원수',\n",
    "                                                                  '연매출액':'기준_연매출액',\n",
    "                                                                  '년도' :'기준_년도',\n",
    "                                                                  '월':'기준_월',\n",
    "                                                                     '인당_매출액':'기준_인당매출액'})\n",
    "# 마지막 시점 (비교시점)\n",
    "df_less_end = df_less[df_less['index'].isin(list(df_less.groupby('회사ID').agg({'index':'max'})['index']))]\n",
    "df_less_end = df_less_end.drop('index', axis=1).rename(columns={'월별_연금보험료': '비교_연금보험료',\n",
    "                                                              '월별_직원수':'비교_직원수',         \n",
    "                                                              '연매출액':'비교_연매출액',\n",
    "                                                              '년도' :'비교_년도',  \n",
    "                                                              '월':'비교_월',\n",
    "                                                               '인당_매출액':'비교_인당매출액'})\n",
    "#merge전 shape 체크\n",
    "#print(df_less_start.shape)\n",
    "#print(df_less_end.shape)\n",
    "\n",
    "# 1년 이하 기업들의 기간내 성장율, 증감 파악\n",
    "df_less_growth = df_less_start.merge(df_less_end, on='회사ID', how='inner')\n",
    "\n",
    "# 지표별 기간내 성장율 변수 추가\n",
    "df_less_growth['성장율_연금보험료'] = (df_less_growth['비교_연금보험료']-df_less_growth['기준_연금보험료'])/df_less_growth['기준_연금보험료']\n",
    "df_less_growth['성장율_직원수'] = (df_less_growth['비교_직원수']-df_less_growth['기준_직원수'])/df_less_growth['기준_직원수']\n",
    "# 대상기간이 1년보다 짧기 때문에 0일 가능성 높음\n",
    "df_less_growth['성장율_연매출액'] = (df_less_growth['비교_연매출액']-df_less_growth['기준_연매출액'])/df_less_growth['기준_연매출액']\n",
    "df_less_growth.head(1) \n",
    "\n",
    "# 지표별 기간내 증감 변수 추가\n",
    "df_less_growth['증감_연금보험료'] = (df_less_growth['비교_연금보험료']-df_less_growth['기준_연금보험료'])\n",
    "df_less_growth['증감_직원수'] = (df_less_growth['비교_직원수']-df_less_growth['기준_직원수'])\n",
    "# 대상기간이 1년보다 짧기 때문에 0일 가능성 높음\n",
    "df_less_growth['증감_연매출액'] = (df_less_growth['비교_연매출액']-df_less_growth['기준_연매출액'])"
   ]
  },
  {
   "cell_type": "code",
   "execution_count": 451,
   "metadata": {
    "scrolled": false
   },
   "outputs": [
    {
     "name": "stdout",
     "output_type": "stream",
     "text": [
      "255\n"
     ]
    },
    {
     "data": {
      "text/html": [
       "<div>\n",
       "<style scoped>\n",
       "    .dataframe tbody tr th:only-of-type {\n",
       "        vertical-align: middle;\n",
       "    }\n",
       "\n",
       "    .dataframe tbody tr th {\n",
       "        vertical-align: top;\n",
       "    }\n",
       "\n",
       "    .dataframe thead th {\n",
       "        text-align: right;\n",
       "    }\n",
       "</style>\n",
       "<table border=\"1\" class=\"dataframe\">\n",
       "  <thead>\n",
       "    <tr style=\"text-align: right;\">\n",
       "      <th></th>\n",
       "      <th>회사ID</th>\n",
       "      <th>기준_연매출액</th>\n",
       "      <th>기준_년도</th>\n",
       "      <th>기준_월</th>\n",
       "      <th>기준_연금보험료</th>\n",
       "      <th>기준_직원수</th>\n",
       "      <th>기준_인당매출액</th>\n",
       "      <th>비교_연매출액</th>\n",
       "      <th>비교_년도</th>\n",
       "      <th>비교_월</th>\n",
       "      <th>비교_연금보험료</th>\n",
       "      <th>비교_직원수</th>\n",
       "      <th>비교_인당매출액</th>\n",
       "      <th>성장율_연금보험료</th>\n",
       "      <th>성장율_직원수</th>\n",
       "      <th>성장율_연매출액</th>\n",
       "      <th>증감_연금보험료</th>\n",
       "      <th>증감_직원수</th>\n",
       "      <th>증감_연매출액</th>\n",
       "    </tr>\n",
       "  </thead>\n",
       "  <tbody>\n",
       "    <tr>\n",
       "      <th>9</th>\n",
       "      <td>1125</td>\n",
       "      <td>53713870</td>\n",
       "      <td>2018</td>\n",
       "      <td>1</td>\n",
       "      <td>11197120</td>\n",
       "      <td>42</td>\n",
       "      <td>1278901.67</td>\n",
       "      <td>53713870</td>\n",
       "      <td>2018</td>\n",
       "      <td>12</td>\n",
       "      <td>43293280</td>\n",
       "      <td>137</td>\n",
       "      <td>392072.04</td>\n",
       "      <td>2.87</td>\n",
       "      <td>2.26</td>\n",
       "      <td>0.00</td>\n",
       "      <td>32096160</td>\n",
       "      <td>95</td>\n",
       "      <td>0</td>\n",
       "    </tr>\n",
       "    <tr>\n",
       "      <th>11</th>\n",
       "      <td>1807</td>\n",
       "      <td>5631138</td>\n",
       "      <td>2018</td>\n",
       "      <td>1</td>\n",
       "      <td>8205240</td>\n",
       "      <td>47</td>\n",
       "      <td>119811.45</td>\n",
       "      <td>5631138</td>\n",
       "      <td>2018</td>\n",
       "      <td>12</td>\n",
       "      <td>17526500</td>\n",
       "      <td>92</td>\n",
       "      <td>61208.02</td>\n",
       "      <td>1.14</td>\n",
       "      <td>0.96</td>\n",
       "      <td>0.00</td>\n",
       "      <td>9321260</td>\n",
       "      <td>45</td>\n",
       "      <td>0</td>\n",
       "    </tr>\n",
       "    <tr>\n",
       "      <th>19</th>\n",
       "      <td>3611</td>\n",
       "      <td>3955788</td>\n",
       "      <td>2018</td>\n",
       "      <td>1</td>\n",
       "      <td>301680</td>\n",
       "      <td>3</td>\n",
       "      <td>1318596.00</td>\n",
       "      <td>3955788</td>\n",
       "      <td>2018</td>\n",
       "      <td>12</td>\n",
       "      <td>5530120</td>\n",
       "      <td>38</td>\n",
       "      <td>104099.68</td>\n",
       "      <td>17.33</td>\n",
       "      <td>11.67</td>\n",
       "      <td>0.00</td>\n",
       "      <td>5228440</td>\n",
       "      <td>35</td>\n",
       "      <td>0</td>\n",
       "    </tr>\n",
       "    <tr>\n",
       "      <th>24</th>\n",
       "      <td>5202</td>\n",
       "      <td>90027705</td>\n",
       "      <td>2018</td>\n",
       "      <td>1</td>\n",
       "      <td>8594100</td>\n",
       "      <td>27</td>\n",
       "      <td>3334359.44</td>\n",
       "      <td>90027705</td>\n",
       "      <td>2018</td>\n",
       "      <td>12</td>\n",
       "      <td>15087700</td>\n",
       "      <td>45</td>\n",
       "      <td>2000615.67</td>\n",
       "      <td>0.76</td>\n",
       "      <td>0.67</td>\n",
       "      <td>0.00</td>\n",
       "      <td>6493600</td>\n",
       "      <td>18</td>\n",
       "      <td>0</td>\n",
       "    </tr>\n",
       "    <tr>\n",
       "      <th>28</th>\n",
       "      <td>6438</td>\n",
       "      <td>3770065</td>\n",
       "      <td>2018</td>\n",
       "      <td>1</td>\n",
       "      <td>2212900</td>\n",
       "      <td>19</td>\n",
       "      <td>198424.47</td>\n",
       "      <td>3770065</td>\n",
       "      <td>2018</td>\n",
       "      <td>12</td>\n",
       "      <td>5160360</td>\n",
       "      <td>34</td>\n",
       "      <td>110884.26</td>\n",
       "      <td>1.33</td>\n",
       "      <td>0.79</td>\n",
       "      <td>0.00</td>\n",
       "      <td>2947460</td>\n",
       "      <td>15</td>\n",
       "      <td>0</td>\n",
       "    </tr>\n",
       "    <tr>\n",
       "      <th>...</th>\n",
       "      <td>...</td>\n",
       "      <td>...</td>\n",
       "      <td>...</td>\n",
       "      <td>...</td>\n",
       "      <td>...</td>\n",
       "      <td>...</td>\n",
       "      <td>...</td>\n",
       "      <td>...</td>\n",
       "      <td>...</td>\n",
       "      <td>...</td>\n",
       "      <td>...</td>\n",
       "      <td>...</td>\n",
       "      <td>...</td>\n",
       "      <td>...</td>\n",
       "      <td>...</td>\n",
       "      <td>...</td>\n",
       "      <td>...</td>\n",
       "      <td>...</td>\n",
       "      <td>...</td>\n",
       "    </tr>\n",
       "    <tr>\n",
       "      <th>2386</th>\n",
       "      <td>635082</td>\n",
       "      <td>36069908</td>\n",
       "      <td>2018</td>\n",
       "      <td>1</td>\n",
       "      <td>29336740</td>\n",
       "      <td>139</td>\n",
       "      <td>259495.74</td>\n",
       "      <td>36069908</td>\n",
       "      <td>2018</td>\n",
       "      <td>12</td>\n",
       "      <td>50945840</td>\n",
       "      <td>254</td>\n",
       "      <td>142007.51</td>\n",
       "      <td>0.74</td>\n",
       "      <td>0.83</td>\n",
       "      <td>0.00</td>\n",
       "      <td>21609100</td>\n",
       "      <td>115</td>\n",
       "      <td>0</td>\n",
       "    </tr>\n",
       "    <tr>\n",
       "      <th>2390</th>\n",
       "      <td>782086</td>\n",
       "      <td>3845136</td>\n",
       "      <td>2018</td>\n",
       "      <td>9</td>\n",
       "      <td>1219300</td>\n",
       "      <td>5</td>\n",
       "      <td>769027.20</td>\n",
       "      <td>3845136</td>\n",
       "      <td>2018</td>\n",
       "      <td>12</td>\n",
       "      <td>1395000</td>\n",
       "      <td>8</td>\n",
       "      <td>480642.00</td>\n",
       "      <td>0.14</td>\n",
       "      <td>0.60</td>\n",
       "      <td>0.00</td>\n",
       "      <td>175700</td>\n",
       "      <td>3</td>\n",
       "      <td>0</td>\n",
       "    </tr>\n",
       "    <tr>\n",
       "      <th>2395</th>\n",
       "      <td>900163</td>\n",
       "      <td>836891</td>\n",
       "      <td>2018</td>\n",
       "      <td>2</td>\n",
       "      <td>442800</td>\n",
       "      <td>3</td>\n",
       "      <td>278963.67</td>\n",
       "      <td>836891</td>\n",
       "      <td>2018</td>\n",
       "      <td>12</td>\n",
       "      <td>916460</td>\n",
       "      <td>6</td>\n",
       "      <td>139481.83</td>\n",
       "      <td>1.07</td>\n",
       "      <td>1.00</td>\n",
       "      <td>0.00</td>\n",
       "      <td>473660</td>\n",
       "      <td>3</td>\n",
       "      <td>0</td>\n",
       "    </tr>\n",
       "    <tr>\n",
       "      <th>2396</th>\n",
       "      <td>918661</td>\n",
       "      <td>258590</td>\n",
       "      <td>2018</td>\n",
       "      <td>1</td>\n",
       "      <td>332900</td>\n",
       "      <td>3</td>\n",
       "      <td>86196.67</td>\n",
       "      <td>258590</td>\n",
       "      <td>2018</td>\n",
       "      <td>12</td>\n",
       "      <td>867140</td>\n",
       "      <td>6</td>\n",
       "      <td>43098.33</td>\n",
       "      <td>1.60</td>\n",
       "      <td>1.00</td>\n",
       "      <td>0.00</td>\n",
       "      <td>534240</td>\n",
       "      <td>3</td>\n",
       "      <td>0</td>\n",
       "    </tr>\n",
       "    <tr>\n",
       "      <th>2397</th>\n",
       "      <td>933076</td>\n",
       "      <td>213311</td>\n",
       "      <td>2018</td>\n",
       "      <td>3</td>\n",
       "      <td>288000</td>\n",
       "      <td>4</td>\n",
       "      <td>53327.75</td>\n",
       "      <td>213311</td>\n",
       "      <td>2018</td>\n",
       "      <td>12</td>\n",
       "      <td>648000</td>\n",
       "      <td>9</td>\n",
       "      <td>23701.22</td>\n",
       "      <td>1.25</td>\n",
       "      <td>1.25</td>\n",
       "      <td>0.00</td>\n",
       "      <td>360000</td>\n",
       "      <td>5</td>\n",
       "      <td>0</td>\n",
       "    </tr>\n",
       "  </tbody>\n",
       "</table>\n",
       "<p>255 rows × 19 columns</p>\n",
       "</div>"
      ],
      "text/plain": [
       "        회사ID   기준_연매출액  기준_년도  기준_월  기준_연금보험료  기준_직원수   기준_인당매출액   비교_연매출액  \\\n",
       "9       1125  53713870   2018     1  11197120      42 1278901.67  53713870   \n",
       "11      1807   5631138   2018     1   8205240      47  119811.45   5631138   \n",
       "19      3611   3955788   2018     1    301680       3 1318596.00   3955788   \n",
       "24      5202  90027705   2018     1   8594100      27 3334359.44  90027705   \n",
       "28      6438   3770065   2018     1   2212900      19  198424.47   3770065   \n",
       "...      ...       ...    ...   ...       ...     ...        ...       ...   \n",
       "2386  635082  36069908   2018     1  29336740     139  259495.74  36069908   \n",
       "2390  782086   3845136   2018     9   1219300       5  769027.20   3845136   \n",
       "2395  900163    836891   2018     2    442800       3  278963.67    836891   \n",
       "2396  918661    258590   2018     1    332900       3   86196.67    258590   \n",
       "2397  933076    213311   2018     3    288000       4   53327.75    213311   \n",
       "\n",
       "      비교_년도  비교_월  비교_연금보험료  비교_직원수   비교_인당매출액  성장율_연금보험료  성장율_직원수  성장율_연매출액  \\\n",
       "9      2018    12  43293280     137  392072.04       2.87     2.26      0.00   \n",
       "11     2018    12  17526500      92   61208.02       1.14     0.96      0.00   \n",
       "19     2018    12   5530120      38  104099.68      17.33    11.67      0.00   \n",
       "24     2018    12  15087700      45 2000615.67       0.76     0.67      0.00   \n",
       "28     2018    12   5160360      34  110884.26       1.33     0.79      0.00   \n",
       "...     ...   ...       ...     ...        ...        ...      ...       ...   \n",
       "2386   2018    12  50945840     254  142007.51       0.74     0.83      0.00   \n",
       "2390   2018    12   1395000       8  480642.00       0.14     0.60      0.00   \n",
       "2395   2018    12    916460       6  139481.83       1.07     1.00      0.00   \n",
       "2396   2018    12    867140       6   43098.33       1.60     1.00      0.00   \n",
       "2397   2018    12    648000       9   23701.22       1.25     1.25      0.00   \n",
       "\n",
       "      증감_연금보험료  증감_직원수  증감_연매출액  \n",
       "9     32096160      95        0  \n",
       "11     9321260      45        0  \n",
       "19     5228440      35        0  \n",
       "24     6493600      18        0  \n",
       "28     2947460      15        0  \n",
       "...        ...     ...      ...  \n",
       "2386  21609100     115        0  \n",
       "2390    175700       3        0  \n",
       "2395    473660       3        0  \n",
       "2396    534240       3        0  \n",
       "2397    360000       5        0  \n",
       "\n",
       "[255 rows x 19 columns]"
      ]
     },
     "execution_count": 451,
     "metadata": {},
     "output_type": "execute_result"
    }
   ],
   "source": [
    "# 유니콘 기업 연평균 직원성장율 중위값 (0.18) 기준으로 높은 직원성장율 보인 곳 \n",
    "print(df_less_growth.query('성장율_직원수>=0.45')['회사ID'].count())\n",
    "df_less_growth.query('성장율_직원수>=0.45')"
   ]
  },
  {
   "cell_type": "code",
   "execution_count": 663,
   "metadata": {},
   "outputs": [
    {
     "data": {
      "text/html": [
       "<div>\n",
       "<style scoped>\n",
       "    .dataframe tbody tr th:only-of-type {\n",
       "        vertical-align: middle;\n",
       "    }\n",
       "\n",
       "    .dataframe tbody tr th {\n",
       "        vertical-align: top;\n",
       "    }\n",
       "\n",
       "    .dataframe thead th {\n",
       "        text-align: right;\n",
       "    }\n",
       "</style>\n",
       "<table border=\"1\" class=\"dataframe\">\n",
       "  <thead>\n",
       "    <tr style=\"text-align: right;\">\n",
       "      <th></th>\n",
       "      <th>회사ID</th>\n",
       "      <th>기준_연매출액</th>\n",
       "      <th>기준_년도</th>\n",
       "      <th>기준_월</th>\n",
       "      <th>기준_연금보험료</th>\n",
       "      <th>기준_직원수</th>\n",
       "      <th>기준_인당매출액</th>\n",
       "      <th>비교_연매출액</th>\n",
       "      <th>비교_년도</th>\n",
       "      <th>비교_월</th>\n",
       "      <th>비교_연금보험료</th>\n",
       "      <th>비교_직원수</th>\n",
       "      <th>비교_인당매출액</th>\n",
       "      <th>성장율_연금보험료</th>\n",
       "      <th>성장율_직원수</th>\n",
       "      <th>성장율_연매출액</th>\n",
       "      <th>증감_연금보험료</th>\n",
       "      <th>증감_직원수</th>\n",
       "      <th>증감_연매출액</th>\n",
       "    </tr>\n",
       "  </thead>\n",
       "  <tbody>\n",
       "    <tr>\n",
       "      <th>9</th>\n",
       "      <td>1125</td>\n",
       "      <td>53713870</td>\n",
       "      <td>2018</td>\n",
       "      <td>1</td>\n",
       "      <td>11197120</td>\n",
       "      <td>42</td>\n",
       "      <td>1278901.67</td>\n",
       "      <td>53713870</td>\n",
       "      <td>2018</td>\n",
       "      <td>12</td>\n",
       "      <td>43293280</td>\n",
       "      <td>137</td>\n",
       "      <td>392072.04</td>\n",
       "      <td>2.87</td>\n",
       "      <td>2.26</td>\n",
       "      <td>0.00</td>\n",
       "      <td>32096160</td>\n",
       "      <td>95</td>\n",
       "      <td>0</td>\n",
       "    </tr>\n",
       "    <tr>\n",
       "      <th>11</th>\n",
       "      <td>1807</td>\n",
       "      <td>5631138</td>\n",
       "      <td>2018</td>\n",
       "      <td>1</td>\n",
       "      <td>8205240</td>\n",
       "      <td>47</td>\n",
       "      <td>119811.45</td>\n",
       "      <td>5631138</td>\n",
       "      <td>2018</td>\n",
       "      <td>12</td>\n",
       "      <td>17526500</td>\n",
       "      <td>92</td>\n",
       "      <td>61208.02</td>\n",
       "      <td>1.14</td>\n",
       "      <td>0.96</td>\n",
       "      <td>0.00</td>\n",
       "      <td>9321260</td>\n",
       "      <td>45</td>\n",
       "      <td>0</td>\n",
       "    </tr>\n",
       "    <tr>\n",
       "      <th>19</th>\n",
       "      <td>3611</td>\n",
       "      <td>3955788</td>\n",
       "      <td>2018</td>\n",
       "      <td>1</td>\n",
       "      <td>301680</td>\n",
       "      <td>3</td>\n",
       "      <td>1318596.00</td>\n",
       "      <td>3955788</td>\n",
       "      <td>2018</td>\n",
       "      <td>12</td>\n",
       "      <td>5530120</td>\n",
       "      <td>38</td>\n",
       "      <td>104099.68</td>\n",
       "      <td>17.33</td>\n",
       "      <td>11.67</td>\n",
       "      <td>0.00</td>\n",
       "      <td>5228440</td>\n",
       "      <td>35</td>\n",
       "      <td>0</td>\n",
       "    </tr>\n",
       "    <tr>\n",
       "      <th>24</th>\n",
       "      <td>5202</td>\n",
       "      <td>90027705</td>\n",
       "      <td>2018</td>\n",
       "      <td>1</td>\n",
       "      <td>8594100</td>\n",
       "      <td>27</td>\n",
       "      <td>3334359.44</td>\n",
       "      <td>90027705</td>\n",
       "      <td>2018</td>\n",
       "      <td>12</td>\n",
       "      <td>15087700</td>\n",
       "      <td>45</td>\n",
       "      <td>2000615.67</td>\n",
       "      <td>0.76</td>\n",
       "      <td>0.67</td>\n",
       "      <td>0.00</td>\n",
       "      <td>6493600</td>\n",
       "      <td>18</td>\n",
       "      <td>0</td>\n",
       "    </tr>\n",
       "    <tr>\n",
       "      <th>28</th>\n",
       "      <td>6438</td>\n",
       "      <td>3770065</td>\n",
       "      <td>2018</td>\n",
       "      <td>1</td>\n",
       "      <td>2212900</td>\n",
       "      <td>19</td>\n",
       "      <td>198424.47</td>\n",
       "      <td>3770065</td>\n",
       "      <td>2018</td>\n",
       "      <td>12</td>\n",
       "      <td>5160360</td>\n",
       "      <td>34</td>\n",
       "      <td>110884.26</td>\n",
       "      <td>1.33</td>\n",
       "      <td>0.79</td>\n",
       "      <td>0.00</td>\n",
       "      <td>2947460</td>\n",
       "      <td>15</td>\n",
       "      <td>0</td>\n",
       "    </tr>\n",
       "    <tr>\n",
       "      <th>...</th>\n",
       "      <td>...</td>\n",
       "      <td>...</td>\n",
       "      <td>...</td>\n",
       "      <td>...</td>\n",
       "      <td>...</td>\n",
       "      <td>...</td>\n",
       "      <td>...</td>\n",
       "      <td>...</td>\n",
       "      <td>...</td>\n",
       "      <td>...</td>\n",
       "      <td>...</td>\n",
       "      <td>...</td>\n",
       "      <td>...</td>\n",
       "      <td>...</td>\n",
       "      <td>...</td>\n",
       "      <td>...</td>\n",
       "      <td>...</td>\n",
       "      <td>...</td>\n",
       "      <td>...</td>\n",
       "    </tr>\n",
       "    <tr>\n",
       "      <th>2386</th>\n",
       "      <td>635082</td>\n",
       "      <td>36069908</td>\n",
       "      <td>2018</td>\n",
       "      <td>1</td>\n",
       "      <td>29336740</td>\n",
       "      <td>139</td>\n",
       "      <td>259495.74</td>\n",
       "      <td>36069908</td>\n",
       "      <td>2018</td>\n",
       "      <td>12</td>\n",
       "      <td>50945840</td>\n",
       "      <td>254</td>\n",
       "      <td>142007.51</td>\n",
       "      <td>0.74</td>\n",
       "      <td>0.83</td>\n",
       "      <td>0.00</td>\n",
       "      <td>21609100</td>\n",
       "      <td>115</td>\n",
       "      <td>0</td>\n",
       "    </tr>\n",
       "    <tr>\n",
       "      <th>2390</th>\n",
       "      <td>782086</td>\n",
       "      <td>3845136</td>\n",
       "      <td>2018</td>\n",
       "      <td>9</td>\n",
       "      <td>1219300</td>\n",
       "      <td>5</td>\n",
       "      <td>769027.20</td>\n",
       "      <td>3845136</td>\n",
       "      <td>2018</td>\n",
       "      <td>12</td>\n",
       "      <td>1395000</td>\n",
       "      <td>8</td>\n",
       "      <td>480642.00</td>\n",
       "      <td>0.14</td>\n",
       "      <td>0.60</td>\n",
       "      <td>0.00</td>\n",
       "      <td>175700</td>\n",
       "      <td>3</td>\n",
       "      <td>0</td>\n",
       "    </tr>\n",
       "    <tr>\n",
       "      <th>2395</th>\n",
       "      <td>900163</td>\n",
       "      <td>836891</td>\n",
       "      <td>2018</td>\n",
       "      <td>2</td>\n",
       "      <td>442800</td>\n",
       "      <td>3</td>\n",
       "      <td>278963.67</td>\n",
       "      <td>836891</td>\n",
       "      <td>2018</td>\n",
       "      <td>12</td>\n",
       "      <td>916460</td>\n",
       "      <td>6</td>\n",
       "      <td>139481.83</td>\n",
       "      <td>1.07</td>\n",
       "      <td>1.00</td>\n",
       "      <td>0.00</td>\n",
       "      <td>473660</td>\n",
       "      <td>3</td>\n",
       "      <td>0</td>\n",
       "    </tr>\n",
       "    <tr>\n",
       "      <th>2396</th>\n",
       "      <td>918661</td>\n",
       "      <td>258590</td>\n",
       "      <td>2018</td>\n",
       "      <td>1</td>\n",
       "      <td>332900</td>\n",
       "      <td>3</td>\n",
       "      <td>86196.67</td>\n",
       "      <td>258590</td>\n",
       "      <td>2018</td>\n",
       "      <td>12</td>\n",
       "      <td>867140</td>\n",
       "      <td>6</td>\n",
       "      <td>43098.33</td>\n",
       "      <td>1.60</td>\n",
       "      <td>1.00</td>\n",
       "      <td>0.00</td>\n",
       "      <td>534240</td>\n",
       "      <td>3</td>\n",
       "      <td>0</td>\n",
       "    </tr>\n",
       "    <tr>\n",
       "      <th>2397</th>\n",
       "      <td>933076</td>\n",
       "      <td>213311</td>\n",
       "      <td>2018</td>\n",
       "      <td>3</td>\n",
       "      <td>288000</td>\n",
       "      <td>4</td>\n",
       "      <td>53327.75</td>\n",
       "      <td>213311</td>\n",
       "      <td>2018</td>\n",
       "      <td>12</td>\n",
       "      <td>648000</td>\n",
       "      <td>9</td>\n",
       "      <td>23701.22</td>\n",
       "      <td>1.25</td>\n",
       "      <td>1.25</td>\n",
       "      <td>0.00</td>\n",
       "      <td>360000</td>\n",
       "      <td>5</td>\n",
       "      <td>0</td>\n",
       "    </tr>\n",
       "  </tbody>\n",
       "</table>\n",
       "<p>255 rows × 19 columns</p>\n",
       "</div>"
      ],
      "text/plain": [
       "        회사ID   기준_연매출액  기준_년도  기준_월  기준_연금보험료  기준_직원수   기준_인당매출액   비교_연매출액  \\\n",
       "9       1125  53713870   2018     1  11197120      42 1278901.67  53713870   \n",
       "11      1807   5631138   2018     1   8205240      47  119811.45   5631138   \n",
       "19      3611   3955788   2018     1    301680       3 1318596.00   3955788   \n",
       "24      5202  90027705   2018     1   8594100      27 3334359.44  90027705   \n",
       "28      6438   3770065   2018     1   2212900      19  198424.47   3770065   \n",
       "...      ...       ...    ...   ...       ...     ...        ...       ...   \n",
       "2386  635082  36069908   2018     1  29336740     139  259495.74  36069908   \n",
       "2390  782086   3845136   2018     9   1219300       5  769027.20   3845136   \n",
       "2395  900163    836891   2018     2    442800       3  278963.67    836891   \n",
       "2396  918661    258590   2018     1    332900       3   86196.67    258590   \n",
       "2397  933076    213311   2018     3    288000       4   53327.75    213311   \n",
       "\n",
       "      비교_년도  비교_월  비교_연금보험료  비교_직원수   비교_인당매출액  성장율_연금보험료  성장율_직원수  성장율_연매출액  \\\n",
       "9      2018    12  43293280     137  392072.04       2.87     2.26      0.00   \n",
       "11     2018    12  17526500      92   61208.02       1.14     0.96      0.00   \n",
       "19     2018    12   5530120      38  104099.68      17.33    11.67      0.00   \n",
       "24     2018    12  15087700      45 2000615.67       0.76     0.67      0.00   \n",
       "28     2018    12   5160360      34  110884.26       1.33     0.79      0.00   \n",
       "...     ...   ...       ...     ...        ...        ...      ...       ...   \n",
       "2386   2018    12  50945840     254  142007.51       0.74     0.83      0.00   \n",
       "2390   2018    12   1395000       8  480642.00       0.14     0.60      0.00   \n",
       "2395   2018    12    916460       6  139481.83       1.07     1.00      0.00   \n",
       "2396   2018    12    867140       6   43098.33       1.60     1.00      0.00   \n",
       "2397   2018    12    648000       9   23701.22       1.25     1.25      0.00   \n",
       "\n",
       "      증감_연금보험료  증감_직원수  증감_연매출액  \n",
       "9     32096160      95        0  \n",
       "11     9321260      45        0  \n",
       "19     5228440      35        0  \n",
       "24     6493600      18        0  \n",
       "28     2947460      15        0  \n",
       "...        ...     ...      ...  \n",
       "2386  21609100     115        0  \n",
       "2390    175700       3        0  \n",
       "2395    473660       3        0  \n",
       "2396    534240       3        0  \n",
       "2397    360000       5        0  \n",
       "\n",
       "[255 rows x 19 columns]"
      ]
     },
     "execution_count": 663,
     "metadata": {},
     "output_type": "execute_result"
    }
   ],
   "source": [
    "df_less_growth.query('성장율_직원수>=0.45')"
   ]
  },
  {
   "cell_type": "code",
   "execution_count": 342,
   "metadata": {},
   "outputs": [
    {
     "data": {
      "text/html": [
       "<div>\n",
       "<style scoped>\n",
       "    .dataframe tbody tr th:only-of-type {\n",
       "        vertical-align: middle;\n",
       "    }\n",
       "\n",
       "    .dataframe tbody tr th {\n",
       "        vertical-align: top;\n",
       "    }\n",
       "\n",
       "    .dataframe thead th {\n",
       "        text-align: right;\n",
       "    }\n",
       "</style>\n",
       "<table border=\"1\" class=\"dataframe\">\n",
       "  <thead>\n",
       "    <tr style=\"text-align: right;\">\n",
       "      <th></th>\n",
       "      <th>count</th>\n",
       "      <th>mean</th>\n",
       "      <th>std</th>\n",
       "      <th>min</th>\n",
       "      <th>25%</th>\n",
       "      <th>50%</th>\n",
       "      <th>75%</th>\n",
       "      <th>max</th>\n",
       "    </tr>\n",
       "  </thead>\n",
       "  <tbody>\n",
       "    <tr>\n",
       "      <th>성장율_직원수</th>\n",
       "      <td>35.00</td>\n",
       "      <td>0.50</td>\n",
       "      <td>0.63</td>\n",
       "      <td>-0.12</td>\n",
       "      <td>0.00</td>\n",
       "      <td>0.38</td>\n",
       "      <td>0.70</td>\n",
       "      <td>2.92</td>\n",
       "    </tr>\n",
       "    <tr>\n",
       "      <th>기간내성장율_직원수</th>\n",
       "      <td>35.00</td>\n",
       "      <td>1.11</td>\n",
       "      <td>2.95</td>\n",
       "      <td>0.00</td>\n",
       "      <td>0.00</td>\n",
       "      <td>0.00</td>\n",
       "      <td>0.00</td>\n",
       "      <td>13.12</td>\n",
       "    </tr>\n",
       "    <tr>\n",
       "      <th>연평균성장율_직원수</th>\n",
       "      <td>35.00</td>\n",
       "      <td>0.50</td>\n",
       "      <td>0.25</td>\n",
       "      <td>0.18</td>\n",
       "      <td>0.26</td>\n",
       "      <td>0.45</td>\n",
       "      <td>0.69</td>\n",
       "      <td>0.97</td>\n",
       "    </tr>\n",
       "  </tbody>\n",
       "</table>\n",
       "</div>"
      ],
      "text/plain": [
       "            count  mean  std   min  25%  50%  75%   max\n",
       "성장율_직원수     35.00  0.50 0.63 -0.12 0.00 0.38 0.70  2.92\n",
       "기간내성장율_직원수  35.00  1.11 2.95  0.00 0.00 0.00 0.00 13.12\n",
       "연평균성장율_직원수  35.00  0.50 0.25  0.18 0.26 0.45 0.69  0.97"
      ]
     },
     "execution_count": 342,
     "metadata": {},
     "output_type": "execute_result"
    }
   ],
   "source": [
    "df_unicorn.filter(regex='성장율').describe().T"
   ]
  },
  {
   "cell_type": "markdown",
   "metadata": {},
   "source": [
    "**데이터 기간 1년 이하인 기업들(2407개) 중 직원성장율 0.45 이상 기업**"
   ]
  },
  {
   "cell_type": "code",
   "execution_count": 452,
   "metadata": {
    "scrolled": true
   },
   "outputs": [
    {
     "name": "stdout",
     "output_type": "stream",
     "text": [
      "유니콘 기업의 직원 수 연평균성장율 0.45 이상인 기업 : 4\n",
      "['（주）비바리퍼블리카' '주식회사쏘카' '(주)야놀자' '（주）지피클럽']\n"
     ]
    }
   ],
   "source": [
    "# 유니콘 기업의 직원 수 연평균성장율 0.4 이상인 기업 \n",
    "print('유니콘 기업의 직원 수 연평균성장율 0.45 이상인 기업 :', df_unicorn.query('연평균성장율_직원수>=0.45')['사업장명'].nunique())\n",
    "print(df_unicorn.query('연평균성장율_직원수>=0.45')['사업장명'].unique())"
   ]
  },
  {
   "cell_type": "markdown",
   "metadata": {},
   "source": [
    "**높은 직원 성장율을 보인 상기 기업을 제외한 데이터1년이하 기업 필터링**"
   ]
  },
  {
   "cell_type": "code",
   "execution_count": 472,
   "metadata": {
    "scrolled": true
   },
   "outputs": [
    {
     "name": "stdout",
     "output_type": "stream",
     "text": [
      "raw data 기업 수 : 4998\n",
      "분석대상금액 필터링 후 기업 수 : 4928\n",
      "분석대상금액 필터링 후 기업 수 : 2776\n"
     ]
    }
   ],
   "source": [
    "print('raw data 기업 수 :', df['회사ID'].nunique())\n",
    "print('분석대상금액 필터링 후 기업 수 :', df_eda['회사ID'].nunique())\n",
    "# df_eda_filtered :매출액 1000억 기준, 데이터기간 1년 기준 필터링 후 데이터 셋\n",
    "df_eda_filtered_less = df_eda[~df_eda['회사ID'].isin(df_less_growth.query('성장율_직원수<=0.45')['회사ID'].to_list())].reset_index().drop('index', axis=1)\n",
    "print('분석대상금액 필터링 후 기업 수 :', df_eda_filtered['회사ID'].nunique())"
   ]
  },
  {
   "cell_type": "markdown",
   "metadata": {},
   "source": [
    "**df_eda_filtered_less : 분석대상, 분석기간 필터링 후 데이터셋**\n",
    "- 2776개의 기업\n",
    "- 2019년 데이터 있는 경우, 연매출액 1000억 이상\n",
    "- 데이터 기간 1년 이하인 경우 직원수 성장율 0.45이상"
   ]
  },
  {
   "cell_type": "markdown",
   "metadata": {},
   "source": [
    "## 연성장율 : df_growth_cleansed\n",
    "> - 회사 ID별로 데이터 기간 상이하나, **회사 ID별 연평균 (연금보험료/직원수/연매출액)성장율을 파악하고자 함**"
   ]
  },
  {
   "cell_type": "markdown",
   "metadata": {},
   "source": [
    "#### 성장율 분석 데이터셋"
   ]
  },
  {
   "cell_type": "code",
   "execution_count": 882,
   "metadata": {
    "scrolled": true
   },
   "outputs": [
    {
     "data": {
      "text/html": [
       "<div>\n",
       "<style scoped>\n",
       "    .dataframe tbody tr th:only-of-type {\n",
       "        vertical-align: middle;\n",
       "    }\n",
       "\n",
       "    .dataframe tbody tr th {\n",
       "        vertical-align: top;\n",
       "    }\n",
       "\n",
       "    .dataframe thead th {\n",
       "        text-align: right;\n",
       "    }\n",
       "</style>\n",
       "<table border=\"1\" class=\"dataframe\">\n",
       "  <thead>\n",
       "    <tr style=\"text-align: right;\">\n",
       "      <th></th>\n",
       "      <th>회사ID</th>\n",
       "      <th>연매출액</th>\n",
       "      <th>년도</th>\n",
       "      <th>월</th>\n",
       "      <th>월별_연금보험료</th>\n",
       "      <th>월별_직원수</th>\n",
       "      <th>인당_매출액</th>\n",
       "    </tr>\n",
       "  </thead>\n",
       "  <tbody>\n",
       "    <tr>\n",
       "      <th>0</th>\n",
       "      <td>44851</td>\n",
       "      <td>939238</td>\n",
       "      <td>2016</td>\n",
       "      <td>1</td>\n",
       "      <td>1181140</td>\n",
       "      <td>8</td>\n",
       "      <td>117404.75</td>\n",
       "    </tr>\n",
       "    <tr>\n",
       "      <th>1</th>\n",
       "      <td>44851</td>\n",
       "      <td>939238</td>\n",
       "      <td>2016</td>\n",
       "      <td>2</td>\n",
       "      <td>1181140</td>\n",
       "      <td>8</td>\n",
       "      <td>117404.75</td>\n",
       "    </tr>\n",
       "  </tbody>\n",
       "</table>\n",
       "</div>"
      ],
      "text/plain": [
       "    회사ID    연매출액    년도  월  월별_연금보험료  월별_직원수    인당_매출액\n",
       "0  44851  939238  2016  1   1181140       8 117404.75\n",
       "1  44851  939238  2016  2   1181140       8 117404.75"
      ]
     },
     "execution_count": 882,
     "metadata": {},
     "output_type": "execute_result"
    }
   ],
   "source": [
    "df_eda_filtered = df_eda[~df_eda['회사ID'].isin(less_list)].sort_values(['회사ID','년도','월']).reset_index().drop('index', axis=1)\n",
    "df_eda_filtered.head(2)"
   ]
  },
  {
   "cell_type": "code",
   "execution_count": 788,
   "metadata": {
    "scrolled": true
   },
   "outputs": [
    {
     "data": {
      "text/plain": [
       "(73191, 7)"
      ]
     },
     "execution_count": 788,
     "metadata": {},
     "output_type": "execute_result"
    }
   ],
   "source": [
    "df_eda_filtered.shape"
   ]
  },
  {
   "cell_type": "markdown",
   "metadata": {},
   "source": [
    "**df_eda_filtered : 분석대상, 분석기간 필터링 후 데이터셋**\n",
    "- 2776개의 기업\n",
    "- 2019년 데이터 있는 경우, 연매출액 1000억 이상\n",
    "- 데이터 기간 1년 초과 "
   ]
  },
  {
   "cell_type": "markdown",
   "metadata": {},
   "source": [
    "### 월별 데이터 있는 변수 : 직원수, 연금보험료, 인당매출액\n",
    "key = 회사ID + - + 년도\n",
    "1. 월별성장율 계산\n",
    "2. 년도별로 월별성장율 평균 계산"
   ]
  },
  {
   "cell_type": "code",
   "execution_count": 883,
   "metadata": {
    "scrolled": true
   },
   "outputs": [],
   "source": [
    "df_eda_filtered=df_eda_filtered.sort_values(['회사ID','년도','월']).reset_index().drop('index', axis=1)\n",
    "\n",
    "# df_eda_filtered.info()\n",
    "df_eda_filtered=df_eda_filtered.astype({'회사ID':str, '년도':str,'월':str})\n",
    "df_eda_filtered['key'] = df_eda_filtered['회사ID']+\"-\"+df_eda_filtered['년도']\n",
    "df_eda_filtered=df_eda_filtered.astype({'회사ID':int, '년도':int,'월':int})\n",
    "\n",
    "# index : key(회사ID+년도)로 설정\n",
    "df_eda_filtered.set_index('key', inplace=True)"
   ]
  },
  {
   "cell_type": "code",
   "execution_count": 884,
   "metadata": {},
   "outputs": [
    {
     "data": {
      "text/plain": [
       "(7480, 3)"
      ]
     },
     "execution_count": 884,
     "metadata": {},
     "output_type": "execute_result"
    }
   ],
   "source": [
    "# 월별 성장율 \n",
    "#df_eda_filtered.sort_values(['회사ID','년도','월']).filter(regex='연금|직원|인당').groupby('key').pct_change()#.groupby('key').agg('mean')\n",
    "\n",
    "# 평균 성장율\n",
    "df_eda_filtered.sort_values(['회사ID','년도','월']).filter(regex='연금|직원|인당').groupby('key').pct_change().groupby('key').agg('mean')\n",
    "df_growth_monthly = df_eda_filtered.sort_values(['회사ID','년도','월']).filter(regex='월|연금|직원|인당').groupby('key').pct_change().groupby('key').agg('mean')\n",
    "df_growth_monthly = df_growth_monthly.drop('월',axis=1).rename(columns = {'월별_연금보험료':'평균성장율_연금보험료',\n",
    "                                                      '월별_직원수':'평균성장율_직원수',\n",
    "                                                      '인당_매출액':'평균성장율_인당매출액'})\n",
    "df_growth_monthly.shape"
   ]
  },
  {
   "cell_type": "markdown",
   "metadata": {},
   "source": [
    "### 연도별 데이터 있는 변수 : 매출액\n",
    "1. 연도별 성장율 계산"
   ]
  },
  {
   "cell_type": "code",
   "execution_count": 885,
   "metadata": {
    "scrolled": false
   },
   "outputs": [
    {
     "data": {
      "text/plain": [
       "(7480, 1)"
      ]
     },
     "execution_count": 885,
     "metadata": {},
     "output_type": "execute_result"
    }
   ],
   "source": [
    "df_growth_yearly = df_eda_filtered.filter(regex='연매출액').groupby('key').agg('mean')\n",
    "df_growth_yearly.reset_index(inplace=True)\n",
    "\n",
    "# 회사ID 변수 추가\n",
    "df_growth_yearly['회사ID']=pd.DataFrame(df_growth_yearly['key'].str.split('-',2).tolist())[0]\n",
    "df_growth_yearly=df_growth_yearly.astype({'회사ID':'int'})\n",
    "# key유지, 회사별 성장율_연매출액 \n",
    "df_growth_yearly = df_growth_yearly.set_index('key').groupby('회사ID').pct_change().rename(columns={'연매출액':'성장율_연매출액'})\n",
    "df_growth_yearly.shape"
   ]
  },
  {
   "cell_type": "markdown",
   "metadata": {},
   "source": [
    "### 지수 산출용 데이터셋"
   ]
  },
  {
   "cell_type": "code",
   "execution_count": 892,
   "metadata": {
    "scrolled": false
   },
   "outputs": [
    {
     "name": "stdout",
     "output_type": "stream",
     "text": [
      "(7480, 4)\n"
     ]
    },
    {
     "data": {
      "text/html": [
       "<div>\n",
       "<style scoped>\n",
       "    .dataframe tbody tr th:only-of-type {\n",
       "        vertical-align: middle;\n",
       "    }\n",
       "\n",
       "    .dataframe tbody tr th {\n",
       "        vertical-align: top;\n",
       "    }\n",
       "\n",
       "    .dataframe thead th {\n",
       "        text-align: right;\n",
       "    }\n",
       "</style>\n",
       "<table border=\"1\" class=\"dataframe\">\n",
       "  <thead>\n",
       "    <tr style=\"text-align: right;\">\n",
       "      <th></th>\n",
       "      <th>평균성장율_연금보험료</th>\n",
       "      <th>평균성장율_직원수</th>\n",
       "      <th>평균성장율_인당매출액</th>\n",
       "      <th>성장율_연매출액</th>\n",
       "    </tr>\n",
       "    <tr>\n",
       "      <th>key</th>\n",
       "      <th></th>\n",
       "      <th></th>\n",
       "      <th></th>\n",
       "      <th></th>\n",
       "    </tr>\n",
       "  </thead>\n",
       "  <tbody>\n",
       "    <tr>\n",
       "      <th>122968-2015</th>\n",
       "      <td>-0.00</td>\n",
       "      <td>0.00</td>\n",
       "      <td>0.00</td>\n",
       "      <td>NaN</td>\n",
       "    </tr>\n",
       "    <tr>\n",
       "      <th>122968-2016</th>\n",
       "      <td>0.02</td>\n",
       "      <td>0.01</td>\n",
       "      <td>-0.01</td>\n",
       "      <td>-0.28</td>\n",
       "    </tr>\n",
       "    <tr>\n",
       "      <th>122968-2017</th>\n",
       "      <td>0.00</td>\n",
       "      <td>0.00</td>\n",
       "      <td>0.00</td>\n",
       "      <td>0.23</td>\n",
       "    </tr>\n",
       "    <tr>\n",
       "      <th>122968-2018</th>\n",
       "      <td>0.00</td>\n",
       "      <td>0.00</td>\n",
       "      <td>-0.00</td>\n",
       "      <td>-0.04</td>\n",
       "    </tr>\n",
       "    <tr>\n",
       "      <th>122983-2015</th>\n",
       "      <td>-0.01</td>\n",
       "      <td>-0.02</td>\n",
       "      <td>0.02</td>\n",
       "      <td>NaN</td>\n",
       "    </tr>\n",
       "  </tbody>\n",
       "</table>\n",
       "</div>"
      ],
      "text/plain": [
       "             평균성장율_연금보험료  평균성장율_직원수  평균성장율_인당매출액  성장율_연매출액\n",
       "key                                                       \n",
       "122968-2015        -0.00       0.00         0.00       NaN\n",
       "122968-2016         0.02       0.01        -0.01     -0.28\n",
       "122968-2017         0.00       0.00         0.00      0.23\n",
       "122968-2018         0.00       0.00        -0.00     -0.04\n",
       "122983-2015        -0.01      -0.02         0.02       NaN"
      ]
     },
     "execution_count": 892,
     "metadata": {},
     "output_type": "execute_result"
    }
   ],
   "source": [
    "# index = key 기준 inner join\n",
    "df_growth = df_growth_monthly.merge(df_growth_yearly, left_index=True,right_index=True, how='inner')\n",
    "print(df_growth.shape)\n",
    "df_growth.head()"
   ]
  },
  {
   "cell_type": "code",
   "execution_count": 897,
   "metadata": {
    "scrolled": false
   },
   "outputs": [
    {
     "data": {
      "text/html": [
       "<div>\n",
       "<style scoped>\n",
       "    .dataframe tbody tr th:only-of-type {\n",
       "        vertical-align: middle;\n",
       "    }\n",
       "\n",
       "    .dataframe tbody tr th {\n",
       "        vertical-align: top;\n",
       "    }\n",
       "\n",
       "    .dataframe thead th {\n",
       "        text-align: right;\n",
       "    }\n",
       "</style>\n",
       "<table border=\"1\" class=\"dataframe\">\n",
       "  <thead>\n",
       "    <tr style=\"text-align: right;\">\n",
       "      <th></th>\n",
       "      <th>key</th>\n",
       "      <th>평균성장율_연금보험료</th>\n",
       "      <th>평균성장율_직원수</th>\n",
       "      <th>평균성장율_인당매출액</th>\n",
       "      <th>성장율_연매출액</th>\n",
       "      <th>회사ID</th>\n",
       "      <th>년도</th>\n",
       "    </tr>\n",
       "  </thead>\n",
       "  <tbody>\n",
       "    <tr>\n",
       "      <th>0</th>\n",
       "      <td>122968-2015</td>\n",
       "      <td>-0.28</td>\n",
       "      <td>0.00</td>\n",
       "      <td>0.00</td>\n",
       "      <td>NaN</td>\n",
       "      <td>122968</td>\n",
       "      <td>2015</td>\n",
       "    </tr>\n",
       "    <tr>\n",
       "      <th>1</th>\n",
       "      <td>122968-2016</td>\n",
       "      <td>2.26</td>\n",
       "      <td>1.40</td>\n",
       "      <td>-1.16</td>\n",
       "      <td>-28.21</td>\n",
       "      <td>122968</td>\n",
       "      <td>2016</td>\n",
       "    </tr>\n",
       "    <tr>\n",
       "      <th>2</th>\n",
       "      <td>122968-2017</td>\n",
       "      <td>0.15</td>\n",
       "      <td>0.44</td>\n",
       "      <td>0.44</td>\n",
       "      <td>22.86</td>\n",
       "      <td>122968</td>\n",
       "      <td>2017</td>\n",
       "    </tr>\n",
       "    <tr>\n",
       "      <th>3</th>\n",
       "      <td>122968-2018</td>\n",
       "      <td>0.38</td>\n",
       "      <td>0.27</td>\n",
       "      <td>-0.02</td>\n",
       "      <td>-4.50</td>\n",
       "      <td>122968</td>\n",
       "      <td>2018</td>\n",
       "    </tr>\n",
       "    <tr>\n",
       "      <th>4</th>\n",
       "      <td>122983-2015</td>\n",
       "      <td>-1.18</td>\n",
       "      <td>-1.56</td>\n",
       "      <td>1.59</td>\n",
       "      <td>NaN</td>\n",
       "      <td>122983</td>\n",
       "      <td>2015</td>\n",
       "    </tr>\n",
       "  </tbody>\n",
       "</table>\n",
       "</div>"
      ],
      "text/plain": [
       "           key  평균성장율_연금보험료  평균성장율_직원수  평균성장율_인당매출액  성장율_연매출액    회사ID    년도\n",
       "0  122968-2015        -0.28       0.00         0.00       NaN  122968  2015\n",
       "1  122968-2016         2.26       1.40        -1.16    -28.21  122968  2016\n",
       "2  122968-2017         0.15       0.44         0.44     22.86  122968  2017\n",
       "3  122968-2018         0.38       0.27        -0.02     -4.50  122968  2018\n",
       "4  122983-2015        -1.18      -1.56         1.59       NaN  122983  2015"
      ]
     },
     "execution_count": 897,
     "metadata": {},
     "output_type": "execute_result"
    }
   ],
   "source": [
    "# %로 전환\n",
    "df_growth = df_growth.apply(lambda x : x*100)\n",
    "df_growth.reset_index(inplace=True)\n",
    "df_growth[['회사ID','년도']]=pd.DataFrame(df_growth['key'].str.split('-',2).tolist())\n",
    "df_growth.head()"
   ]
  },
  {
   "cell_type": "code",
   "execution_count": 899,
   "metadata": {
    "scrolled": true
   },
   "outputs": [
    {
     "name": "stdout",
     "output_type": "stream",
     "text": [
      "2521\n",
      "(4958, 7)\n"
     ]
    },
    {
     "data": {
      "text/html": [
       "<div>\n",
       "<style scoped>\n",
       "    .dataframe tbody tr th:only-of-type {\n",
       "        vertical-align: middle;\n",
       "    }\n",
       "\n",
       "    .dataframe tbody tr th {\n",
       "        vertical-align: top;\n",
       "    }\n",
       "\n",
       "    .dataframe thead th {\n",
       "        text-align: right;\n",
       "    }\n",
       "</style>\n",
       "<table border=\"1\" class=\"dataframe\">\n",
       "  <thead>\n",
       "    <tr style=\"text-align: right;\">\n",
       "      <th></th>\n",
       "      <th>회사ID</th>\n",
       "    </tr>\n",
       "    <tr>\n",
       "      <th>년도</th>\n",
       "      <th></th>\n",
       "    </tr>\n",
       "  </thead>\n",
       "  <tbody>\n",
       "    <tr>\n",
       "      <th>2016</th>\n",
       "      <td>1544</td>\n",
       "    </tr>\n",
       "    <tr>\n",
       "      <th>2017</th>\n",
       "      <td>1436</td>\n",
       "    </tr>\n",
       "    <tr>\n",
       "      <th>2018</th>\n",
       "      <td>1974</td>\n",
       "    </tr>\n",
       "    <tr>\n",
       "      <th>2019</th>\n",
       "      <td>4</td>\n",
       "    </tr>\n",
       "  </tbody>\n",
       "</table>\n",
       "</div>"
      ],
      "text/plain": [
       "      회사ID\n",
       "년도        \n",
       "2016  1544\n",
       "2017  1436\n",
       "2018  1974\n",
       "2019     4"
      ]
     },
     "execution_count": 899,
     "metadata": {},
     "output_type": "execute_result"
    }
   ],
   "source": [
    "df_growth_cleansed = df_growth.dropna(axis=0)\n",
    "print(df_growth_cleansed['회사ID'].nunique())\n",
    "print(df_growth_cleansed.shape)\n",
    "df_growth_cleansed.groupby('년도').agg({'회사ID':'count'})"
   ]
  },
  {
   "cell_type": "markdown",
   "metadata": {},
   "source": [
    "## 경기고려가중치추가 : df_growth_cleansed\n",
    "**동행지수순환변동치 평균값이 낮을 수록 높게 부여 > 경기가 안좋음에도 성장율이 높은 경우 극대화**\n",
    "- 4개 연도별 가중치변수적용 def eco"
   ]
  },
  {
   "cell_type": "code",
   "execution_count": 929,
   "metadata": {
    "scrolled": true
   },
   "outputs": [
    {
     "data": {
      "text/html": [
       "<div>\n",
       "<style scoped>\n",
       "    .dataframe tbody tr th:only-of-type {\n",
       "        vertical-align: middle;\n",
       "    }\n",
       "\n",
       "    .dataframe tbody tr th {\n",
       "        vertical-align: top;\n",
       "    }\n",
       "\n",
       "    .dataframe thead th {\n",
       "        text-align: right;\n",
       "    }\n",
       "</style>\n",
       "<table border=\"1\" class=\"dataframe\">\n",
       "  <thead>\n",
       "    <tr style=\"text-align: right;\">\n",
       "      <th></th>\n",
       "      <th>년도</th>\n",
       "      <th>평균_동행지수순환변동치</th>\n",
       "    </tr>\n",
       "  </thead>\n",
       "  <tbody>\n",
       "    <tr>\n",
       "      <th>0</th>\n",
       "      <td>2016</td>\n",
       "      <td>0.03</td>\n",
       "    </tr>\n",
       "    <tr>\n",
       "      <th>1</th>\n",
       "      <td>2017</td>\n",
       "      <td>0.43</td>\n",
       "    </tr>\n",
       "    <tr>\n",
       "      <th>2</th>\n",
       "      <td>2018</td>\n",
       "      <td>0.37</td>\n",
       "    </tr>\n",
       "    <tr>\n",
       "      <th>3</th>\n",
       "      <td>2019</td>\n",
       "      <td>0.13</td>\n",
       "    </tr>\n",
       "  </tbody>\n",
       "</table>\n",
       "</div>"
      ],
      "text/plain": [
       "     년도  평균_동행지수순환변동치\n",
       "0  2016          0.03\n",
       "1  2017          0.43\n",
       "2  2018          0.37\n",
       "3  2019          0.13"
      ]
     },
     "execution_count": 929,
     "metadata": {},
     "output_type": "execute_result"
    }
   ],
   "source": [
    "년도 = [2016,2017,2018,2019]\n",
    "평균_동행지수순환변동치 = [0.0250, 0.4333, 0.3667, 0.1333]\n",
    "eco = pd.DataFrame()\n",
    "eco['년도']=년도\n",
    "eco=eco.astype({'년도':'object'}) # merge 시 충돌\n",
    "eco['평균_동행지수순환변동치'] = 평균_동행지수순환변동치\n",
    "eco"
   ]
  },
  {
   "cell_type": "code",
   "execution_count": 930,
   "metadata": {
    "scrolled": true
   },
   "outputs": [
    {
     "data": {
      "text/html": [
       "<div>\n",
       "<style scoped>\n",
       "    .dataframe tbody tr th:only-of-type {\n",
       "        vertical-align: middle;\n",
       "    }\n",
       "\n",
       "    .dataframe tbody tr th {\n",
       "        vertical-align: top;\n",
       "    }\n",
       "\n",
       "    .dataframe thead th {\n",
       "        text-align: right;\n",
       "    }\n",
       "</style>\n",
       "<table border=\"1\" class=\"dataframe\">\n",
       "  <thead>\n",
       "    <tr style=\"text-align: right;\">\n",
       "      <th></th>\n",
       "      <th>count</th>\n",
       "      <th>mean</th>\n",
       "      <th>std</th>\n",
       "      <th>min</th>\n",
       "      <th>25%</th>\n",
       "      <th>50%</th>\n",
       "      <th>75%</th>\n",
       "      <th>max</th>\n",
       "    </tr>\n",
       "  </thead>\n",
       "  <tbody>\n",
       "    <tr>\n",
       "      <th>평균_동행지수순환변동치</th>\n",
       "      <td>4.00</td>\n",
       "      <td>0.24</td>\n",
       "      <td>0.19</td>\n",
       "      <td>0.03</td>\n",
       "      <td>0.11</td>\n",
       "      <td>0.25</td>\n",
       "      <td>0.38</td>\n",
       "      <td>0.43</td>\n",
       "    </tr>\n",
       "  </tbody>\n",
       "</table>\n",
       "</div>"
      ],
      "text/plain": [
       "              count  mean  std  min  25%  50%  75%  max\n",
       "평균_동행지수순환변동치   4.00  0.24 0.19 0.03 0.11 0.25 0.38 0.43"
      ]
     },
     "execution_count": 930,
     "metadata": {},
     "output_type": "execute_result"
    }
   ],
   "source": [
    "eco.describe().T"
   ]
  },
  {
   "cell_type": "code",
   "execution_count": 931,
   "metadata": {
    "scrolled": false
   },
   "outputs": [
    {
     "data": {
      "text/html": [
       "<div>\n",
       "<style scoped>\n",
       "    .dataframe tbody tr th:only-of-type {\n",
       "        vertical-align: middle;\n",
       "    }\n",
       "\n",
       "    .dataframe tbody tr th {\n",
       "        vertical-align: top;\n",
       "    }\n",
       "\n",
       "    .dataframe thead th {\n",
       "        text-align: right;\n",
       "    }\n",
       "</style>\n",
       "<table border=\"1\" class=\"dataframe\">\n",
       "  <thead>\n",
       "    <tr style=\"text-align: right;\">\n",
       "      <th></th>\n",
       "      <th>년도</th>\n",
       "      <th>평균_동행지수순환변동치</th>\n",
       "      <th>경기지수점수</th>\n",
       "    </tr>\n",
       "  </thead>\n",
       "  <tbody>\n",
       "    <tr>\n",
       "      <th>0</th>\n",
       "      <td>2016</td>\n",
       "      <td>0.03</td>\n",
       "      <td>0.40</td>\n",
       "    </tr>\n",
       "    <tr>\n",
       "      <th>1</th>\n",
       "      <td>2017</td>\n",
       "      <td>0.43</td>\n",
       "      <td>0.10</td>\n",
       "    </tr>\n",
       "    <tr>\n",
       "      <th>2</th>\n",
       "      <td>2018</td>\n",
       "      <td>0.37</td>\n",
       "      <td>0.20</td>\n",
       "    </tr>\n",
       "    <tr>\n",
       "      <th>3</th>\n",
       "      <td>2019</td>\n",
       "      <td>0.13</td>\n",
       "      <td>0.30</td>\n",
       "    </tr>\n",
       "  </tbody>\n",
       "</table>\n",
       "</div>"
      ],
      "text/plain": [
       "     년도  평균_동행지수순환변동치  경기지수점수\n",
       "0  2016          0.03    0.40\n",
       "1  2017          0.43    0.10\n",
       "2  2018          0.37    0.20\n",
       "3  2019          0.13    0.30"
      ]
     },
     "execution_count": 931,
     "metadata": {},
     "output_type": "execute_result"
    }
   ],
   "source": [
    "eco['경기지수점수'] = [0.4,0.1,0.2,0.3]\n",
    "eco"
   ]
  },
  {
   "cell_type": "code",
   "execution_count": 942,
   "metadata": {},
   "outputs": [],
   "source": [
    "def eco(x):\n",
    "    if x==2016: return 0.4\n",
    "    elif x==2017: return 0.1\n",
    "    elif x==2018: return 0.2\n",
    "    else: return 0.3"
   ]
  },
  {
   "cell_type": "code",
   "execution_count": 943,
   "metadata": {},
   "outputs": [],
   "source": [
    "df_growth_cleansed['경기지수점수']=df['년도'].apply(eco)"
   ]
  },
  {
   "cell_type": "markdown",
   "metadata": {},
   "source": [
    "## 유니콘 지수 산출\n",
    "**(직원수성장율 * 경기지수점수) + (매출액성장율 * 경기지수점수) **\n",
    "- 스코어링으로 진행하는지? "
   ]
  },
  {
   "cell_type": "markdown",
   "metadata": {
    "heading_collapsed": true
   },
   "source": [
    "### 표준화 X : df_unicorn_indicator"
   ]
  },
  {
   "cell_type": "code",
   "execution_count": 985,
   "metadata": {
    "hidden": true
   },
   "outputs": [],
   "source": [
    "# 분석 데이터 유지\n",
    "df_unicorn_indicator = df_growth_cleansed.copy()"
   ]
  },
  {
   "cell_type": "code",
   "execution_count": 979,
   "metadata": {
    "hidden": true,
    "scrolled": true
   },
   "outputs": [
    {
     "data": {
      "text/html": [
       "<div>\n",
       "<style scoped>\n",
       "    .dataframe tbody tr th:only-of-type {\n",
       "        vertical-align: middle;\n",
       "    }\n",
       "\n",
       "    .dataframe tbody tr th {\n",
       "        vertical-align: top;\n",
       "    }\n",
       "\n",
       "    .dataframe thead th {\n",
       "        text-align: right;\n",
       "    }\n",
       "</style>\n",
       "<table border=\"1\" class=\"dataframe\">\n",
       "  <thead>\n",
       "    <tr style=\"text-align: right;\">\n",
       "      <th></th>\n",
       "      <th>key</th>\n",
       "      <th>평균성장율_연금보험료</th>\n",
       "      <th>평균성장율_직원수</th>\n",
       "      <th>평균성장율_인당매출액</th>\n",
       "      <th>성장율_연매출액</th>\n",
       "      <th>회사ID</th>\n",
       "      <th>년도</th>\n",
       "      <th>경기지수점수</th>\n",
       "    </tr>\n",
       "  </thead>\n",
       "  <tbody>\n",
       "    <tr>\n",
       "      <th>1</th>\n",
       "      <td>122968-2016</td>\n",
       "      <td>2.26</td>\n",
       "      <td>1.40</td>\n",
       "      <td>-1.16</td>\n",
       "      <td>-28.21</td>\n",
       "      <td>122968</td>\n",
       "      <td>2016</td>\n",
       "      <td>0.20</td>\n",
       "    </tr>\n",
       "    <tr>\n",
       "      <th>2</th>\n",
       "      <td>122968-2017</td>\n",
       "      <td>0.15</td>\n",
       "      <td>0.44</td>\n",
       "      <td>0.44</td>\n",
       "      <td>22.86</td>\n",
       "      <td>122968</td>\n",
       "      <td>2017</td>\n",
       "      <td>0.20</td>\n",
       "    </tr>\n",
       "    <tr>\n",
       "      <th>3</th>\n",
       "      <td>122968-2018</td>\n",
       "      <td>0.38</td>\n",
       "      <td>0.27</td>\n",
       "      <td>-0.02</td>\n",
       "      <td>-4.50</td>\n",
       "      <td>122968</td>\n",
       "      <td>2018</td>\n",
       "      <td>0.30</td>\n",
       "    </tr>\n",
       "    <tr>\n",
       "      <th>5</th>\n",
       "      <td>122983-2016</td>\n",
       "      <td>0.04</td>\n",
       "      <td>0.00</td>\n",
       "      <td>0.30</td>\n",
       "      <td>-16.07</td>\n",
       "      <td>122983</td>\n",
       "      <td>2016</td>\n",
       "      <td>0.20</td>\n",
       "    </tr>\n",
       "    <tr>\n",
       "      <th>6</th>\n",
       "      <td>122983-2017</td>\n",
       "      <td>-3.27</td>\n",
       "      <td>-4.10</td>\n",
       "      <td>8.92</td>\n",
       "      <td>-53.33</td>\n",
       "      <td>122983</td>\n",
       "      <td>2017</td>\n",
       "      <td>0.40</td>\n",
       "    </tr>\n",
       "    <tr>\n",
       "      <th>...</th>\n",
       "      <td>...</td>\n",
       "      <td>...</td>\n",
       "      <td>...</td>\n",
       "      <td>...</td>\n",
       "      <td>...</td>\n",
       "      <td>...</td>\n",
       "      <td>...</td>\n",
       "      <td>...</td>\n",
       "    </tr>\n",
       "    <tr>\n",
       "      <th>7474</th>\n",
       "      <td>516653-2017</td>\n",
       "      <td>2.93</td>\n",
       "      <td>2.27</td>\n",
       "      <td>-1.82</td>\n",
       "      <td>12.08</td>\n",
       "      <td>516653</td>\n",
       "      <td>2017</td>\n",
       "      <td>0.20</td>\n",
       "    </tr>\n",
       "    <tr>\n",
       "      <th>7475</th>\n",
       "      <td>516653-2018</td>\n",
       "      <td>7.29</td>\n",
       "      <td>5.21</td>\n",
       "      <td>-0.83</td>\n",
       "      <td>-23.33</td>\n",
       "      <td>516653</td>\n",
       "      <td>2018</td>\n",
       "      <td>0.40</td>\n",
       "    </tr>\n",
       "    <tr>\n",
       "      <th>7477</th>\n",
       "      <td>59533-2016</td>\n",
       "      <td>2.03</td>\n",
       "      <td>1.82</td>\n",
       "      <td>-1.52</td>\n",
       "      <td>6.71</td>\n",
       "      <td>59533</td>\n",
       "      <td>2016</td>\n",
       "      <td>0.40</td>\n",
       "    </tr>\n",
       "    <tr>\n",
       "      <th>7478</th>\n",
       "      <td>59533-2017</td>\n",
       "      <td>-1.64</td>\n",
       "      <td>-1.52</td>\n",
       "      <td>1.82</td>\n",
       "      <td>-40.17</td>\n",
       "      <td>59533</td>\n",
       "      <td>2017</td>\n",
       "      <td>0.40</td>\n",
       "    </tr>\n",
       "    <tr>\n",
       "      <th>7479</th>\n",
       "      <td>59533-2018</td>\n",
       "      <td>-1.17</td>\n",
       "      <td>-1.21</td>\n",
       "      <td>3.03</td>\n",
       "      <td>16.34</td>\n",
       "      <td>59533</td>\n",
       "      <td>2018</td>\n",
       "      <td>0.20</td>\n",
       "    </tr>\n",
       "  </tbody>\n",
       "</table>\n",
       "<p>4958 rows × 8 columns</p>\n",
       "</div>"
      ],
      "text/plain": [
       "              key  평균성장율_연금보험료  평균성장율_직원수  평균성장율_인당매출액  성장율_연매출액    회사ID  \\\n",
       "1     122968-2016         2.26       1.40        -1.16    -28.21  122968   \n",
       "2     122968-2017         0.15       0.44         0.44     22.86  122968   \n",
       "3     122968-2018         0.38       0.27        -0.02     -4.50  122968   \n",
       "5     122983-2016         0.04       0.00         0.30    -16.07  122983   \n",
       "6     122983-2017        -3.27      -4.10         8.92    -53.33  122983   \n",
       "...           ...          ...        ...          ...       ...     ...   \n",
       "7474  516653-2017         2.93       2.27        -1.82     12.08  516653   \n",
       "7475  516653-2018         7.29       5.21        -0.83    -23.33  516653   \n",
       "7477   59533-2016         2.03       1.82        -1.52      6.71   59533   \n",
       "7478   59533-2017        -1.64      -1.52         1.82    -40.17   59533   \n",
       "7479   59533-2018        -1.17      -1.21         3.03     16.34   59533   \n",
       "\n",
       "        년도  경기지수점수  \n",
       "1     2016    0.20  \n",
       "2     2017    0.20  \n",
       "3     2018    0.30  \n",
       "5     2016    0.20  \n",
       "6     2017    0.40  \n",
       "...    ...     ...  \n",
       "7474  2017    0.20  \n",
       "7475  2018    0.40  \n",
       "7477  2016    0.40  \n",
       "7478  2017    0.40  \n",
       "7479  2018    0.20  \n",
       "\n",
       "[4958 rows x 8 columns]"
      ]
     },
     "execution_count": 979,
     "metadata": {},
     "output_type": "execute_result"
    }
   ],
   "source": [
    "df_growth_cleansed"
   ]
  },
  {
   "cell_type": "code",
   "execution_count": 982,
   "metadata": {
    "hidden": true,
    "scrolled": true
   },
   "outputs": [],
   "source": [
    "df_unicorn_indicator['유니콘지수_직원수&매출액']= df_unicorn_indicator['경기지수점수']*(df_unicorn_indicator['평균성장율_직원수']+df_unicorn_indicator['성장율_연매출액'])\n",
    "df_unicorn_indicator=df_unicorn_indicator.groupby('회사ID').agg({'유니콘지수_직원수&매출액':'mean'})"
   ]
  },
  {
   "cell_type": "code",
   "execution_count": 1053,
   "metadata": {
    "hidden": true,
    "scrolled": true
   },
   "outputs": [
    {
     "data": {
      "text/html": [
       "<div>\n",
       "<style scoped>\n",
       "    .dataframe tbody tr th:only-of-type {\n",
       "        vertical-align: middle;\n",
       "    }\n",
       "\n",
       "    .dataframe tbody tr th {\n",
       "        vertical-align: top;\n",
       "    }\n",
       "\n",
       "    .dataframe thead th {\n",
       "        text-align: right;\n",
       "    }\n",
       "</style>\n",
       "<table border=\"1\" class=\"dataframe\">\n",
       "  <thead>\n",
       "    <tr style=\"text-align: right;\">\n",
       "      <th></th>\n",
       "      <th>count</th>\n",
       "      <th>mean</th>\n",
       "      <th>std</th>\n",
       "      <th>min</th>\n",
       "      <th>25%</th>\n",
       "      <th>50%</th>\n",
       "      <th>75%</th>\n",
       "      <th>max</th>\n",
       "    </tr>\n",
       "  </thead>\n",
       "  <tbody>\n",
       "    <tr>\n",
       "      <th>평균성장율_연금보험료</th>\n",
       "      <td>4958.00</td>\n",
       "      <td>1.03</td>\n",
       "      <td>3.34</td>\n",
       "      <td>-16.10</td>\n",
       "      <td>-0.30</td>\n",
       "      <td>0.61</td>\n",
       "      <td>1.82</td>\n",
       "      <td>58.01</td>\n",
       "    </tr>\n",
       "    <tr>\n",
       "      <th>평균성장율_직원수</th>\n",
       "      <td>4958.00</td>\n",
       "      <td>0.55</td>\n",
       "      <td>3.29</td>\n",
       "      <td>-14.82</td>\n",
       "      <td>-0.73</td>\n",
       "      <td>0.12</td>\n",
       "      <td>1.34</td>\n",
       "      <td>71.94</td>\n",
       "    </tr>\n",
       "    <tr>\n",
       "      <th>평균성장율_인당매출액</th>\n",
       "      <td>4958.00</td>\n",
       "      <td>0.37</td>\n",
       "      <td>3.53</td>\n",
       "      <td>-35.29</td>\n",
       "      <td>-0.82</td>\n",
       "      <td>0.04</td>\n",
       "      <td>1.21</td>\n",
       "      <td>151.43</td>\n",
       "    </tr>\n",
       "    <tr>\n",
       "      <th>성장율_연매출액</th>\n",
       "      <td>4958.00</td>\n",
       "      <td>32.80</td>\n",
       "      <td>477.26</td>\n",
       "      <td>-99.96</td>\n",
       "      <td>-11.52</td>\n",
       "      <td>5.04</td>\n",
       "      <td>26.83</td>\n",
       "      <td>28996.85</td>\n",
       "    </tr>\n",
       "    <tr>\n",
       "      <th>경기지수점수</th>\n",
       "      <td>4956.00</td>\n",
       "      <td>0.26</td>\n",
       "      <td>0.12</td>\n",
       "      <td>0.10</td>\n",
       "      <td>0.20</td>\n",
       "      <td>0.20</td>\n",
       "      <td>0.40</td>\n",
       "      <td>0.40</td>\n",
       "    </tr>\n",
       "  </tbody>\n",
       "</table>\n",
       "</div>"
      ],
      "text/plain": [
       "              count  mean    std    min    25%  50%   75%      max\n",
       "평균성장율_연금보험료 4958.00  1.03   3.34 -16.10  -0.30 0.61  1.82    58.01\n",
       "평균성장율_직원수   4958.00  0.55   3.29 -14.82  -0.73 0.12  1.34    71.94\n",
       "평균성장율_인당매출액 4958.00  0.37   3.53 -35.29  -0.82 0.04  1.21   151.43\n",
       "성장율_연매출액    4958.00 32.80 477.26 -99.96 -11.52 5.04 26.83 28996.85\n",
       "경기지수점수      4956.00  0.26   0.12   0.10   0.20 0.20  0.40     0.40"
      ]
     },
     "execution_count": 1053,
     "metadata": {},
     "output_type": "execute_result"
    }
   ],
   "source": [
    "df_unicorn_indicator.describe().T"
   ]
  },
  {
   "cell_type": "code",
   "execution_count": 1055,
   "metadata": {
    "hidden": true
   },
   "outputs": [
    {
     "data": {
      "text/html": [
       "<div>\n",
       "<style scoped>\n",
       "    .dataframe tbody tr th:only-of-type {\n",
       "        vertical-align: middle;\n",
       "    }\n",
       "\n",
       "    .dataframe tbody tr th {\n",
       "        vertical-align: top;\n",
       "    }\n",
       "\n",
       "    .dataframe thead th {\n",
       "        text-align: right;\n",
       "    }\n",
       "</style>\n",
       "<table border=\"1\" class=\"dataframe\">\n",
       "  <thead>\n",
       "    <tr style=\"text-align: right;\">\n",
       "      <th></th>\n",
       "      <th>key</th>\n",
       "      <th>평균성장율_연금보험료</th>\n",
       "      <th>평균성장율_직원수</th>\n",
       "      <th>평균성장율_인당매출액</th>\n",
       "      <th>성장율_연매출액</th>\n",
       "      <th>회사ID</th>\n",
       "      <th>년도</th>\n",
       "      <th>경기지수점수</th>\n",
       "    </tr>\n",
       "  </thead>\n",
       "  <tbody>\n",
       "    <tr>\n",
       "      <th>1</th>\n",
       "      <td>122968-2016</td>\n",
       "      <td>2.26</td>\n",
       "      <td>1.40</td>\n",
       "      <td>-1.16</td>\n",
       "      <td>-28.21</td>\n",
       "      <td>122968</td>\n",
       "      <td>2016</td>\n",
       "      <td>0.20</td>\n",
       "    </tr>\n",
       "    <tr>\n",
       "      <th>2</th>\n",
       "      <td>122968-2017</td>\n",
       "      <td>0.15</td>\n",
       "      <td>0.44</td>\n",
       "      <td>0.44</td>\n",
       "      <td>22.86</td>\n",
       "      <td>122968</td>\n",
       "      <td>2017</td>\n",
       "      <td>0.20</td>\n",
       "    </tr>\n",
       "    <tr>\n",
       "      <th>3</th>\n",
       "      <td>122968-2018</td>\n",
       "      <td>0.38</td>\n",
       "      <td>0.27</td>\n",
       "      <td>-0.02</td>\n",
       "      <td>-4.50</td>\n",
       "      <td>122968</td>\n",
       "      <td>2018</td>\n",
       "      <td>0.30</td>\n",
       "    </tr>\n",
       "    <tr>\n",
       "      <th>5</th>\n",
       "      <td>122983-2016</td>\n",
       "      <td>0.04</td>\n",
       "      <td>0.00</td>\n",
       "      <td>0.30</td>\n",
       "      <td>-16.07</td>\n",
       "      <td>122983</td>\n",
       "      <td>2016</td>\n",
       "      <td>0.20</td>\n",
       "    </tr>\n",
       "    <tr>\n",
       "      <th>6</th>\n",
       "      <td>122983-2017</td>\n",
       "      <td>-3.27</td>\n",
       "      <td>-4.10</td>\n",
       "      <td>8.92</td>\n",
       "      <td>-53.33</td>\n",
       "      <td>122983</td>\n",
       "      <td>2017</td>\n",
       "      <td>0.40</td>\n",
       "    </tr>\n",
       "    <tr>\n",
       "      <th>...</th>\n",
       "      <td>...</td>\n",
       "      <td>...</td>\n",
       "      <td>...</td>\n",
       "      <td>...</td>\n",
       "      <td>...</td>\n",
       "      <td>...</td>\n",
       "      <td>...</td>\n",
       "      <td>...</td>\n",
       "    </tr>\n",
       "    <tr>\n",
       "      <th>7474</th>\n",
       "      <td>516653-2017</td>\n",
       "      <td>2.93</td>\n",
       "      <td>2.27</td>\n",
       "      <td>-1.82</td>\n",
       "      <td>12.08</td>\n",
       "      <td>516653</td>\n",
       "      <td>2017</td>\n",
       "      <td>0.20</td>\n",
       "    </tr>\n",
       "    <tr>\n",
       "      <th>7475</th>\n",
       "      <td>516653-2018</td>\n",
       "      <td>7.29</td>\n",
       "      <td>5.21</td>\n",
       "      <td>-0.83</td>\n",
       "      <td>-23.33</td>\n",
       "      <td>516653</td>\n",
       "      <td>2018</td>\n",
       "      <td>0.40</td>\n",
       "    </tr>\n",
       "    <tr>\n",
       "      <th>7477</th>\n",
       "      <td>59533-2016</td>\n",
       "      <td>2.03</td>\n",
       "      <td>1.82</td>\n",
       "      <td>-1.52</td>\n",
       "      <td>6.71</td>\n",
       "      <td>59533</td>\n",
       "      <td>2016</td>\n",
       "      <td>0.40</td>\n",
       "    </tr>\n",
       "    <tr>\n",
       "      <th>7478</th>\n",
       "      <td>59533-2017</td>\n",
       "      <td>-1.64</td>\n",
       "      <td>-1.52</td>\n",
       "      <td>1.82</td>\n",
       "      <td>-40.17</td>\n",
       "      <td>59533</td>\n",
       "      <td>2017</td>\n",
       "      <td>0.40</td>\n",
       "    </tr>\n",
       "    <tr>\n",
       "      <th>7479</th>\n",
       "      <td>59533-2018</td>\n",
       "      <td>-1.17</td>\n",
       "      <td>-1.21</td>\n",
       "      <td>3.03</td>\n",
       "      <td>16.34</td>\n",
       "      <td>59533</td>\n",
       "      <td>2018</td>\n",
       "      <td>0.20</td>\n",
       "    </tr>\n",
       "  </tbody>\n",
       "</table>\n",
       "<p>4958 rows × 8 columns</p>\n",
       "</div>"
      ],
      "text/plain": [
       "              key  평균성장율_연금보험료  평균성장율_직원수  평균성장율_인당매출액  성장율_연매출액    회사ID  \\\n",
       "1     122968-2016         2.26       1.40        -1.16    -28.21  122968   \n",
       "2     122968-2017         0.15       0.44         0.44     22.86  122968   \n",
       "3     122968-2018         0.38       0.27        -0.02     -4.50  122968   \n",
       "5     122983-2016         0.04       0.00         0.30    -16.07  122983   \n",
       "6     122983-2017        -3.27      -4.10         8.92    -53.33  122983   \n",
       "...           ...          ...        ...          ...       ...     ...   \n",
       "7474  516653-2017         2.93       2.27        -1.82     12.08  516653   \n",
       "7475  516653-2018         7.29       5.21        -0.83    -23.33  516653   \n",
       "7477   59533-2016         2.03       1.82        -1.52      6.71   59533   \n",
       "7478   59533-2017        -1.64      -1.52         1.82    -40.17   59533   \n",
       "7479   59533-2018        -1.17      -1.21         3.03     16.34   59533   \n",
       "\n",
       "        년도  경기지수점수  \n",
       "1     2016    0.20  \n",
       "2     2017    0.20  \n",
       "3     2018    0.30  \n",
       "5     2016    0.20  \n",
       "6     2017    0.40  \n",
       "...    ...     ...  \n",
       "7474  2017    0.20  \n",
       "7475  2018    0.40  \n",
       "7477  2016    0.40  \n",
       "7478  2017    0.40  \n",
       "7479  2018    0.20  \n",
       "\n",
       "[4958 rows x 8 columns]"
      ]
     },
     "execution_count": 1055,
     "metadata": {},
     "output_type": "execute_result"
    }
   ],
   "source": [
    "df_unicorn_indicator"
   ]
  },
  {
   "cell_type": "code",
   "execution_count": 959,
   "metadata": {
    "hidden": true,
    "scrolled": true
   },
   "outputs": [
    {
     "data": {
      "text/html": [
       "<div>\n",
       "<style scoped>\n",
       "    .dataframe tbody tr th:only-of-type {\n",
       "        vertical-align: middle;\n",
       "    }\n",
       "\n",
       "    .dataframe tbody tr th {\n",
       "        vertical-align: top;\n",
       "    }\n",
       "\n",
       "    .dataframe thead th {\n",
       "        text-align: right;\n",
       "    }\n",
       "</style>\n",
       "<table border=\"1\" class=\"dataframe\">\n",
       "  <thead>\n",
       "    <tr style=\"text-align: right;\">\n",
       "      <th></th>\n",
       "      <th>유니콘지수_직원수&amp;매출액</th>\n",
       "    </tr>\n",
       "    <tr>\n",
       "      <th>회사ID</th>\n",
       "      <th></th>\n",
       "    </tr>\n",
       "  </thead>\n",
       "  <tbody>\n",
       "    <tr>\n",
       "      <th>268810</th>\n",
       "      <td>2930.86</td>\n",
       "    </tr>\n",
       "    <tr>\n",
       "      <th>242254</th>\n",
       "      <td>2446.62</td>\n",
       "    </tr>\n",
       "    <tr>\n",
       "      <th>417469</th>\n",
       "      <td>1906.98</td>\n",
       "    </tr>\n",
       "    <tr>\n",
       "      <th>184149</th>\n",
       "      <td>1396.67</td>\n",
       "    </tr>\n",
       "    <tr>\n",
       "      <th>433756</th>\n",
       "      <td>911.25</td>\n",
       "    </tr>\n",
       "  </tbody>\n",
       "</table>\n",
       "</div>"
      ],
      "text/plain": [
       "        유니콘지수_직원수&매출액\n",
       "회사ID                 \n",
       "268810        2930.86\n",
       "242254        2446.62\n",
       "417469        1906.98\n",
       "184149        1396.67\n",
       "433756         911.25"
      ]
     },
     "execution_count": 959,
     "metadata": {},
     "output_type": "execute_result"
    }
   ],
   "source": [
    "df_unicorn_indicator.filter(regex='유니콘').sort_values('유니콘지수_직원수&매출액', ascending=False).head(5)"
   ]
  },
  {
   "cell_type": "code",
   "execution_count": 1054,
   "metadata": {
    "hidden": true
   },
   "outputs": [
    {
     "data": {
      "text/html": [
       "<div>\n",
       "<style scoped>\n",
       "    .dataframe tbody tr th:only-of-type {\n",
       "        vertical-align: middle;\n",
       "    }\n",
       "\n",
       "    .dataframe tbody tr th {\n",
       "        vertical-align: top;\n",
       "    }\n",
       "\n",
       "    .dataframe thead th {\n",
       "        text-align: right;\n",
       "    }\n",
       "</style>\n",
       "<table border=\"1\" class=\"dataframe\">\n",
       "  <thead>\n",
       "    <tr style=\"text-align: right;\">\n",
       "      <th></th>\n",
       "      <th>key</th>\n",
       "      <th>평균성장율_연금보험료</th>\n",
       "      <th>평균성장율_직원수</th>\n",
       "      <th>평균성장율_인당매출액</th>\n",
       "      <th>성장율_연매출액</th>\n",
       "      <th>회사ID</th>\n",
       "      <th>년도</th>\n",
       "      <th>경기지수점수</th>\n",
       "    </tr>\n",
       "  </thead>\n",
       "  <tbody>\n",
       "  </tbody>\n",
       "</table>\n",
       "</div>"
      ],
      "text/plain": [
       "Empty DataFrame\n",
       "Columns: [key, 평균성장율_연금보험료, 평균성장율_직원수, 평균성장율_인당매출액, 성장율_연매출액, 회사ID, 년도, 경기지수점수]\n",
       "Index: []"
      ]
     },
     "execution_count": 1054,
     "metadata": {},
     "output_type": "execute_result"
    }
   ],
   "source": [
    "df_unicorn_indicator.query('회사ID==294337')"
   ]
  },
  {
   "cell_type": "code",
   "execution_count": 972,
   "metadata": {
    "hidden": true
   },
   "outputs": [],
   "source": [
    "# 유니콘 기업 5개 리스트\n",
    "unicorn_test_list = df_unicorn_indicator.filter(regex='유니콘').sort_values('유니콘지수_직원수&매출액', ascending=False).head(5).index\n",
    "# int 변환\n",
    "unicorn_test_list = list(map(int,unicorn_test_list)) "
   ]
  },
  {
   "cell_type": "code",
   "execution_count": 977,
   "metadata": {
    "hidden": true
   },
   "outputs": [],
   "source": [
    "df_unicorn_indicator_test = pd.DataFrame()\n",
    "for uni in unicorn_test_list :\n",
    "    df_unicorn_indicator_test=df_unicorn_indicator_test.append(df[df['회사ID']==uni].sort_values(['년도','월']))"
   ]
  },
  {
   "cell_type": "code",
   "execution_count": 980,
   "metadata": {
    "hidden": true,
    "scrolled": true
   },
   "outputs": [
    {
     "data": {
      "text/html": [
       "<div>\n",
       "<style scoped>\n",
       "    .dataframe tbody tr th:only-of-type {\n",
       "        vertical-align: middle;\n",
       "    }\n",
       "\n",
       "    .dataframe tbody tr th {\n",
       "        vertical-align: top;\n",
       "    }\n",
       "\n",
       "    .dataframe thead th {\n",
       "        text-align: right;\n",
       "    }\n",
       "</style>\n",
       "<table border=\"1\" class=\"dataframe\">\n",
       "  <thead>\n",
       "    <tr style=\"text-align: right;\">\n",
       "      <th></th>\n",
       "      <th>회사ID</th>\n",
       "      <th>연매출액</th>\n",
       "      <th>년도</th>\n",
       "      <th>월</th>\n",
       "      <th>월별_연금보험료</th>\n",
       "      <th>월별_직원수</th>\n",
       "      <th>인당_매출액</th>\n",
       "    </tr>\n",
       "  </thead>\n",
       "  <tbody>\n",
       "    <tr>\n",
       "      <th>62429</th>\n",
       "      <td>417469</td>\n",
       "      <td>22982</td>\n",
       "      <td>2016</td>\n",
       "      <td>1</td>\n",
       "      <td>655200</td>\n",
       "      <td>4</td>\n",
       "      <td>5745.50</td>\n",
       "    </tr>\n",
       "    <tr>\n",
       "      <th>65874</th>\n",
       "      <td>417469</td>\n",
       "      <td>22982</td>\n",
       "      <td>2016</td>\n",
       "      <td>2</td>\n",
       "      <td>835200</td>\n",
       "      <td>5</td>\n",
       "      <td>4596.40</td>\n",
       "    </tr>\n",
       "    <tr>\n",
       "      <th>57761</th>\n",
       "      <td>417469</td>\n",
       "      <td>22982</td>\n",
       "      <td>2016</td>\n",
       "      <td>3</td>\n",
       "      <td>835200</td>\n",
       "      <td>5</td>\n",
       "      <td>4596.40</td>\n",
       "    </tr>\n",
       "    <tr>\n",
       "      <th>55279</th>\n",
       "      <td>417469</td>\n",
       "      <td>22982</td>\n",
       "      <td>2016</td>\n",
       "      <td>4</td>\n",
       "      <td>835200</td>\n",
       "      <td>5</td>\n",
       "      <td>4596.40</td>\n",
       "    </tr>\n",
       "    <tr>\n",
       "      <th>22384</th>\n",
       "      <td>417469</td>\n",
       "      <td>22982</td>\n",
       "      <td>2016</td>\n",
       "      <td>5</td>\n",
       "      <td>1015200</td>\n",
       "      <td>5</td>\n",
       "      <td>4596.40</td>\n",
       "    </tr>\n",
       "    <tr>\n",
       "      <th>71105</th>\n",
       "      <td>417469</td>\n",
       "      <td>22982</td>\n",
       "      <td>2016</td>\n",
       "      <td>6</td>\n",
       "      <td>1015200</td>\n",
       "      <td>5</td>\n",
       "      <td>4596.40</td>\n",
       "    </tr>\n",
       "    <tr>\n",
       "      <th>59851</th>\n",
       "      <td>417469</td>\n",
       "      <td>22982</td>\n",
       "      <td>2016</td>\n",
       "      <td>7</td>\n",
       "      <td>1005820</td>\n",
       "      <td>5</td>\n",
       "      <td>4596.40</td>\n",
       "    </tr>\n",
       "    <tr>\n",
       "      <th>49373</th>\n",
       "      <td>417469</td>\n",
       "      <td>22982</td>\n",
       "      <td>2016</td>\n",
       "      <td>8</td>\n",
       "      <td>1005820</td>\n",
       "      <td>5</td>\n",
       "      <td>4596.40</td>\n",
       "    </tr>\n",
       "    <tr>\n",
       "      <th>29203</th>\n",
       "      <td>417469</td>\n",
       "      <td>22982</td>\n",
       "      <td>2016</td>\n",
       "      <td>9</td>\n",
       "      <td>1005820</td>\n",
       "      <td>5</td>\n",
       "      <td>4596.40</td>\n",
       "    </tr>\n",
       "    <tr>\n",
       "      <th>99315</th>\n",
       "      <td>417469</td>\n",
       "      <td>22982</td>\n",
       "      <td>2016</td>\n",
       "      <td>10</td>\n",
       "      <td>1005820</td>\n",
       "      <td>5</td>\n",
       "      <td>4596.40</td>\n",
       "    </tr>\n",
       "    <tr>\n",
       "      <th>78835</th>\n",
       "      <td>417469</td>\n",
       "      <td>22982</td>\n",
       "      <td>2016</td>\n",
       "      <td>11</td>\n",
       "      <td>1005820</td>\n",
       "      <td>5</td>\n",
       "      <td>4596.40</td>\n",
       "    </tr>\n",
       "    <tr>\n",
       "      <th>66344</th>\n",
       "      <td>417469</td>\n",
       "      <td>22982</td>\n",
       "      <td>2016</td>\n",
       "      <td>12</td>\n",
       "      <td>1005820</td>\n",
       "      <td>5</td>\n",
       "      <td>4596.40</td>\n",
       "    </tr>\n",
       "    <tr>\n",
       "      <th>75588</th>\n",
       "      <td>417469</td>\n",
       "      <td>1115794</td>\n",
       "      <td>2018</td>\n",
       "      <td>1</td>\n",
       "      <td>519300</td>\n",
       "      <td>3</td>\n",
       "      <td>371931.33</td>\n",
       "    </tr>\n",
       "    <tr>\n",
       "      <th>20302</th>\n",
       "      <td>417469</td>\n",
       "      <td>1115794</td>\n",
       "      <td>2018</td>\n",
       "      <td>2</td>\n",
       "      <td>519300</td>\n",
       "      <td>3</td>\n",
       "      <td>371931.33</td>\n",
       "    </tr>\n",
       "    <tr>\n",
       "      <th>52635</th>\n",
       "      <td>417469</td>\n",
       "      <td>1115794</td>\n",
       "      <td>2018</td>\n",
       "      <td>3</td>\n",
       "      <td>519300</td>\n",
       "      <td>3</td>\n",
       "      <td>371931.33</td>\n",
       "    </tr>\n",
       "    <tr>\n",
       "      <th>33547</th>\n",
       "      <td>417469</td>\n",
       "      <td>1115794</td>\n",
       "      <td>2018</td>\n",
       "      <td>8</td>\n",
       "      <td>1537540</td>\n",
       "      <td>5</td>\n",
       "      <td>223158.80</td>\n",
       "    </tr>\n",
       "    <tr>\n",
       "      <th>13650</th>\n",
       "      <td>417469</td>\n",
       "      <td>1115794</td>\n",
       "      <td>2018</td>\n",
       "      <td>9</td>\n",
       "      <td>1537540</td>\n",
       "      <td>5</td>\n",
       "      <td>223158.80</td>\n",
       "    </tr>\n",
       "    <tr>\n",
       "      <th>21400</th>\n",
       "      <td>417469</td>\n",
       "      <td>1115794</td>\n",
       "      <td>2018</td>\n",
       "      <td>10</td>\n",
       "      <td>1537540</td>\n",
       "      <td>5</td>\n",
       "      <td>223158.80</td>\n",
       "    </tr>\n",
       "    <tr>\n",
       "      <th>23758</th>\n",
       "      <td>417469</td>\n",
       "      <td>1115794</td>\n",
       "      <td>2018</td>\n",
       "      <td>11</td>\n",
       "      <td>1897540</td>\n",
       "      <td>6</td>\n",
       "      <td>185965.67</td>\n",
       "    </tr>\n",
       "    <tr>\n",
       "      <th>19625</th>\n",
       "      <td>417469</td>\n",
       "      <td>1115794</td>\n",
       "      <td>2018</td>\n",
       "      <td>12</td>\n",
       "      <td>1897540</td>\n",
       "      <td>6</td>\n",
       "      <td>185965.67</td>\n",
       "    </tr>\n",
       "  </tbody>\n",
       "</table>\n",
       "</div>"
      ],
      "text/plain": [
       "         회사ID     연매출액    년도   월  월별_연금보험료  월별_직원수    인당_매출액\n",
       "62429  417469    22982  2016   1    655200       4   5745.50\n",
       "65874  417469    22982  2016   2    835200       5   4596.40\n",
       "57761  417469    22982  2016   3    835200       5   4596.40\n",
       "55279  417469    22982  2016   4    835200       5   4596.40\n",
       "22384  417469    22982  2016   5   1015200       5   4596.40\n",
       "71105  417469    22982  2016   6   1015200       5   4596.40\n",
       "59851  417469    22982  2016   7   1005820       5   4596.40\n",
       "49373  417469    22982  2016   8   1005820       5   4596.40\n",
       "29203  417469    22982  2016   9   1005820       5   4596.40\n",
       "99315  417469    22982  2016  10   1005820       5   4596.40\n",
       "78835  417469    22982  2016  11   1005820       5   4596.40\n",
       "66344  417469    22982  2016  12   1005820       5   4596.40\n",
       "75588  417469  1115794  2018   1    519300       3 371931.33\n",
       "20302  417469  1115794  2018   2    519300       3 371931.33\n",
       "52635  417469  1115794  2018   3    519300       3 371931.33\n",
       "33547  417469  1115794  2018   8   1537540       5 223158.80\n",
       "13650  417469  1115794  2018   9   1537540       5 223158.80\n",
       "21400  417469  1115794  2018  10   1537540       5 223158.80\n",
       "23758  417469  1115794  2018  11   1897540       6 185965.67\n",
       "19625  417469  1115794  2018  12   1897540       6 185965.67"
      ]
     },
     "execution_count": 980,
     "metadata": {},
     "output_type": "execute_result"
    }
   ],
   "source": [
    "df_unicorn_indicator_test.query('회사ID==417469')"
   ]
  },
  {
   "cell_type": "markdown",
   "metadata": {
    "hidden": true
   },
   "source": [
    "df_unicorn_indicator['유니콘지수_직원수&매출액']= df_unicorn_indicator['경기지수점수']*(df_unicorn_indicator['평균성장율_직원수']+df_unicorn_indicator['성장율_연매출액'])\n",
    "\n",
    "- 매출액 성장율이 상대적으로 직원수 성장율보다 높은 값을 가지기 때문에 (액수큼) 매출액 성장율에 의존도 높음\n",
    "- 표준화 필요?"
   ]
  },
  {
   "cell_type": "markdown",
   "metadata": {},
   "source": [
    "### 표준화 O : df_unicorn_indicator_s\n",
    "- standardized"
   ]
  },
  {
   "cell_type": "code",
   "execution_count": 986,
   "metadata": {},
   "outputs": [],
   "source": [
    "from sklearn.preprocessing import StandardScaler"
   ]
  },
  {
   "cell_type": "code",
   "execution_count": 1023,
   "metadata": {},
   "outputs": [],
   "source": [
    "df_unicorn_indicator_s = df_growth_cleansed.copy()"
   ]
  },
  {
   "cell_type": "code",
   "execution_count": 1024,
   "metadata": {
    "scrolled": true
   },
   "outputs": [
    {
     "data": {
      "text/html": [
       "<div>\n",
       "<style scoped>\n",
       "    .dataframe tbody tr th:only-of-type {\n",
       "        vertical-align: middle;\n",
       "    }\n",
       "\n",
       "    .dataframe tbody tr th {\n",
       "        vertical-align: top;\n",
       "    }\n",
       "\n",
       "    .dataframe thead th {\n",
       "        text-align: right;\n",
       "    }\n",
       "</style>\n",
       "<table border=\"1\" class=\"dataframe\">\n",
       "  <thead>\n",
       "    <tr style=\"text-align: right;\">\n",
       "      <th></th>\n",
       "      <th>key</th>\n",
       "      <th>평균성장율_연금보험료</th>\n",
       "      <th>평균성장율_직원수</th>\n",
       "      <th>평균성장율_인당매출액</th>\n",
       "      <th>성장율_연매출액</th>\n",
       "      <th>회사ID</th>\n",
       "      <th>년도</th>\n",
       "      <th>경기지수점수</th>\n",
       "    </tr>\n",
       "  </thead>\n",
       "  <tbody>\n",
       "    <tr>\n",
       "      <th>1</th>\n",
       "      <td>122968-2016</td>\n",
       "      <td>0.37</td>\n",
       "      <td>0.26</td>\n",
       "      <td>-0.43</td>\n",
       "      <td>-0.13</td>\n",
       "      <td>122968</td>\n",
       "      <td>2016</td>\n",
       "      <td>0.20</td>\n",
       "    </tr>\n",
       "  </tbody>\n",
       "</table>\n",
       "</div>"
      ],
      "text/plain": [
       "           key  평균성장율_연금보험료  평균성장율_직원수  평균성장율_인당매출액  성장율_연매출액    회사ID    년도  \\\n",
       "1  122968-2016         0.37       0.26        -0.43     -0.13  122968  2016   \n",
       "\n",
       "   경기지수점수  \n",
       "1    0.20  "
      ]
     },
     "execution_count": 1024,
     "metadata": {},
     "output_type": "execute_result"
    }
   ],
   "source": [
    "df_unicorn_indicator_s.iloc[:,1:5]=StandardScaler().fit_transform(df_unicorn_indicator_s.iloc[:,1:5])\n",
    "df_unicorn_indicator_s.head(1)"
   ]
  },
  {
   "cell_type": "code",
   "execution_count": 1025,
   "metadata": {},
   "outputs": [
    {
     "data": {
      "text/html": [
       "<div>\n",
       "<style scoped>\n",
       "    .dataframe tbody tr th:only-of-type {\n",
       "        vertical-align: middle;\n",
       "    }\n",
       "\n",
       "    .dataframe tbody tr th {\n",
       "        vertical-align: top;\n",
       "    }\n",
       "\n",
       "    .dataframe thead th {\n",
       "        text-align: right;\n",
       "    }\n",
       "</style>\n",
       "<table border=\"1\" class=\"dataframe\">\n",
       "  <thead>\n",
       "    <tr style=\"text-align: right;\">\n",
       "      <th></th>\n",
       "      <th>count</th>\n",
       "      <th>mean</th>\n",
       "      <th>std</th>\n",
       "      <th>min</th>\n",
       "      <th>25%</th>\n",
       "      <th>50%</th>\n",
       "      <th>75%</th>\n",
       "      <th>max</th>\n",
       "    </tr>\n",
       "  </thead>\n",
       "  <tbody>\n",
       "    <tr>\n",
       "      <th>유니콘지수_직원수&amp;매출액</th>\n",
       "      <td>2519.00</td>\n",
       "      <td>0.01</td>\n",
       "      <td>0.34</td>\n",
       "      <td>-1.73</td>\n",
       "      <td>-0.09</td>\n",
       "      <td>-0.03</td>\n",
       "      <td>0.05</td>\n",
       "      <td>8.69</td>\n",
       "    </tr>\n",
       "  </tbody>\n",
       "</table>\n",
       "</div>"
      ],
      "text/plain": [
       "                count  mean  std   min   25%   50%  75%  max\n",
       "유니콘지수_직원수&매출액 2519.00  0.01 0.34 -1.73 -0.09 -0.03 0.05 8.69"
      ]
     },
     "execution_count": 1025,
     "metadata": {},
     "output_type": "execute_result"
    }
   ],
   "source": [
    "df_unicorn_indicator_s['유니콘지수_직원수&매출액']= df_unicorn_indicator_s['경기지수점수']*(df_unicorn_indicator_s['평균성장율_직원수']+df_unicorn_indicator_s['성장율_연매출액'])\n",
    "df_unicorn_indicator_s=df_unicorn_indicator_s.groupby('회사ID').agg({'유니콘지수_직원수&매출액':'mean'})\n",
    "df_unicorn_indicator_s.filter(regex='유니콘').describe().T"
   ]
  },
  {
   "cell_type": "code",
   "execution_count": 1026,
   "metadata": {
    "scrolled": true
   },
   "outputs": [
    {
     "data": {
      "text/html": [
       "<div>\n",
       "<style scoped>\n",
       "    .dataframe tbody tr th:only-of-type {\n",
       "        vertical-align: middle;\n",
       "    }\n",
       "\n",
       "    .dataframe tbody tr th {\n",
       "        vertical-align: top;\n",
       "    }\n",
       "\n",
       "    .dataframe thead th {\n",
       "        text-align: right;\n",
       "    }\n",
       "</style>\n",
       "<table border=\"1\" class=\"dataframe\">\n",
       "  <thead>\n",
       "    <tr style=\"text-align: right;\">\n",
       "      <th></th>\n",
       "      <th>유니콘지수_직원수&amp;매출액</th>\n",
       "    </tr>\n",
       "    <tr>\n",
       "      <th>회사ID</th>\n",
       "      <th></th>\n",
       "    </tr>\n",
       "  </thead>\n",
       "  <tbody>\n",
       "    <tr>\n",
       "      <th>380843</th>\n",
       "      <td>8.69</td>\n",
       "    </tr>\n",
       "    <tr>\n",
       "      <th>268810</th>\n",
       "      <td>6.33</td>\n",
       "    </tr>\n",
       "    <tr>\n",
       "      <th>417469</th>\n",
       "      <td>5.40</td>\n",
       "    </tr>\n",
       "    <tr>\n",
       "      <th>242254</th>\n",
       "      <td>4.46</td>\n",
       "    </tr>\n",
       "    <tr>\n",
       "      <th>184149</th>\n",
       "      <td>2.74</td>\n",
       "    </tr>\n",
       "  </tbody>\n",
       "</table>\n",
       "</div>"
      ],
      "text/plain": [
       "        유니콘지수_직원수&매출액\n",
       "회사ID                 \n",
       "380843           8.69\n",
       "268810           6.33\n",
       "417469           5.40\n",
       "242254           4.46\n",
       "184149           2.74"
      ]
     },
     "execution_count": 1026,
     "metadata": {},
     "output_type": "execute_result"
    }
   ],
   "source": [
    "df_unicorn_indicator_s.filter(regex='유니콘').sort_values('유니콘지수_직원수&매출액', ascending=False).head(5)"
   ]
  },
  {
   "cell_type": "code",
   "execution_count": 1047,
   "metadata": {},
   "outputs": [
    {
     "data": {
      "text/html": [
       "<div>\n",
       "<style scoped>\n",
       "    .dataframe tbody tr th:only-of-type {\n",
       "        vertical-align: middle;\n",
       "    }\n",
       "\n",
       "    .dataframe tbody tr th {\n",
       "        vertical-align: top;\n",
       "    }\n",
       "\n",
       "    .dataframe thead th {\n",
       "        text-align: right;\n",
       "    }\n",
       "</style>\n",
       "<table border=\"1\" class=\"dataframe\">\n",
       "  <thead>\n",
       "    <tr style=\"text-align: right;\">\n",
       "      <th></th>\n",
       "      <th>회사ID</th>\n",
       "      <th>연매출액</th>\n",
       "      <th>년도</th>\n",
       "      <th>월</th>\n",
       "      <th>월별_연금보험료</th>\n",
       "      <th>월별_직원수</th>\n",
       "      <th>인당_매출액</th>\n",
       "    </tr>\n",
       "  </thead>\n",
       "  <tbody>\n",
       "    <tr>\n",
       "      <th>1439</th>\n",
       "      <td>294337</td>\n",
       "      <td>287134819</td>\n",
       "      <td>2018</td>\n",
       "      <td>5</td>\n",
       "      <td>410699340</td>\n",
       "      <td>2021</td>\n",
       "      <td>142075.62</td>\n",
       "    </tr>\n",
       "    <tr>\n",
       "      <th>2823</th>\n",
       "      <td>294337</td>\n",
       "      <td>146274359</td>\n",
       "      <td>2016</td>\n",
       "      <td>11</td>\n",
       "      <td>306936920</td>\n",
       "      <td>1540</td>\n",
       "      <td>94983.35</td>\n",
       "    </tr>\n",
       "    <tr>\n",
       "      <th>5845</th>\n",
       "      <td>294337</td>\n",
       "      <td>287134819</td>\n",
       "      <td>2018</td>\n",
       "      <td>2</td>\n",
       "      <td>402210900</td>\n",
       "      <td>1981</td>\n",
       "      <td>144944.38</td>\n",
       "    </tr>\n",
       "    <tr>\n",
       "      <th>8963</th>\n",
       "      <td>294337</td>\n",
       "      <td>146274359</td>\n",
       "      <td>2016</td>\n",
       "      <td>8</td>\n",
       "      <td>311090300</td>\n",
       "      <td>1531</td>\n",
       "      <td>95541.71</td>\n",
       "    </tr>\n",
       "    <tr>\n",
       "      <th>9602</th>\n",
       "      <td>294337</td>\n",
       "      <td>146274359</td>\n",
       "      <td>2016</td>\n",
       "      <td>4</td>\n",
       "      <td>280566260</td>\n",
       "      <td>1378</td>\n",
       "      <td>106149.75</td>\n",
       "    </tr>\n",
       "    <tr>\n",
       "      <th>10957</th>\n",
       "      <td>294337</td>\n",
       "      <td>192586665</td>\n",
       "      <td>2017</td>\n",
       "      <td>2</td>\n",
       "      <td>336133420</td>\n",
       "      <td>1698</td>\n",
       "      <td>113419.71</td>\n",
       "    </tr>\n",
       "    <tr>\n",
       "      <th>13060</th>\n",
       "      <td>294337</td>\n",
       "      <td>102579741</td>\n",
       "      <td>2015</td>\n",
       "      <td>12</td>\n",
       "      <td>265217820</td>\n",
       "      <td>1318</td>\n",
       "      <td>77829.85</td>\n",
       "    </tr>\n",
       "    <tr>\n",
       "      <th>14126</th>\n",
       "      <td>294337</td>\n",
       "      <td>146274359</td>\n",
       "      <td>2016</td>\n",
       "      <td>3</td>\n",
       "      <td>276378820</td>\n",
       "      <td>1350</td>\n",
       "      <td>108351.38</td>\n",
       "    </tr>\n",
       "    <tr>\n",
       "      <th>18211</th>\n",
       "      <td>294337</td>\n",
       "      <td>287134819</td>\n",
       "      <td>2018</td>\n",
       "      <td>10</td>\n",
       "      <td>482986020</td>\n",
       "      <td>2210</td>\n",
       "      <td>129925.26</td>\n",
       "    </tr>\n",
       "    <tr>\n",
       "      <th>20117</th>\n",
       "      <td>294337</td>\n",
       "      <td>146274359</td>\n",
       "      <td>2016</td>\n",
       "      <td>7</td>\n",
       "      <td>300951260</td>\n",
       "      <td>1454</td>\n",
       "      <td>100601.35</td>\n",
       "    </tr>\n",
       "    <tr>\n",
       "      <th>23226</th>\n",
       "      <td>294337</td>\n",
       "      <td>287134819</td>\n",
       "      <td>2018</td>\n",
       "      <td>6</td>\n",
       "      <td>412602760</td>\n",
       "      <td>2034</td>\n",
       "      <td>141167.56</td>\n",
       "    </tr>\n",
       "    <tr>\n",
       "      <th>24292</th>\n",
       "      <td>294337</td>\n",
       "      <td>192586665</td>\n",
       "      <td>2017</td>\n",
       "      <td>6</td>\n",
       "      <td>342509660</td>\n",
       "      <td>1705</td>\n",
       "      <td>112954.06</td>\n",
       "    </tr>\n",
       "    <tr>\n",
       "      <th>25125</th>\n",
       "      <td>294337</td>\n",
       "      <td>287134819</td>\n",
       "      <td>2018</td>\n",
       "      <td>11</td>\n",
       "      <td>489063340</td>\n",
       "      <td>2242</td>\n",
       "      <td>128070.84</td>\n",
       "    </tr>\n",
       "    <tr>\n",
       "      <th>26662</th>\n",
       "      <td>294337</td>\n",
       "      <td>287134819</td>\n",
       "      <td>2018</td>\n",
       "      <td>4</td>\n",
       "      <td>404927280</td>\n",
       "      <td>1982</td>\n",
       "      <td>144871.25</td>\n",
       "    </tr>\n",
       "    <tr>\n",
       "      <th>35385</th>\n",
       "      <td>294337</td>\n",
       "      <td>146274359</td>\n",
       "      <td>2016</td>\n",
       "      <td>10</td>\n",
       "      <td>309386040</td>\n",
       "      <td>1531</td>\n",
       "      <td>95541.71</td>\n",
       "    </tr>\n",
       "    <tr>\n",
       "      <th>38891</th>\n",
       "      <td>294337</td>\n",
       "      <td>146274359</td>\n",
       "      <td>2016</td>\n",
       "      <td>5</td>\n",
       "      <td>287584120</td>\n",
       "      <td>1422</td>\n",
       "      <td>102865.23</td>\n",
       "    </tr>\n",
       "    <tr>\n",
       "      <th>39584</th>\n",
       "      <td>294337</td>\n",
       "      <td>287134819</td>\n",
       "      <td>2018</td>\n",
       "      <td>3</td>\n",
       "      <td>402541000</td>\n",
       "      <td>1967</td>\n",
       "      <td>145976.01</td>\n",
       "    </tr>\n",
       "    <tr>\n",
       "      <th>40048</th>\n",
       "      <td>294337</td>\n",
       "      <td>287134819</td>\n",
       "      <td>2018</td>\n",
       "      <td>7</td>\n",
       "      <td>455803820</td>\n",
       "      <td>2095</td>\n",
       "      <td>137057.19</td>\n",
       "    </tr>\n",
       "    <tr>\n",
       "      <th>40298</th>\n",
       "      <td>294337</td>\n",
       "      <td>192586665</td>\n",
       "      <td>2017</td>\n",
       "      <td>10</td>\n",
       "      <td>371912040</td>\n",
       "      <td>1813</td>\n",
       "      <td>106225.41</td>\n",
       "    </tr>\n",
       "    <tr>\n",
       "      <th>44990</th>\n",
       "      <td>294337</td>\n",
       "      <td>192586665</td>\n",
       "      <td>2017</td>\n",
       "      <td>5</td>\n",
       "      <td>344242000</td>\n",
       "      <td>1714</td>\n",
       "      <td>112360.95</td>\n",
       "    </tr>\n",
       "    <tr>\n",
       "      <th>45342</th>\n",
       "      <td>294337</td>\n",
       "      <td>146274359</td>\n",
       "      <td>2016</td>\n",
       "      <td>6</td>\n",
       "      <td>291722360</td>\n",
       "      <td>1450</td>\n",
       "      <td>100878.87</td>\n",
       "    </tr>\n",
       "    <tr>\n",
       "      <th>45350</th>\n",
       "      <td>294337</td>\n",
       "      <td>192586665</td>\n",
       "      <td>2017</td>\n",
       "      <td>9</td>\n",
       "      <td>364581340</td>\n",
       "      <td>1765</td>\n",
       "      <td>109114.26</td>\n",
       "    </tr>\n",
       "    <tr>\n",
       "      <th>48170</th>\n",
       "      <td>294337</td>\n",
       "      <td>287134819</td>\n",
       "      <td>2018</td>\n",
       "      <td>8</td>\n",
       "      <td>462024240</td>\n",
       "      <td>2116</td>\n",
       "      <td>135696.98</td>\n",
       "    </tr>\n",
       "    <tr>\n",
       "      <th>53803</th>\n",
       "      <td>294337</td>\n",
       "      <td>192586665</td>\n",
       "      <td>2017</td>\n",
       "      <td>12</td>\n",
       "      <td>384556580</td>\n",
       "      <td>1887</td>\n",
       "      <td>102059.71</td>\n",
       "    </tr>\n",
       "    <tr>\n",
       "      <th>55592</th>\n",
       "      <td>294337</td>\n",
       "      <td>192586665</td>\n",
       "      <td>2017</td>\n",
       "      <td>7</td>\n",
       "      <td>359172440</td>\n",
       "      <td>1736</td>\n",
       "      <td>110937.02</td>\n",
       "    </tr>\n",
       "    <tr>\n",
       "      <th>55734</th>\n",
       "      <td>294337</td>\n",
       "      <td>146274359</td>\n",
       "      <td>2016</td>\n",
       "      <td>12</td>\n",
       "      <td>311895520</td>\n",
       "      <td>1572</td>\n",
       "      <td>93049.85</td>\n",
       "    </tr>\n",
       "    <tr>\n",
       "      <th>56074</th>\n",
       "      <td>294337</td>\n",
       "      <td>287134819</td>\n",
       "      <td>2018</td>\n",
       "      <td>1</td>\n",
       "      <td>389908020</td>\n",
       "      <td>1920</td>\n",
       "      <td>149549.38</td>\n",
       "    </tr>\n",
       "    <tr>\n",
       "      <th>59050</th>\n",
       "      <td>294337</td>\n",
       "      <td>146274359</td>\n",
       "      <td>2016</td>\n",
       "      <td>9</td>\n",
       "      <td>309614600</td>\n",
       "      <td>1522</td>\n",
       "      <td>96106.67</td>\n",
       "    </tr>\n",
       "    <tr>\n",
       "      <th>61626</th>\n",
       "      <td>294337</td>\n",
       "      <td>192586665</td>\n",
       "      <td>2017</td>\n",
       "      <td>8</td>\n",
       "      <td>362458120</td>\n",
       "      <td>1757</td>\n",
       "      <td>109611.08</td>\n",
       "    </tr>\n",
       "    <tr>\n",
       "      <th>65472</th>\n",
       "      <td>294337</td>\n",
       "      <td>287134819</td>\n",
       "      <td>2018</td>\n",
       "      <td>9</td>\n",
       "      <td>481750060</td>\n",
       "      <td>2213</td>\n",
       "      <td>129749.13</td>\n",
       "    </tr>\n",
       "    <tr>\n",
       "      <th>68372</th>\n",
       "      <td>294337</td>\n",
       "      <td>192586665</td>\n",
       "      <td>2017</td>\n",
       "      <td>4</td>\n",
       "      <td>345286500</td>\n",
       "      <td>1737</td>\n",
       "      <td>110873.15</td>\n",
       "    </tr>\n",
       "    <tr>\n",
       "      <th>70778</th>\n",
       "      <td>294337</td>\n",
       "      <td>192586665</td>\n",
       "      <td>2017</td>\n",
       "      <td>1</td>\n",
       "      <td>319474640</td>\n",
       "      <td>1616</td>\n",
       "      <td>119174.92</td>\n",
       "    </tr>\n",
       "    <tr>\n",
       "      <th>74197</th>\n",
       "      <td>294337</td>\n",
       "      <td>146274359</td>\n",
       "      <td>2016</td>\n",
       "      <td>2</td>\n",
       "      <td>274833900</td>\n",
       "      <td>1350</td>\n",
       "      <td>108351.38</td>\n",
       "    </tr>\n",
       "    <tr>\n",
       "      <th>79019</th>\n",
       "      <td>294337</td>\n",
       "      <td>102579741</td>\n",
       "      <td>2015</td>\n",
       "      <td>11</td>\n",
       "      <td>244699780</td>\n",
       "      <td>1202</td>\n",
       "      <td>85340.88</td>\n",
       "    </tr>\n",
       "    <tr>\n",
       "      <th>83216</th>\n",
       "      <td>294337</td>\n",
       "      <td>192586665</td>\n",
       "      <td>2017</td>\n",
       "      <td>11</td>\n",
       "      <td>380444020</td>\n",
       "      <td>1871</td>\n",
       "      <td>102932.48</td>\n",
       "    </tr>\n",
       "    <tr>\n",
       "      <th>86619</th>\n",
       "      <td>294337</td>\n",
       "      <td>146274359</td>\n",
       "      <td>2016</td>\n",
       "      <td>1</td>\n",
       "      <td>266212980</td>\n",
       "      <td>1305</td>\n",
       "      <td>112087.63</td>\n",
       "    </tr>\n",
       "    <tr>\n",
       "      <th>86698</th>\n",
       "      <td>294337</td>\n",
       "      <td>192586665</td>\n",
       "      <td>2017</td>\n",
       "      <td>3</td>\n",
       "      <td>342273320</td>\n",
       "      <td>1725</td>\n",
       "      <td>111644.44</td>\n",
       "    </tr>\n",
       "    <tr>\n",
       "      <th>92586</th>\n",
       "      <td>294337</td>\n",
       "      <td>287134819</td>\n",
       "      <td>2018</td>\n",
       "      <td>12</td>\n",
       "      <td>489855720</td>\n",
       "      <td>2258</td>\n",
       "      <td>127163.34</td>\n",
       "    </tr>\n",
       "  </tbody>\n",
       "</table>\n",
       "</div>"
      ],
      "text/plain": [
       "         회사ID       연매출액    년도   월   월별_연금보험료  월별_직원수    인당_매출액\n",
       "1439   294337  287134819  2018   5  410699340    2021 142075.62\n",
       "2823   294337  146274359  2016  11  306936920    1540  94983.35\n",
       "5845   294337  287134819  2018   2  402210900    1981 144944.38\n",
       "8963   294337  146274359  2016   8  311090300    1531  95541.71\n",
       "9602   294337  146274359  2016   4  280566260    1378 106149.75\n",
       "10957  294337  192586665  2017   2  336133420    1698 113419.71\n",
       "13060  294337  102579741  2015  12  265217820    1318  77829.85\n",
       "14126  294337  146274359  2016   3  276378820    1350 108351.38\n",
       "18211  294337  287134819  2018  10  482986020    2210 129925.26\n",
       "20117  294337  146274359  2016   7  300951260    1454 100601.35\n",
       "23226  294337  287134819  2018   6  412602760    2034 141167.56\n",
       "24292  294337  192586665  2017   6  342509660    1705 112954.06\n",
       "25125  294337  287134819  2018  11  489063340    2242 128070.84\n",
       "26662  294337  287134819  2018   4  404927280    1982 144871.25\n",
       "35385  294337  146274359  2016  10  309386040    1531  95541.71\n",
       "38891  294337  146274359  2016   5  287584120    1422 102865.23\n",
       "39584  294337  287134819  2018   3  402541000    1967 145976.01\n",
       "40048  294337  287134819  2018   7  455803820    2095 137057.19\n",
       "40298  294337  192586665  2017  10  371912040    1813 106225.41\n",
       "44990  294337  192586665  2017   5  344242000    1714 112360.95\n",
       "45342  294337  146274359  2016   6  291722360    1450 100878.87\n",
       "45350  294337  192586665  2017   9  364581340    1765 109114.26\n",
       "48170  294337  287134819  2018   8  462024240    2116 135696.98\n",
       "53803  294337  192586665  2017  12  384556580    1887 102059.71\n",
       "55592  294337  192586665  2017   7  359172440    1736 110937.02\n",
       "55734  294337  146274359  2016  12  311895520    1572  93049.85\n",
       "56074  294337  287134819  2018   1  389908020    1920 149549.38\n",
       "59050  294337  146274359  2016   9  309614600    1522  96106.67\n",
       "61626  294337  192586665  2017   8  362458120    1757 109611.08\n",
       "65472  294337  287134819  2018   9  481750060    2213 129749.13\n",
       "68372  294337  192586665  2017   4  345286500    1737 110873.15\n",
       "70778  294337  192586665  2017   1  319474640    1616 119174.92\n",
       "74197  294337  146274359  2016   2  274833900    1350 108351.38\n",
       "79019  294337  102579741  2015  11  244699780    1202  85340.88\n",
       "83216  294337  192586665  2017  11  380444020    1871 102932.48\n",
       "86619  294337  146274359  2016   1  266212980    1305 112087.63\n",
       "86698  294337  192586665  2017   3  342273320    1725 111644.44\n",
       "92586  294337  287134819  2018  12  489855720    2258 127163.34"
      ]
     },
     "execution_count": 1047,
     "metadata": {},
     "output_type": "execute_result"
    }
   ],
   "source": [
    "df.sort_values().query('회사ID==294337')"
   ]
  },
  {
   "cell_type": "code",
   "execution_count": 1027,
   "metadata": {},
   "outputs": [],
   "source": [
    "# 유니콘 기업 5개 리스트\n",
    "unicorn_test_list_s = df_unicorn_indicator_s.filter(regex='유니콘').sort_values('유니콘지수_직원수&매출액', ascending=False).head(5).index\n",
    "# int 변환\n",
    "unicorn_test_list_s = list(map(int,unicorn_test_list_s)) \n",
    "\n",
    "# 상위 5개 리스트 원본데이터 확인용\n",
    "df_unicorn_indicator_test_s = pd.DataFrame()\n",
    "for uni in unicorn_test_list_s :\n",
    "    df_unicorn_indicator_test_s=df_unicorn_indicator_test_s.append(df[df['회사ID']==uni].sort_values(['년도','월']))"
   ]
  },
  {
   "cell_type": "markdown",
   "metadata": {},
   "source": [
    "#### 인당 매출액을 넣으면 생기는 문제점..."
   ]
  },
  {
   "cell_type": "code",
   "execution_count": 1021,
   "metadata": {
    "scrolled": false
   },
   "outputs": [
    {
     "data": {
      "text/html": [
       "<div>\n",
       "<style scoped>\n",
       "    .dataframe tbody tr th:only-of-type {\n",
       "        vertical-align: middle;\n",
       "    }\n",
       "\n",
       "    .dataframe tbody tr th {\n",
       "        vertical-align: top;\n",
       "    }\n",
       "\n",
       "    .dataframe thead th {\n",
       "        text-align: right;\n",
       "    }\n",
       "</style>\n",
       "<table border=\"1\" class=\"dataframe\">\n",
       "  <thead>\n",
       "    <tr style=\"text-align: right;\">\n",
       "      <th></th>\n",
       "      <th>회사ID</th>\n",
       "      <th>연매출액</th>\n",
       "      <th>년도</th>\n",
       "      <th>월</th>\n",
       "      <th>월별_연금보험료</th>\n",
       "      <th>월별_직원수</th>\n",
       "      <th>인당_매출액</th>\n",
       "    </tr>\n",
       "  </thead>\n",
       "  <tbody>\n",
       "    <tr>\n",
       "      <th>91949</th>\n",
       "      <td>470208</td>\n",
       "      <td>12761864</td>\n",
       "      <td>2015</td>\n",
       "      <td>11</td>\n",
       "      <td>22799000</td>\n",
       "      <td>171</td>\n",
       "      <td>74630.78</td>\n",
       "    </tr>\n",
       "    <tr>\n",
       "      <th>19429</th>\n",
       "      <td>470208</td>\n",
       "      <td>12761864</td>\n",
       "      <td>2015</td>\n",
       "      <td>12</td>\n",
       "      <td>22514520</td>\n",
       "      <td>168</td>\n",
       "      <td>75963.48</td>\n",
       "    </tr>\n",
       "    <tr>\n",
       "      <th>14168</th>\n",
       "      <td>470208</td>\n",
       "      <td>6365368</td>\n",
       "      <td>2016</td>\n",
       "      <td>1</td>\n",
       "      <td>22297900</td>\n",
       "      <td>166</td>\n",
       "      <td>38345.59</td>\n",
       "    </tr>\n",
       "    <tr>\n",
       "      <th>78504</th>\n",
       "      <td>470208</td>\n",
       "      <td>6365368</td>\n",
       "      <td>2016</td>\n",
       "      <td>2</td>\n",
       "      <td>24200380</td>\n",
       "      <td>187</td>\n",
       "      <td>34039.40</td>\n",
       "    </tr>\n",
       "    <tr>\n",
       "      <th>54877</th>\n",
       "      <td>470208</td>\n",
       "      <td>6365368</td>\n",
       "      <td>2016</td>\n",
       "      <td>3</td>\n",
       "      <td>23597760</td>\n",
       "      <td>182</td>\n",
       "      <td>34974.55</td>\n",
       "    </tr>\n",
       "    <tr>\n",
       "      <th>83074</th>\n",
       "      <td>470208</td>\n",
       "      <td>6365368</td>\n",
       "      <td>2016</td>\n",
       "      <td>4</td>\n",
       "      <td>24276280</td>\n",
       "      <td>189</td>\n",
       "      <td>33679.20</td>\n",
       "    </tr>\n",
       "    <tr>\n",
       "      <th>44555</th>\n",
       "      <td>470208</td>\n",
       "      <td>6365368</td>\n",
       "      <td>2016</td>\n",
       "      <td>5</td>\n",
       "      <td>24437300</td>\n",
       "      <td>193</td>\n",
       "      <td>32981.18</td>\n",
       "    </tr>\n",
       "    <tr>\n",
       "      <th>64760</th>\n",
       "      <td>470208</td>\n",
       "      <td>6365368</td>\n",
       "      <td>2016</td>\n",
       "      <td>6</td>\n",
       "      <td>3200080</td>\n",
       "      <td>14</td>\n",
       "      <td>454669.14</td>\n",
       "    </tr>\n",
       "    <tr>\n",
       "      <th>45126</th>\n",
       "      <td>470208</td>\n",
       "      <td>6365368</td>\n",
       "      <td>2016</td>\n",
       "      <td>8</td>\n",
       "      <td>1095020</td>\n",
       "      <td>4</td>\n",
       "      <td>1591342.00</td>\n",
       "    </tr>\n",
       "    <tr>\n",
       "      <th>57399</th>\n",
       "      <td>470208</td>\n",
       "      <td>6365368</td>\n",
       "      <td>2016</td>\n",
       "      <td>9</td>\n",
       "      <td>1095020</td>\n",
       "      <td>4</td>\n",
       "      <td>1591342.00</td>\n",
       "    </tr>\n",
       "    <tr>\n",
       "      <th>87949</th>\n",
       "      <td>470208</td>\n",
       "      <td>6365368</td>\n",
       "      <td>2016</td>\n",
       "      <td>10</td>\n",
       "      <td>1095020</td>\n",
       "      <td>4</td>\n",
       "      <td>1591342.00</td>\n",
       "    </tr>\n",
       "    <tr>\n",
       "      <th>64478</th>\n",
       "      <td>470208</td>\n",
       "      <td>6365368</td>\n",
       "      <td>2016</td>\n",
       "      <td>11</td>\n",
       "      <td>1095020</td>\n",
       "      <td>4</td>\n",
       "      <td>1591342.00</td>\n",
       "    </tr>\n",
       "    <tr>\n",
       "      <th>45387</th>\n",
       "      <td>470208</td>\n",
       "      <td>6365368</td>\n",
       "      <td>2016</td>\n",
       "      <td>12</td>\n",
       "      <td>1095020</td>\n",
       "      <td>4</td>\n",
       "      <td>1591342.00</td>\n",
       "    </tr>\n",
       "  </tbody>\n",
       "</table>\n",
       "</div>"
      ],
      "text/plain": [
       "         회사ID      연매출액    년도   월  월별_연금보험료  월별_직원수     인당_매출액\n",
       "91949  470208  12761864  2015  11  22799000     171   74630.78\n",
       "19429  470208  12761864  2015  12  22514520     168   75963.48\n",
       "14168  470208   6365368  2016   1  22297900     166   38345.59\n",
       "78504  470208   6365368  2016   2  24200380     187   34039.40\n",
       "54877  470208   6365368  2016   3  23597760     182   34974.55\n",
       "83074  470208   6365368  2016   4  24276280     189   33679.20\n",
       "44555  470208   6365368  2016   5  24437300     193   32981.18\n",
       "64760  470208   6365368  2016   6   3200080      14  454669.14\n",
       "45126  470208   6365368  2016   8   1095020       4 1591342.00\n",
       "57399  470208   6365368  2016   9   1095020       4 1591342.00\n",
       "87949  470208   6365368  2016  10   1095020       4 1591342.00\n",
       "64478  470208   6365368  2016  11   1095020       4 1591342.00\n",
       "45387  470208   6365368  2016  12   1095020       4 1591342.00"
      ]
     },
     "execution_count": 1021,
     "metadata": {},
     "output_type": "execute_result"
    }
   ],
   "source": [
    "df_unicorn_indicator_test_s.query('회사ID==470208')"
   ]
  },
  {
   "cell_type": "markdown",
   "metadata": {},
   "source": [
    "## 유니콘 기업 체크 "
   ]
  },
  {
   "cell_type": "markdown",
   "metadata": {},
   "source": [
    "### 시각화"
   ]
  },
  {
   "cell_type": "code",
   "execution_count": 1028,
   "metadata": {},
   "outputs": [
    {
     "data": {
      "text/plain": [
       "[268810, 242254, 417469, 184149, 433756]"
      ]
     },
     "execution_count": 1028,
     "metadata": {},
     "output_type": "execute_result"
    }
   ],
   "source": [
    "# 표준화 O\n",
    "unicorn_test_list\n",
    "# df_unicorn_indicator_test_s"
   ]
  },
  {
   "cell_type": "code",
   "execution_count": 1029,
   "metadata": {},
   "outputs": [],
   "source": [
    "df_unicorn_indicator_test_s_viz = df_unicorn_indicator_test_s.filter(regex='회사|연매출액|년도|월별|인당')"
   ]
  },
  {
   "cell_type": "code",
   "execution_count": 1030,
   "metadata": {},
   "outputs": [],
   "source": [
    "df_unicorn_indicator_test_viz = df_unicorn_indicator_test.filter(regex='회사|연매출액|년도|월별|인당')"
   ]
  },
  {
   "cell_type": "code",
   "execution_count": 1033,
   "metadata": {
    "scrolled": false
   },
   "outputs": [
    {
     "data": {
      "text/html": [
       "<div>\n",
       "<style scoped>\n",
       "    .dataframe tbody tr th:only-of-type {\n",
       "        vertical-align: middle;\n",
       "    }\n",
       "\n",
       "    .dataframe tbody tr th {\n",
       "        vertical-align: top;\n",
       "    }\n",
       "\n",
       "    .dataframe thead th {\n",
       "        text-align: right;\n",
       "    }\n",
       "</style>\n",
       "<table border=\"1\" class=\"dataframe\">\n",
       "  <thead>\n",
       "    <tr style=\"text-align: right;\">\n",
       "      <th></th>\n",
       "      <th>유니콘지수_직원수&amp;매출액</th>\n",
       "    </tr>\n",
       "    <tr>\n",
       "      <th>회사ID</th>\n",
       "      <th></th>\n",
       "    </tr>\n",
       "  </thead>\n",
       "  <tbody>\n",
       "    <tr>\n",
       "      <th>122968</th>\n",
       "      <td>-0.01</td>\n",
       "    </tr>\n",
       "    <tr>\n",
       "      <th>122983</th>\n",
       "      <td>-0.35</td>\n",
       "    </tr>\n",
       "    <tr>\n",
       "      <th>123082</th>\n",
       "      <td>-0.10</td>\n",
       "    </tr>\n",
       "    <tr>\n",
       "      <th>123219</th>\n",
       "      <td>-0.29</td>\n",
       "    </tr>\n",
       "    <tr>\n",
       "      <th>123235</th>\n",
       "      <td>-0.07</td>\n",
       "    </tr>\n",
       "    <tr>\n",
       "      <th>...</th>\n",
       "      <td>...</td>\n",
       "    </tr>\n",
       "    <tr>\n",
       "      <th>515264</th>\n",
       "      <td>-0.06</td>\n",
       "    </tr>\n",
       "    <tr>\n",
       "      <th>515837</th>\n",
       "      <td>-0.06</td>\n",
       "    </tr>\n",
       "    <tr>\n",
       "      <th>516607</th>\n",
       "      <td>-0.03</td>\n",
       "    </tr>\n",
       "    <tr>\n",
       "      <th>516653</th>\n",
       "      <td>0.31</td>\n",
       "    </tr>\n",
       "    <tr>\n",
       "      <th>59533</th>\n",
       "      <td>-0.10</td>\n",
       "    </tr>\n",
       "  </tbody>\n",
       "</table>\n",
       "<p>2521 rows × 1 columns</p>\n",
       "</div>"
      ],
      "text/plain": [
       "        유니콘지수_직원수&매출액\n",
       "회사ID                 \n",
       "122968          -0.01\n",
       "122983          -0.35\n",
       "123082          -0.10\n",
       "123219          -0.29\n",
       "123235          -0.07\n",
       "...               ...\n",
       "515264          -0.06\n",
       "515837          -0.06\n",
       "516607          -0.03\n",
       "516653           0.31\n",
       "59533           -0.10\n",
       "\n",
       "[2521 rows x 1 columns]"
      ]
     },
     "execution_count": 1033,
     "metadata": {},
     "output_type": "execute_result"
    }
   ],
   "source": [
    "df_unicorn_indicator_s"
   ]
  },
  {
   "cell_type": "markdown",
   "metadata": {},
   "source": [
    "### Kmeans clustering"
   ]
  },
  {
   "cell_type": "code",
   "execution_count": 1052,
   "metadata": {
    "scrolled": true
   },
   "outputs": [
    {
     "data": {
      "image/png": "[encoded data removed]",
      "text/plain": [
       "<Figure size 432x288 with 1 Axes>"
      ]
     },
     "metadata": {
      "needs_background": "light"
     },
     "output_type": "display_data"
    }
   ],
   "source": [
    "from sklearn.cluster import KMeans\n",
    "\n",
    "def elbow(X):\n",
    "    sse = []\n",
    "\n",
    "    for i in range(1,11):\n",
    "        km = KMeans(n_clusters=i,algorithm='auto', random_state=42)\n",
    "        km.fit(X)\n",
    "        sse.append(km.inertia_)\n",
    "\n",
    "    plt.plot(range(1,11), sse, marker='o')\n",
    "    plt.xlabel('K')\n",
    "    plt.ylabel('SSE')\n",
    "    plt.show()\n",
    "\n",
    "elbow(df_clustering)"
   ]
  },
  {
   "cell_type": "markdown",
   "metadata": {},
   "source": [
    "**분산 최소화 군집 : 6개**"
   ]
  },
  {
   "cell_type": "code",
   "execution_count": 1035,
   "metadata": {},
   "outputs": [],
   "source": [
    "df_clustering = df_growth_cleansed.copy()"
   ]
  },
  {
   "cell_type": "code",
   "execution_count": 1036,
   "metadata": {
    "scrolled": true
   },
   "outputs": [
    {
     "data": {
      "text/html": [
       "<div>\n",
       "<style scoped>\n",
       "    .dataframe tbody tr th:only-of-type {\n",
       "        vertical-align: middle;\n",
       "    }\n",
       "\n",
       "    .dataframe tbody tr th {\n",
       "        vertical-align: top;\n",
       "    }\n",
       "\n",
       "    .dataframe thead th {\n",
       "        text-align: right;\n",
       "    }\n",
       "</style>\n",
       "<table border=\"1\" class=\"dataframe\">\n",
       "  <thead>\n",
       "    <tr style=\"text-align: right;\">\n",
       "      <th></th>\n",
       "      <th>key</th>\n",
       "      <th>평균성장율_연금보험료</th>\n",
       "      <th>평균성장율_직원수</th>\n",
       "      <th>평균성장율_인당매출액</th>\n",
       "      <th>성장율_연매출액</th>\n",
       "      <th>회사ID</th>\n",
       "      <th>년도</th>\n",
       "      <th>경기지수점수</th>\n",
       "    </tr>\n",
       "  </thead>\n",
       "  <tbody>\n",
       "    <tr>\n",
       "      <th>1</th>\n",
       "      <td>122968-2016</td>\n",
       "      <td>0.37</td>\n",
       "      <td>0.26</td>\n",
       "      <td>-0.43</td>\n",
       "      <td>-0.13</td>\n",
       "      <td>122968</td>\n",
       "      <td>2016</td>\n",
       "      <td>0.20</td>\n",
       "    </tr>\n",
       "  </tbody>\n",
       "</table>\n",
       "</div>"
      ],
      "text/plain": [
       "           key  평균성장율_연금보험료  평균성장율_직원수  평균성장율_인당매출액  성장율_연매출액    회사ID    년도  \\\n",
       "1  122968-2016         0.37       0.26        -0.43     -0.13  122968  2016   \n",
       "\n",
       "   경기지수점수  \n",
       "1    0.20  "
      ]
     },
     "execution_count": 1036,
     "metadata": {},
     "output_type": "execute_result"
    }
   ],
   "source": [
    "df_clustering.iloc[:,1:5]=StandardScaler().fit_transform(df_clustering.iloc[:,1:5])\n",
    "df_clustering=df_clustering.iloc[:,0:5].set_index('key')\n",
    "df_clustering.head(1)"
   ]
  },
  {
   "cell_type": "code",
   "execution_count": 1042,
   "metadata": {},
   "outputs": [],
   "source": [
    "from sklearn.cluster import KMeans\n",
    "from sklearn.cluster import KMeans\n",
    "df_clustering.iloc[:,0:5].set_index('key', inplace=True)"
   ]
  },
  {
   "cell_type": "code",
   "execution_count": 1050,
   "metadata": {},
   "outputs": [],
   "source": [
    "df_clustering=df_clustering.iloc[:,0:5].set_index('key')"
   ]
  },
  {
   "cell_type": "code",
   "execution_count": 1051,
   "metadata": {},
   "outputs": [
    {
     "data": {
      "text/html": [
       "<div>\n",
       "<style scoped>\n",
       "    .dataframe tbody tr th:only-of-type {\n",
       "        vertical-align: middle;\n",
       "    }\n",
       "\n",
       "    .dataframe tbody tr th {\n",
       "        vertical-align: top;\n",
       "    }\n",
       "\n",
       "    .dataframe thead th {\n",
       "        text-align: right;\n",
       "    }\n",
       "</style>\n",
       "<table border=\"1\" class=\"dataframe\">\n",
       "  <thead>\n",
       "    <tr style=\"text-align: right;\">\n",
       "      <th></th>\n",
       "      <th>평균성장율_연금보험료</th>\n",
       "      <th>평균성장율_직원수</th>\n",
       "      <th>평균성장율_인당매출액</th>\n",
       "      <th>성장율_연매출액</th>\n",
       "    </tr>\n",
       "    <tr>\n",
       "      <th>key</th>\n",
       "      <th></th>\n",
       "      <th></th>\n",
       "      <th></th>\n",
       "      <th></th>\n",
       "    </tr>\n",
       "  </thead>\n",
       "  <tbody>\n",
       "    <tr>\n",
       "      <th>122968-2016</th>\n",
       "      <td>0.37</td>\n",
       "      <td>0.26</td>\n",
       "      <td>-0.43</td>\n",
       "      <td>-0.13</td>\n",
       "    </tr>\n",
       "    <tr>\n",
       "      <th>122968-2017</th>\n",
       "      <td>-0.26</td>\n",
       "      <td>-0.03</td>\n",
       "      <td>0.02</td>\n",
       "      <td>-0.02</td>\n",
       "    </tr>\n",
       "    <tr>\n",
       "      <th>122968-2018</th>\n",
       "      <td>-0.19</td>\n",
       "      <td>-0.09</td>\n",
       "      <td>-0.11</td>\n",
       "      <td>-0.08</td>\n",
       "    </tr>\n",
       "    <tr>\n",
       "      <th>122983-2016</th>\n",
       "      <td>-0.30</td>\n",
       "      <td>-0.17</td>\n",
       "      <td>-0.02</td>\n",
       "      <td>-0.10</td>\n",
       "    </tr>\n",
       "    <tr>\n",
       "      <th>122983-2017</th>\n",
       "      <td>-1.29</td>\n",
       "      <td>-1.42</td>\n",
       "      <td>2.42</td>\n",
       "      <td>-0.18</td>\n",
       "    </tr>\n",
       "    <tr>\n",
       "      <th>...</th>\n",
       "      <td>...</td>\n",
       "      <td>...</td>\n",
       "      <td>...</td>\n",
       "      <td>...</td>\n",
       "    </tr>\n",
       "    <tr>\n",
       "      <th>516653-2017</th>\n",
       "      <td>0.57</td>\n",
       "      <td>0.52</td>\n",
       "      <td>-0.62</td>\n",
       "      <td>-0.04</td>\n",
       "    </tr>\n",
       "    <tr>\n",
       "      <th>516653-2018</th>\n",
       "      <td>1.88</td>\n",
       "      <td>1.42</td>\n",
       "      <td>-0.34</td>\n",
       "      <td>-0.12</td>\n",
       "    </tr>\n",
       "    <tr>\n",
       "      <th>59533-2016</th>\n",
       "      <td>0.30</td>\n",
       "      <td>0.39</td>\n",
       "      <td>-0.54</td>\n",
       "      <td>-0.05</td>\n",
       "    </tr>\n",
       "    <tr>\n",
       "      <th>59533-2017</th>\n",
       "      <td>-0.80</td>\n",
       "      <td>-0.63</td>\n",
       "      <td>0.41</td>\n",
       "      <td>-0.15</td>\n",
       "    </tr>\n",
       "    <tr>\n",
       "      <th>59533-2018</th>\n",
       "      <td>-0.66</td>\n",
       "      <td>-0.54</td>\n",
       "      <td>0.75</td>\n",
       "      <td>-0.03</td>\n",
       "    </tr>\n",
       "  </tbody>\n",
       "</table>\n",
       "<p>4958 rows × 4 columns</p>\n",
       "</div>"
      ],
      "text/plain": [
       "             평균성장율_연금보험료  평균성장율_직원수  평균성장율_인당매출액  성장율_연매출액\n",
       "key                                                       \n",
       "122968-2016         0.37       0.26        -0.43     -0.13\n",
       "122968-2017        -0.26      -0.03         0.02     -0.02\n",
       "122968-2018        -0.19      -0.09        -0.11     -0.08\n",
       "122983-2016        -0.30      -0.17        -0.02     -0.10\n",
       "122983-2017        -1.29      -1.42         2.42     -0.18\n",
       "...                  ...        ...          ...       ...\n",
       "516653-2017         0.57       0.52        -0.62     -0.04\n",
       "516653-2018         1.88       1.42        -0.34     -0.12\n",
       "59533-2016          0.30       0.39        -0.54     -0.05\n",
       "59533-2017         -0.80      -0.63         0.41     -0.15\n",
       "59533-2018         -0.66      -0.54         0.75     -0.03\n",
       "\n",
       "[4958 rows x 4 columns]"
      ]
     },
     "execution_count": 1051,
     "metadata": {},
     "output_type": "execute_result"
    }
   ],
   "source": [
    "df_clustering"
   ]
  },
  {
   "cell_type": "markdown",
   "metadata": {},
   "source": [
    "## 유니콘 기업 지수 산출 방향성 추가 논의 내역\n",
    "1. 직원수로 class 구분 \n",
    "2. 스코어링 지표 1-5점 척도\n",
    "> - 1인당 매출액\n",
    "> - 연성장율_연금보험료\n",
    "> - 연성장율_직원수\n",
    "> - 연성장율_매출액\n",
    "> - 최대최소매출액\n"
   ]
  },
  {
   "cell_type": "code",
   "execution_count": null,
   "metadata": {},
   "outputs": [],
   "source": []
  }
 ],
 "metadata": {
  "kernelspec": {
   "display_name": "Python 3",
   "language": "python",
   "name": "python3"
  },
  "language_info": {
   "codemirror_mode": {
    "name": "ipython",
    "version": 3
   },
   "file_extension": ".py",
   "mimetype": "text/x-python",
   "name": "python",
   "nbconvert_exporter": "python",
   "pygments_lexer": "ipython3",
   "version": "3.7.3"
  },
  "latex_envs": {
   "LaTeX_envs_menu_present": true,
   "autoclose": true,
   "autocomplete": true,
   "bibliofile": "biblio.bib",
   "cite_by": "apalike",
   "current_citInitial": 1,
   "eqLabelWithNumbers": true,
   "eqNumInitial": 1,
   "hotkeys": {
    "equation": "Ctrl-E",
    "itemize": "Ctrl-I"
   },
   "labels_anchors": false,
   "latex_user_defs": false,
   "report_style_numbering": false,
   "user_envs_cfg": false
  },
  "toc": {
   "base_numbering": 1,
   "nav_menu": {},
   "number_sections": true,
   "sideBar": true,
   "skip_h1_title": false,
   "title_cell": "Table of Contents",
   "title_sidebar": "Contents",
   "toc_cell": false,
   "toc_position": {
    "height": "calc(100% - 180px)",
    "left": "10px",
    "top": "150px",
    "width": "165px"
   },
   "toc_section_display": true,
   "toc_window_display": true
  },
  "varInspector": {
   "cols": {
    "lenName": 16,
    "lenType": 16,
    "lenVar": 40
   },
   "kernels_config": {
    "python": {
     "delete_cmd_postfix": "",
     "delete_cmd_prefix": "del ",
     "library": "var_list.py",
     "varRefreshCmd": "print(var_dic_list())"
    },
    "r": {
     "delete_cmd_postfix": ") ",
     "delete_cmd_prefix": "rm(",
     "library": "var_list.r",
     "varRefreshCmd": "cat(var_dic_list()) "
    }
   },
   "types_to_exclude": [
    "module",
    "function",
    "builtin_function_or_method",
    "instance",
    "_Feature"
   ],
   "window_display": false
  }
 },
 "nbformat": 4,
 "nbformat_minor": 4
}
