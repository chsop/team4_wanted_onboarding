{
 "cells": [
  {
   "cell_type": "markdown",
   "metadata": {},
   "source": [
    "#### 과제 가이드라인\n",
    "\n",
    "- 2주차 과제 제출에 포함되어야 하는 형태 (최소)\n",
    "- 모델링에 대한 결과 .ipynb 파일 (team1_onboarding_week2_analysis.ipynb)\n",
    "- np.random.seed(42) 설정\n",
    "- Input : X데이터 : [user_id, +@]\n",
    "- Output : Count column 예측값\n",
    "- 2020.01.01~2020.09.30 : Training Data\n",
    "- 2020.10.01~2020.12.31 : Test Data\n",
    "- 2020.10.01~2020.12.31 구간에 대한 MSE, MAE 계산값\n",
    "- 요일별 이용량에 대한 분석 - EDA\n",
    "- **유저별 이용 count 값에 대한 분석 - EDA**"
   ]
  },
  {
   "cell_type": "markdown",
   "metadata": {},
   "source": [
    "#### 모두 컴퍼니\n",
    "- 회사 기본 정보\n",
    "- 비즈니스 모델\n",
    "- 데이터 분석 목표"
   ]
  },
  {
   "cell_type": "markdown",
   "metadata": {},
   "source": [
    "> data : 유저 ID, 일자별 결제 내역 데이터 "
   ]
  },
  {
   "cell_type": "markdown",
   "metadata": {},
   "source": [
    "#### 모듈 import"
   ]
  },
  {
   "cell_type": "code",
   "execution_count": 2,
   "metadata": {},
   "outputs": [],
   "source": [
    "import numpy as np\n",
    "import pandas as pd\n",
    "\n",
    "# visualization\n",
    "import matplotlib.pyplot as plt\n",
    "import seaborn as sns\n",
    "%matplotlib inline\n",
    "sns.set_style(style=\"white\")\n",
    "plt.rc('font', family='Malgun Gothic') \n",
    "plt.rcParams['figure.figsize'] = (10, 7)\n",
    "plt.rcParams['axes.unicode_minus'] = False    # minus\n",
    "\n",
    "# interactive\n",
    "import plotly.express as px\n",
    "import plotly.graph_objects as go\n",
    "from plotly.subplots import make_subplots\n",
    "\n",
    "import warnings\n",
    "warnings.filterwarnings('ignore')\n",
    "\n",
    "# encoding\n",
    "from sklearn.preprocessing import LabelEncoder\n",
    "from sklearn.preprocessing import OneHotEncoder\n",
    "\n",
    "# modeling\n",
    "from sklearn.model_selection import train_test_split\n",
    "from sklearn.ensemble import RandomForestRegressor\n",
    "from xgboost import XGBRegressor\n",
    "from lightgbm import LGBMRegressor\n",
    "from sklearn.metrics import mean_absolute_error, mean_squared_error"
   ]
  },
  {
   "cell_type": "markdown",
   "metadata": {},
   "source": [
    "#### 데이터 로드 \n",
    "- 원본 데이터 셋 modu > df\n",
    "- 외부 데이터 weather, traffic"
   ]
  },
  {
   "cell_type": "markdown",
   "metadata": {},
   "source": [
    "##### 기본 변수"
   ]
  },
  {
   "cell_type": "code",
   "execution_count": 3,
   "metadata": {},
   "outputs": [
    {
     "data": {
      "text/html": [
       "<div>\n",
       "<style scoped>\n",
       "    .dataframe tbody tr th:only-of-type {\n",
       "        vertical-align: middle;\n",
       "    }\n",
       "\n",
       "    .dataframe tbody tr th {\n",
       "        vertical-align: top;\n",
       "    }\n",
       "\n",
       "    .dataframe thead th {\n",
       "        text-align: right;\n",
       "    }\n",
       "</style>\n",
       "<table border=\"1\" class=\"dataframe\">\n",
       "  <thead>\n",
       "    <tr style=\"text-align: right;\">\n",
       "      <th></th>\n",
       "      <th>USER_ID</th>\n",
       "      <th>JOIN_DATE</th>\n",
       "      <th>D_TYPE</th>\n",
       "      <th>STORE_ID</th>\n",
       "      <th>GOODS_TYPE</th>\n",
       "      <th>DATE</th>\n",
       "      <th>COUNT</th>\n",
       "      <th>AD1</th>\n",
       "    </tr>\n",
       "  </thead>\n",
       "  <tbody>\n",
       "    <tr>\n",
       "      <th>0</th>\n",
       "      <td>2858</td>\n",
       "      <td>2014-01-07</td>\n",
       "      <td>AA</td>\n",
       "      <td>1892</td>\n",
       "      <td>A</td>\n",
       "      <td>2020-01-01</td>\n",
       "      <td>1</td>\n",
       "      <td>GN</td>\n",
       "    </tr>\n",
       "    <tr>\n",
       "      <th>1</th>\n",
       "      <td>5647</td>\n",
       "      <td>2014-02-14</td>\n",
       "      <td>BB</td>\n",
       "      <td>182009</td>\n",
       "      <td>A</td>\n",
       "      <td>2020-01-01</td>\n",
       "      <td>1</td>\n",
       "      <td>J</td>\n",
       "    </tr>\n",
       "    <tr>\n",
       "      <th>2</th>\n",
       "      <td>33314</td>\n",
       "      <td>2014-11-20</td>\n",
       "      <td>BB</td>\n",
       "      <td>82431</td>\n",
       "      <td>A</td>\n",
       "      <td>2020-01-01</td>\n",
       "      <td>1</td>\n",
       "      <td>SC</td>\n",
       "    </tr>\n",
       "    <tr>\n",
       "      <th>3</th>\n",
       "      <td>37001</td>\n",
       "      <td>2014-12-04</td>\n",
       "      <td>BB</td>\n",
       "      <td>725</td>\n",
       "      <td>C</td>\n",
       "      <td>2020-01-01</td>\n",
       "      <td>1</td>\n",
       "      <td>MP</td>\n",
       "    </tr>\n",
       "    <tr>\n",
       "      <th>4</th>\n",
       "      <td>37819</td>\n",
       "      <td>2014-12-07</td>\n",
       "      <td>AA</td>\n",
       "      <td>220691</td>\n",
       "      <td>C</td>\n",
       "      <td>2020-01-01</td>\n",
       "      <td>1</td>\n",
       "      <td>JRR</td>\n",
       "    </tr>\n",
       "  </tbody>\n",
       "</table>\n",
       "</div>"
      ],
      "text/plain": [
       "   USER_ID   JOIN_DATE D_TYPE  STORE_ID GOODS_TYPE        DATE  COUNT  AD1\n",
       "0     2858  2014-01-07     AA      1892          A  2020-01-01      1   GN\n",
       "1     5647  2014-02-14     BB    182009          A  2020-01-01      1    J\n",
       "2    33314  2014-11-20     BB     82431          A  2020-01-01      1   SC\n",
       "3    37001  2014-12-04     BB       725          C  2020-01-01      1   MP\n",
       "4    37819  2014-12-07     AA    220691          C  2020-01-01      1  JRR"
      ]
     },
     "execution_count": 3,
     "metadata": {},
     "output_type": "execute_result"
    }
   ],
   "source": [
    "modu = pd.read_csv('../week2/실전db.csv')\n",
    "df = modu.copy() # 분석 데이터 셋\n",
    "df.head()"
   ]
  },
  {
   "cell_type": "markdown",
   "metadata": {},
   "source": [
    "##### 외부 변수\n",
    "- 날씨 / 교통량\n",
    "- 공휴일정보"
   ]
  },
  {
   "cell_type": "code",
   "execution_count": 4,
   "metadata": {},
   "outputs": [],
   "source": [
    "weather = pd.read_csv('../week2/서울시_기상데이터.csv', encoding='cp949')\n",
    "traffic = pd.read_excel('../week2/2020교통량통합.xlsx')"
   ]
  },
  {
   "cell_type": "code",
   "execution_count": 5,
   "metadata": {
    "scrolled": true
   },
   "outputs": [
    {
     "data": {
      "text/html": [
       "<div>\n",
       "<style scoped>\n",
       "    .dataframe tbody tr th:only-of-type {\n",
       "        vertical-align: middle;\n",
       "    }\n",
       "\n",
       "    .dataframe tbody tr th {\n",
       "        vertical-align: top;\n",
       "    }\n",
       "\n",
       "    .dataframe thead th {\n",
       "        text-align: right;\n",
       "    }\n",
       "</style>\n",
       "<table border=\"1\" class=\"dataframe\">\n",
       "  <thead>\n",
       "    <tr style=\"text-align: right;\">\n",
       "      <th></th>\n",
       "      <th>지점</th>\n",
       "      <th>일시</th>\n",
       "      <th>기온</th>\n",
       "      <th>강수량</th>\n",
       "      <th>풍속</th>\n",
       "      <th>습도</th>\n",
       "      <th>일조시간</th>\n",
       "      <th>적설량</th>\n",
       "      <th>지면온도</th>\n",
       "      <th>지중온도</th>\n",
       "    </tr>\n",
       "  </thead>\n",
       "  <tbody>\n",
       "    <tr>\n",
       "      <th>0</th>\n",
       "      <td>108</td>\n",
       "      <td>2020-01-01 1:00</td>\n",
       "      <td>-5.9</td>\n",
       "      <td>NaN</td>\n",
       "      <td>1.7</td>\n",
       "      <td>40</td>\n",
       "      <td>NaN</td>\n",
       "      <td>NaN</td>\n",
       "      <td>-2.4</td>\n",
       "      <td>3.2</td>\n",
       "    </tr>\n",
       "    <tr>\n",
       "      <th>1</th>\n",
       "      <td>108</td>\n",
       "      <td>2020-01-01 2:00</td>\n",
       "      <td>-5.7</td>\n",
       "      <td>NaN</td>\n",
       "      <td>0.1</td>\n",
       "      <td>42</td>\n",
       "      <td>NaN</td>\n",
       "      <td>NaN</td>\n",
       "      <td>-2.4</td>\n",
       "      <td>3.1</td>\n",
       "    </tr>\n",
       "  </tbody>\n",
       "</table>\n",
       "</div>"
      ],
      "text/plain": [
       "    지점               일시   기온  강수량   풍속  습도  일조시간  적설량  지면온도  지중온도\n",
       "0  108  2020-01-01 1:00 -5.9  NaN  1.7  40   NaN  NaN  -2.4   3.2\n",
       "1  108  2020-01-01 2:00 -5.7  NaN  0.1  42   NaN  NaN  -2.4   3.1"
      ]
     },
     "execution_count": 5,
     "metadata": {},
     "output_type": "execute_result"
    }
   ],
   "source": [
    "weather.head(2)  # 일자별 강수량"
   ]
  },
  {
   "cell_type": "code",
   "execution_count": 6,
   "metadata": {
    "scrolled": false
   },
   "outputs": [
    {
     "data": {
      "text/html": [
       "<div>\n",
       "<style scoped>\n",
       "    .dataframe tbody tr th:only-of-type {\n",
       "        vertical-align: middle;\n",
       "    }\n",
       "\n",
       "    .dataframe tbody tr th {\n",
       "        vertical-align: top;\n",
       "    }\n",
       "\n",
       "    .dataframe thead th {\n",
       "        text-align: right;\n",
       "    }\n",
       "</style>\n",
       "<table border=\"1\" class=\"dataframe\">\n",
       "  <thead>\n",
       "    <tr style=\"text-align: right;\">\n",
       "      <th></th>\n",
       "      <th>DATE</th>\n",
       "      <th>지점명</th>\n",
       "      <th>지점번호</th>\n",
       "      <th>방향</th>\n",
       "      <th>구분</th>\n",
       "      <th>0시</th>\n",
       "      <th>1시</th>\n",
       "      <th>2시</th>\n",
       "      <th>3시</th>\n",
       "      <th>4시</th>\n",
       "      <th>...</th>\n",
       "      <th>14시</th>\n",
       "      <th>15시</th>\n",
       "      <th>16시</th>\n",
       "      <th>17시</th>\n",
       "      <th>18시</th>\n",
       "      <th>19시</th>\n",
       "      <th>20시</th>\n",
       "      <th>21시</th>\n",
       "      <th>22시</th>\n",
       "      <th>23시</th>\n",
       "    </tr>\n",
       "  </thead>\n",
       "  <tbody>\n",
       "    <tr>\n",
       "      <th>0</th>\n",
       "      <td>2020-01-01</td>\n",
       "      <td>성산로(금화터널)</td>\n",
       "      <td>A-01</td>\n",
       "      <td>유입</td>\n",
       "      <td>봉원고가차도-&gt;독립문역</td>\n",
       "      <td>712.0</td>\n",
       "      <td>645.0</td>\n",
       "      <td>437.0</td>\n",
       "      <td>309.0</td>\n",
       "      <td>290.0</td>\n",
       "      <td>...</td>\n",
       "      <td>1472.0</td>\n",
       "      <td>1416.0</td>\n",
       "      <td>1483.0</td>\n",
       "      <td>1329.0</td>\n",
       "      <td>1157.0</td>\n",
       "      <td>1014.0</td>\n",
       "      <td>954.0</td>\n",
       "      <td>849.0</td>\n",
       "      <td>780.0</td>\n",
       "      <td>480.0</td>\n",
       "    </tr>\n",
       "    <tr>\n",
       "      <th>1</th>\n",
       "      <td>2020-01-02</td>\n",
       "      <td>성산로(금화터널)</td>\n",
       "      <td>A-01</td>\n",
       "      <td>유입</td>\n",
       "      <td>봉원고가차도-&gt;독립문역</td>\n",
       "      <td>315.0</td>\n",
       "      <td>222.0</td>\n",
       "      <td>186.0</td>\n",
       "      <td>165.0</td>\n",
       "      <td>266.0</td>\n",
       "      <td>...</td>\n",
       "      <td>1792.0</td>\n",
       "      <td>1897.0</td>\n",
       "      <td>1842.0</td>\n",
       "      <td>2061.0</td>\n",
       "      <td>1994.0</td>\n",
       "      <td>1443.0</td>\n",
       "      <td>1233.0</td>\n",
       "      <td>1165.0</td>\n",
       "      <td>1094.0</td>\n",
       "      <td>852.0</td>\n",
       "    </tr>\n",
       "  </tbody>\n",
       "</table>\n",
       "<p>2 rows × 29 columns</p>\n",
       "</div>"
      ],
      "text/plain": [
       "        DATE        지점명  지점번호  방향            구분     0시     1시     2시     3시  \\\n",
       "0 2020-01-01  성산로(금화터널)  A-01  유입  봉원고가차도->독립문역  712.0  645.0  437.0  309.0   \n",
       "1 2020-01-02  성산로(금화터널)  A-01  유입  봉원고가차도->독립문역  315.0  222.0  186.0  165.0   \n",
       "\n",
       "      4시  ...     14시     15시     16시     17시     18시     19시     20시     21시  \\\n",
       "0  290.0  ...  1472.0  1416.0  1483.0  1329.0  1157.0  1014.0   954.0   849.0   \n",
       "1  266.0  ...  1792.0  1897.0  1842.0  2061.0  1994.0  1443.0  1233.0  1165.0   \n",
       "\n",
       "      22시    23시  \n",
       "0   780.0  480.0  \n",
       "1  1094.0  852.0  \n",
       "\n",
       "[2 rows x 29 columns]"
      ]
     },
     "execution_count": 6,
     "metadata": {},
     "output_type": "execute_result"
    }
   ],
   "source": [
    "traffic.head(2)   # 일자별, 시간별 교통량"
   ]
  },
  {
   "cell_type": "code",
   "execution_count": 9,
   "metadata": {},
   "outputs": [
    {
     "data": {
      "text/html": [
       "<div>\n",
       "<style scoped>\n",
       "    .dataframe tbody tr th:only-of-type {\n",
       "        vertical-align: middle;\n",
       "    }\n",
       "\n",
       "    .dataframe tbody tr th {\n",
       "        vertical-align: top;\n",
       "    }\n",
       "\n",
       "    .dataframe thead th {\n",
       "        text-align: right;\n",
       "    }\n",
       "</style>\n",
       "<table border=\"1\" class=\"dataframe\">\n",
       "  <thead>\n",
       "    <tr style=\"text-align: right;\">\n",
       "      <th></th>\n",
       "      <th>date</th>\n",
       "      <th>isholiday</th>\n",
       "      <th>exp</th>\n",
       "    </tr>\n",
       "  </thead>\n",
       "  <tbody>\n",
       "    <tr>\n",
       "      <th>0</th>\n",
       "      <td>2020-01-01</td>\n",
       "      <td>holiday</td>\n",
       "      <td>새해</td>\n",
       "    </tr>\n",
       "    <tr>\n",
       "      <th>1</th>\n",
       "      <td>2020-01-02</td>\n",
       "      <td>weekdays</td>\n",
       "      <td>평일</td>\n",
       "    </tr>\n",
       "  </tbody>\n",
       "</table>\n",
       "</div>"
      ],
      "text/plain": [
       "        date isholiday exp\n",
       "0 2020-01-01   holiday  새해\n",
       "1 2020-01-02  weekdays  평일"
      ]
     },
     "execution_count": 9,
     "metadata": {},
     "output_type": "execute_result"
    }
   ],
   "source": [
    "df_holiday =pd.read_excel('../week2/holiday_master.xlsx')\n",
    "df_holiday.head(2)"
   ]
  },
  {
   "cell_type": "markdown",
   "metadata": {},
   "source": [
    "### 데이터 개요\n",
    "📍 요약\n",
    "- Date 파생변수 생성 : year month day dayofweek quarter\n",
    "- 공휴일 변수 생성 : isholiday (binary)"
   ]
  },
  {
   "cell_type": "code",
   "execution_count": 10,
   "metadata": {},
   "outputs": [
    {
     "data": {
      "text/plain": [
       "(879271, 8)"
      ]
     },
     "execution_count": 10,
     "metadata": {},
     "output_type": "execute_result"
    }
   ],
   "source": [
    "df.shape"
   ]
  },
  {
   "cell_type": "code",
   "execution_count": 11,
   "metadata": {
    "scrolled": true
   },
   "outputs": [
    {
     "name": "stdout",
     "output_type": "stream",
     "text": [
      "<class 'pandas.core.frame.DataFrame'>\n",
      "RangeIndex: 879271 entries, 0 to 879270\n",
      "Data columns (total 8 columns):\n",
      " #   Column      Non-Null Count   Dtype \n",
      "---  ------      --------------   ----- \n",
      " 0   USER_ID     879271 non-null  int64 \n",
      " 1   JOIN_DATE   879271 non-null  object\n",
      " 2   D_TYPE      879271 non-null  object\n",
      " 3   STORE_ID    879271 non-null  int64 \n",
      " 4   GOODS_TYPE  879271 non-null  object\n",
      " 5   DATE        879271 non-null  object\n",
      " 6   COUNT       879271 non-null  int64 \n",
      " 7   AD1         879271 non-null  object\n",
      "dtypes: int64(3), object(5)\n",
      "memory usage: 53.7+ MB\n"
     ]
    }
   ],
   "source": [
    "df.info()"
   ]
  },
  {
   "cell_type": "markdown",
   "metadata": {},
   "source": [
    "##### 컬럼 소문자변환"
   ]
  },
  {
   "cell_type": "code",
   "execution_count": 12,
   "metadata": {},
   "outputs": [],
   "source": [
    "df.columns=list(map(lambda x: x.lower(),df.columns))"
   ]
  },
  {
   "cell_type": "markdown",
   "metadata": {},
   "source": [
    "##### Date 변수 변환"
   ]
  },
  {
   "cell_type": "code",
   "execution_count": 13,
   "metadata": {},
   "outputs": [
    {
     "data": {
      "text/html": [
       "<div>\n",
       "<style scoped>\n",
       "    .dataframe tbody tr th:only-of-type {\n",
       "        vertical-align: middle;\n",
       "    }\n",
       "\n",
       "    .dataframe tbody tr th {\n",
       "        vertical-align: top;\n",
       "    }\n",
       "\n",
       "    .dataframe thead th {\n",
       "        text-align: right;\n",
       "    }\n",
       "</style>\n",
       "<table border=\"1\" class=\"dataframe\">\n",
       "  <thead>\n",
       "    <tr style=\"text-align: right;\">\n",
       "      <th></th>\n",
       "      <th>user_id</th>\n",
       "      <th>join_date</th>\n",
       "      <th>d_type</th>\n",
       "      <th>store_id</th>\n",
       "      <th>goods_type</th>\n",
       "      <th>date</th>\n",
       "      <th>count</th>\n",
       "      <th>ad1</th>\n",
       "    </tr>\n",
       "  </thead>\n",
       "  <tbody>\n",
       "    <tr>\n",
       "      <th>0</th>\n",
       "      <td>2858</td>\n",
       "      <td>2014-01-07</td>\n",
       "      <td>AA</td>\n",
       "      <td>1892</td>\n",
       "      <td>A</td>\n",
       "      <td>2020-01-01</td>\n",
       "      <td>1</td>\n",
       "      <td>GN</td>\n",
       "    </tr>\n",
       "    <tr>\n",
       "      <th>1</th>\n",
       "      <td>5647</td>\n",
       "      <td>2014-02-14</td>\n",
       "      <td>BB</td>\n",
       "      <td>182009</td>\n",
       "      <td>A</td>\n",
       "      <td>2020-01-01</td>\n",
       "      <td>1</td>\n",
       "      <td>J</td>\n",
       "    </tr>\n",
       "    <tr>\n",
       "      <th>2</th>\n",
       "      <td>33314</td>\n",
       "      <td>2014-11-20</td>\n",
       "      <td>BB</td>\n",
       "      <td>82431</td>\n",
       "      <td>A</td>\n",
       "      <td>2020-01-01</td>\n",
       "      <td>1</td>\n",
       "      <td>SC</td>\n",
       "    </tr>\n",
       "    <tr>\n",
       "      <th>3</th>\n",
       "      <td>37001</td>\n",
       "      <td>2014-12-04</td>\n",
       "      <td>BB</td>\n",
       "      <td>725</td>\n",
       "      <td>C</td>\n",
       "      <td>2020-01-01</td>\n",
       "      <td>1</td>\n",
       "      <td>MP</td>\n",
       "    </tr>\n",
       "    <tr>\n",
       "      <th>4</th>\n",
       "      <td>37819</td>\n",
       "      <td>2014-12-07</td>\n",
       "      <td>AA</td>\n",
       "      <td>220691</td>\n",
       "      <td>C</td>\n",
       "      <td>2020-01-01</td>\n",
       "      <td>1</td>\n",
       "      <td>JRR</td>\n",
       "    </tr>\n",
       "    <tr>\n",
       "      <th>...</th>\n",
       "      <td>...</td>\n",
       "      <td>...</td>\n",
       "      <td>...</td>\n",
       "      <td>...</td>\n",
       "      <td>...</td>\n",
       "      <td>...</td>\n",
       "      <td>...</td>\n",
       "      <td>...</td>\n",
       "    </tr>\n",
       "    <tr>\n",
       "      <th>879266</th>\n",
       "      <td>1830551</td>\n",
       "      <td>2020-12-31</td>\n",
       "      <td>BB</td>\n",
       "      <td>219886</td>\n",
       "      <td>B</td>\n",
       "      <td>2020-12-31</td>\n",
       "      <td>1</td>\n",
       "      <td>GN</td>\n",
       "    </tr>\n",
       "    <tr>\n",
       "      <th>879267</th>\n",
       "      <td>1830570</td>\n",
       "      <td>2020-12-31</td>\n",
       "      <td>BB</td>\n",
       "      <td>82433</td>\n",
       "      <td>B</td>\n",
       "      <td>2020-12-31</td>\n",
       "      <td>1</td>\n",
       "      <td>CY</td>\n",
       "    </tr>\n",
       "    <tr>\n",
       "      <th>879268</th>\n",
       "      <td>1830580</td>\n",
       "      <td>2020-12-31</td>\n",
       "      <td>AA</td>\n",
       "      <td>92020</td>\n",
       "      <td>B</td>\n",
       "      <td>2020-12-31</td>\n",
       "      <td>1</td>\n",
       "      <td>JRR</td>\n",
       "    </tr>\n",
       "    <tr>\n",
       "      <th>879269</th>\n",
       "      <td>1830589</td>\n",
       "      <td>2020-12-31</td>\n",
       "      <td>BB</td>\n",
       "      <td>92437</td>\n",
       "      <td>B</td>\n",
       "      <td>2020-12-31</td>\n",
       "      <td>1</td>\n",
       "      <td>J</td>\n",
       "    </tr>\n",
       "    <tr>\n",
       "      <th>879270</th>\n",
       "      <td>1830598</td>\n",
       "      <td>2020-12-31</td>\n",
       "      <td>AA</td>\n",
       "      <td>220959</td>\n",
       "      <td>B</td>\n",
       "      <td>2020-12-31</td>\n",
       "      <td>1</td>\n",
       "      <td>SC</td>\n",
       "    </tr>\n",
       "  </tbody>\n",
       "</table>\n",
       "<p>879271 rows × 8 columns</p>\n",
       "</div>"
      ],
      "text/plain": [
       "        user_id   join_date d_type  store_id goods_type        date  count  \\\n",
       "0          2858  2014-01-07     AA      1892          A  2020-01-01      1   \n",
       "1          5647  2014-02-14     BB    182009          A  2020-01-01      1   \n",
       "2         33314  2014-11-20     BB     82431          A  2020-01-01      1   \n",
       "3         37001  2014-12-04     BB       725          C  2020-01-01      1   \n",
       "4         37819  2014-12-07     AA    220691          C  2020-01-01      1   \n",
       "...         ...         ...    ...       ...        ...         ...    ...   \n",
       "879266  1830551  2020-12-31     BB    219886          B  2020-12-31      1   \n",
       "879267  1830570  2020-12-31     BB     82433          B  2020-12-31      1   \n",
       "879268  1830580  2020-12-31     AA     92020          B  2020-12-31      1   \n",
       "879269  1830589  2020-12-31     BB     92437          B  2020-12-31      1   \n",
       "879270  1830598  2020-12-31     AA    220959          B  2020-12-31      1   \n",
       "\n",
       "        ad1  \n",
       "0        GN  \n",
       "1         J  \n",
       "2        SC  \n",
       "3        MP  \n",
       "4       JRR  \n",
       "...     ...  \n",
       "879266   GN  \n",
       "879267   CY  \n",
       "879268  JRR  \n",
       "879269    J  \n",
       "879270   SC  \n",
       "\n",
       "[879271 rows x 8 columns]"
      ]
     },
     "execution_count": 13,
     "metadata": {},
     "output_type": "execute_result"
    }
   ],
   "source": [
    "df"
   ]
  },
  {
   "cell_type": "code",
   "execution_count": 14,
   "metadata": {},
   "outputs": [],
   "source": [
    "df['date']=pd.to_datetime(df['date'])\n",
    "df['join_date']=pd.to_datetime(df['join_date'])"
   ]
  },
  {
   "cell_type": "code",
   "execution_count": 15,
   "metadata": {},
   "outputs": [],
   "source": [
    "weather['일시']=pd.to_datetime(weather['일시'])"
   ]
  },
  {
   "cell_type": "markdown",
   "metadata": {},
   "source": [
    "##### 컬럼 추가 : year month day dayofweek quarter\n"
   ]
  },
  {
   "cell_type": "code",
   "execution_count": 16,
   "metadata": {},
   "outputs": [],
   "source": [
    "df['year'] = df['date'].dt.year             # 년도\n",
    "df['month'] = df['date'].dt.month           # 월\n",
    "df['day'] = df['date'].dt.day               # 일자\n",
    "df['dayofweek'] = df['date'].dt.dayofweek   # 요일 : 0-6\n",
    "df['quarter'] = df['date'].dt.quarter       # 분기\n",
    "df['date']=df['date'].dt.date "
   ]
  },
  {
   "cell_type": "code",
   "execution_count": 17,
   "metadata": {},
   "outputs": [
    {
     "data": {
      "text/html": [
       "<div>\n",
       "<style scoped>\n",
       "    .dataframe tbody tr th:only-of-type {\n",
       "        vertical-align: middle;\n",
       "    }\n",
       "\n",
       "    .dataframe tbody tr th {\n",
       "        vertical-align: top;\n",
       "    }\n",
       "\n",
       "    .dataframe thead th {\n",
       "        text-align: right;\n",
       "    }\n",
       "</style>\n",
       "<table border=\"1\" class=\"dataframe\">\n",
       "  <thead>\n",
       "    <tr style=\"text-align: right;\">\n",
       "      <th></th>\n",
       "      <th>user_id</th>\n",
       "      <th>join_date</th>\n",
       "      <th>d_type</th>\n",
       "      <th>store_id</th>\n",
       "      <th>goods_type</th>\n",
       "      <th>date</th>\n",
       "      <th>count</th>\n",
       "      <th>ad1</th>\n",
       "      <th>year</th>\n",
       "      <th>month</th>\n",
       "      <th>day</th>\n",
       "      <th>dayofweek</th>\n",
       "      <th>quarter</th>\n",
       "    </tr>\n",
       "  </thead>\n",
       "  <tbody>\n",
       "    <tr>\n",
       "      <th>0</th>\n",
       "      <td>2858</td>\n",
       "      <td>2014-01-07</td>\n",
       "      <td>AA</td>\n",
       "      <td>1892</td>\n",
       "      <td>A</td>\n",
       "      <td>2020-01-01</td>\n",
       "      <td>1</td>\n",
       "      <td>GN</td>\n",
       "      <td>2020</td>\n",
       "      <td>1</td>\n",
       "      <td>1</td>\n",
       "      <td>2</td>\n",
       "      <td>1</td>\n",
       "    </tr>\n",
       "  </tbody>\n",
       "</table>\n",
       "</div>"
      ],
      "text/plain": [
       "   user_id  join_date d_type  store_id goods_type        date  count ad1  \\\n",
       "0     2858 2014-01-07     AA      1892          A  2020-01-01      1  GN   \n",
       "\n",
       "   year  month  day  dayofweek  quarter  \n",
       "0  2020      1    1          2        1  "
      ]
     },
     "execution_count": 17,
     "metadata": {},
     "output_type": "execute_result"
    }
   ],
   "source": [
    "df.head(1)"
   ]
  },
  {
   "cell_type": "code",
   "execution_count": 17,
   "metadata": {
    "scrolled": true
   },
   "outputs": [
    {
     "data": {
      "text/plain": [
       "(879271, 13)"
      ]
     },
     "execution_count": 17,
     "metadata": {},
     "output_type": "execute_result"
    }
   ],
   "source": [
    "df.shape"
   ]
  },
  {
   "cell_type": "code",
   "execution_count": 18,
   "metadata": {
    "scrolled": false
   },
   "outputs": [
    {
     "name": "stdout",
     "output_type": "stream",
     "text": [
      "<class 'pandas.core.frame.DataFrame'>\n",
      "RangeIndex: 879271 entries, 0 to 879270\n",
      "Data columns (total 13 columns):\n",
      " #   Column      Non-Null Count   Dtype         \n",
      "---  ------      --------------   -----         \n",
      " 0   user_id     879271 non-null  int64         \n",
      " 1   join_date   879271 non-null  datetime64[ns]\n",
      " 2   d_type      879271 non-null  object        \n",
      " 3   store_id    879271 non-null  int64         \n",
      " 4   goods_type  879271 non-null  object        \n",
      " 5   date        879271 non-null  datetime64[ns]\n",
      " 6   count       879271 non-null  int64         \n",
      " 7   ad1         879271 non-null  object        \n",
      " 8   year        879271 non-null  int64         \n",
      " 9   month       879271 non-null  int64         \n",
      " 10  day         879271 non-null  int64         \n",
      " 11  dayofweek   879271 non-null  int64         \n",
      " 12  quarter     879271 non-null  int64         \n",
      "dtypes: datetime64[ns](2), int64(8), object(3)\n",
      "memory usage: 87.2+ MB\n"
     ]
    }
   ],
   "source": [
    "df.info()"
   ]
  },
  {
   "cell_type": "code",
   "execution_count": 19,
   "metadata": {},
   "outputs": [
    {
     "data": {
      "text/plain": [
       "user_id       0\n",
       "join_date     0\n",
       "d_type        0\n",
       "store_id      0\n",
       "goods_type    0\n",
       "date          0\n",
       "count         0\n",
       "ad1           0\n",
       "year          0\n",
       "month         0\n",
       "day           0\n",
       "dayofweek     0\n",
       "quarter       0\n",
       "dtype: int64"
      ]
     },
     "execution_count": 19,
     "metadata": {},
     "output_type": "execute_result"
    }
   ],
   "source": [
    "df.isna().sum()"
   ]
  },
  {
   "cell_type": "code",
   "execution_count": 20,
   "metadata": {
    "scrolled": true
   },
   "outputs": [
    {
     "name": "stdout",
     "output_type": "stream",
     "text": [
      "데이터 기간 : 2020-01-01 00:00:00 ~ 2020-12-31 00:00:00\n"
     ]
    }
   ],
   "source": [
    "print('데이터 기간 :', df['date'].min() ,\"~\", df['date'].max())"
   ]
  },
  {
   "cell_type": "markdown",
   "metadata": {
    "heading_collapsed": true
   },
   "source": [
    "##### 컬럼추가 : isholiday"
   ]
  },
  {
   "cell_type": "code",
   "execution_count": 21,
   "metadata": {
    "hidden": true,
    "scrolled": true
   },
   "outputs": [
    {
     "data": {
      "text/html": [
       "<div>\n",
       "<style scoped>\n",
       "    .dataframe tbody tr th:only-of-type {\n",
       "        vertical-align: middle;\n",
       "    }\n",
       "\n",
       "    .dataframe tbody tr th {\n",
       "        vertical-align: top;\n",
       "    }\n",
       "\n",
       "    .dataframe thead th {\n",
       "        text-align: right;\n",
       "    }\n",
       "</style>\n",
       "<table border=\"1\" class=\"dataframe\">\n",
       "  <thead>\n",
       "    <tr style=\"text-align: right;\">\n",
       "      <th></th>\n",
       "      <th>date</th>\n",
       "      <th>isholiday</th>\n",
       "      <th>exp</th>\n",
       "    </tr>\n",
       "  </thead>\n",
       "  <tbody>\n",
       "    <tr>\n",
       "      <th>0</th>\n",
       "      <td>2020-01-01</td>\n",
       "      <td>1</td>\n",
       "      <td>새해</td>\n",
       "    </tr>\n",
       "    <tr>\n",
       "      <th>1</th>\n",
       "      <td>2020-01-02</td>\n",
       "      <td>0</td>\n",
       "      <td>평일</td>\n",
       "    </tr>\n",
       "    <tr>\n",
       "      <th>2</th>\n",
       "      <td>2020-01-03</td>\n",
       "      <td>0</td>\n",
       "      <td>평일</td>\n",
       "    </tr>\n",
       "    <tr>\n",
       "      <th>3</th>\n",
       "      <td>2020-01-04</td>\n",
       "      <td>1</td>\n",
       "      <td>주말</td>\n",
       "    </tr>\n",
       "    <tr>\n",
       "      <th>4</th>\n",
       "      <td>2020-01-05</td>\n",
       "      <td>1</td>\n",
       "      <td>주말</td>\n",
       "    </tr>\n",
       "  </tbody>\n",
       "</table>\n",
       "</div>"
      ],
      "text/plain": [
       "        date  isholiday exp\n",
       "0 2020-01-01          1  새해\n",
       "1 2020-01-02          0  평일\n",
       "2 2020-01-03          0  평일\n",
       "3 2020-01-04          1  주말\n",
       "4 2020-01-05          1  주말"
      ]
     },
     "execution_count": 21,
     "metadata": {},
     "output_type": "execute_result"
    }
   ],
   "source": [
    "df_holiday['isholiday'] = np.where(df_holiday.isholiday=='holiday',1,0)\n",
    "df_holiday.head()"
   ]
  },
  {
   "cell_type": "code",
   "execution_count": 22,
   "metadata": {
    "hidden": true
   },
   "outputs": [],
   "source": [
    "# 공휴일 변수 추가 \n",
    "df = df.merge(df_holiday[['date','isholiday']], on='date')"
   ]
  },
  {
   "cell_type": "markdown",
   "metadata": {},
   "source": [
    "### EDA\n",
    "***:필수**\n",
    "> Feature selection & generation\n",
    "> - 요일, 날짜 * (isholiday 구분변수?)\n",
    "> - 유저별 연간이용횟수 *\n",
    "> - 교통량 (성규, 준식)\n",
    "> - 기상 (동섭, 지인, 낙주)\n",
    "\n",
    "> 시계열 자료 \n",
    "> https://otexts.com/fppkr/tspatterns.html\n",
    "\n",
    "📍 요약\n",
    "> 1. User 이용횟수 \n",
    "    - 결제 횟수\n",
    "> 2. 요일\n",
    "> 3. Categorical \n",
    "    - goods_type\n",
    "    - ad1\n",
    "    - d_type\n",
    "    - store_id\n",
    "> 4. 외부변수 \n",
    "    - 날씨\n",
    "    - 교통량\n",
    "> 5. 파생변수\n",
    "    - Retention\n",
    "    - freq_cum 연간누적이용횟수"
   ]
  },
  {
   "cell_type": "markdown",
   "metadata": {},
   "source": [
    "#### 결제건수 count : Y"
   ]
  },
  {
   "cell_type": "code",
   "execution_count": 121,
   "metadata": {},
   "outputs": [
    {
     "data": {
      "text/plain": [
       "user_id    879271\n",
       "date       879271\n",
       "dtype: int64"
      ]
     },
     "execution_count": 121,
     "metadata": {},
     "output_type": "execute_result"
    }
   ],
   "source": [
    "# data = 유저별 일별 결제 내역\n",
    "df[['user_id','date']].count()"
   ]
  },
  {
   "cell_type": "code",
   "execution_count": 79,
   "metadata": {
    "scrolled": true
   },
   "outputs": [
    {
     "name": "stdout",
     "output_type": "stream",
     "text": [
      "전체 유저 수 : 165425\n"
     ]
    }
   ],
   "source": [
    "print('전체 유저 수 :', df['user_id'].nunique())"
   ]
  },
  {
   "cell_type": "code",
   "execution_count": 81,
   "metadata": {
    "scrolled": true
   },
   "outputs": [
    {
     "data": {
      "text/plain": [
       "user_id\n",
       "999665     7919\n",
       "1514190     284\n",
       "591610      245\n",
       "1467323     239\n",
       "1355841     235\n",
       "Name: count, dtype: int64"
      ]
     },
     "execution_count": 81,
     "metadata": {},
     "output_type": "execute_result"
    }
   ],
   "source": [
    "df.groupby('user_id')['count'].sum().sort_values(ascending=False).head()"
   ]
  },
  {
   "cell_type": "code",
   "execution_count": 93,
   "metadata": {
    "scrolled": false
   },
   "outputs": [
    {
     "data": {
      "text/plain": [
       "count    165425.000000\n",
       "mean          5.469784\n",
       "std          22.823610\n",
       "min           1.000000\n",
       "25%           1.000000\n",
       "50%           2.000000\n",
       "75%           4.000000\n",
       "max        7919.000000\n",
       "Name: count, dtype: float64"
      ]
     },
     "execution_count": 93,
     "metadata": {},
     "output_type": "execute_result"
    }
   ],
   "source": [
    "df.groupby('user_id')['count'].sum().describe()"
   ]
  },
  {
   "cell_type": "code",
   "execution_count": 119,
   "metadata": {},
   "outputs": [
    {
     "name": "stdout",
     "output_type": "stream",
     "text": [
      "전체 유저 수 : 165425\n",
      "1일 count(결제건수) 1인 유저 수: 164398\n",
      "1일 count(결제건수) 1이상인 유저 수: 8887\n"
     ]
    },
    {
     "data": {
      "text/plain": [
       "<matplotlib.axes._subplots.AxesSubplot at 0x136b5a8acc0>"
      ]
     },
     "execution_count": 119,
     "metadata": {},
     "output_type": "execute_result"
    },
    {
     "data": {
      "image/png": "[encoded data removed]",
      "text/plain": [
       "<Figure size 1080x360 with 2 Axes>"
      ]
     },
     "metadata": {},
     "output_type": "display_data"
    }
   ],
   "source": [
    "print('전체 유저 수 :', df['user_id'].nunique())\n",
    "print('1일 count(결제건수) 1인 유저 수:', df.query('count==1')['user_id'].nunique())\n",
    "print('1일 count(결제건수) 1이상인 유저 수:', df.query('count>1')['user_id'].nunique())\n",
    "\n",
    "fig, axes = plt.subplots(nrows=1, ncols=2,figsize=(15,5))\n",
    "df.query('count>5').groupby('count')['user_id'].nunique().plot(kind='bar', rot=0, ax=axes[0])\n",
    "df.query('count<=5').groupby('count')['user_id'].nunique().plot(kind='bar', rot=0, ax=axes[1])"
   ]
  },
  {
   "cell_type": "markdown",
   "metadata": {},
   "source": [
    "- 유저별 1일 결제 건수 중위값 2 \n",
    "- 유저별 1일 결제 건수  평균 5\n",
    "\n",
    "- **유저별 1일 결제 수 편차 크다, count=1인 값 대다수**"
   ]
  },
  {
   "cell_type": "markdown",
   "metadata": {},
   "source": [
    "#### ❌ 연간 이용 횟수 : freq\n",
    "- 유저별 연간 이용 횟수 (빈도) \n",
    "- 10-01 이후 시점 정보가 포함되어 사용하기 어려움"
   ]
  },
  {
   "cell_type": "code",
   "execution_count": 217,
   "metadata": {
    "scrolled": false
   },
   "outputs": [],
   "source": [
    "# df_user, df_user_freq\n",
    "eng = df.groupby(['user_id'])['date'].count().values\n",
    "users = df.groupby(['user_id'])['date'].count().index\n",
    "df_user = pd.DataFrame(eng,users).reset_index().rename(columns={0:'freq'})\n",
    "df_user_freq = df_user.groupby('freq')['user_id'].count().reset_index().rename(columns={'user_id':'count'})"
   ]
  },
  {
   "cell_type": "code",
   "execution_count": 236,
   "metadata": {
    "scrolled": true
   },
   "outputs": [],
   "source": [
    "# 분석 데이터셋에 유저별 이용횟수 merge : freq:: 전체기간동안 총 이용횟수\n",
    "df = df.merge(df_user, on='user_id', how='left')"
   ]
  },
  {
   "cell_type": "code",
   "execution_count": 399,
   "metadata": {},
   "outputs": [
    {
     "data": {
      "text/html": [
       "<div>\n",
       "<style scoped>\n",
       "    .dataframe tbody tr th:only-of-type {\n",
       "        vertical-align: middle;\n",
       "    }\n",
       "\n",
       "    .dataframe tbody tr th {\n",
       "        vertical-align: top;\n",
       "    }\n",
       "\n",
       "    .dataframe thead th {\n",
       "        text-align: right;\n",
       "    }\n",
       "</style>\n",
       "<table border=\"1\" class=\"dataframe\">\n",
       "  <thead>\n",
       "    <tr style=\"text-align: right;\">\n",
       "      <th></th>\n",
       "      <th>user_id</th>\n",
       "      <th>join_date</th>\n",
       "      <th>d_type</th>\n",
       "      <th>store_id</th>\n",
       "      <th>goods_type</th>\n",
       "      <th>date</th>\n",
       "      <th>count</th>\n",
       "      <th>ad1</th>\n",
       "      <th>year</th>\n",
       "      <th>month</th>\n",
       "      <th>day</th>\n",
       "      <th>dayofweek</th>\n",
       "      <th>quarter</th>\n",
       "      <th>hour</th>\n",
       "      <th>minute</th>\n",
       "      <th>freq</th>\n",
       "    </tr>\n",
       "  </thead>\n",
       "  <tbody>\n",
       "    <tr>\n",
       "      <th>0</th>\n",
       "      <td>2858</td>\n",
       "      <td>2014-01-07</td>\n",
       "      <td>AA</td>\n",
       "      <td>1892</td>\n",
       "      <td>A</td>\n",
       "      <td>2020-01-01</td>\n",
       "      <td>1</td>\n",
       "      <td>GN</td>\n",
       "      <td>2020</td>\n",
       "      <td>1</td>\n",
       "      <td>1</td>\n",
       "      <td>2</td>\n",
       "      <td>1</td>\n",
       "      <td>0</td>\n",
       "      <td>0</td>\n",
       "      <td>1</td>\n",
       "    </tr>\n",
       "  </tbody>\n",
       "</table>\n",
       "</div>"
      ],
      "text/plain": [
       "   user_id  join_date d_type  store_id goods_type       date  count ad1  year  \\\n",
       "0     2858 2014-01-07     AA      1892          A 2020-01-01      1  GN  2020   \n",
       "\n",
       "   month  day  dayofweek  quarter  hour  minute  freq  \n",
       "0      1    1          2        1     0       0     1  "
      ]
     },
     "execution_count": 399,
     "metadata": {},
     "output_type": "execute_result"
    }
   ],
   "source": [
    "df.head(1)"
   ]
  },
  {
   "cell_type": "code",
   "execution_count": 259,
   "metadata": {
    "scrolled": true
   },
   "outputs": [
    {
     "data": {
      "text/plain": [
       "<matplotlib.axes._subplots.AxesSubplot at 0x2a354f4d7f0>"
      ]
     },
     "execution_count": 259,
     "metadata": {},
     "output_type": "execute_result"
    },
    {
     "data": {
      "image/png": "[encoded data removed]",
      "text/plain": [
       "<Figure size 360x216 with 1 Axes>"
      ]
     },
     "metadata": {},
     "output_type": "display_data"
    }
   ],
   "source": [
    "df_user_freq.set_index('freq').plot(kind='pie',y='count', figsize=(5,3), legend=False)"
   ]
  },
  {
   "cell_type": "code",
   "execution_count": 406,
   "metadata": {
    "scrolled": true
   },
   "outputs": [
    {
     "data": {
      "text/html": [
       "<div>\n",
       "<style scoped>\n",
       "    .dataframe tbody tr th:only-of-type {\n",
       "        vertical-align: middle;\n",
       "    }\n",
       "\n",
       "    .dataframe tbody tr th {\n",
       "        vertical-align: top;\n",
       "    }\n",
       "\n",
       "    .dataframe thead th {\n",
       "        text-align: right;\n",
       "    }\n",
       "</style>\n",
       "<table border=\"1\" class=\"dataframe\">\n",
       "  <thead>\n",
       "    <tr style=\"text-align: right;\">\n",
       "      <th>freq</th>\n",
       "      <th>1</th>\n",
       "      <th>2</th>\n",
       "      <th>3</th>\n",
       "      <th>4</th>\n",
       "      <th>5</th>\n",
       "      <th>6</th>\n",
       "      <th>7</th>\n",
       "      <th>8</th>\n",
       "      <th>9</th>\n",
       "      <th>10</th>\n",
       "      <th>...</th>\n",
       "      <th>199</th>\n",
       "      <th>201</th>\n",
       "      <th>207</th>\n",
       "      <th>209</th>\n",
       "      <th>210</th>\n",
       "      <th>213</th>\n",
       "      <th>222</th>\n",
       "      <th>235</th>\n",
       "      <th>244</th>\n",
       "      <th>366</th>\n",
       "    </tr>\n",
       "  </thead>\n",
       "  <tbody>\n",
       "    <tr>\n",
       "      <th>count</th>\n",
       "      <td>74889</td>\n",
       "      <td>26675</td>\n",
       "      <td>14432</td>\n",
       "      <td>9185</td>\n",
       "      <td>6338</td>\n",
       "      <td>4717</td>\n",
       "      <td>3673</td>\n",
       "      <td>2860</td>\n",
       "      <td>2357</td>\n",
       "      <td>2002</td>\n",
       "      <td>...</td>\n",
       "      <td>2</td>\n",
       "      <td>1</td>\n",
       "      <td>2</td>\n",
       "      <td>1</td>\n",
       "      <td>1</td>\n",
       "      <td>1</td>\n",
       "      <td>3</td>\n",
       "      <td>1</td>\n",
       "      <td>1</td>\n",
       "      <td>1</td>\n",
       "    </tr>\n",
       "    <tr>\n",
       "      <th>class_freq</th>\n",
       "      <td>1</td>\n",
       "      <td>1</td>\n",
       "      <td>1</td>\n",
       "      <td>1</td>\n",
       "      <td>1</td>\n",
       "      <td>1</td>\n",
       "      <td>1</td>\n",
       "      <td>1</td>\n",
       "      <td>1</td>\n",
       "      <td>1</td>\n",
       "      <td>...</td>\n",
       "      <td>3</td>\n",
       "      <td>3</td>\n",
       "      <td>3</td>\n",
       "      <td>3</td>\n",
       "      <td>3</td>\n",
       "      <td>3</td>\n",
       "      <td>3</td>\n",
       "      <td>3</td>\n",
       "      <td>3</td>\n",
       "      <td>3</td>\n",
       "    </tr>\n",
       "  </tbody>\n",
       "</table>\n",
       "<p>2 rows × 194 columns</p>\n",
       "</div>"
      ],
      "text/plain": [
       "freq          1      2      3     4     5     6     7     8     9     10   \\\n",
       "count       74889  26675  14432  9185  6338  4717  3673  2860  2357  2002   \n",
       "class_freq      1      1      1     1     1     1     1     1     1     1   \n",
       "\n",
       "freq        ...  199  201  207  209  210  213  222  235  244  366  \n",
       "count       ...    2    1    2    1    1    1    3    1    1    1  \n",
       "class_freq  ...    3    3    3    3    3    3    3    3    3    3  \n",
       "\n",
       "[2 rows x 194 columns]"
      ]
     },
     "execution_count": 406,
     "metadata": {},
     "output_type": "execute_result"
    }
   ],
   "source": [
    "df_user_freq.set_index('freq').T"
   ]
  },
  {
   "cell_type": "code",
   "execution_count": 385,
   "metadata": {
    "scrolled": false
   },
   "outputs": [
    {
     "data": {
      "text/plain": [
       "count    879271.000000\n",
       "mean         30.947234\n",
       "std          38.325563\n",
       "min           1.000000\n",
       "25%           5.000000\n",
       "50%          16.000000\n",
       "75%          43.000000\n",
       "max         366.000000\n",
       "Name: freq, dtype: float64"
      ]
     },
     "execution_count": 385,
     "metadata": {},
     "output_type": "execute_result"
    }
   ],
   "source": [
    "df.freq.describe()"
   ]
  },
  {
   "cell_type": "markdown",
   "metadata": {},
   "source": [
    "**평균 30, 중위값 16 차이 큰 편 : 유저별 이용빈도 차이 크다**\n",
    "> - 이용빈도 class별 ?\n",
    "> - 이용빈도 1회 <-> 그 외 (returning) ?"
   ]
  },
  {
   "cell_type": "markdown",
   "metadata": {},
   "source": [
    "- 이용횟수 최대 366 : 1년 내내이용 > d_type only CC : 주거지 주차 공유?"
   ]
  },
  {
   "cell_type": "code",
   "execution_count": 422,
   "metadata": {
    "scrolled": true
   },
   "outputs": [
    {
     "name": "stdout",
     "output_type": "stream",
     "text": [
      "1년내내 이용 :  [999665] \n",
      "d_type :  ['CC'] \n",
      "store_id : 다양함 \n",
      "goods_type :  ['A' 'D' 'C']\n"
     ]
    }
   ],
   "source": [
    "print('1년내내 이용 : ', df.query('freq==366')['user_id'].unique(),'\\nd_type : ', df.query('freq==366')['d_type'].unique(),\n",
    "     '\\nstore_id : 다양함', #df.query('freq==366')['store_id'].unique(), \n",
    "    '\\ngoods_type : ', df.query('freq==366')['goods_type'].unique()    )"
   ]
  },
  {
   "cell_type": "code",
   "execution_count": 439,
   "metadata": {
    "scrolled": false
   },
   "outputs": [
    {
     "name": "stdout",
     "output_type": "stream",
     "text": [
      "200일 이상 이용 :  [ 999665  591610  612237 1144500 1224426 1355841 1201981 1365069 1407916\n",
      " 1284291  909315 1504815] \n",
      "d_type :\n",
      " AA    1754\n",
      "BB     638\n",
      "CC     366\n",
      "Name: d_type, dtype: int64 \n",
      "goods_type :\n",
      "  A    2608\n",
      "C      84\n",
      "B      40\n",
      "D      26\n",
      "Name: goods_type, dtype: int64 \n",
      "dayofweek :\n",
      " 1    504\n",
      "0    492\n",
      "2    485\n",
      "3    479\n",
      "4    447\n",
      "5    213\n",
      "6    138\n",
      "Name: dayofweek, dtype: int64\n"
     ]
    }
   ],
   "source": [
    "print('200일 이상 이용 : ', df.query('freq>200')['user_id'].unique(),\n",
    "      '\\nd_type :\\n', df.query('freq>200')['d_type'].value_counts(sort=True),\n",
    "     #'store_id :', df.query('freq==366')['store_id'].unique(), \n",
    "    '\\ngoods_type :\\n ', df.query('freq>200')['goods_type'].value_counts(),\n",
    "    '\\ndayofweek :\\n',df.query('freq>200')['dayofweek'].value_counts())"
   ]
  },
  {
   "cell_type": "code",
   "execution_count": 440,
   "metadata": {
    "scrolled": false
   },
   "outputs": [
    {
     "name": "stdout",
     "output_type": "stream",
     "text": [
      "200일 이상 이용 :  [   2858   80936   83850 ... 1830580 1830589 1830598] \n",
      "d_type :  AA    43004\n",
      "BB    31727\n",
      "CC      158\n",
      "Name: d_type, dtype: int64 \n",
      "goods_type :\n",
      " A    40387\n",
      "C    17427\n",
      "B    14275\n",
      "D     2800\n",
      "Name: goods_type, dtype: int64 \n",
      "dayofweek :\n",
      " 5    19563\n",
      "6    12193\n",
      "4    11657\n",
      "3     8844\n",
      "2     8097\n",
      "1     7730\n",
      "0     6805\n",
      "Name: dayofweek, dtype: int64\n"
     ]
    }
   ],
   "source": [
    "print('200일 이상 이용 : ', df.query('freq==1')['user_id'].unique(),\n",
    "      '\\nd_type : ', df.query('freq==1')['d_type'].value_counts(sort=True),\n",
    "     #'store_id :', df.query('freq==366')['store_id'].unique(), \n",
    "    '\\ngoods_type :\\n', df.query('freq==1')['goods_type'].value_counts(sort=True),\n",
    "    '\\ndayofweek :\\n',df.query('freq==1')['dayofweek'].value_counts())"
   ]
  },
  {
   "cell_type": "markdown",
   "metadata": {},
   "source": [
    "**이용빈도가 높을수록 평일에 집중되어 있음**"
   ]
  },
  {
   "cell_type": "markdown",
   "metadata": {
    "heading_collapsed": true
   },
   "source": [
    "##### 연간 이용횟수별로 요일/Categorical 차이?"
   ]
  },
  {
   "cell_type": "markdown",
   "metadata": {
    "hidden": true
   },
   "source": [
    "> **연간 이용횟수 1회인 유저 VS 연간 이용횟수 30회(평균)이상 유저**"
   ]
  },
  {
   "cell_type": "code",
   "execution_count": 401,
   "metadata": {
    "hidden": true,
    "scrolled": false
   },
   "outputs": [
    {
     "data": {
      "text/plain": [
       "<matplotlib.axes._subplots.AxesSubplot at 0x2a39600dcc0>"
      ]
     },
     "execution_count": 401,
     "metadata": {},
     "output_type": "execute_result"
    },
    {
     "data": {
      "image/png": "[encoded data removed]",
      "text/plain": [
       "<Figure size 1152x576 with 6 Axes>"
      ]
     },
     "metadata": {
      "needs_background": "light"
     },
     "output_type": "display_data"
    }
   ],
   "source": [
    "fig, axes = plt.subplots(nrows=3, ncols=2,figsize=(16,8))\n",
    "df.query('freq==1').groupby('dayofweek')['user_id'].nunique().plot(kind='bar',rot=0, ax=axes[0,0])\n",
    "df.query('freq==1').pivot_table(index='dayofweek', \n",
    "               columns ='d_type', \n",
    "               values='user_id', \n",
    "               aggfunc='count').plot(kind='bar', rot=0, ax=axes[1,0])\n",
    "df.query('freq==1').pivot_table(index='dayofweek', \n",
    "               columns ='goods_type', \n",
    "               values='user_id', \n",
    "               aggfunc='count').plot(kind='bar', rot=0, ax=axes[2,0])\n",
    "df.query('freq>30').groupby('dayofweek')['user_id'].nunique().plot(kind='bar',rot=0, ax=axes[0,1])\n",
    "df.query('freq>30').pivot_table(index='dayofweek', \n",
    "               columns ='d_type', \n",
    "               values='user_id', \n",
    "               aggfunc='count').plot(kind='bar', rot=0, ax=axes[1,1])\n",
    "df.query('freq>30').pivot_table(index='dayofweek', \n",
    "               columns ='goods_type', \n",
    "               values='user_id', \n",
    "               aggfunc='count').plot(kind='bar', rot=0, ax=axes[2,1])"
   ]
  },
  {
   "cell_type": "markdown",
   "metadata": {
    "hidden": true
   },
   "source": [
    "**연간 이용횟수 1회인 유저**\n",
    "- 1회인 유저는 주로 토요일 집중(대세와 일치)\n",
    "\n",
    "**30회(평균)이상인 유저**\n",
    "- 평일에 집중\n",
    "- goods_type A에 집중 > A가 평일 당일권이 아닐까?\n",
    "- goods_type:D 거의 없음\n",
    "\n",
    "\n",
    "**공통 특징: d_type CC없음**"
   ]
  },
  {
   "cell_type": "markdown",
   "metadata": {
    "hidden": true
   },
   "source": [
    "> **연간 이용횟수 46회이상인 유저(상위 25%)**"
   ]
  },
  {
   "cell_type": "code",
   "execution_count": 404,
   "metadata": {
    "hidden": true,
    "scrolled": false
   },
   "outputs": [
    {
     "data": {
      "text/plain": [
       "<matplotlib.axes._subplots.AxesSubplot at 0x2a39607f470>"
      ]
     },
     "execution_count": 404,
     "metadata": {},
     "output_type": "execute_result"
    },
    {
     "data": {
      "image/png": "[encoded data removed]",
      "text/plain": [
       "<Figure size 576x576 with 3 Axes>"
      ]
     },
     "metadata": {
      "needs_background": "light"
     },
     "output_type": "display_data"
    }
   ],
   "source": [
    "fig, axes = plt.subplots(nrows=3, ncols=1,figsize=(8,8))\n",
    "df.query('freq>=46').groupby('dayofweek')['user_id'].nunique().plot(kind='bar',rot=0, ax=axes[0])\n",
    "df.query('freq>=46').pivot_table(index='dayofweek', \n",
    "               columns ='d_type', \n",
    "               values='user_id', \n",
    "               aggfunc='count').plot(kind='bar', rot=0, ax=axes[1])\n",
    "df.query('freq>=46').pivot_table(index='dayofweek', \n",
    "               columns ='goods_type', \n",
    "               values='user_id', \n",
    "               aggfunc='count').plot(kind='bar', rot=0, ax=axes[2])"
   ]
  },
  {
   "cell_type": "markdown",
   "metadata": {},
   "source": [
    "#### ⭕️ 누적 이용 횟수 : freq_cum\n",
    "- 유저별 결제시점까지의 누적 이용 횟수 (빈도)\n",
    "- 결제시점까지의 정보만 포함 > 파생변수로 포함"
   ]
  },
  {
   "cell_type": "code",
   "execution_count": 365,
   "metadata": {
    "scrolled": true
   },
   "outputs": [],
   "source": [
    "# user_id별 date별 sorting\n",
    "df_l = df.sort_values(['user_id','date']).reset_index(drop=True)\n",
    "\n",
    "# lead > shift(-1)\n",
    "# user_id별 다음 이용일자 정보\n",
    "df_l['next'] = df_l.sort_values(['user_id','date']).groupby('user_id')['date'].shift(-1)\n",
    "\n",
    "# lag > shift(1)\n",
    "# user_id별 다음 이용일자 정보\n",
    "df_l['before'] = df_l.sort_values(['user_id','date']).groupby('user_id')['date'].shift(1)\n",
    "\n",
    "# 결제 시점까지의 누적 이용 횟수 : freq_cum\n",
    "# pd.DataFrame(df_l.groupby(['user_id','date'])['before'].count()).groupby('user_id')['before'].cumsum()[0:10]\n",
    "df_l['freq_cum'] = pd.DataFrame(df_l.groupby(['user_id','date'])['before'].count()).groupby('user_id')['before'].cumsum().values"
   ]
  },
  {
   "cell_type": "code",
   "execution_count": 366,
   "metadata": {
    "scrolled": true
   },
   "outputs": [
    {
     "data": {
      "text/html": [
       "<div>\n",
       "<style scoped>\n",
       "    .dataframe tbody tr th:only-of-type {\n",
       "        vertical-align: middle;\n",
       "    }\n",
       "\n",
       "    .dataframe tbody tr th {\n",
       "        vertical-align: top;\n",
       "    }\n",
       "\n",
       "    .dataframe thead th {\n",
       "        text-align: right;\n",
       "    }\n",
       "</style>\n",
       "<table border=\"1\" class=\"dataframe\">\n",
       "  <thead>\n",
       "    <tr style=\"text-align: right;\">\n",
       "      <th></th>\n",
       "      <th>user_id</th>\n",
       "      <th>date</th>\n",
       "      <th>next</th>\n",
       "      <th>before</th>\n",
       "      <th>freq_cum</th>\n",
       "    </tr>\n",
       "  </thead>\n",
       "  <tbody>\n",
       "    <tr>\n",
       "      <th>0</th>\n",
       "      <td>224</td>\n",
       "      <td>2020-01-12</td>\n",
       "      <td>2020-12-09</td>\n",
       "      <td>NaT</td>\n",
       "      <td>0</td>\n",
       "    </tr>\n",
       "    <tr>\n",
       "      <th>1</th>\n",
       "      <td>224</td>\n",
       "      <td>2020-12-09</td>\n",
       "      <td>NaT</td>\n",
       "      <td>2020-01-12</td>\n",
       "      <td>1</td>\n",
       "    </tr>\n",
       "    <tr>\n",
       "      <th>2</th>\n",
       "      <td>232</td>\n",
       "      <td>2020-01-19</td>\n",
       "      <td>2020-01-26</td>\n",
       "      <td>NaT</td>\n",
       "      <td>0</td>\n",
       "    </tr>\n",
       "  </tbody>\n",
       "</table>\n",
       "</div>"
      ],
      "text/plain": [
       "   user_id       date       next     before  freq_cum\n",
       "0      224 2020-01-12 2020-12-09        NaT         0\n",
       "1      224 2020-12-09        NaT 2020-01-12         1\n",
       "2      232 2020-01-19 2020-01-26        NaT         0"
      ]
     },
     "execution_count": 366,
     "metadata": {},
     "output_type": "execute_result"
    }
   ],
   "source": [
    "df_l=df_l[['user_id','date','next','before','freq_cum']]\n",
    "df_l.head(3)"
   ]
  },
  {
   "cell_type": "markdown",
   "metadata": {},
   "source": [
    "##### 누적 이용 횟수 변수 취합"
   ]
  },
  {
   "cell_type": "code",
   "execution_count": 167,
   "metadata": {
    "scrolled": true
   },
   "outputs": [
    {
     "name": "stdout",
     "output_type": "stream",
     "text": [
      "(879271, 13)\n",
      "(879271, 5)\n"
     ]
    }
   ],
   "source": [
    "print(df.shape)\n",
    "print(df_l.shape)"
   ]
  },
  {
   "cell_type": "code",
   "execution_count": 168,
   "metadata": {},
   "outputs": [],
   "source": [
    "df = df.merge(df_l, on=['date','user_id'], how='left')"
   ]
  },
  {
   "cell_type": "code",
   "execution_count": 169,
   "metadata": {
    "scrolled": false
   },
   "outputs": [
    {
     "data": {
      "text/html": [
       "<div>\n",
       "<style scoped>\n",
       "    .dataframe tbody tr th:only-of-type {\n",
       "        vertical-align: middle;\n",
       "    }\n",
       "\n",
       "    .dataframe tbody tr th {\n",
       "        vertical-align: top;\n",
       "    }\n",
       "\n",
       "    .dataframe thead th {\n",
       "        text-align: right;\n",
       "    }\n",
       "</style>\n",
       "<table border=\"1\" class=\"dataframe\">\n",
       "  <thead>\n",
       "    <tr style=\"text-align: right;\">\n",
       "      <th></th>\n",
       "      <th>user_id</th>\n",
       "      <th>join_date</th>\n",
       "      <th>d_type</th>\n",
       "      <th>store_id</th>\n",
       "      <th>goods_type</th>\n",
       "      <th>date</th>\n",
       "      <th>count</th>\n",
       "      <th>ad1</th>\n",
       "      <th>year</th>\n",
       "      <th>month</th>\n",
       "      <th>day</th>\n",
       "      <th>dayofweek</th>\n",
       "      <th>quarter</th>\n",
       "      <th>next</th>\n",
       "      <th>before</th>\n",
       "      <th>freq_cum</th>\n",
       "    </tr>\n",
       "  </thead>\n",
       "  <tbody>\n",
       "    <tr>\n",
       "      <th>0</th>\n",
       "      <td>2858</td>\n",
       "      <td>2014-01-07</td>\n",
       "      <td>AA</td>\n",
       "      <td>1892</td>\n",
       "      <td>A</td>\n",
       "      <td>2020-01-01</td>\n",
       "      <td>1</td>\n",
       "      <td>GN</td>\n",
       "      <td>2020</td>\n",
       "      <td>1</td>\n",
       "      <td>1</td>\n",
       "      <td>2</td>\n",
       "      <td>1</td>\n",
       "      <td>NaN</td>\n",
       "      <td>NaN</td>\n",
       "      <td>0</td>\n",
       "    </tr>\n",
       "    <tr>\n",
       "      <th>1</th>\n",
       "      <td>5647</td>\n",
       "      <td>2014-02-14</td>\n",
       "      <td>BB</td>\n",
       "      <td>182009</td>\n",
       "      <td>A</td>\n",
       "      <td>2020-01-01</td>\n",
       "      <td>1</td>\n",
       "      <td>J</td>\n",
       "      <td>2020</td>\n",
       "      <td>1</td>\n",
       "      <td>1</td>\n",
       "      <td>2</td>\n",
       "      <td>1</td>\n",
       "      <td>2020-02-10</td>\n",
       "      <td>NaN</td>\n",
       "      <td>0</td>\n",
       "    </tr>\n",
       "    <tr>\n",
       "      <th>2</th>\n",
       "      <td>33314</td>\n",
       "      <td>2014-11-20</td>\n",
       "      <td>BB</td>\n",
       "      <td>82431</td>\n",
       "      <td>A</td>\n",
       "      <td>2020-01-01</td>\n",
       "      <td>1</td>\n",
       "      <td>SC</td>\n",
       "      <td>2020</td>\n",
       "      <td>1</td>\n",
       "      <td>1</td>\n",
       "      <td>2</td>\n",
       "      <td>1</td>\n",
       "      <td>2020-05-01</td>\n",
       "      <td>NaN</td>\n",
       "      <td>0</td>\n",
       "    </tr>\n",
       "    <tr>\n",
       "      <th>3</th>\n",
       "      <td>37001</td>\n",
       "      <td>2014-12-04</td>\n",
       "      <td>BB</td>\n",
       "      <td>725</td>\n",
       "      <td>C</td>\n",
       "      <td>2020-01-01</td>\n",
       "      <td>1</td>\n",
       "      <td>MP</td>\n",
       "      <td>2020</td>\n",
       "      <td>1</td>\n",
       "      <td>1</td>\n",
       "      <td>2</td>\n",
       "      <td>1</td>\n",
       "      <td>2020-01-11</td>\n",
       "      <td>NaN</td>\n",
       "      <td>0</td>\n",
       "    </tr>\n",
       "    <tr>\n",
       "      <th>4</th>\n",
       "      <td>37819</td>\n",
       "      <td>2014-12-07</td>\n",
       "      <td>AA</td>\n",
       "      <td>220691</td>\n",
       "      <td>C</td>\n",
       "      <td>2020-01-01</td>\n",
       "      <td>1</td>\n",
       "      <td>JRR</td>\n",
       "      <td>2020</td>\n",
       "      <td>1</td>\n",
       "      <td>1</td>\n",
       "      <td>2</td>\n",
       "      <td>1</td>\n",
       "      <td>2020-07-12</td>\n",
       "      <td>NaN</td>\n",
       "      <td>0</td>\n",
       "    </tr>\n",
       "  </tbody>\n",
       "</table>\n",
       "</div>"
      ],
      "text/plain": [
       "   user_id  join_date d_type  store_id goods_type        date  count  ad1  \\\n",
       "0     2858 2014-01-07     AA      1892          A  2020-01-01      1   GN   \n",
       "1     5647 2014-02-14     BB    182009          A  2020-01-01      1    J   \n",
       "2    33314 2014-11-20     BB     82431          A  2020-01-01      1   SC   \n",
       "3    37001 2014-12-04     BB       725          C  2020-01-01      1   MP   \n",
       "4    37819 2014-12-07     AA    220691          C  2020-01-01      1  JRR   \n",
       "\n",
       "   year  month  day  dayofweek  quarter        next before  freq_cum  \n",
       "0  2020      1    1          2        1         NaN    NaN         0  \n",
       "1  2020      1    1          2        1  2020-02-10    NaN         0  \n",
       "2  2020      1    1          2        1  2020-05-01    NaN         0  \n",
       "3  2020      1    1          2        1  2020-01-11    NaN         0  \n",
       "4  2020      1    1          2        1  2020-07-12    NaN         0  "
      ]
     },
     "execution_count": 169,
     "metadata": {},
     "output_type": "execute_result"
    }
   ],
   "source": [
    "df.head()"
   ]
  },
  {
   "cell_type": "markdown",
   "metadata": {},
   "source": [
    "#### ⭕️ 이전 결제일자와 차이 : visit_lag"
   ]
  },
  {
   "cell_type": "code",
   "execution_count": 639,
   "metadata": {},
   "outputs": [],
   "source": [
    "df['date']=pd.to_datetime(df['date']).dt.date \n",
    "df['before']=pd.to_datetime(df['before']).dt.date \n",
    "df['visit_lag']=df.date-df.before\n",
    "df['visit_lag']=df.visit_lag/np.timedelta64(1,'M')\n",
    "df['visit_lag'] = df['visit_lag'].fillna(0).apply(lambda x : round(x,0)).astype(int)"
   ]
  },
  {
   "cell_type": "markdown",
   "metadata": {},
   "source": [
    "#### ⭕️ 누적 이용횟수 클래스  : freq_cum_class"
   ]
  },
  {
   "cell_type": "code",
   "execution_count": 384,
   "metadata": {},
   "outputs": [],
   "source": [
    "df_all = df.copy()"
   ]
  },
  {
   "cell_type": "code",
   "execution_count": 496,
   "metadata": {
    "scrolled": true
   },
   "outputs": [
    {
     "data": {
      "text/html": [
       "<div>\n",
       "<style scoped>\n",
       "    .dataframe tbody tr th:only-of-type {\n",
       "        vertical-align: middle;\n",
       "    }\n",
       "\n",
       "    .dataframe tbody tr th {\n",
       "        vertical-align: top;\n",
       "    }\n",
       "\n",
       "    .dataframe thead th {\n",
       "        text-align: right;\n",
       "    }\n",
       "</style>\n",
       "<table border=\"1\" class=\"dataframe\">\n",
       "  <thead>\n",
       "    <tr style=\"text-align: right;\">\n",
       "      <th></th>\n",
       "      <th>user_id</th>\n",
       "      <th>join_date</th>\n",
       "      <th>d_type</th>\n",
       "      <th>store_id</th>\n",
       "      <th>goods_type</th>\n",
       "      <th>date</th>\n",
       "      <th>count</th>\n",
       "      <th>ad1</th>\n",
       "      <th>year</th>\n",
       "      <th>month</th>\n",
       "      <th>...</th>\n",
       "      <th>freq_cum_class</th>\n",
       "      <th>min_temp</th>\n",
       "      <th>max_temp</th>\n",
       "      <th>diff_temp</th>\n",
       "      <th>강수량</th>\n",
       "      <th>적설량</th>\n",
       "      <th>discomfort</th>\n",
       "      <th>israiny</th>\n",
       "      <th>eng</th>\n",
       "      <th>join_year</th>\n",
       "    </tr>\n",
       "  </thead>\n",
       "  <tbody>\n",
       "    <tr>\n",
       "      <th>0</th>\n",
       "      <td>2858</td>\n",
       "      <td>2014-01-07</td>\n",
       "      <td>AA</td>\n",
       "      <td>1892</td>\n",
       "      <td>A</td>\n",
       "      <td>2020-01-01</td>\n",
       "      <td>1</td>\n",
       "      <td>GN</td>\n",
       "      <td>2020</td>\n",
       "      <td>1</td>\n",
       "      <td>...</td>\n",
       "      <td>1</td>\n",
       "      <td>-5.9</td>\n",
       "      <td>0.3</td>\n",
       "      <td>6.2</td>\n",
       "      <td>0.1</td>\n",
       "      <td>0.0</td>\n",
       "      <td>35.90072</td>\n",
       "      <td>1</td>\n",
       "      <td>6</td>\n",
       "      <td>2014</td>\n",
       "    </tr>\n",
       "    <tr>\n",
       "      <th>1</th>\n",
       "      <td>5647</td>\n",
       "      <td>2014-02-14</td>\n",
       "      <td>BB</td>\n",
       "      <td>182009</td>\n",
       "      <td>A</td>\n",
       "      <td>2020-01-01</td>\n",
       "      <td>1</td>\n",
       "      <td>J</td>\n",
       "      <td>2020</td>\n",
       "      <td>1</td>\n",
       "      <td>...</td>\n",
       "      <td>1</td>\n",
       "      <td>-5.9</td>\n",
       "      <td>0.3</td>\n",
       "      <td>6.2</td>\n",
       "      <td>0.1</td>\n",
       "      <td>0.0</td>\n",
       "      <td>35.90072</td>\n",
       "      <td>1</td>\n",
       "      <td>6</td>\n",
       "      <td>2014</td>\n",
       "    </tr>\n",
       "    <tr>\n",
       "      <th>2</th>\n",
       "      <td>33314</td>\n",
       "      <td>2014-11-20</td>\n",
       "      <td>BB</td>\n",
       "      <td>82431</td>\n",
       "      <td>A</td>\n",
       "      <td>2020-01-01</td>\n",
       "      <td>1</td>\n",
       "      <td>SC</td>\n",
       "      <td>2020</td>\n",
       "      <td>1</td>\n",
       "      <td>...</td>\n",
       "      <td>1</td>\n",
       "      <td>-5.9</td>\n",
       "      <td>0.3</td>\n",
       "      <td>6.2</td>\n",
       "      <td>0.1</td>\n",
       "      <td>0.0</td>\n",
       "      <td>35.90072</td>\n",
       "      <td>1</td>\n",
       "      <td>6</td>\n",
       "      <td>2014</td>\n",
       "    </tr>\n",
       "    <tr>\n",
       "      <th>3</th>\n",
       "      <td>37001</td>\n",
       "      <td>2014-12-04</td>\n",
       "      <td>BB</td>\n",
       "      <td>725</td>\n",
       "      <td>C</td>\n",
       "      <td>2020-01-01</td>\n",
       "      <td>1</td>\n",
       "      <td>MP</td>\n",
       "      <td>2020</td>\n",
       "      <td>1</td>\n",
       "      <td>...</td>\n",
       "      <td>1</td>\n",
       "      <td>-5.9</td>\n",
       "      <td>0.3</td>\n",
       "      <td>6.2</td>\n",
       "      <td>0.1</td>\n",
       "      <td>0.0</td>\n",
       "      <td>35.90072</td>\n",
       "      <td>1</td>\n",
       "      <td>6</td>\n",
       "      <td>2014</td>\n",
       "    </tr>\n",
       "    <tr>\n",
       "      <th>4</th>\n",
       "      <td>37819</td>\n",
       "      <td>2014-12-07</td>\n",
       "      <td>AA</td>\n",
       "      <td>220691</td>\n",
       "      <td>C</td>\n",
       "      <td>2020-01-01</td>\n",
       "      <td>1</td>\n",
       "      <td>JRR</td>\n",
       "      <td>2020</td>\n",
       "      <td>1</td>\n",
       "      <td>...</td>\n",
       "      <td>1</td>\n",
       "      <td>-5.9</td>\n",
       "      <td>0.3</td>\n",
       "      <td>6.2</td>\n",
       "      <td>0.1</td>\n",
       "      <td>0.0</td>\n",
       "      <td>35.90072</td>\n",
       "      <td>1</td>\n",
       "      <td>6</td>\n",
       "      <td>2014</td>\n",
       "    </tr>\n",
       "  </tbody>\n",
       "</table>\n",
       "<p>5 rows × 26 columns</p>\n",
       "</div>"
      ],
      "text/plain": [
       "   user_id  join_date d_type  store_id goods_type       date  count  ad1  \\\n",
       "0     2858 2014-01-07     AA      1892          A 2020-01-01      1   GN   \n",
       "1     5647 2014-02-14     BB    182009          A 2020-01-01      1    J   \n",
       "2    33314 2014-11-20     BB     82431          A 2020-01-01      1   SC   \n",
       "3    37001 2014-12-04     BB       725          C 2020-01-01      1   MP   \n",
       "4    37819 2014-12-07     AA    220691          C 2020-01-01      1  JRR   \n",
       "\n",
       "   year  month  ...  freq_cum_class  min_temp  max_temp diff_temp  강수량  적설량  \\\n",
       "0  2020      1  ...               1      -5.9       0.3       6.2  0.1  0.0   \n",
       "1  2020      1  ...               1      -5.9       0.3       6.2  0.1  0.0   \n",
       "2  2020      1  ...               1      -5.9       0.3       6.2  0.1  0.0   \n",
       "3  2020      1  ...               1      -5.9       0.3       6.2  0.1  0.0   \n",
       "4  2020      1  ...               1      -5.9       0.3       6.2  0.1  0.0   \n",
       "\n",
       "  discomfort  israiny  eng  join_year  \n",
       "0   35.90072        1    6       2014  \n",
       "1   35.90072        1    6       2014  \n",
       "2   35.90072        1    6       2014  \n",
       "3   35.90072        1    6       2014  \n",
       "4   35.90072        1    6       2014  \n",
       "\n",
       "[5 rows x 26 columns]"
      ]
     },
     "execution_count": 496,
     "metadata": {},
     "output_type": "execute_result"
    }
   ],
   "source": [
    "df_all.head()"
   ]
  },
  {
   "cell_type": "code",
   "execution_count": 495,
   "metadata": {},
   "outputs": [],
   "source": [
    "# 999665 이상치 제외\n",
    "df=df.query('user_id!=999665').reset_index(drop=True)"
   ]
  },
  {
   "cell_type": "code",
   "execution_count": 386,
   "metadata": {
    "scrolled": true
   },
   "outputs": [
    {
     "data": {
      "text/plain": [
       "count    878905.000000\n",
       "mean         14.903854\n",
       "std          23.521066\n",
       "min           0.000000\n",
       "25%           1.000000\n",
       "50%           5.000000\n",
       "75%          18.000000\n",
       "max         243.000000\n",
       "Name: freq_cum, dtype: float64"
      ]
     },
     "execution_count": 386,
     "metadata": {},
     "output_type": "execute_result"
    }
   ],
   "source": [
    "df['freq_cum'].describe()"
   ]
  },
  {
   "cell_type": "code",
   "execution_count": 375,
   "metadata": {},
   "outputs": [
    {
     "data": {
      "text/plain": [
       "821958        224\n",
       "18802         224\n",
       "763324        232\n",
       "429676        232\n",
       "242831        232\n",
       "           ...   \n",
       "879266    1830551\n",
       "879267    1830570\n",
       "879268    1830580\n",
       "879269    1830589\n",
       "879270    1830598\n",
       "Name: user_id, Length: 879271, dtype: int64"
      ]
     },
     "execution_count": 375,
     "metadata": {},
     "output_type": "execute_result"
    }
   ],
   "source": [
    "df.user_id.sort_values()"
   ]
  },
  {
   "cell_type": "code",
   "execution_count": 518,
   "metadata": {
    "scrolled": false
   },
   "outputs": [
    {
     "name": "stdout",
     "output_type": "stream",
     "text": [
      "1    255959\n",
      "3    218302\n",
      "4    217208\n",
      "2    187436\n",
      "Name: freq_cum_class, dtype: int64\n"
     ]
    },
    {
     "data": {
      "text/plain": [
       "<matplotlib.axes._subplots.AxesSubplot at 0x13718c03fd0>"
      ]
     },
     "execution_count": 518,
     "metadata": {},
     "output_type": "execute_result"
    },
    {
     "data": {
      "image/png": "[encoded data removed]",
      "text/plain": [
       "<Figure size 576x288 with 1 Axes>"
      ]
     },
     "metadata": {},
     "output_type": "display_data"
    }
   ],
   "source": [
    "# 4개 클래스로 분류 \n",
    "df['freq_cum_class']  = pd.qcut(df['freq_cum'], 4, labels=range(1,5))\n",
    "print(df.freq_cum_class.value_counts())\n",
    "df.groupby('freq_cum_class')[['user_id','date']].count().plot(kind='bar',rot=0, figsize=(8,4))"
   ]
  },
  {
   "cell_type": "code",
   "execution_count": 536,
   "metadata": {
    "scrolled": false
   },
   "outputs": [
    {
     "data": {
      "text/plain": [
       "<matplotlib.axes._subplots.AxesSubplot at 0x137d7f88e10>"
      ]
     },
     "execution_count": 536,
     "metadata": {},
     "output_type": "execute_result"
    },
    {
     "data": {
      "image/png": "[encoded data removed]",
      "text/plain": [
       "<Figure size 504x288 with 1 Axes>"
      ]
     },
     "metadata": {},
     "output_type": "display_data"
    }
   ],
   "source": [
    "# 클래스 분류 확인\n",
    "plt.figure(figsize = (7,4))\n",
    "sns.boxplot(data=df, x=\"freq_cum_class\", y=\"freq_cum\")"
   ]
  },
  {
   "cell_type": "code",
   "execution_count": 391,
   "metadata": {},
   "outputs": [
    {
     "data": {
      "text/plain": [
       "[1, 2, 3, 4]\n",
       "Categories (4, int64): [1 < 2 < 3 < 4]"
      ]
     },
     "execution_count": 391,
     "metadata": {},
     "output_type": "execute_result"
    }
   ],
   "source": [
    "df['freq_cum_class'].unique()"
   ]
  },
  {
   "cell_type": "code",
   "execution_count": 393,
   "metadata": {},
   "outputs": [
    {
     "data": {
      "image/png": "[encoded data removed]",
      "text/plain": [
       "<Figure size 936x504 with 4 Axes>"
      ]
     },
     "metadata": {},
     "output_type": "display_data"
    }
   ],
   "source": [
    "fig, axes = plt.subplots(nrows=2, ncols=2,figsize=(13,7), sharey=True, sharex=True)\n",
    "fig.suptitle('누적이용횟수클래스(1-4) 요일별 결제건수(count) 합계', fontsize=15)\n",
    "df.query('freq_cum_class==1').pivot_table(index='dayofweek', \n",
    "               values='count', \n",
    "               aggfunc='sum').plot(kind='bar', rot=0, ax=axes[0,0], title='클래스 1')\n",
    "df.query('freq_cum_class==2').pivot_table(index='dayofweek', \n",
    "               values='count', \n",
    "               aggfunc='sum').plot(kind='bar', rot=0, ax=axes[0,1], title='클래스 2' )\n",
    "df.query('freq_cum_class==3').pivot_table(index='dayofweek', \n",
    "               values='count', \n",
    "               aggfunc='sum').plot(kind='bar', rot=0, ax=axes[1,0], title='클래스 3')\n",
    "df.query('freq_cum_class==4').pivot_table(index='dayofweek', \n",
    "               values='count', \n",
    "               aggfunc='sum').plot(kind='bar', rot=0, ax=axes[1,1], title='클래스 4')\n",
    "fig.tight_layout()\n",
    "fig.subplots_adjust(top=0.85)"
   ]
  },
  {
   "cell_type": "code",
   "execution_count": 394,
   "metadata": {
    "scrolled": false
   },
   "outputs": [
    {
     "data": {
      "image/png": "[encoded data removed]",
      "text/plain": [
       "<Figure size 936x504 with 4 Axes>"
      ]
     },
     "metadata": {},
     "output_type": "display_data"
    }
   ],
   "source": [
    "fig, axes = plt.subplots(nrows=2, ncols=2,figsize=(13,7), sharey=True, sharex=True)\n",
    "fig.suptitle('누적이용횟수클래스(1-4) 요일별/d_type 결제건수(count) 합계', fontsize=15)\n",
    "df.query('freq_cum_class==1').pivot_table(index='dayofweek', \n",
    "               columns ='d_type', \n",
    "               values='count', \n",
    "               aggfunc='sum').plot(kind='bar', rot=0, ax=axes[0,0], title='클래스 1')\n",
    "df.query('freq_cum_class==2').pivot_table(index='dayofweek', \n",
    "               columns ='d_type', \n",
    "               values='count', \n",
    "               aggfunc='sum').plot(kind='bar', rot=0, ax=axes[0,1], title='클래스 2')\n",
    "df.query('freq_cum_class==3').pivot_table(index='dayofweek', \n",
    "               columns ='d_type', \n",
    "               values='count', \n",
    "               aggfunc='sum').plot(kind='bar', rot=0, ax=axes[1,0], title='클래스 3')\n",
    "df.query('freq_cum_class==4').pivot_table(index='dayofweek', \n",
    "               columns ='d_type', \n",
    "               values='count', \n",
    "               aggfunc='sum').plot(kind='bar', rot=0, ax=axes[1,1], title='클래스 4')\n",
    "\n",
    "fig.tight_layout()\n",
    "fig.subplots_adjust(top=0.9)"
   ]
  },
  {
   "cell_type": "code",
   "execution_count": 356,
   "metadata": {
    "scrolled": false
   },
   "outputs": [
    {
     "data": {
      "image/png": "[encoded data removed]",
      "text/plain": [
       "<Figure size 936x504 with 4 Axes>"
      ]
     },
     "metadata": {},
     "output_type": "display_data"
    }
   ],
   "source": [
    "fig, axes = plt.subplots(nrows=2, ncols=2,figsize=(13,7), sharey=True, sharex=True)\n",
    "fig.suptitle('누적이용횟수클래스(1-4) 요일별/goods_type 결제건수(count) 합계', fontsize=15)\n",
    "\n",
    "df.query('freq_cum_class==1').pivot_table(index='dayofweek', \n",
    "               columns ='goods_type', \n",
    "               values='count', \n",
    "               aggfunc='sum').plot(kind='bar', rot=0, ax=axes[0,0])\n",
    "df.query('freq_cum_class==2').pivot_table(index='dayofweek', \n",
    "               columns ='goods_type', \n",
    "               values='count', \n",
    "               aggfunc='sum').plot(kind='bar', rot=0, ax=axes[0,1])\n",
    "df.query('freq_cum_class==3').pivot_table(index='dayofweek', \n",
    "               columns ='goods_type', \n",
    "               values='count', \n",
    "               aggfunc='sum').plot(kind='bar', rot=0, ax=axes[1,0])\n",
    "df.query('freq_cum_class==4').pivot_table(index='dayofweek', \n",
    "               columns ='goods_type', \n",
    "               values='count', \n",
    "               aggfunc='sum').plot(kind='bar', rot=0, ax=axes[1,1])\n",
    "fig.tight_layout()\n",
    "fig.subplots_adjust(top=0.9)"
   ]
  },
  {
   "cell_type": "markdown",
   "metadata": {},
   "source": [
    "#### Join Date"
   ]
  },
  {
   "cell_type": "code",
   "execution_count": 494,
   "metadata": {},
   "outputs": [],
   "source": [
    "df=df_all.copy()"
   ]
  },
  {
   "cell_type": "code",
   "execution_count": 131,
   "metadata": {
    "scrolled": true
   },
   "outputs": [
    {
     "data": {
      "text/plain": [
       "2020    349473\n",
       "2019    257603\n",
       "2018    140523\n",
       "2017     79938\n",
       "2016     32701\n",
       "2015     14946\n",
       "2014      2957\n",
       "1970      1093\n",
       "2013        37\n",
       "Name: join_date, dtype: int64"
      ]
     },
     "execution_count": 131,
     "metadata": {},
     "output_type": "execute_result"
    }
   ],
   "source": [
    "df['join_date'].dt.year.value_counts(sort=True)"
   ]
  },
  {
   "cell_type": "code",
   "execution_count": 636,
   "metadata": {
    "scrolled": true
   },
   "outputs": [
    {
     "data": {
      "text/plain": [
       "<matplotlib.axes._subplots.AxesSubplot at 0x2a407e95438>"
      ]
     },
     "execution_count": 636,
     "metadata": {},
     "output_type": "execute_result"
    },
    {
     "data": {
      "image/png": "[encoded data removed]",
      "text/plain": [
       "<Figure size 432x216 with 1 Axes>"
      ]
     },
     "metadata": {},
     "output_type": "display_data"
    }
   ],
   "source": [
    "df_retention.groupby(df_retention['join_date'].dt.year)['count'].sum().plot(kind='bar', rot=0, figsize=(6,3))"
   ]
  },
  {
   "cell_type": "code",
   "execution_count": 646,
   "metadata": {
    "scrolled": true
   },
   "outputs": [
    {
     "name": "stdout",
     "output_type": "stream",
     "text": [
      "join 년도 갯수 : 9\n"
     ]
    },
    {
     "data": {
      "text/plain": [
       "array([2013, 2014, 1970, 2015, 2016, 2017, 2018, 2019, 2020], dtype=int64)"
      ]
     },
     "execution_count": 646,
     "metadata": {},
     "output_type": "execute_result"
    }
   ],
   "source": [
    "print('join 년도 갯수 :', len(df_retention['join_date'].dt.year.unique()))\n",
    "df_retention['join_date'].dt.year.unique()"
   ]
  },
  {
   "cell_type": "markdown",
   "metadata": {
    "heading_collapsed": true
   },
   "source": [
    "##### 이용기간 (year기준 ) : eng"
   ]
  },
  {
   "cell_type": "code",
   "execution_count": null,
   "metadata": {
    "hidden": true
   },
   "outputs": [],
   "source": [
    "df.groupby('join_date')['count', 'join_yearmonth'].agg({'count' : 'sum', 'join_yearmonth' : 'max'}).reset_index()\n",
    "df_join_date"
   ]
  },
  {
   "cell_type": "code",
   "execution_count": 260,
   "metadata": {
    "hidden": true,
    "scrolled": false
   },
   "outputs": [
    {
     "data": {
      "text/html": [
       "<div>\n",
       "<style scoped>\n",
       "    .dataframe tbody tr th:only-of-type {\n",
       "        vertical-align: middle;\n",
       "    }\n",
       "\n",
       "    .dataframe tbody tr th {\n",
       "        vertical-align: top;\n",
       "    }\n",
       "\n",
       "    .dataframe thead th {\n",
       "        text-align: right;\n",
       "    }\n",
       "</style>\n",
       "<table border=\"1\" class=\"dataframe\">\n",
       "  <thead>\n",
       "    <tr style=\"text-align: right;\">\n",
       "      <th></th>\n",
       "      <th>user_id</th>\n",
       "      <th>join_date</th>\n",
       "      <th>d_type</th>\n",
       "      <th>store_id</th>\n",
       "      <th>goods_type</th>\n",
       "      <th>date</th>\n",
       "      <th>count</th>\n",
       "      <th>ad1</th>\n",
       "      <th>year</th>\n",
       "      <th>month</th>\n",
       "      <th>...</th>\n",
       "      <th>freq_cum_class</th>\n",
       "      <th>min_temp</th>\n",
       "      <th>max_temp</th>\n",
       "      <th>diff_temp</th>\n",
       "      <th>강수량</th>\n",
       "      <th>적설량</th>\n",
       "      <th>discomfort</th>\n",
       "      <th>israiny</th>\n",
       "      <th>eng</th>\n",
       "      <th>join_year</th>\n",
       "    </tr>\n",
       "  </thead>\n",
       "  <tbody>\n",
       "    <tr>\n",
       "      <th>0</th>\n",
       "      <td>2858</td>\n",
       "      <td>2014-01-07</td>\n",
       "      <td>AA</td>\n",
       "      <td>1892</td>\n",
       "      <td>A</td>\n",
       "      <td>2020-01-01</td>\n",
       "      <td>1</td>\n",
       "      <td>GN</td>\n",
       "      <td>2020</td>\n",
       "      <td>1</td>\n",
       "      <td>...</td>\n",
       "      <td>1</td>\n",
       "      <td>-5.9</td>\n",
       "      <td>0.3</td>\n",
       "      <td>6.2</td>\n",
       "      <td>0.1</td>\n",
       "      <td>0.0</td>\n",
       "      <td>35.90072</td>\n",
       "      <td>1</td>\n",
       "      <td>6</td>\n",
       "      <td>2014</td>\n",
       "    </tr>\n",
       "    <tr>\n",
       "      <th>1</th>\n",
       "      <td>5647</td>\n",
       "      <td>2014-02-14</td>\n",
       "      <td>BB</td>\n",
       "      <td>182009</td>\n",
       "      <td>A</td>\n",
       "      <td>2020-01-01</td>\n",
       "      <td>1</td>\n",
       "      <td>J</td>\n",
       "      <td>2020</td>\n",
       "      <td>1</td>\n",
       "      <td>...</td>\n",
       "      <td>1</td>\n",
       "      <td>-5.9</td>\n",
       "      <td>0.3</td>\n",
       "      <td>6.2</td>\n",
       "      <td>0.1</td>\n",
       "      <td>0.0</td>\n",
       "      <td>35.90072</td>\n",
       "      <td>1</td>\n",
       "      <td>6</td>\n",
       "      <td>2014</td>\n",
       "    </tr>\n",
       "    <tr>\n",
       "      <th>2</th>\n",
       "      <td>33314</td>\n",
       "      <td>2014-11-20</td>\n",
       "      <td>BB</td>\n",
       "      <td>82431</td>\n",
       "      <td>A</td>\n",
       "      <td>2020-01-01</td>\n",
       "      <td>1</td>\n",
       "      <td>SC</td>\n",
       "      <td>2020</td>\n",
       "      <td>1</td>\n",
       "      <td>...</td>\n",
       "      <td>1</td>\n",
       "      <td>-5.9</td>\n",
       "      <td>0.3</td>\n",
       "      <td>6.2</td>\n",
       "      <td>0.1</td>\n",
       "      <td>0.0</td>\n",
       "      <td>35.90072</td>\n",
       "      <td>1</td>\n",
       "      <td>6</td>\n",
       "      <td>2014</td>\n",
       "    </tr>\n",
       "    <tr>\n",
       "      <th>3</th>\n",
       "      <td>37001</td>\n",
       "      <td>2014-12-04</td>\n",
       "      <td>BB</td>\n",
       "      <td>725</td>\n",
       "      <td>C</td>\n",
       "      <td>2020-01-01</td>\n",
       "      <td>1</td>\n",
       "      <td>MP</td>\n",
       "      <td>2020</td>\n",
       "      <td>1</td>\n",
       "      <td>...</td>\n",
       "      <td>1</td>\n",
       "      <td>-5.9</td>\n",
       "      <td>0.3</td>\n",
       "      <td>6.2</td>\n",
       "      <td>0.1</td>\n",
       "      <td>0.0</td>\n",
       "      <td>35.90072</td>\n",
       "      <td>1</td>\n",
       "      <td>6</td>\n",
       "      <td>2014</td>\n",
       "    </tr>\n",
       "    <tr>\n",
       "      <th>4</th>\n",
       "      <td>37819</td>\n",
       "      <td>2014-12-07</td>\n",
       "      <td>AA</td>\n",
       "      <td>220691</td>\n",
       "      <td>C</td>\n",
       "      <td>2020-01-01</td>\n",
       "      <td>1</td>\n",
       "      <td>JRR</td>\n",
       "      <td>2020</td>\n",
       "      <td>1</td>\n",
       "      <td>...</td>\n",
       "      <td>1</td>\n",
       "      <td>-5.9</td>\n",
       "      <td>0.3</td>\n",
       "      <td>6.2</td>\n",
       "      <td>0.1</td>\n",
       "      <td>0.0</td>\n",
       "      <td>35.90072</td>\n",
       "      <td>1</td>\n",
       "      <td>6</td>\n",
       "      <td>2014</td>\n",
       "    </tr>\n",
       "  </tbody>\n",
       "</table>\n",
       "<p>5 rows × 26 columns</p>\n",
       "</div>"
      ],
      "text/plain": [
       "   user_id  join_date d_type  store_id goods_type       date  count  ad1  \\\n",
       "0     2858 2014-01-07     AA      1892          A 2020-01-01      1   GN   \n",
       "1     5647 2014-02-14     BB    182009          A 2020-01-01      1    J   \n",
       "2    33314 2014-11-20     BB     82431          A 2020-01-01      1   SC   \n",
       "3    37001 2014-12-04     BB       725          C 2020-01-01      1   MP   \n",
       "4    37819 2014-12-07     AA    220691          C 2020-01-01      1  JRR   \n",
       "\n",
       "   year  month  ...  freq_cum_class  min_temp  max_temp diff_temp  강수량  적설량  \\\n",
       "0  2020      1  ...               1      -5.9       0.3       6.2  0.1  0.0   \n",
       "1  2020      1  ...               1      -5.9       0.3       6.2  0.1  0.0   \n",
       "2  2020      1  ...               1      -5.9       0.3       6.2  0.1  0.0   \n",
       "3  2020      1  ...               1      -5.9       0.3       6.2  0.1  0.0   \n",
       "4  2020      1  ...               1      -5.9       0.3       6.2  0.1  0.0   \n",
       "\n",
       "  discomfort  israiny  eng  join_year  \n",
       "0   35.90072        1    6       2014  \n",
       "1   35.90072        1    6       2014  \n",
       "2   35.90072        1    6       2014  \n",
       "3   35.90072        1    6       2014  \n",
       "4   35.90072        1    6       2014  \n",
       "\n",
       "[5 rows x 26 columns]"
      ]
     },
     "execution_count": 260,
     "metadata": {},
     "output_type": "execute_result"
    }
   ],
   "source": [
    "df['eng']=df['year']-df['join_year']\n",
    "df.head()"
   ]
  },
  {
   "cell_type": "code",
   "execution_count": 408,
   "metadata": {
    "hidden": true,
    "scrolled": true
   },
   "outputs": [
    {
     "data": {
      "text/html": [
       "<div>\n",
       "<style scoped>\n",
       "    .dataframe tbody tr th:only-of-type {\n",
       "        vertical-align: middle;\n",
       "    }\n",
       "\n",
       "    .dataframe tbody tr th {\n",
       "        vertical-align: top;\n",
       "    }\n",
       "\n",
       "    .dataframe thead th {\n",
       "        text-align: right;\n",
       "    }\n",
       "</style>\n",
       "<table border=\"1\" class=\"dataframe\">\n",
       "  <thead>\n",
       "    <tr style=\"text-align: right;\">\n",
       "      <th></th>\n",
       "      <th>user_id</th>\n",
       "      <th>join_date</th>\n",
       "      <th>d_type</th>\n",
       "      <th>store_id</th>\n",
       "      <th>goods_type</th>\n",
       "      <th>date</th>\n",
       "      <th>count</th>\n",
       "      <th>ad1</th>\n",
       "      <th>year</th>\n",
       "      <th>month</th>\n",
       "      <th>...</th>\n",
       "      <th>min_temp</th>\n",
       "      <th>max_temp</th>\n",
       "      <th>diff_temp</th>\n",
       "      <th>강수량</th>\n",
       "      <th>적설량</th>\n",
       "      <th>discomfort</th>\n",
       "      <th>israiny</th>\n",
       "      <th>eng</th>\n",
       "      <th>join_year</th>\n",
       "      <th>eng_day</th>\n",
       "    </tr>\n",
       "  </thead>\n",
       "  <tbody>\n",
       "    <tr>\n",
       "      <th>0</th>\n",
       "      <td>2858</td>\n",
       "      <td>2014-01-07</td>\n",
       "      <td>AA</td>\n",
       "      <td>1892</td>\n",
       "      <td>A</td>\n",
       "      <td>2020-01-01</td>\n",
       "      <td>1</td>\n",
       "      <td>GN</td>\n",
       "      <td>2020</td>\n",
       "      <td>1</td>\n",
       "      <td>...</td>\n",
       "      <td>-5.9</td>\n",
       "      <td>0.3</td>\n",
       "      <td>6.2</td>\n",
       "      <td>0.1</td>\n",
       "      <td>0.0</td>\n",
       "      <td>35.90072</td>\n",
       "      <td>1</td>\n",
       "      <td>6</td>\n",
       "      <td>2014</td>\n",
       "      <td>2185 days</td>\n",
       "    </tr>\n",
       "    <tr>\n",
       "      <th>1</th>\n",
       "      <td>5647</td>\n",
       "      <td>2014-02-14</td>\n",
       "      <td>BB</td>\n",
       "      <td>182009</td>\n",
       "      <td>A</td>\n",
       "      <td>2020-01-01</td>\n",
       "      <td>1</td>\n",
       "      <td>J</td>\n",
       "      <td>2020</td>\n",
       "      <td>1</td>\n",
       "      <td>...</td>\n",
       "      <td>-5.9</td>\n",
       "      <td>0.3</td>\n",
       "      <td>6.2</td>\n",
       "      <td>0.1</td>\n",
       "      <td>0.0</td>\n",
       "      <td>35.90072</td>\n",
       "      <td>1</td>\n",
       "      <td>6</td>\n",
       "      <td>2014</td>\n",
       "      <td>2147 days</td>\n",
       "    </tr>\n",
       "    <tr>\n",
       "      <th>2</th>\n",
       "      <td>33314</td>\n",
       "      <td>2014-11-20</td>\n",
       "      <td>BB</td>\n",
       "      <td>82431</td>\n",
       "      <td>A</td>\n",
       "      <td>2020-01-01</td>\n",
       "      <td>1</td>\n",
       "      <td>SC</td>\n",
       "      <td>2020</td>\n",
       "      <td>1</td>\n",
       "      <td>...</td>\n",
       "      <td>-5.9</td>\n",
       "      <td>0.3</td>\n",
       "      <td>6.2</td>\n",
       "      <td>0.1</td>\n",
       "      <td>0.0</td>\n",
       "      <td>35.90072</td>\n",
       "      <td>1</td>\n",
       "      <td>6</td>\n",
       "      <td>2014</td>\n",
       "      <td>1868 days</td>\n",
       "    </tr>\n",
       "    <tr>\n",
       "      <th>3</th>\n",
       "      <td>37001</td>\n",
       "      <td>2014-12-04</td>\n",
       "      <td>BB</td>\n",
       "      <td>725</td>\n",
       "      <td>C</td>\n",
       "      <td>2020-01-01</td>\n",
       "      <td>1</td>\n",
       "      <td>MP</td>\n",
       "      <td>2020</td>\n",
       "      <td>1</td>\n",
       "      <td>...</td>\n",
       "      <td>-5.9</td>\n",
       "      <td>0.3</td>\n",
       "      <td>6.2</td>\n",
       "      <td>0.1</td>\n",
       "      <td>0.0</td>\n",
       "      <td>35.90072</td>\n",
       "      <td>1</td>\n",
       "      <td>6</td>\n",
       "      <td>2014</td>\n",
       "      <td>1854 days</td>\n",
       "    </tr>\n",
       "    <tr>\n",
       "      <th>4</th>\n",
       "      <td>37819</td>\n",
       "      <td>2014-12-07</td>\n",
       "      <td>AA</td>\n",
       "      <td>220691</td>\n",
       "      <td>C</td>\n",
       "      <td>2020-01-01</td>\n",
       "      <td>1</td>\n",
       "      <td>JRR</td>\n",
       "      <td>2020</td>\n",
       "      <td>1</td>\n",
       "      <td>...</td>\n",
       "      <td>-5.9</td>\n",
       "      <td>0.3</td>\n",
       "      <td>6.2</td>\n",
       "      <td>0.1</td>\n",
       "      <td>0.0</td>\n",
       "      <td>35.90072</td>\n",
       "      <td>1</td>\n",
       "      <td>6</td>\n",
       "      <td>2014</td>\n",
       "      <td>1851 days</td>\n",
       "    </tr>\n",
       "  </tbody>\n",
       "</table>\n",
       "<p>5 rows × 27 columns</p>\n",
       "</div>"
      ],
      "text/plain": [
       "   user_id  join_date d_type  store_id goods_type       date  count  ad1  \\\n",
       "0     2858 2014-01-07     AA      1892          A 2020-01-01      1   GN   \n",
       "1     5647 2014-02-14     BB    182009          A 2020-01-01      1    J   \n",
       "2    33314 2014-11-20     BB     82431          A 2020-01-01      1   SC   \n",
       "3    37001 2014-12-04     BB       725          C 2020-01-01      1   MP   \n",
       "4    37819 2014-12-07     AA    220691          C 2020-01-01      1  JRR   \n",
       "\n",
       "   year  month  ...  min_temp  max_temp  diff_temp  강수량  적설량  discomfort  \\\n",
       "0  2020      1  ...      -5.9       0.3        6.2  0.1  0.0    35.90072   \n",
       "1  2020      1  ...      -5.9       0.3        6.2  0.1  0.0    35.90072   \n",
       "2  2020      1  ...      -5.9       0.3        6.2  0.1  0.0    35.90072   \n",
       "3  2020      1  ...      -5.9       0.3        6.2  0.1  0.0    35.90072   \n",
       "4  2020      1  ...      -5.9       0.3        6.2  0.1  0.0    35.90072   \n",
       "\n",
       "  israiny  eng  join_year   eng_day  \n",
       "0       1    6       2014 2185 days  \n",
       "1       1    6       2014 2147 days  \n",
       "2       1    6       2014 1868 days  \n",
       "3       1    6       2014 1854 days  \n",
       "4       1    6       2014 1851 days  \n",
       "\n",
       "[5 rows x 27 columns]"
      ]
     },
     "execution_count": 408,
     "metadata": {},
     "output_type": "execute_result"
    }
   ],
   "source": [
    "df['eng_day']=df['date']-df['join_date']\n",
    "df.head()"
   ]
  },
  {
   "cell_type": "markdown",
   "metadata": {
    "heading_collapsed": true
   },
   "source": [
    "##### ⭕️이용기간 (월) :eng_month"
   ]
  },
  {
   "cell_type": "code",
   "execution_count": 519,
   "metadata": {
    "hidden": true
   },
   "outputs": [],
   "source": [
    "df_eng = df.query('join_date!=\"1970-01-01\"')\n",
    "df_eng['eng_month']=df_eng.date-df_eng.join_date\n",
    "df_eng['eng_month']=df_eng.eng_month/np.timedelta64(1,'M')\n",
    "df_eng['eng_month'] = df_eng['eng_month'].apply(lambda x : round(x,0)).astype(int)"
   ]
  },
  {
   "cell_type": "code",
   "execution_count": 507,
   "metadata": {
    "hidden": true,
    "scrolled": false
   },
   "outputs": [
    {
     "data": {
      "text/plain": [
       "count    877812.000000\n",
       "mean         14.165252\n",
       "std          14.536672\n",
       "min           0.000000\n",
       "25%           3.000000\n",
       "50%           9.000000\n",
       "75%          22.000000\n",
       "max          84.000000\n",
       "Name: eng_month, dtype: float64"
      ]
     },
     "execution_count": 507,
     "metadata": {},
     "output_type": "execute_result"
    }
   ],
   "source": [
    "df_eng.eng_month.describe()\n",
    "# freq_cum_class 변수 : str 으로 변환 > 모델링시 변환 필요할 수도?\n",
    "df_eng.freq_cum_class=df_eng.freq_cum_class.astype('str') "
   ]
  },
  {
   "cell_type": "code",
   "execution_count": 563,
   "metadata": {
    "hidden": true,
    "scrolled": false
   },
   "outputs": [
    {
     "data": {
      "text/plain": [
       "<matplotlib.axes._subplots.AxesSubplot at 0x13780de7400>"
      ]
     },
     "execution_count": 563,
     "metadata": {},
     "output_type": "execute_result"
    },
    {
     "data": {
      "image/png": "[encoded data removed]",
      "text/plain": [
       "<Figure size 1080x288 with 2 Axes>"
      ]
     },
     "metadata": {},
     "output_type": "display_data"
    }
   ],
   "source": [
    "fig, axes = plt.subplots(nrows=1, ncols=2,figsize=(15,4))\n",
    "fig.suptitle('누적이용횟수클래스(1-4) 이용기간(eng_month) 합계', fontsize=15)\n",
    "\n",
    "df_eng.pivot_table(index='freq_cum_class', \n",
    "               values='eng_month', \n",
    "               aggfunc='mean').plot(kind='bar', rot=0, ax=axes[0])\n",
    "sns.boxplot(data=df_eng, x=\"freq_cum_class\", y=\"eng_month\",ax=axes[1])"
   ]
  },
  {
   "cell_type": "markdown",
   "metadata": {
    "heading_collapsed": true
   },
   "source": [
    "##### 이용기간 변수 취합 : df_eda"
   ]
  },
  {
   "cell_type": "code",
   "execution_count": 640,
   "metadata": {
    "hidden": true,
    "scrolled": true
   },
   "outputs": [
    {
     "name": "stdout",
     "output_type": "stream",
     "text": [
      "(877812, 27)\n",
      "(878905, 27)\n"
     ]
    }
   ],
   "source": [
    "print(df_eng.shape)\n",
    "print(df.shape)"
   ]
  },
  {
   "cell_type": "code",
   "execution_count": 641,
   "metadata": {
    "hidden": true
   },
   "outputs": [],
   "source": [
    "df['date']=pd.to_datetime(df['date']).dt.date \n",
    "df_eng['date']=pd.to_datetime(df_eng['date']).dt.date "
   ]
  },
  {
   "cell_type": "code",
   "execution_count": 642,
   "metadata": {
    "hidden": true
   },
   "outputs": [
    {
     "data": {
      "text/plain": [
       "(877812, 28)"
      ]
     },
     "execution_count": 642,
     "metadata": {},
     "output_type": "execute_result"
    }
   ],
   "source": [
    "# df_all 모두 포함\n",
    "# df_eda : 이상치 유저 999665 삭제 & join_date 1970-01-01 삭제\n",
    "df_eda = df.merge(df_eng[['user_id','date','eng_month']], on=['user_id','date'], how='inner')\n",
    "df_eda.shape"
   ]
  },
  {
   "cell_type": "markdown",
   "metadata": {
    "heading_collapsed": true
   },
   "source": [
    "#### 요일별"
   ]
  },
  {
   "cell_type": "code",
   "execution_count": 375,
   "metadata": {
    "hidden": true,
    "scrolled": false
   },
   "outputs": [
    {
     "name": "stdout",
     "output_type": "stream",
     "text": [
      "#count by \n",
      " dayofweek\n",
      "0    130447\n",
      "1    134288\n",
      "2    136034\n",
      "3    137323\n",
      "4    141837\n",
      "5    135906\n",
      "6     89004\n",
      "Name: count, dtype: int64\n",
      "#user_id by \n",
      " dayofweek\n",
      "0    130447\n",
      "1    134288\n",
      "2    136034\n",
      "3    137323\n",
      "4    141837\n",
      "5    135906\n",
      "6     89004\n",
      "Name: count, dtype: int64\n"
     ]
    },
    {
     "data": {
      "text/plain": [
       "<matplotlib.axes._subplots.AxesSubplot at 0x2a395cadc18>"
      ]
     },
     "execution_count": 375,
     "metadata": {},
     "output_type": "execute_result"
    },
    {
     "data": {
      "image/png": "[encoded data removed]",
      "text/plain": [
       "<Figure size 936x216 with 2 Axes>"
      ]
     },
     "metadata": {
      "needs_background": "light"
     },
     "output_type": "display_data"
    }
   ],
   "source": [
    "print('#count by \\n',df.groupby('dayofweek')['count'].sum())\n",
    "print('#user_id by \\n',df.groupby('dayofweek')['count'].sum())\n",
    "fig, axes = plt.subplots(nrows=1, ncols=2,figsize=(13,3))\n",
    "df.groupby('dayofweek')['user_id'].nunique().plot.bar(rot=0, ax=axes[0])\n",
    "df.groupby('dayofweek')['count'].sum().plot.bar(rot=0, ax=axes[1])"
   ]
  },
  {
   "cell_type": "markdown",
   "metadata": {
    "hidden": true
   },
   "source": [
    "- 결제 횟수 : 금토 증가, 일요일 현저히 count 낮음\n",
    "- 이용자 수 : 일요일 현저히 user 낮으나, 요일별 편차 크지 않음\n",
    "- **주말이라고 이용자 수가 늘어나지 않는다 > 계속 어플 이용하던 사람이 이용함**"
   ]
  },
  {
   "cell_type": "markdown",
   "metadata": {},
   "source": [
    "#### 외부변수: 날씨\n",
    "min_temp max_temp diff_temp\t강수량\t적설량\tdiscomfort israiny\n",
    "**지역 고려X**"
   ]
  },
  {
   "cell_type": "code",
   "execution_count": 202,
   "metadata": {},
   "outputs": [
    {
     "data": {
      "text/plain": [
       "지점         0\n",
       "일시         0\n",
       "기온         1\n",
       "강수량     7701\n",
       "풍속         0\n",
       "습도         0\n",
       "일조시간    3969\n",
       "적설량     8552\n",
       "지면온도       8\n",
       "지중온도      12\n",
       "date       0\n",
       "dtype: int64"
      ]
     },
     "execution_count": 202,
     "metadata": {},
     "output_type": "execute_result"
    }
   ],
   "source": [
    "weather.isnull().sum()"
   ]
  },
  {
   "cell_type": "code",
   "execution_count": 27,
   "metadata": {
    "scrolled": true
   },
   "outputs": [
    {
     "data": {
      "text/html": [
       "<div>\n",
       "<style scoped>\n",
       "    .dataframe tbody tr th:only-of-type {\n",
       "        vertical-align: middle;\n",
       "    }\n",
       "\n",
       "    .dataframe tbody tr th {\n",
       "        vertical-align: top;\n",
       "    }\n",
       "\n",
       "    .dataframe thead th {\n",
       "        text-align: right;\n",
       "    }\n",
       "</style>\n",
       "<table border=\"1\" class=\"dataframe\">\n",
       "  <thead>\n",
       "    <tr style=\"text-align: right;\">\n",
       "      <th></th>\n",
       "      <th>지점</th>\n",
       "      <th>일시</th>\n",
       "      <th>기온</th>\n",
       "      <th>강수량</th>\n",
       "      <th>풍속</th>\n",
       "      <th>습도</th>\n",
       "      <th>일조시간</th>\n",
       "      <th>적설량</th>\n",
       "      <th>지면온도</th>\n",
       "      <th>지중온도</th>\n",
       "      <th>date</th>\n",
       "    </tr>\n",
       "  </thead>\n",
       "  <tbody>\n",
       "    <tr>\n",
       "      <th>0</th>\n",
       "      <td>108</td>\n",
       "      <td>2020-01-01 01:00:00</td>\n",
       "      <td>-5.9</td>\n",
       "      <td>NaN</td>\n",
       "      <td>1.7</td>\n",
       "      <td>40</td>\n",
       "      <td>NaN</td>\n",
       "      <td>NaN</td>\n",
       "      <td>-2.4</td>\n",
       "      <td>3.2</td>\n",
       "      <td>2020-01-01 01:00:00</td>\n",
       "    </tr>\n",
       "    <tr>\n",
       "      <th>1</th>\n",
       "      <td>108</td>\n",
       "      <td>2020-01-01 02:00:00</td>\n",
       "      <td>-5.7</td>\n",
       "      <td>NaN</td>\n",
       "      <td>0.1</td>\n",
       "      <td>42</td>\n",
       "      <td>NaN</td>\n",
       "      <td>NaN</td>\n",
       "      <td>-2.4</td>\n",
       "      <td>3.1</td>\n",
       "      <td>2020-01-01 02:00:00</td>\n",
       "    </tr>\n",
       "  </tbody>\n",
       "</table>\n",
       "</div>"
      ],
      "text/plain": [
       "    지점                  일시   기온  강수량   풍속  습도  일조시간  적설량  지면온도  지중온도  \\\n",
       "0  108 2020-01-01 01:00:00 -5.9  NaN  1.7  40   NaN  NaN  -2.4   3.2   \n",
       "1  108 2020-01-01 02:00:00 -5.7  NaN  0.1  42   NaN  NaN  -2.4   3.1   \n",
       "\n",
       "                 date  \n",
       "0 2020-01-01 01:00:00  \n",
       "1 2020-01-01 02:00:00  "
      ]
     },
     "execution_count": 27,
     "metadata": {},
     "output_type": "execute_result"
    }
   ],
   "source": [
    "# date 타입 변환 \n",
    "weather['date'] = pd.to_datetime(weather['일시'])\n",
    "weather.head(2)"
   ]
  },
  {
   "cell_type": "code",
   "execution_count": 28,
   "metadata": {},
   "outputs": [],
   "source": [
    "weather['date']= weather['date'].dt.date       "
   ]
  },
  {
   "cell_type": "markdown",
   "metadata": {},
   "source": [
    "##### 일별 최고기온 & 최저기온 : weather_temp"
   ]
  },
  {
   "cell_type": "code",
   "execution_count": 30,
   "metadata": {},
   "outputs": [
    {
     "data": {
      "text/html": [
       "<div>\n",
       "<style scoped>\n",
       "    .dataframe tbody tr th:only-of-type {\n",
       "        vertical-align: middle;\n",
       "    }\n",
       "\n",
       "    .dataframe tbody tr th {\n",
       "        vertical-align: top;\n",
       "    }\n",
       "\n",
       "    .dataframe thead th {\n",
       "        text-align: right;\n",
       "    }\n",
       "</style>\n",
       "<table border=\"1\" class=\"dataframe\">\n",
       "  <thead>\n",
       "    <tr style=\"text-align: right;\">\n",
       "      <th></th>\n",
       "      <th>date</th>\n",
       "      <th>min_temp</th>\n",
       "      <th>max_temp</th>\n",
       "    </tr>\n",
       "  </thead>\n",
       "  <tbody>\n",
       "    <tr>\n",
       "      <th>0</th>\n",
       "      <td>2020-01-01</td>\n",
       "      <td>-5.9</td>\n",
       "      <td>0.3</td>\n",
       "    </tr>\n",
       "    <tr>\n",
       "      <th>1</th>\n",
       "      <td>2020-01-02</td>\n",
       "      <td>-0.7</td>\n",
       "      <td>3.8</td>\n",
       "    </tr>\n",
       "  </tbody>\n",
       "</table>\n",
       "</div>"
      ],
      "text/plain": [
       "         date  min_temp  max_temp\n",
       "0  2020-01-01      -5.9       0.3\n",
       "1  2020-01-02      -0.7       3.8"
      ]
     },
     "execution_count": 30,
     "metadata": {},
     "output_type": "execute_result"
    }
   ],
   "source": [
    "weather_temp = weather.pivot_table(index='date',\n",
    "                                  values='기온',\n",
    "                                  aggfunc =['min', 'max']).reset_index()\n",
    "weather_temp.columns=['date','min_temp', 'max_temp']\n",
    "weather_temp.head(2)"
   ]
  },
  {
   "cell_type": "code",
   "execution_count": 31,
   "metadata": {},
   "outputs": [
    {
     "data": {
      "text/html": [
       "<div>\n",
       "<style scoped>\n",
       "    .dataframe tbody tr th:only-of-type {\n",
       "        vertical-align: middle;\n",
       "    }\n",
       "\n",
       "    .dataframe tbody tr th {\n",
       "        vertical-align: top;\n",
       "    }\n",
       "\n",
       "    .dataframe thead th {\n",
       "        text-align: right;\n",
       "    }\n",
       "</style>\n",
       "<table border=\"1\" class=\"dataframe\">\n",
       "  <thead>\n",
       "    <tr style=\"text-align: right;\">\n",
       "      <th></th>\n",
       "      <th>date</th>\n",
       "      <th>min_temp</th>\n",
       "      <th>max_temp</th>\n",
       "      <th>diff_temp</th>\n",
       "    </tr>\n",
       "  </thead>\n",
       "  <tbody>\n",
       "    <tr>\n",
       "      <th>0</th>\n",
       "      <td>2020-01-01</td>\n",
       "      <td>-5.9</td>\n",
       "      <td>0.3</td>\n",
       "      <td>6.2</td>\n",
       "    </tr>\n",
       "    <tr>\n",
       "      <th>1</th>\n",
       "      <td>2020-01-02</td>\n",
       "      <td>-0.7</td>\n",
       "      <td>3.8</td>\n",
       "      <td>4.5</td>\n",
       "    </tr>\n",
       "  </tbody>\n",
       "</table>\n",
       "</div>"
      ],
      "text/plain": [
       "         date  min_temp  max_temp  diff_temp\n",
       "0  2020-01-01      -5.9       0.3        6.2\n",
       "1  2020-01-02      -0.7       3.8        4.5"
      ]
     },
     "execution_count": 31,
     "metadata": {},
     "output_type": "execute_result"
    }
   ],
   "source": [
    "#일교차 : diff_temp \n",
    "weather_temp['diff_temp']=weather_temp['max_temp']-weather_temp['min_temp']\n",
    "weather_temp.head(2)"
   ]
  },
  {
   "cell_type": "markdown",
   "metadata": {},
   "source": [
    "##### 강수량, 적설량 : weather_fall\n",
    "- 결측치 > 0 "
   ]
  },
  {
   "cell_type": "code",
   "execution_count": 36,
   "metadata": {
    "scrolled": true
   },
   "outputs": [
    {
     "data": {
      "text/html": [
       "<div>\n",
       "<style scoped>\n",
       "    .dataframe tbody tr th:only-of-type {\n",
       "        vertical-align: middle;\n",
       "    }\n",
       "\n",
       "    .dataframe tbody tr th {\n",
       "        vertical-align: top;\n",
       "    }\n",
       "\n",
       "    .dataframe thead th {\n",
       "        text-align: right;\n",
       "    }\n",
       "</style>\n",
       "<table border=\"1\" class=\"dataframe\">\n",
       "  <thead>\n",
       "    <tr style=\"text-align: right;\">\n",
       "      <th></th>\n",
       "      <th>date</th>\n",
       "      <th>강수량</th>\n",
       "      <th>적설량</th>\n",
       "    </tr>\n",
       "  </thead>\n",
       "  <tbody>\n",
       "    <tr>\n",
       "      <th>0</th>\n",
       "      <td>2020-01-01</td>\n",
       "      <td>0.1</td>\n",
       "      <td>0.0</td>\n",
       "    </tr>\n",
       "    <tr>\n",
       "      <th>1</th>\n",
       "      <td>2020-01-02</td>\n",
       "      <td>0.0</td>\n",
       "      <td>0.0</td>\n",
       "    </tr>\n",
       "  </tbody>\n",
       "</table>\n",
       "</div>"
      ],
      "text/plain": [
       "         date  강수량  적설량\n",
       "0  2020-01-01  0.1  0.0\n",
       "1  2020-01-02  0.0  0.0"
      ]
     },
     "execution_count": 36,
     "metadata": {},
     "output_type": "execute_result"
    }
   ],
   "source": [
    "weather_fall = weather.pivot_table(index='date',\n",
    "                        values=['강수량','적설량'],\n",
    "                         fill_value=0,\n",
    "                        aggfunc='sum').reset_index()\n",
    "weather_fall.head(2)"
   ]
  },
  {
   "cell_type": "markdown",
   "metadata": {
    "scrolled": true
   },
   "source": [
    "##### 불쾌지수 : weather_discomfort\n",
    "- https://fh-a.net/.ko/blog/20200915-1245/\n",
    "- 불쾌 지수 = 0.81 × 온도 + 0.01 × 습도 x (0.99 × 온도 -14.3) +46.3 (이 공식 활용)"
   ]
  },
  {
   "cell_type": "code",
   "execution_count": 39,
   "metadata": {},
   "outputs": [
    {
     "data": {
      "text/html": [
       "<div>\n",
       "<style scoped>\n",
       "    .dataframe tbody tr th:only-of-type {\n",
       "        vertical-align: middle;\n",
       "    }\n",
       "\n",
       "    .dataframe tbody tr th {\n",
       "        vertical-align: top;\n",
       "    }\n",
       "\n",
       "    .dataframe thead th {\n",
       "        text-align: right;\n",
       "    }\n",
       "</style>\n",
       "<table border=\"1\" class=\"dataframe\">\n",
       "  <thead>\n",
       "    <tr style=\"text-align: right;\">\n",
       "      <th></th>\n",
       "      <th>date</th>\n",
       "      <th>기온</th>\n",
       "      <th>습도</th>\n",
       "      <th>discomfort</th>\n",
       "    </tr>\n",
       "  </thead>\n",
       "  <tbody>\n",
       "    <tr>\n",
       "      <th>0</th>\n",
       "      <td>2020-01-01</td>\n",
       "      <td>0.3</td>\n",
       "      <td>76</td>\n",
       "      <td>35.90072</td>\n",
       "    </tr>\n",
       "    <tr>\n",
       "      <th>1</th>\n",
       "      <td>2020-01-02</td>\n",
       "      <td>3.8</td>\n",
       "      <td>74</td>\n",
       "      <td>41.57988</td>\n",
       "    </tr>\n",
       "    <tr>\n",
       "      <th>2</th>\n",
       "      <td>2020-01-03</td>\n",
       "      <td>4.3</td>\n",
       "      <td>86</td>\n",
       "      <td>41.14602</td>\n",
       "    </tr>\n",
       "  </tbody>\n",
       "</table>\n",
       "</div>"
      ],
      "text/plain": [
       "         date   기온  습도  discomfort\n",
       "0  2020-01-01  0.3  76    35.90072\n",
       "1  2020-01-02  3.8  74    41.57988\n",
       "2  2020-01-03  4.3  86    41.14602"
      ]
     },
     "execution_count": 39,
     "metadata": {},
     "output_type": "execute_result"
    }
   ],
   "source": [
    "weather_discomfort = weather.pivot_table(index='date', values=['기온', '습도'], aggfunc='max').reset_index()\n",
    "weather_discomfort['discomfort'] = (0.81 * weather_discomfort['기온'])+(0.01*weather_discomfort['습도']*(0.99*weather_discomfort['기온']-14.3))+46.3\n",
    "weather_discomfort.head(3)"
   ]
  },
  {
   "cell_type": "markdown",
   "metadata": {},
   "source": [
    "##### 날씨 데이터 취합 : df_weather\n",
    "- 최고/최저기온/일교차\n",
    "- 강수량/적설량\n",
    "- discomfort"
   ]
  },
  {
   "cell_type": "code",
   "execution_count": 50,
   "metadata": {
    "scrolled": false
   },
   "outputs": [
    {
     "data": {
      "text/html": [
       "<div>\n",
       "<style scoped>\n",
       "    .dataframe tbody tr th:only-of-type {\n",
       "        vertical-align: middle;\n",
       "    }\n",
       "\n",
       "    .dataframe tbody tr th {\n",
       "        vertical-align: top;\n",
       "    }\n",
       "\n",
       "    .dataframe thead th {\n",
       "        text-align: right;\n",
       "    }\n",
       "</style>\n",
       "<table border=\"1\" class=\"dataframe\">\n",
       "  <thead>\n",
       "    <tr style=\"text-align: right;\">\n",
       "      <th></th>\n",
       "      <th>date</th>\n",
       "      <th>min_temp</th>\n",
       "      <th>max_temp</th>\n",
       "      <th>diff_temp</th>\n",
       "      <th>강수량</th>\n",
       "      <th>적설량</th>\n",
       "      <th>기온</th>\n",
       "      <th>습도</th>\n",
       "      <th>discomfort</th>\n",
       "      <th>israiny</th>\n",
       "    </tr>\n",
       "  </thead>\n",
       "  <tbody>\n",
       "    <tr>\n",
       "      <th>0</th>\n",
       "      <td>2020-01-01</td>\n",
       "      <td>-5.9</td>\n",
       "      <td>0.3</td>\n",
       "      <td>6.2</td>\n",
       "      <td>0.1</td>\n",
       "      <td>0.0</td>\n",
       "      <td>0.3</td>\n",
       "      <td>76</td>\n",
       "      <td>35.90072</td>\n",
       "      <td>1</td>\n",
       "    </tr>\n",
       "    <tr>\n",
       "      <th>1</th>\n",
       "      <td>2020-01-02</td>\n",
       "      <td>-0.7</td>\n",
       "      <td>3.8</td>\n",
       "      <td>4.5</td>\n",
       "      <td>0.0</td>\n",
       "      <td>0.0</td>\n",
       "      <td>3.8</td>\n",
       "      <td>74</td>\n",
       "      <td>41.57988</td>\n",
       "      <td>0</td>\n",
       "    </tr>\n",
       "  </tbody>\n",
       "</table>\n",
       "</div>"
      ],
      "text/plain": [
       "         date  min_temp  max_temp  diff_temp  강수량  적설량   기온  습도  discomfort  \\\n",
       "0  2020-01-01      -5.9       0.3        6.2  0.1  0.0  0.3  76    35.90072   \n",
       "1  2020-01-02      -0.7       3.8        4.5  0.0  0.0  3.8  74    41.57988   \n",
       "\n",
       "   israiny  \n",
       "0        1  \n",
       "1        0  "
      ]
     },
     "execution_count": 50,
     "metadata": {},
     "output_type": "execute_result"
    }
   ],
   "source": [
    "df_weather = weather_temp.merge(weather_fall, on='date',how='outer').merge(weather_discomfort, on='date', how='outer')\n",
    "df_weather['israiny'] =np.where(df_weather['강수량']!=0,1,0)\n",
    "df_weather.head(2)"
   ]
  },
  {
   "cell_type": "code",
   "execution_count": 207,
   "metadata": {},
   "outputs": [
    {
     "data": {
      "text/html": [
       "<div>\n",
       "<style scoped>\n",
       "    .dataframe tbody tr th:only-of-type {\n",
       "        vertical-align: middle;\n",
       "    }\n",
       "\n",
       "    .dataframe tbody tr th {\n",
       "        vertical-align: top;\n",
       "    }\n",
       "\n",
       "    .dataframe thead th {\n",
       "        text-align: right;\n",
       "    }\n",
       "</style>\n",
       "<table border=\"1\" class=\"dataframe\">\n",
       "  <thead>\n",
       "    <tr style=\"text-align: right;\">\n",
       "      <th></th>\n",
       "      <th>date</th>\n",
       "      <th>min_temp</th>\n",
       "      <th>max_temp</th>\n",
       "      <th>diff_temp</th>\n",
       "      <th>강수량</th>\n",
       "      <th>적설량</th>\n",
       "      <th>discomfort</th>\n",
       "      <th>israiny</th>\n",
       "    </tr>\n",
       "  </thead>\n",
       "  <tbody>\n",
       "    <tr>\n",
       "      <th>0</th>\n",
       "      <td>2020-01-01</td>\n",
       "      <td>-5.9</td>\n",
       "      <td>0.3</td>\n",
       "      <td>6.2</td>\n",
       "      <td>0.1</td>\n",
       "      <td>0.0</td>\n",
       "      <td>35.90072</td>\n",
       "      <td>1</td>\n",
       "    </tr>\n",
       "    <tr>\n",
       "      <th>1</th>\n",
       "      <td>2020-01-02</td>\n",
       "      <td>-0.7</td>\n",
       "      <td>3.8</td>\n",
       "      <td>4.5</td>\n",
       "      <td>0.0</td>\n",
       "      <td>0.0</td>\n",
       "      <td>41.57988</td>\n",
       "      <td>0</td>\n",
       "    </tr>\n",
       "  </tbody>\n",
       "</table>\n",
       "</div>"
      ],
      "text/plain": [
       "         date  min_temp  max_temp  diff_temp  강수량  적설량  discomfort  israiny\n",
       "0  2020-01-01      -5.9       0.3        6.2  0.1  0.0    35.90072        1\n",
       "1  2020-01-02      -0.7       3.8        4.5  0.0  0.0    41.57988        0"
      ]
     },
     "execution_count": 207,
     "metadata": {},
     "output_type": "execute_result"
    }
   ],
   "source": [
    "df_weather.drop(['기온','습도'], axis=1, inplace=True)\n",
    "df_weather.head(2)"
   ]
  },
  {
   "cell_type": "code",
   "execution_count": 208,
   "metadata": {},
   "outputs": [],
   "source": [
    "df = df.merge(df_weather, on='date', how='left')"
   ]
  },
  {
   "cell_type": "markdown",
   "metadata": {},
   "source": [
    "##### 날씨 ~ 날짜 요일"
   ]
  },
  {
   "cell_type": "code",
   "execution_count": null,
   "metadata": {},
   "outputs": [],
   "source": [
    "fig, axes = plt.subplots(nrows=3, ncols=2,figsize=(16,8))\n",
    "df.query('freq==1').groupby('dayofweek')['user_id'].nunique().plot(kind='bar',rot=0, ax=axes[0,0])"
   ]
  },
  {
   "cell_type": "code",
   "execution_count": null,
   "metadata": {
    "scrolled": true
   },
   "outputs": [],
   "source": [
    "df_eda.pivot_table(index='goods_type', \n",
    "               columns ='israiny', \n",
    "               values='count', \n",
    "               aggfunc='sum').plot(kind='bar', rot=0)"
   ]
  },
  {
   "cell_type": "code",
   "execution_count": 504,
   "metadata": {
    "scrolled": false
   },
   "outputs": [
    {
     "data": {
      "text/plain": [
       "<matplotlib.axes._subplots.AxesSubplot at 0x2a3837635f8>"
      ]
     },
     "execution_count": 504,
     "metadata": {},
     "output_type": "execute_result"
    },
    {
     "data": {
      "image/png": "[encoded data removed]",
      "text/plain": [
       "<Figure size 1440x216 with 2 Axes>"
      ]
     },
     "metadata": {
      "needs_background": "light"
     },
     "output_type": "display_data"
    }
   ],
   "source": [
    "fig, axes = plt.subplots(nrows=1, ncols=2,figsize=(20,3))\n",
    "\n",
    "df_weather.query('freq<=5').pivot_table(index='goods_type', \n",
    "               columns ='israiny', \n",
    "               values='user_id', \n",
    "               aggfunc='count').plot(kind='bar', rot=0, ax=axes[0])\n",
    "df_weather.query('freq>=200').pivot_table(index='goods_type', \n",
    "               columns ='israiny', \n",
    "               values='user_id', \n",
    "               aggfunc='count').plot(kind='bar', rot=0, ax=axes[1])"
   ]
  },
  {
   "cell_type": "markdown",
   "metadata": {
    "heading_collapsed": true
   },
   "source": [
    "#### 외부변수: 교통"
   ]
  },
  {
   "cell_type": "code",
   "execution_count": 708,
   "metadata": {
    "hidden": true,
    "scrolled": true
   },
   "outputs": [
    {
     "data": {
      "text/html": [
       "<div>\n",
       "<style scoped>\n",
       "    .dataframe tbody tr th:only-of-type {\n",
       "        vertical-align: middle;\n",
       "    }\n",
       "\n",
       "    .dataframe tbody tr th {\n",
       "        vertical-align: top;\n",
       "    }\n",
       "\n",
       "    .dataframe thead th {\n",
       "        text-align: right;\n",
       "    }\n",
       "</style>\n",
       "<table border=\"1\" class=\"dataframe\">\n",
       "  <thead>\n",
       "    <tr style=\"text-align: right;\">\n",
       "      <th></th>\n",
       "      <th>date</th>\n",
       "      <th>traffic_sum</th>\n",
       "      <th>user_id</th>\n",
       "      <th>join_date</th>\n",
       "      <th>d_type</th>\n",
       "      <th>store_id</th>\n",
       "      <th>goods_type</th>\n",
       "      <th>count</th>\n",
       "      <th>ad1</th>\n",
       "      <th>year</th>\n",
       "      <th>...</th>\n",
       "      <th>max_temp</th>\n",
       "      <th>diff_temp</th>\n",
       "      <th>강수량</th>\n",
       "      <th>적설량</th>\n",
       "      <th>discomfort</th>\n",
       "      <th>israiny</th>\n",
       "      <th>eng</th>\n",
       "      <th>join_year</th>\n",
       "      <th>visit_lag</th>\n",
       "      <th>eng_month</th>\n",
       "    </tr>\n",
       "  </thead>\n",
       "  <tbody>\n",
       "    <tr>\n",
       "      <th>0</th>\n",
       "      <td>2020-01-01</td>\n",
       "      <td>7347299.0</td>\n",
       "      <td>2858</td>\n",
       "      <td>2014-01-07</td>\n",
       "      <td>AA</td>\n",
       "      <td>1892</td>\n",
       "      <td>A</td>\n",
       "      <td>1</td>\n",
       "      <td>GN</td>\n",
       "      <td>2020</td>\n",
       "      <td>...</td>\n",
       "      <td>0.3</td>\n",
       "      <td>6.2</td>\n",
       "      <td>0.1</td>\n",
       "      <td>0.0</td>\n",
       "      <td>35.90072</td>\n",
       "      <td>1</td>\n",
       "      <td>6</td>\n",
       "      <td>2014</td>\n",
       "      <td>0</td>\n",
       "      <td>72</td>\n",
       "    </tr>\n",
       "    <tr>\n",
       "      <th>1</th>\n",
       "      <td>2020-01-01</td>\n",
       "      <td>7347299.0</td>\n",
       "      <td>5647</td>\n",
       "      <td>2014-02-14</td>\n",
       "      <td>BB</td>\n",
       "      <td>182009</td>\n",
       "      <td>A</td>\n",
       "      <td>1</td>\n",
       "      <td>J</td>\n",
       "      <td>2020</td>\n",
       "      <td>...</td>\n",
       "      <td>0.3</td>\n",
       "      <td>6.2</td>\n",
       "      <td>0.1</td>\n",
       "      <td>0.0</td>\n",
       "      <td>35.90072</td>\n",
       "      <td>1</td>\n",
       "      <td>6</td>\n",
       "      <td>2014</td>\n",
       "      <td>0</td>\n",
       "      <td>71</td>\n",
       "    </tr>\n",
       "    <tr>\n",
       "      <th>2</th>\n",
       "      <td>2020-01-01</td>\n",
       "      <td>7347299.0</td>\n",
       "      <td>33314</td>\n",
       "      <td>2014-11-20</td>\n",
       "      <td>BB</td>\n",
       "      <td>82431</td>\n",
       "      <td>A</td>\n",
       "      <td>1</td>\n",
       "      <td>SC</td>\n",
       "      <td>2020</td>\n",
       "      <td>...</td>\n",
       "      <td>0.3</td>\n",
       "      <td>6.2</td>\n",
       "      <td>0.1</td>\n",
       "      <td>0.0</td>\n",
       "      <td>35.90072</td>\n",
       "      <td>1</td>\n",
       "      <td>6</td>\n",
       "      <td>2014</td>\n",
       "      <td>0</td>\n",
       "      <td>61</td>\n",
       "    </tr>\n",
       "    <tr>\n",
       "      <th>3</th>\n",
       "      <td>2020-01-01</td>\n",
       "      <td>7347299.0</td>\n",
       "      <td>37001</td>\n",
       "      <td>2014-12-04</td>\n",
       "      <td>BB</td>\n",
       "      <td>725</td>\n",
       "      <td>C</td>\n",
       "      <td>1</td>\n",
       "      <td>MP</td>\n",
       "      <td>2020</td>\n",
       "      <td>...</td>\n",
       "      <td>0.3</td>\n",
       "      <td>6.2</td>\n",
       "      <td>0.1</td>\n",
       "      <td>0.0</td>\n",
       "      <td>35.90072</td>\n",
       "      <td>1</td>\n",
       "      <td>6</td>\n",
       "      <td>2014</td>\n",
       "      <td>0</td>\n",
       "      <td>61</td>\n",
       "    </tr>\n",
       "  </tbody>\n",
       "</table>\n",
       "<p>4 rows × 29 columns</p>\n",
       "</div>"
      ],
      "text/plain": [
       "        date  traffic_sum  user_id  join_date d_type  store_id goods_type  \\\n",
       "0 2020-01-01    7347299.0     2858 2014-01-07     AA      1892          A   \n",
       "1 2020-01-01    7347299.0     5647 2014-02-14     BB    182009          A   \n",
       "2 2020-01-01    7347299.0    33314 2014-11-20     BB     82431          A   \n",
       "3 2020-01-01    7347299.0    37001 2014-12-04     BB       725          C   \n",
       "\n",
       "   count ad1  year  ...  max_temp  diff_temp  강수량  적설량 discomfort israiny  \\\n",
       "0      1  GN  2020  ...       0.3        6.2  0.1  0.0   35.90072       1   \n",
       "1      1   J  2020  ...       0.3        6.2  0.1  0.0   35.90072       1   \n",
       "2      1  SC  2020  ...       0.3        6.2  0.1  0.0   35.90072       1   \n",
       "3      1  MP  2020  ...       0.3        6.2  0.1  0.0   35.90072       1   \n",
       "\n",
       "   eng  join_year  visit_lag  eng_month  \n",
       "0    6       2014          0         72  \n",
       "1    6       2014          0         71  \n",
       "2    6       2014          0         61  \n",
       "3    6       2014          0         61  \n",
       "\n",
       "[4 rows x 29 columns]"
      ]
     },
     "execution_count": 708,
     "metadata": {},
     "output_type": "execute_result"
    }
   ],
   "source": [
    "traffic['traffic_sum'] = traffic.loc[:,'0시':'23시'].sum(axis = 1)\n",
    "traffic_grouped = traffic.groupby('DATE')['traffic_sum'].sum().reset_index().rename(columns = {'DATE' : 'date'})\n",
    "df_traffic = traffic_grouped.merge(df_eda, how = 'outer', on = 'date')\n",
    "df_traffic.head(4)"
   ]
  },
  {
   "cell_type": "markdown",
   "metadata": {},
   "source": [
    "#### Retention by order(count) date\n",
    "- cohort analysis 목적 : 시간이 지남에 따라 고객 잔존율을 보고자함\n",
    "- cohorts 첫 구매(count) date 월별 **유저 잔존율 / count 합계** 를 확인함\n",
    "\n",
    "- 첫 구매 = 2020년 첫 구매"
   ]
  },
  {
   "cell_type": "code",
   "execution_count": 18,
   "metadata": {},
   "outputs": [],
   "source": [
    "df_retention = df.sort_values(['user_id','date']).reset_index(drop=True).copy()"
   ]
  },
  {
   "cell_type": "code",
   "execution_count": 19,
   "metadata": {
    "scrolled": false
   },
   "outputs": [
    {
     "data": {
      "text/html": [
       "<div>\n",
       "<style scoped>\n",
       "    .dataframe tbody tr th:only-of-type {\n",
       "        vertical-align: middle;\n",
       "    }\n",
       "\n",
       "    .dataframe tbody tr th {\n",
       "        vertical-align: top;\n",
       "    }\n",
       "\n",
       "    .dataframe thead th {\n",
       "        text-align: right;\n",
       "    }\n",
       "</style>\n",
       "<table border=\"1\" class=\"dataframe\">\n",
       "  <thead>\n",
       "    <tr style=\"text-align: right;\">\n",
       "      <th></th>\n",
       "      <th>user_id</th>\n",
       "      <th>first</th>\n",
       "    </tr>\n",
       "  </thead>\n",
       "  <tbody>\n",
       "    <tr>\n",
       "      <th>0</th>\n",
       "      <td>224</td>\n",
       "      <td>2020-01-12</td>\n",
       "    </tr>\n",
       "    <tr>\n",
       "      <th>1</th>\n",
       "      <td>232</td>\n",
       "      <td>2020-01-19</td>\n",
       "    </tr>\n",
       "  </tbody>\n",
       "</table>\n",
       "</div>"
      ],
      "text/plain": [
       "   user_id       first\n",
       "0      224  2020-01-12\n",
       "1      232  2020-01-19"
      ]
     },
     "execution_count": 19,
     "metadata": {},
     "output_type": "execute_result"
    }
   ],
   "source": [
    "# 2020년 첫 구매일자\n",
    "df_retention_first= pd.DataFrame(df_retention.groupby('user_id')['date'].min()).reset_index()\n",
    "df_retention_first.columns=['user_id','first']\n",
    "df_retention_first.head(2)"
   ]
  },
  {
   "cell_type": "code",
   "execution_count": 20,
   "metadata": {
    "scrolled": false
   },
   "outputs": [
    {
     "data": {
      "text/html": [
       "<div>\n",
       "<style scoped>\n",
       "    .dataframe tbody tr th:only-of-type {\n",
       "        vertical-align: middle;\n",
       "    }\n",
       "\n",
       "    .dataframe tbody tr th {\n",
       "        vertical-align: top;\n",
       "    }\n",
       "\n",
       "    .dataframe thead th {\n",
       "        text-align: right;\n",
       "    }\n",
       "</style>\n",
       "<table border=\"1\" class=\"dataframe\">\n",
       "  <thead>\n",
       "    <tr style=\"text-align: right;\">\n",
       "      <th></th>\n",
       "      <th>user_id</th>\n",
       "      <th>join_date</th>\n",
       "      <th>d_type</th>\n",
       "      <th>store_id</th>\n",
       "      <th>goods_type</th>\n",
       "      <th>date</th>\n",
       "      <th>count</th>\n",
       "      <th>ad1</th>\n",
       "      <th>year</th>\n",
       "      <th>month</th>\n",
       "      <th>day</th>\n",
       "      <th>dayofweek</th>\n",
       "      <th>quarter</th>\n",
       "      <th>first</th>\n",
       "    </tr>\n",
       "  </thead>\n",
       "  <tbody>\n",
       "    <tr>\n",
       "      <th>0</th>\n",
       "      <td>224</td>\n",
       "      <td>2013-12-16</td>\n",
       "      <td>AA</td>\n",
       "      <td>92510</td>\n",
       "      <td>A</td>\n",
       "      <td>2020-01-12</td>\n",
       "      <td>1</td>\n",
       "      <td>J</td>\n",
       "      <td>2020</td>\n",
       "      <td>1</td>\n",
       "      <td>12</td>\n",
       "      <td>6</td>\n",
       "      <td>1</td>\n",
       "      <td>2020-01-12</td>\n",
       "    </tr>\n",
       "    <tr>\n",
       "      <th>1</th>\n",
       "      <td>224</td>\n",
       "      <td>2013-12-16</td>\n",
       "      <td>AA</td>\n",
       "      <td>181833</td>\n",
       "      <td>C</td>\n",
       "      <td>2020-12-09</td>\n",
       "      <td>1</td>\n",
       "      <td>J</td>\n",
       "      <td>2020</td>\n",
       "      <td>12</td>\n",
       "      <td>9</td>\n",
       "      <td>2</td>\n",
       "      <td>4</td>\n",
       "      <td>2020-01-12</td>\n",
       "    </tr>\n",
       "    <tr>\n",
       "      <th>2</th>\n",
       "      <td>232</td>\n",
       "      <td>2013-12-17</td>\n",
       "      <td>BB</td>\n",
       "      <td>109555</td>\n",
       "      <td>C</td>\n",
       "      <td>2020-01-19</td>\n",
       "      <td>1</td>\n",
       "      <td>GJ</td>\n",
       "      <td>2020</td>\n",
       "      <td>1</td>\n",
       "      <td>19</td>\n",
       "      <td>6</td>\n",
       "      <td>1</td>\n",
       "      <td>2020-01-19</td>\n",
       "    </tr>\n",
       "    <tr>\n",
       "      <th>3</th>\n",
       "      <td>232</td>\n",
       "      <td>2013-12-17</td>\n",
       "      <td>BB</td>\n",
       "      <td>28018</td>\n",
       "      <td>C</td>\n",
       "      <td>2020-01-26</td>\n",
       "      <td>1</td>\n",
       "      <td>JRR</td>\n",
       "      <td>2020</td>\n",
       "      <td>1</td>\n",
       "      <td>26</td>\n",
       "      <td>6</td>\n",
       "      <td>1</td>\n",
       "      <td>2020-01-19</td>\n",
       "    </tr>\n",
       "  </tbody>\n",
       "</table>\n",
       "</div>"
      ],
      "text/plain": [
       "   user_id  join_date d_type  store_id goods_type        date  count  ad1  \\\n",
       "0      224 2013-12-16     AA     92510          A  2020-01-12      1    J   \n",
       "1      224 2013-12-16     AA    181833          C  2020-12-09      1    J   \n",
       "2      232 2013-12-17     BB    109555          C  2020-01-19      1   GJ   \n",
       "3      232 2013-12-17     BB     28018          C  2020-01-26      1  JRR   \n",
       "\n",
       "   year  month  day  dayofweek  quarter       first  \n",
       "0  2020      1   12          6        1  2020-01-12  \n",
       "1  2020     12    9          2        4  2020-01-12  \n",
       "2  2020      1   19          6        1  2020-01-19  \n",
       "3  2020      1   26          6        1  2020-01-19  "
      ]
     },
     "execution_count": 20,
     "metadata": {},
     "output_type": "execute_result"
    }
   ],
   "source": [
    "# 첫구매일자정보 추가\n",
    "df_retention = df_retention.merge(df_retention_first, on='user_id', how='left')\n",
    "df_retention.head(4)"
   ]
  },
  {
   "cell_type": "code",
   "execution_count": 21,
   "metadata": {
    "scrolled": true
   },
   "outputs": [
    {
     "data": {
      "text/html": [
       "<div>\n",
       "<style scoped>\n",
       "    .dataframe tbody tr th:only-of-type {\n",
       "        vertical-align: middle;\n",
       "    }\n",
       "\n",
       "    .dataframe tbody tr th {\n",
       "        vertical-align: top;\n",
       "    }\n",
       "\n",
       "    .dataframe thead th {\n",
       "        text-align: right;\n",
       "    }\n",
       "</style>\n",
       "<table border=\"1\" class=\"dataframe\">\n",
       "  <thead>\n",
       "    <tr style=\"text-align: right;\">\n",
       "      <th></th>\n",
       "      <th>user_id</th>\n",
       "      <th>join_date</th>\n",
       "      <th>d_type</th>\n",
       "      <th>store_id</th>\n",
       "      <th>goods_type</th>\n",
       "      <th>date</th>\n",
       "      <th>count</th>\n",
       "      <th>ad1</th>\n",
       "      <th>year</th>\n",
       "      <th>month</th>\n",
       "      <th>day</th>\n",
       "      <th>dayofweek</th>\n",
       "      <th>quarter</th>\n",
       "      <th>first</th>\n",
       "      <th>isrepeated</th>\n",
       "    </tr>\n",
       "  </thead>\n",
       "  <tbody>\n",
       "    <tr>\n",
       "      <th>0</th>\n",
       "      <td>224</td>\n",
       "      <td>2013-12-16</td>\n",
       "      <td>AA</td>\n",
       "      <td>92510</td>\n",
       "      <td>A</td>\n",
       "      <td>2020-01-12</td>\n",
       "      <td>1</td>\n",
       "      <td>J</td>\n",
       "      <td>2020</td>\n",
       "      <td>1</td>\n",
       "      <td>12</td>\n",
       "      <td>6</td>\n",
       "      <td>1</td>\n",
       "      <td>2020-01-12</td>\n",
       "      <td>0</td>\n",
       "    </tr>\n",
       "    <tr>\n",
       "      <th>1</th>\n",
       "      <td>224</td>\n",
       "      <td>2013-12-16</td>\n",
       "      <td>AA</td>\n",
       "      <td>181833</td>\n",
       "      <td>C</td>\n",
       "      <td>2020-12-09</td>\n",
       "      <td>1</td>\n",
       "      <td>J</td>\n",
       "      <td>2020</td>\n",
       "      <td>12</td>\n",
       "      <td>9</td>\n",
       "      <td>2</td>\n",
       "      <td>4</td>\n",
       "      <td>2020-01-12</td>\n",
       "      <td>1</td>\n",
       "    </tr>\n",
       "  </tbody>\n",
       "</table>\n",
       "</div>"
      ],
      "text/plain": [
       "   user_id  join_date d_type  store_id goods_type        date  count ad1  \\\n",
       "0      224 2013-12-16     AA     92510          A  2020-01-12      1   J   \n",
       "1      224 2013-12-16     AA    181833          C  2020-12-09      1   J   \n",
       "\n",
       "   year  month  day  dayofweek  quarter       first  isrepeated  \n",
       "0  2020      1   12          6        1  2020-01-12           0  \n",
       "1  2020     12    9          2        4  2020-01-12           1  "
      ]
     },
     "execution_count": 21,
     "metadata": {},
     "output_type": "execute_result"
    }
   ],
   "source": [
    "df_retention['isrepeated'] = np.where(df_retention['date'] != df_retention['first'],1,0)\n",
    "df_retention.head(2)"
   ]
  },
  {
   "cell_type": "code",
   "execution_count": 27,
   "metadata": {},
   "outputs": [],
   "source": [
    "df_retention['first']= pd.to_datetime(df_retention['first'])"
   ]
  },
  {
   "cell_type": "code",
   "execution_count": 22,
   "metadata": {
    "scrolled": true
   },
   "outputs": [
    {
     "ename": "AttributeError",
     "evalue": "Can only use .dt accessor with datetimelike values",
     "output_type": "error",
     "traceback": [
      "\u001b[1;31m---------------------------------------------------------------------------\u001b[0m",
      "\u001b[1;31mAttributeError\u001b[0m                            Traceback (most recent call last)",
      "\u001b[1;32m<ipython-input-22-3f5b9b7ba0aa>\u001b[0m in \u001b[0;36m<module>\u001b[1;34m\u001b[0m\n\u001b[0;32m      2\u001b[0m \u001b[0mfig\u001b[0m\u001b[1;33m,\u001b[0m \u001b[0maxes\u001b[0m \u001b[1;33m=\u001b[0m \u001b[0mplt\u001b[0m\u001b[1;33m.\u001b[0m\u001b[0msubplots\u001b[0m\u001b[1;33m(\u001b[0m\u001b[0mnrows\u001b[0m\u001b[1;33m=\u001b[0m\u001b[1;36m1\u001b[0m\u001b[1;33m,\u001b[0m \u001b[0mncols\u001b[0m\u001b[1;33m=\u001b[0m\u001b[1;36m2\u001b[0m\u001b[1;33m,\u001b[0m\u001b[0mfigsize\u001b[0m\u001b[1;33m=\u001b[0m\u001b[1;33m(\u001b[0m\u001b[1;36m20\u001b[0m\u001b[1;33m,\u001b[0m\u001b[1;36m5\u001b[0m\u001b[1;33m)\u001b[0m\u001b[1;33m)\u001b[0m\u001b[1;33m\u001b[0m\u001b[1;33m\u001b[0m\u001b[0m\n\u001b[0;32m      3\u001b[0m \u001b[0mplt\u001b[0m\u001b[1;33m.\u001b[0m\u001b[0msuptitle\u001b[0m\u001b[1;33m(\u001b[0m\u001b[1;34m'2020 첫 구매 월 기준 count 합계 / 유저 수'\u001b[0m\u001b[1;33m)\u001b[0m\u001b[1;33m\u001b[0m\u001b[1;33m\u001b[0m\u001b[0m\n\u001b[1;32m----> 4\u001b[1;33m \u001b[0mdf_retention\u001b[0m\u001b[1;33m.\u001b[0m\u001b[0mgroupby\u001b[0m\u001b[1;33m(\u001b[0m\u001b[0mdf_retention\u001b[0m\u001b[1;33m[\u001b[0m\u001b[1;34m'first'\u001b[0m\u001b[1;33m]\u001b[0m\u001b[1;33m.\u001b[0m\u001b[0mdt\u001b[0m\u001b[1;33m.\u001b[0m\u001b[0mmonth\u001b[0m\u001b[1;33m)\u001b[0m\u001b[1;33m[\u001b[0m\u001b[1;34m'count'\u001b[0m\u001b[1;33m]\u001b[0m\u001b[1;33m.\u001b[0m\u001b[0msum\u001b[0m\u001b[1;33m(\u001b[0m\u001b[1;33m)\u001b[0m\u001b[1;33m.\u001b[0m\u001b[0mplot\u001b[0m\u001b[1;33m.\u001b[0m\u001b[0mbar\u001b[0m\u001b[1;33m(\u001b[0m\u001b[0mrot\u001b[0m\u001b[1;33m=\u001b[0m\u001b[1;36m0\u001b[0m\u001b[1;33m,\u001b[0m \u001b[0max\u001b[0m\u001b[1;33m=\u001b[0m\u001b[0maxes\u001b[0m\u001b[1;33m[\u001b[0m\u001b[1;36m0\u001b[0m\u001b[1;33m]\u001b[0m\u001b[1;33m)\u001b[0m\u001b[1;33m\u001b[0m\u001b[1;33m\u001b[0m\u001b[0m\n\u001b[0m\u001b[0;32m      5\u001b[0m \u001b[0mdf_retention\u001b[0m\u001b[1;33m.\u001b[0m\u001b[0mgroupby\u001b[0m\u001b[1;33m(\u001b[0m\u001b[0mdf_retention\u001b[0m\u001b[1;33m[\u001b[0m\u001b[1;34m'first'\u001b[0m\u001b[1;33m]\u001b[0m\u001b[1;33m.\u001b[0m\u001b[0mdt\u001b[0m\u001b[1;33m.\u001b[0m\u001b[0mmonth\u001b[0m\u001b[1;33m)\u001b[0m\u001b[1;33m[\u001b[0m\u001b[1;34m'user_id'\u001b[0m\u001b[1;33m]\u001b[0m\u001b[1;33m.\u001b[0m\u001b[0mnunique\u001b[0m\u001b[1;33m(\u001b[0m\u001b[1;33m)\u001b[0m\u001b[1;33m.\u001b[0m\u001b[0mplot\u001b[0m\u001b[1;33m.\u001b[0m\u001b[0mbar\u001b[0m\u001b[1;33m(\u001b[0m\u001b[0mrot\u001b[0m\u001b[1;33m=\u001b[0m\u001b[1;36m0\u001b[0m\u001b[1;33m,\u001b[0m \u001b[0max\u001b[0m\u001b[1;33m=\u001b[0m\u001b[0maxes\u001b[0m\u001b[1;33m[\u001b[0m\u001b[1;36m1\u001b[0m\u001b[1;33m]\u001b[0m\u001b[1;33m)\u001b[0m\u001b[1;33m\u001b[0m\u001b[1;33m\u001b[0m\u001b[0m\n",
      "\u001b[1;32m~\\AppData\\Local\\Continuum\\anaconda3\\lib\\site-packages\\pandas\\core\\generic.py\u001b[0m in \u001b[0;36m__getattr__\u001b[1;34m(self, name)\u001b[0m\n\u001b[0;32m   5459\u001b[0m             \u001b[1;32mor\u001b[0m \u001b[0mname\u001b[0m \u001b[1;32min\u001b[0m \u001b[0mself\u001b[0m\u001b[1;33m.\u001b[0m\u001b[0m_accessors\u001b[0m\u001b[1;33m\u001b[0m\u001b[1;33m\u001b[0m\u001b[0m\n\u001b[0;32m   5460\u001b[0m         ):\n\u001b[1;32m-> 5461\u001b[1;33m             \u001b[1;32mreturn\u001b[0m \u001b[0mobject\u001b[0m\u001b[1;33m.\u001b[0m\u001b[0m__getattribute__\u001b[0m\u001b[1;33m(\u001b[0m\u001b[0mself\u001b[0m\u001b[1;33m,\u001b[0m \u001b[0mname\u001b[0m\u001b[1;33m)\u001b[0m\u001b[1;33m\u001b[0m\u001b[1;33m\u001b[0m\u001b[0m\n\u001b[0m\u001b[0;32m   5462\u001b[0m         \u001b[1;32melse\u001b[0m\u001b[1;33m:\u001b[0m\u001b[1;33m\u001b[0m\u001b[1;33m\u001b[0m\u001b[0m\n\u001b[0;32m   5463\u001b[0m             \u001b[1;32mif\u001b[0m \u001b[0mself\u001b[0m\u001b[1;33m.\u001b[0m\u001b[0m_info_axis\u001b[0m\u001b[1;33m.\u001b[0m\u001b[0m_can_hold_identifiers_and_holds_name\u001b[0m\u001b[1;33m(\u001b[0m\u001b[0mname\u001b[0m\u001b[1;33m)\u001b[0m\u001b[1;33m:\u001b[0m\u001b[1;33m\u001b[0m\u001b[1;33m\u001b[0m\u001b[0m\n",
      "\u001b[1;32m~\\AppData\\Local\\Continuum\\anaconda3\\lib\\site-packages\\pandas\\core\\accessor.py\u001b[0m in \u001b[0;36m__get__\u001b[1;34m(self, obj, cls)\u001b[0m\n\u001b[0;32m    178\u001b[0m             \u001b[1;31m# we're accessing the attribute of the class, i.e., Dataset.geo\u001b[0m\u001b[1;33m\u001b[0m\u001b[1;33m\u001b[0m\u001b[1;33m\u001b[0m\u001b[0m\n\u001b[0;32m    179\u001b[0m             \u001b[1;32mreturn\u001b[0m \u001b[0mself\u001b[0m\u001b[1;33m.\u001b[0m\u001b[0m_accessor\u001b[0m\u001b[1;33m\u001b[0m\u001b[1;33m\u001b[0m\u001b[0m\n\u001b[1;32m--> 180\u001b[1;33m         \u001b[0maccessor_obj\u001b[0m \u001b[1;33m=\u001b[0m \u001b[0mself\u001b[0m\u001b[1;33m.\u001b[0m\u001b[0m_accessor\u001b[0m\u001b[1;33m(\u001b[0m\u001b[0mobj\u001b[0m\u001b[1;33m)\u001b[0m\u001b[1;33m\u001b[0m\u001b[1;33m\u001b[0m\u001b[0m\n\u001b[0m\u001b[0;32m    181\u001b[0m         \u001b[1;31m# Replace the property with the accessor object. Inspired by:\u001b[0m\u001b[1;33m\u001b[0m\u001b[1;33m\u001b[0m\u001b[1;33m\u001b[0m\u001b[0m\n\u001b[0;32m    182\u001b[0m         \u001b[1;31m# https://www.pydanny.com/cached-property.html\u001b[0m\u001b[1;33m\u001b[0m\u001b[1;33m\u001b[0m\u001b[1;33m\u001b[0m\u001b[0m\n",
      "\u001b[1;32m~\\AppData\\Local\\Continuum\\anaconda3\\lib\\site-packages\\pandas\\core\\indexes\\accessors.py\u001b[0m in \u001b[0;36m__new__\u001b[1;34m(cls, data)\u001b[0m\n\u001b[0;32m    492\u001b[0m             \u001b[1;32mreturn\u001b[0m \u001b[0mPeriodProperties\u001b[0m\u001b[1;33m(\u001b[0m\u001b[0mdata\u001b[0m\u001b[1;33m,\u001b[0m \u001b[0morig\u001b[0m\u001b[1;33m)\u001b[0m\u001b[1;33m\u001b[0m\u001b[1;33m\u001b[0m\u001b[0m\n\u001b[0;32m    493\u001b[0m \u001b[1;33m\u001b[0m\u001b[0m\n\u001b[1;32m--> 494\u001b[1;33m         \u001b[1;32mraise\u001b[0m \u001b[0mAttributeError\u001b[0m\u001b[1;33m(\u001b[0m\u001b[1;34m\"Can only use .dt accessor with datetimelike values\"\u001b[0m\u001b[1;33m)\u001b[0m\u001b[1;33m\u001b[0m\u001b[1;33m\u001b[0m\u001b[0m\n\u001b[0m",
      "\u001b[1;31mAttributeError\u001b[0m: Can only use .dt accessor with datetimelike values"
     ]
    },
    {
     "data": {
      "image/png": "[encoded data removed]",
      "text/plain": [
       "<Figure size 1440x360 with 2 Axes>"
      ]
     },
     "metadata": {
      "needs_background": "light"
     },
     "output_type": "display_data"
    }
   ],
   "source": [
    "# first 첫 구매 월 기준 count합계 / 유저 수 \n",
    "fig, axes = plt.subplots(nrows=1, ncols=2,figsize=(20,5))\n",
    "plt.suptitle('2020 첫 구매 월 기준 count 합계 / 유저 수')\n",
    "df_retention.groupby(df_retention['first'].dt.month)['count'].sum().plot.bar(rot=0, ax=axes[0])\n",
    "df_retention.groupby(df_retention['first'].dt.month)['user_id'].nunique().plot.bar(rot=0, ax=axes[1])"
   ]
  },
  {
   "cell_type": "markdown",
   "metadata": {},
   "source": [
    "- 첫구매 월 1월이 제일 많음 "
   ]
  },
  {
   "cell_type": "code",
   "execution_count": 28,
   "metadata": {
    "scrolled": true
   },
   "outputs": [
    {
     "data": {
      "text/plain": [
       "<matplotlib.axes._subplots.AxesSubplot at 0x24a12169400>"
      ]
     },
     "execution_count": 28,
     "metadata": {},
     "output_type": "execute_result"
    },
    {
     "data": {
      "image/png": "[encoded data removed]",
      "text/plain": [
       "<Figure size 432x216 with 1 Axes>"
      ]
     },
     "metadata": {
      "needs_background": "light"
     },
     "output_type": "display_data"
    }
   ],
   "source": [
    "plt.title('첫 구매 1월인 그룹 가입년도')\n",
    "df_retention.query('first.dt.month==1')['join_date'].dt.year.value_counts().plot.bar(rot=0, figsize=(6,3))"
   ]
  },
  {
   "cell_type": "markdown",
   "metadata": {},
   "source": [
    "- 2020년 첫 구매 1월인 가입년도 2019년 유저 압도적 > join date도 count와 어느정도 관련 있을 것 "
   ]
  },
  {
   "cell_type": "markdown",
   "metadata": {},
   "source": [
    "##### code"
   ]
  },
  {
   "cell_type": "code",
   "execution_count": 25,
   "metadata": {},
   "outputs": [],
   "source": [
    "df_retention['date']=pd.to_datetime(df_retention['date'])"
   ]
  },
  {
   "cell_type": "code",
   "execution_count": 29,
   "metadata": {
    "scrolled": false
   },
   "outputs": [
    {
     "data": {
      "text/html": [
       "<div>\n",
       "<style scoped>\n",
       "    .dataframe tbody tr th:only-of-type {\n",
       "        vertical-align: middle;\n",
       "    }\n",
       "\n",
       "    .dataframe tbody tr th {\n",
       "        vertical-align: top;\n",
       "    }\n",
       "\n",
       "    .dataframe thead th {\n",
       "        text-align: right;\n",
       "    }\n",
       "</style>\n",
       "<table border=\"1\" class=\"dataframe\">\n",
       "  <thead>\n",
       "    <tr style=\"text-align: right;\">\n",
       "      <th></th>\n",
       "      <th>user_id</th>\n",
       "      <th>join_date</th>\n",
       "      <th>d_type</th>\n",
       "      <th>store_id</th>\n",
       "      <th>goods_type</th>\n",
       "      <th>date</th>\n",
       "      <th>count</th>\n",
       "      <th>ad1</th>\n",
       "      <th>year</th>\n",
       "      <th>month</th>\n",
       "      <th>day</th>\n",
       "      <th>dayofweek</th>\n",
       "      <th>quarter</th>\n",
       "      <th>first</th>\n",
       "      <th>isrepeated</th>\n",
       "      <th>cohort_month</th>\n",
       "    </tr>\n",
       "  </thead>\n",
       "  <tbody>\n",
       "    <tr>\n",
       "      <th>0</th>\n",
       "      <td>224</td>\n",
       "      <td>2013-12-16</td>\n",
       "      <td>AA</td>\n",
       "      <td>92510</td>\n",
       "      <td>A</td>\n",
       "      <td>2020-01-12</td>\n",
       "      <td>1</td>\n",
       "      <td>J</td>\n",
       "      <td>2020</td>\n",
       "      <td>1</td>\n",
       "      <td>12</td>\n",
       "      <td>6</td>\n",
       "      <td>1</td>\n",
       "      <td>2020-01-12</td>\n",
       "      <td>0</td>\n",
       "      <td>1</td>\n",
       "    </tr>\n",
       "    <tr>\n",
       "      <th>1</th>\n",
       "      <td>224</td>\n",
       "      <td>2013-12-16</td>\n",
       "      <td>AA</td>\n",
       "      <td>181833</td>\n",
       "      <td>C</td>\n",
       "      <td>2020-12-09</td>\n",
       "      <td>1</td>\n",
       "      <td>J</td>\n",
       "      <td>2020</td>\n",
       "      <td>12</td>\n",
       "      <td>9</td>\n",
       "      <td>2</td>\n",
       "      <td>4</td>\n",
       "      <td>2020-01-12</td>\n",
       "      <td>1</td>\n",
       "      <td>1</td>\n",
       "    </tr>\n",
       "    <tr>\n",
       "      <th>2</th>\n",
       "      <td>232</td>\n",
       "      <td>2013-12-17</td>\n",
       "      <td>BB</td>\n",
       "      <td>109555</td>\n",
       "      <td>C</td>\n",
       "      <td>2020-01-19</td>\n",
       "      <td>1</td>\n",
       "      <td>GJ</td>\n",
       "      <td>2020</td>\n",
       "      <td>1</td>\n",
       "      <td>19</td>\n",
       "      <td>6</td>\n",
       "      <td>1</td>\n",
       "      <td>2020-01-19</td>\n",
       "      <td>0</td>\n",
       "      <td>1</td>\n",
       "    </tr>\n",
       "    <tr>\n",
       "      <th>3</th>\n",
       "      <td>232</td>\n",
       "      <td>2013-12-17</td>\n",
       "      <td>BB</td>\n",
       "      <td>28018</td>\n",
       "      <td>C</td>\n",
       "      <td>2020-01-26</td>\n",
       "      <td>1</td>\n",
       "      <td>JRR</td>\n",
       "      <td>2020</td>\n",
       "      <td>1</td>\n",
       "      <td>26</td>\n",
       "      <td>6</td>\n",
       "      <td>1</td>\n",
       "      <td>2020-01-19</td>\n",
       "      <td>1</td>\n",
       "      <td>1</td>\n",
       "    </tr>\n",
       "  </tbody>\n",
       "</table>\n",
       "</div>"
      ],
      "text/plain": [
       "   user_id  join_date d_type  store_id goods_type       date  count  ad1  \\\n",
       "0      224 2013-12-16     AA     92510          A 2020-01-12      1    J   \n",
       "1      224 2013-12-16     AA    181833          C 2020-12-09      1    J   \n",
       "2      232 2013-12-17     BB    109555          C 2020-01-19      1   GJ   \n",
       "3      232 2013-12-17     BB     28018          C 2020-01-26      1  JRR   \n",
       "\n",
       "   year  month  day  dayofweek  quarter      first  isrepeated  cohort_month  \n",
       "0  2020      1   12          6        1 2020-01-12           0             1  \n",
       "1  2020     12    9          2        4 2020-01-12           1             1  \n",
       "2  2020      1   19          6        1 2020-01-19           0             1  \n",
       "3  2020      1   26          6        1 2020-01-19           1             1  "
      ]
     },
     "execution_count": 29,
     "metadata": {},
     "output_type": "execute_result"
    }
   ],
   "source": [
    "# cohort_month : 첫 구매 월\n",
    "df_retention['cohort_month'] = df_retention['first'].dt.month\n",
    "df_retention.head(4)"
   ]
  },
  {
   "cell_type": "code",
   "execution_count": 30,
   "metadata": {},
   "outputs": [
    {
     "data": {
      "text/html": [
       "<div>\n",
       "<style scoped>\n",
       "    .dataframe tbody tr th:only-of-type {\n",
       "        vertical-align: middle;\n",
       "    }\n",
       "\n",
       "    .dataframe tbody tr th {\n",
       "        vertical-align: top;\n",
       "    }\n",
       "\n",
       "    .dataframe thead th {\n",
       "        text-align: right;\n",
       "    }\n",
       "</style>\n",
       "<table border=\"1\" class=\"dataframe\">\n",
       "  <thead>\n",
       "    <tr style=\"text-align: right;\">\n",
       "      <th></th>\n",
       "      <th>user_id</th>\n",
       "      <th>join_date</th>\n",
       "      <th>d_type</th>\n",
       "      <th>store_id</th>\n",
       "      <th>goods_type</th>\n",
       "      <th>date</th>\n",
       "      <th>count</th>\n",
       "      <th>ad1</th>\n",
       "      <th>year</th>\n",
       "      <th>month</th>\n",
       "      <th>day</th>\n",
       "      <th>dayofweek</th>\n",
       "      <th>quarter</th>\n",
       "      <th>first</th>\n",
       "      <th>isrepeated</th>\n",
       "      <th>cohort_month</th>\n",
       "      <th>count_month</th>\n",
       "    </tr>\n",
       "  </thead>\n",
       "  <tbody>\n",
       "    <tr>\n",
       "      <th>0</th>\n",
       "      <td>224</td>\n",
       "      <td>2013-12-16</td>\n",
       "      <td>AA</td>\n",
       "      <td>92510</td>\n",
       "      <td>A</td>\n",
       "      <td>2020-01-12</td>\n",
       "      <td>1</td>\n",
       "      <td>J</td>\n",
       "      <td>2020</td>\n",
       "      <td>1</td>\n",
       "      <td>12</td>\n",
       "      <td>6</td>\n",
       "      <td>1</td>\n",
       "      <td>2020-01-12</td>\n",
       "      <td>0</td>\n",
       "      <td>1</td>\n",
       "      <td>1</td>\n",
       "    </tr>\n",
       "    <tr>\n",
       "      <th>1</th>\n",
       "      <td>224</td>\n",
       "      <td>2013-12-16</td>\n",
       "      <td>AA</td>\n",
       "      <td>181833</td>\n",
       "      <td>C</td>\n",
       "      <td>2020-12-09</td>\n",
       "      <td>1</td>\n",
       "      <td>J</td>\n",
       "      <td>2020</td>\n",
       "      <td>12</td>\n",
       "      <td>9</td>\n",
       "      <td>2</td>\n",
       "      <td>4</td>\n",
       "      <td>2020-01-12</td>\n",
       "      <td>1</td>\n",
       "      <td>1</td>\n",
       "      <td>12</td>\n",
       "    </tr>\n",
       "  </tbody>\n",
       "</table>\n",
       "</div>"
      ],
      "text/plain": [
       "   user_id  join_date d_type  store_id goods_type       date  count ad1  year  \\\n",
       "0      224 2013-12-16     AA     92510          A 2020-01-12      1   J  2020   \n",
       "1      224 2013-12-16     AA    181833          C 2020-12-09      1   J  2020   \n",
       "\n",
       "   month  day  dayofweek  quarter      first  isrepeated  cohort_month  \\\n",
       "0      1   12          6        1 2020-01-12           0             1   \n",
       "1     12    9          2        4 2020-01-12           1             1   \n",
       "\n",
       "   count_month  \n",
       "0            1  \n",
       "1           12  "
      ]
     },
     "execution_count": 30,
     "metadata": {},
     "output_type": "execute_result"
    }
   ],
   "source": [
    "# count_month : 구매 월\n",
    "df_retention['date']= pd.to_datetime(df_retention['date'])\n",
    "df_retention['count_month']=df_retention['date'].dt.month\n",
    "df_retention.head(2)"
   ]
  },
  {
   "cell_type": "code",
   "execution_count": 31,
   "metadata": {},
   "outputs": [
    {
     "data": {
      "text/html": [
       "<div>\n",
       "<style scoped>\n",
       "    .dataframe tbody tr th:only-of-type {\n",
       "        vertical-align: middle;\n",
       "    }\n",
       "\n",
       "    .dataframe tbody tr th {\n",
       "        vertical-align: top;\n",
       "    }\n",
       "\n",
       "    .dataframe thead th {\n",
       "        text-align: right;\n",
       "    }\n",
       "</style>\n",
       "<table border=\"1\" class=\"dataframe\">\n",
       "  <thead>\n",
       "    <tr style=\"text-align: right;\">\n",
       "      <th></th>\n",
       "      <th></th>\n",
       "      <th>total_users</th>\n",
       "      <th>total_counts</th>\n",
       "    </tr>\n",
       "    <tr>\n",
       "      <th>cohort_month</th>\n",
       "      <th>count_month</th>\n",
       "      <th></th>\n",
       "      <th></th>\n",
       "    </tr>\n",
       "  </thead>\n",
       "  <tbody>\n",
       "    <tr>\n",
       "      <th rowspan=\"5\" valign=\"top\">1</th>\n",
       "      <th>1</th>\n",
       "      <td>26410</td>\n",
       "      <td>54288</td>\n",
       "    </tr>\n",
       "    <tr>\n",
       "      <th>2</th>\n",
       "      <td>9420</td>\n",
       "      <td>32183</td>\n",
       "    </tr>\n",
       "    <tr>\n",
       "      <th>3</th>\n",
       "      <td>6898</td>\n",
       "      <td>24373</td>\n",
       "    </tr>\n",
       "    <tr>\n",
       "      <th>4</th>\n",
       "      <td>7067</td>\n",
       "      <td>22262</td>\n",
       "    </tr>\n",
       "    <tr>\n",
       "      <th>5</th>\n",
       "      <td>7211</td>\n",
       "      <td>22146</td>\n",
       "    </tr>\n",
       "  </tbody>\n",
       "</table>\n",
       "</div>"
      ],
      "text/plain": [
       "                          total_users  total_counts\n",
       "cohort_month count_month                           \n",
       "1            1                  26410         54288\n",
       "             2                   9420         32183\n",
       "             3                   6898         24373\n",
       "             4                   7067         22262\n",
       "             5                   7211         22146"
      ]
     },
     "execution_count": 31,
     "metadata": {},
     "output_type": "execute_result"
    }
   ],
   "source": [
    "# roll up data by cohort group(첫구매월) & count_month(구매월) \n",
    "# 결제 횟수 count > sum\n",
    "df_retention_cohorts = df_retention.groupby(['cohort_month', 'count_month']).agg({'user_id': pd.Series.nunique,'count': np.sum})\n",
    "df_retention_cohorts = df_retention_cohorts.rename(columns={'user_id': 'total_users', 'count':'total_counts'})\n",
    "df_retention_cohorts.head()"
   ]
  },
  {
   "cell_type": "code",
   "execution_count": 32,
   "metadata": {
    "scrolled": true
   },
   "outputs": [
    {
     "data": {
      "text/html": [
       "<div>\n",
       "<style scoped>\n",
       "    .dataframe tbody tr th:only-of-type {\n",
       "        vertical-align: middle;\n",
       "    }\n",
       "\n",
       "    .dataframe tbody tr th {\n",
       "        vertical-align: top;\n",
       "    }\n",
       "\n",
       "    .dataframe thead th {\n",
       "        text-align: right;\n",
       "    }\n",
       "</style>\n",
       "<table border=\"1\" class=\"dataframe\">\n",
       "  <thead>\n",
       "    <tr style=\"text-align: right;\">\n",
       "      <th></th>\n",
       "      <th></th>\n",
       "      <th>total_users</th>\n",
       "      <th>total_counts</th>\n",
       "      <th>cohort_period</th>\n",
       "    </tr>\n",
       "    <tr>\n",
       "      <th>cohort_month</th>\n",
       "      <th>count_month</th>\n",
       "      <th></th>\n",
       "      <th></th>\n",
       "      <th></th>\n",
       "    </tr>\n",
       "  </thead>\n",
       "  <tbody>\n",
       "    <tr>\n",
       "      <th rowspan=\"5\" valign=\"top\">1</th>\n",
       "      <th>1</th>\n",
       "      <td>26410</td>\n",
       "      <td>54288</td>\n",
       "      <td>1</td>\n",
       "    </tr>\n",
       "    <tr>\n",
       "      <th>2</th>\n",
       "      <td>9420</td>\n",
       "      <td>32183</td>\n",
       "      <td>2</td>\n",
       "    </tr>\n",
       "    <tr>\n",
       "      <th>3</th>\n",
       "      <td>6898</td>\n",
       "      <td>24373</td>\n",
       "      <td>3</td>\n",
       "    </tr>\n",
       "    <tr>\n",
       "      <th>4</th>\n",
       "      <td>7067</td>\n",
       "      <td>22262</td>\n",
       "      <td>4</td>\n",
       "    </tr>\n",
       "    <tr>\n",
       "      <th>5</th>\n",
       "      <td>7211</td>\n",
       "      <td>22146</td>\n",
       "      <td>5</td>\n",
       "    </tr>\n",
       "  </tbody>\n",
       "</table>\n",
       "</div>"
      ],
      "text/plain": [
       "                          total_users  total_counts  cohort_period\n",
       "cohort_month count_month                                          \n",
       "1            1                  26410         54288              1\n",
       "             2                   9420         32183              2\n",
       "             3                   6898         24373              3\n",
       "             4                   7067         22262              4\n",
       "             5                   7211         22146              5"
      ]
     },
     "execution_count": 32,
     "metadata": {},
     "output_type": "execute_result"
    }
   ],
   "source": [
    "# 첫 구매월 이후 기간 생성 1~12\n",
    "def cohort_period(df):\n",
    "    df['cohort_period'] = np.arange(len(df)) + 1\n",
    "    return df\n",
    "\n",
    "df_retention_cohorts = df_retention_cohorts.groupby(level=0).apply(cohort_period)\n",
    "df_retention_cohorts.head()"
   ]
  },
  {
   "cell_type": "markdown",
   "metadata": {},
   "source": [
    "- cohort_month : 첫 구매월 기준으로 나눈 그룹\n",
    "- cohort_period : 첫 구매월 이후 월"
   ]
  },
  {
   "cell_type": "code",
   "execution_count": 225,
   "metadata": {
    "scrolled": true
   },
   "outputs": [
    {
     "data": {
      "text/html": [
       "<div>\n",
       "<style scoped>\n",
       "    .dataframe tbody tr th:only-of-type {\n",
       "        vertical-align: middle;\n",
       "    }\n",
       "\n",
       "    .dataframe tbody tr th {\n",
       "        vertical-align: top;\n",
       "    }\n",
       "\n",
       "    .dataframe thead th {\n",
       "        text-align: right;\n",
       "    }\n",
       "</style>\n",
       "<table border=\"1\" class=\"dataframe\">\n",
       "  <thead>\n",
       "    <tr style=\"text-align: right;\">\n",
       "      <th></th>\n",
       "      <th></th>\n",
       "      <th>total_users</th>\n",
       "      <th>total_counts</th>\n",
       "      <th>cohort_period</th>\n",
       "    </tr>\n",
       "    <tr>\n",
       "      <th>cohort_month</th>\n",
       "      <th>count_month</th>\n",
       "      <th></th>\n",
       "      <th></th>\n",
       "      <th></th>\n",
       "    </tr>\n",
       "  </thead>\n",
       "  <tbody>\n",
       "    <tr>\n",
       "      <th rowspan=\"2\" valign=\"top\">10</th>\n",
       "      <th>11</th>\n",
       "      <td>3134</td>\n",
       "      <td>8811</td>\n",
       "      <td>2</td>\n",
       "    </tr>\n",
       "    <tr>\n",
       "      <th>12</th>\n",
       "      <td>1793</td>\n",
       "      <td>5060</td>\n",
       "      <td>3</td>\n",
       "    </tr>\n",
       "    <tr>\n",
       "      <th rowspan=\"2\" valign=\"top\">11</th>\n",
       "      <th>11</th>\n",
       "      <td>12931</td>\n",
       "      <td>19735</td>\n",
       "      <td>1</td>\n",
       "    </tr>\n",
       "    <tr>\n",
       "      <th>12</th>\n",
       "      <td>2359</td>\n",
       "      <td>7422</td>\n",
       "      <td>2</td>\n",
       "    </tr>\n",
       "    <tr>\n",
       "      <th>12</th>\n",
       "      <th>12</th>\n",
       "      <td>8901</td>\n",
       "      <td>16417</td>\n",
       "      <td>1</td>\n",
       "    </tr>\n",
       "  </tbody>\n",
       "</table>\n",
       "</div>"
      ],
      "text/plain": [
       "                          total_users  total_counts  cohort_period\n",
       "cohort_month count_month                                          \n",
       "10           11                  3134          8811              2\n",
       "             12                  1793          5060              3\n",
       "11           11                 12931         19735              1\n",
       "             12                  2359          7422              2\n",
       "12           12                  8901         16417              1"
      ]
     },
     "execution_count": 225,
     "metadata": {},
     "output_type": "execute_result"
    }
   ],
   "source": [
    "df_retention_cohorts.tail()"
   ]
  },
  {
   "cell_type": "code",
   "execution_count": 33,
   "metadata": {},
   "outputs": [
    {
     "data": {
      "text/plain": [
       "cohort_month\n",
       "1    26410\n",
       "2    15318\n",
       "3    12593\n",
       "4    12871\n",
       "5    13822\n",
       "Name: total_users, dtype: int64"
      ]
     },
     "execution_count": 33,
     "metadata": {},
     "output_type": "execute_result"
    }
   ],
   "source": [
    "df_retention_cohorts.reset_index(inplace=True)\n",
    "df_retention_cohorts.set_index(['cohort_month', 'cohort_period'], inplace=True)\n",
    "\n",
    "# cohort group별 user수 (size) > pct 계산을 위해\n",
    "cohort_group_size = df_retention_cohorts['total_users'].groupby(level=0).first()\n",
    "cohort_group_size.head()"
   ]
  },
  {
   "cell_type": "code",
   "execution_count": 37,
   "metadata": {
    "scrolled": true
   },
   "outputs": [
    {
     "data": {
      "text/html": [
       "<div>\n",
       "<style scoped>\n",
       "    .dataframe tbody tr th:only-of-type {\n",
       "        vertical-align: middle;\n",
       "    }\n",
       "\n",
       "    .dataframe tbody tr th {\n",
       "        vertical-align: top;\n",
       "    }\n",
       "\n",
       "    .dataframe thead th {\n",
       "        text-align: right;\n",
       "    }\n",
       "</style>\n",
       "<table border=\"1\" class=\"dataframe\">\n",
       "  <thead>\n",
       "    <tr style=\"text-align: right;\">\n",
       "      <th>cohort_period</th>\n",
       "      <th>1</th>\n",
       "      <th>2</th>\n",
       "      <th>3</th>\n",
       "      <th>4</th>\n",
       "      <th>5</th>\n",
       "      <th>6</th>\n",
       "      <th>7</th>\n",
       "      <th>8</th>\n",
       "      <th>9</th>\n",
       "      <th>10</th>\n",
       "      <th>11</th>\n",
       "      <th>12</th>\n",
       "    </tr>\n",
       "    <tr>\n",
       "      <th>cohort_month</th>\n",
       "      <th></th>\n",
       "      <th></th>\n",
       "      <th></th>\n",
       "      <th></th>\n",
       "      <th></th>\n",
       "      <th></th>\n",
       "      <th></th>\n",
       "      <th></th>\n",
       "      <th></th>\n",
       "      <th></th>\n",
       "      <th></th>\n",
       "      <th></th>\n",
       "    </tr>\n",
       "  </thead>\n",
       "  <tbody>\n",
       "    <tr>\n",
       "      <th>1</th>\n",
       "      <td>26410.0</td>\n",
       "      <td>9420.0</td>\n",
       "      <td>6898.0</td>\n",
       "      <td>7067.0</td>\n",
       "      <td>7211.0</td>\n",
       "      <td>6597.0</td>\n",
       "      <td>6675.0</td>\n",
       "      <td>5839.0</td>\n",
       "      <td>5012.0</td>\n",
       "      <td>5824.0</td>\n",
       "      <td>5482.0</td>\n",
       "      <td>3884.0</td>\n",
       "    </tr>\n",
       "    <tr>\n",
       "      <th>2</th>\n",
       "      <td>15318.0</td>\n",
       "      <td>4187.0</td>\n",
       "      <td>3686.0</td>\n",
       "      <td>3587.0</td>\n",
       "      <td>3246.0</td>\n",
       "      <td>3231.0</td>\n",
       "      <td>2861.0</td>\n",
       "      <td>2450.0</td>\n",
       "      <td>2762.0</td>\n",
       "      <td>2593.0</td>\n",
       "      <td>1923.0</td>\n",
       "      <td>NaN</td>\n",
       "    </tr>\n",
       "    <tr>\n",
       "      <th>3</th>\n",
       "      <td>12593.0</td>\n",
       "      <td>3932.0</td>\n",
       "      <td>3234.0</td>\n",
       "      <td>2785.0</td>\n",
       "      <td>2758.0</td>\n",
       "      <td>2414.0</td>\n",
       "      <td>2210.0</td>\n",
       "      <td>2347.0</td>\n",
       "      <td>2084.0</td>\n",
       "      <td>1645.0</td>\n",
       "      <td>NaN</td>\n",
       "      <td>NaN</td>\n",
       "    </tr>\n",
       "    <tr>\n",
       "      <th>4</th>\n",
       "      <td>12871.0</td>\n",
       "      <td>3539.0</td>\n",
       "      <td>2866.0</td>\n",
       "      <td>2775.0</td>\n",
       "      <td>2309.0</td>\n",
       "      <td>1972.0</td>\n",
       "      <td>2261.0</td>\n",
       "      <td>1946.0</td>\n",
       "      <td>1447.0</td>\n",
       "      <td>NaN</td>\n",
       "      <td>NaN</td>\n",
       "      <td>NaN</td>\n",
       "    </tr>\n",
       "    <tr>\n",
       "      <th>5</th>\n",
       "      <td>13822.0</td>\n",
       "      <td>3542.0</td>\n",
       "      <td>3075.0</td>\n",
       "      <td>2460.0</td>\n",
       "      <td>2071.0</td>\n",
       "      <td>2415.0</td>\n",
       "      <td>2113.0</td>\n",
       "      <td>1459.0</td>\n",
       "      <td>NaN</td>\n",
       "      <td>NaN</td>\n",
       "      <td>NaN</td>\n",
       "      <td>NaN</td>\n",
       "    </tr>\n",
       "    <tr>\n",
       "      <th>6</th>\n",
       "      <td>13171.0</td>\n",
       "      <td>3621.0</td>\n",
       "      <td>2703.0</td>\n",
       "      <td>2163.0</td>\n",
       "      <td>2354.0</td>\n",
       "      <td>2159.0</td>\n",
       "      <td>1449.0</td>\n",
       "      <td>NaN</td>\n",
       "      <td>NaN</td>\n",
       "      <td>NaN</td>\n",
       "      <td>NaN</td>\n",
       "      <td>NaN</td>\n",
       "    </tr>\n",
       "    <tr>\n",
       "      <th>7</th>\n",
       "      <td>13975.0</td>\n",
       "      <td>3371.0</td>\n",
       "      <td>2462.0</td>\n",
       "      <td>2613.0</td>\n",
       "      <td>2343.0</td>\n",
       "      <td>1550.0</td>\n",
       "      <td>NaN</td>\n",
       "      <td>NaN</td>\n",
       "      <td>NaN</td>\n",
       "      <td>NaN</td>\n",
       "      <td>NaN</td>\n",
       "      <td>NaN</td>\n",
       "    </tr>\n",
       "    <tr>\n",
       "      <th>8</th>\n",
       "      <td>11931.0</td>\n",
       "      <td>2787.0</td>\n",
       "      <td>2499.0</td>\n",
       "      <td>2160.0</td>\n",
       "      <td>1607.0</td>\n",
       "      <td>NaN</td>\n",
       "      <td>NaN</td>\n",
       "      <td>NaN</td>\n",
       "      <td>NaN</td>\n",
       "      <td>NaN</td>\n",
       "      <td>NaN</td>\n",
       "      <td>NaN</td>\n",
       "    </tr>\n",
       "    <tr>\n",
       "      <th>9</th>\n",
       "      <td>10169.0</td>\n",
       "      <td>2923.0</td>\n",
       "      <td>2224.0</td>\n",
       "      <td>1636.0</td>\n",
       "      <td>NaN</td>\n",
       "      <td>NaN</td>\n",
       "      <td>NaN</td>\n",
       "      <td>NaN</td>\n",
       "      <td>NaN</td>\n",
       "      <td>NaN</td>\n",
       "      <td>NaN</td>\n",
       "      <td>NaN</td>\n",
       "    </tr>\n",
       "    <tr>\n",
       "      <th>10</th>\n",
       "      <td>13333.0</td>\n",
       "      <td>3134.0</td>\n",
       "      <td>1793.0</td>\n",
       "      <td>NaN</td>\n",
       "      <td>NaN</td>\n",
       "      <td>NaN</td>\n",
       "      <td>NaN</td>\n",
       "      <td>NaN</td>\n",
       "      <td>NaN</td>\n",
       "      <td>NaN</td>\n",
       "      <td>NaN</td>\n",
       "      <td>NaN</td>\n",
       "    </tr>\n",
       "    <tr>\n",
       "      <th>11</th>\n",
       "      <td>12931.0</td>\n",
       "      <td>2359.0</td>\n",
       "      <td>NaN</td>\n",
       "      <td>NaN</td>\n",
       "      <td>NaN</td>\n",
       "      <td>NaN</td>\n",
       "      <td>NaN</td>\n",
       "      <td>NaN</td>\n",
       "      <td>NaN</td>\n",
       "      <td>NaN</td>\n",
       "      <td>NaN</td>\n",
       "      <td>NaN</td>\n",
       "    </tr>\n",
       "    <tr>\n",
       "      <th>12</th>\n",
       "      <td>8901.0</td>\n",
       "      <td>NaN</td>\n",
       "      <td>NaN</td>\n",
       "      <td>NaN</td>\n",
       "      <td>NaN</td>\n",
       "      <td>NaN</td>\n",
       "      <td>NaN</td>\n",
       "      <td>NaN</td>\n",
       "      <td>NaN</td>\n",
       "      <td>NaN</td>\n",
       "      <td>NaN</td>\n",
       "      <td>NaN</td>\n",
       "    </tr>\n",
       "  </tbody>\n",
       "</table>\n",
       "</div>"
      ],
      "text/plain": [
       "cohort_period       1       2       3       4       5       6       7   \\\n",
       "cohort_month                                                             \n",
       "1              26410.0  9420.0  6898.0  7067.0  7211.0  6597.0  6675.0   \n",
       "2              15318.0  4187.0  3686.0  3587.0  3246.0  3231.0  2861.0   \n",
       "3              12593.0  3932.0  3234.0  2785.0  2758.0  2414.0  2210.0   \n",
       "4              12871.0  3539.0  2866.0  2775.0  2309.0  1972.0  2261.0   \n",
       "5              13822.0  3542.0  3075.0  2460.0  2071.0  2415.0  2113.0   \n",
       "6              13171.0  3621.0  2703.0  2163.0  2354.0  2159.0  1449.0   \n",
       "7              13975.0  3371.0  2462.0  2613.0  2343.0  1550.0     NaN   \n",
       "8              11931.0  2787.0  2499.0  2160.0  1607.0     NaN     NaN   \n",
       "9              10169.0  2923.0  2224.0  1636.0     NaN     NaN     NaN   \n",
       "10             13333.0  3134.0  1793.0     NaN     NaN     NaN     NaN   \n",
       "11             12931.0  2359.0     NaN     NaN     NaN     NaN     NaN   \n",
       "12              8901.0     NaN     NaN     NaN     NaN     NaN     NaN   \n",
       "\n",
       "cohort_period      8       9       10      11      12  \n",
       "cohort_month                                           \n",
       "1              5839.0  5012.0  5824.0  5482.0  3884.0  \n",
       "2              2450.0  2762.0  2593.0  1923.0     NaN  \n",
       "3              2347.0  2084.0  1645.0     NaN     NaN  \n",
       "4              1946.0  1447.0     NaN     NaN     NaN  \n",
       "5              1459.0     NaN     NaN     NaN     NaN  \n",
       "6                 NaN     NaN     NaN     NaN     NaN  \n",
       "7                 NaN     NaN     NaN     NaN     NaN  \n",
       "8                 NaN     NaN     NaN     NaN     NaN  \n",
       "9                 NaN     NaN     NaN     NaN     NaN  \n",
       "10                NaN     NaN     NaN     NaN     NaN  \n",
       "11                NaN     NaN     NaN     NaN     NaN  \n",
       "12                NaN     NaN     NaN     NaN     NaN  "
      ]
     },
     "execution_count": 37,
     "metadata": {},
     "output_type": "execute_result"
    }
   ],
   "source": [
    "df_retention_cohorts['total_users'].unstack(0).T"
   ]
  },
  {
   "cell_type": "code",
   "execution_count": 38,
   "metadata": {
    "scrolled": true
   },
   "outputs": [
    {
     "data": {
      "text/html": [
       "<div>\n",
       "<style scoped>\n",
       "    .dataframe tbody tr th:only-of-type {\n",
       "        vertical-align: middle;\n",
       "    }\n",
       "\n",
       "    .dataframe tbody tr th {\n",
       "        vertical-align: top;\n",
       "    }\n",
       "\n",
       "    .dataframe thead th {\n",
       "        text-align: right;\n",
       "    }\n",
       "</style>\n",
       "<table border=\"1\" class=\"dataframe\">\n",
       "  <thead>\n",
       "    <tr style=\"text-align: right;\">\n",
       "      <th>cohort_month</th>\n",
       "      <th>1</th>\n",
       "      <th>2</th>\n",
       "      <th>3</th>\n",
       "      <th>4</th>\n",
       "      <th>5</th>\n",
       "      <th>6</th>\n",
       "      <th>7</th>\n",
       "      <th>8</th>\n",
       "      <th>9</th>\n",
       "      <th>10</th>\n",
       "      <th>11</th>\n",
       "      <th>12</th>\n",
       "    </tr>\n",
       "    <tr>\n",
       "      <th>cohort_period</th>\n",
       "      <th></th>\n",
       "      <th></th>\n",
       "      <th></th>\n",
       "      <th></th>\n",
       "      <th></th>\n",
       "      <th></th>\n",
       "      <th></th>\n",
       "      <th></th>\n",
       "      <th></th>\n",
       "      <th></th>\n",
       "      <th></th>\n",
       "      <th></th>\n",
       "    </tr>\n",
       "  </thead>\n",
       "  <tbody>\n",
       "    <tr>\n",
       "      <th>1</th>\n",
       "      <td>1.000000</td>\n",
       "      <td>1.000000</td>\n",
       "      <td>1.000000</td>\n",
       "      <td>1.000000</td>\n",
       "      <td>1.000000</td>\n",
       "      <td>1.000000</td>\n",
       "      <td>1.000000</td>\n",
       "      <td>1.000000</td>\n",
       "      <td>1.000000</td>\n",
       "      <td>1.000000</td>\n",
       "      <td>1.00000</td>\n",
       "      <td>1.0</td>\n",
       "    </tr>\n",
       "    <tr>\n",
       "      <th>2</th>\n",
       "      <td>0.356683</td>\n",
       "      <td>0.273339</td>\n",
       "      <td>0.312237</td>\n",
       "      <td>0.274959</td>\n",
       "      <td>0.256258</td>\n",
       "      <td>0.274922</td>\n",
       "      <td>0.241216</td>\n",
       "      <td>0.233593</td>\n",
       "      <td>0.287442</td>\n",
       "      <td>0.235056</td>\n",
       "      <td>0.18243</td>\n",
       "      <td>NaN</td>\n",
       "    </tr>\n",
       "    <tr>\n",
       "      <th>3</th>\n",
       "      <td>0.261189</td>\n",
       "      <td>0.240632</td>\n",
       "      <td>0.256809</td>\n",
       "      <td>0.222671</td>\n",
       "      <td>0.222471</td>\n",
       "      <td>0.205224</td>\n",
       "      <td>0.176172</td>\n",
       "      <td>0.209454</td>\n",
       "      <td>0.218704</td>\n",
       "      <td>0.134478</td>\n",
       "      <td>NaN</td>\n",
       "      <td>NaN</td>\n",
       "    </tr>\n",
       "    <tr>\n",
       "      <th>4</th>\n",
       "      <td>0.267588</td>\n",
       "      <td>0.234169</td>\n",
       "      <td>0.221155</td>\n",
       "      <td>0.215601</td>\n",
       "      <td>0.177977</td>\n",
       "      <td>0.164224</td>\n",
       "      <td>0.186977</td>\n",
       "      <td>0.181041</td>\n",
       "      <td>0.160881</td>\n",
       "      <td>NaN</td>\n",
       "      <td>NaN</td>\n",
       "      <td>NaN</td>\n",
       "    </tr>\n",
       "    <tr>\n",
       "      <th>5</th>\n",
       "      <td>0.273041</td>\n",
       "      <td>0.211908</td>\n",
       "      <td>0.219011</td>\n",
       "      <td>0.179396</td>\n",
       "      <td>0.149834</td>\n",
       "      <td>0.178726</td>\n",
       "      <td>0.167657</td>\n",
       "      <td>0.134691</td>\n",
       "      <td>NaN</td>\n",
       "      <td>NaN</td>\n",
       "      <td>NaN</td>\n",
       "      <td>NaN</td>\n",
       "    </tr>\n",
       "  </tbody>\n",
       "</table>\n",
       "</div>"
      ],
      "text/plain": [
       "cohort_month         1         2         3         4         5         6   \\\n",
       "cohort_period                                                               \n",
       "1              1.000000  1.000000  1.000000  1.000000  1.000000  1.000000   \n",
       "2              0.356683  0.273339  0.312237  0.274959  0.256258  0.274922   \n",
       "3              0.261189  0.240632  0.256809  0.222671  0.222471  0.205224   \n",
       "4              0.267588  0.234169  0.221155  0.215601  0.177977  0.164224   \n",
       "5              0.273041  0.211908  0.219011  0.179396  0.149834  0.178726   \n",
       "\n",
       "cohort_month         7         8         9         10       11   12  \n",
       "cohort_period                                                        \n",
       "1              1.000000  1.000000  1.000000  1.000000  1.00000  1.0  \n",
       "2              0.241216  0.233593  0.287442  0.235056  0.18243  NaN  \n",
       "3              0.176172  0.209454  0.218704  0.134478      NaN  NaN  \n",
       "4              0.186977  0.181041  0.160881       NaN      NaN  NaN  \n",
       "5              0.167657  0.134691       NaN       NaN      NaN  NaN  "
      ]
     },
     "execution_count": 38,
     "metadata": {},
     "output_type": "execute_result"
    }
   ],
   "source": [
    "df_retention_cohorts_pct = df_retention_cohorts['total_users'].unstack(0).divide(cohort_group_size, axis=1)\n",
    "df_retention_cohorts_pct.head()"
   ]
  },
  {
   "cell_type": "markdown",
   "metadata": {},
   "source": [
    "##### *Visualization"
   ]
  },
  {
   "cell_type": "code",
   "execution_count": 39,
   "metadata": {},
   "outputs": [
    {
     "data": {
      "image/png": "[encoded data removed]",
      "text/plain": [
       "<Figure size 864x576 with 2 Axes>"
      ]
     },
     "metadata": {},
     "output_type": "display_data"
    }
   ],
   "source": [
    "sns.set(style='white')\n",
    "colormap = plt.cm.PuBu\n",
    "\n",
    "plt.figure(figsize=(12, 8))\n",
    "plt.title('Cohorts: User Retention')\n",
    "sns.heatmap(df_retention_cohorts_pct.T, mask=df_retention_cohorts_pct.T.isnull(), annot=True, fmt='.0%', cmap='YlGnBu');"
   ]
  },
  {
   "cell_type": "code",
   "execution_count": 40,
   "metadata": {
    "scrolled": false
   },
   "outputs": [
    {
     "data": {
      "image/png": "[encoded data removed]",
      "text/plain": [
       "<Figure size 864x576 with 2 Axes>"
      ]
     },
     "metadata": {},
     "output_type": "display_data"
    }
   ],
   "source": [
    "# 시작월 제외\n",
    "sns.set(style='white')\n",
    "colormap = plt.cm.PuBu\n",
    "\n",
    "plt.figure(figsize=(12, 8))\n",
    "plt.title('Cohorts: User Retention')\n",
    "sns.heatmap(df_retention_cohorts_pct.T.iloc[0:12,1:12], mask=df_retention_cohorts_pct.T.iloc[0:11,1:11].isnull(), annot=True, fmt='.0%', cmap='YlGnBu');"
   ]
  },
  {
   "cell_type": "markdown",
   "metadata": {},
   "source": [
    "- 특징\n",
    "    1. retention 높은 편\n",
    "    2. 3월 그룹, 9월 그룹 > 4,5,6 retention 높은편 **교통량 & holiday** 와 관련있어보임.\n",
    "- **변수 활용방안 : 그룹별 pct 집계값?**\n",
    "- join_date에도 동일하게 활용해볼 수 있을 듯"
   ]
  },
  {
   "cell_type": "code",
   "execution_count": 892,
   "metadata": {
    "scrolled": false
   },
   "outputs": [
    {
     "data": {
      "text/html": [
       "<div>\n",
       "<style scoped>\n",
       "    .dataframe tbody tr th:only-of-type {\n",
       "        vertical-align: middle;\n",
       "    }\n",
       "\n",
       "    .dataframe tbody tr th {\n",
       "        vertical-align: top;\n",
       "    }\n",
       "\n",
       "    .dataframe thead th {\n",
       "        text-align: right;\n",
       "    }\n",
       "</style>\n",
       "<table border=\"1\" class=\"dataframe\">\n",
       "  <thead>\n",
       "    <tr style=\"text-align: right;\">\n",
       "      <th>cohort_period</th>\n",
       "      <th>1</th>\n",
       "      <th>2</th>\n",
       "      <th>3</th>\n",
       "      <th>4</th>\n",
       "      <th>5</th>\n",
       "      <th>6</th>\n",
       "      <th>7</th>\n",
       "      <th>8</th>\n",
       "      <th>9</th>\n",
       "      <th>10</th>\n",
       "      <th>11</th>\n",
       "      <th>12</th>\n",
       "    </tr>\n",
       "    <tr>\n",
       "      <th>cohort_month</th>\n",
       "      <th></th>\n",
       "      <th></th>\n",
       "      <th></th>\n",
       "      <th></th>\n",
       "      <th></th>\n",
       "      <th></th>\n",
       "      <th></th>\n",
       "      <th></th>\n",
       "      <th></th>\n",
       "      <th></th>\n",
       "      <th></th>\n",
       "      <th></th>\n",
       "    </tr>\n",
       "  </thead>\n",
       "  <tbody>\n",
       "    <tr>\n",
       "      <th>1</th>\n",
       "      <td>1.0</td>\n",
       "      <td>0.356683</td>\n",
       "      <td>0.261189</td>\n",
       "      <td>0.267588</td>\n",
       "      <td>0.273041</td>\n",
       "      <td>0.249792</td>\n",
       "      <td>0.252745</td>\n",
       "      <td>0.221090</td>\n",
       "      <td>0.189777</td>\n",
       "      <td>0.220523</td>\n",
       "      <td>0.207573</td>\n",
       "      <td>0.147066</td>\n",
       "    </tr>\n",
       "    <tr>\n",
       "      <th>2</th>\n",
       "      <td>1.0</td>\n",
       "      <td>0.273339</td>\n",
       "      <td>0.240632</td>\n",
       "      <td>0.234169</td>\n",
       "      <td>0.211908</td>\n",
       "      <td>0.210928</td>\n",
       "      <td>0.186774</td>\n",
       "      <td>0.159943</td>\n",
       "      <td>0.180311</td>\n",
       "      <td>0.169278</td>\n",
       "      <td>0.125539</td>\n",
       "      <td>NaN</td>\n",
       "    </tr>\n",
       "    <tr>\n",
       "      <th>3</th>\n",
       "      <td>1.0</td>\n",
       "      <td>0.312237</td>\n",
       "      <td>0.256809</td>\n",
       "      <td>0.221155</td>\n",
       "      <td>0.219011</td>\n",
       "      <td>0.191694</td>\n",
       "      <td>0.175494</td>\n",
       "      <td>0.186373</td>\n",
       "      <td>0.165489</td>\n",
       "      <td>0.130628</td>\n",
       "      <td>NaN</td>\n",
       "      <td>NaN</td>\n",
       "    </tr>\n",
       "    <tr>\n",
       "      <th>4</th>\n",
       "      <td>1.0</td>\n",
       "      <td>0.274959</td>\n",
       "      <td>0.222671</td>\n",
       "      <td>0.215601</td>\n",
       "      <td>0.179396</td>\n",
       "      <td>0.153213</td>\n",
       "      <td>0.175666</td>\n",
       "      <td>0.151193</td>\n",
       "      <td>0.112423</td>\n",
       "      <td>NaN</td>\n",
       "      <td>NaN</td>\n",
       "      <td>NaN</td>\n",
       "    </tr>\n",
       "    <tr>\n",
       "      <th>5</th>\n",
       "      <td>1.0</td>\n",
       "      <td>0.256258</td>\n",
       "      <td>0.222471</td>\n",
       "      <td>0.177977</td>\n",
       "      <td>0.149834</td>\n",
       "      <td>0.174721</td>\n",
       "      <td>0.152872</td>\n",
       "      <td>0.105556</td>\n",
       "      <td>NaN</td>\n",
       "      <td>NaN</td>\n",
       "      <td>NaN</td>\n",
       "      <td>NaN</td>\n",
       "    </tr>\n",
       "    <tr>\n",
       "      <th>6</th>\n",
       "      <td>1.0</td>\n",
       "      <td>0.274922</td>\n",
       "      <td>0.205224</td>\n",
       "      <td>0.164224</td>\n",
       "      <td>0.178726</td>\n",
       "      <td>0.163921</td>\n",
       "      <td>0.110014</td>\n",
       "      <td>NaN</td>\n",
       "      <td>NaN</td>\n",
       "      <td>NaN</td>\n",
       "      <td>NaN</td>\n",
       "      <td>NaN</td>\n",
       "    </tr>\n",
       "    <tr>\n",
       "      <th>7</th>\n",
       "      <td>1.0</td>\n",
       "      <td>0.241216</td>\n",
       "      <td>0.176172</td>\n",
       "      <td>0.186977</td>\n",
       "      <td>0.167657</td>\n",
       "      <td>0.110912</td>\n",
       "      <td>NaN</td>\n",
       "      <td>NaN</td>\n",
       "      <td>NaN</td>\n",
       "      <td>NaN</td>\n",
       "      <td>NaN</td>\n",
       "      <td>NaN</td>\n",
       "    </tr>\n",
       "    <tr>\n",
       "      <th>8</th>\n",
       "      <td>1.0</td>\n",
       "      <td>0.233593</td>\n",
       "      <td>0.209454</td>\n",
       "      <td>0.181041</td>\n",
       "      <td>0.134691</td>\n",
       "      <td>NaN</td>\n",
       "      <td>NaN</td>\n",
       "      <td>NaN</td>\n",
       "      <td>NaN</td>\n",
       "      <td>NaN</td>\n",
       "      <td>NaN</td>\n",
       "      <td>NaN</td>\n",
       "    </tr>\n",
       "    <tr>\n",
       "      <th>9</th>\n",
       "      <td>1.0</td>\n",
       "      <td>0.287442</td>\n",
       "      <td>0.218704</td>\n",
       "      <td>0.160881</td>\n",
       "      <td>NaN</td>\n",
       "      <td>NaN</td>\n",
       "      <td>NaN</td>\n",
       "      <td>NaN</td>\n",
       "      <td>NaN</td>\n",
       "      <td>NaN</td>\n",
       "      <td>NaN</td>\n",
       "      <td>NaN</td>\n",
       "    </tr>\n",
       "    <tr>\n",
       "      <th>10</th>\n",
       "      <td>1.0</td>\n",
       "      <td>0.235056</td>\n",
       "      <td>0.134478</td>\n",
       "      <td>NaN</td>\n",
       "      <td>NaN</td>\n",
       "      <td>NaN</td>\n",
       "      <td>NaN</td>\n",
       "      <td>NaN</td>\n",
       "      <td>NaN</td>\n",
       "      <td>NaN</td>\n",
       "      <td>NaN</td>\n",
       "      <td>NaN</td>\n",
       "    </tr>\n",
       "    <tr>\n",
       "      <th>11</th>\n",
       "      <td>1.0</td>\n",
       "      <td>0.182430</td>\n",
       "      <td>NaN</td>\n",
       "      <td>NaN</td>\n",
       "      <td>NaN</td>\n",
       "      <td>NaN</td>\n",
       "      <td>NaN</td>\n",
       "      <td>NaN</td>\n",
       "      <td>NaN</td>\n",
       "      <td>NaN</td>\n",
       "      <td>NaN</td>\n",
       "      <td>NaN</td>\n",
       "    </tr>\n",
       "    <tr>\n",
       "      <th>12</th>\n",
       "      <td>1.0</td>\n",
       "      <td>NaN</td>\n",
       "      <td>NaN</td>\n",
       "      <td>NaN</td>\n",
       "      <td>NaN</td>\n",
       "      <td>NaN</td>\n",
       "      <td>NaN</td>\n",
       "      <td>NaN</td>\n",
       "      <td>NaN</td>\n",
       "      <td>NaN</td>\n",
       "      <td>NaN</td>\n",
       "      <td>NaN</td>\n",
       "    </tr>\n",
       "  </tbody>\n",
       "</table>\n",
       "</div>"
      ],
      "text/plain": [
       "cohort_period   1         2         3         4         5         6   \\\n",
       "cohort_month                                                           \n",
       "1              1.0  0.356683  0.261189  0.267588  0.273041  0.249792   \n",
       "2              1.0  0.273339  0.240632  0.234169  0.211908  0.210928   \n",
       "3              1.0  0.312237  0.256809  0.221155  0.219011  0.191694   \n",
       "4              1.0  0.274959  0.222671  0.215601  0.179396  0.153213   \n",
       "5              1.0  0.256258  0.222471  0.177977  0.149834  0.174721   \n",
       "6              1.0  0.274922  0.205224  0.164224  0.178726  0.163921   \n",
       "7              1.0  0.241216  0.176172  0.186977  0.167657  0.110912   \n",
       "8              1.0  0.233593  0.209454  0.181041  0.134691       NaN   \n",
       "9              1.0  0.287442  0.218704  0.160881       NaN       NaN   \n",
       "10             1.0  0.235056  0.134478       NaN       NaN       NaN   \n",
       "11             1.0  0.182430       NaN       NaN       NaN       NaN   \n",
       "12             1.0       NaN       NaN       NaN       NaN       NaN   \n",
       "\n",
       "cohort_period        7         8         9         10        11        12  \n",
       "cohort_month                                                               \n",
       "1              0.252745  0.221090  0.189777  0.220523  0.207573  0.147066  \n",
       "2              0.186774  0.159943  0.180311  0.169278  0.125539       NaN  \n",
       "3              0.175494  0.186373  0.165489  0.130628       NaN       NaN  \n",
       "4              0.175666  0.151193  0.112423       NaN       NaN       NaN  \n",
       "5              0.152872  0.105556       NaN       NaN       NaN       NaN  \n",
       "6              0.110014       NaN       NaN       NaN       NaN       NaN  \n",
       "7                   NaN       NaN       NaN       NaN       NaN       NaN  \n",
       "8                   NaN       NaN       NaN       NaN       NaN       NaN  \n",
       "9                   NaN       NaN       NaN       NaN       NaN       NaN  \n",
       "10                  NaN       NaN       NaN       NaN       NaN       NaN  \n",
       "11                  NaN       NaN       NaN       NaN       NaN       NaN  \n",
       "12                  NaN       NaN       NaN       NaN       NaN       NaN  "
      ]
     },
     "execution_count": 892,
     "metadata": {},
     "output_type": "execute_result"
    }
   ],
   "source": [
    "df_retention_cohorts_pct.T"
   ]
  },
  {
   "cell_type": "markdown",
   "metadata": {},
   "source": [
    "### Implementation & Results"
   ]
  },
  {
   "cell_type": "markdown",
   "metadata": {},
   "source": [
    "#### Data Preparation"
   ]
  },
  {
   "cell_type": "markdown",
   "metadata": {},
   "source": [
    "##### Outlier & Noise Elimination\n",
    "- 연간 결제 횟수 비정상적으로 많은 케이스  \n",
    "df = df[df['user_id'] != 999665]  --> user_id 999665\n",
    "- join_date 1970-01-01 "
   ]
  },
  {
   "cell_type": "code",
   "execution_count": 644,
   "metadata": {},
   "outputs": [
    {
     "name": "stdout",
     "output_type": "stream",
     "text": [
      "(879271, 8)\n",
      "(877812, 28)\n",
      "1459\n",
      "1459\n"
     ]
    }
   ],
   "source": [
    "print(modu.shape)\n",
    "print(df_eda.shape)\n",
    "# 삭제 데이터 확인\n",
    "print(modu.shape[0]-df_eda.shape[0])\n",
    "print(len(modu.query('(USER_ID==999665)|(JOIN_DATE==\"1970-01-01\")')))"
   ]
  },
  {
   "cell_type": "markdown",
   "metadata": {},
   "source": [
    "##### Data Spliting & Label Encoding"
   ]
  },
  {
   "cell_type": "code",
   "execution_count": 643,
   "metadata": {
    "scrolled": true
   },
   "outputs": [
    {
     "data": {
      "text/plain": [
       "Index(['user_id', 'join_date', 'd_type', 'store_id', 'goods_type', 'date',\n",
       "       'count', 'ad1', 'year', 'month', 'day', 'dayofweek', 'quarter', 'next',\n",
       "       'before', 'freq_cum', 'freq_cum_class', 'min_temp', 'max_temp',\n",
       "       'diff_temp', '강수량', '적설량', 'discomfort', 'israiny', 'eng', 'join_year',\n",
       "       'visit_lag', 'eng_month'],\n",
       "      dtype='object')"
      ]
     },
     "execution_count": 643,
     "metadata": {},
     "output_type": "execute_result"
    }
   ],
   "source": [
    "df_eda.columns"
   ]
  },
  {
   "cell_type": "code",
   "execution_count": 700,
   "metadata": {},
   "outputs": [],
   "source": [
    "df_model['freq_cum_class']=df_model['freq_cum_class'].astype(int)"
   ]
  },
  {
   "cell_type": "code",
   "execution_count": 646,
   "metadata": {
    "scrolled": false
   },
   "outputs": [
    {
     "name": "stdout",
     "output_type": "stream",
     "text": [
      "Categorical Columns: \n",
      "['d_type', 'goods_type', 'ad1', 'next', 'before']\n",
      "\n",
      " Other Columns: \n",
      "['user_id', 'join_date', 'store_id', 'date', 'count', 'year', 'month', 'day', 'dayofweek', 'quarter', 'freq_cum', 'freq_cum_class', 'min_temp', 'max_temp', 'diff_temp', '강수량', '적설량', 'discomfort', 'israiny', 'eng', 'join_year', 'eng_month']\n"
     ]
    }
   ],
   "source": [
    "# cat_columns, num_columns 구분\n",
    "cat_columns = [c for c, t in zip(df_model.dtypes.index, df_model.dtypes) if t == 'O'] \n",
    "num_columns = [c for c in df_model.columns if c not in cat_columns]\n",
    "\n",
    "print(f'Categorical Columns: \\n{cat_columns}\\n\\n Other Columns: \\n{num_columns}')"
   ]
  },
  {
   "cell_type": "code",
   "execution_count": 687,
   "metadata": {},
   "outputs": [],
   "source": [
    "df_eda['date']=pd.to_datetime(df_eda['date'])"
   ]
  },
  {
   "cell_type": "code",
   "execution_count": 689,
   "metadata": {},
   "outputs": [],
   "source": [
    "df_model = df_eda\n",
    "# train set (2020-01 ~ 2020-09) : df_train\n",
    "df_train = df_model[df_model['date'] <= '2020-09-30']\n",
    "# remove target_variable from train_data(X)\n",
    "train_data = df_train.drop('count', axis = 1)\n",
    "# target_variable > train_label\n",
    "train_label = df_train['count']\n",
    "\n",
    "# test set (2020-10 ~ 2020-12) \n",
    "df_test = df_model[df_model['date'] > '2020-09-30']\n",
    "# remove target_variable from test_data(X)\n",
    "test_data = df_test.drop('count', axis = 1)\n",
    "# test_label > train_label\n",
    "test_label = df_test['count']"
   ]
  },
  {
   "cell_type": "code",
   "execution_count": 692,
   "metadata": {},
   "outputs": [],
   "source": [
    "y_train = train_label\n",
    "y_test = test_label"
   ]
  },
  {
   "cell_type": "code",
   "execution_count": 648,
   "metadata": {},
   "outputs": [],
   "source": [
    "# 라벨인코딩 전처리함수\n",
    "from sklearn.preprocessing import LabelEncoder\n",
    "\n",
    "def labelencoding(x_train, x_test):\n",
    "    tmp_x_train = x_train.copy()\n",
    "    tmp_x_test  = x_test.copy()\n",
    "    \n",
    "    # reset index\n",
    "    tmp_x_train = tmp_x_train.reset_index(drop=True)\n",
    "    tmp_x_test  = tmp_x_test.reset_index(drop=True)\n",
    "\n",
    "    # cat_columns 라벨인코딩\n",
    "    le = LabelEncoder()\n",
    "    x_all = pd.concat([tmp_x_train[cat_columns], tmp_x_test[cat_columns]], axis=0)\n",
    "    new_x_all = x_all.apply(LabelEncoder().fit_transform)\n",
    "    \n",
    "    new_x_train_cat = new_x_all.iloc[:tmp_x_train.shape[0], :]\n",
    "    new_x_test_cat =  new_x_all.iloc[tmp_x_train.shape[0]:, :]\n",
    "\n",
    "    new_x_train_cat = new_x_train_cat.reset_index(drop=True)\n",
    "    new_x_test_cat  = new_x_test_cat.reset_index(drop=True)\n",
    "\n",
    "    tmp_x_train = tmp_x_train.drop(columns=cat_columns)\n",
    "    tmp_x_test  = tmp_x_test.drop(columns=cat_columns)\n",
    "\n",
    "    tmp_x_train = pd.concat([tmp_x_train, new_x_train_cat], axis=1)\n",
    "    tmp_x_test = pd.concat([tmp_x_test, new_x_test_cat], axis=1)\n",
    "    \n",
    "    return tmp_x_train, tmp_x_test"
   ]
  },
  {
   "cell_type": "code",
   "execution_count": 690,
   "metadata": {},
   "outputs": [],
   "source": [
    "train_data_e, test_data_e = labelencoding(train_data, test_data)\n",
    "X_train = train_data_e.drop(['join_date','date'], axis = 1)\n",
    "X_test = test_data_e.drop(['join_date','date'], axis = 1)"
   ]
  },
  {
   "cell_type": "markdown",
   "metadata": {},
   "source": [
    "### Modeling\n",
    "> np.random.seed(42)\n",
    "\n",
    "> Data Split\n",
    "> - 20200101-0930 training\n",
    "> - 20201001-1231 test\n",
    "\n",
    "> Input & Output\n",
    "> - X data : [user_id + @]\n",
    "> - Count column 예측값\n",
    "\n",
    "> - 2020.10.01~2020.12.31 구간에 대한 MSE, MAE 계산값"
   ]
  },
  {
   "cell_type": "code",
   "execution_count": 622,
   "metadata": {},
   "outputs": [],
   "source": [
    "np.random.seed(42)"
   ]
  },
  {
   "cell_type": "code",
   "execution_count": 691,
   "metadata": {
    "scrolled": false
   },
   "outputs": [
    {
     "data": {
      "text/plain": [
       "Index(['user_id', 'store_id', 'year', 'month', 'day', 'dayofweek', 'quarter',\n",
       "       'freq_cum', 'freq_cum_class', 'min_temp', 'max_temp', 'diff_temp',\n",
       "       '강수량', '적설량', 'discomfort', 'israiny', 'eng', 'join_year', 'visit_lag',\n",
       "       'eng_month', 'd_type', 'goods_type', 'ad1', 'next', 'before'],\n",
       "      dtype='object')"
      ]
     },
     "execution_count": 691,
     "metadata": {},
     "output_type": "execute_result"
    }
   ],
   "source": [
    "# feature 리스트 \n",
    "X_train.columns"
   ]
  },
  {
   "cell_type": "markdown",
   "metadata": {},
   "source": [
    "#### modeling 1차"
   ]
  },
  {
   "cell_type": "markdown",
   "metadata": {},
   "source": [
    "✔️ 1차 활용 변수 \n",
    "- 'ad1','user_id','d_type', 'goods_type'\n",
    "- 'year', 'month', 'day','dayofweek', 'quarter', \n",
    "- 'visit_lag', 'freq_cum', 'freq_cum_class','diff_temp', \n",
    "- '강수량', 'discomfort','eng_month'"
   ]
  },
  {
   "cell_type": "code",
   "execution_count": 693,
   "metadata": {},
   "outputs": [],
   "source": [
    "modeling_col_1 = ['ad1','user_id','d_type', 'goods_type', 'year', 'month', 'day','dayofweek', 'quarter', 'visit_lag', 'freq_cum', 'freq_cum_class','diff_temp', '강수량', 'discomfort','eng_month']\n",
    "X_train_1=X_train[modeling_col_1]\n",
    "X_test_1=X_test[modeling_col_1]"
   ]
  },
  {
   "cell_type": "code",
   "execution_count": 701,
   "metadata": {},
   "outputs": [],
   "source": [
    "X_train_1['freq_cum_class']=X_train_1['freq_cum_class'].astype(int)\n",
    "X_test_1['freq_cum_class']=X_test_1['freq_cum_class'].astype(int)"
   ]
  },
  {
   "cell_type": "code",
   "execution_count": 702,
   "metadata": {
    "scrolled": true
   },
   "outputs": [
    {
     "name": "stdout",
     "output_type": "stream",
     "text": [
      "RandomForest Model Mean Absolute Error: 0.16472453704609777\n",
      "XGBoost Model Mean Absolute Error: 0.16472453704609777\n",
      "LightGBM Model Mean Absolute Error: 0.055777977085053894\n",
      "Best Model: LightGBM, MAE : 0.055777977085053894\n"
     ]
    }
   ],
   "source": [
    "models = [['RandomForest', RandomForestRegressor()], \n",
    "          ['XGBoost', XGBRegressor(n_jobs=-1)], \n",
    "          ['LightGBM', LGBMRegressor(n_jobs=-1)]]\n",
    "\n",
    "best_loss = np.inf\n",
    "for i, (name, model) in enumerate(models):\n",
    "    model.fit(X_train_1, y_train)\n",
    "    y_pred = model.predict(X_test_1)\n",
    "    current_loss = mean_absolute_error(y_test, y_pred)\n",
    "    \n",
    "    if current_loss < best_loss:\n",
    "        best_loss  = current_loss\n",
    "        best_model = [i, name]\n",
    "    \n",
    "    print(f'{name} Model Mean Absolute Error: {best_loss}')\n",
    "    \n",
    "print(f'Best Model: {best_model[-1]}, MAE : {best_loss}')"
   ]
  },
  {
   "cell_type": "code",
   "execution_count": 703,
   "metadata": {
    "scrolled": false
   },
   "outputs": [
    {
     "name": "stdout",
     "output_type": "stream",
     "text": [
      "RandomForest Model Mean Squared Error: 0.08907215857272024\n",
      "XGBoost Model Mean Squared Error: 0.08907215857272024\n",
      "LightGBM Model Mean Squared Error: 0.04205805223665075\n",
      "Best Model: LightGBM, MSE : 0.04205805223665075\n"
     ]
    }
   ],
   "source": [
    "models = [['RandomForest', RandomForestRegressor()], \n",
    "          ['XGBoost', XGBRegressor(n_jobs=-1)], \n",
    "          ['LightGBM', LGBMRegressor(n_jobs=-1)]]\n",
    "\n",
    "best_loss = np.inf\n",
    "for i, (name, model) in enumerate(models):\n",
    "    model.fit(X_train_1, y_train)\n",
    "    y_pred = model.predict(X_test_1)\n",
    "    current_loss = mean_squared_error(y_test, y_pred)\n",
    "    \n",
    "    if current_loss < best_loss:\n",
    "        best_loss  = current_loss\n",
    "        best_model = [i, name, model]\n",
    "    \n",
    "    print(f'{name} Model Mean Squared Error: {best_loss}')\n",
    "    \n",
    "print(f'Best Model: {best_model[-2]}, MSE : {best_loss}')"
   ]
  },
  {
   "cell_type": "markdown",
   "metadata": {},
   "source": [
    "#### Feature Importance\n",
    "- 중요도 낮은 feature 제외하고 2차 모델링 진행하고자 함"
   ]
  },
  {
   "cell_type": "markdown",
   "metadata": {},
   "source": [
    "##### LightGBM Feature Importance"
   ]
  },
  {
   "cell_type": "code",
   "execution_count": 704,
   "metadata": {},
   "outputs": [
    {
     "data": {
      "image/png": "[encoded data removed]",
      "text/plain": [
       "<Figure size 1440x432 with 1 Axes>"
      ]
     },
     "metadata": {},
     "output_type": "display_data"
    }
   ],
   "source": [
    "# Feature importance\n",
    "feature_imp = pd.DataFrame(sorted(zip(best_model[-1].feature_importances_,X_train_1.columns)), columns=['Value','Feature'])\n",
    "\n",
    "plt.figure(figsize=(20, 6))\n",
    "sns.barplot(x=\"Value\", y=\"Feature\", data=feature_imp.sort_values(by=\"Value\", ascending=False).head(20))\n",
    "plt.title('LightGBM Feature Importance')\n",
    "plt.tight_layout()\n",
    "plt.show()"
   ]
  },
  {
   "cell_type": "markdown",
   "metadata": {},
   "source": [
    "##### Random Forest Regression Feature Importance"
   ]
  },
  {
   "cell_type": "code",
   "execution_count": 694,
   "metadata": {
    "scrolled": true
   },
   "outputs": [
    {
     "data": {
      "text/plain": [
       "RandomForestRegressor(n_estimators=10)"
      ]
     },
     "execution_count": 694,
     "metadata": {},
     "output_type": "execute_result"
    }
   ],
   "source": [
    "rf = RandomForestRegressor(n_estimators=10) # default\n",
    "rf.fit(X_train_1, y_train)"
   ]
  },
  {
   "cell_type": "code",
   "execution_count": 695,
   "metadata": {
    "scrolled": false
   },
   "outputs": [
    {
     "data": {
      "text/plain": [
       "<BarContainer object of 16 artists>"
      ]
     },
     "execution_count": 695,
     "metadata": {},
     "output_type": "execute_result"
    },
    {
     "data": {
      "image/png": "[encoded data removed]",
      "text/plain": [
       "<Figure size 720x504 with 1 Axes>"
      ]
     },
     "metadata": {},
     "output_type": "display_data"
    }
   ],
   "source": [
    "sorted_idx = rf.feature_importances_.argsort()\n",
    "plt.barh(X_train_1.columns[sorted_idx], rf.feature_importances_[sorted_idx])"
   ]
  },
  {
   "cell_type": "markdown",
   "metadata": {},
   "source": [
    "['ad1','user_id','d_type', 'goods_type', 'year', 'month', 'day','dayofweek', 'quarter', 'visit_lag', 'freq_cum', 'freq_cum_class','diff_temp', '강수량', 'discomfort','eng_month']\n",
    "- 날짜 변수 year, month, quarter 삭제 \n",
    "- freq_cum 사용 freq_cum_class 삭제 : user_id 다음으로 importance 높음\n",
    "- eng_month 사용 이용기간(month)\n",
    "- discomfort, diff_temp 높은 편"
   ]
  },
  {
   "cell_type": "markdown",
   "metadata": {},
   "source": [
    "#### modeling 2차"
   ]
  },
  {
   "cell_type": "markdown",
   "metadata": {},
   "source": [
    "✔️ 2차 활용 변수 \n",
    "- 'user_id','ad1', 'd_type', 'goods_type'\n",
    "- 'day','dayofweek', \n",
    "- 'visit_lag', 'freq_cum','eng_month'\n",
    "- 'diff_temp', '강수량', 'discomfort'"
   ]
  },
  {
   "cell_type": "code",
   "execution_count": 696,
   "metadata": {},
   "outputs": [],
   "source": [
    "modeling_col_2 = ['user_id','ad1', 'd_type', 'goods_type', 'day','dayofweek', 'visit_lag', 'freq_cum','diff_temp', '강수량', 'discomfort','eng_month']\n",
    "X_train_2 = X_train[modeling_col_2]\n",
    "X_test_2 = X_test[modeling_col_2]"
   ]
  },
  {
   "cell_type": "code",
   "execution_count": 697,
   "metadata": {
    "scrolled": true
   },
   "outputs": [
    {
     "name": "stdout",
     "output_type": "stream",
     "text": [
      "RandomForest Model Mean Absolute Error: 0.17773069410793055\n",
      "XGBoost Model Mean Absolute Error: 0.1049139844545765\n",
      "LightGBM Model Mean Absolute Error: 0.05964458952110312\n",
      "Best Model: LightGBM, MAE : 0.05964458952110312\n"
     ]
    }
   ],
   "source": [
    "models = [['RandomForest', RandomForestRegressor()], \n",
    "          ['XGBoost', XGBRegressor(n_jobs=-1)], \n",
    "          ['LightGBM', LGBMRegressor(n_jobs=-1)]]\n",
    "\n",
    "best_loss = np.inf\n",
    "for i, (name, model) in enumerate(models):\n",
    "    model.fit(X_train_2, y_train)\n",
    "    y_pred = model.predict(X_test_2)\n",
    "    current_loss = mean_absolute_error(y_test, y_pred)\n",
    "    \n",
    "    if current_loss < best_loss:\n",
    "        best_loss  = current_loss\n",
    "        best_model = [i, name]\n",
    "    \n",
    "    print(f'{name} Model Mean Absolute Error: {best_loss}')\n",
    "    \n",
    "print(f'Best Model: {best_model[-1]}, MAE : {best_loss}')"
   ]
  },
  {
   "cell_type": "code",
   "execution_count": 698,
   "metadata": {},
   "outputs": [
    {
     "name": "stdout",
     "output_type": "stream",
     "text": [
      "RandomForest Model Mean Squared Error: 0.09639439601689376\n",
      "XGBoost Model Mean Squared Error: 0.09061127439981616\n",
      "LightGBM Model Mean Squared Error: 0.042463460809281886\n",
      "Best Model: LightGBM, MSE : 0.042463460809281886\n"
     ]
    }
   ],
   "source": [
    "models = [['RandomForest', RandomForestRegressor()], \n",
    "          ['XGBoost', XGBRegressor(n_jobs=-1)], \n",
    "          ['LightGBM', LGBMRegressor(n_jobs=-1)]]\n",
    "\n",
    "best_loss = np.inf\n",
    "for i, (name, model) in enumerate(models):\n",
    "    model.fit(X_train_2, y_train)\n",
    "    y_pred = model.predict(X_test_2)\n",
    "    current_loss = mean_squared_error(y_test, y_pred)\n",
    "    \n",
    "    if current_loss < best_loss:\n",
    "        best_loss  = current_loss\n",
    "        best_model = [i, name, model]\n",
    "    \n",
    "    print(f'{name} Model Mean Squared Error: {best_loss}')\n",
    "    \n",
    "print(f'Best Model: {best_model[-2]}, MSE : {best_loss}')"
   ]
  },
  {
   "cell_type": "markdown",
   "metadata": {},
   "source": [
    "#### Modeling 3차\n",
    "- 교통량변수 추가"
   ]
  },
  {
   "cell_type": "markdown",
   "metadata": {},
   "source": [
    "✔️ 3차 활용 변수 \n",
    "- 'user_id','ad1', 'd_type', 'goods_type'\n",
    "- 'day','dayofweek', \n",
    "- 'visit_lag', 'freq_cum','eng_month'\n",
    "- 'diff_temp', '강수량', 'discomfort'\n",
    "- 'traffic_sum'"
   ]
  },
  {
   "cell_type": "code",
   "execution_count": null,
   "metadata": {},
   "outputs": [],
   "source": []
  }
 ],
 "metadata": {
  "kernelspec": {
   "display_name": "Python 3",
   "language": "python",
   "name": "python3"
  },
  "language_info": {
   "codemirror_mode": {
    "name": "ipython",
    "version": 3
   },
   "file_extension": ".py",
   "mimetype": "text/x-python",
   "name": "python",
   "nbconvert_exporter": "python",
   "pygments_lexer": "ipython3",
   "version": "3.7.3"
  },
  "latex_envs": {
   "LaTeX_envs_menu_present": true,
   "autoclose": true,
   "autocomplete": true,
   "bibliofile": "biblio.bib",
   "cite_by": "apalike",
   "current_citInitial": 1,
   "eqLabelWithNumbers": true,
   "eqNumInitial": 1,
   "hotkeys": {
    "equation": "Ctrl-E",
    "itemize": "Ctrl-I"
   },
   "labels_anchors": false,
   "latex_user_defs": false,
   "report_style_numbering": false,
   "user_envs_cfg": false
  },
  "toc": {
   "base_numbering": 1,
   "nav_menu": {},
   "number_sections": true,
   "sideBar": true,
   "skip_h1_title": false,
   "title_cell": "Table of Contents",
   "title_sidebar": "Contents",
   "toc_cell": false,
   "toc_position": {
    "height": "calc(100% - 180px)",
    "left": "10px",
    "top": "150px",
    "width": "297.951px"
   },
   "toc_section_display": true,
   "toc_window_display": true
  },
  "varInspector": {
   "cols": {
    "lenName": 16,
    "lenType": 16,
    "lenVar": 40
   },
   "kernels_config": {
    "python": {
     "delete_cmd_postfix": "",
     "delete_cmd_prefix": "del ",
     "library": "var_list.py",
     "varRefreshCmd": "print(var_dic_list())"
    },
    "r": {
     "delete_cmd_postfix": ") ",
     "delete_cmd_prefix": "rm(",
     "library": "var_list.r",
     "varRefreshCmd": "cat(var_dic_list()) "
    }
   },
   "types_to_exclude": [
    "module",
    "function",
    "builtin_function_or_method",
    "instance",
    "_Feature"
   ],
   "window_display": false
  }
 },
 "nbformat": 4,
 "nbformat_minor": 2
}
