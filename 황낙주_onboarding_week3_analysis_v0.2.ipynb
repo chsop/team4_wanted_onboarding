{
 "cells": [
  {
   "cell_type": "code",
   "execution_count": 150,
   "metadata": {},
   "outputs": [],
   "source": [
    "import numpy as np\n",
    "import pandas as pd\n",
    "import seaborn as sns\n",
    "import matplotlib.pyplot as plt\n",
    "import warnings"
   ]
  },
  {
   "cell_type": "code",
   "execution_count": 151,
   "metadata": {},
   "outputs": [],
   "source": [
    "%matplotlib inline\n",
    "plt.rcParams['font.family'] = 'Malgun Gothic'  # (Windows 용) 한글 출력을 위한 글꼴 설정\n",
    "#plt.rcParams['font.family'] = 'AppleGothic'  # (MAC, 리눅스 용)\n",
    "plt.rcParams['axes.unicode_minus'] = False    # 문자 - (마이너스) 정상 출력을 위한 코드\n",
    "\n",
    "pd.options.display.float_format = '{:20,.0f}'.format\n",
    "pd.options.display.float_format = '{:.2f}'.format\n",
    "pd.options.display.max_columns = 99\n",
    "warnings.filterwarnings('ignore')"
   ]
  },
  {
   "cell_type": "markdown",
   "metadata": {},
   "source": [
    "## data 살펴보기"
   ]
  },
  {
   "cell_type": "code",
   "execution_count": 152,
   "metadata": {},
   "outputs": [],
   "source": [
    "df = pd.read_excel('closetshare.xlsx')\n",
    "df = df.rename(columns=str.lower)"
   ]
  },
  {
   "cell_type": "code",
   "execution_count": 153,
   "metadata": {},
   "outputs": [
    {
     "name": "stdout",
     "output_type": "stream",
     "text": [
      "<class 'pandas.core.frame.DataFrame'>\n",
      "RangeIndex: 1471 entries, 0 to 1470\n",
      "Data columns (total 8 columns):\n",
      " #   Column      Non-Null Count  Dtype         \n",
      "---  ------      --------------  -----         \n",
      " 0   brandnm     1442 non-null   object        \n",
      " 1   goodsnm     1471 non-null   object        \n",
      " 2   user        1471 non-null   object        \n",
      " 3   reg_date    1466 non-null   datetime64[ns]\n",
      " 4   order_date  1471 non-null   datetime64[ns]\n",
      " 5   p_type      1471 non-null   object        \n",
      " 6   sub_type    1471 non-null   object        \n",
      " 7   app_yn      1295 non-null   object        \n",
      "dtypes: datetime64[ns](2), object(6)\n",
      "memory usage: 92.1+ KB\n"
     ]
    }
   ],
   "source": [
    "df.info()"
   ]
  },
  {
   "cell_type": "code",
   "execution_count": 154,
   "metadata": {},
   "outputs": [
    {
     "data": {
      "text/html": [
       "<div>\n",
       "<style scoped>\n",
       "    .dataframe tbody tr th:only-of-type {\n",
       "        vertical-align: middle;\n",
       "    }\n",
       "\n",
       "    .dataframe tbody tr th {\n",
       "        vertical-align: top;\n",
       "    }\n",
       "\n",
       "    .dataframe thead th {\n",
       "        text-align: right;\n",
       "    }\n",
       "</style>\n",
       "<table border=\"1\" class=\"dataframe\">\n",
       "  <thead>\n",
       "    <tr style=\"text-align: right;\">\n",
       "      <th></th>\n",
       "      <th>brandnm</th>\n",
       "      <th>goodsnm</th>\n",
       "      <th>user</th>\n",
       "      <th>reg_date</th>\n",
       "      <th>order_date</th>\n",
       "      <th>p_type</th>\n",
       "      <th>sub_type</th>\n",
       "      <th>app_yn</th>\n",
       "    </tr>\n",
       "  </thead>\n",
       "  <tbody>\n",
       "    <tr>\n",
       "      <th>count</th>\n",
       "      <td>1442</td>\n",
       "      <td>1471</td>\n",
       "      <td>1471</td>\n",
       "      <td>1466</td>\n",
       "      <td>1471</td>\n",
       "      <td>1471</td>\n",
       "      <td>1471</td>\n",
       "      <td>1295</td>\n",
       "    </tr>\n",
       "    <tr>\n",
       "      <th>unique</th>\n",
       "      <td>245</td>\n",
       "      <td>979</td>\n",
       "      <td>1234</td>\n",
       "      <td>368</td>\n",
       "      <td>90</td>\n",
       "      <td>2</td>\n",
       "      <td>6</td>\n",
       "      <td>1</td>\n",
       "    </tr>\n",
       "    <tr>\n",
       "      <th>top</th>\n",
       "      <td>Gucci</td>\n",
       "      <td>chevron quilted cross bag black</td>\n",
       "      <td>a1149461</td>\n",
       "      <td>2021-03-16 00:00:00</td>\n",
       "      <td>2021-03-24 00:00:00</td>\n",
       "      <td>4days</td>\n",
       "      <td>BA</td>\n",
       "      <td>Y</td>\n",
       "    </tr>\n",
       "    <tr>\n",
       "      <th>freq</th>\n",
       "      <td>232</td>\n",
       "      <td>23</td>\n",
       "      <td>11</td>\n",
       "      <td>44</td>\n",
       "      <td>47</td>\n",
       "      <td>894</td>\n",
       "      <td>692</td>\n",
       "      <td>1295</td>\n",
       "    </tr>\n",
       "    <tr>\n",
       "      <th>first</th>\n",
       "      <td>NaN</td>\n",
       "      <td>NaN</td>\n",
       "      <td>NaN</td>\n",
       "      <td>2017-06-24 00:00:00</td>\n",
       "      <td>2021-01-01 00:00:00</td>\n",
       "      <td>NaN</td>\n",
       "      <td>NaN</td>\n",
       "      <td>NaN</td>\n",
       "    </tr>\n",
       "    <tr>\n",
       "      <th>last</th>\n",
       "      <td>NaN</td>\n",
       "      <td>NaN</td>\n",
       "      <td>NaN</td>\n",
       "      <td>2021-03-31 00:00:00</td>\n",
       "      <td>2021-03-31 00:00:00</td>\n",
       "      <td>NaN</td>\n",
       "      <td>NaN</td>\n",
       "      <td>NaN</td>\n",
       "    </tr>\n",
       "  </tbody>\n",
       "</table>\n",
       "</div>"
      ],
      "text/plain": [
       "       brandnm                          goodsnm      user  \\\n",
       "count     1442                             1471      1471   \n",
       "unique     245                              979      1234   \n",
       "top      Gucci  chevron quilted cross bag black  a1149461   \n",
       "freq       232                               23        11   \n",
       "first      NaN                              NaN       NaN   \n",
       "last       NaN                              NaN       NaN   \n",
       "\n",
       "                   reg_date           order_date p_type sub_type app_yn  \n",
       "count                  1466                 1471   1471     1471   1295  \n",
       "unique                  368                   90      2        6      1  \n",
       "top     2021-03-16 00:00:00  2021-03-24 00:00:00  4days       BA      Y  \n",
       "freq                     44                   47    894      692   1295  \n",
       "first   2017-06-24 00:00:00  2021-01-01 00:00:00    NaN      NaN    NaN  \n",
       "last    2021-03-31 00:00:00  2021-03-31 00:00:00    NaN      NaN    NaN  "
      ]
     },
     "execution_count": 154,
     "metadata": {},
     "output_type": "execute_result"
    }
   ],
   "source": [
    "df.describe()"
   ]
  },
  {
   "cell_type": "code",
   "execution_count": 155,
   "metadata": {},
   "outputs": [
    {
     "data": {
      "text/html": [
       "<div>\n",
       "<style scoped>\n",
       "    .dataframe tbody tr th:only-of-type {\n",
       "        vertical-align: middle;\n",
       "    }\n",
       "\n",
       "    .dataframe tbody tr th {\n",
       "        vertical-align: top;\n",
       "    }\n",
       "\n",
       "    .dataframe thead th {\n",
       "        text-align: right;\n",
       "    }\n",
       "</style>\n",
       "<table border=\"1\" class=\"dataframe\">\n",
       "  <thead>\n",
       "    <tr style=\"text-align: right;\">\n",
       "      <th></th>\n",
       "      <th>brandnm</th>\n",
       "      <th>goodsnm</th>\n",
       "      <th>user</th>\n",
       "      <th>reg_date</th>\n",
       "      <th>order_date</th>\n",
       "      <th>p_type</th>\n",
       "      <th>sub_type</th>\n",
       "      <th>app_yn</th>\n",
       "    </tr>\n",
       "  </thead>\n",
       "  <tbody>\n",
       "    <tr>\n",
       "      <th>0</th>\n",
       "      <td>Gucci</td>\n",
       "      <td>flower dionysus shoulder bag beige</td>\n",
       "      <td>a161237</td>\n",
       "      <td>2019-12-06</td>\n",
       "      <td>2021-01-15</td>\n",
       "      <td>7days</td>\n",
       "      <td>BA</td>\n",
       "      <td>Y</td>\n",
       "    </tr>\n",
       "    <tr>\n",
       "      <th>1</th>\n",
       "      <td>El estilo de Claire</td>\n",
       "      <td>beads cropped jacket black</td>\n",
       "      <td>a1140859</td>\n",
       "      <td>2021-01-02</td>\n",
       "      <td>2021-01-15</td>\n",
       "      <td>4days</td>\n",
       "      <td>O</td>\n",
       "      <td>NaN</td>\n",
       "    </tr>\n",
       "    <tr>\n",
       "      <th>2</th>\n",
       "      <td>Danha</td>\n",
       "      <td>embroidery point oriental mini skirt blue</td>\n",
       "      <td>a1140859</td>\n",
       "      <td>2021-01-02</td>\n",
       "      <td>2021-01-15</td>\n",
       "      <td>4days</td>\n",
       "      <td>B</td>\n",
       "      <td>NaN</td>\n",
       "    </tr>\n",
       "    <tr>\n",
       "      <th>3</th>\n",
       "      <td>Danha</td>\n",
       "      <td>graphics pattern top pink</td>\n",
       "      <td>a1140859</td>\n",
       "      <td>2021-01-02</td>\n",
       "      <td>2021-01-15</td>\n",
       "      <td>4days</td>\n",
       "      <td>T</td>\n",
       "      <td>NaN</td>\n",
       "    </tr>\n",
       "    <tr>\n",
       "      <th>4</th>\n",
       "      <td>Burberry London</td>\n",
       "      <td>buckle basic pattern zipup-jumper navy</td>\n",
       "      <td>a1140740</td>\n",
       "      <td>2021-01-01</td>\n",
       "      <td>2021-01-15</td>\n",
       "      <td>7days</td>\n",
       "      <td>O</td>\n",
       "      <td>Y</td>\n",
       "    </tr>\n",
       "  </tbody>\n",
       "</table>\n",
       "</div>"
      ],
      "text/plain": [
       "               brandnm                                    goodsnm      user  \\\n",
       "0                Gucci         flower dionysus shoulder bag beige   a161237   \n",
       "1  El estilo de Claire                 beads cropped jacket black  a1140859   \n",
       "2                Danha  embroidery point oriental mini skirt blue  a1140859   \n",
       "3                Danha                  graphics pattern top pink  a1140859   \n",
       "4      Burberry London     buckle basic pattern zipup-jumper navy  a1140740   \n",
       "\n",
       "    reg_date order_date p_type sub_type app_yn  \n",
       "0 2019-12-06 2021-01-15  7days       BA      Y  \n",
       "1 2021-01-02 2021-01-15  4days        O    NaN  \n",
       "2 2021-01-02 2021-01-15  4days        B    NaN  \n",
       "3 2021-01-02 2021-01-15  4days        T    NaN  \n",
       "4 2021-01-01 2021-01-15  7days        O      Y  "
      ]
     },
     "execution_count": 155,
     "metadata": {},
     "output_type": "execute_result"
    }
   ],
   "source": [
    "df.head()"
   ]
  },
  {
   "cell_type": "markdown",
   "metadata": {},
   "source": [
    "## 결측치"
   ]
  },
  {
   "cell_type": "code",
   "execution_count": 156,
   "metadata": {},
   "outputs": [
    {
     "data": {
      "text/plain": [
       "brandnm        29\n",
       "goodsnm         0\n",
       "user            0\n",
       "reg_date        5\n",
       "order_date      0\n",
       "p_type          0\n",
       "sub_type        0\n",
       "app_yn        176\n",
       "dtype: int64"
      ]
     },
     "execution_count": 156,
     "metadata": {},
     "output_type": "execute_result"
    }
   ],
   "source": [
    "df.isna().sum()"
   ]
  },
  {
   "cell_type": "code",
   "execution_count": 157,
   "metadata": {},
   "outputs": [],
   "source": [
    "# 팀 공통\n",
    "# app_yn 값 0, 1 치환\n",
    "df['app_yn'] = df['app_yn'].fillna(0)\n",
    "df.loc[(df.app_yn == 'Y'), 'app_yn'] = 1"
   ]
  },
  {
   "cell_type": "code",
   "execution_count": 158,
   "metadata": {},
   "outputs": [
    {
     "data": {
      "text/plain": [
       "brandnm       29\n",
       "goodsnm        0\n",
       "user           0\n",
       "reg_date       5\n",
       "order_date     0\n",
       "p_type         0\n",
       "sub_type       0\n",
       "app_yn         0\n",
       "dtype: int64"
      ]
     },
     "execution_count": 158,
     "metadata": {},
     "output_type": "execute_result"
    }
   ],
   "source": [
    "df.isna().sum()"
   ]
  },
  {
   "cell_type": "code",
   "execution_count": 159,
   "metadata": {},
   "outputs": [
    {
     "data": {
      "text/html": [
       "<div>\n",
       "<style scoped>\n",
       "    .dataframe tbody tr th:only-of-type {\n",
       "        vertical-align: middle;\n",
       "    }\n",
       "\n",
       "    .dataframe tbody tr th {\n",
       "        vertical-align: top;\n",
       "    }\n",
       "\n",
       "    .dataframe thead th {\n",
       "        text-align: right;\n",
       "    }\n",
       "</style>\n",
       "<table border=\"1\" class=\"dataframe\">\n",
       "  <thead>\n",
       "    <tr style=\"text-align: right;\">\n",
       "      <th></th>\n",
       "      <th>brandnm</th>\n",
       "      <th>goodsnm</th>\n",
       "      <th>user</th>\n",
       "      <th>reg_date</th>\n",
       "      <th>order_date</th>\n",
       "      <th>p_type</th>\n",
       "      <th>sub_type</th>\n",
       "      <th>app_yn</th>\n",
       "    </tr>\n",
       "  </thead>\n",
       "  <tbody>\n",
       "    <tr>\n",
       "      <th>265</th>\n",
       "      <td>Gucci</td>\n",
       "      <td>mamont chain bag red</td>\n",
       "      <td>a1144008</td>\n",
       "      <td>NaT</td>\n",
       "      <td>2021-01-21</td>\n",
       "      <td>7days</td>\n",
       "      <td>BA</td>\n",
       "      <td>1</td>\n",
       "    </tr>\n",
       "    <tr>\n",
       "      <th>351</th>\n",
       "      <td>Lanvin</td>\n",
       "      <td>banding point jumper skyblue</td>\n",
       "      <td>a1142855</td>\n",
       "      <td>NaT</td>\n",
       "      <td>2021-01-18</td>\n",
       "      <td>7days</td>\n",
       "      <td>O</td>\n",
       "      <td>0</td>\n",
       "    </tr>\n",
       "    <tr>\n",
       "      <th>564</th>\n",
       "      <td>Gucci</td>\n",
       "      <td>leather point cross bag</td>\n",
       "      <td>a1146490</td>\n",
       "      <td>NaT</td>\n",
       "      <td>2021-02-18</td>\n",
       "      <td>4days</td>\n",
       "      <td>BA</td>\n",
       "      <td>1</td>\n",
       "    </tr>\n",
       "    <tr>\n",
       "      <th>746</th>\n",
       "      <td>Fendi</td>\n",
       "      <td>monogram zucchino shoulder bag</td>\n",
       "      <td>a1145478</td>\n",
       "      <td>NaT</td>\n",
       "      <td>2021-02-04</td>\n",
       "      <td>4days</td>\n",
       "      <td>BA</td>\n",
       "      <td>0</td>\n",
       "    </tr>\n",
       "    <tr>\n",
       "      <th>1254</th>\n",
       "      <td>Fendi</td>\n",
       "      <td>back to school bag 1</td>\n",
       "      <td>a1149094</td>\n",
       "      <td>NaT</td>\n",
       "      <td>2021-03-12</td>\n",
       "      <td>7days</td>\n",
       "      <td>BA</td>\n",
       "      <td>1</td>\n",
       "    </tr>\n",
       "  </tbody>\n",
       "</table>\n",
       "</div>"
      ],
      "text/plain": [
       "     brandnm                         goodsnm      user reg_date order_date  \\\n",
       "265    Gucci            mamont chain bag red  a1144008      NaT 2021-01-21   \n",
       "351   Lanvin    banding point jumper skyblue  a1142855      NaT 2021-01-18   \n",
       "564    Gucci         leather point cross bag  a1146490      NaT 2021-02-18   \n",
       "746    Fendi  monogram zucchino shoulder bag  a1145478      NaT 2021-02-04   \n",
       "1254   Fendi            back to school bag 1  a1149094      NaT 2021-03-12   \n",
       "\n",
       "     p_type sub_type app_yn  \n",
       "265   7days       BA      1  \n",
       "351   7days        O      0  \n",
       "564   4days       BA      1  \n",
       "746   4days       BA      0  \n",
       "1254  7days       BA      1  "
      ]
     },
     "execution_count": 159,
     "metadata": {},
     "output_type": "execute_result"
    }
   ],
   "source": [
    "# reg_date NA값 채우기\n",
    "df[df['reg_date'].isna()]"
   ]
  },
  {
   "cell_type": "code",
   "execution_count": 160,
   "metadata": {},
   "outputs": [],
   "source": [
    "df['user_id'] = 0\n",
    "\n",
    "for i in range(len(df)):\n",
    "    df['user_id'][i] = df['user'][i][1:]"
   ]
  },
  {
   "cell_type": "code",
   "execution_count": 161,
   "metadata": {},
   "outputs": [],
   "source": [
    "df['user_id'] = df['user_id'].astype(int)"
   ]
  },
  {
   "cell_type": "code",
   "execution_count": 162,
   "metadata": {},
   "outputs": [],
   "source": [
    "df.loc[(df.user_id == 1144008), 'reg_date'] = pd.to_datetime('2021-01-21')\n",
    "df.loc[(df.user_id == 1142855), 'reg_date'] = pd.to_datetime('2021-01-13') # 우선 13일로 추가\n",
    "df.loc[(df.user_id == 1146490), 'reg_date'] = pd.to_datetime('2021-02-15')\n",
    "df.loc[(df.user_id == 1145478), 'reg_date'] = pd.to_datetime('2021-02-04')\n",
    "df.loc[(df.user_id == 1149094), 'reg_date'] = pd.to_datetime('2021-03-12')"
   ]
  },
  {
   "cell_type": "code",
   "execution_count": 163,
   "metadata": {},
   "outputs": [
    {
     "data": {
      "text/plain": [
       "brandnm       29\n",
       "goodsnm        0\n",
       "user           0\n",
       "reg_date       0\n",
       "order_date     0\n",
       "p_type         0\n",
       "sub_type       0\n",
       "app_yn         0\n",
       "user_id        0\n",
       "dtype: int64"
      ]
     },
     "execution_count": 163,
     "metadata": {},
     "output_type": "execute_result"
    }
   ],
   "source": [
    "df.isna().sum()"
   ]
  },
  {
   "cell_type": "code",
   "execution_count": 164,
   "metadata": {},
   "outputs": [],
   "source": [
    "# brand NA 29개\n",
    "# brand name NA값들은 전부 TP인 경우이다.\n",
    "# 상하의로 쪼개서 2값으로 넣으려고 했지만, 다른 한벌 상품들이랑 구매 가격이 똑같다. 약간 떨이 느낌\n",
    "# 따라서 상품을 찾아서 brand name만 채워넣었다.\n",
    "# 상하의가 서로 브랜드가 다른 경우, 더 인지도가 높은 브랜드 명을 채워넣었다."
   ]
  },
  {
   "cell_type": "code",
   "execution_count": 165,
   "metadata": {},
   "outputs": [],
   "source": [
    "df.loc[146, 'brandnm'] = 'Fendi' # 상의는 YCH ?\n",
    "df.loc[147, 'brandnm'] = 'Mojosphine'\n",
    "df.loc[160, 'brandnm'] = 'Fayewoo'\n",
    "df.loc[220, 'brandnm'] = 'Nakes'\n",
    "df.loc[267, 'brandnm'] = 'Vw vera Wang'\n",
    "df.loc[282, 'brandnm'] = 'Gucci'\n",
    "df.loc[285, 'brandnm'] = 'Chanel'\n",
    "df.loc[329, 'brandnm'] = 'Plastic Island'\n",
    "df.loc[342, 'brandnm'] = 'Sonia Rykiel'\n",
    "df.loc[368, 'brandnm'] = 'El estilo de Claire'\n",
    "df.loc[373, 'brandnm'] = 'Moschino'\n",
    "df.loc[443, 'brandnm'] = 'Saint James'\n",
    "df.loc[505, 'brandnm'] = 'EunjoKoh'\n",
    "df.loc[525, 'brandnm'] = 'Vw vera Wang'\n",
    "df.loc[526, 'brandnm'] = 'Rejina Pyo'\n",
    "df.loc[544, 'brandnm'] = 'Miu Miu'\n",
    "df.loc[765, 'brandnm'] = 'El estilo de Claire'\n",
    "df.loc[766, 'brandnm'] = 'Miu Miu'\n",
    "df.loc[879, 'brandnm'] = 'Olive des Olive'\n",
    "df.loc[892, 'brandnm'] = 'Sandro'\n",
    "df.loc[931, 'brandnm'] = 'Balmain' # + 다른 브랜드\n",
    "df.loc[946, 'brandnm'] = 'Fayewoo'\n",
    "df.loc[957, 'brandnm'] = 'It michaa'\n",
    "df.loc[1062, 'brandnm'] = 'SJYP' # 현재 상의는 있는데 하의는 없음. 이제 상의만 렌트하는듯. 상의 브랜드 넣음\n",
    "df.loc[1210, 'brandnm'] = 'Mine' # Mine, Chee U 두 브랜드에서 똑같은 이름의 투피스 상품이 있음. 인지도에 따라 Mine으로 넣음\n",
    "df.loc[1385, 'brandnm'] = 'Mojosphine'\n",
    "df.loc[1405, 'brandnm'] = 'Plastic Island'"
   ]
  },
  {
   "cell_type": "code",
   "execution_count": 166,
   "metadata": {},
   "outputs": [],
   "source": [
    "# 넣으면서 알아낸 쓸모없는 사실\n",
    "# goods name은 여러 단어의 조합이다. 버튼이 있고 패턴이 없는 검은색 자켓이면 button + basic + pattern + jacket + black 이렇게 쓰는 식\n",
    "# 따라서 브랜드는 다르지만 상품명은 같은 제품이 많다.\n",
    "# button basic pattern jacket black 검색해보면 확인할 수 있습니다.\n",
    "\n",
    "# 2개는 못 넣었다ㅠ\n",
    "# df.loc[993, 'goodsnm'] : 상하의 다 없음.. 판매중지인듯\n",
    "# df.loc[1160, 'goodsnm'] : 투피스 상품은 없어진듯. 상하의 따로는 있는데 브랜드가 많아서 대입하기 힘듬"
   ]
  },
  {
   "cell_type": "code",
   "execution_count": 167,
   "metadata": {},
   "outputs": [
    {
     "data": {
      "text/plain": [
       "brandnm       2\n",
       "goodsnm       0\n",
       "user          0\n",
       "reg_date      0\n",
       "order_date    0\n",
       "p_type        0\n",
       "sub_type      0\n",
       "app_yn        0\n",
       "user_id       0\n",
       "dtype: int64"
      ]
     },
     "execution_count": 167,
     "metadata": {},
     "output_type": "execute_result"
    }
   ],
   "source": [
    "df.isna().sum()"
   ]
  },
  {
   "cell_type": "code",
   "execution_count": 168,
   "metadata": {},
   "outputs": [],
   "source": [
    "# 2개는 N/A ? drop? 우선 N/A\n",
    "df = df.fillna('N/A')"
   ]
  },
  {
   "cell_type": "markdown",
   "metadata": {},
   "source": [
    "## Feature Engineering"
   ]
  },
  {
   "cell_type": "code",
   "execution_count": 169,
   "metadata": {
    "scrolled": true
   },
   "outputs": [],
   "source": [
    "# 가입 정보 관련 날짜 변수 추가 \n",
    "df['reg_date']=pd.to_datetime(df['reg_date'])\n",
    "df['reg_year']=df['reg_date'].dt.strftime('%Y')\n",
    "df['reg_month']=df['reg_date'].dt.strftime('%m')## Feature Engineering\n",
    "df['reg_yearmonth']=df['reg_date'].dt.strftime('%Y-%m')\n",
    "df['reg_dayofweek']=df['reg_date'].dt.dayofweek\n",
    "df['order_month']=df['order_date'].dt.month\n",
    "df['order_week']=df['order_date'].dt.week\n",
    "df['order_day']=df['order_date'].dt.day\n",
    "df['order_dayofweek']=df['order_date'].dt.dayofweek\n",
    "df['new'] = np.where(df['reg_year'].values == '2021', 1, 0)\n",
    "\n",
    "# date continuous변환\n",
    "df['order_date']=pd.to_datetime(df['order_date']).dt.date\n",
    "df['reg_date']=pd.to_datetime(df['reg_date']).dt.date\n",
    "\n",
    "# 구매 전환 날짜\n",
    "df['first'] = (df['order_date'] - df['reg_date']).dt.days\n",
    "df['isfirst'] = np.where(df['first'].values <= 1, True, False)\n",
    "df['level'] = np.where(df['first'].values == 0, '당일구매', np.where(df['first'].values == 1, '1일이내구매', np.where(df['first'].values < 7, '1주일이내구매', np.where(df['first'].values < 30, '1달이내구매', '1달경과후구매'))))"
   ]
  },
  {
   "cell_type": "code",
   "execution_count": 170,
   "metadata": {},
   "outputs": [],
   "source": [
    "# 2021 top 10 list\n",
    "luxury_list=['GUCCI','Louis Vuitton','Cartier','Chanel','Hermes','Ferrari','Rolex','Dior','Christian Dior','COACH','Estee Lauder','Tiffany & Co.',\n",
    "'Guerlain','Burberry','Prada','Lancôme','Omega','Clarins','Bulgari','Moncler','Saint Laurent','SK-II','McLaren','TAG Heuer','Givenchy','Lamborghini','Armani','Bottega Veneta','Rolls- Royce',\n",
    "'Bentley','Aston Martin','Loewe','Maserati','Van Cleef & Arpels','Valentino','Salvatore Ferragamo','Shiseido','Sulwhasoo','Tissot','Versace','Bobbi Brown','Montblanc','Tom Ford','Longines','Cle de Peau Beaute','Jaeger-LeCoultre',\n",
    "'Celine','Dolce & Gabbana','Miu Miu','Fendi']\n",
    "# brandnm luxury \n",
    "df['brandnm_luxury']=np.where(df['brandnm'].isin(luxury_list), 1,0)"
   ]
  },
  {
   "cell_type": "code",
   "execution_count": 171,
   "metadata": {},
   "outputs": [
    {
     "data": {
      "text/html": [
       "<div>\n",
       "<style scoped>\n",
       "    .dataframe tbody tr th:only-of-type {\n",
       "        vertical-align: middle;\n",
       "    }\n",
       "\n",
       "    .dataframe tbody tr th {\n",
       "        vertical-align: top;\n",
       "    }\n",
       "\n",
       "    .dataframe thead th {\n",
       "        text-align: right;\n",
       "    }\n",
       "</style>\n",
       "<table border=\"1\" class=\"dataframe\">\n",
       "  <thead>\n",
       "    <tr style=\"text-align: right;\">\n",
       "      <th></th>\n",
       "      <th>user</th>\n",
       "      <th>reg_date</th>\n",
       "      <th>reg_yearmonth</th>\n",
       "      <th>order_date</th>\n",
       "      <th>order_month</th>\n",
       "      <th>order_week</th>\n",
       "      <th>order_dayofweek</th>\n",
       "      <th>order_count</th>\n",
       "      <th>4days</th>\n",
       "      <th>7days</th>\n",
       "      <th>0</th>\n",
       "      <th>1</th>\n",
       "      <th>B</th>\n",
       "      <th>BA</th>\n",
       "      <th>D</th>\n",
       "      <th>O</th>\n",
       "      <th>T</th>\n",
       "      <th>TP</th>\n",
       "    </tr>\n",
       "  </thead>\n",
       "  <tbody>\n",
       "    <tr>\n",
       "      <th>0</th>\n",
       "      <td>a1100548</td>\n",
       "      <td>2020-05-16</td>\n",
       "      <td>2020-05</td>\n",
       "      <td>2021-03-31</td>\n",
       "      <td>3</td>\n",
       "      <td>13</td>\n",
       "      <td>2</td>\n",
       "      <td>2</td>\n",
       "      <td>2.00</td>\n",
       "      <td>0.00</td>\n",
       "      <td>0.00</td>\n",
       "      <td>2.00</td>\n",
       "      <td>1.00</td>\n",
       "      <td>1.00</td>\n",
       "      <td>0.00</td>\n",
       "      <td>0.00</td>\n",
       "      <td>0.00</td>\n",
       "      <td>0.00</td>\n",
       "    </tr>\n",
       "    <tr>\n",
       "      <th>1</th>\n",
       "      <td>a1100887</td>\n",
       "      <td>2020-05-19</td>\n",
       "      <td>2020-05</td>\n",
       "      <td>2021-03-29</td>\n",
       "      <td>3</td>\n",
       "      <td>13</td>\n",
       "      <td>0</td>\n",
       "      <td>1</td>\n",
       "      <td>0.00</td>\n",
       "      <td>1.00</td>\n",
       "      <td>0.00</td>\n",
       "      <td>1.00</td>\n",
       "      <td>0.00</td>\n",
       "      <td>1.00</td>\n",
       "      <td>0.00</td>\n",
       "      <td>0.00</td>\n",
       "      <td>0.00</td>\n",
       "      <td>0.00</td>\n",
       "    </tr>\n",
       "    <tr>\n",
       "      <th>2</th>\n",
       "      <td>a1101514</td>\n",
       "      <td>2020-05-25</td>\n",
       "      <td>2020-05</td>\n",
       "      <td>2021-02-05</td>\n",
       "      <td>2</td>\n",
       "      <td>5</td>\n",
       "      <td>4</td>\n",
       "      <td>1</td>\n",
       "      <td>1.00</td>\n",
       "      <td>0.00</td>\n",
       "      <td>0.00</td>\n",
       "      <td>1.00</td>\n",
       "      <td>0.00</td>\n",
       "      <td>0.00</td>\n",
       "      <td>0.00</td>\n",
       "      <td>1.00</td>\n",
       "      <td>0.00</td>\n",
       "      <td>0.00</td>\n",
       "    </tr>\n",
       "    <tr>\n",
       "      <th>3</th>\n",
       "      <td>a1101645</td>\n",
       "      <td>2020-05-26</td>\n",
       "      <td>2020-05</td>\n",
       "      <td>2021-02-23</td>\n",
       "      <td>2</td>\n",
       "      <td>8</td>\n",
       "      <td>1</td>\n",
       "      <td>1</td>\n",
       "      <td>1.00</td>\n",
       "      <td>0.00</td>\n",
       "      <td>1.00</td>\n",
       "      <td>0.00</td>\n",
       "      <td>0.00</td>\n",
       "      <td>1.00</td>\n",
       "      <td>0.00</td>\n",
       "      <td>0.00</td>\n",
       "      <td>0.00</td>\n",
       "      <td>0.00</td>\n",
       "    </tr>\n",
       "    <tr>\n",
       "      <th>4</th>\n",
       "      <td>a1102068</td>\n",
       "      <td>2020-05-29</td>\n",
       "      <td>2020-05</td>\n",
       "      <td>2021-03-04</td>\n",
       "      <td>3</td>\n",
       "      <td>9</td>\n",
       "      <td>3</td>\n",
       "      <td>1</td>\n",
       "      <td>0.00</td>\n",
       "      <td>1.00</td>\n",
       "      <td>0.00</td>\n",
       "      <td>1.00</td>\n",
       "      <td>0.00</td>\n",
       "      <td>1.00</td>\n",
       "      <td>0.00</td>\n",
       "      <td>0.00</td>\n",
       "      <td>0.00</td>\n",
       "      <td>0.00</td>\n",
       "    </tr>\n",
       "  </tbody>\n",
       "</table>\n",
       "</div>"
      ],
      "text/plain": [
       "       user    reg_date reg_yearmonth  order_date  order_month  order_week  \\\n",
       "0  a1100548  2020-05-16       2020-05  2021-03-31            3          13   \n",
       "1  a1100887  2020-05-19       2020-05  2021-03-29            3          13   \n",
       "2  a1101514  2020-05-25       2020-05  2021-02-05            2           5   \n",
       "3  a1101645  2020-05-26       2020-05  2021-02-23            2           8   \n",
       "4  a1102068  2020-05-29       2020-05  2021-03-04            3           9   \n",
       "\n",
       "   order_dayofweek  order_count  4days  7days    0    1    B   BA    D    O  \\\n",
       "0                2            2   2.00   0.00 0.00 2.00 1.00 1.00 0.00 0.00   \n",
       "1                0            1   0.00   1.00 0.00 1.00 0.00 1.00 0.00 0.00   \n",
       "2                4            1   1.00   0.00 0.00 1.00 0.00 0.00 0.00 1.00   \n",
       "3                1            1   1.00   0.00 1.00 0.00 0.00 1.00 0.00 0.00   \n",
       "4                3            1   0.00   1.00 0.00 1.00 0.00 1.00 0.00 0.00   \n",
       "\n",
       "     T   TP  \n",
       "0 0.00 0.00  \n",
       "1 0.00 0.00  \n",
       "2 0.00 0.00  \n",
       "3 0.00 0.00  \n",
       "4 0.00 0.00  "
      ]
     },
     "execution_count": 171,
     "metadata": {},
     "output_type": "execute_result"
    }
   ],
   "source": [
    "# df_user 유저 기본 정보 테이블생성\n",
    "df_user = df.groupby(['user','reg_date','reg_yearmonth','order_date','order_month','order_week','order_dayofweek'])['goodsnm'].count().to_frame().reset_index().rename(columns={'goodsnm':'order_count'}) \n",
    "ptype = df.pivot_table(index='user', columns='p_type',values= 'order_date',aggfunc='count').fillna(0).reset_index()\n",
    "subtype = df.pivot_table(index='user', columns='sub_type',values= 'order_date',aggfunc='count').fillna(0).reset_index()\n",
    "app = df.pivot_table(index='user', columns='app_yn',values= 'order_date',aggfunc='count').fillna(0).reset_index().rename(columns={'Y':'app'}) \n",
    "luxury=df.pivot_table(index='user',values= 'brandnm_luxury',aggfunc='sum').fillna(0).reset_index()\n",
    "\n",
    "# merge\n",
    "df_user = df_user.merge(ptype, how='left', on='user').merge(app, how='left', on='user').merge(subtype, how='left', on='user').fillna(0)\n",
    "df_user.head(5)"
   ]
  },
  {
   "cell_type": "code",
   "execution_count": 172,
   "metadata": {},
   "outputs": [],
   "source": [
    "# 2건 이상 heavy user로 규정\n",
    "heavy_list=df_user.query('order_count>1').user.tolist()\n",
    "df['seg_heavy']=np.where(df.user.isin(heavy_list),1,0)"
   ]
  },
  {
   "cell_type": "code",
   "execution_count": null,
   "metadata": {},
   "outputs": [],
   "source": []
  },
  {
   "cell_type": "code",
   "execution_count": null,
   "metadata": {},
   "outputs": [],
   "source": []
  },
  {
   "cell_type": "code",
   "execution_count": null,
   "metadata": {},
   "outputs": [],
   "source": []
  },
  {
   "cell_type": "markdown",
   "metadata": {},
   "source": [
    "## EDA"
   ]
  },
  {
   "cell_type": "code",
   "execution_count": 173,
   "metadata": {},
   "outputs": [],
   "source": [
    "# 1. 날짜별 판매량 변화 추이"
   ]
  },
  {
   "cell_type": "code",
   "execution_count": 174,
   "metadata": {},
   "outputs": [
    {
     "data": {
      "image/png": "[encoded data removed]",
      "text/plain": [
       "<Figure size 1440x576 with 1 Axes>"
      ]
     },
     "metadata": {
      "needs_background": "light"
     },
     "output_type": "display_data"
    }
   ],
   "source": [
    "df_count = df.groupby('order_date')['user'].value_counts().groupby('order_date').sum().reset_index()\n",
    "\n",
    "plt.figure(figsize=(20,8))\n",
    "sns.lineplot(data = df_count,\n",
    "             x = df_count['order_date'], y = df_count['user'])\n",
    "plt.ylabel('counts', fontsize=16)\n",
    "plt.xlabel('date', fontsize=16)\n",
    "plt.show()\n"
   ]
  },
  {
   "cell_type": "code",
   "execution_count": 175,
   "metadata": {},
   "outputs": [],
   "source": [
    "# 2. 요일별 판매량 변화 추이"
   ]
  },
  {
   "cell_type": "code",
   "execution_count": 176,
   "metadata": {},
   "outputs": [
    {
     "data": {
      "image/png": "[encoded data removed]",
      "text/plain": [
       "<Figure size 936x432 with 1 Axes>"
      ]
     },
     "metadata": {
      "needs_background": "light"
     },
     "output_type": "display_data"
    }
   ],
   "source": [
    "plt.figure(figsize=(13,6))\n",
    "sns.countplot(data = df, x = 'order_dayofweek')\n",
    "plt.title('요일별 판매량 차트', fontsize=18);"
   ]
  },
  {
   "cell_type": "markdown",
   "metadata": {},
   "source": [
    "\n",
    "그래프를 보고 배송 날짜나 렌트 기간에 대해 궁금증이 생겨서 클로젯셰어 카톡 상담을 했는데, 내용은 다음과 같다.\n",
    "\n",
    "1. 주문 시간에 따른 배송 안내\n",
    "\n",
    ">서울 지역의 경우 오전 8시 주문 건까지 당일출고, 당일수령 (오후 2-7시 사이 당일수령) <br>\n",
    ">경기/지방 지역은 오후 4시 주문 건까지 택배로 당일 출고되며 일요일 제외 1-2일 내 수령 가능합니다.\n",
    ">\n",
    ">모든 주문은 평일기준이며, 주말(토,일)/공휴일은 그 다음 평일에 출고 이루어 집니다.\n",
    "\n",
    "2. 렌트 기간은 수령일 기준 or 구매일 기준?\n",
    "\n",
    ">멤버십은 결제일부터 한달입니다. 1회권이라면 수령일 기준이 맞습니다!\n",
    "\n",
    "3. 반납\n",
    "\n",
    ">이용일 다음날 기사님 방문하여 받아갑니다. (주말제외)\n",
    "\n",
    "\n",
    "정리하면 요일별 판매량은 화수목이 많은데 배송 + 반납 등을 고려했을 때 금요일, 토요일에 사용하기 위한 것으로 보여진다.\n"
   ]
  },
  {
   "cell_type": "code",
   "execution_count": 177,
   "metadata": {},
   "outputs": [
    {
     "data": {
      "text/plain": [
       "135    2021-01-01\n",
       "134    2021-01-01\n",
       "133    2021-01-01\n",
       "132    2021-01-01\n",
       "131    2021-01-02\n",
       "          ...    \n",
       "856    2021-03-31\n",
       "855    2021-03-31\n",
       "854    2021-03-31\n",
       "861    2021-03-31\n",
       "849    2021-03-31\n",
       "Name: order_date, Length: 1471, dtype: object"
      ]
     },
     "execution_count": 177,
     "metadata": {},
     "output_type": "execute_result"
    }
   ],
   "source": [
    "# order_date 분배\n",
    "df['order_date'].sort_values()\n",
    "# 1월 1일 ~ 3월 31일"
   ]
  },
  {
   "cell_type": "code",
   "execution_count": 178,
   "metadata": {},
   "outputs": [
    {
     "data": {
      "text/plain": [
       "count   1234.00\n",
       "mean       1.00\n",
       "std        0.00\n",
       "min        1.00\n",
       "25%        1.00\n",
       "50%        1.00\n",
       "75%        1.00\n",
       "max        1.00\n",
       "dtype: float64"
      ]
     },
     "execution_count": 178,
     "metadata": {},
     "output_type": "execute_result"
    }
   ],
   "source": [
    "# user와 order_date가 1:1 매칭인가요? 네\n",
    "df.groupby(['user','order_date'], as_index=False).sum().value_counts().describe()"
   ]
  },
  {
   "cell_type": "code",
   "execution_count": 179,
   "metadata": {},
   "outputs": [
    {
     "data": {
      "text/plain": [
       "0      352\n",
       "1      147\n",
       "3      119\n",
       "2      107\n",
       "5       32\n",
       "      ... \n",
       "395      1\n",
       "391      1\n",
       "382      1\n",
       "381      1\n",
       "298      1\n",
       "Name: first, Length: 324, dtype: int64"
      ]
     },
     "execution_count": 179,
     "metadata": {},
     "output_type": "execute_result"
    }
   ],
   "source": [
    "df['first'].value_counts()"
   ]
  },
  {
   "cell_type": "code",
   "execution_count": 180,
   "metadata": {},
   "outputs": [
    {
     "data": {
      "text/plain": [
       "(1234,)"
      ]
     },
     "execution_count": 180,
     "metadata": {},
     "output_type": "execute_result"
    }
   ],
   "source": [
    "# 전체 1234명의 user\n",
    "df['user'].unique().shape"
   ]
  },
  {
   "cell_type": "code",
   "execution_count": 181,
   "metadata": {},
   "outputs": [
    {
     "data": {
      "text/plain": [
       "(499, 23)"
      ]
     },
     "execution_count": 181,
     "metadata": {},
     "output_type": "execute_result"
    }
   ],
   "source": [
    "# 가입 1일 이내 전환 유저 499명\n",
    "df.query('first <= 1').shape"
   ]
  },
  {
   "cell_type": "code",
   "execution_count": 182,
   "metadata": {},
   "outputs": [
    {
     "data": {
      "text/plain": [
       "0.40437601296596437"
      ]
     },
     "execution_count": 182,
     "metadata": {},
     "output_type": "execute_result"
    }
   ],
   "source": [
    "# 약 40%가 가입 후 1일 이내 구매 전환 유저\n",
    "499 / 1234"
   ]
  },
  {
   "cell_type": "code",
   "execution_count": 183,
   "metadata": {},
   "outputs": [
    {
     "data": {
      "text/html": [
       "<div>\n",
       "<style scoped>\n",
       "    .dataframe tbody tr th:only-of-type {\n",
       "        vertical-align: middle;\n",
       "    }\n",
       "\n",
       "    .dataframe tbody tr th {\n",
       "        vertical-align: top;\n",
       "    }\n",
       "\n",
       "    .dataframe thead th {\n",
       "        text-align: right;\n",
       "    }\n",
       "</style>\n",
       "<table border=\"1\" class=\"dataframe\">\n",
       "  <thead>\n",
       "    <tr style=\"text-align: right;\">\n",
       "      <th></th>\n",
       "      <th>order_month</th>\n",
       "      <th>first</th>\n",
       "    </tr>\n",
       "  </thead>\n",
       "  <tbody>\n",
       "    <tr>\n",
       "      <th>0</th>\n",
       "      <td>1</td>\n",
       "      <td>88</td>\n",
       "    </tr>\n",
       "    <tr>\n",
       "      <th>1</th>\n",
       "      <td>2</td>\n",
       "      <td>182</td>\n",
       "    </tr>\n",
       "    <tr>\n",
       "      <th>2</th>\n",
       "      <td>3</td>\n",
       "      <td>229</td>\n",
       "    </tr>\n",
       "  </tbody>\n",
       "</table>\n",
       "</div>"
      ],
      "text/plain": [
       "   order_month  first\n",
       "0            1     88\n",
       "1            2    182\n",
       "2            3    229"
      ]
     },
     "execution_count": 183,
     "metadata": {},
     "output_type": "execute_result"
    }
   ],
   "source": [
    "# 월별 1일 이내 구매 전환 유저는?\n",
    "df_first = df.query('first <= 1').groupby('order_month')['first'].value_counts().groupby('order_month').sum().reset_index()\n",
    "df_first"
   ]
  },
  {
   "cell_type": "code",
   "execution_count": 184,
   "metadata": {},
   "outputs": [
    {
     "data": {
      "text/html": [
       "<div>\n",
       "<style scoped>\n",
       "    .dataframe tbody tr th:only-of-type {\n",
       "        vertical-align: middle;\n",
       "    }\n",
       "\n",
       "    .dataframe tbody tr th {\n",
       "        vertical-align: top;\n",
       "    }\n",
       "\n",
       "    .dataframe thead th {\n",
       "        text-align: right;\n",
       "    }\n",
       "</style>\n",
       "<table border=\"1\" class=\"dataframe\">\n",
       "  <thead>\n",
       "    <tr style=\"text-align: right;\">\n",
       "      <th></th>\n",
       "      <th>order_month</th>\n",
       "      <th>all</th>\n",
       "    </tr>\n",
       "  </thead>\n",
       "  <tbody>\n",
       "    <tr>\n",
       "      <th>0</th>\n",
       "      <td>1</td>\n",
       "      <td>377</td>\n",
       "    </tr>\n",
       "    <tr>\n",
       "      <th>1</th>\n",
       "      <td>2</td>\n",
       "      <td>455</td>\n",
       "    </tr>\n",
       "    <tr>\n",
       "      <th>2</th>\n",
       "      <td>3</td>\n",
       "      <td>639</td>\n",
       "    </tr>\n",
       "  </tbody>\n",
       "</table>\n",
       "</div>"
      ],
      "text/plain": [
       "   order_month  all\n",
       "0            1  377\n",
       "1            2  455\n",
       "2            3  639"
      ]
     },
     "execution_count": 184,
     "metadata": {},
     "output_type": "execute_result"
    }
   ],
   "source": [
    "# 월별 전체 구매 유저는?\n",
    "df_all = df.groupby('order_month')['first'].value_counts().groupby('order_month').sum().reset_index()\n",
    "df_all = df_all.rename(columns = {'first': 'all'}, inplace = False)\n",
    "df_all"
   ]
  },
  {
   "cell_type": "code",
   "execution_count": 185,
   "metadata": {},
   "outputs": [
    {
     "data": {
      "text/html": [
       "<div>\n",
       "<style scoped>\n",
       "    .dataframe tbody tr th:only-of-type {\n",
       "        vertical-align: middle;\n",
       "    }\n",
       "\n",
       "    .dataframe tbody tr th {\n",
       "        vertical-align: top;\n",
       "    }\n",
       "\n",
       "    .dataframe thead th {\n",
       "        text-align: right;\n",
       "    }\n",
       "</style>\n",
       "<table border=\"1\" class=\"dataframe\">\n",
       "  <thead>\n",
       "    <tr style=\"text-align: right;\">\n",
       "      <th></th>\n",
       "      <th>order_month</th>\n",
       "      <th>first</th>\n",
       "      <th>all</th>\n",
       "    </tr>\n",
       "  </thead>\n",
       "  <tbody>\n",
       "    <tr>\n",
       "      <th>0</th>\n",
       "      <td>1</td>\n",
       "      <td>88</td>\n",
       "      <td>377</td>\n",
       "    </tr>\n",
       "    <tr>\n",
       "      <th>1</th>\n",
       "      <td>2</td>\n",
       "      <td>182</td>\n",
       "      <td>455</td>\n",
       "    </tr>\n",
       "    <tr>\n",
       "      <th>2</th>\n",
       "      <td>3</td>\n",
       "      <td>229</td>\n",
       "      <td>639</td>\n",
       "    </tr>\n",
       "  </tbody>\n",
       "</table>\n",
       "</div>"
      ],
      "text/plain": [
       "   order_month  first  all\n",
       "0            1     88  377\n",
       "1            2    182  455\n",
       "2            3    229  639"
      ]
     },
     "execution_count": 185,
     "metadata": {},
     "output_type": "execute_result"
    }
   ],
   "source": [
    "df_fa = pd.concat([df_first, df_all['all']], axis = 1)\n",
    "df_fa"
   ]
  },
  {
   "cell_type": "code",
   "execution_count": 186,
   "metadata": {},
   "outputs": [
    {
     "data": {
      "image/png": "[encoded data removed]",
      "text/plain": [
       "<Figure size 432x288 with 1 Axes>"
      ]
     },
     "metadata": {
      "needs_background": "light"
     },
     "output_type": "display_data"
    }
   ],
   "source": [
    "# 3. 2월, 3월의 첫 구매고객, 전체 고객의 구매량 증가율\n",
    "(df_fa.pct_change()*100)[['first', 'all']].dropna().plot(kind = 'bar', rot = 0)\n",
    "plt.xticks(np.arange(2, 3))\n",
    "plt.title('2월, 3월 : 첫 구매고객, 전체 고객의 구매량 증가율');"
   ]
  },
  {
   "cell_type": "code",
   "execution_count": 187,
   "metadata": {},
   "outputs": [],
   "source": [
    "#            2월   3월\n",
    "# 1일이내   106     25.8\n",
    "# 전체      20.7   40.4  (단위 : %)"
   ]
  },
  {
   "cell_type": "code",
   "execution_count": 188,
   "metadata": {},
   "outputs": [
    {
     "data": {
      "image/png": "[encoded data removed]",
      "text/plain": [
       "<Figure size 936x432 with 1 Axes>"
      ]
     },
     "metadata": {
      "needs_background": "light"
     },
     "output_type": "display_data"
    }
   ],
   "source": [
    "# 첫 구매 고객이 2월에 급증했다.. 그 이유는?\n",
    "plt.figure(figsize=(13,6))\n",
    "sns.barplot(data = df.query('order_month==2').groupby('order_day')['user'].value_counts().groupby('order_day').sum().reset_index(), \n",
    "         x = 'order_day', y = 'user')\n",
    "plt.ylabel('counts')\n",
    "plt.title('2월 판매량 차트', fontsize=18);\n",
    "\n",
    "# 날짜 데이터만 놓고 보면 잘 모르겠다. 할인행사를 진행했나?"
   ]
  },
  {
   "cell_type": "code",
   "execution_count": 189,
   "metadata": {},
   "outputs": [
    {
     "data": {
      "text/html": [
       "<div>\n",
       "<style scoped>\n",
       "    .dataframe tbody tr th:only-of-type {\n",
       "        vertical-align: middle;\n",
       "    }\n",
       "\n",
       "    .dataframe tbody tr th {\n",
       "        vertical-align: top;\n",
       "    }\n",
       "\n",
       "    .dataframe thead th {\n",
       "        text-align: right;\n",
       "    }\n",
       "</style>\n",
       "<table border=\"1\" class=\"dataframe\">\n",
       "  <thead>\n",
       "    <tr style=\"text-align: right;\">\n",
       "      <th></th>\n",
       "      <th>app_yn</th>\n",
       "      <th>user</th>\n",
       "    </tr>\n",
       "  </thead>\n",
       "  <tbody>\n",
       "    <tr>\n",
       "      <th>0</th>\n",
       "      <td>0</td>\n",
       "      <td>47</td>\n",
       "    </tr>\n",
       "    <tr>\n",
       "      <th>1</th>\n",
       "      <td>1</td>\n",
       "      <td>408</td>\n",
       "    </tr>\n",
       "  </tbody>\n",
       "</table>\n",
       "</div>"
      ],
      "text/plain": [
       "   app_yn  user\n",
       "0       0    47\n",
       "1       1   408"
      ]
     },
     "execution_count": 189,
     "metadata": {},
     "output_type": "execute_result"
    }
   ],
   "source": [
    "df.query('order_month==2').groupby('app_yn')['user'].value_counts().groupby('app_yn').sum().reset_index()"
   ]
  },
  {
   "cell_type": "code",
   "execution_count": 190,
   "metadata": {},
   "outputs": [
    {
     "data": {
      "text/html": [
       "<div>\n",
       "<style scoped>\n",
       "    .dataframe tbody tr th:only-of-type {\n",
       "        vertical-align: middle;\n",
       "    }\n",
       "\n",
       "    .dataframe tbody tr th {\n",
       "        vertical-align: top;\n",
       "    }\n",
       "\n",
       "    .dataframe thead th {\n",
       "        text-align: right;\n",
       "    }\n",
       "</style>\n",
       "<table border=\"1\" class=\"dataframe\">\n",
       "  <thead>\n",
       "    <tr style=\"text-align: right;\">\n",
       "      <th></th>\n",
       "      <th>brandnm</th>\n",
       "      <th>user</th>\n",
       "    </tr>\n",
       "  </thead>\n",
       "  <tbody>\n",
       "    <tr>\n",
       "      <th>52</th>\n",
       "      <td>Gucci</td>\n",
       "      <td>76</td>\n",
       "    </tr>\n",
       "    <tr>\n",
       "      <th>28</th>\n",
       "      <td>Chanel</td>\n",
       "      <td>37</td>\n",
       "    </tr>\n",
       "    <tr>\n",
       "      <th>101</th>\n",
       "      <td>Saint Laurent</td>\n",
       "      <td>31</td>\n",
       "    </tr>\n",
       "    <tr>\n",
       "      <th>65</th>\n",
       "      <td>Louis Vuitton</td>\n",
       "      <td>27</td>\n",
       "    </tr>\n",
       "    <tr>\n",
       "      <th>90</th>\n",
       "      <td>Prada</td>\n",
       "      <td>23</td>\n",
       "    </tr>\n",
       "    <tr>\n",
       "      <th>123</th>\n",
       "      <td>Yves Saint Laurent</td>\n",
       "      <td>14</td>\n",
       "    </tr>\n",
       "    <tr>\n",
       "      <th>112</th>\n",
       "      <td>Thom Browne</td>\n",
       "      <td>13</td>\n",
       "    </tr>\n",
       "    <tr>\n",
       "      <th>20</th>\n",
       "      <td>Burberry</td>\n",
       "      <td>12</td>\n",
       "    </tr>\n",
       "    <tr>\n",
       "      <th>48</th>\n",
       "      <td>Fendi</td>\n",
       "      <td>11</td>\n",
       "    </tr>\n",
       "    <tr>\n",
       "      <th>73</th>\n",
       "      <td>Max Mara</td>\n",
       "      <td>9</td>\n",
       "    </tr>\n",
       "    <tr>\n",
       "      <th>78</th>\n",
       "      <td>Miu Miu</td>\n",
       "      <td>9</td>\n",
       "    </tr>\n",
       "    <tr>\n",
       "      <th>102</th>\n",
       "      <td>Sandro</td>\n",
       "      <td>7</td>\n",
       "    </tr>\n",
       "    <tr>\n",
       "      <th>12</th>\n",
       "      <td>Balmain</td>\n",
       "      <td>5</td>\n",
       "    </tr>\n",
       "    <tr>\n",
       "      <th>44</th>\n",
       "      <td>El estilo de Claire</td>\n",
       "      <td>5</td>\n",
       "    </tr>\n",
       "    <tr>\n",
       "      <th>119</th>\n",
       "      <td>Vivienne Westwood</td>\n",
       "      <td>5</td>\n",
       "    </tr>\n",
       "    <tr>\n",
       "      <th>62</th>\n",
       "      <td>Jill Stuart</td>\n",
       "      <td>5</td>\n",
       "    </tr>\n",
       "    <tr>\n",
       "      <th>26</th>\n",
       "      <td>Celine</td>\n",
       "      <td>5</td>\n",
       "    </tr>\n",
       "    <tr>\n",
       "      <th>30</th>\n",
       "      <td>Christian Dior</td>\n",
       "      <td>4</td>\n",
       "    </tr>\n",
       "    <tr>\n",
       "      <th>63</th>\n",
       "      <td>Kenzo</td>\n",
       "      <td>4</td>\n",
       "    </tr>\n",
       "    <tr>\n",
       "      <th>38</th>\n",
       "      <td>Dewl</td>\n",
       "      <td>4</td>\n",
       "    </tr>\n",
       "  </tbody>\n",
       "</table>\n",
       "</div>"
      ],
      "text/plain": [
       "                 brandnm  user\n",
       "52                 Gucci    76\n",
       "28                Chanel    37\n",
       "101        Saint Laurent    31\n",
       "65         Louis Vuitton    27\n",
       "90                 Prada    23\n",
       "123   Yves Saint Laurent    14\n",
       "112          Thom Browne    13\n",
       "20              Burberry    12\n",
       "48                 Fendi    11\n",
       "73              Max Mara     9\n",
       "78               Miu Miu     9\n",
       "102               Sandro     7\n",
       "12               Balmain     5\n",
       "44   El estilo de Claire     5\n",
       "119    Vivienne Westwood     5\n",
       "62           Jill Stuart     5\n",
       "26                Celine     5\n",
       "30        Christian Dior     4\n",
       "63                 Kenzo     4\n",
       "38                  Dewl     4"
      ]
     },
     "execution_count": 190,
     "metadata": {},
     "output_type": "execute_result"
    }
   ],
   "source": [
    "df.query('order_month==2').groupby('brandnm')['user'].value_counts().groupby('brandnm').sum().reset_index().sort_values('user', ascending = False).head(20)"
   ]
  },
  {
   "cell_type": "code",
   "execution_count": 191,
   "metadata": {},
   "outputs": [
    {
     "data": {
      "image/png": "[encoded data removed]",
      "text/plain": [
       "<Figure size 936x432 with 1 Axes>"
      ]
     },
     "metadata": {
      "needs_background": "light"
     },
     "output_type": "display_data"
    }
   ],
   "source": [
    "# 4. 신규 유저의 선호 브랜드는?\n",
    "df_brand = df.query('isfirst == True')['brandnm'].value_counts().head(10).reset_index()\n",
    "df_brand = df_brand.rename(columns = {'index': 'brand', 'brandnm':'counts'}, inplace = False)\n",
    "\n",
    "plt.figure(figsize=(13,6))\n",
    "sns.barplot(data = df_brand, \n",
    "         x = 'brand', y = 'counts')\n",
    "plt.title('가입 1일 이내 신규 유저 선호 브랜드 TOP10', fontsize=18);"
   ]
  },
  {
   "cell_type": "code",
   "execution_count": 192,
   "metadata": {},
   "outputs": [
    {
     "data": {
      "image/png": "[encoded data removed]",
      "text/plain": [
       "<Figure size 936x432 with 1 Axes>"
      ]
     },
     "metadata": {
      "needs_background": "light"
     },
     "output_type": "display_data"
    }
   ],
   "source": [
    "# 그럼 전체 유저가 가장 많이 구매한 브랜드는?\n",
    "plt.figure(figsize=(13,6))\n",
    "sns.barplot(data = df.groupby('brandnm')['user'].value_counts().groupby('brandnm').sum().sort_values(ascending = False).reset_index().head(10),\n",
    "           x = 'brandnm', y = 'user')\n",
    "plt.ylabel('counts')\n",
    "plt.title('브랜드별 판매량 차트', fontsize=18);\n"
   ]
  },
  {
   "cell_type": "code",
   "execution_count": 193,
   "metadata": {},
   "outputs": [],
   "source": [
    "# 구찌, 샤넬, 생로랑, 루이비통, 프라다, 버버리, 톰브라운, 펜디 등의 명품임\n",
    "# 사람들이 뭔가 중요한 자리에 참석하기 위해, 또는 SNS 업로드를 위해 명품 하나 걸치고 싶을 때 렌트하는 듯\n",
    "# 뭔가 명품 악세사리 렌탈 서비스로의 비즈니스 방향 전환도 생각해볼 수 있겠다."
   ]
  },
  {
   "cell_type": "markdown",
   "metadata": {},
   "source": [
    "<br>\n",
    "\n",
    "## 2021년 가입한 신규 유저와 이전에 가입한 기존 유저의 차이는?"
   ]
  },
  {
   "cell_type": "code",
   "execution_count": 194,
   "metadata": {},
   "outputs": [],
   "source": [
    "# 1. 신규/기존 유저 sub_type "
   ]
  },
  {
   "cell_type": "code",
   "execution_count": 195,
   "metadata": {},
   "outputs": [
    {
     "data": {
      "image/png": "[encoded data removed]",
      "text/plain": [
       "<Figure size 936x288 with 2 Axes>"
      ]
     },
     "metadata": {
      "needs_background": "light"
     },
     "output_type": "display_data"
    }
   ],
   "source": [
    "fig, axes = plt.subplots(nrows=1, ncols=2,figsize=(13,4), sharey=True)\n",
    "fig.suptitle('2021 신규 유저와 기존 유저의 sub_type 주문량', fontsize=15)\n",
    "df.query('new==1').sub_type.value_counts().plot.bar(rot=0, title='2021 신규 유저', ax=axes[0])\n",
    "df.query('new==0').sub_type.value_counts().plot.bar(rot=0, title='기존 유저', ax=axes[1])\n",
    "\n",
    "fig.tight_layout()\n",
    "fig.subplots_adjust(top=0.85)"
   ]
  },
  {
   "cell_type": "code",
   "execution_count": 196,
   "metadata": {},
   "outputs": [],
   "source": [
    "# 두 그룹 모두 가방을 많이 구매했지만, 비율을 보았을 땐, 신규 유저가 가방을 구매한 비중이 더 높다."
   ]
  },
  {
   "cell_type": "code",
   "execution_count": 197,
   "metadata": {},
   "outputs": [
    {
     "name": "stdout",
     "output_type": "stream",
     "text": [
      "신규 유저의 가방 구매 비율은 51.22 이다.\n",
      "기존 유저의 가방 구매 비율은 38.56 이다.\n"
     ]
    }
   ],
   "source": [
    "print('신규 유저의 가방 구매 비율은',round(df.query(\"new == 1 and sub_type == 'BA'\").shape[0]/df.query(\"new == 1\").shape[0] * 100,2), '이다.')\n",
    "print('기존 유저의 가방 구매 비율은',round(df.query(\"new == 0 and sub_type == 'BA'\").shape[0]/df.query(\"new == 0\").shape[0] * 100,2), '이다.')"
   ]
  },
  {
   "cell_type": "code",
   "execution_count": 198,
   "metadata": {},
   "outputs": [],
   "source": [
    "\n",
    "# 2. 신규/기존 유저 브랜드 선호도"
   ]
  },
  {
   "cell_type": "code",
   "execution_count": 199,
   "metadata": {},
   "outputs": [
    {
     "data": {
      "image/png": "[encoded data removed]",
      "text/plain": [
       "<Figure size 936x432 with 2 Axes>"
      ]
     },
     "metadata": {
      "needs_background": "light"
     },
     "output_type": "display_data"
    }
   ],
   "source": [
    "fig, axes = plt.subplots(nrows=1, ncols=2,figsize=(13,6), sharey=True)\n",
    "fig.suptitle('2021 신규 유저와 기존 유저의 브랜드별 주문량 TOP10', fontsize=15)\n",
    "df.query('new==1').brandnm.value_counts().head(10).plot.bar(rot=45, title='2021 신규 유저', ax=axes[0])\n",
    "df.query('new==0').brandnm.value_counts().head(10).plot.bar(rot=45, title='기존 유저', ax=axes[1])\n",
    "\n",
    "fig.tight_layout()\n",
    "fig.subplots_adjust(top=0.85)"
   ]
  },
  {
   "cell_type": "code",
   "execution_count": 200,
   "metadata": {},
   "outputs": [],
   "source": [
    "# 브랜드의 경우 전반적으로 럭셔리 브랜드를 선호하는 모습이다.\n",
    "# 기존 유저는 구찌 이외의 다른 브랜드에 대신 선호도가 크게 없지만,\n",
    "# 신규 유저의 경우 생로랑, 루이비통, 샤넬의 구매 비중이 늘어났다."
   ]
  },
  {
   "cell_type": "code",
   "execution_count": 201,
   "metadata": {},
   "outputs": [
    {
     "name": "stdout",
     "output_type": "stream",
     "text": [
      "신규 유저의 구찌 구매 비율은 17.04 이다.\n",
      "기존 유저의 구찌 구매 비율은 13.4 이다.\n"
     ]
    }
   ],
   "source": [
    "print('신규 유저의 구찌 구매 비율은',round(df.query(\"new == 1 and brandnm == 'Gucci'\").shape[0]/df.query(\"new == 1\").shape[0] * 100,2), '이다.')\n",
    "print('기존 유저의 구찌 구매 비율은',round(df.query(\"new == 0 and brandnm == 'Gucci'\").shape[0]/df.query(\"new == 0\").shape[0] * 100,2), '이다.')"
   ]
  },
  {
   "cell_type": "code",
   "execution_count": 202,
   "metadata": {},
   "outputs": [
    {
     "name": "stdout",
     "output_type": "stream",
     "text": [
      "신규 유저의 선호 브랜드 2순위의 구매 비율은 6.69 이다.\n",
      "기존 유저의 선호 브랜드 2순위의 구매 비율은 5.36 이다.\n"
     ]
    }
   ],
   "source": [
    "print('신규 유저의 선호 브랜드 2순위의 구매 비율은',round(df.query(\"new == 1 and brandnm == 'Saint Laurent'\").shape[0]/df.query(\"new == 1\").shape[0] * 100,2), '이다.')\n",
    "print('기존 유저의 선호 브랜드 2순위의 구매 비율은',round(df.query(\"new == 0 and brandnm == 'Chanel'\").shape[0]/df.query(\"new == 0\").shape[0] * 100,2), '이다.')"
   ]
  },
  {
   "cell_type": "code",
   "execution_count": 203,
   "metadata": {},
   "outputs": [],
   "source": [
    "# 3. 신규 유저들의 선호도가 높은 브랜드들은 \"가방\" 중심의 브랜드라고 생각된다.\n",
    "# 그럼 신규 유저 선호도 상위 브랜드들의 가방 판매 비중은?"
   ]
  },
  {
   "cell_type": "code",
   "execution_count": 204,
   "metadata": {},
   "outputs": [],
   "source": [
    "brand_bag_per = {'brand' :\n",
    "                ['Gucci', 'Saint Laurent', 'Chanel', 'Louis Vuitton'],\n",
    "                'bag_per' :\n",
    "                [round(df[(df[\"brandnm\"] == \"Gucci\") & (df[\"sub_type\"] == \"BA\") & (df[\"new\"] == 1)].shape[0] / df[(df[\"brandnm\"] == \"Gucci\")  & (df[\"new\"] == 1)].shape[0] * 100, 2),\n",
    "                round(df[(df[\"brandnm\"] == \"Saint Laurent\") & (df[\"sub_type\"] == \"BA\") & (df[\"new\"] == 1)].shape[0] / df[(df[\"brandnm\"] == \"Saint Laurent\")  & (df[\"new\"] == 1)].shape[0] * 100, 2),\n",
    "                round(df[(df[\"brandnm\"] == \"Chanel\") & (df[\"sub_type\"] == \"BA\") & (df[\"new\"] == 1)].shape[0] / df[(df[\"brandnm\"] == \"Chanel\")  & (df[\"new\"] == 1)].shape[0] * 100, 2),\n",
    "                round(df[(df[\"brandnm\"] == \"Louis Vuitton\") & (df[\"sub_type\"] == \"BA\") & (df[\"new\"] == 1)].shape[0] / df[(df[\"brandnm\"] == \"Louis Vuitton\")  & (df[\"new\"] == 1)].shape[0] * 100, 2)]}\n",
    "\n",
    "new_brand_bag = pd.DataFrame(brand_bag_per)"
   ]
  },
  {
   "cell_type": "code",
   "execution_count": 205,
   "metadata": {},
   "outputs": [
    {
     "data": {
      "image/png": "[encoded data removed]",
      "text/plain": [
       "<Figure size 432x288 with 1 Axes>"
      ]
     },
     "metadata": {
      "needs_background": "light"
     },
     "output_type": "display_data"
    }
   ],
   "source": [
    "new_brand_bag.plot(kind = 'bar', x = 'brand', rot = 0)\n",
    "plt.ylabel('per')\n",
    "plt.title('신규 유저 선호도 상위 4개 브랜드의 가방 판매 비율', fontsize = 10);"
   ]
  },
  {
   "cell_type": "code",
   "execution_count": 206,
   "metadata": {},
   "outputs": [
    {
     "data": {
      "text/html": [
       "<div>\n",
       "<style scoped>\n",
       "    .dataframe tbody tr th:only-of-type {\n",
       "        vertical-align: middle;\n",
       "    }\n",
       "\n",
       "    .dataframe tbody tr th {\n",
       "        vertical-align: top;\n",
       "    }\n",
       "\n",
       "    .dataframe thead th {\n",
       "        text-align: right;\n",
       "    }\n",
       "</style>\n",
       "<table border=\"1\" class=\"dataframe\">\n",
       "  <thead>\n",
       "    <tr style=\"text-align: right;\">\n",
       "      <th></th>\n",
       "      <th>brand</th>\n",
       "      <th>bag_per</th>\n",
       "    </tr>\n",
       "  </thead>\n",
       "  <tbody>\n",
       "    <tr>\n",
       "      <th>0</th>\n",
       "      <td>Gucci</td>\n",
       "      <td>89.88</td>\n",
       "    </tr>\n",
       "    <tr>\n",
       "      <th>1</th>\n",
       "      <td>Saint Laurent</td>\n",
       "      <td>98.48</td>\n",
       "    </tr>\n",
       "    <tr>\n",
       "      <th>2</th>\n",
       "      <td>Chanel</td>\n",
       "      <td>84.62</td>\n",
       "    </tr>\n",
       "    <tr>\n",
       "      <th>3</th>\n",
       "      <td>Louis Vuitton</td>\n",
       "      <td>100.00</td>\n",
       "    </tr>\n",
       "  </tbody>\n",
       "</table>\n",
       "</div>"
      ],
      "text/plain": [
       "           brand  bag_per\n",
       "0          Gucci    89.88\n",
       "1  Saint Laurent    98.48\n",
       "2         Chanel    84.62\n",
       "3  Louis Vuitton   100.00"
      ]
     },
     "execution_count": 206,
     "metadata": {},
     "output_type": "execute_result"
    }
   ],
   "source": [
    "new_brand_bag"
   ]
  },
  {
   "cell_type": "code",
   "execution_count": 207,
   "metadata": {},
   "outputs": [
    {
     "name": "stdout",
     "output_type": "stream",
     "text": [
      "신규 유저의 전체 중 가방 구매 비율은 51.22 이다.\n",
      "기존 유저의 전체 중 가방 구매 비율은 38.56 이다.\n"
     ]
    }
   ],
   "source": [
    "print('신규 유저의 전체 중 가방 구매 비율은',round(df.query(\"new == 1 and sub_type == 'BA'\").shape[0]/df.query(\"new == 1\").shape[0] * 100,2), '이다.')\n",
    "print('기존 유저의 전체 중 가방 구매 비율은',round(df.query(\"new == 0 and sub_type == 'BA'\").shape[0]/df.query(\"new == 0\").shape[0] * 100,2), '이다.')"
   ]
  },
  {
   "cell_type": "code",
   "execution_count": 208,
   "metadata": {},
   "outputs": [],
   "source": [
    "# 신규 유저의 경우 상위 4개 브랜드(구찌, 생로랑, 채널, 루이비통)에 대해서 가방 구매 비율이 압도적으로 높았다.\n",
    "# 위 브랜드에서 가방을 렌트하는 비중이 전체 약 93%\n",
    "# 전체 렌트 건수 중 가방을 빌리는 비율은 50% 정도인걸 감안하면.. 엄청 높다.\n",
    "# 이렇게 보니 확실하게 명품백에 대한 수요가 커지는게 보인다.\n",
    "# 명품백에 대한 수요가 늘어나고 있으니 공급책(셰어러)을 찾는 방법을 생각해보아야겠다."
   ]
  },
  {
   "cell_type": "code",
   "execution_count": 209,
   "metadata": {},
   "outputs": [],
   "source": [
    "# 이와 관련된 추가로"
   ]
  },
  {
   "cell_type": "code",
   "execution_count": 210,
   "metadata": {},
   "outputs": [
    {
     "data": {
      "image/png": "[encoded data removed]",
      "text/plain": [
       "<Figure size 936x288 with 2 Axes>"
      ]
     },
     "metadata": {
      "needs_background": "light"
     },
     "output_type": "display_data"
    }
   ],
   "source": [
    "# 전체 상품 렌트 중에 럭셔리 양\n",
    "fig, axes = plt.subplots(nrows=1, ncols=2,figsize=(13,4), sharey=True)\n",
    "fig.suptitle('2021 신규 유저와 기존 유저의 전체량 by brandnm_luxury', fontsize=15)\n",
    "df.query('new == 1').brandnm_luxury.value_counts().plot.bar(rot=0, title='2021 신규 유저', ax=axes[0])\n",
    "df.query('new == 0').brandnm_luxury.value_counts().plot.bar(rot=0, title='기존 유저', ax=axes[1])\n",
    "\n",
    "fig.tight_layout()\n",
    "fig.subplots_adjust(top=0.85)"
   ]
  },
  {
   "cell_type": "code",
   "execution_count": 211,
   "metadata": {},
   "outputs": [
    {
     "data": {
      "image/png": "[encoded data removed]",
      "text/plain": [
       "<Figure size 936x288 with 2 Axes>"
      ]
     },
     "metadata": {
      "needs_background": "light"
     },
     "output_type": "display_data"
    }
   ],
   "source": [
    "# 빽 렌트 중에 럭셔리 양\n",
    "fig, axes = plt.subplots(nrows=1, ncols=2,figsize=(13,4), sharey=True)\n",
    "fig.suptitle('2021 신규 유저와 기존 유저 + sub_type == BA일 때 brandnm_luxury 전체량', fontsize=15)\n",
    "df.query('new == 1 and sub_type == \"BA\"').brandnm_luxury.value_counts().plot.bar(rot=0, title='2021 신규 유저', ax=axes[0])\n",
    "df.query('new == 0 and sub_type == \"BA\"').brandnm_luxury.value_counts().plot.bar(rot=0, title='기존 유저', ax=axes[1])\n",
    "\n",
    "fig.tight_layout()\n",
    "fig.subplots_adjust(top=0.85)"
   ]
  },
  {
   "cell_type": "code",
   "execution_count": 212,
   "metadata": {},
   "outputs": [],
   "source": [
    "# 전체 상품의 렌트량을 brandnm_luxury로 나눠보았을 때는 명품에 속하지 않은 상품을 더 많이 찾는 모습이다.\n",
    "# 빽 구매 유저로 filter를 넣으면, 명품 렌트량이 더 많아지는 모습. 특히 신규유저!\n"
   ]
  },
  {
   "cell_type": "code",
   "execution_count": null,
   "metadata": {},
   "outputs": [],
   "source": []
  },
  {
   "cell_type": "code",
   "execution_count": null,
   "metadata": {},
   "outputs": [],
   "source": []
  },
  {
   "cell_type": "markdown",
   "metadata": {},
   "source": [
    "## 📃 정리\n",
    "\n",
    "1. 요일별 렌트량을 보았을 때, 주중 특히 화수목에 렌트 건수가 많았는데, 그 이유는 금토일에 상품을 입기 위해서일 것이다.\n",
    "\n",
    "2. 가입 후 1일 이내 첫 구매고객의 증가율은 2월에 전월 대비 100%가 증가했는데, 행사를 진행했기 때문으로 보인다. (찬서님 코드에 지인님 코멘트)\n",
    "\n",
    "3. 2021년 가입한 `신규 유저`와 이전에 가입한 `기존 유저`로 나누어 보았을 때\n",
    "    \n",
    "    - 구찌는 원래 많이 렌트한다.\n",
    "    - 브랜드의 경우 전반적으로 럭셔리 브랜드를 선호하는 모습이다.<br>\n",
    "        기존 유저는 구찌 이외의 다른 브랜드에 대신 선호도가 크게 없지만, 신규 유저의 경우 생로랑, 루이비통, 샤넬의 구매 비중이 늘어났다.\n",
    "    - 두 그룹 모두 가방을 많이 구매했지만, 비율을 보았을 땐, 신규 유저가 가방을 구매한 비중이 더 높다.\n",
    "    - 신규 유저의 경우 상위 4개 브랜드(구찌, 생로랑, 채널, 루이비통)에 대해서 가방 구매 비율이 압도적으로 높았다. 약 93%\n",
    "\n",
    "\n",
    "## ✏️ 비즈니스적으로 생각할만한 부분\n",
    "\n",
    "- 신규 유저는 명품백을 위해 돈을 지불한다. 명품백 공급망을 늘려야한다.\n",
    "- **명품백 중심으로** 푸시 알림을 때린다.<br>\n",
    "    ex) 루이비통 백 신규 5종 검수 완료. 이번 주말 나들이에 들고가기 딱 좋아요!\n",
    "\n",
    "\n",
    "#### 한계\n",
    "분석을 하며 느낀 한계는 5.18 회의 때 찬서님이 말해주신 것처럼 새로 증가한 브랜드들에 대해서는 트렌드가 바뀐 것인지, 아니면 이전에는 없던 제품이 2021년 들어 생기면서 구매가 많아진 건지는 정확하게 알 수 없다. \n",
    "\n",
    "예) 동섭님 코드에서 브랜드 Fendi의 렌트는 2021년 이전 0건이었는데, 이후에는 많아졌다. 2021년 1월에 제품이 업로드된 거라면 트렌드가 바꼈다고 말할 수 있을까??\n",
    "\n",
    "하나 확실한 건 2021년 신규유저의 구매력이 상승했다는 점이다. 마케팅 때문이든 아니면 입소문 때문이든..\n",
    "\n"
   ]
  },
  {
   "cell_type": "code",
   "execution_count": null,
   "metadata": {},
   "outputs": [],
   "source": [
    "# 이후 진행\n",
    "# 필수 : 2021 신규/ 기존 고객 분류 더보기\n",
    "# 가방 카테고리 가격?\n",
    "# 텍스트 마이닝 제품 색상?"
   ]
  },
  {
   "cell_type": "code",
   "execution_count": null,
   "metadata": {},
   "outputs": [],
   "source": []
  }
 ],
 "metadata": {
  "kernelspec": {
   "display_name": "Python 3",
   "language": "python",
   "name": "python3"
  },
  "language_info": {
   "codemirror_mode": {
    "name": "ipython",
    "version": 3
   },
   "file_extension": ".py",
   "mimetype": "text/x-python",
   "name": "python",
   "nbconvert_exporter": "python",
   "pygments_lexer": "ipython3",
   "version": "3.7.1"
  }
 },
 "nbformat": 4,
 "nbformat_minor": 2
}
