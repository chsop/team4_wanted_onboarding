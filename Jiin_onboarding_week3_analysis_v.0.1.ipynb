{
 "cells": [
  {
   "cell_type": "markdown",
   "metadata": {},
   "source": [
    "#### 👕 클로젯셰어 과제 가이드라인 \n",
    "- 분석 자료 : 최근 3개월간 신규 구매 데이터 일부\n",
    "\n",
    "- 분석 필요 내용\n",
    "\n",
    "1. 구매 소요 시간 분석\n",
    "1-1. 가입일로부터 구매일까지 전환된 소요시간 분석\n",
    "- 최근 3개월 전체 분석 / 각 월 별 분석\n",
    "- 분기 경향 / 월 별 변동사항 확인 -> 트렌드 분석\n",
    "ex. 가입 1일 이내 전환 유저 : 10% -> 15% 상승 성과\n",
    "\n",
    "**2. 구매 상품 트렌드 분석**\n",
    " \n",
    "     2-1. 유저당 주문 수량 분석\n",
    "         - 최근 3개월 전체 분석 / 각 월 별 분석\n",
    "         - 분기 경향 / 월 별 변동사항 확인 -> 트렌드 분석\n",
    "     2-2. 주문 아이템 분석\n",
    "         - 브랜드 별 선호도, 아이템 카테고리별 선호도 분석\n",
    "         - 신규 유저들의 구매 트렌드 파악\n",
    "\n",
    "3. 분석 내용 토대로 인사이트 도출\n",
    "     3-1. 분석 내용 도식화\n",
    "         - 1~2의 분석 내용 종합 및 도식화 (표 또는 그래프)\n",
    "         - 유사성을 갖는 결과에 대하여 그룹화\n",
    "     3-2. 인사이트 도출\n",
    "         - 해당 결과를 통해 나타나는 사항 정리\n",
    "         - 인사이트 도출 혹은 새로운 제안사항 전달 (없을 시 진행하지 않아도 무방)\n",
    "\n",
    "- 분석 참고 사항\n",
    "\n",
    "  1. 용어 및 칼럼 설명\n",
    "     brandnm : 아이템 브랜드명\n",
    "     goodsnm : 아이템 명\n",
    "     USER : 개별 유저 식별 값\n",
    "     reg_date : 개별 유저 가입일\n",
    "     order_date : 아이템 주문일\n",
    "     p_type : 주문 상품 종류\n",
    "             7days (7일권) / 4days (4일권)\n",
    "     sub_type : 주문 상품 카테고리 \n",
    "               BA – 가방 / O – 아우터 / D – 드레스 / T – 상의 / B – 하의 / TB – 투피스 \n",
    "     app_yn : 어플리케이션 사용 여부\n",
    "              Y – 어플리케이션 사용 / (공백) – 어플리케이션 미사용\n",
    "    "
   ]
  },
  {
   "cell_type": "markdown",
   "metadata": {},
   "source": [
    "#### 모듈 import"
   ]
  },
  {
   "cell_type": "code",
   "execution_count": 189,
   "metadata": {
    "ExecuteTime": {
     "end_time": "2021-05-18T16:19:08.961371Z",
     "start_time": "2021-05-18T16:19:08.937434Z"
    }
   },
   "outputs": [],
   "source": [
    "import numpy as np\n",
    "import pandas as pd\n",
    "\n",
    "# visualization\n",
    "import matplotlib.pyplot as plt\n",
    "import seaborn as sns\n",
    "%matplotlib inline\n",
    "sns.set_style(style=\"white\")\n",
    "plt.rc('font', family='Malgun Gothic') \n",
    "plt.rcParams['figure.figsize'] = (10, 7)\n",
    "plt.rcParams['axes.unicode_minus'] = False    # minus\n",
    "\n",
    "from matplotlib_venn import venn3, venn3_circles\n",
    "from matplotlib_venn import venn2, venn2_circles\n",
    "\n",
    "# interactive\n",
    "import plotly.express as px\n",
    "import plotly.graph_objects as go\n",
    "from plotly.subplots import make_subplots\n",
    "\n",
    "# 노트북 세팅\n",
    "pd.options.display.float_format = '{:.2f}'.format\n",
    "import warnings\n",
    "warnings.filterwarnings('ignore')\n",
    "\n",
    "# 연관분석\n",
    "from mlxtend.preprocessing import TransactionEncoder\n",
    "from mlxtend.frequent_patterns import apriori\n",
    "from mlxtend.frequent_patterns import association_rules"
   ]
  },
  {
   "cell_type": "markdown",
   "metadata": {},
   "source": [
    "#### Data import"
   ]
  },
  {
   "cell_type": "markdown",
   "metadata": {},
   "source": [
    "##### 과제 data"
   ]
  },
  {
   "cell_type": "code",
   "execution_count": 190,
   "metadata": {
    "ExecuteTime": {
     "end_time": "2021-05-18T16:19:13.978704Z",
     "start_time": "2021-05-18T16:19:13.650886Z"
    }
   },
   "outputs": [],
   "source": [
    "# 과제 data\n",
    "closet = pd.read_excel('../week3/클로젯셰어_과제DB 대체 자료.xlsx',)\n",
    "df = closet.copy()\n",
    "# col > lower\n",
    "df.columns=list(map(lambda x: x.lower(),df.columns))"
   ]
  },
  {
   "cell_type": "code",
   "execution_count": 191,
   "metadata": {
    "ExecuteTime": {
     "end_time": "2021-05-18T16:19:16.587888Z",
     "start_time": "2021-05-18T16:19:16.562956Z"
    }
   },
   "outputs": [],
   "source": [
    "df = df.sort_values(['order_date','user']).reset_index(drop=True)"
   ]
  },
  {
   "cell_type": "code",
   "execution_count": 192,
   "metadata": {
    "ExecuteTime": {
     "end_time": "2021-05-18T16:19:17.344246Z",
     "start_time": "2021-05-18T16:19:17.255820Z"
    }
   },
   "outputs": [],
   "source": [
    "# 가입 정보 관련 날짜 변수 추가 \n",
    "df['reg_date']=pd.to_datetime(df['reg_date'])\n",
    "df['reg_year']=df['reg_date'].dt.strftime('%Y')\n",
    "df['reg_month']=df['reg_date'].dt.strftime('%m')\n",
    "df['reg_yearmonth']=df['reg_date'].dt.strftime('%Y-%m')\n",
    "df['reg_dayofweek']=df['reg_date'].dt.dayofweek\n",
    "df['order_month']=df['order_date'].dt.month\n",
    "df['order_week']=df['order_date'].dt.week\n",
    "df['order_dayofweek']=df['order_date'].dt.dayofweek\n",
    "# date continuous변환\n",
    "df['order_date']=pd.to_datetime(df['order_date']).dt.date\n",
    "df['reg_date']=pd.to_datetime(df['reg_date']).dt.date"
   ]
  },
  {
   "cell_type": "code",
   "execution_count": 193,
   "metadata": {
    "ExecuteTime": {
     "end_time": "2021-05-18T16:19:18.335710Z",
     "start_time": "2021-05-18T16:19:18.303419Z"
    }
   },
   "outputs": [
    {
     "data": {
      "text/html": [
       "<div>\n",
       "<style scoped>\n",
       "    .dataframe tbody tr th:only-of-type {\n",
       "        vertical-align: middle;\n",
       "    }\n",
       "\n",
       "    .dataframe tbody tr th {\n",
       "        vertical-align: top;\n",
       "    }\n",
       "\n",
       "    .dataframe thead th {\n",
       "        text-align: right;\n",
       "    }\n",
       "</style>\n",
       "<table border=\"1\" class=\"dataframe\">\n",
       "  <thead>\n",
       "    <tr style=\"text-align: right;\">\n",
       "      <th></th>\n",
       "      <th>brandnm</th>\n",
       "      <th>goodsnm</th>\n",
       "      <th>user</th>\n",
       "      <th>reg_date</th>\n",
       "      <th>order_date</th>\n",
       "      <th>p_type</th>\n",
       "      <th>sub_type</th>\n",
       "      <th>app_yn</th>\n",
       "      <th>reg_year</th>\n",
       "      <th>reg_month</th>\n",
       "      <th>reg_yearmonth</th>\n",
       "      <th>reg_dayofweek</th>\n",
       "      <th>order_month</th>\n",
       "      <th>order_week</th>\n",
       "      <th>order_dayofweek</th>\n",
       "      <th>brandnm_luxury</th>\n",
       "    </tr>\n",
       "  </thead>\n",
       "  <tbody>\n",
       "    <tr>\n",
       "      <th>0</th>\n",
       "      <td>Chanel</td>\n",
       "      <td>pocket graphics pattern zipup-jumper navy</td>\n",
       "      <td>a1112031</td>\n",
       "      <td>2020-08-15</td>\n",
       "      <td>2021-01-01</td>\n",
       "      <td>7days</td>\n",
       "      <td>O</td>\n",
       "      <td>NaN</td>\n",
       "      <td>2020</td>\n",
       "      <td>08</td>\n",
       "      <td>2020-08</td>\n",
       "      <td>5.00</td>\n",
       "      <td>1</td>\n",
       "      <td>53</td>\n",
       "      <td>4</td>\n",
       "      <td>1</td>\n",
       "    </tr>\n",
       "    <tr>\n",
       "      <th>1</th>\n",
       "      <td>El estilo de Claire</td>\n",
       "      <td>beads stud velvet jacket black</td>\n",
       "      <td>a196681</td>\n",
       "      <td>2020-04-17</td>\n",
       "      <td>2021-01-01</td>\n",
       "      <td>4days</td>\n",
       "      <td>O</td>\n",
       "      <td>Y</td>\n",
       "      <td>2020</td>\n",
       "      <td>04</td>\n",
       "      <td>2020-04</td>\n",
       "      <td>4.00</td>\n",
       "      <td>1</td>\n",
       "      <td>53</td>\n",
       "      <td>4</td>\n",
       "      <td>0</td>\n",
       "    </tr>\n",
       "    <tr>\n",
       "      <th>2</th>\n",
       "      <td>Baum Und Pferdgarten</td>\n",
       "      <td>geometric pattern A-Line dress purple</td>\n",
       "      <td>a196681</td>\n",
       "      <td>2020-04-17</td>\n",
       "      <td>2021-01-01</td>\n",
       "      <td>4days</td>\n",
       "      <td>D</td>\n",
       "      <td>Y</td>\n",
       "      <td>2020</td>\n",
       "      <td>04</td>\n",
       "      <td>2020-04</td>\n",
       "      <td>4.00</td>\n",
       "      <td>1</td>\n",
       "      <td>53</td>\n",
       "      <td>4</td>\n",
       "      <td>0</td>\n",
       "    </tr>\n",
       "    <tr>\n",
       "      <th>3</th>\n",
       "      <td>BCBG</td>\n",
       "      <td>pleats basic pattern H-Line dress deeppink</td>\n",
       "      <td>a196681</td>\n",
       "      <td>2020-04-17</td>\n",
       "      <td>2021-01-01</td>\n",
       "      <td>4days</td>\n",
       "      <td>D</td>\n",
       "      <td>Y</td>\n",
       "      <td>2020</td>\n",
       "      <td>04</td>\n",
       "      <td>2020-04</td>\n",
       "      <td>4.00</td>\n",
       "      <td>1</td>\n",
       "      <td>53</td>\n",
       "      <td>4</td>\n",
       "      <td>0</td>\n",
       "    </tr>\n",
       "    <tr>\n",
       "      <th>4</th>\n",
       "      <td>Balmain</td>\n",
       "      <td>double button long coat white</td>\n",
       "      <td>a1140621</td>\n",
       "      <td>2020-12-31</td>\n",
       "      <td>2021-01-02</td>\n",
       "      <td>7days</td>\n",
       "      <td>O</td>\n",
       "      <td>NaN</td>\n",
       "      <td>2020</td>\n",
       "      <td>12</td>\n",
       "      <td>2020-12</td>\n",
       "      <td>3.00</td>\n",
       "      <td>1</td>\n",
       "      <td>53</td>\n",
       "      <td>5</td>\n",
       "      <td>0</td>\n",
       "    </tr>\n",
       "  </tbody>\n",
       "</table>\n",
       "</div>"
      ],
      "text/plain": [
       "                brandnm                                     goodsnm      user  \\\n",
       "0  Chanel                pocket graphics pattern zipup-jumper navy   a1112031   \n",
       "1  El estilo de Claire   beads stud velvet jacket black              a196681    \n",
       "2  Baum Und Pferdgarten  geometric pattern A-Line dress purple       a196681    \n",
       "3  BCBG                  pleats basic pattern H-Line dress deeppink  a196681    \n",
       "4  Balmain               double button long coat white               a1140621   \n",
       "\n",
       "     reg_date  order_date p_type sub_type app_yn reg_year reg_month  \\\n",
       "0  2020-08-15  2021-01-01  7days  O        NaN    2020     08         \n",
       "1  2020-04-17  2021-01-01  4days  O        Y      2020     04         \n",
       "2  2020-04-17  2021-01-01  4days  D        Y      2020     04         \n",
       "3  2020-04-17  2021-01-01  4days  D        Y      2020     04         \n",
       "4  2020-12-31  2021-01-02  7days  O        NaN    2020     12         \n",
       "\n",
       "  reg_yearmonth  reg_dayofweek  order_month  order_week  order_dayofweek  \\\n",
       "0  2020-08      5.00            1            53          4                 \n",
       "1  2020-04      4.00            1            53          4                 \n",
       "2  2020-04      4.00            1            53          4                 \n",
       "3  2020-04      4.00            1            53          4                 \n",
       "4  2020-12      3.00            1            53          5                 \n",
       "\n",
       "   brandnm_luxury  \n",
       "0  1               \n",
       "1  0               \n",
       "2  0               \n",
       "3  0               \n",
       "4  0               "
      ]
     },
     "execution_count": 193,
     "metadata": {},
     "output_type": "execute_result"
    }
   ],
   "source": [
    "# 2021 top 10 list\n",
    "luxury_list=['GUCCI','Louis Vuitton','Cartier','Chanel','Hermes','Ferrari','Rolex','Dior','Christian Dior','COACH','Estee Lauder','Tiffany & Co.',\n",
    "'Guerlain','Burberry','Prada','Lancôme','Omega','Clarins','Bulgari','Moncler','Saint Laurent','SK-II','McLaren','TAG Heuer','Givenchy','Lamborghini','Armani','Bottega Veneta','Rolls- Royce',\n",
    "'Bentley','Aston Martin','Loewe','Maserati','Van Cleef & Arpels','Valentino','Salvatore Ferragamo','Shiseido','Sulwhasoo','Tissot','Versace','Bobbi Brown','Montblanc','Tom Ford','Longines','Cle de Peau Beaute','Jaeger-LeCoultre',\n",
    "'Celine','Dolce & Gabbana','Miu Miu','Fendi']\n",
    "# brandnm luxury \n",
    "df['brandnm_luxury']=np.where(df['brandnm'].isin(luxury_list), 1,0)\n",
    "df.head()"
   ]
  },
  {
   "cell_type": "markdown",
   "metadata": {},
   "source": [
    "##### 외부 data"
   ]
  },
  {
   "cell_type": "code",
   "execution_count": 194,
   "metadata": {
    "ExecuteTime": {
     "end_time": "2021-05-18T16:19:21.591067Z",
     "start_time": "2021-05-18T16:19:21.525214Z"
    }
   },
   "outputs": [],
   "source": [
    "# 크롤링 data 가격정보\n",
    "price = pd.read_excel('../week3/tag_price_df.xlsx')\n",
    "# remove space\n",
    "price.columns=list(map(lambda x: x.replace(' ',''),price.columns))"
   ]
  },
  {
   "cell_type": "markdown",
   "metadata": {},
   "source": [
    "### 데이터 개요"
   ]
  },
  {
   "cell_type": "code",
   "execution_count": 195,
   "metadata": {
    "ExecuteTime": {
     "end_time": "2021-05-18T16:19:24.213479Z",
     "start_time": "2021-05-18T16:19:24.189528Z"
    },
    "scrolled": false
   },
   "outputs": [
    {
     "data": {
      "text/html": [
       "<div>\n",
       "<style scoped>\n",
       "    .dataframe tbody tr th:only-of-type {\n",
       "        vertical-align: middle;\n",
       "    }\n",
       "\n",
       "    .dataframe tbody tr th {\n",
       "        vertical-align: top;\n",
       "    }\n",
       "\n",
       "    .dataframe thead th {\n",
       "        text-align: right;\n",
       "    }\n",
       "</style>\n",
       "<table border=\"1\" class=\"dataframe\">\n",
       "  <thead>\n",
       "    <tr style=\"text-align: right;\">\n",
       "      <th></th>\n",
       "      <th>brandnm</th>\n",
       "      <th>goodsnm</th>\n",
       "      <th>user</th>\n",
       "      <th>reg_date</th>\n",
       "      <th>order_date</th>\n",
       "      <th>p_type</th>\n",
       "      <th>sub_type</th>\n",
       "      <th>app_yn</th>\n",
       "      <th>reg_year</th>\n",
       "      <th>reg_month</th>\n",
       "      <th>reg_yearmonth</th>\n",
       "      <th>reg_dayofweek</th>\n",
       "      <th>order_month</th>\n",
       "      <th>order_week</th>\n",
       "      <th>order_dayofweek</th>\n",
       "      <th>brandnm_luxury</th>\n",
       "    </tr>\n",
       "  </thead>\n",
       "  <tbody>\n",
       "    <tr>\n",
       "      <th>0</th>\n",
       "      <td>Chanel</td>\n",
       "      <td>pocket graphics pattern zipup-jumper navy</td>\n",
       "      <td>a1112031</td>\n",
       "      <td>2020-08-15</td>\n",
       "      <td>2021-01-01</td>\n",
       "      <td>7days</td>\n",
       "      <td>O</td>\n",
       "      <td>NaN</td>\n",
       "      <td>2020</td>\n",
       "      <td>08</td>\n",
       "      <td>2020-08</td>\n",
       "      <td>5.00</td>\n",
       "      <td>1</td>\n",
       "      <td>53</td>\n",
       "      <td>4</td>\n",
       "      <td>1</td>\n",
       "    </tr>\n",
       "    <tr>\n",
       "      <th>1</th>\n",
       "      <td>El estilo de Claire</td>\n",
       "      <td>beads stud velvet jacket black</td>\n",
       "      <td>a196681</td>\n",
       "      <td>2020-04-17</td>\n",
       "      <td>2021-01-01</td>\n",
       "      <td>4days</td>\n",
       "      <td>O</td>\n",
       "      <td>Y</td>\n",
       "      <td>2020</td>\n",
       "      <td>04</td>\n",
       "      <td>2020-04</td>\n",
       "      <td>4.00</td>\n",
       "      <td>1</td>\n",
       "      <td>53</td>\n",
       "      <td>4</td>\n",
       "      <td>0</td>\n",
       "    </tr>\n",
       "    <tr>\n",
       "      <th>2</th>\n",
       "      <td>Baum Und Pferdgarten</td>\n",
       "      <td>geometric pattern A-Line dress purple</td>\n",
       "      <td>a196681</td>\n",
       "      <td>2020-04-17</td>\n",
       "      <td>2021-01-01</td>\n",
       "      <td>4days</td>\n",
       "      <td>D</td>\n",
       "      <td>Y</td>\n",
       "      <td>2020</td>\n",
       "      <td>04</td>\n",
       "      <td>2020-04</td>\n",
       "      <td>4.00</td>\n",
       "      <td>1</td>\n",
       "      <td>53</td>\n",
       "      <td>4</td>\n",
       "      <td>0</td>\n",
       "    </tr>\n",
       "    <tr>\n",
       "      <th>3</th>\n",
       "      <td>BCBG</td>\n",
       "      <td>pleats basic pattern H-Line dress deeppink</td>\n",
       "      <td>a196681</td>\n",
       "      <td>2020-04-17</td>\n",
       "      <td>2021-01-01</td>\n",
       "      <td>4days</td>\n",
       "      <td>D</td>\n",
       "      <td>Y</td>\n",
       "      <td>2020</td>\n",
       "      <td>04</td>\n",
       "      <td>2020-04</td>\n",
       "      <td>4.00</td>\n",
       "      <td>1</td>\n",
       "      <td>53</td>\n",
       "      <td>4</td>\n",
       "      <td>0</td>\n",
       "    </tr>\n",
       "    <tr>\n",
       "      <th>4</th>\n",
       "      <td>Balmain</td>\n",
       "      <td>double button long coat white</td>\n",
       "      <td>a1140621</td>\n",
       "      <td>2020-12-31</td>\n",
       "      <td>2021-01-02</td>\n",
       "      <td>7days</td>\n",
       "      <td>O</td>\n",
       "      <td>NaN</td>\n",
       "      <td>2020</td>\n",
       "      <td>12</td>\n",
       "      <td>2020-12</td>\n",
       "      <td>3.00</td>\n",
       "      <td>1</td>\n",
       "      <td>53</td>\n",
       "      <td>5</td>\n",
       "      <td>0</td>\n",
       "    </tr>\n",
       "  </tbody>\n",
       "</table>\n",
       "</div>"
      ],
      "text/plain": [
       "                brandnm                                     goodsnm      user  \\\n",
       "0  Chanel                pocket graphics pattern zipup-jumper navy   a1112031   \n",
       "1  El estilo de Claire   beads stud velvet jacket black              a196681    \n",
       "2  Baum Und Pferdgarten  geometric pattern A-Line dress purple       a196681    \n",
       "3  BCBG                  pleats basic pattern H-Line dress deeppink  a196681    \n",
       "4  Balmain               double button long coat white               a1140621   \n",
       "\n",
       "     reg_date  order_date p_type sub_type app_yn reg_year reg_month  \\\n",
       "0  2020-08-15  2021-01-01  7days  O        NaN    2020     08         \n",
       "1  2020-04-17  2021-01-01  4days  O        Y      2020     04         \n",
       "2  2020-04-17  2021-01-01  4days  D        Y      2020     04         \n",
       "3  2020-04-17  2021-01-01  4days  D        Y      2020     04         \n",
       "4  2020-12-31  2021-01-02  7days  O        NaN    2020     12         \n",
       "\n",
       "  reg_yearmonth  reg_dayofweek  order_month  order_week  order_dayofweek  \\\n",
       "0  2020-08      5.00            1            53          4                 \n",
       "1  2020-04      4.00            1            53          4                 \n",
       "2  2020-04      4.00            1            53          4                 \n",
       "3  2020-04      4.00            1            53          4                 \n",
       "4  2020-12      3.00            1            53          5                 \n",
       "\n",
       "   brandnm_luxury  \n",
       "0  1               \n",
       "1  0               \n",
       "2  0               \n",
       "3  0               \n",
       "4  0               "
      ]
     },
     "execution_count": 195,
     "metadata": {},
     "output_type": "execute_result"
    }
   ],
   "source": [
    "df.head(5)"
   ]
  },
  {
   "cell_type": "code",
   "execution_count": 196,
   "metadata": {
    "ExecuteTime": {
     "end_time": "2021-05-18T16:19:26.660369Z",
     "start_time": "2021-05-18T16:19:26.632442Z"
    },
    "scrolled": false
   },
   "outputs": [
    {
     "name": "stdout",
     "output_type": "stream",
     "text": [
      "<class 'pandas.core.frame.DataFrame'>\n",
      "RangeIndex: 1471 entries, 0 to 1470\n",
      "Data columns (total 16 columns):\n",
      " #   Column           Non-Null Count  Dtype  \n",
      "---  ------           --------------  -----  \n",
      " 0   brandnm          1442 non-null   object \n",
      " 1   goodsnm          1471 non-null   object \n",
      " 2   user             1471 non-null   object \n",
      " 3   reg_date         1466 non-null   object \n",
      " 4   order_date       1471 non-null   object \n",
      " 5   p_type           1471 non-null   object \n",
      " 6   sub_type         1471 non-null   object \n",
      " 7   app_yn           1295 non-null   object \n",
      " 8   reg_year         1466 non-null   object \n",
      " 9   reg_month        1466 non-null   object \n",
      " 10  reg_yearmonth    1466 non-null   object \n",
      " 11  reg_dayofweek    1466 non-null   float64\n",
      " 12  order_month      1471 non-null   int64  \n",
      " 13  order_week       1471 non-null   int64  \n",
      " 14  order_dayofweek  1471 non-null   int64  \n",
      " 15  brandnm_luxury   1471 non-null   int32  \n",
      "dtypes: float64(1), int32(1), int64(3), object(11)\n",
      "memory usage: 178.3+ KB\n"
     ]
    }
   ],
   "source": [
    "df.info()"
   ]
  },
  {
   "cell_type": "code",
   "execution_count": 197,
   "metadata": {
    "ExecuteTime": {
     "end_time": "2021-05-18T16:19:29.104497Z",
     "start_time": "2021-05-18T16:19:29.064095Z"
    },
    "scrolled": false
   },
   "outputs": [
    {
     "data": {
      "text/html": [
       "<div>\n",
       "<style scoped>\n",
       "    .dataframe tbody tr th:only-of-type {\n",
       "        vertical-align: middle;\n",
       "    }\n",
       "\n",
       "    .dataframe tbody tr th {\n",
       "        vertical-align: top;\n",
       "    }\n",
       "\n",
       "    .dataframe thead th {\n",
       "        text-align: right;\n",
       "    }\n",
       "</style>\n",
       "<table border=\"1\" class=\"dataframe\">\n",
       "  <thead>\n",
       "    <tr style=\"text-align: right;\">\n",
       "      <th></th>\n",
       "      <th>count</th>\n",
       "      <th>mean</th>\n",
       "      <th>std</th>\n",
       "      <th>min</th>\n",
       "      <th>25%</th>\n",
       "      <th>50%</th>\n",
       "      <th>75%</th>\n",
       "      <th>max</th>\n",
       "    </tr>\n",
       "  </thead>\n",
       "  <tbody>\n",
       "    <tr>\n",
       "      <th>reg_dayofweek</th>\n",
       "      <td>1466.00</td>\n",
       "      <td>2.71</td>\n",
       "      <td>1.98</td>\n",
       "      <td>0.00</td>\n",
       "      <td>1.00</td>\n",
       "      <td>2.00</td>\n",
       "      <td>4.00</td>\n",
       "      <td>6.00</td>\n",
       "    </tr>\n",
       "    <tr>\n",
       "      <th>order_month</th>\n",
       "      <td>1471.00</td>\n",
       "      <td>2.18</td>\n",
       "      <td>0.81</td>\n",
       "      <td>1.00</td>\n",
       "      <td>1.00</td>\n",
       "      <td>2.00</td>\n",
       "      <td>3.00</td>\n",
       "      <td>3.00</td>\n",
       "    </tr>\n",
       "    <tr>\n",
       "      <th>order_week</th>\n",
       "      <td>1471.00</td>\n",
       "      <td>7.88</td>\n",
       "      <td>5.28</td>\n",
       "      <td>1.00</td>\n",
       "      <td>5.00</td>\n",
       "      <td>8.00</td>\n",
       "      <td>11.00</td>\n",
       "      <td>53.00</td>\n",
       "    </tr>\n",
       "    <tr>\n",
       "      <th>order_dayofweek</th>\n",
       "      <td>1471.00</td>\n",
       "      <td>2.39</td>\n",
       "      <td>1.68</td>\n",
       "      <td>0.00</td>\n",
       "      <td>1.00</td>\n",
       "      <td>2.00</td>\n",
       "      <td>3.00</td>\n",
       "      <td>6.00</td>\n",
       "    </tr>\n",
       "    <tr>\n",
       "      <th>brandnm_luxury</th>\n",
       "      <td>1471.00</td>\n",
       "      <td>0.36</td>\n",
       "      <td>0.48</td>\n",
       "      <td>0.00</td>\n",
       "      <td>0.00</td>\n",
       "      <td>0.00</td>\n",
       "      <td>1.00</td>\n",
       "      <td>1.00</td>\n",
       "    </tr>\n",
       "  </tbody>\n",
       "</table>\n",
       "</div>"
      ],
      "text/plain": [
       "                  count  mean  std  min  25%  50%   75%   max\n",
       "reg_dayofweek   1466.00 2.71  1.98 0.00 1.00 2.00 4.00  6.00 \n",
       "order_month     1471.00 2.18  0.81 1.00 1.00 2.00 3.00  3.00 \n",
       "order_week      1471.00 7.88  5.28 1.00 5.00 8.00 11.00 53.00\n",
       "order_dayofweek 1471.00 2.39  1.68 0.00 1.00 2.00 3.00  6.00 \n",
       "brandnm_luxury  1471.00 0.36  0.48 0.00 0.00 0.00 1.00  1.00 "
      ]
     },
     "execution_count": 197,
     "metadata": {},
     "output_type": "execute_result"
    }
   ],
   "source": [
    "df.describe().T"
   ]
  },
  {
   "cell_type": "code",
   "execution_count": 198,
   "metadata": {
    "ExecuteTime": {
     "end_time": "2021-05-18T16:19:31.358461Z",
     "start_time": "2021-05-18T16:19:31.342503Z"
    },
    "scrolled": true
   },
   "outputs": [
    {
     "data": {
      "text/html": [
       "<div>\n",
       "<style scoped>\n",
       "    .dataframe tbody tr th:only-of-type {\n",
       "        vertical-align: middle;\n",
       "    }\n",
       "\n",
       "    .dataframe tbody tr th {\n",
       "        vertical-align: top;\n",
       "    }\n",
       "\n",
       "    .dataframe thead th {\n",
       "        text-align: right;\n",
       "    }\n",
       "</style>\n",
       "<table border=\"1\" class=\"dataframe\">\n",
       "  <thead>\n",
       "    <tr style=\"text-align: right;\">\n",
       "      <th></th>\n",
       "      <th>brand2</th>\n",
       "      <th>product2</th>\n",
       "      <th>tag1</th>\n",
       "      <th>tag2</th>\n",
       "      <th>tag3</th>\n",
       "      <th>tag4</th>\n",
       "      <th>4일가격</th>\n",
       "      <th>7일가격</th>\n",
       "    </tr>\n",
       "  </thead>\n",
       "  <tbody>\n",
       "    <tr>\n",
       "      <th>367</th>\n",
       "      <td>Prada</td>\n",
       "      <td>color strap shoulder bag navy</td>\n",
       "      <td>#오피스</td>\n",
       "      <td>NaN</td>\n",
       "      <td>NaN</td>\n",
       "      <td>NaN</td>\n",
       "      <td>39,000원\\n7일</td>\n",
       "      <td>49,000원</td>\n",
       "    </tr>\n",
       "    <tr>\n",
       "      <th>368</th>\n",
       "      <td>Chloe</td>\n",
       "      <td>drew bag beige</td>\n",
       "      <td>#오피스</td>\n",
       "      <td>#위켄드</td>\n",
       "      <td>NaN</td>\n",
       "      <td>NaN</td>\n",
       "      <td>39,000원\\n7일</td>\n",
       "      <td>49,000원</td>\n",
       "    </tr>\n",
       "    <tr>\n",
       "      <th>369</th>\n",
       "      <td>Maison Margiela</td>\n",
       "      <td>Bucket black bag</td>\n",
       "      <td>#일상</td>\n",
       "      <td>NaN</td>\n",
       "      <td>NaN</td>\n",
       "      <td>NaN</td>\n",
       "      <td>39,000원\\n7일</td>\n",
       "      <td>49,000원</td>\n",
       "    </tr>\n",
       "    <tr>\n",
       "      <th>370</th>\n",
       "      <td>Dior</td>\n",
       "      <td>croisiere patent lady bag navy</td>\n",
       "      <td>#위켄드</td>\n",
       "      <td>NaN</td>\n",
       "      <td>NaN</td>\n",
       "      <td>NaN</td>\n",
       "      <td>49,000원\\n7일</td>\n",
       "      <td>59,000원</td>\n",
       "    </tr>\n",
       "    <tr>\n",
       "      <th>371</th>\n",
       "      <td>Gucci</td>\n",
       "      <td>vintage web GG two way bag brown</td>\n",
       "      <td>#오피스</td>\n",
       "      <td>NaN</td>\n",
       "      <td>NaN</td>\n",
       "      <td>NaN</td>\n",
       "      <td>49,000원\\n7일</td>\n",
       "      <td>59,000원</td>\n",
       "    </tr>\n",
       "  </tbody>\n",
       "</table>\n",
       "</div>"
      ],
      "text/plain": [
       "              brand2                          product2  tag1  tag2 tag3 tag4  \\\n",
       "367  Prada            color strap shoulder bag navy     #오피스  NaN   NaN  NaN   \n",
       "368  Chloe            drew bag beige                    #오피스  #위켄드  NaN  NaN   \n",
       "369  Maison Margiela  Bucket black bag                  #일상   NaN   NaN  NaN   \n",
       "370  Dior             croisiere patent lady bag navy    #위켄드  NaN   NaN  NaN   \n",
       "371  Gucci            vintage web GG two way bag brown  #오피스  NaN   NaN  NaN   \n",
       "\n",
       "            4일가격     7일가격  \n",
       "367  39,000원\\n7일  49,000원  \n",
       "368  39,000원\\n7일  49,000원  \n",
       "369  39,000원\\n7일  49,000원  \n",
       "370  49,000원\\n7일  59,000원  \n",
       "371  49,000원\\n7일  59,000원  "
      ]
     },
     "execution_count": 198,
     "metadata": {},
     "output_type": "execute_result"
    }
   ],
   "source": [
    "price.tail() # 가격 데이터 전처리 : 쉼표 제거 필요, tag # 제거"
   ]
  },
  {
   "cell_type": "code",
   "execution_count": 200,
   "metadata": {
    "ExecuteTime": {
     "end_time": "2021-05-18T16:19:45.025277Z",
     "start_time": "2021-05-18T16:19:45.011152Z"
    },
    "scrolled": true
   },
   "outputs": [
    {
     "data": {
      "text/plain": [
       "array(['59,000원', '44,000원', '49,000원', nan, '69,000원', ']'], dtype=object)"
      ]
     },
     "execution_count": 200,
     "metadata": {},
     "output_type": "execute_result"
    }
   ],
   "source": [
    "price['7일가격'].unique()"
   ]
  },
  {
   "cell_type": "code",
   "execution_count": 201,
   "metadata": {
    "ExecuteTime": {
     "end_time": "2021-05-18T16:19:47.360029Z",
     "start_time": "2021-05-18T16:19:47.322906Z"
    },
    "scrolled": false
   },
   "outputs": [
    {
     "data": {
      "text/html": [
       "<div>\n",
       "<style scoped>\n",
       "    .dataframe tbody tr th:only-of-type {\n",
       "        vertical-align: middle;\n",
       "    }\n",
       "\n",
       "    .dataframe tbody tr th {\n",
       "        vertical-align: top;\n",
       "    }\n",
       "\n",
       "    .dataframe thead th {\n",
       "        text-align: right;\n",
       "    }\n",
       "</style>\n",
       "<table border=\"1\" class=\"dataframe\">\n",
       "  <thead>\n",
       "    <tr style=\"text-align: right;\">\n",
       "      <th></th>\n",
       "      <th>count</th>\n",
       "      <th>unique</th>\n",
       "      <th>top</th>\n",
       "      <th>freq</th>\n",
       "    </tr>\n",
       "  </thead>\n",
       "  <tbody>\n",
       "    <tr>\n",
       "      <th>brand2</th>\n",
       "      <td>372</td>\n",
       "      <td>25</td>\n",
       "      <td>Gucci</td>\n",
       "      <td>118</td>\n",
       "    </tr>\n",
       "    <tr>\n",
       "      <th>product2</th>\n",
       "      <td>372</td>\n",
       "      <td>137</td>\n",
       "      <td>mini sunset chain bag black</td>\n",
       "      <td>8</td>\n",
       "    </tr>\n",
       "    <tr>\n",
       "      <th>tag1</th>\n",
       "      <td>334</td>\n",
       "      <td>6</td>\n",
       "      <td>#오피스</td>\n",
       "      <td>186</td>\n",
       "    </tr>\n",
       "    <tr>\n",
       "      <th>tag2</th>\n",
       "      <td>166</td>\n",
       "      <td>6</td>\n",
       "      <td>#위켄드</td>\n",
       "      <td>76</td>\n",
       "    </tr>\n",
       "    <tr>\n",
       "      <th>tag3</th>\n",
       "      <td>24</td>\n",
       "      <td>3</td>\n",
       "      <td>#파티</td>\n",
       "      <td>10</td>\n",
       "    </tr>\n",
       "    <tr>\n",
       "      <th>tag4</th>\n",
       "      <td>4</td>\n",
       "      <td>1</td>\n",
       "      <td>#포멀이벤트</td>\n",
       "      <td>4</td>\n",
       "    </tr>\n",
       "    <tr>\n",
       "      <th>4일가격</th>\n",
       "      <td>368</td>\n",
       "      <td>4</td>\n",
       "      <td>49,000원\\n7일</td>\n",
       "      <td>192</td>\n",
       "    </tr>\n",
       "    <tr>\n",
       "      <th>7일가격</th>\n",
       "      <td>368</td>\n",
       "      <td>5</td>\n",
       "      <td>59,000원</td>\n",
       "      <td>191</td>\n",
       "    </tr>\n",
       "  </tbody>\n",
       "</table>\n",
       "</div>"
      ],
      "text/plain": [
       "         count unique                          top freq\n",
       "brand2    372   25     Gucci                        118\n",
       "product2  372   137    mini sunset chain bag black  8  \n",
       "tag1      334   6      #오피스                         186\n",
       "tag2      166   6      #위켄드                         76 \n",
       "tag3      24    3      #파티                          10 \n",
       "tag4      4     1      #포멀이벤트                       4  \n",
       "4일가격      368   4      49,000원\\n7일                  192\n",
       "7일가격      368   5      59,000원                      191"
      ]
     },
     "execution_count": 201,
     "metadata": {},
     "output_type": "execute_result"
    }
   ],
   "source": [
    "price.describe().T"
   ]
  },
  {
   "cell_type": "markdown",
   "metadata": {},
   "source": [
    "#### 데이터 개요 정리"
   ]
  },
  {
   "cell_type": "code",
   "execution_count": 203,
   "metadata": {
    "ExecuteTime": {
     "end_time": "2021-05-18T16:20:35.954619Z",
     "start_time": "2021-05-18T16:20:35.936628Z"
    },
    "scrolled": true
   },
   "outputs": [
    {
     "name": "stdout",
     "output_type": "stream",
     "text": [
      "브랜드 수: 245 \n",
      "\n",
      "유저 수: 1234 \n",
      "\n",
      "구매 타입 수: 2\n",
      "구매 타입 수: ['7days' '4days'] \n",
      "\n",
      "서브 타입 수: 6\n",
      "서브 타입 수: ['O' 'D' 'BA' 'T' 'B' 'TP'] \n",
      "\n",
      "가입 정보 기간: 2017-06-24 00:00:00 ~ 2021-03-31 00:00:00\n",
      "구매 정보 기간: 2021-01-01 ~ 2021-03-31\n"
     ]
    }
   ],
   "source": [
    "print('브랜드 수:', df.brandnm.nunique(),'\\n')\n",
    "print('유저 수:', df.user.nunique(),'\\n')\n",
    "print('구매 타입 수:', df.p_type.nunique())\n",
    "print('구매 타입 수:', df.p_type.unique(),'\\n')\n",
    "print('서브 타입 수:', df.sub_type.nunique())\n",
    "print('서브 타입 수:', df.sub_type.unique(),'\\n')\n",
    "print('가입 정보 기간:', pd.to_datetime(df['reg_date']).min() ,\"~\", pd.to_datetime(df['reg_date']).max())\n",
    "print('구매 정보 기간:', df.order_date.min() ,\"~\", df.order_date.max())"
   ]
  },
  {
   "cell_type": "code",
   "execution_count": 204,
   "metadata": {
    "ExecuteTime": {
     "end_time": "2021-05-18T16:20:39.602226Z",
     "start_time": "2021-05-18T16:20:39.591217Z"
    }
   },
   "outputs": [
    {
     "data": {
      "text/plain": [
       "array(['O', 'D', 'BA', 'T', 'B', 'TP'], dtype=object)"
      ]
     },
     "execution_count": 204,
     "metadata": {},
     "output_type": "execute_result"
    }
   ],
   "source": [
    "df.sub_type.unique()"
   ]
  },
  {
   "cell_type": "code",
   "execution_count": 205,
   "metadata": {
    "ExecuteTime": {
     "end_time": "2021-05-18T16:20:49.419792Z",
     "start_time": "2021-05-18T16:20:49.396855Z"
    },
    "scrolled": false
   },
   "outputs": [
    {
     "data": {
      "text/plain": [
       "user\n",
       "a1146892    1 \n",
       "a1148775    1 \n",
       "a1148769    1 \n",
       "a1148768    1 \n",
       "a1148750    1 \n",
       "           .. \n",
       "a189404     7 \n",
       "a1143701    7 \n",
       "a1142677    9 \n",
       "a1149583    10\n",
       "a1149461    11\n",
       "Name: order_date, Length: 1234, dtype: int64"
      ]
     },
     "execution_count": 205,
     "metadata": {},
     "output_type": "execute_result"
    }
   ],
   "source": [
    "df.groupby('user')['order_date'].count().sort_values()"
   ]
  },
  {
   "cell_type": "code",
   "execution_count": 206,
   "metadata": {
    "ExecuteTime": {
     "end_time": "2021-05-18T16:20:50.378234Z",
     "start_time": "2021-05-18T16:20:50.345320Z"
    },
    "scrolled": true
   },
   "outputs": [
    {
     "data": {
      "text/html": [
       "<div>\n",
       "<style scoped>\n",
       "    .dataframe tbody tr th:only-of-type {\n",
       "        vertical-align: middle;\n",
       "    }\n",
       "\n",
       "    .dataframe tbody tr th {\n",
       "        vertical-align: top;\n",
       "    }\n",
       "\n",
       "    .dataframe thead th {\n",
       "        text-align: right;\n",
       "    }\n",
       "</style>\n",
       "<table border=\"1\" class=\"dataframe\">\n",
       "  <thead>\n",
       "    <tr style=\"text-align: right;\">\n",
       "      <th></th>\n",
       "      <th>brandnm</th>\n",
       "      <th>goodsnm</th>\n",
       "      <th>user</th>\n",
       "      <th>reg_date</th>\n",
       "      <th>order_date</th>\n",
       "      <th>p_type</th>\n",
       "      <th>sub_type</th>\n",
       "      <th>app_yn</th>\n",
       "      <th>reg_year</th>\n",
       "      <th>reg_month</th>\n",
       "      <th>reg_yearmonth</th>\n",
       "      <th>reg_dayofweek</th>\n",
       "      <th>order_month</th>\n",
       "      <th>order_week</th>\n",
       "      <th>order_dayofweek</th>\n",
       "      <th>brandnm_luxury</th>\n",
       "    </tr>\n",
       "  </thead>\n",
       "  <tbody>\n",
       "    <tr>\n",
       "      <th>1128</th>\n",
       "      <td>Alice &amp; Olivia</td>\n",
       "      <td>see-through lace detail blouse black</td>\n",
       "      <td>a1149461</td>\n",
       "      <td>2021-03-15</td>\n",
       "      <td>2021-03-17</td>\n",
       "      <td>4days</td>\n",
       "      <td>T</td>\n",
       "      <td>NaN</td>\n",
       "      <td>2021</td>\n",
       "      <td>03</td>\n",
       "      <td>2021-03</td>\n",
       "      <td>0.00</td>\n",
       "      <td>3</td>\n",
       "      <td>11</td>\n",
       "      <td>2</td>\n",
       "      <td>0</td>\n",
       "    </tr>\n",
       "    <tr>\n",
       "      <th>1129</th>\n",
       "      <td>Sandro</td>\n",
       "      <td>embroidery detail lace skirt multi</td>\n",
       "      <td>a1149461</td>\n",
       "      <td>2021-03-15</td>\n",
       "      <td>2021-03-17</td>\n",
       "      <td>4days</td>\n",
       "      <td>B</td>\n",
       "      <td>NaN</td>\n",
       "      <td>2021</td>\n",
       "      <td>03</td>\n",
       "      <td>2021-03</td>\n",
       "      <td>0.00</td>\n",
       "      <td>3</td>\n",
       "      <td>11</td>\n",
       "      <td>2</td>\n",
       "      <td>0</td>\n",
       "    </tr>\n",
       "    <tr>\n",
       "      <th>1130</th>\n",
       "      <td>Time</td>\n",
       "      <td>draping detail midi skirt gray</td>\n",
       "      <td>a1149461</td>\n",
       "      <td>2021-03-15</td>\n",
       "      <td>2021-03-17</td>\n",
       "      <td>4days</td>\n",
       "      <td>B</td>\n",
       "      <td>NaN</td>\n",
       "      <td>2021</td>\n",
       "      <td>03</td>\n",
       "      <td>2021-03</td>\n",
       "      <td>0.00</td>\n",
       "      <td>3</td>\n",
       "      <td>11</td>\n",
       "      <td>2</td>\n",
       "      <td>0</td>\n",
       "    </tr>\n",
       "    <tr>\n",
       "      <th>1131</th>\n",
       "      <td>El estilo de Claire</td>\n",
       "      <td>ruffle detail see-through sleeve blouse black</td>\n",
       "      <td>a1149461</td>\n",
       "      <td>2021-03-15</td>\n",
       "      <td>2021-03-17</td>\n",
       "      <td>4days</td>\n",
       "      <td>T</td>\n",
       "      <td>NaN</td>\n",
       "      <td>2021</td>\n",
       "      <td>03</td>\n",
       "      <td>2021-03</td>\n",
       "      <td>0.00</td>\n",
       "      <td>3</td>\n",
       "      <td>11</td>\n",
       "      <td>2</td>\n",
       "      <td>0</td>\n",
       "    </tr>\n",
       "    <tr>\n",
       "      <th>1132</th>\n",
       "      <td>It michaa</td>\n",
       "      <td>pocket basic pattern skirt green</td>\n",
       "      <td>a1149461</td>\n",
       "      <td>2021-03-15</td>\n",
       "      <td>2021-03-17</td>\n",
       "      <td>4days</td>\n",
       "      <td>B</td>\n",
       "      <td>NaN</td>\n",
       "      <td>2021</td>\n",
       "      <td>03</td>\n",
       "      <td>2021-03</td>\n",
       "      <td>0.00</td>\n",
       "      <td>3</td>\n",
       "      <td>11</td>\n",
       "      <td>2</td>\n",
       "      <td>0</td>\n",
       "    </tr>\n",
       "    <tr>\n",
       "      <th>1133</th>\n",
       "      <td>roajeu</td>\n",
       "      <td>ruffle basic pattern mermaid trumpet-skirt green</td>\n",
       "      <td>a1149461</td>\n",
       "      <td>2021-03-15</td>\n",
       "      <td>2021-03-17</td>\n",
       "      <td>4days</td>\n",
       "      <td>B</td>\n",
       "      <td>NaN</td>\n",
       "      <td>2021</td>\n",
       "      <td>03</td>\n",
       "      <td>2021-03</td>\n",
       "      <td>0.00</td>\n",
       "      <td>3</td>\n",
       "      <td>11</td>\n",
       "      <td>2</td>\n",
       "      <td>0</td>\n",
       "    </tr>\n",
       "    <tr>\n",
       "      <th>1134</th>\n",
       "      <td>Alexander Wang</td>\n",
       "      <td>basic pattern skirt grey</td>\n",
       "      <td>a1149461</td>\n",
       "      <td>2021-03-15</td>\n",
       "      <td>2021-03-17</td>\n",
       "      <td>4days</td>\n",
       "      <td>B</td>\n",
       "      <td>NaN</td>\n",
       "      <td>2021</td>\n",
       "      <td>03</td>\n",
       "      <td>2021-03</td>\n",
       "      <td>0.00</td>\n",
       "      <td>3</td>\n",
       "      <td>11</td>\n",
       "      <td>2</td>\n",
       "      <td>0</td>\n",
       "    </tr>\n",
       "    <tr>\n",
       "      <th>1135</th>\n",
       "      <td>Christian Dior</td>\n",
       "      <td>basic pattern sweater burgundy</td>\n",
       "      <td>a1149461</td>\n",
       "      <td>2021-03-15</td>\n",
       "      <td>2021-03-17</td>\n",
       "      <td>4days</td>\n",
       "      <td>T</td>\n",
       "      <td>NaN</td>\n",
       "      <td>2021</td>\n",
       "      <td>03</td>\n",
       "      <td>2021-03</td>\n",
       "      <td>0.00</td>\n",
       "      <td>3</td>\n",
       "      <td>11</td>\n",
       "      <td>2</td>\n",
       "      <td>1</td>\n",
       "    </tr>\n",
       "    <tr>\n",
       "      <th>1136</th>\n",
       "      <td>MSGM</td>\n",
       "      <td>basic pattern top black</td>\n",
       "      <td>a1149461</td>\n",
       "      <td>2021-03-15</td>\n",
       "      <td>2021-03-17</td>\n",
       "      <td>4days</td>\n",
       "      <td>T</td>\n",
       "      <td>NaN</td>\n",
       "      <td>2021</td>\n",
       "      <td>03</td>\n",
       "      <td>2021-03</td>\n",
       "      <td>0.00</td>\n",
       "      <td>3</td>\n",
       "      <td>11</td>\n",
       "      <td>2</td>\n",
       "      <td>0</td>\n",
       "    </tr>\n",
       "    <tr>\n",
       "      <th>1137</th>\n",
       "      <td>Fayewoo</td>\n",
       "      <td>ruffle lace pattern mermaid trumpet-skirt red</td>\n",
       "      <td>a1149461</td>\n",
       "      <td>2021-03-15</td>\n",
       "      <td>2021-03-17</td>\n",
       "      <td>4days</td>\n",
       "      <td>B</td>\n",
       "      <td>NaN</td>\n",
       "      <td>2021</td>\n",
       "      <td>03</td>\n",
       "      <td>2021-03</td>\n",
       "      <td>0.00</td>\n",
       "      <td>3</td>\n",
       "      <td>11</td>\n",
       "      <td>2</td>\n",
       "      <td>0</td>\n",
       "    </tr>\n",
       "    <tr>\n",
       "      <th>1138</th>\n",
       "      <td>Debb</td>\n",
       "      <td>ribbon basic pattern blouse brown</td>\n",
       "      <td>a1149461</td>\n",
       "      <td>2021-03-15</td>\n",
       "      <td>2021-03-17</td>\n",
       "      <td>4days</td>\n",
       "      <td>T</td>\n",
       "      <td>NaN</td>\n",
       "      <td>2021</td>\n",
       "      <td>03</td>\n",
       "      <td>2021-03</td>\n",
       "      <td>0.00</td>\n",
       "      <td>3</td>\n",
       "      <td>11</td>\n",
       "      <td>2</td>\n",
       "      <td>0</td>\n",
       "    </tr>\n",
       "  </tbody>\n",
       "</table>\n",
       "</div>"
      ],
      "text/plain": [
       "                  brandnm                                           goodsnm  \\\n",
       "1128  Alice & Olivia       see-through lace detail blouse black               \n",
       "1129  Sandro               embroidery detail lace skirt multi                 \n",
       "1130  Time                 draping detail midi skirt gray                     \n",
       "1131  El estilo de Claire  ruffle detail see-through sleeve blouse black      \n",
       "1132  It michaa            pocket basic pattern skirt green                   \n",
       "1133  roajeu               ruffle basic pattern mermaid trumpet-skirt green   \n",
       "1134  Alexander Wang       basic pattern skirt grey                           \n",
       "1135  Christian Dior       basic pattern sweater burgundy                     \n",
       "1136  MSGM                 basic pattern top black                            \n",
       "1137  Fayewoo              ruffle lace pattern mermaid trumpet-skirt red      \n",
       "1138  Debb                 ribbon basic pattern blouse brown                  \n",
       "\n",
       "          user    reg_date  order_date p_type sub_type app_yn reg_year  \\\n",
       "1128  a1149461  2021-03-15  2021-03-17  4days  T        NaN    2021      \n",
       "1129  a1149461  2021-03-15  2021-03-17  4days  B        NaN    2021      \n",
       "1130  a1149461  2021-03-15  2021-03-17  4days  B        NaN    2021      \n",
       "1131  a1149461  2021-03-15  2021-03-17  4days  T        NaN    2021      \n",
       "1132  a1149461  2021-03-15  2021-03-17  4days  B        NaN    2021      \n",
       "1133  a1149461  2021-03-15  2021-03-17  4days  B        NaN    2021      \n",
       "1134  a1149461  2021-03-15  2021-03-17  4days  B        NaN    2021      \n",
       "1135  a1149461  2021-03-15  2021-03-17  4days  T        NaN    2021      \n",
       "1136  a1149461  2021-03-15  2021-03-17  4days  T        NaN    2021      \n",
       "1137  a1149461  2021-03-15  2021-03-17  4days  B        NaN    2021      \n",
       "1138  a1149461  2021-03-15  2021-03-17  4days  T        NaN    2021      \n",
       "\n",
       "     reg_month reg_yearmonth  reg_dayofweek  order_month  order_week  \\\n",
       "1128  03        2021-03      0.00            3            11           \n",
       "1129  03        2021-03      0.00            3            11           \n",
       "1130  03        2021-03      0.00            3            11           \n",
       "1131  03        2021-03      0.00            3            11           \n",
       "1132  03        2021-03      0.00            3            11           \n",
       "1133  03        2021-03      0.00            3            11           \n",
       "1134  03        2021-03      0.00            3            11           \n",
       "1135  03        2021-03      0.00            3            11           \n",
       "1136  03        2021-03      0.00            3            11           \n",
       "1137  03        2021-03      0.00            3            11           \n",
       "1138  03        2021-03      0.00            3            11           \n",
       "\n",
       "      order_dayofweek  brandnm_luxury  \n",
       "1128  2                0               \n",
       "1129  2                0               \n",
       "1130  2                0               \n",
       "1131  2                0               \n",
       "1132  2                0               \n",
       "1133  2                0               \n",
       "1134  2                0               \n",
       "1135  2                1               \n",
       "1136  2                0               \n",
       "1137  2                0               \n",
       "1138  2                0               "
      ]
     },
     "execution_count": 206,
     "metadata": {},
     "output_type": "execute_result"
    }
   ],
   "source": [
    "# 1회 주문 건수 11회인 유저 : reg date과 order date 차이 2일 > 신규 유저 이벤트?\n",
    "df.query('user==\"a1149461\"')"
   ]
  },
  {
   "cell_type": "code",
   "execution_count": 207,
   "metadata": {
    "ExecuteTime": {
     "end_time": "2021-05-18T16:21:06.142838Z",
     "start_time": "2021-05-18T16:21:06.126870Z"
    }
   },
   "outputs": [
    {
     "data": {
      "text/plain": [
       "979"
      ]
     },
     "execution_count": 207,
     "metadata": {},
     "output_type": "execute_result"
    }
   ],
   "source": [
    "df.goodsnm.nunique()"
   ]
  },
  {
   "cell_type": "code",
   "execution_count": 208,
   "metadata": {
    "ExecuteTime": {
     "end_time": "2021-05-18T16:21:06.871965Z",
     "start_time": "2021-05-18T16:21:06.866020Z"
    }
   },
   "outputs": [
    {
     "data": {
      "text/plain": [
       "245"
      ]
     },
     "execution_count": 208,
     "metadata": {},
     "output_type": "execute_result"
    }
   ],
   "source": [
    "brand_list=df.brandnm.value_counts().index.unique()\n",
    "len(brand_list)"
   ]
  },
  {
   "cell_type": "code",
   "execution_count": 209,
   "metadata": {
    "ExecuteTime": {
     "end_time": "2021-05-18T16:21:07.770385Z",
     "start_time": "2021-05-18T16:21:07.756423Z"
    },
    "scrolled": false
   },
   "outputs": [
    {
     "data": {
      "text/plain": [
       "Index(['Gucci', 'Chanel', 'Saint Laurent', 'Louis Vuitton', 'Prada',\n",
       "       'Burberry', 'Yves Saint Laurent', 'Thom Browne', 'Fendi', 'Celine',\n",
       "       ...\n",
       "       'H&Moschino', 'Overdueflair', 'SDI', 'Armani Collezioni',\n",
       "       'Paipai jiemei', 'Lafudge Store', 'The Tint', 'Goyard', 'Vanessa Bruno',\n",
       "       'BEMUSE MANSION'],\n",
       "      dtype='object', length=245)"
      ]
     },
     "execution_count": 209,
     "metadata": {},
     "output_type": "execute_result"
    }
   ],
   "source": [
    "brand_list"
   ]
  },
  {
   "cell_type": "markdown",
   "metadata": {},
   "source": [
    "### 결측치 확인/처리"
   ]
  },
  {
   "cell_type": "code",
   "execution_count": 210,
   "metadata": {
    "ExecuteTime": {
     "end_time": "2021-05-18T16:21:17.075639Z",
     "start_time": "2021-05-18T16:21:17.055874Z"
    },
    "scrolled": false
   },
   "outputs": [
    {
     "data": {
      "text/plain": [
       "brandnm            29 \n",
       "goodsnm            0  \n",
       "user               0  \n",
       "reg_date           5  \n",
       "order_date         0  \n",
       "p_type             0  \n",
       "sub_type           0  \n",
       "app_yn             176\n",
       "reg_year           5  \n",
       "reg_month          5  \n",
       "reg_yearmonth      5  \n",
       "reg_dayofweek      5  \n",
       "order_month        0  \n",
       "order_week         0  \n",
       "order_dayofweek    0  \n",
       "brandnm_luxury     0  \n",
       "dtype: int64"
      ]
     },
     "execution_count": 210,
     "metadata": {},
     "output_type": "execute_result"
    }
   ],
   "source": [
    "df.isnull().sum()"
   ]
  },
  {
   "cell_type": "markdown",
   "metadata": {},
   "source": [
    "#### brandnm : fillna('N/A')             "
   ]
  },
  {
   "cell_type": "code",
   "execution_count": 211,
   "metadata": {
    "ExecuteTime": {
     "end_time": "2021-05-18T16:21:18.765093Z",
     "start_time": "2021-05-18T16:21:18.747103Z"
    }
   },
   "outputs": [],
   "source": [
    "df['brandnm'] = df['brandnm'].fillna('N/A')"
   ]
  },
  {
   "cell_type": "markdown",
   "metadata": {},
   "source": [
    "#### app_yn : fillna(0)  "
   ]
  },
  {
   "cell_type": "code",
   "execution_count": 212,
   "metadata": {
    "ExecuteTime": {
     "end_time": "2021-05-18T16:21:19.823290Z",
     "start_time": "2021-05-18T16:21:19.814740Z"
    }
   },
   "outputs": [],
   "source": [
    "# app_yn 값 0, 1 치환\n",
    "df['app_yn'] = df['app_yn'].fillna(0)\n",
    "df.loc[(df.app_yn == 'Y'), 'app_yn'] = 1"
   ]
  },
  {
   "cell_type": "markdown",
   "metadata": {},
   "source": [
    "#### reg_date : fillna(method='pad')"
   ]
  },
  {
   "cell_type": "code",
   "execution_count": 213,
   "metadata": {
    "ExecuteTime": {
     "end_time": "2021-05-18T16:21:20.513542Z",
     "start_time": "2021-05-18T16:21:20.458665Z"
    },
    "scrolled": true
   },
   "outputs": [
    {
     "name": "stdout",
     "output_type": "stream",
     "text": [
      "          user    reg_date\n",
      "0     a11612    2017-06-24\n",
      "1     a11803    2017-07-02\n",
      "2     a13637    2018-03-09\n",
      "3     a13741    2018-03-20\n",
      "4     a13934    2018-03-27\n",
      "...      ...           ...\n",
      "1461  a1151479  2021-03-31\n",
      "1462  a1151481  2021-03-31\n",
      "1463  a1151496  2021-03-31\n",
      "1464  a1151499  2021-03-31\n",
      "1465  a1151564  2021-03-31\n",
      "\n",
      "[1466 rows x 2 columns]\n",
      "\n",
      "user의 id는 reg_date의 순서대로 부여되었다.\n"
     ]
    }
   ],
   "source": [
    "# reg_date 순서대로 user의 id가 부여되었는지 확인\n",
    "reg_user = df[df['reg_date'].notnull()].sort_values('user').sort_values('reg_date').reset_index().iloc[:,3:5]\n",
    "print(reg_user)\n",
    "\n",
    "for i in np.arange(0,len(reg_user)-1):\n",
    "    if int(reg_user.user[i][1:]) > int(reg_user.user[i+1][1:]):\n",
    "        \n",
    "        if reg_user.reg_date[i] != reg_user.reg_date[i+1]:\n",
    "            print(\"순서대로 부여되지 않았습니다.\")\n",
    "\n",
    "print(\"\")\n",
    "print(\"user의 id는 reg_date의 순서대로 부여되었다.\")"
   ]
  },
  {
   "cell_type": "code",
   "execution_count": 214,
   "metadata": {
    "ExecuteTime": {
     "end_time": "2021-05-18T16:21:21.612150Z",
     "start_time": "2021-05-18T16:21:21.600184Z"
    }
   },
   "outputs": [],
   "source": [
    "# 바로 앞 유저의 날짜를 임의 부여\n",
    "df['reg_date'] = df['reg_date'].fillna(method = 'pad')"
   ]
  },
  {
   "cell_type": "markdown",
   "metadata": {},
   "source": [
    "### EDA \n",
    "**2. 구매 상품 트렌드 분석**\n",
    " \n",
    "1. 유저당 주문 수량 분석\n",
    "    > - 최근 3개월 전체 분석 / 각 월 별 분석 \n",
    "    > - 분기 경향 / 월 별 변동사항 확인 -> 트렌드 분석\n",
    "\n",
    "2. 주문 아이템 분석\n",
    "    > - 브랜드 별 선호도, 아이템 카테고리별 선호도 분석\n",
    "    > - 신규 유저들의 구매 트렌드 파악\n"
   ]
  },
  {
   "cell_type": "markdown",
   "metadata": {},
   "source": [
    "#### 주문 수량 분석"
   ]
  },
  {
   "cell_type": "markdown",
   "metadata": {},
   "source": [
    "##### 최근 3개월 전체 분석"
   ]
  },
  {
   "cell_type": "markdown",
   "metadata": {},
   "source": [
    "###### 전체 유저\n",
    "- df_user 기본 정보 테이블 생성 (column 별 count)"
   ]
  },
  {
   "cell_type": "code",
   "execution_count": 217,
   "metadata": {
    "ExecuteTime": {
     "end_time": "2021-05-18T16:34:34.222338Z",
     "start_time": "2021-05-18T16:34:34.113628Z"
    },
    "scrolled": false
   },
   "outputs": [
    {
     "data": {
      "text/html": [
       "<div>\n",
       "<style scoped>\n",
       "    .dataframe tbody tr th:only-of-type {\n",
       "        vertical-align: middle;\n",
       "    }\n",
       "\n",
       "    .dataframe tbody tr th {\n",
       "        vertical-align: top;\n",
       "    }\n",
       "\n",
       "    .dataframe thead th {\n",
       "        text-align: right;\n",
       "    }\n",
       "</style>\n",
       "<table border=\"1\" class=\"dataframe\">\n",
       "  <thead>\n",
       "    <tr style=\"text-align: right;\">\n",
       "      <th></th>\n",
       "      <th>user</th>\n",
       "      <th>reg_date</th>\n",
       "      <th>reg_yearmonth</th>\n",
       "      <th>order_date</th>\n",
       "      <th>order_month</th>\n",
       "      <th>order_week</th>\n",
       "      <th>order_dayofweek</th>\n",
       "      <th>order_count</th>\n",
       "      <th>4days</th>\n",
       "      <th>7days</th>\n",
       "      <th>0</th>\n",
       "      <th>1</th>\n",
       "      <th>brandnm_luxury</th>\n",
       "      <th>B</th>\n",
       "      <th>BA</th>\n",
       "      <th>D</th>\n",
       "      <th>O</th>\n",
       "      <th>T</th>\n",
       "      <th>TP</th>\n",
       "    </tr>\n",
       "  </thead>\n",
       "  <tbody>\n",
       "    <tr>\n",
       "      <th>0</th>\n",
       "      <td>a1100548</td>\n",
       "      <td>2020-05-16</td>\n",
       "      <td>2020-05</td>\n",
       "      <td>2021-03-31</td>\n",
       "      <td>3</td>\n",
       "      <td>13</td>\n",
       "      <td>2</td>\n",
       "      <td>2</td>\n",
       "      <td>2.00</td>\n",
       "      <td>0.00</td>\n",
       "      <td>0.00</td>\n",
       "      <td>2.00</td>\n",
       "      <td>0</td>\n",
       "      <td>1.00</td>\n",
       "      <td>1.00</td>\n",
       "      <td>0.00</td>\n",
       "      <td>0.00</td>\n",
       "      <td>0.00</td>\n",
       "      <td>0.00</td>\n",
       "    </tr>\n",
       "    <tr>\n",
       "      <th>1</th>\n",
       "      <td>a1100887</td>\n",
       "      <td>2020-05-19</td>\n",
       "      <td>2020-05</td>\n",
       "      <td>2021-03-29</td>\n",
       "      <td>3</td>\n",
       "      <td>13</td>\n",
       "      <td>0</td>\n",
       "      <td>1</td>\n",
       "      <td>0.00</td>\n",
       "      <td>1.00</td>\n",
       "      <td>0.00</td>\n",
       "      <td>1.00</td>\n",
       "      <td>0</td>\n",
       "      <td>0.00</td>\n",
       "      <td>1.00</td>\n",
       "      <td>0.00</td>\n",
       "      <td>0.00</td>\n",
       "      <td>0.00</td>\n",
       "      <td>0.00</td>\n",
       "    </tr>\n",
       "    <tr>\n",
       "      <th>2</th>\n",
       "      <td>a1101514</td>\n",
       "      <td>2020-05-25</td>\n",
       "      <td>2020-05</td>\n",
       "      <td>2021-02-05</td>\n",
       "      <td>2</td>\n",
       "      <td>5</td>\n",
       "      <td>4</td>\n",
       "      <td>1</td>\n",
       "      <td>1.00</td>\n",
       "      <td>0.00</td>\n",
       "      <td>0.00</td>\n",
       "      <td>1.00</td>\n",
       "      <td>0</td>\n",
       "      <td>0.00</td>\n",
       "      <td>0.00</td>\n",
       "      <td>0.00</td>\n",
       "      <td>1.00</td>\n",
       "      <td>0.00</td>\n",
       "      <td>0.00</td>\n",
       "    </tr>\n",
       "    <tr>\n",
       "      <th>3</th>\n",
       "      <td>a1101645</td>\n",
       "      <td>2020-05-26</td>\n",
       "      <td>2020-05</td>\n",
       "      <td>2021-02-23</td>\n",
       "      <td>2</td>\n",
       "      <td>8</td>\n",
       "      <td>1</td>\n",
       "      <td>1</td>\n",
       "      <td>1.00</td>\n",
       "      <td>0.00</td>\n",
       "      <td>1.00</td>\n",
       "      <td>0.00</td>\n",
       "      <td>0</td>\n",
       "      <td>0.00</td>\n",
       "      <td>1.00</td>\n",
       "      <td>0.00</td>\n",
       "      <td>0.00</td>\n",
       "      <td>0.00</td>\n",
       "      <td>0.00</td>\n",
       "    </tr>\n",
       "    <tr>\n",
       "      <th>4</th>\n",
       "      <td>a1102068</td>\n",
       "      <td>2020-05-29</td>\n",
       "      <td>2020-05</td>\n",
       "      <td>2021-03-04</td>\n",
       "      <td>3</td>\n",
       "      <td>9</td>\n",
       "      <td>3</td>\n",
       "      <td>1</td>\n",
       "      <td>0.00</td>\n",
       "      <td>1.00</td>\n",
       "      <td>0.00</td>\n",
       "      <td>1.00</td>\n",
       "      <td>0</td>\n",
       "      <td>0.00</td>\n",
       "      <td>1.00</td>\n",
       "      <td>0.00</td>\n",
       "      <td>0.00</td>\n",
       "      <td>0.00</td>\n",
       "      <td>0.00</td>\n",
       "    </tr>\n",
       "  </tbody>\n",
       "</table>\n",
       "</div>"
      ],
      "text/plain": [
       "       user    reg_date reg_yearmonth  order_date  order_month  order_week  \\\n",
       "0  a1100548  2020-05-16  2020-05       2021-03-31  3            13           \n",
       "1  a1100887  2020-05-19  2020-05       2021-03-29  3            13           \n",
       "2  a1101514  2020-05-25  2020-05       2021-02-05  2            5            \n",
       "3  a1101645  2020-05-26  2020-05       2021-02-23  2            8            \n",
       "4  a1102068  2020-05-29  2020-05       2021-03-04  3            9            \n",
       "\n",
       "   order_dayofweek  order_count  4days  7days    0    1  brandnm_luxury    B  \\\n",
       "0  2                2           2.00   0.00   0.00 2.00  0              1.00   \n",
       "1  0                1           0.00   1.00   0.00 1.00  0              0.00   \n",
       "2  4                1           1.00   0.00   0.00 1.00  0              0.00   \n",
       "3  1                1           1.00   0.00   1.00 0.00  0              0.00   \n",
       "4  3                1           0.00   1.00   0.00 1.00  0              0.00   \n",
       "\n",
       "    BA    D    O    T   TP  \n",
       "0 1.00 0.00 0.00 0.00 0.00  \n",
       "1 1.00 0.00 0.00 0.00 0.00  \n",
       "2 0.00 0.00 1.00 0.00 0.00  \n",
       "3 1.00 0.00 0.00 0.00 0.00  \n",
       "4 1.00 0.00 0.00 0.00 0.00  "
      ]
     },
     "execution_count": 217,
     "metadata": {},
     "output_type": "execute_result"
    }
   ],
   "source": [
    "# df_user 유저 기본 정보 테이블생성\n",
    "df_user = df.groupby(['user','reg_date','reg_yearmonth','order_date','order_month','order_week','order_dayofweek'])['goodsnm'].count().to_frame().reset_index().rename(columns={'goodsnm':'order_count'}) \n",
    "ptype = df.pivot_table(index='user', columns='p_type',values= 'order_date',aggfunc='count').fillna(0).reset_index()\n",
    "subtype = df.pivot_table(index='user', columns='sub_type',values= 'order_date',aggfunc='count').fillna(0).reset_index()\n",
    "app = df.pivot_table(index='user', columns='app_yn',values= 'order_date',aggfunc='count').fillna(0).reset_index().rename(columns={'Y':'app'}) \n",
    "\n",
    "# merge\n",
    "df_user = df_user.merge(ptype, how='left', on='user').merge(app, how='left', on='user').merge(luxury, how='left', on='user').merge(subtype, how='left', on='user').fillna(0)\n",
    "df_user.head(5)"
   ]
  },
  {
   "cell_type": "code",
   "execution_count": 218,
   "metadata": {
    "ExecuteTime": {
     "end_time": "2021-05-18T16:34:35.315388Z",
     "start_time": "2021-05-18T16:34:35.196703Z"
    },
    "scrolled": false
   },
   "outputs": [
    {
     "data": {
      "application/vnd.plotly.v1+json": {
       "config": {
        "plotlyServerURL": "https://plot.ly"
       },
       "data": [
        {
         "alignmentgroup": "True",
         "hovertemplate": "order_date=%{x}<br>order_count=%{y}<extra></extra>",
         "legendgroup": "",
         "marker": {
          "color": "#636efa"
         },
         "name": "",
         "offsetgroup": "",
         "orientation": "v",
         "showlegend": false,
         "textposition": "auto",
         "type": "bar",
         "x": [
          "2021-01-01",
          "2021-01-02",
          "2021-01-03",
          "2021-01-04",
          "2021-01-05",
          "2021-01-06",
          "2021-01-07",
          "2021-01-08",
          "2021-01-09",
          "2021-01-10",
          "2021-01-11",
          "2021-01-12",
          "2021-01-13",
          "2021-01-14",
          "2021-01-15",
          "2021-01-16",
          "2021-01-17",
          "2021-01-18",
          "2021-01-19",
          "2021-01-20",
          "2021-01-21",
          "2021-01-22",
          "2021-01-23",
          "2021-01-24",
          "2021-01-25",
          "2021-01-26",
          "2021-01-27",
          "2021-01-28",
          "2021-01-29",
          "2021-01-30",
          "2021-01-31",
          "2021-02-01",
          "2021-02-02",
          "2021-02-03",
          "2021-02-04",
          "2021-02-05",
          "2021-02-06",
          "2021-02-07",
          "2021-02-08",
          "2021-02-09",
          "2021-02-10",
          "2021-02-11",
          "2021-02-12",
          "2021-02-13",
          "2021-02-14",
          "2021-02-15",
          "2021-02-16",
          "2021-02-17",
          "2021-02-18",
          "2021-02-19",
          "2021-02-20",
          "2021-02-21",
          "2021-02-22",
          "2021-02-23",
          "2021-02-24",
          "2021-02-25",
          "2021-02-26",
          "2021-02-27",
          "2021-02-28",
          "2021-03-01",
          "2021-03-02",
          "2021-03-03",
          "2021-03-04",
          "2021-03-05",
          "2021-03-06",
          "2021-03-07",
          "2021-03-08",
          "2021-03-09",
          "2021-03-10",
          "2021-03-11",
          "2021-03-12",
          "2021-03-13",
          "2021-03-14",
          "2021-03-15",
          "2021-03-16",
          "2021-03-17",
          "2021-03-18",
          "2021-03-19",
          "2021-03-20",
          "2021-03-21",
          "2021-03-22",
          "2021-03-23",
          "2021-03-24",
          "2021-03-25",
          "2021-03-26",
          "2021-03-27",
          "2021-03-28",
          "2021-03-29",
          "2021-03-30",
          "2021-03-31"
         ],
         "xaxis": "x",
         "y": [
          4,
          1,
          6,
          7,
          14,
          10,
          9,
          11,
          2,
          7,
          8,
          8,
          14,
          19,
          16,
          3,
          7,
          21,
          17,
          24,
          38,
          15,
          4,
          7,
          14,
          24,
          19,
          25,
          6,
          9,
          6,
          9,
          29,
          21,
          33,
          27,
          6,
          7,
          15,
          18,
          3,
          1,
          7,
          6,
          9,
          17,
          28,
          24,
          28,
          19,
          1,
          4,
          24,
          23,
          33,
          29,
          20,
          2,
          10,
          18,
          20,
          28,
          27,
          11,
          6,
          8,
          12,
          27,
          30,
          21,
          12,
          8,
          7,
          19,
          26,
          42,
          25,
          24,
          12,
          8,
          17,
          35,
          47,
          27,
          22,
          2,
          17,
          21,
          22,
          37
         ],
         "yaxis": "y"
        }
       ],
       "layout": {
        "barmode": "relative",
        "height": 400,
        "legend": {
         "tracegroupgap": 0
        },
        "template": {
         "data": {
          "bar": [
           {
            "error_x": {
             "color": "#2a3f5f"
            },
            "error_y": {
             "color": "#2a3f5f"
            },
            "marker": {
             "line": {
              "color": "#E5ECF6",
              "width": 0.5
             }
            },
            "type": "bar"
           }
          ],
          "barpolar": [
           {
            "marker": {
             "line": {
              "color": "#E5ECF6",
              "width": 0.5
             }
            },
            "type": "barpolar"
           }
          ],
          "carpet": [
           {
            "aaxis": {
             "endlinecolor": "#2a3f5f",
             "gridcolor": "white",
             "linecolor": "white",
             "minorgridcolor": "white",
             "startlinecolor": "#2a3f5f"
            },
            "baxis": {
             "endlinecolor": "#2a3f5f",
             "gridcolor": "white",
             "linecolor": "white",
             "minorgridcolor": "white",
             "startlinecolor": "#2a3f5f"
            },
            "type": "carpet"
           }
          ],
          "choropleth": [
           {
            "colorbar": {
             "outlinewidth": 0,
             "ticks": ""
            },
            "type": "choropleth"
           }
          ],
          "contour": [
           {
            "colorbar": {
             "outlinewidth": 0,
             "ticks": ""
            },
            "colorscale": [
             [
              0,
              "#0d0887"
             ],
             [
              0.1111111111111111,
              "#46039f"
             ],
             [
              0.2222222222222222,
              "#7201a8"
             ],
             [
              0.3333333333333333,
              "#9c179e"
             ],
             [
              0.4444444444444444,
              "#bd3786"
             ],
             [
              0.5555555555555556,
              "#d8576b"
             ],
             [
              0.6666666666666666,
              "#ed7953"
             ],
             [
              0.7777777777777778,
              "#fb9f3a"
             ],
             [
              0.8888888888888888,
              "#fdca26"
             ],
             [
              1,
              "#f0f921"
             ]
            ],
            "type": "contour"
           }
          ],
          "contourcarpet": [
           {
            "colorbar": {
             "outlinewidth": 0,
             "ticks": ""
            },
            "type": "contourcarpet"
           }
          ],
          "heatmap": [
           {
            "colorbar": {
             "outlinewidth": 0,
             "ticks": ""
            },
            "colorscale": [
             [
              0,
              "#0d0887"
             ],
             [
              0.1111111111111111,
              "#46039f"
             ],
             [
              0.2222222222222222,
              "#7201a8"
             ],
             [
              0.3333333333333333,
              "#9c179e"
             ],
             [
              0.4444444444444444,
              "#bd3786"
             ],
             [
              0.5555555555555556,
              "#d8576b"
             ],
             [
              0.6666666666666666,
              "#ed7953"
             ],
             [
              0.7777777777777778,
              "#fb9f3a"
             ],
             [
              0.8888888888888888,
              "#fdca26"
             ],
             [
              1,
              "#f0f921"
             ]
            ],
            "type": "heatmap"
           }
          ],
          "heatmapgl": [
           {
            "colorbar": {
             "outlinewidth": 0,
             "ticks": ""
            },
            "colorscale": [
             [
              0,
              "#0d0887"
             ],
             [
              0.1111111111111111,
              "#46039f"
             ],
             [
              0.2222222222222222,
              "#7201a8"
             ],
             [
              0.3333333333333333,
              "#9c179e"
             ],
             [
              0.4444444444444444,
              "#bd3786"
             ],
             [
              0.5555555555555556,
              "#d8576b"
             ],
             [
              0.6666666666666666,
              "#ed7953"
             ],
             [
              0.7777777777777778,
              "#fb9f3a"
             ],
             [
              0.8888888888888888,
              "#fdca26"
             ],
             [
              1,
              "#f0f921"
             ]
            ],
            "type": "heatmapgl"
           }
          ],
          "histogram": [
           {
            "marker": {
             "colorbar": {
              "outlinewidth": 0,
              "ticks": ""
             }
            },
            "type": "histogram"
           }
          ],
          "histogram2d": [
           {
            "colorbar": {
             "outlinewidth": 0,
             "ticks": ""
            },
            "colorscale": [
             [
              0,
              "#0d0887"
             ],
             [
              0.1111111111111111,
              "#46039f"
             ],
             [
              0.2222222222222222,
              "#7201a8"
             ],
             [
              0.3333333333333333,
              "#9c179e"
             ],
             [
              0.4444444444444444,
              "#bd3786"
             ],
             [
              0.5555555555555556,
              "#d8576b"
             ],
             [
              0.6666666666666666,
              "#ed7953"
             ],
             [
              0.7777777777777778,
              "#fb9f3a"
             ],
             [
              0.8888888888888888,
              "#fdca26"
             ],
             [
              1,
              "#f0f921"
             ]
            ],
            "type": "histogram2d"
           }
          ],
          "histogram2dcontour": [
           {
            "colorbar": {
             "outlinewidth": 0,
             "ticks": ""
            },
            "colorscale": [
             [
              0,
              "#0d0887"
             ],
             [
              0.1111111111111111,
              "#46039f"
             ],
             [
              0.2222222222222222,
              "#7201a8"
             ],
             [
              0.3333333333333333,
              "#9c179e"
             ],
             [
              0.4444444444444444,
              "#bd3786"
             ],
             [
              0.5555555555555556,
              "#d8576b"
             ],
             [
              0.6666666666666666,
              "#ed7953"
             ],
             [
              0.7777777777777778,
              "#fb9f3a"
             ],
             [
              0.8888888888888888,
              "#fdca26"
             ],
             [
              1,
              "#f0f921"
             ]
            ],
            "type": "histogram2dcontour"
           }
          ],
          "mesh3d": [
           {
            "colorbar": {
             "outlinewidth": 0,
             "ticks": ""
            },
            "type": "mesh3d"
           }
          ],
          "parcoords": [
           {
            "line": {
             "colorbar": {
              "outlinewidth": 0,
              "ticks": ""
             }
            },
            "type": "parcoords"
           }
          ],
          "pie": [
           {
            "automargin": true,
            "type": "pie"
           }
          ],
          "scatter": [
           {
            "marker": {
             "colorbar": {
              "outlinewidth": 0,
              "ticks": ""
             }
            },
            "type": "scatter"
           }
          ],
          "scatter3d": [
           {
            "line": {
             "colorbar": {
              "outlinewidth": 0,
              "ticks": ""
             }
            },
            "marker": {
             "colorbar": {
              "outlinewidth": 0,
              "ticks": ""
             }
            },
            "type": "scatter3d"
           }
          ],
          "scattercarpet": [
           {
            "marker": {
             "colorbar": {
              "outlinewidth": 0,
              "ticks": ""
             }
            },
            "type": "scattercarpet"
           }
          ],
          "scattergeo": [
           {
            "marker": {
             "colorbar": {
              "outlinewidth": 0,
              "ticks": ""
             }
            },
            "type": "scattergeo"
           }
          ],
          "scattergl": [
           {
            "marker": {
             "colorbar": {
              "outlinewidth": 0,
              "ticks": ""
             }
            },
            "type": "scattergl"
           }
          ],
          "scattermapbox": [
           {
            "marker": {
             "colorbar": {
              "outlinewidth": 0,
              "ticks": ""
             }
            },
            "type": "scattermapbox"
           }
          ],
          "scatterpolar": [
           {
            "marker": {
             "colorbar": {
              "outlinewidth": 0,
              "ticks": ""
             }
            },
            "type": "scatterpolar"
           }
          ],
          "scatterpolargl": [
           {
            "marker": {
             "colorbar": {
              "outlinewidth": 0,
              "ticks": ""
             }
            },
            "type": "scatterpolargl"
           }
          ],
          "scatterternary": [
           {
            "marker": {
             "colorbar": {
              "outlinewidth": 0,
              "ticks": ""
             }
            },
            "type": "scatterternary"
           }
          ],
          "surface": [
           {
            "colorbar": {
             "outlinewidth": 0,
             "ticks": ""
            },
            "colorscale": [
             [
              0,
              "#0d0887"
             ],
             [
              0.1111111111111111,
              "#46039f"
             ],
             [
              0.2222222222222222,
              "#7201a8"
             ],
             [
              0.3333333333333333,
              "#9c179e"
             ],
             [
              0.4444444444444444,
              "#bd3786"
             ],
             [
              0.5555555555555556,
              "#d8576b"
             ],
             [
              0.6666666666666666,
              "#ed7953"
             ],
             [
              0.7777777777777778,
              "#fb9f3a"
             ],
             [
              0.8888888888888888,
              "#fdca26"
             ],
             [
              1,
              "#f0f921"
             ]
            ],
            "type": "surface"
           }
          ],
          "table": [
           {
            "cells": {
             "fill": {
              "color": "#EBF0F8"
             },
             "line": {
              "color": "white"
             }
            },
            "header": {
             "fill": {
              "color": "#C8D4E3"
             },
             "line": {
              "color": "white"
             }
            },
            "type": "table"
           }
          ]
         },
         "layout": {
          "annotationdefaults": {
           "arrowcolor": "#2a3f5f",
           "arrowhead": 0,
           "arrowwidth": 1
          },
          "coloraxis": {
           "colorbar": {
            "outlinewidth": 0,
            "ticks": ""
           }
          },
          "colorscale": {
           "diverging": [
            [
             0,
             "#8e0152"
            ],
            [
             0.1,
             "#c51b7d"
            ],
            [
             0.2,
             "#de77ae"
            ],
            [
             0.3,
             "#f1b6da"
            ],
            [
             0.4,
             "#fde0ef"
            ],
            [
             0.5,
             "#f7f7f7"
            ],
            [
             0.6,
             "#e6f5d0"
            ],
            [
             0.7,
             "#b8e186"
            ],
            [
             0.8,
             "#7fbc41"
            ],
            [
             0.9,
             "#4d9221"
            ],
            [
             1,
             "#276419"
            ]
           ],
           "sequential": [
            [
             0,
             "#0d0887"
            ],
            [
             0.1111111111111111,
             "#46039f"
            ],
            [
             0.2222222222222222,
             "#7201a8"
            ],
            [
             0.3333333333333333,
             "#9c179e"
            ],
            [
             0.4444444444444444,
             "#bd3786"
            ],
            [
             0.5555555555555556,
             "#d8576b"
            ],
            [
             0.6666666666666666,
             "#ed7953"
            ],
            [
             0.7777777777777778,
             "#fb9f3a"
            ],
            [
             0.8888888888888888,
             "#fdca26"
            ],
            [
             1,
             "#f0f921"
            ]
           ],
           "sequentialminus": [
            [
             0,
             "#0d0887"
            ],
            [
             0.1111111111111111,
             "#46039f"
            ],
            [
             0.2222222222222222,
             "#7201a8"
            ],
            [
             0.3333333333333333,
             "#9c179e"
            ],
            [
             0.4444444444444444,
             "#bd3786"
            ],
            [
             0.5555555555555556,
             "#d8576b"
            ],
            [
             0.6666666666666666,
             "#ed7953"
            ],
            [
             0.7777777777777778,
             "#fb9f3a"
            ],
            [
             0.8888888888888888,
             "#fdca26"
            ],
            [
             1,
             "#f0f921"
            ]
           ]
          },
          "colorway": [
           "#636efa",
           "#EF553B",
           "#00cc96",
           "#ab63fa",
           "#FFA15A",
           "#19d3f3",
           "#FF6692",
           "#B6E880",
           "#FF97FF",
           "#FECB52"
          ],
          "font": {
           "color": "#2a3f5f"
          },
          "geo": {
           "bgcolor": "white",
           "lakecolor": "white",
           "landcolor": "#E5ECF6",
           "showlakes": true,
           "showland": true,
           "subunitcolor": "white"
          },
          "hoverlabel": {
           "align": "left"
          },
          "hovermode": "closest",
          "mapbox": {
           "style": "light"
          },
          "paper_bgcolor": "white",
          "plot_bgcolor": "#E5ECF6",
          "polar": {
           "angularaxis": {
            "gridcolor": "white",
            "linecolor": "white",
            "ticks": ""
           },
           "bgcolor": "#E5ECF6",
           "radialaxis": {
            "gridcolor": "white",
            "linecolor": "white",
            "ticks": ""
           }
          },
          "scene": {
           "xaxis": {
            "backgroundcolor": "#E5ECF6",
            "gridcolor": "white",
            "gridwidth": 2,
            "linecolor": "white",
            "showbackground": true,
            "ticks": "",
            "zerolinecolor": "white"
           },
           "yaxis": {
            "backgroundcolor": "#E5ECF6",
            "gridcolor": "white",
            "gridwidth": 2,
            "linecolor": "white",
            "showbackground": true,
            "ticks": "",
            "zerolinecolor": "white"
           },
           "zaxis": {
            "backgroundcolor": "#E5ECF6",
            "gridcolor": "white",
            "gridwidth": 2,
            "linecolor": "white",
            "showbackground": true,
            "ticks": "",
            "zerolinecolor": "white"
           }
          },
          "shapedefaults": {
           "line": {
            "color": "#2a3f5f"
           }
          },
          "ternary": {
           "aaxis": {
            "gridcolor": "white",
            "linecolor": "white",
            "ticks": ""
           },
           "baxis": {
            "gridcolor": "white",
            "linecolor": "white",
            "ticks": ""
           },
           "bgcolor": "#E5ECF6",
           "caxis": {
            "gridcolor": "white",
            "linecolor": "white",
            "ticks": ""
           }
          },
          "title": {
           "x": 0.05
          },
          "xaxis": {
           "automargin": true,
           "gridcolor": "white",
           "linecolor": "white",
           "ticks": "",
           "title": {
            "standoff": 15
           },
           "zerolinecolor": "white",
           "zerolinewidth": 2
          },
          "yaxis": {
           "automargin": true,
           "gridcolor": "white",
           "linecolor": "white",
           "ticks": "",
           "title": {
            "standoff": 15
           },
           "zerolinecolor": "white",
           "zerolinewidth": 2
          }
         }
        },
        "title": {
         "text": "Daily 주문 수량"
        },
        "width": 700,
        "xaxis": {
         "anchor": "y",
         "domain": [
          0,
          1
         ],
         "title": {
          "text": "order_date"
         }
        },
        "yaxis": {
         "anchor": "x",
         "domain": [
          0,
          1
         ],
         "title": {
          "text": "order_count"
         }
        }
       }
      },
      "text/html": [
       "<div>                            <div id=\"1ec32f88-bd16-4b01-816b-e0b0dc0abc79\" class=\"plotly-graph-div\" style=\"height:400px; width:700px;\"></div>            <script type=\"text/javascript\">                require([\"plotly\"], function(Plotly) {                    window.PLOTLYENV=window.PLOTLYENV || {};                                    if (document.getElementById(\"1ec32f88-bd16-4b01-816b-e0b0dc0abc79\")) {                    Plotly.newPlot(                        \"1ec32f88-bd16-4b01-816b-e0b0dc0abc79\",                        [{\"alignmentgroup\": \"True\", \"hovertemplate\": \"order_date=%{x}<br>order_count=%{y}<extra></extra>\", \"legendgroup\": \"\", \"marker\": {\"color\": \"#636efa\"}, \"name\": \"\", \"offsetgroup\": \"\", \"orientation\": \"v\", \"showlegend\": false, \"textposition\": \"auto\", \"type\": \"bar\", \"x\": [\"2021-01-01\", \"2021-01-02\", \"2021-01-03\", \"2021-01-04\", \"2021-01-05\", \"2021-01-06\", \"2021-01-07\", \"2021-01-08\", \"2021-01-09\", \"2021-01-10\", \"2021-01-11\", \"2021-01-12\", \"2021-01-13\", \"2021-01-14\", \"2021-01-15\", \"2021-01-16\", \"2021-01-17\", \"2021-01-18\", \"2021-01-19\", \"2021-01-20\", \"2021-01-21\", \"2021-01-22\", \"2021-01-23\", \"2021-01-24\", \"2021-01-25\", \"2021-01-26\", \"2021-01-27\", \"2021-01-28\", \"2021-01-29\", \"2021-01-30\", \"2021-01-31\", \"2021-02-01\", \"2021-02-02\", \"2021-02-03\", \"2021-02-04\", \"2021-02-05\", \"2021-02-06\", \"2021-02-07\", \"2021-02-08\", \"2021-02-09\", \"2021-02-10\", \"2021-02-11\", \"2021-02-12\", \"2021-02-13\", \"2021-02-14\", \"2021-02-15\", \"2021-02-16\", \"2021-02-17\", \"2021-02-18\", \"2021-02-19\", \"2021-02-20\", \"2021-02-21\", \"2021-02-22\", \"2021-02-23\", \"2021-02-24\", \"2021-02-25\", \"2021-02-26\", \"2021-02-27\", \"2021-02-28\", \"2021-03-01\", \"2021-03-02\", \"2021-03-03\", \"2021-03-04\", \"2021-03-05\", \"2021-03-06\", \"2021-03-07\", \"2021-03-08\", \"2021-03-09\", \"2021-03-10\", \"2021-03-11\", \"2021-03-12\", \"2021-03-13\", \"2021-03-14\", \"2021-03-15\", \"2021-03-16\", \"2021-03-17\", \"2021-03-18\", \"2021-03-19\", \"2021-03-20\", \"2021-03-21\", \"2021-03-22\", \"2021-03-23\", \"2021-03-24\", \"2021-03-25\", \"2021-03-26\", \"2021-03-27\", \"2021-03-28\", \"2021-03-29\", \"2021-03-30\", \"2021-03-31\"], \"xaxis\": \"x\", \"y\": [4, 1, 6, 7, 14, 10, 9, 11, 2, 7, 8, 8, 14, 19, 16, 3, 7, 21, 17, 24, 38, 15, 4, 7, 14, 24, 19, 25, 6, 9, 6, 9, 29, 21, 33, 27, 6, 7, 15, 18, 3, 1, 7, 6, 9, 17, 28, 24, 28, 19, 1, 4, 24, 23, 33, 29, 20, 2, 10, 18, 20, 28, 27, 11, 6, 8, 12, 27, 30, 21, 12, 8, 7, 19, 26, 42, 25, 24, 12, 8, 17, 35, 47, 27, 22, 2, 17, 21, 22, 37], \"yaxis\": \"y\"}],                        {\"barmode\": \"relative\", \"height\": 400, \"legend\": {\"tracegroupgap\": 0}, \"template\": {\"data\": {\"bar\": [{\"error_x\": {\"color\": \"#2a3f5f\"}, \"error_y\": {\"color\": \"#2a3f5f\"}, \"marker\": {\"line\": {\"color\": \"#E5ECF6\", \"width\": 0.5}}, \"type\": \"bar\"}], \"barpolar\": [{\"marker\": {\"line\": {\"color\": \"#E5ECF6\", \"width\": 0.5}}, \"type\": \"barpolar\"}], \"carpet\": [{\"aaxis\": {\"endlinecolor\": \"#2a3f5f\", \"gridcolor\": \"white\", \"linecolor\": \"white\", \"minorgridcolor\": \"white\", \"startlinecolor\": \"#2a3f5f\"}, \"baxis\": {\"endlinecolor\": \"#2a3f5f\", \"gridcolor\": \"white\", \"linecolor\": \"white\", \"minorgridcolor\": \"white\", \"startlinecolor\": \"#2a3f5f\"}, \"type\": \"carpet\"}], \"choropleth\": [{\"colorbar\": {\"outlinewidth\": 0, \"ticks\": \"\"}, \"type\": \"choropleth\"}], \"contour\": [{\"colorbar\": {\"outlinewidth\": 0, \"ticks\": \"\"}, \"colorscale\": [[0.0, \"#0d0887\"], [0.1111111111111111, \"#46039f\"], [0.2222222222222222, \"#7201a8\"], [0.3333333333333333, \"#9c179e\"], [0.4444444444444444, \"#bd3786\"], [0.5555555555555556, \"#d8576b\"], [0.6666666666666666, \"#ed7953\"], [0.7777777777777778, \"#fb9f3a\"], [0.8888888888888888, \"#fdca26\"], [1.0, \"#f0f921\"]], \"type\": \"contour\"}], \"contourcarpet\": [{\"colorbar\": {\"outlinewidth\": 0, \"ticks\": \"\"}, \"type\": \"contourcarpet\"}], \"heatmap\": [{\"colorbar\": {\"outlinewidth\": 0, \"ticks\": \"\"}, \"colorscale\": [[0.0, \"#0d0887\"], [0.1111111111111111, \"#46039f\"], [0.2222222222222222, \"#7201a8\"], [0.3333333333333333, \"#9c179e\"], [0.4444444444444444, \"#bd3786\"], [0.5555555555555556, \"#d8576b\"], [0.6666666666666666, \"#ed7953\"], [0.7777777777777778, \"#fb9f3a\"], [0.8888888888888888, \"#fdca26\"], [1.0, \"#f0f921\"]], \"type\": \"heatmap\"}], \"heatmapgl\": [{\"colorbar\": {\"outlinewidth\": 0, \"ticks\": \"\"}, \"colorscale\": [[0.0, \"#0d0887\"], [0.1111111111111111, \"#46039f\"], [0.2222222222222222, \"#7201a8\"], [0.3333333333333333, \"#9c179e\"], [0.4444444444444444, \"#bd3786\"], [0.5555555555555556, \"#d8576b\"], [0.6666666666666666, \"#ed7953\"], [0.7777777777777778, \"#fb9f3a\"], [0.8888888888888888, \"#fdca26\"], [1.0, \"#f0f921\"]], \"type\": \"heatmapgl\"}], \"histogram\": [{\"marker\": {\"colorbar\": {\"outlinewidth\": 0, \"ticks\": \"\"}}, \"type\": \"histogram\"}], \"histogram2d\": [{\"colorbar\": {\"outlinewidth\": 0, \"ticks\": \"\"}, \"colorscale\": [[0.0, \"#0d0887\"], [0.1111111111111111, \"#46039f\"], [0.2222222222222222, \"#7201a8\"], [0.3333333333333333, \"#9c179e\"], [0.4444444444444444, \"#bd3786\"], [0.5555555555555556, \"#d8576b\"], [0.6666666666666666, \"#ed7953\"], [0.7777777777777778, \"#fb9f3a\"], [0.8888888888888888, \"#fdca26\"], [1.0, \"#f0f921\"]], \"type\": \"histogram2d\"}], \"histogram2dcontour\": [{\"colorbar\": {\"outlinewidth\": 0, \"ticks\": \"\"}, \"colorscale\": [[0.0, \"#0d0887\"], [0.1111111111111111, \"#46039f\"], [0.2222222222222222, \"#7201a8\"], [0.3333333333333333, \"#9c179e\"], [0.4444444444444444, \"#bd3786\"], [0.5555555555555556, \"#d8576b\"], [0.6666666666666666, \"#ed7953\"], [0.7777777777777778, \"#fb9f3a\"], [0.8888888888888888, \"#fdca26\"], [1.0, \"#f0f921\"]], \"type\": \"histogram2dcontour\"}], \"mesh3d\": [{\"colorbar\": {\"outlinewidth\": 0, \"ticks\": \"\"}, \"type\": \"mesh3d\"}], \"parcoords\": [{\"line\": {\"colorbar\": {\"outlinewidth\": 0, \"ticks\": \"\"}}, \"type\": \"parcoords\"}], \"pie\": [{\"automargin\": true, \"type\": \"pie\"}], \"scatter\": [{\"marker\": {\"colorbar\": {\"outlinewidth\": 0, \"ticks\": \"\"}}, \"type\": \"scatter\"}], \"scatter3d\": [{\"line\": {\"colorbar\": {\"outlinewidth\": 0, \"ticks\": \"\"}}, \"marker\": {\"colorbar\": {\"outlinewidth\": 0, \"ticks\": \"\"}}, \"type\": \"scatter3d\"}], \"scattercarpet\": [{\"marker\": {\"colorbar\": {\"outlinewidth\": 0, \"ticks\": \"\"}}, \"type\": \"scattercarpet\"}], \"scattergeo\": [{\"marker\": {\"colorbar\": {\"outlinewidth\": 0, \"ticks\": \"\"}}, \"type\": \"scattergeo\"}], \"scattergl\": [{\"marker\": {\"colorbar\": {\"outlinewidth\": 0, \"ticks\": \"\"}}, \"type\": \"scattergl\"}], \"scattermapbox\": [{\"marker\": {\"colorbar\": {\"outlinewidth\": 0, \"ticks\": \"\"}}, \"type\": \"scattermapbox\"}], \"scatterpolar\": [{\"marker\": {\"colorbar\": {\"outlinewidth\": 0, \"ticks\": \"\"}}, \"type\": \"scatterpolar\"}], \"scatterpolargl\": [{\"marker\": {\"colorbar\": {\"outlinewidth\": 0, \"ticks\": \"\"}}, \"type\": \"scatterpolargl\"}], \"scatterternary\": [{\"marker\": {\"colorbar\": {\"outlinewidth\": 0, \"ticks\": \"\"}}, \"type\": \"scatterternary\"}], \"surface\": [{\"colorbar\": {\"outlinewidth\": 0, \"ticks\": \"\"}, \"colorscale\": [[0.0, \"#0d0887\"], [0.1111111111111111, \"#46039f\"], [0.2222222222222222, \"#7201a8\"], [0.3333333333333333, \"#9c179e\"], [0.4444444444444444, \"#bd3786\"], [0.5555555555555556, \"#d8576b\"], [0.6666666666666666, \"#ed7953\"], [0.7777777777777778, \"#fb9f3a\"], [0.8888888888888888, \"#fdca26\"], [1.0, \"#f0f921\"]], \"type\": \"surface\"}], \"table\": [{\"cells\": {\"fill\": {\"color\": \"#EBF0F8\"}, \"line\": {\"color\": \"white\"}}, \"header\": {\"fill\": {\"color\": \"#C8D4E3\"}, \"line\": {\"color\": \"white\"}}, \"type\": \"table\"}]}, \"layout\": {\"annotationdefaults\": {\"arrowcolor\": \"#2a3f5f\", \"arrowhead\": 0, \"arrowwidth\": 1}, \"coloraxis\": {\"colorbar\": {\"outlinewidth\": 0, \"ticks\": \"\"}}, \"colorscale\": {\"diverging\": [[0, \"#8e0152\"], [0.1, \"#c51b7d\"], [0.2, \"#de77ae\"], [0.3, \"#f1b6da\"], [0.4, \"#fde0ef\"], [0.5, \"#f7f7f7\"], [0.6, \"#e6f5d0\"], [0.7, \"#b8e186\"], [0.8, \"#7fbc41\"], [0.9, \"#4d9221\"], [1, \"#276419\"]], \"sequential\": [[0.0, \"#0d0887\"], [0.1111111111111111, \"#46039f\"], [0.2222222222222222, \"#7201a8\"], [0.3333333333333333, \"#9c179e\"], [0.4444444444444444, \"#bd3786\"], [0.5555555555555556, \"#d8576b\"], [0.6666666666666666, \"#ed7953\"], [0.7777777777777778, \"#fb9f3a\"], [0.8888888888888888, \"#fdca26\"], [1.0, \"#f0f921\"]], \"sequentialminus\": [[0.0, \"#0d0887\"], [0.1111111111111111, \"#46039f\"], [0.2222222222222222, \"#7201a8\"], [0.3333333333333333, \"#9c179e\"], [0.4444444444444444, \"#bd3786\"], [0.5555555555555556, \"#d8576b\"], [0.6666666666666666, \"#ed7953\"], [0.7777777777777778, \"#fb9f3a\"], [0.8888888888888888, \"#fdca26\"], [1.0, \"#f0f921\"]]}, \"colorway\": [\"#636efa\", \"#EF553B\", \"#00cc96\", \"#ab63fa\", \"#FFA15A\", \"#19d3f3\", \"#FF6692\", \"#B6E880\", \"#FF97FF\", \"#FECB52\"], \"font\": {\"color\": \"#2a3f5f\"}, \"geo\": {\"bgcolor\": \"white\", \"lakecolor\": \"white\", \"landcolor\": \"#E5ECF6\", \"showlakes\": true, \"showland\": true, \"subunitcolor\": \"white\"}, \"hoverlabel\": {\"align\": \"left\"}, \"hovermode\": \"closest\", \"mapbox\": {\"style\": \"light\"}, \"paper_bgcolor\": \"white\", \"plot_bgcolor\": \"#E5ECF6\", \"polar\": {\"angularaxis\": {\"gridcolor\": \"white\", \"linecolor\": \"white\", \"ticks\": \"\"}, \"bgcolor\": \"#E5ECF6\", \"radialaxis\": {\"gridcolor\": \"white\", \"linecolor\": \"white\", \"ticks\": \"\"}}, \"scene\": {\"xaxis\": {\"backgroundcolor\": \"#E5ECF6\", \"gridcolor\": \"white\", \"gridwidth\": 2, \"linecolor\": \"white\", \"showbackground\": true, \"ticks\": \"\", \"zerolinecolor\": \"white\"}, \"yaxis\": {\"backgroundcolor\": \"#E5ECF6\", \"gridcolor\": \"white\", \"gridwidth\": 2, \"linecolor\": \"white\", \"showbackground\": true, \"ticks\": \"\", \"zerolinecolor\": \"white\"}, \"zaxis\": {\"backgroundcolor\": \"#E5ECF6\", \"gridcolor\": \"white\", \"gridwidth\": 2, \"linecolor\": \"white\", \"showbackground\": true, \"ticks\": \"\", \"zerolinecolor\": \"white\"}}, \"shapedefaults\": {\"line\": {\"color\": \"#2a3f5f\"}}, \"ternary\": {\"aaxis\": {\"gridcolor\": \"white\", \"linecolor\": \"white\", \"ticks\": \"\"}, \"baxis\": {\"gridcolor\": \"white\", \"linecolor\": \"white\", \"ticks\": \"\"}, \"bgcolor\": \"#E5ECF6\", \"caxis\": {\"gridcolor\": \"white\", \"linecolor\": \"white\", \"ticks\": \"\"}}, \"title\": {\"x\": 0.05}, \"xaxis\": {\"automargin\": true, \"gridcolor\": \"white\", \"linecolor\": \"white\", \"ticks\": \"\", \"title\": {\"standoff\": 15}, \"zerolinecolor\": \"white\", \"zerolinewidth\": 2}, \"yaxis\": {\"automargin\": true, \"gridcolor\": \"white\", \"linecolor\": \"white\", \"ticks\": \"\", \"title\": {\"standoff\": 15}, \"zerolinecolor\": \"white\", \"zerolinewidth\": 2}}}, \"title\": {\"text\": \"Daily \\uc8fc\\ubb38 \\uc218\\ub7c9\"}, \"width\": 700, \"xaxis\": {\"anchor\": \"y\", \"domain\": [0.0, 1.0], \"title\": {\"text\": \"order_date\"}}, \"yaxis\": {\"anchor\": \"x\", \"domain\": [0.0, 1.0], \"title\": {\"text\": \"order_count\"}}},                        {\"responsive\": true}                    ).then(function(){\n",
       "                            \n",
       "var gd = document.getElementById('1ec32f88-bd16-4b01-816b-e0b0dc0abc79');\n",
       "var x = new MutationObserver(function (mutations, observer) {{\n",
       "        var display = window.getComputedStyle(gd).display;\n",
       "        if (!display || display === 'none') {{\n",
       "            console.log([gd, 'removed!']);\n",
       "            Plotly.purge(gd);\n",
       "            observer.disconnect();\n",
       "        }}\n",
       "}});\n",
       "\n",
       "// Listen for the removal of the full notebook cells\n",
       "var notebookContainer = gd.closest('#notebook-container');\n",
       "if (notebookContainer) {{\n",
       "    x.observe(notebookContainer, {childList: true});\n",
       "}}\n",
       "\n",
       "// Listen for the clearing of the current output cell\n",
       "var outputEl = gd.closest('.output');\n",
       "if (outputEl) {{\n",
       "    x.observe(outputEl, {childList: true});\n",
       "}}\n",
       "\n",
       "                        })                };                });            </script>        </div>"
      ]
     },
     "metadata": {},
     "output_type": "display_data"
    }
   ],
   "source": [
    "px.bar(df_user.groupby('order_date').sum(),y='order_count',title='Daily 주문 수량',width=700, height=400)"
   ]
  },
  {
   "cell_type": "code",
   "execution_count": 219,
   "metadata": {
    "ExecuteTime": {
     "end_time": "2021-05-18T16:34:35.856455Z",
     "start_time": "2021-05-18T16:34:35.755212Z"
    },
    "scrolled": false
   },
   "outputs": [
    {
     "data": {
      "application/vnd.plotly.v1+json": {
       "config": {
        "plotlyServerURL": "https://plot.ly"
       },
       "data": [
        {
         "alignmentgroup": "True",
         "hovertemplate": "order_week=%{x}<br>order_count=%{y}<extra></extra>",
         "legendgroup": "",
         "marker": {
          "color": "#636efa"
         },
         "name": "",
         "offsetgroup": "",
         "orientation": "v",
         "showlegend": false,
         "textposition": "auto",
         "type": "bar",
         "x": [
          1,
          2,
          3,
          4,
          5,
          6,
          7,
          8,
          9,
          10,
          11,
          12,
          13,
          53
         ],
         "xaxis": "x",
         "y": [
          60,
          75,
          126,
          103,
          132,
          59,
          121,
          141,
          118,
          117,
          156,
          167,
          80,
          11
         ],
         "yaxis": "y"
        }
       ],
       "layout": {
        "barmode": "relative",
        "height": 400,
        "legend": {
         "tracegroupgap": 0
        },
        "template": {
         "data": {
          "bar": [
           {
            "error_x": {
             "color": "#2a3f5f"
            },
            "error_y": {
             "color": "#2a3f5f"
            },
            "marker": {
             "line": {
              "color": "#E5ECF6",
              "width": 0.5
             }
            },
            "type": "bar"
           }
          ],
          "barpolar": [
           {
            "marker": {
             "line": {
              "color": "#E5ECF6",
              "width": 0.5
             }
            },
            "type": "barpolar"
           }
          ],
          "carpet": [
           {
            "aaxis": {
             "endlinecolor": "#2a3f5f",
             "gridcolor": "white",
             "linecolor": "white",
             "minorgridcolor": "white",
             "startlinecolor": "#2a3f5f"
            },
            "baxis": {
             "endlinecolor": "#2a3f5f",
             "gridcolor": "white",
             "linecolor": "white",
             "minorgridcolor": "white",
             "startlinecolor": "#2a3f5f"
            },
            "type": "carpet"
           }
          ],
          "choropleth": [
           {
            "colorbar": {
             "outlinewidth": 0,
             "ticks": ""
            },
            "type": "choropleth"
           }
          ],
          "contour": [
           {
            "colorbar": {
             "outlinewidth": 0,
             "ticks": ""
            },
            "colorscale": [
             [
              0,
              "#0d0887"
             ],
             [
              0.1111111111111111,
              "#46039f"
             ],
             [
              0.2222222222222222,
              "#7201a8"
             ],
             [
              0.3333333333333333,
              "#9c179e"
             ],
             [
              0.4444444444444444,
              "#bd3786"
             ],
             [
              0.5555555555555556,
              "#d8576b"
             ],
             [
              0.6666666666666666,
              "#ed7953"
             ],
             [
              0.7777777777777778,
              "#fb9f3a"
             ],
             [
              0.8888888888888888,
              "#fdca26"
             ],
             [
              1,
              "#f0f921"
             ]
            ],
            "type": "contour"
           }
          ],
          "contourcarpet": [
           {
            "colorbar": {
             "outlinewidth": 0,
             "ticks": ""
            },
            "type": "contourcarpet"
           }
          ],
          "heatmap": [
           {
            "colorbar": {
             "outlinewidth": 0,
             "ticks": ""
            },
            "colorscale": [
             [
              0,
              "#0d0887"
             ],
             [
              0.1111111111111111,
              "#46039f"
             ],
             [
              0.2222222222222222,
              "#7201a8"
             ],
             [
              0.3333333333333333,
              "#9c179e"
             ],
             [
              0.4444444444444444,
              "#bd3786"
             ],
             [
              0.5555555555555556,
              "#d8576b"
             ],
             [
              0.6666666666666666,
              "#ed7953"
             ],
             [
              0.7777777777777778,
              "#fb9f3a"
             ],
             [
              0.8888888888888888,
              "#fdca26"
             ],
             [
              1,
              "#f0f921"
             ]
            ],
            "type": "heatmap"
           }
          ],
          "heatmapgl": [
           {
            "colorbar": {
             "outlinewidth": 0,
             "ticks": ""
            },
            "colorscale": [
             [
              0,
              "#0d0887"
             ],
             [
              0.1111111111111111,
              "#46039f"
             ],
             [
              0.2222222222222222,
              "#7201a8"
             ],
             [
              0.3333333333333333,
              "#9c179e"
             ],
             [
              0.4444444444444444,
              "#bd3786"
             ],
             [
              0.5555555555555556,
              "#d8576b"
             ],
             [
              0.6666666666666666,
              "#ed7953"
             ],
             [
              0.7777777777777778,
              "#fb9f3a"
             ],
             [
              0.8888888888888888,
              "#fdca26"
             ],
             [
              1,
              "#f0f921"
             ]
            ],
            "type": "heatmapgl"
           }
          ],
          "histogram": [
           {
            "marker": {
             "colorbar": {
              "outlinewidth": 0,
              "ticks": ""
             }
            },
            "type": "histogram"
           }
          ],
          "histogram2d": [
           {
            "colorbar": {
             "outlinewidth": 0,
             "ticks": ""
            },
            "colorscale": [
             [
              0,
              "#0d0887"
             ],
             [
              0.1111111111111111,
              "#46039f"
             ],
             [
              0.2222222222222222,
              "#7201a8"
             ],
             [
              0.3333333333333333,
              "#9c179e"
             ],
             [
              0.4444444444444444,
              "#bd3786"
             ],
             [
              0.5555555555555556,
              "#d8576b"
             ],
             [
              0.6666666666666666,
              "#ed7953"
             ],
             [
              0.7777777777777778,
              "#fb9f3a"
             ],
             [
              0.8888888888888888,
              "#fdca26"
             ],
             [
              1,
              "#f0f921"
             ]
            ],
            "type": "histogram2d"
           }
          ],
          "histogram2dcontour": [
           {
            "colorbar": {
             "outlinewidth": 0,
             "ticks": ""
            },
            "colorscale": [
             [
              0,
              "#0d0887"
             ],
             [
              0.1111111111111111,
              "#46039f"
             ],
             [
              0.2222222222222222,
              "#7201a8"
             ],
             [
              0.3333333333333333,
              "#9c179e"
             ],
             [
              0.4444444444444444,
              "#bd3786"
             ],
             [
              0.5555555555555556,
              "#d8576b"
             ],
             [
              0.6666666666666666,
              "#ed7953"
             ],
             [
              0.7777777777777778,
              "#fb9f3a"
             ],
             [
              0.8888888888888888,
              "#fdca26"
             ],
             [
              1,
              "#f0f921"
             ]
            ],
            "type": "histogram2dcontour"
           }
          ],
          "mesh3d": [
           {
            "colorbar": {
             "outlinewidth": 0,
             "ticks": ""
            },
            "type": "mesh3d"
           }
          ],
          "parcoords": [
           {
            "line": {
             "colorbar": {
              "outlinewidth": 0,
              "ticks": ""
             }
            },
            "type": "parcoords"
           }
          ],
          "pie": [
           {
            "automargin": true,
            "type": "pie"
           }
          ],
          "scatter": [
           {
            "marker": {
             "colorbar": {
              "outlinewidth": 0,
              "ticks": ""
             }
            },
            "type": "scatter"
           }
          ],
          "scatter3d": [
           {
            "line": {
             "colorbar": {
              "outlinewidth": 0,
              "ticks": ""
             }
            },
            "marker": {
             "colorbar": {
              "outlinewidth": 0,
              "ticks": ""
             }
            },
            "type": "scatter3d"
           }
          ],
          "scattercarpet": [
           {
            "marker": {
             "colorbar": {
              "outlinewidth": 0,
              "ticks": ""
             }
            },
            "type": "scattercarpet"
           }
          ],
          "scattergeo": [
           {
            "marker": {
             "colorbar": {
              "outlinewidth": 0,
              "ticks": ""
             }
            },
            "type": "scattergeo"
           }
          ],
          "scattergl": [
           {
            "marker": {
             "colorbar": {
              "outlinewidth": 0,
              "ticks": ""
             }
            },
            "type": "scattergl"
           }
          ],
          "scattermapbox": [
           {
            "marker": {
             "colorbar": {
              "outlinewidth": 0,
              "ticks": ""
             }
            },
            "type": "scattermapbox"
           }
          ],
          "scatterpolar": [
           {
            "marker": {
             "colorbar": {
              "outlinewidth": 0,
              "ticks": ""
             }
            },
            "type": "scatterpolar"
           }
          ],
          "scatterpolargl": [
           {
            "marker": {
             "colorbar": {
              "outlinewidth": 0,
              "ticks": ""
             }
            },
            "type": "scatterpolargl"
           }
          ],
          "scatterternary": [
           {
            "marker": {
             "colorbar": {
              "outlinewidth": 0,
              "ticks": ""
             }
            },
            "type": "scatterternary"
           }
          ],
          "surface": [
           {
            "colorbar": {
             "outlinewidth": 0,
             "ticks": ""
            },
            "colorscale": [
             [
              0,
              "#0d0887"
             ],
             [
              0.1111111111111111,
              "#46039f"
             ],
             [
              0.2222222222222222,
              "#7201a8"
             ],
             [
              0.3333333333333333,
              "#9c179e"
             ],
             [
              0.4444444444444444,
              "#bd3786"
             ],
             [
              0.5555555555555556,
              "#d8576b"
             ],
             [
              0.6666666666666666,
              "#ed7953"
             ],
             [
              0.7777777777777778,
              "#fb9f3a"
             ],
             [
              0.8888888888888888,
              "#fdca26"
             ],
             [
              1,
              "#f0f921"
             ]
            ],
            "type": "surface"
           }
          ],
          "table": [
           {
            "cells": {
             "fill": {
              "color": "#EBF0F8"
             },
             "line": {
              "color": "white"
             }
            },
            "header": {
             "fill": {
              "color": "#C8D4E3"
             },
             "line": {
              "color": "white"
             }
            },
            "type": "table"
           }
          ]
         },
         "layout": {
          "annotationdefaults": {
           "arrowcolor": "#2a3f5f",
           "arrowhead": 0,
           "arrowwidth": 1
          },
          "coloraxis": {
           "colorbar": {
            "outlinewidth": 0,
            "ticks": ""
           }
          },
          "colorscale": {
           "diverging": [
            [
             0,
             "#8e0152"
            ],
            [
             0.1,
             "#c51b7d"
            ],
            [
             0.2,
             "#de77ae"
            ],
            [
             0.3,
             "#f1b6da"
            ],
            [
             0.4,
             "#fde0ef"
            ],
            [
             0.5,
             "#f7f7f7"
            ],
            [
             0.6,
             "#e6f5d0"
            ],
            [
             0.7,
             "#b8e186"
            ],
            [
             0.8,
             "#7fbc41"
            ],
            [
             0.9,
             "#4d9221"
            ],
            [
             1,
             "#276419"
            ]
           ],
           "sequential": [
            [
             0,
             "#0d0887"
            ],
            [
             0.1111111111111111,
             "#46039f"
            ],
            [
             0.2222222222222222,
             "#7201a8"
            ],
            [
             0.3333333333333333,
             "#9c179e"
            ],
            [
             0.4444444444444444,
             "#bd3786"
            ],
            [
             0.5555555555555556,
             "#d8576b"
            ],
            [
             0.6666666666666666,
             "#ed7953"
            ],
            [
             0.7777777777777778,
             "#fb9f3a"
            ],
            [
             0.8888888888888888,
             "#fdca26"
            ],
            [
             1,
             "#f0f921"
            ]
           ],
           "sequentialminus": [
            [
             0,
             "#0d0887"
            ],
            [
             0.1111111111111111,
             "#46039f"
            ],
            [
             0.2222222222222222,
             "#7201a8"
            ],
            [
             0.3333333333333333,
             "#9c179e"
            ],
            [
             0.4444444444444444,
             "#bd3786"
            ],
            [
             0.5555555555555556,
             "#d8576b"
            ],
            [
             0.6666666666666666,
             "#ed7953"
            ],
            [
             0.7777777777777778,
             "#fb9f3a"
            ],
            [
             0.8888888888888888,
             "#fdca26"
            ],
            [
             1,
             "#f0f921"
            ]
           ]
          },
          "colorway": [
           "#636efa",
           "#EF553B",
           "#00cc96",
           "#ab63fa",
           "#FFA15A",
           "#19d3f3",
           "#FF6692",
           "#B6E880",
           "#FF97FF",
           "#FECB52"
          ],
          "font": {
           "color": "#2a3f5f"
          },
          "geo": {
           "bgcolor": "white",
           "lakecolor": "white",
           "landcolor": "#E5ECF6",
           "showlakes": true,
           "showland": true,
           "subunitcolor": "white"
          },
          "hoverlabel": {
           "align": "left"
          },
          "hovermode": "closest",
          "mapbox": {
           "style": "light"
          },
          "paper_bgcolor": "white",
          "plot_bgcolor": "#E5ECF6",
          "polar": {
           "angularaxis": {
            "gridcolor": "white",
            "linecolor": "white",
            "ticks": ""
           },
           "bgcolor": "#E5ECF6",
           "radialaxis": {
            "gridcolor": "white",
            "linecolor": "white",
            "ticks": ""
           }
          },
          "scene": {
           "xaxis": {
            "backgroundcolor": "#E5ECF6",
            "gridcolor": "white",
            "gridwidth": 2,
            "linecolor": "white",
            "showbackground": true,
            "ticks": "",
            "zerolinecolor": "white"
           },
           "yaxis": {
            "backgroundcolor": "#E5ECF6",
            "gridcolor": "white",
            "gridwidth": 2,
            "linecolor": "white",
            "showbackground": true,
            "ticks": "",
            "zerolinecolor": "white"
           },
           "zaxis": {
            "backgroundcolor": "#E5ECF6",
            "gridcolor": "white",
            "gridwidth": 2,
            "linecolor": "white",
            "showbackground": true,
            "ticks": "",
            "zerolinecolor": "white"
           }
          },
          "shapedefaults": {
           "line": {
            "color": "#2a3f5f"
           }
          },
          "ternary": {
           "aaxis": {
            "gridcolor": "white",
            "linecolor": "white",
            "ticks": ""
           },
           "baxis": {
            "gridcolor": "white",
            "linecolor": "white",
            "ticks": ""
           },
           "bgcolor": "#E5ECF6",
           "caxis": {
            "gridcolor": "white",
            "linecolor": "white",
            "ticks": ""
           }
          },
          "title": {
           "x": 0.05
          },
          "xaxis": {
           "automargin": true,
           "gridcolor": "white",
           "linecolor": "white",
           "ticks": "",
           "title": {
            "standoff": 15
           },
           "zerolinecolor": "white",
           "zerolinewidth": 2
          },
          "yaxis": {
           "automargin": true,
           "gridcolor": "white",
           "linecolor": "white",
           "ticks": "",
           "title": {
            "standoff": 15
           },
           "zerolinecolor": "white",
           "zerolinewidth": 2
          }
         }
        },
        "title": {
         "text": "weekly 주문 수량"
        },
        "width": 700,
        "xaxis": {
         "anchor": "y",
         "domain": [
          0,
          1
         ],
         "title": {
          "text": "order_week"
         }
        },
        "yaxis": {
         "anchor": "x",
         "domain": [
          0,
          1
         ],
         "title": {
          "text": "order_count"
         }
        }
       }
      },
      "text/html": [
       "<div>                            <div id=\"c841d9b9-cb17-4add-bc14-87a7943ae08f\" class=\"plotly-graph-div\" style=\"height:400px; width:700px;\"></div>            <script type=\"text/javascript\">                require([\"plotly\"], function(Plotly) {                    window.PLOTLYENV=window.PLOTLYENV || {};                                    if (document.getElementById(\"c841d9b9-cb17-4add-bc14-87a7943ae08f\")) {                    Plotly.newPlot(                        \"c841d9b9-cb17-4add-bc14-87a7943ae08f\",                        [{\"alignmentgroup\": \"True\", \"hovertemplate\": \"order_week=%{x}<br>order_count=%{y}<extra></extra>\", \"legendgroup\": \"\", \"marker\": {\"color\": \"#636efa\"}, \"name\": \"\", \"offsetgroup\": \"\", \"orientation\": \"v\", \"showlegend\": false, \"textposition\": \"auto\", \"type\": \"bar\", \"x\": [1, 2, 3, 4, 5, 6, 7, 8, 9, 10, 11, 12, 13, 53], \"xaxis\": \"x\", \"y\": [60, 75, 126, 103, 132, 59, 121, 141, 118, 117, 156, 167, 80, 11], \"yaxis\": \"y\"}],                        {\"barmode\": \"relative\", \"height\": 400, \"legend\": {\"tracegroupgap\": 0}, \"template\": {\"data\": {\"bar\": [{\"error_x\": {\"color\": \"#2a3f5f\"}, \"error_y\": {\"color\": \"#2a3f5f\"}, \"marker\": {\"line\": {\"color\": \"#E5ECF6\", \"width\": 0.5}}, \"type\": \"bar\"}], \"barpolar\": [{\"marker\": {\"line\": {\"color\": \"#E5ECF6\", \"width\": 0.5}}, \"type\": \"barpolar\"}], \"carpet\": [{\"aaxis\": {\"endlinecolor\": \"#2a3f5f\", \"gridcolor\": \"white\", \"linecolor\": \"white\", \"minorgridcolor\": \"white\", \"startlinecolor\": \"#2a3f5f\"}, \"baxis\": {\"endlinecolor\": \"#2a3f5f\", \"gridcolor\": \"white\", \"linecolor\": \"white\", \"minorgridcolor\": \"white\", \"startlinecolor\": \"#2a3f5f\"}, \"type\": \"carpet\"}], \"choropleth\": [{\"colorbar\": {\"outlinewidth\": 0, \"ticks\": \"\"}, \"type\": \"choropleth\"}], \"contour\": [{\"colorbar\": {\"outlinewidth\": 0, \"ticks\": \"\"}, \"colorscale\": [[0.0, \"#0d0887\"], [0.1111111111111111, \"#46039f\"], [0.2222222222222222, \"#7201a8\"], [0.3333333333333333, \"#9c179e\"], [0.4444444444444444, \"#bd3786\"], [0.5555555555555556, \"#d8576b\"], [0.6666666666666666, \"#ed7953\"], [0.7777777777777778, \"#fb9f3a\"], [0.8888888888888888, \"#fdca26\"], [1.0, \"#f0f921\"]], \"type\": \"contour\"}], \"contourcarpet\": [{\"colorbar\": {\"outlinewidth\": 0, \"ticks\": \"\"}, \"type\": \"contourcarpet\"}], \"heatmap\": [{\"colorbar\": {\"outlinewidth\": 0, \"ticks\": \"\"}, \"colorscale\": [[0.0, \"#0d0887\"], [0.1111111111111111, \"#46039f\"], [0.2222222222222222, \"#7201a8\"], [0.3333333333333333, \"#9c179e\"], [0.4444444444444444, \"#bd3786\"], [0.5555555555555556, \"#d8576b\"], [0.6666666666666666, \"#ed7953\"], [0.7777777777777778, \"#fb9f3a\"], [0.8888888888888888, \"#fdca26\"], [1.0, \"#f0f921\"]], \"type\": \"heatmap\"}], \"heatmapgl\": [{\"colorbar\": {\"outlinewidth\": 0, \"ticks\": \"\"}, \"colorscale\": [[0.0, \"#0d0887\"], [0.1111111111111111, \"#46039f\"], [0.2222222222222222, \"#7201a8\"], [0.3333333333333333, \"#9c179e\"], [0.4444444444444444, \"#bd3786\"], [0.5555555555555556, \"#d8576b\"], [0.6666666666666666, \"#ed7953\"], [0.7777777777777778, \"#fb9f3a\"], [0.8888888888888888, \"#fdca26\"], [1.0, \"#f0f921\"]], \"type\": \"heatmapgl\"}], \"histogram\": [{\"marker\": {\"colorbar\": {\"outlinewidth\": 0, \"ticks\": \"\"}}, \"type\": \"histogram\"}], \"histogram2d\": [{\"colorbar\": {\"outlinewidth\": 0, \"ticks\": \"\"}, \"colorscale\": [[0.0, \"#0d0887\"], [0.1111111111111111, \"#46039f\"], [0.2222222222222222, \"#7201a8\"], [0.3333333333333333, \"#9c179e\"], [0.4444444444444444, \"#bd3786\"], [0.5555555555555556, \"#d8576b\"], [0.6666666666666666, \"#ed7953\"], [0.7777777777777778, \"#fb9f3a\"], [0.8888888888888888, \"#fdca26\"], [1.0, \"#f0f921\"]], \"type\": \"histogram2d\"}], \"histogram2dcontour\": [{\"colorbar\": {\"outlinewidth\": 0, \"ticks\": \"\"}, \"colorscale\": [[0.0, \"#0d0887\"], [0.1111111111111111, \"#46039f\"], [0.2222222222222222, \"#7201a8\"], [0.3333333333333333, \"#9c179e\"], [0.4444444444444444, \"#bd3786\"], [0.5555555555555556, \"#d8576b\"], [0.6666666666666666, \"#ed7953\"], [0.7777777777777778, \"#fb9f3a\"], [0.8888888888888888, \"#fdca26\"], [1.0, \"#f0f921\"]], \"type\": \"histogram2dcontour\"}], \"mesh3d\": [{\"colorbar\": {\"outlinewidth\": 0, \"ticks\": \"\"}, \"type\": \"mesh3d\"}], \"parcoords\": [{\"line\": {\"colorbar\": {\"outlinewidth\": 0, \"ticks\": \"\"}}, \"type\": \"parcoords\"}], \"pie\": [{\"automargin\": true, \"type\": \"pie\"}], \"scatter\": [{\"marker\": {\"colorbar\": {\"outlinewidth\": 0, \"ticks\": \"\"}}, \"type\": \"scatter\"}], \"scatter3d\": [{\"line\": {\"colorbar\": {\"outlinewidth\": 0, \"ticks\": \"\"}}, \"marker\": {\"colorbar\": {\"outlinewidth\": 0, \"ticks\": \"\"}}, \"type\": \"scatter3d\"}], \"scattercarpet\": [{\"marker\": {\"colorbar\": {\"outlinewidth\": 0, \"ticks\": \"\"}}, \"type\": \"scattercarpet\"}], \"scattergeo\": [{\"marker\": {\"colorbar\": {\"outlinewidth\": 0, \"ticks\": \"\"}}, \"type\": \"scattergeo\"}], \"scattergl\": [{\"marker\": {\"colorbar\": {\"outlinewidth\": 0, \"ticks\": \"\"}}, \"type\": \"scattergl\"}], \"scattermapbox\": [{\"marker\": {\"colorbar\": {\"outlinewidth\": 0, \"ticks\": \"\"}}, \"type\": \"scattermapbox\"}], \"scatterpolar\": [{\"marker\": {\"colorbar\": {\"outlinewidth\": 0, \"ticks\": \"\"}}, \"type\": \"scatterpolar\"}], \"scatterpolargl\": [{\"marker\": {\"colorbar\": {\"outlinewidth\": 0, \"ticks\": \"\"}}, \"type\": \"scatterpolargl\"}], \"scatterternary\": [{\"marker\": {\"colorbar\": {\"outlinewidth\": 0, \"ticks\": \"\"}}, \"type\": \"scatterternary\"}], \"surface\": [{\"colorbar\": {\"outlinewidth\": 0, \"ticks\": \"\"}, \"colorscale\": [[0.0, \"#0d0887\"], [0.1111111111111111, \"#46039f\"], [0.2222222222222222, \"#7201a8\"], [0.3333333333333333, \"#9c179e\"], [0.4444444444444444, \"#bd3786\"], [0.5555555555555556, \"#d8576b\"], [0.6666666666666666, \"#ed7953\"], [0.7777777777777778, \"#fb9f3a\"], [0.8888888888888888, \"#fdca26\"], [1.0, \"#f0f921\"]], \"type\": \"surface\"}], \"table\": [{\"cells\": {\"fill\": {\"color\": \"#EBF0F8\"}, \"line\": {\"color\": \"white\"}}, \"header\": {\"fill\": {\"color\": \"#C8D4E3\"}, \"line\": {\"color\": \"white\"}}, \"type\": \"table\"}]}, \"layout\": {\"annotationdefaults\": {\"arrowcolor\": \"#2a3f5f\", \"arrowhead\": 0, \"arrowwidth\": 1}, \"coloraxis\": {\"colorbar\": {\"outlinewidth\": 0, \"ticks\": \"\"}}, \"colorscale\": {\"diverging\": [[0, \"#8e0152\"], [0.1, \"#c51b7d\"], [0.2, \"#de77ae\"], [0.3, \"#f1b6da\"], [0.4, \"#fde0ef\"], [0.5, \"#f7f7f7\"], [0.6, \"#e6f5d0\"], [0.7, \"#b8e186\"], [0.8, \"#7fbc41\"], [0.9, \"#4d9221\"], [1, \"#276419\"]], \"sequential\": [[0.0, \"#0d0887\"], [0.1111111111111111, \"#46039f\"], [0.2222222222222222, \"#7201a8\"], [0.3333333333333333, \"#9c179e\"], [0.4444444444444444, \"#bd3786\"], [0.5555555555555556, \"#d8576b\"], [0.6666666666666666, \"#ed7953\"], [0.7777777777777778, \"#fb9f3a\"], [0.8888888888888888, \"#fdca26\"], [1.0, \"#f0f921\"]], \"sequentialminus\": [[0.0, \"#0d0887\"], [0.1111111111111111, \"#46039f\"], [0.2222222222222222, \"#7201a8\"], [0.3333333333333333, \"#9c179e\"], [0.4444444444444444, \"#bd3786\"], [0.5555555555555556, \"#d8576b\"], [0.6666666666666666, \"#ed7953\"], [0.7777777777777778, \"#fb9f3a\"], [0.8888888888888888, \"#fdca26\"], [1.0, \"#f0f921\"]]}, \"colorway\": [\"#636efa\", \"#EF553B\", \"#00cc96\", \"#ab63fa\", \"#FFA15A\", \"#19d3f3\", \"#FF6692\", \"#B6E880\", \"#FF97FF\", \"#FECB52\"], \"font\": {\"color\": \"#2a3f5f\"}, \"geo\": {\"bgcolor\": \"white\", \"lakecolor\": \"white\", \"landcolor\": \"#E5ECF6\", \"showlakes\": true, \"showland\": true, \"subunitcolor\": \"white\"}, \"hoverlabel\": {\"align\": \"left\"}, \"hovermode\": \"closest\", \"mapbox\": {\"style\": \"light\"}, \"paper_bgcolor\": \"white\", \"plot_bgcolor\": \"#E5ECF6\", \"polar\": {\"angularaxis\": {\"gridcolor\": \"white\", \"linecolor\": \"white\", \"ticks\": \"\"}, \"bgcolor\": \"#E5ECF6\", \"radialaxis\": {\"gridcolor\": \"white\", \"linecolor\": \"white\", \"ticks\": \"\"}}, \"scene\": {\"xaxis\": {\"backgroundcolor\": \"#E5ECF6\", \"gridcolor\": \"white\", \"gridwidth\": 2, \"linecolor\": \"white\", \"showbackground\": true, \"ticks\": \"\", \"zerolinecolor\": \"white\"}, \"yaxis\": {\"backgroundcolor\": \"#E5ECF6\", \"gridcolor\": \"white\", \"gridwidth\": 2, \"linecolor\": \"white\", \"showbackground\": true, \"ticks\": \"\", \"zerolinecolor\": \"white\"}, \"zaxis\": {\"backgroundcolor\": \"#E5ECF6\", \"gridcolor\": \"white\", \"gridwidth\": 2, \"linecolor\": \"white\", \"showbackground\": true, \"ticks\": \"\", \"zerolinecolor\": \"white\"}}, \"shapedefaults\": {\"line\": {\"color\": \"#2a3f5f\"}}, \"ternary\": {\"aaxis\": {\"gridcolor\": \"white\", \"linecolor\": \"white\", \"ticks\": \"\"}, \"baxis\": {\"gridcolor\": \"white\", \"linecolor\": \"white\", \"ticks\": \"\"}, \"bgcolor\": \"#E5ECF6\", \"caxis\": {\"gridcolor\": \"white\", \"linecolor\": \"white\", \"ticks\": \"\"}}, \"title\": {\"x\": 0.05}, \"xaxis\": {\"automargin\": true, \"gridcolor\": \"white\", \"linecolor\": \"white\", \"ticks\": \"\", \"title\": {\"standoff\": 15}, \"zerolinecolor\": \"white\", \"zerolinewidth\": 2}, \"yaxis\": {\"automargin\": true, \"gridcolor\": \"white\", \"linecolor\": \"white\", \"ticks\": \"\", \"title\": {\"standoff\": 15}, \"zerolinecolor\": \"white\", \"zerolinewidth\": 2}}}, \"title\": {\"text\": \"weekly \\uc8fc\\ubb38 \\uc218\\ub7c9\"}, \"width\": 700, \"xaxis\": {\"anchor\": \"y\", \"domain\": [0.0, 1.0], \"title\": {\"text\": \"order_week\"}}, \"yaxis\": {\"anchor\": \"x\", \"domain\": [0.0, 1.0], \"title\": {\"text\": \"order_count\"}}},                        {\"responsive\": true}                    ).then(function(){\n",
       "                            \n",
       "var gd = document.getElementById('c841d9b9-cb17-4add-bc14-87a7943ae08f');\n",
       "var x = new MutationObserver(function (mutations, observer) {{\n",
       "        var display = window.getComputedStyle(gd).display;\n",
       "        if (!display || display === 'none') {{\n",
       "            console.log([gd, 'removed!']);\n",
       "            Plotly.purge(gd);\n",
       "            observer.disconnect();\n",
       "        }}\n",
       "}});\n",
       "\n",
       "// Listen for the removal of the full notebook cells\n",
       "var notebookContainer = gd.closest('#notebook-container');\n",
       "if (notebookContainer) {{\n",
       "    x.observe(notebookContainer, {childList: true});\n",
       "}}\n",
       "\n",
       "// Listen for the clearing of the current output cell\n",
       "var outputEl = gd.closest('.output');\n",
       "if (outputEl) {{\n",
       "    x.observe(outputEl, {childList: true});\n",
       "}}\n",
       "\n",
       "                        })                };                });            </script>        </div>"
      ]
     },
     "metadata": {},
     "output_type": "display_data"
    }
   ],
   "source": [
    "px.bar(df_user.groupby('order_week').sum(), y='order_count', title='weekly 주문 수량', width=700, height=400)"
   ]
  },
  {
   "cell_type": "code",
   "execution_count": 220,
   "metadata": {
    "ExecuteTime": {
     "end_time": "2021-05-18T16:34:35.991097Z",
     "start_time": "2021-05-18T16:34:35.909315Z"
    },
    "scrolled": false
   },
   "outputs": [
    {
     "data": {
      "application/vnd.plotly.v1+json": {
       "config": {
        "plotlyServerURL": "https://plot.ly"
       },
       "data": [
        {
         "alignmentgroup": "True",
         "hovertemplate": "order_month=%{x}<br>order_count=%{y}<extra></extra>",
         "legendgroup": "",
         "marker": {
          "color": "#636efa"
         },
         "name": "",
         "offsetgroup": "",
         "orientation": "v",
         "showlegend": false,
         "textposition": "auto",
         "type": "bar",
         "x": [
          1,
          2,
          3
         ],
         "xaxis": "x",
         "y": [
          375,
          453,
          638
         ],
         "yaxis": "y"
        }
       ],
       "layout": {
        "barmode": "relative",
        "height": 400,
        "legend": {
         "tracegroupgap": 0
        },
        "template": {
         "data": {
          "bar": [
           {
            "error_x": {
             "color": "#2a3f5f"
            },
            "error_y": {
             "color": "#2a3f5f"
            },
            "marker": {
             "line": {
              "color": "#E5ECF6",
              "width": 0.5
             }
            },
            "type": "bar"
           }
          ],
          "barpolar": [
           {
            "marker": {
             "line": {
              "color": "#E5ECF6",
              "width": 0.5
             }
            },
            "type": "barpolar"
           }
          ],
          "carpet": [
           {
            "aaxis": {
             "endlinecolor": "#2a3f5f",
             "gridcolor": "white",
             "linecolor": "white",
             "minorgridcolor": "white",
             "startlinecolor": "#2a3f5f"
            },
            "baxis": {
             "endlinecolor": "#2a3f5f",
             "gridcolor": "white",
             "linecolor": "white",
             "minorgridcolor": "white",
             "startlinecolor": "#2a3f5f"
            },
            "type": "carpet"
           }
          ],
          "choropleth": [
           {
            "colorbar": {
             "outlinewidth": 0,
             "ticks": ""
            },
            "type": "choropleth"
           }
          ],
          "contour": [
           {
            "colorbar": {
             "outlinewidth": 0,
             "ticks": ""
            },
            "colorscale": [
             [
              0,
              "#0d0887"
             ],
             [
              0.1111111111111111,
              "#46039f"
             ],
             [
              0.2222222222222222,
              "#7201a8"
             ],
             [
              0.3333333333333333,
              "#9c179e"
             ],
             [
              0.4444444444444444,
              "#bd3786"
             ],
             [
              0.5555555555555556,
              "#d8576b"
             ],
             [
              0.6666666666666666,
              "#ed7953"
             ],
             [
              0.7777777777777778,
              "#fb9f3a"
             ],
             [
              0.8888888888888888,
              "#fdca26"
             ],
             [
              1,
              "#f0f921"
             ]
            ],
            "type": "contour"
           }
          ],
          "contourcarpet": [
           {
            "colorbar": {
             "outlinewidth": 0,
             "ticks": ""
            },
            "type": "contourcarpet"
           }
          ],
          "heatmap": [
           {
            "colorbar": {
             "outlinewidth": 0,
             "ticks": ""
            },
            "colorscale": [
             [
              0,
              "#0d0887"
             ],
             [
              0.1111111111111111,
              "#46039f"
             ],
             [
              0.2222222222222222,
              "#7201a8"
             ],
             [
              0.3333333333333333,
              "#9c179e"
             ],
             [
              0.4444444444444444,
              "#bd3786"
             ],
             [
              0.5555555555555556,
              "#d8576b"
             ],
             [
              0.6666666666666666,
              "#ed7953"
             ],
             [
              0.7777777777777778,
              "#fb9f3a"
             ],
             [
              0.8888888888888888,
              "#fdca26"
             ],
             [
              1,
              "#f0f921"
             ]
            ],
            "type": "heatmap"
           }
          ],
          "heatmapgl": [
           {
            "colorbar": {
             "outlinewidth": 0,
             "ticks": ""
            },
            "colorscale": [
             [
              0,
              "#0d0887"
             ],
             [
              0.1111111111111111,
              "#46039f"
             ],
             [
              0.2222222222222222,
              "#7201a8"
             ],
             [
              0.3333333333333333,
              "#9c179e"
             ],
             [
              0.4444444444444444,
              "#bd3786"
             ],
             [
              0.5555555555555556,
              "#d8576b"
             ],
             [
              0.6666666666666666,
              "#ed7953"
             ],
             [
              0.7777777777777778,
              "#fb9f3a"
             ],
             [
              0.8888888888888888,
              "#fdca26"
             ],
             [
              1,
              "#f0f921"
             ]
            ],
            "type": "heatmapgl"
           }
          ],
          "histogram": [
           {
            "marker": {
             "colorbar": {
              "outlinewidth": 0,
              "ticks": ""
             }
            },
            "type": "histogram"
           }
          ],
          "histogram2d": [
           {
            "colorbar": {
             "outlinewidth": 0,
             "ticks": ""
            },
            "colorscale": [
             [
              0,
              "#0d0887"
             ],
             [
              0.1111111111111111,
              "#46039f"
             ],
             [
              0.2222222222222222,
              "#7201a8"
             ],
             [
              0.3333333333333333,
              "#9c179e"
             ],
             [
              0.4444444444444444,
              "#bd3786"
             ],
             [
              0.5555555555555556,
              "#d8576b"
             ],
             [
              0.6666666666666666,
              "#ed7953"
             ],
             [
              0.7777777777777778,
              "#fb9f3a"
             ],
             [
              0.8888888888888888,
              "#fdca26"
             ],
             [
              1,
              "#f0f921"
             ]
            ],
            "type": "histogram2d"
           }
          ],
          "histogram2dcontour": [
           {
            "colorbar": {
             "outlinewidth": 0,
             "ticks": ""
            },
            "colorscale": [
             [
              0,
              "#0d0887"
             ],
             [
              0.1111111111111111,
              "#46039f"
             ],
             [
              0.2222222222222222,
              "#7201a8"
             ],
             [
              0.3333333333333333,
              "#9c179e"
             ],
             [
              0.4444444444444444,
              "#bd3786"
             ],
             [
              0.5555555555555556,
              "#d8576b"
             ],
             [
              0.6666666666666666,
              "#ed7953"
             ],
             [
              0.7777777777777778,
              "#fb9f3a"
             ],
             [
              0.8888888888888888,
              "#fdca26"
             ],
             [
              1,
              "#f0f921"
             ]
            ],
            "type": "histogram2dcontour"
           }
          ],
          "mesh3d": [
           {
            "colorbar": {
             "outlinewidth": 0,
             "ticks": ""
            },
            "type": "mesh3d"
           }
          ],
          "parcoords": [
           {
            "line": {
             "colorbar": {
              "outlinewidth": 0,
              "ticks": ""
             }
            },
            "type": "parcoords"
           }
          ],
          "pie": [
           {
            "automargin": true,
            "type": "pie"
           }
          ],
          "scatter": [
           {
            "marker": {
             "colorbar": {
              "outlinewidth": 0,
              "ticks": ""
             }
            },
            "type": "scatter"
           }
          ],
          "scatter3d": [
           {
            "line": {
             "colorbar": {
              "outlinewidth": 0,
              "ticks": ""
             }
            },
            "marker": {
             "colorbar": {
              "outlinewidth": 0,
              "ticks": ""
             }
            },
            "type": "scatter3d"
           }
          ],
          "scattercarpet": [
           {
            "marker": {
             "colorbar": {
              "outlinewidth": 0,
              "ticks": ""
             }
            },
            "type": "scattercarpet"
           }
          ],
          "scattergeo": [
           {
            "marker": {
             "colorbar": {
              "outlinewidth": 0,
              "ticks": ""
             }
            },
            "type": "scattergeo"
           }
          ],
          "scattergl": [
           {
            "marker": {
             "colorbar": {
              "outlinewidth": 0,
              "ticks": ""
             }
            },
            "type": "scattergl"
           }
          ],
          "scattermapbox": [
           {
            "marker": {
             "colorbar": {
              "outlinewidth": 0,
              "ticks": ""
             }
            },
            "type": "scattermapbox"
           }
          ],
          "scatterpolar": [
           {
            "marker": {
             "colorbar": {
              "outlinewidth": 0,
              "ticks": ""
             }
            },
            "type": "scatterpolar"
           }
          ],
          "scatterpolargl": [
           {
            "marker": {
             "colorbar": {
              "outlinewidth": 0,
              "ticks": ""
             }
            },
            "type": "scatterpolargl"
           }
          ],
          "scatterternary": [
           {
            "marker": {
             "colorbar": {
              "outlinewidth": 0,
              "ticks": ""
             }
            },
            "type": "scatterternary"
           }
          ],
          "surface": [
           {
            "colorbar": {
             "outlinewidth": 0,
             "ticks": ""
            },
            "colorscale": [
             [
              0,
              "#0d0887"
             ],
             [
              0.1111111111111111,
              "#46039f"
             ],
             [
              0.2222222222222222,
              "#7201a8"
             ],
             [
              0.3333333333333333,
              "#9c179e"
             ],
             [
              0.4444444444444444,
              "#bd3786"
             ],
             [
              0.5555555555555556,
              "#d8576b"
             ],
             [
              0.6666666666666666,
              "#ed7953"
             ],
             [
              0.7777777777777778,
              "#fb9f3a"
             ],
             [
              0.8888888888888888,
              "#fdca26"
             ],
             [
              1,
              "#f0f921"
             ]
            ],
            "type": "surface"
           }
          ],
          "table": [
           {
            "cells": {
             "fill": {
              "color": "#EBF0F8"
             },
             "line": {
              "color": "white"
             }
            },
            "header": {
             "fill": {
              "color": "#C8D4E3"
             },
             "line": {
              "color": "white"
             }
            },
            "type": "table"
           }
          ]
         },
         "layout": {
          "annotationdefaults": {
           "arrowcolor": "#2a3f5f",
           "arrowhead": 0,
           "arrowwidth": 1
          },
          "coloraxis": {
           "colorbar": {
            "outlinewidth": 0,
            "ticks": ""
           }
          },
          "colorscale": {
           "diverging": [
            [
             0,
             "#8e0152"
            ],
            [
             0.1,
             "#c51b7d"
            ],
            [
             0.2,
             "#de77ae"
            ],
            [
             0.3,
             "#f1b6da"
            ],
            [
             0.4,
             "#fde0ef"
            ],
            [
             0.5,
             "#f7f7f7"
            ],
            [
             0.6,
             "#e6f5d0"
            ],
            [
             0.7,
             "#b8e186"
            ],
            [
             0.8,
             "#7fbc41"
            ],
            [
             0.9,
             "#4d9221"
            ],
            [
             1,
             "#276419"
            ]
           ],
           "sequential": [
            [
             0,
             "#0d0887"
            ],
            [
             0.1111111111111111,
             "#46039f"
            ],
            [
             0.2222222222222222,
             "#7201a8"
            ],
            [
             0.3333333333333333,
             "#9c179e"
            ],
            [
             0.4444444444444444,
             "#bd3786"
            ],
            [
             0.5555555555555556,
             "#d8576b"
            ],
            [
             0.6666666666666666,
             "#ed7953"
            ],
            [
             0.7777777777777778,
             "#fb9f3a"
            ],
            [
             0.8888888888888888,
             "#fdca26"
            ],
            [
             1,
             "#f0f921"
            ]
           ],
           "sequentialminus": [
            [
             0,
             "#0d0887"
            ],
            [
             0.1111111111111111,
             "#46039f"
            ],
            [
             0.2222222222222222,
             "#7201a8"
            ],
            [
             0.3333333333333333,
             "#9c179e"
            ],
            [
             0.4444444444444444,
             "#bd3786"
            ],
            [
             0.5555555555555556,
             "#d8576b"
            ],
            [
             0.6666666666666666,
             "#ed7953"
            ],
            [
             0.7777777777777778,
             "#fb9f3a"
            ],
            [
             0.8888888888888888,
             "#fdca26"
            ],
            [
             1,
             "#f0f921"
            ]
           ]
          },
          "colorway": [
           "#636efa",
           "#EF553B",
           "#00cc96",
           "#ab63fa",
           "#FFA15A",
           "#19d3f3",
           "#FF6692",
           "#B6E880",
           "#FF97FF",
           "#FECB52"
          ],
          "font": {
           "color": "#2a3f5f"
          },
          "geo": {
           "bgcolor": "white",
           "lakecolor": "white",
           "landcolor": "#E5ECF6",
           "showlakes": true,
           "showland": true,
           "subunitcolor": "white"
          },
          "hoverlabel": {
           "align": "left"
          },
          "hovermode": "closest",
          "mapbox": {
           "style": "light"
          },
          "paper_bgcolor": "white",
          "plot_bgcolor": "#E5ECF6",
          "polar": {
           "angularaxis": {
            "gridcolor": "white",
            "linecolor": "white",
            "ticks": ""
           },
           "bgcolor": "#E5ECF6",
           "radialaxis": {
            "gridcolor": "white",
            "linecolor": "white",
            "ticks": ""
           }
          },
          "scene": {
           "xaxis": {
            "backgroundcolor": "#E5ECF6",
            "gridcolor": "white",
            "gridwidth": 2,
            "linecolor": "white",
            "showbackground": true,
            "ticks": "",
            "zerolinecolor": "white"
           },
           "yaxis": {
            "backgroundcolor": "#E5ECF6",
            "gridcolor": "white",
            "gridwidth": 2,
            "linecolor": "white",
            "showbackground": true,
            "ticks": "",
            "zerolinecolor": "white"
           },
           "zaxis": {
            "backgroundcolor": "#E5ECF6",
            "gridcolor": "white",
            "gridwidth": 2,
            "linecolor": "white",
            "showbackground": true,
            "ticks": "",
            "zerolinecolor": "white"
           }
          },
          "shapedefaults": {
           "line": {
            "color": "#2a3f5f"
           }
          },
          "ternary": {
           "aaxis": {
            "gridcolor": "white",
            "linecolor": "white",
            "ticks": ""
           },
           "baxis": {
            "gridcolor": "white",
            "linecolor": "white",
            "ticks": ""
           },
           "bgcolor": "#E5ECF6",
           "caxis": {
            "gridcolor": "white",
            "linecolor": "white",
            "ticks": ""
           }
          },
          "title": {
           "x": 0.05
          },
          "xaxis": {
           "automargin": true,
           "gridcolor": "white",
           "linecolor": "white",
           "ticks": "",
           "title": {
            "standoff": 15
           },
           "zerolinecolor": "white",
           "zerolinewidth": 2
          },
          "yaxis": {
           "automargin": true,
           "gridcolor": "white",
           "linecolor": "white",
           "ticks": "",
           "title": {
            "standoff": 15
           },
           "zerolinecolor": "white",
           "zerolinewidth": 2
          }
         }
        },
        "title": {
         "text": "monthly 주문 수량"
        },
        "width": 700,
        "xaxis": {
         "anchor": "y",
         "domain": [
          0,
          1
         ],
         "title": {
          "text": "order_month"
         }
        },
        "yaxis": {
         "anchor": "x",
         "domain": [
          0,
          1
         ],
         "title": {
          "text": "order_count"
         }
        }
       }
      },
      "text/html": [
       "<div>                            <div id=\"2f68b57c-f784-4e47-a334-b6994456c58b\" class=\"plotly-graph-div\" style=\"height:400px; width:700px;\"></div>            <script type=\"text/javascript\">                require([\"plotly\"], function(Plotly) {                    window.PLOTLYENV=window.PLOTLYENV || {};                                    if (document.getElementById(\"2f68b57c-f784-4e47-a334-b6994456c58b\")) {                    Plotly.newPlot(                        \"2f68b57c-f784-4e47-a334-b6994456c58b\",                        [{\"alignmentgroup\": \"True\", \"hovertemplate\": \"order_month=%{x}<br>order_count=%{y}<extra></extra>\", \"legendgroup\": \"\", \"marker\": {\"color\": \"#636efa\"}, \"name\": \"\", \"offsetgroup\": \"\", \"orientation\": \"v\", \"showlegend\": false, \"textposition\": \"auto\", \"type\": \"bar\", \"x\": [1, 2, 3], \"xaxis\": \"x\", \"y\": [375, 453, 638], \"yaxis\": \"y\"}],                        {\"barmode\": \"relative\", \"height\": 400, \"legend\": {\"tracegroupgap\": 0}, \"template\": {\"data\": {\"bar\": [{\"error_x\": {\"color\": \"#2a3f5f\"}, \"error_y\": {\"color\": \"#2a3f5f\"}, \"marker\": {\"line\": {\"color\": \"#E5ECF6\", \"width\": 0.5}}, \"type\": \"bar\"}], \"barpolar\": [{\"marker\": {\"line\": {\"color\": \"#E5ECF6\", \"width\": 0.5}}, \"type\": \"barpolar\"}], \"carpet\": [{\"aaxis\": {\"endlinecolor\": \"#2a3f5f\", \"gridcolor\": \"white\", \"linecolor\": \"white\", \"minorgridcolor\": \"white\", \"startlinecolor\": \"#2a3f5f\"}, \"baxis\": {\"endlinecolor\": \"#2a3f5f\", \"gridcolor\": \"white\", \"linecolor\": \"white\", \"minorgridcolor\": \"white\", \"startlinecolor\": \"#2a3f5f\"}, \"type\": \"carpet\"}], \"choropleth\": [{\"colorbar\": {\"outlinewidth\": 0, \"ticks\": \"\"}, \"type\": \"choropleth\"}], \"contour\": [{\"colorbar\": {\"outlinewidth\": 0, \"ticks\": \"\"}, \"colorscale\": [[0.0, \"#0d0887\"], [0.1111111111111111, \"#46039f\"], [0.2222222222222222, \"#7201a8\"], [0.3333333333333333, \"#9c179e\"], [0.4444444444444444, \"#bd3786\"], [0.5555555555555556, \"#d8576b\"], [0.6666666666666666, \"#ed7953\"], [0.7777777777777778, \"#fb9f3a\"], [0.8888888888888888, \"#fdca26\"], [1.0, \"#f0f921\"]], \"type\": \"contour\"}], \"contourcarpet\": [{\"colorbar\": {\"outlinewidth\": 0, \"ticks\": \"\"}, \"type\": \"contourcarpet\"}], \"heatmap\": [{\"colorbar\": {\"outlinewidth\": 0, \"ticks\": \"\"}, \"colorscale\": [[0.0, \"#0d0887\"], [0.1111111111111111, \"#46039f\"], [0.2222222222222222, \"#7201a8\"], [0.3333333333333333, \"#9c179e\"], [0.4444444444444444, \"#bd3786\"], [0.5555555555555556, \"#d8576b\"], [0.6666666666666666, \"#ed7953\"], [0.7777777777777778, \"#fb9f3a\"], [0.8888888888888888, \"#fdca26\"], [1.0, \"#f0f921\"]], \"type\": \"heatmap\"}], \"heatmapgl\": [{\"colorbar\": {\"outlinewidth\": 0, \"ticks\": \"\"}, \"colorscale\": [[0.0, \"#0d0887\"], [0.1111111111111111, \"#46039f\"], [0.2222222222222222, \"#7201a8\"], [0.3333333333333333, \"#9c179e\"], [0.4444444444444444, \"#bd3786\"], [0.5555555555555556, \"#d8576b\"], [0.6666666666666666, \"#ed7953\"], [0.7777777777777778, \"#fb9f3a\"], [0.8888888888888888, \"#fdca26\"], [1.0, \"#f0f921\"]], \"type\": \"heatmapgl\"}], \"histogram\": [{\"marker\": {\"colorbar\": {\"outlinewidth\": 0, \"ticks\": \"\"}}, \"type\": \"histogram\"}], \"histogram2d\": [{\"colorbar\": {\"outlinewidth\": 0, \"ticks\": \"\"}, \"colorscale\": [[0.0, \"#0d0887\"], [0.1111111111111111, \"#46039f\"], [0.2222222222222222, \"#7201a8\"], [0.3333333333333333, \"#9c179e\"], [0.4444444444444444, \"#bd3786\"], [0.5555555555555556, \"#d8576b\"], [0.6666666666666666, \"#ed7953\"], [0.7777777777777778, \"#fb9f3a\"], [0.8888888888888888, \"#fdca26\"], [1.0, \"#f0f921\"]], \"type\": \"histogram2d\"}], \"histogram2dcontour\": [{\"colorbar\": {\"outlinewidth\": 0, \"ticks\": \"\"}, \"colorscale\": [[0.0, \"#0d0887\"], [0.1111111111111111, \"#46039f\"], [0.2222222222222222, \"#7201a8\"], [0.3333333333333333, \"#9c179e\"], [0.4444444444444444, \"#bd3786\"], [0.5555555555555556, \"#d8576b\"], [0.6666666666666666, \"#ed7953\"], [0.7777777777777778, \"#fb9f3a\"], [0.8888888888888888, \"#fdca26\"], [1.0, \"#f0f921\"]], \"type\": \"histogram2dcontour\"}], \"mesh3d\": [{\"colorbar\": {\"outlinewidth\": 0, \"ticks\": \"\"}, \"type\": \"mesh3d\"}], \"parcoords\": [{\"line\": {\"colorbar\": {\"outlinewidth\": 0, \"ticks\": \"\"}}, \"type\": \"parcoords\"}], \"pie\": [{\"automargin\": true, \"type\": \"pie\"}], \"scatter\": [{\"marker\": {\"colorbar\": {\"outlinewidth\": 0, \"ticks\": \"\"}}, \"type\": \"scatter\"}], \"scatter3d\": [{\"line\": {\"colorbar\": {\"outlinewidth\": 0, \"ticks\": \"\"}}, \"marker\": {\"colorbar\": {\"outlinewidth\": 0, \"ticks\": \"\"}}, \"type\": \"scatter3d\"}], \"scattercarpet\": [{\"marker\": {\"colorbar\": {\"outlinewidth\": 0, \"ticks\": \"\"}}, \"type\": \"scattercarpet\"}], \"scattergeo\": [{\"marker\": {\"colorbar\": {\"outlinewidth\": 0, \"ticks\": \"\"}}, \"type\": \"scattergeo\"}], \"scattergl\": [{\"marker\": {\"colorbar\": {\"outlinewidth\": 0, \"ticks\": \"\"}}, \"type\": \"scattergl\"}], \"scattermapbox\": [{\"marker\": {\"colorbar\": {\"outlinewidth\": 0, \"ticks\": \"\"}}, \"type\": \"scattermapbox\"}], \"scatterpolar\": [{\"marker\": {\"colorbar\": {\"outlinewidth\": 0, \"ticks\": \"\"}}, \"type\": \"scatterpolar\"}], \"scatterpolargl\": [{\"marker\": {\"colorbar\": {\"outlinewidth\": 0, \"ticks\": \"\"}}, \"type\": \"scatterpolargl\"}], \"scatterternary\": [{\"marker\": {\"colorbar\": {\"outlinewidth\": 0, \"ticks\": \"\"}}, \"type\": \"scatterternary\"}], \"surface\": [{\"colorbar\": {\"outlinewidth\": 0, \"ticks\": \"\"}, \"colorscale\": [[0.0, \"#0d0887\"], [0.1111111111111111, \"#46039f\"], [0.2222222222222222, \"#7201a8\"], [0.3333333333333333, \"#9c179e\"], [0.4444444444444444, \"#bd3786\"], [0.5555555555555556, \"#d8576b\"], [0.6666666666666666, \"#ed7953\"], [0.7777777777777778, \"#fb9f3a\"], [0.8888888888888888, \"#fdca26\"], [1.0, \"#f0f921\"]], \"type\": \"surface\"}], \"table\": [{\"cells\": {\"fill\": {\"color\": \"#EBF0F8\"}, \"line\": {\"color\": \"white\"}}, \"header\": {\"fill\": {\"color\": \"#C8D4E3\"}, \"line\": {\"color\": \"white\"}}, \"type\": \"table\"}]}, \"layout\": {\"annotationdefaults\": {\"arrowcolor\": \"#2a3f5f\", \"arrowhead\": 0, \"arrowwidth\": 1}, \"coloraxis\": {\"colorbar\": {\"outlinewidth\": 0, \"ticks\": \"\"}}, \"colorscale\": {\"diverging\": [[0, \"#8e0152\"], [0.1, \"#c51b7d\"], [0.2, \"#de77ae\"], [0.3, \"#f1b6da\"], [0.4, \"#fde0ef\"], [0.5, \"#f7f7f7\"], [0.6, \"#e6f5d0\"], [0.7, \"#b8e186\"], [0.8, \"#7fbc41\"], [0.9, \"#4d9221\"], [1, \"#276419\"]], \"sequential\": [[0.0, \"#0d0887\"], [0.1111111111111111, \"#46039f\"], [0.2222222222222222, \"#7201a8\"], [0.3333333333333333, \"#9c179e\"], [0.4444444444444444, \"#bd3786\"], [0.5555555555555556, \"#d8576b\"], [0.6666666666666666, \"#ed7953\"], [0.7777777777777778, \"#fb9f3a\"], [0.8888888888888888, \"#fdca26\"], [1.0, \"#f0f921\"]], \"sequentialminus\": [[0.0, \"#0d0887\"], [0.1111111111111111, \"#46039f\"], [0.2222222222222222, \"#7201a8\"], [0.3333333333333333, \"#9c179e\"], [0.4444444444444444, \"#bd3786\"], [0.5555555555555556, \"#d8576b\"], [0.6666666666666666, \"#ed7953\"], [0.7777777777777778, \"#fb9f3a\"], [0.8888888888888888, \"#fdca26\"], [1.0, \"#f0f921\"]]}, \"colorway\": [\"#636efa\", \"#EF553B\", \"#00cc96\", \"#ab63fa\", \"#FFA15A\", \"#19d3f3\", \"#FF6692\", \"#B6E880\", \"#FF97FF\", \"#FECB52\"], \"font\": {\"color\": \"#2a3f5f\"}, \"geo\": {\"bgcolor\": \"white\", \"lakecolor\": \"white\", \"landcolor\": \"#E5ECF6\", \"showlakes\": true, \"showland\": true, \"subunitcolor\": \"white\"}, \"hoverlabel\": {\"align\": \"left\"}, \"hovermode\": \"closest\", \"mapbox\": {\"style\": \"light\"}, \"paper_bgcolor\": \"white\", \"plot_bgcolor\": \"#E5ECF6\", \"polar\": {\"angularaxis\": {\"gridcolor\": \"white\", \"linecolor\": \"white\", \"ticks\": \"\"}, \"bgcolor\": \"#E5ECF6\", \"radialaxis\": {\"gridcolor\": \"white\", \"linecolor\": \"white\", \"ticks\": \"\"}}, \"scene\": {\"xaxis\": {\"backgroundcolor\": \"#E5ECF6\", \"gridcolor\": \"white\", \"gridwidth\": 2, \"linecolor\": \"white\", \"showbackground\": true, \"ticks\": \"\", \"zerolinecolor\": \"white\"}, \"yaxis\": {\"backgroundcolor\": \"#E5ECF6\", \"gridcolor\": \"white\", \"gridwidth\": 2, \"linecolor\": \"white\", \"showbackground\": true, \"ticks\": \"\", \"zerolinecolor\": \"white\"}, \"zaxis\": {\"backgroundcolor\": \"#E5ECF6\", \"gridcolor\": \"white\", \"gridwidth\": 2, \"linecolor\": \"white\", \"showbackground\": true, \"ticks\": \"\", \"zerolinecolor\": \"white\"}}, \"shapedefaults\": {\"line\": {\"color\": \"#2a3f5f\"}}, \"ternary\": {\"aaxis\": {\"gridcolor\": \"white\", \"linecolor\": \"white\", \"ticks\": \"\"}, \"baxis\": {\"gridcolor\": \"white\", \"linecolor\": \"white\", \"ticks\": \"\"}, \"bgcolor\": \"#E5ECF6\", \"caxis\": {\"gridcolor\": \"white\", \"linecolor\": \"white\", \"ticks\": \"\"}}, \"title\": {\"x\": 0.05}, \"xaxis\": {\"automargin\": true, \"gridcolor\": \"white\", \"linecolor\": \"white\", \"ticks\": \"\", \"title\": {\"standoff\": 15}, \"zerolinecolor\": \"white\", \"zerolinewidth\": 2}, \"yaxis\": {\"automargin\": true, \"gridcolor\": \"white\", \"linecolor\": \"white\", \"ticks\": \"\", \"title\": {\"standoff\": 15}, \"zerolinecolor\": \"white\", \"zerolinewidth\": 2}}}, \"title\": {\"text\": \"monthly \\uc8fc\\ubb38 \\uc218\\ub7c9\"}, \"width\": 700, \"xaxis\": {\"anchor\": \"y\", \"domain\": [0.0, 1.0], \"title\": {\"text\": \"order_month\"}}, \"yaxis\": {\"anchor\": \"x\", \"domain\": [0.0, 1.0], \"title\": {\"text\": \"order_count\"}}},                        {\"responsive\": true}                    ).then(function(){\n",
       "                            \n",
       "var gd = document.getElementById('2f68b57c-f784-4e47-a334-b6994456c58b');\n",
       "var x = new MutationObserver(function (mutations, observer) {{\n",
       "        var display = window.getComputedStyle(gd).display;\n",
       "        if (!display || display === 'none') {{\n",
       "            console.log([gd, 'removed!']);\n",
       "            Plotly.purge(gd);\n",
       "            observer.disconnect();\n",
       "        }}\n",
       "}});\n",
       "\n",
       "// Listen for the removal of the full notebook cells\n",
       "var notebookContainer = gd.closest('#notebook-container');\n",
       "if (notebookContainer) {{\n",
       "    x.observe(notebookContainer, {childList: true});\n",
       "}}\n",
       "\n",
       "// Listen for the clearing of the current output cell\n",
       "var outputEl = gd.closest('.output');\n",
       "if (outputEl) {{\n",
       "    x.observe(outputEl, {childList: true});\n",
       "}}\n",
       "\n",
       "                        })                };                });            </script>        </div>"
      ]
     },
     "metadata": {},
     "output_type": "display_data"
    }
   ],
   "source": [
    "px.bar(df_user.groupby('order_month').sum(), y='order_count', title='monthly 주문 수량', width=700, height=400)"
   ]
  },
  {
   "cell_type": "code",
   "execution_count": 221,
   "metadata": {
    "ExecuteTime": {
     "end_time": "2021-05-18T16:34:36.245415Z",
     "start_time": "2021-05-18T16:34:36.139699Z"
    },
    "scrolled": false
   },
   "outputs": [
    {
     "data": {
      "application/vnd.plotly.v1+json": {
       "config": {
        "plotlyServerURL": "https://plot.ly"
       },
       "data": [
        {
         "alignmentgroup": "True",
         "hovertemplate": "order_dayofweek=%{x}<br>order_count=%{y}<extra></extra>",
         "legendgroup": "",
         "marker": {
          "color": "#636efa"
         },
         "name": "",
         "offsetgroup": "",
         "orientation": "v",
         "showlegend": false,
         "textposition": "auto",
         "type": "bar",
         "x": [
          0,
          1,
          2,
          3,
          4,
          5,
          6
         ],
         "xaxis": "x",
         "y": [
          202,
          291,
          332,
          282,
          194,
          62,
          103
         ],
         "yaxis": "y"
        }
       ],
       "layout": {
        "barmode": "relative",
        "height": 400,
        "legend": {
         "tracegroupgap": 0
        },
        "template": {
         "data": {
          "bar": [
           {
            "error_x": {
             "color": "#2a3f5f"
            },
            "error_y": {
             "color": "#2a3f5f"
            },
            "marker": {
             "line": {
              "color": "#E5ECF6",
              "width": 0.5
             }
            },
            "type": "bar"
           }
          ],
          "barpolar": [
           {
            "marker": {
             "line": {
              "color": "#E5ECF6",
              "width": 0.5
             }
            },
            "type": "barpolar"
           }
          ],
          "carpet": [
           {
            "aaxis": {
             "endlinecolor": "#2a3f5f",
             "gridcolor": "white",
             "linecolor": "white",
             "minorgridcolor": "white",
             "startlinecolor": "#2a3f5f"
            },
            "baxis": {
             "endlinecolor": "#2a3f5f",
             "gridcolor": "white",
             "linecolor": "white",
             "minorgridcolor": "white",
             "startlinecolor": "#2a3f5f"
            },
            "type": "carpet"
           }
          ],
          "choropleth": [
           {
            "colorbar": {
             "outlinewidth": 0,
             "ticks": ""
            },
            "type": "choropleth"
           }
          ],
          "contour": [
           {
            "colorbar": {
             "outlinewidth": 0,
             "ticks": ""
            },
            "colorscale": [
             [
              0,
              "#0d0887"
             ],
             [
              0.1111111111111111,
              "#46039f"
             ],
             [
              0.2222222222222222,
              "#7201a8"
             ],
             [
              0.3333333333333333,
              "#9c179e"
             ],
             [
              0.4444444444444444,
              "#bd3786"
             ],
             [
              0.5555555555555556,
              "#d8576b"
             ],
             [
              0.6666666666666666,
              "#ed7953"
             ],
             [
              0.7777777777777778,
              "#fb9f3a"
             ],
             [
              0.8888888888888888,
              "#fdca26"
             ],
             [
              1,
              "#f0f921"
             ]
            ],
            "type": "contour"
           }
          ],
          "contourcarpet": [
           {
            "colorbar": {
             "outlinewidth": 0,
             "ticks": ""
            },
            "type": "contourcarpet"
           }
          ],
          "heatmap": [
           {
            "colorbar": {
             "outlinewidth": 0,
             "ticks": ""
            },
            "colorscale": [
             [
              0,
              "#0d0887"
             ],
             [
              0.1111111111111111,
              "#46039f"
             ],
             [
              0.2222222222222222,
              "#7201a8"
             ],
             [
              0.3333333333333333,
              "#9c179e"
             ],
             [
              0.4444444444444444,
              "#bd3786"
             ],
             [
              0.5555555555555556,
              "#d8576b"
             ],
             [
              0.6666666666666666,
              "#ed7953"
             ],
             [
              0.7777777777777778,
              "#fb9f3a"
             ],
             [
              0.8888888888888888,
              "#fdca26"
             ],
             [
              1,
              "#f0f921"
             ]
            ],
            "type": "heatmap"
           }
          ],
          "heatmapgl": [
           {
            "colorbar": {
             "outlinewidth": 0,
             "ticks": ""
            },
            "colorscale": [
             [
              0,
              "#0d0887"
             ],
             [
              0.1111111111111111,
              "#46039f"
             ],
             [
              0.2222222222222222,
              "#7201a8"
             ],
             [
              0.3333333333333333,
              "#9c179e"
             ],
             [
              0.4444444444444444,
              "#bd3786"
             ],
             [
              0.5555555555555556,
              "#d8576b"
             ],
             [
              0.6666666666666666,
              "#ed7953"
             ],
             [
              0.7777777777777778,
              "#fb9f3a"
             ],
             [
              0.8888888888888888,
              "#fdca26"
             ],
             [
              1,
              "#f0f921"
             ]
            ],
            "type": "heatmapgl"
           }
          ],
          "histogram": [
           {
            "marker": {
             "colorbar": {
              "outlinewidth": 0,
              "ticks": ""
             }
            },
            "type": "histogram"
           }
          ],
          "histogram2d": [
           {
            "colorbar": {
             "outlinewidth": 0,
             "ticks": ""
            },
            "colorscale": [
             [
              0,
              "#0d0887"
             ],
             [
              0.1111111111111111,
              "#46039f"
             ],
             [
              0.2222222222222222,
              "#7201a8"
             ],
             [
              0.3333333333333333,
              "#9c179e"
             ],
             [
              0.4444444444444444,
              "#bd3786"
             ],
             [
              0.5555555555555556,
              "#d8576b"
             ],
             [
              0.6666666666666666,
              "#ed7953"
             ],
             [
              0.7777777777777778,
              "#fb9f3a"
             ],
             [
              0.8888888888888888,
              "#fdca26"
             ],
             [
              1,
              "#f0f921"
             ]
            ],
            "type": "histogram2d"
           }
          ],
          "histogram2dcontour": [
           {
            "colorbar": {
             "outlinewidth": 0,
             "ticks": ""
            },
            "colorscale": [
             [
              0,
              "#0d0887"
             ],
             [
              0.1111111111111111,
              "#46039f"
             ],
             [
              0.2222222222222222,
              "#7201a8"
             ],
             [
              0.3333333333333333,
              "#9c179e"
             ],
             [
              0.4444444444444444,
              "#bd3786"
             ],
             [
              0.5555555555555556,
              "#d8576b"
             ],
             [
              0.6666666666666666,
              "#ed7953"
             ],
             [
              0.7777777777777778,
              "#fb9f3a"
             ],
             [
              0.8888888888888888,
              "#fdca26"
             ],
             [
              1,
              "#f0f921"
             ]
            ],
            "type": "histogram2dcontour"
           }
          ],
          "mesh3d": [
           {
            "colorbar": {
             "outlinewidth": 0,
             "ticks": ""
            },
            "type": "mesh3d"
           }
          ],
          "parcoords": [
           {
            "line": {
             "colorbar": {
              "outlinewidth": 0,
              "ticks": ""
             }
            },
            "type": "parcoords"
           }
          ],
          "pie": [
           {
            "automargin": true,
            "type": "pie"
           }
          ],
          "scatter": [
           {
            "marker": {
             "colorbar": {
              "outlinewidth": 0,
              "ticks": ""
             }
            },
            "type": "scatter"
           }
          ],
          "scatter3d": [
           {
            "line": {
             "colorbar": {
              "outlinewidth": 0,
              "ticks": ""
             }
            },
            "marker": {
             "colorbar": {
              "outlinewidth": 0,
              "ticks": ""
             }
            },
            "type": "scatter3d"
           }
          ],
          "scattercarpet": [
           {
            "marker": {
             "colorbar": {
              "outlinewidth": 0,
              "ticks": ""
             }
            },
            "type": "scattercarpet"
           }
          ],
          "scattergeo": [
           {
            "marker": {
             "colorbar": {
              "outlinewidth": 0,
              "ticks": ""
             }
            },
            "type": "scattergeo"
           }
          ],
          "scattergl": [
           {
            "marker": {
             "colorbar": {
              "outlinewidth": 0,
              "ticks": ""
             }
            },
            "type": "scattergl"
           }
          ],
          "scattermapbox": [
           {
            "marker": {
             "colorbar": {
              "outlinewidth": 0,
              "ticks": ""
             }
            },
            "type": "scattermapbox"
           }
          ],
          "scatterpolar": [
           {
            "marker": {
             "colorbar": {
              "outlinewidth": 0,
              "ticks": ""
             }
            },
            "type": "scatterpolar"
           }
          ],
          "scatterpolargl": [
           {
            "marker": {
             "colorbar": {
              "outlinewidth": 0,
              "ticks": ""
             }
            },
            "type": "scatterpolargl"
           }
          ],
          "scatterternary": [
           {
            "marker": {
             "colorbar": {
              "outlinewidth": 0,
              "ticks": ""
             }
            },
            "type": "scatterternary"
           }
          ],
          "surface": [
           {
            "colorbar": {
             "outlinewidth": 0,
             "ticks": ""
            },
            "colorscale": [
             [
              0,
              "#0d0887"
             ],
             [
              0.1111111111111111,
              "#46039f"
             ],
             [
              0.2222222222222222,
              "#7201a8"
             ],
             [
              0.3333333333333333,
              "#9c179e"
             ],
             [
              0.4444444444444444,
              "#bd3786"
             ],
             [
              0.5555555555555556,
              "#d8576b"
             ],
             [
              0.6666666666666666,
              "#ed7953"
             ],
             [
              0.7777777777777778,
              "#fb9f3a"
             ],
             [
              0.8888888888888888,
              "#fdca26"
             ],
             [
              1,
              "#f0f921"
             ]
            ],
            "type": "surface"
           }
          ],
          "table": [
           {
            "cells": {
             "fill": {
              "color": "#EBF0F8"
             },
             "line": {
              "color": "white"
             }
            },
            "header": {
             "fill": {
              "color": "#C8D4E3"
             },
             "line": {
              "color": "white"
             }
            },
            "type": "table"
           }
          ]
         },
         "layout": {
          "annotationdefaults": {
           "arrowcolor": "#2a3f5f",
           "arrowhead": 0,
           "arrowwidth": 1
          },
          "coloraxis": {
           "colorbar": {
            "outlinewidth": 0,
            "ticks": ""
           }
          },
          "colorscale": {
           "diverging": [
            [
             0,
             "#8e0152"
            ],
            [
             0.1,
             "#c51b7d"
            ],
            [
             0.2,
             "#de77ae"
            ],
            [
             0.3,
             "#f1b6da"
            ],
            [
             0.4,
             "#fde0ef"
            ],
            [
             0.5,
             "#f7f7f7"
            ],
            [
             0.6,
             "#e6f5d0"
            ],
            [
             0.7,
             "#b8e186"
            ],
            [
             0.8,
             "#7fbc41"
            ],
            [
             0.9,
             "#4d9221"
            ],
            [
             1,
             "#276419"
            ]
           ],
           "sequential": [
            [
             0,
             "#0d0887"
            ],
            [
             0.1111111111111111,
             "#46039f"
            ],
            [
             0.2222222222222222,
             "#7201a8"
            ],
            [
             0.3333333333333333,
             "#9c179e"
            ],
            [
             0.4444444444444444,
             "#bd3786"
            ],
            [
             0.5555555555555556,
             "#d8576b"
            ],
            [
             0.6666666666666666,
             "#ed7953"
            ],
            [
             0.7777777777777778,
             "#fb9f3a"
            ],
            [
             0.8888888888888888,
             "#fdca26"
            ],
            [
             1,
             "#f0f921"
            ]
           ],
           "sequentialminus": [
            [
             0,
             "#0d0887"
            ],
            [
             0.1111111111111111,
             "#46039f"
            ],
            [
             0.2222222222222222,
             "#7201a8"
            ],
            [
             0.3333333333333333,
             "#9c179e"
            ],
            [
             0.4444444444444444,
             "#bd3786"
            ],
            [
             0.5555555555555556,
             "#d8576b"
            ],
            [
             0.6666666666666666,
             "#ed7953"
            ],
            [
             0.7777777777777778,
             "#fb9f3a"
            ],
            [
             0.8888888888888888,
             "#fdca26"
            ],
            [
             1,
             "#f0f921"
            ]
           ]
          },
          "colorway": [
           "#636efa",
           "#EF553B",
           "#00cc96",
           "#ab63fa",
           "#FFA15A",
           "#19d3f3",
           "#FF6692",
           "#B6E880",
           "#FF97FF",
           "#FECB52"
          ],
          "font": {
           "color": "#2a3f5f"
          },
          "geo": {
           "bgcolor": "white",
           "lakecolor": "white",
           "landcolor": "#E5ECF6",
           "showlakes": true,
           "showland": true,
           "subunitcolor": "white"
          },
          "hoverlabel": {
           "align": "left"
          },
          "hovermode": "closest",
          "mapbox": {
           "style": "light"
          },
          "paper_bgcolor": "white",
          "plot_bgcolor": "#E5ECF6",
          "polar": {
           "angularaxis": {
            "gridcolor": "white",
            "linecolor": "white",
            "ticks": ""
           },
           "bgcolor": "#E5ECF6",
           "radialaxis": {
            "gridcolor": "white",
            "linecolor": "white",
            "ticks": ""
           }
          },
          "scene": {
           "xaxis": {
            "backgroundcolor": "#E5ECF6",
            "gridcolor": "white",
            "gridwidth": 2,
            "linecolor": "white",
            "showbackground": true,
            "ticks": "",
            "zerolinecolor": "white"
           },
           "yaxis": {
            "backgroundcolor": "#E5ECF6",
            "gridcolor": "white",
            "gridwidth": 2,
            "linecolor": "white",
            "showbackground": true,
            "ticks": "",
            "zerolinecolor": "white"
           },
           "zaxis": {
            "backgroundcolor": "#E5ECF6",
            "gridcolor": "white",
            "gridwidth": 2,
            "linecolor": "white",
            "showbackground": true,
            "ticks": "",
            "zerolinecolor": "white"
           }
          },
          "shapedefaults": {
           "line": {
            "color": "#2a3f5f"
           }
          },
          "ternary": {
           "aaxis": {
            "gridcolor": "white",
            "linecolor": "white",
            "ticks": ""
           },
           "baxis": {
            "gridcolor": "white",
            "linecolor": "white",
            "ticks": ""
           },
           "bgcolor": "#E5ECF6",
           "caxis": {
            "gridcolor": "white",
            "linecolor": "white",
            "ticks": ""
           }
          },
          "title": {
           "x": 0.05
          },
          "xaxis": {
           "automargin": true,
           "gridcolor": "white",
           "linecolor": "white",
           "ticks": "",
           "title": {
            "standoff": 15
           },
           "zerolinecolor": "white",
           "zerolinewidth": 2
          },
          "yaxis": {
           "automargin": true,
           "gridcolor": "white",
           "linecolor": "white",
           "ticks": "",
           "title": {
            "standoff": 15
           },
           "zerolinecolor": "white",
           "zerolinewidth": 2
          }
         }
        },
        "title": {
         "text": "요일별 주문 수량"
        },
        "width": 500,
        "xaxis": {
         "anchor": "y",
         "domain": [
          0,
          1
         ],
         "title": {
          "text": "order_dayofweek"
         }
        },
        "yaxis": {
         "anchor": "x",
         "domain": [
          0,
          1
         ],
         "title": {
          "text": "order_count"
         }
        }
       }
      },
      "text/html": [
       "<div>                            <div id=\"8db5e056-1ade-43b2-9fcc-effbd91bb87b\" class=\"plotly-graph-div\" style=\"height:400px; width:500px;\"></div>            <script type=\"text/javascript\">                require([\"plotly\"], function(Plotly) {                    window.PLOTLYENV=window.PLOTLYENV || {};                                    if (document.getElementById(\"8db5e056-1ade-43b2-9fcc-effbd91bb87b\")) {                    Plotly.newPlot(                        \"8db5e056-1ade-43b2-9fcc-effbd91bb87b\",                        [{\"alignmentgroup\": \"True\", \"hovertemplate\": \"order_dayofweek=%{x}<br>order_count=%{y}<extra></extra>\", \"legendgroup\": \"\", \"marker\": {\"color\": \"#636efa\"}, \"name\": \"\", \"offsetgroup\": \"\", \"orientation\": \"v\", \"showlegend\": false, \"textposition\": \"auto\", \"type\": \"bar\", \"x\": [0, 1, 2, 3, 4, 5, 6], \"xaxis\": \"x\", \"y\": [202, 291, 332, 282, 194, 62, 103], \"yaxis\": \"y\"}],                        {\"barmode\": \"relative\", \"height\": 400, \"legend\": {\"tracegroupgap\": 0}, \"template\": {\"data\": {\"bar\": [{\"error_x\": {\"color\": \"#2a3f5f\"}, \"error_y\": {\"color\": \"#2a3f5f\"}, \"marker\": {\"line\": {\"color\": \"#E5ECF6\", \"width\": 0.5}}, \"type\": \"bar\"}], \"barpolar\": [{\"marker\": {\"line\": {\"color\": \"#E5ECF6\", \"width\": 0.5}}, \"type\": \"barpolar\"}], \"carpet\": [{\"aaxis\": {\"endlinecolor\": \"#2a3f5f\", \"gridcolor\": \"white\", \"linecolor\": \"white\", \"minorgridcolor\": \"white\", \"startlinecolor\": \"#2a3f5f\"}, \"baxis\": {\"endlinecolor\": \"#2a3f5f\", \"gridcolor\": \"white\", \"linecolor\": \"white\", \"minorgridcolor\": \"white\", \"startlinecolor\": \"#2a3f5f\"}, \"type\": \"carpet\"}], \"choropleth\": [{\"colorbar\": {\"outlinewidth\": 0, \"ticks\": \"\"}, \"type\": \"choropleth\"}], \"contour\": [{\"colorbar\": {\"outlinewidth\": 0, \"ticks\": \"\"}, \"colorscale\": [[0.0, \"#0d0887\"], [0.1111111111111111, \"#46039f\"], [0.2222222222222222, \"#7201a8\"], [0.3333333333333333, \"#9c179e\"], [0.4444444444444444, \"#bd3786\"], [0.5555555555555556, \"#d8576b\"], [0.6666666666666666, \"#ed7953\"], [0.7777777777777778, \"#fb9f3a\"], [0.8888888888888888, \"#fdca26\"], [1.0, \"#f0f921\"]], \"type\": \"contour\"}], \"contourcarpet\": [{\"colorbar\": {\"outlinewidth\": 0, \"ticks\": \"\"}, \"type\": \"contourcarpet\"}], \"heatmap\": [{\"colorbar\": {\"outlinewidth\": 0, \"ticks\": \"\"}, \"colorscale\": [[0.0, \"#0d0887\"], [0.1111111111111111, \"#46039f\"], [0.2222222222222222, \"#7201a8\"], [0.3333333333333333, \"#9c179e\"], [0.4444444444444444, \"#bd3786\"], [0.5555555555555556, \"#d8576b\"], [0.6666666666666666, \"#ed7953\"], [0.7777777777777778, \"#fb9f3a\"], [0.8888888888888888, \"#fdca26\"], [1.0, \"#f0f921\"]], \"type\": \"heatmap\"}], \"heatmapgl\": [{\"colorbar\": {\"outlinewidth\": 0, \"ticks\": \"\"}, \"colorscale\": [[0.0, \"#0d0887\"], [0.1111111111111111, \"#46039f\"], [0.2222222222222222, \"#7201a8\"], [0.3333333333333333, \"#9c179e\"], [0.4444444444444444, \"#bd3786\"], [0.5555555555555556, \"#d8576b\"], [0.6666666666666666, \"#ed7953\"], [0.7777777777777778, \"#fb9f3a\"], [0.8888888888888888, \"#fdca26\"], [1.0, \"#f0f921\"]], \"type\": \"heatmapgl\"}], \"histogram\": [{\"marker\": {\"colorbar\": {\"outlinewidth\": 0, \"ticks\": \"\"}}, \"type\": \"histogram\"}], \"histogram2d\": [{\"colorbar\": {\"outlinewidth\": 0, \"ticks\": \"\"}, \"colorscale\": [[0.0, \"#0d0887\"], [0.1111111111111111, \"#46039f\"], [0.2222222222222222, \"#7201a8\"], [0.3333333333333333, \"#9c179e\"], [0.4444444444444444, \"#bd3786\"], [0.5555555555555556, \"#d8576b\"], [0.6666666666666666, \"#ed7953\"], [0.7777777777777778, \"#fb9f3a\"], [0.8888888888888888, \"#fdca26\"], [1.0, \"#f0f921\"]], \"type\": \"histogram2d\"}], \"histogram2dcontour\": [{\"colorbar\": {\"outlinewidth\": 0, \"ticks\": \"\"}, \"colorscale\": [[0.0, \"#0d0887\"], [0.1111111111111111, \"#46039f\"], [0.2222222222222222, \"#7201a8\"], [0.3333333333333333, \"#9c179e\"], [0.4444444444444444, \"#bd3786\"], [0.5555555555555556, \"#d8576b\"], [0.6666666666666666, \"#ed7953\"], [0.7777777777777778, \"#fb9f3a\"], [0.8888888888888888, \"#fdca26\"], [1.0, \"#f0f921\"]], \"type\": \"histogram2dcontour\"}], \"mesh3d\": [{\"colorbar\": {\"outlinewidth\": 0, \"ticks\": \"\"}, \"type\": \"mesh3d\"}], \"parcoords\": [{\"line\": {\"colorbar\": {\"outlinewidth\": 0, \"ticks\": \"\"}}, \"type\": \"parcoords\"}], \"pie\": [{\"automargin\": true, \"type\": \"pie\"}], \"scatter\": [{\"marker\": {\"colorbar\": {\"outlinewidth\": 0, \"ticks\": \"\"}}, \"type\": \"scatter\"}], \"scatter3d\": [{\"line\": {\"colorbar\": {\"outlinewidth\": 0, \"ticks\": \"\"}}, \"marker\": {\"colorbar\": {\"outlinewidth\": 0, \"ticks\": \"\"}}, \"type\": \"scatter3d\"}], \"scattercarpet\": [{\"marker\": {\"colorbar\": {\"outlinewidth\": 0, \"ticks\": \"\"}}, \"type\": \"scattercarpet\"}], \"scattergeo\": [{\"marker\": {\"colorbar\": {\"outlinewidth\": 0, \"ticks\": \"\"}}, \"type\": \"scattergeo\"}], \"scattergl\": [{\"marker\": {\"colorbar\": {\"outlinewidth\": 0, \"ticks\": \"\"}}, \"type\": \"scattergl\"}], \"scattermapbox\": [{\"marker\": {\"colorbar\": {\"outlinewidth\": 0, \"ticks\": \"\"}}, \"type\": \"scattermapbox\"}], \"scatterpolar\": [{\"marker\": {\"colorbar\": {\"outlinewidth\": 0, \"ticks\": \"\"}}, \"type\": \"scatterpolar\"}], \"scatterpolargl\": [{\"marker\": {\"colorbar\": {\"outlinewidth\": 0, \"ticks\": \"\"}}, \"type\": \"scatterpolargl\"}], \"scatterternary\": [{\"marker\": {\"colorbar\": {\"outlinewidth\": 0, \"ticks\": \"\"}}, \"type\": \"scatterternary\"}], \"surface\": [{\"colorbar\": {\"outlinewidth\": 0, \"ticks\": \"\"}, \"colorscale\": [[0.0, \"#0d0887\"], [0.1111111111111111, \"#46039f\"], [0.2222222222222222, \"#7201a8\"], [0.3333333333333333, \"#9c179e\"], [0.4444444444444444, \"#bd3786\"], [0.5555555555555556, \"#d8576b\"], [0.6666666666666666, \"#ed7953\"], [0.7777777777777778, \"#fb9f3a\"], [0.8888888888888888, \"#fdca26\"], [1.0, \"#f0f921\"]], \"type\": \"surface\"}], \"table\": [{\"cells\": {\"fill\": {\"color\": \"#EBF0F8\"}, \"line\": {\"color\": \"white\"}}, \"header\": {\"fill\": {\"color\": \"#C8D4E3\"}, \"line\": {\"color\": \"white\"}}, \"type\": \"table\"}]}, \"layout\": {\"annotationdefaults\": {\"arrowcolor\": \"#2a3f5f\", \"arrowhead\": 0, \"arrowwidth\": 1}, \"coloraxis\": {\"colorbar\": {\"outlinewidth\": 0, \"ticks\": \"\"}}, \"colorscale\": {\"diverging\": [[0, \"#8e0152\"], [0.1, \"#c51b7d\"], [0.2, \"#de77ae\"], [0.3, \"#f1b6da\"], [0.4, \"#fde0ef\"], [0.5, \"#f7f7f7\"], [0.6, \"#e6f5d0\"], [0.7, \"#b8e186\"], [0.8, \"#7fbc41\"], [0.9, \"#4d9221\"], [1, \"#276419\"]], \"sequential\": [[0.0, \"#0d0887\"], [0.1111111111111111, \"#46039f\"], [0.2222222222222222, \"#7201a8\"], [0.3333333333333333, \"#9c179e\"], [0.4444444444444444, \"#bd3786\"], [0.5555555555555556, \"#d8576b\"], [0.6666666666666666, \"#ed7953\"], [0.7777777777777778, \"#fb9f3a\"], [0.8888888888888888, \"#fdca26\"], [1.0, \"#f0f921\"]], \"sequentialminus\": [[0.0, \"#0d0887\"], [0.1111111111111111, \"#46039f\"], [0.2222222222222222, \"#7201a8\"], [0.3333333333333333, \"#9c179e\"], [0.4444444444444444, \"#bd3786\"], [0.5555555555555556, \"#d8576b\"], [0.6666666666666666, \"#ed7953\"], [0.7777777777777778, \"#fb9f3a\"], [0.8888888888888888, \"#fdca26\"], [1.0, \"#f0f921\"]]}, \"colorway\": [\"#636efa\", \"#EF553B\", \"#00cc96\", \"#ab63fa\", \"#FFA15A\", \"#19d3f3\", \"#FF6692\", \"#B6E880\", \"#FF97FF\", \"#FECB52\"], \"font\": {\"color\": \"#2a3f5f\"}, \"geo\": {\"bgcolor\": \"white\", \"lakecolor\": \"white\", \"landcolor\": \"#E5ECF6\", \"showlakes\": true, \"showland\": true, \"subunitcolor\": \"white\"}, \"hoverlabel\": {\"align\": \"left\"}, \"hovermode\": \"closest\", \"mapbox\": {\"style\": \"light\"}, \"paper_bgcolor\": \"white\", \"plot_bgcolor\": \"#E5ECF6\", \"polar\": {\"angularaxis\": {\"gridcolor\": \"white\", \"linecolor\": \"white\", \"ticks\": \"\"}, \"bgcolor\": \"#E5ECF6\", \"radialaxis\": {\"gridcolor\": \"white\", \"linecolor\": \"white\", \"ticks\": \"\"}}, \"scene\": {\"xaxis\": {\"backgroundcolor\": \"#E5ECF6\", \"gridcolor\": \"white\", \"gridwidth\": 2, \"linecolor\": \"white\", \"showbackground\": true, \"ticks\": \"\", \"zerolinecolor\": \"white\"}, \"yaxis\": {\"backgroundcolor\": \"#E5ECF6\", \"gridcolor\": \"white\", \"gridwidth\": 2, \"linecolor\": \"white\", \"showbackground\": true, \"ticks\": \"\", \"zerolinecolor\": \"white\"}, \"zaxis\": {\"backgroundcolor\": \"#E5ECF6\", \"gridcolor\": \"white\", \"gridwidth\": 2, \"linecolor\": \"white\", \"showbackground\": true, \"ticks\": \"\", \"zerolinecolor\": \"white\"}}, \"shapedefaults\": {\"line\": {\"color\": \"#2a3f5f\"}}, \"ternary\": {\"aaxis\": {\"gridcolor\": \"white\", \"linecolor\": \"white\", \"ticks\": \"\"}, \"baxis\": {\"gridcolor\": \"white\", \"linecolor\": \"white\", \"ticks\": \"\"}, \"bgcolor\": \"#E5ECF6\", \"caxis\": {\"gridcolor\": \"white\", \"linecolor\": \"white\", \"ticks\": \"\"}}, \"title\": {\"x\": 0.05}, \"xaxis\": {\"automargin\": true, \"gridcolor\": \"white\", \"linecolor\": \"white\", \"ticks\": \"\", \"title\": {\"standoff\": 15}, \"zerolinecolor\": \"white\", \"zerolinewidth\": 2}, \"yaxis\": {\"automargin\": true, \"gridcolor\": \"white\", \"linecolor\": \"white\", \"ticks\": \"\", \"title\": {\"standoff\": 15}, \"zerolinecolor\": \"white\", \"zerolinewidth\": 2}}}, \"title\": {\"text\": \"\\uc694\\uc77c\\ubcc4 \\uc8fc\\ubb38 \\uc218\\ub7c9\"}, \"width\": 500, \"xaxis\": {\"anchor\": \"y\", \"domain\": [0.0, 1.0], \"title\": {\"text\": \"order_dayofweek\"}}, \"yaxis\": {\"anchor\": \"x\", \"domain\": [0.0, 1.0], \"title\": {\"text\": \"order_count\"}}},                        {\"responsive\": true}                    ).then(function(){\n",
       "                            \n",
       "var gd = document.getElementById('8db5e056-1ade-43b2-9fcc-effbd91bb87b');\n",
       "var x = new MutationObserver(function (mutations, observer) {{\n",
       "        var display = window.getComputedStyle(gd).display;\n",
       "        if (!display || display === 'none') {{\n",
       "            console.log([gd, 'removed!']);\n",
       "            Plotly.purge(gd);\n",
       "            observer.disconnect();\n",
       "        }}\n",
       "}});\n",
       "\n",
       "// Listen for the removal of the full notebook cells\n",
       "var notebookContainer = gd.closest('#notebook-container');\n",
       "if (notebookContainer) {{\n",
       "    x.observe(notebookContainer, {childList: true});\n",
       "}}\n",
       "\n",
       "// Listen for the clearing of the current output cell\n",
       "var outputEl = gd.closest('.output');\n",
       "if (outputEl) {{\n",
       "    x.observe(outputEl, {childList: true});\n",
       "}}\n",
       "\n",
       "                        })                };                });            </script>        </div>"
      ]
     },
     "metadata": {},
     "output_type": "display_data"
    }
   ],
   "source": [
    "px.bar(df_user.groupby('order_dayofweek').sum(), y='order_count',title='요일별 주문 수량', width=500, height=400)"
   ]
  },
  {
   "cell_type": "markdown",
   "metadata": {},
   "source": [
    "- 주말에 급하락, 수요일마다 급상승하는 분포의 반복\n",
    "- 3월에 집중"
   ]
  },
  {
   "cell_type": "markdown",
   "metadata": {},
   "source": [
    "###### 가입기간 기준 코호트별"
   ]
  },
  {
   "cell_type": "code",
   "execution_count": 222,
   "metadata": {
    "ExecuteTime": {
     "end_time": "2021-05-18T16:34:37.981898Z",
     "start_time": "2021-05-18T16:34:37.259829Z"
    },
    "scrolled": false
   },
   "outputs": [
    {
     "data": {
      "text/plain": [
       "<matplotlib.axes._subplots.AxesSubplot at 0x1c5848f5550>"
      ]
     },
     "execution_count": 222,
     "metadata": {},
     "output_type": "execute_result"
    },
    {
     "data": {
      "image/png": "[encoded data removed]",
      "text/plain": [
       "<Figure size 720x288 with 1 Axes>"
      ]
     },
     "metadata": {},
     "output_type": "display_data"
    }
   ],
   "source": [
    "df_user.groupby('reg_yearmonth').sum().reset_index().plot.bar(x='reg_yearmonth', y='order_count', rot=45, figsize=(10,4))"
   ]
  },
  {
   "cell_type": "markdown",
   "metadata": {},
   "source": [
    "- 가입 시기 최근 집단일수록 2021.01-03 주문량 많음"
   ]
  },
  {
   "cell_type": "markdown",
   "metadata": {},
   "source": [
    "###### 자주 구매하는 카테고리 기준 코호트별"
   ]
  },
  {
   "cell_type": "code",
   "execution_count": 229,
   "metadata": {
    "ExecuteTime": {
     "end_time": "2021-05-18T16:34:54.891974Z",
     "start_time": "2021-05-18T16:34:54.681449Z"
    },
    "scrolled": false
   },
   "outputs": [
    {
     "name": "stdout",
     "output_type": "stream",
     "text": [
      "  index  sub_type\n",
      "0  BA    692     \n",
      "1  O     267     \n",
      "2  D     261     \n",
      "3  T     164     \n",
      "4  B     58      \n",
      "5  TP    29      \n",
      "전체 % \n",
      " BA   0.47\n",
      "O    0.18\n",
      "D    0.18\n",
      "T    0.11\n",
      "B    0.04\n",
      "TP   0.02\n",
      "Name: sub_type, dtype: float64\n"
     ]
    },
    {
     "data": {
      "text/plain": [
       "<matplotlib.axes._subplots.AxesSubplot at 0x1c58def77b8>"
      ]
     },
     "execution_count": 229,
     "metadata": {},
     "output_type": "execute_result"
    },
    {
     "data": {
      "image/png": "[encoded data removed]",
      "text/plain": [
       "<Figure size 432x288 with 1 Axes>"
      ]
     },
     "metadata": {},
     "output_type": "display_data"
    }
   ],
   "source": [
    "# 카테고리별 주문 수량\n",
    "print(df.sub_type.value_counts().sort_values(ascending=False).reset_index())\n",
    "print('전체 % \\n',(df.sub_type.value_counts().sort_values(ascending=False)/ df.sub_type.value_counts().sum()))\n",
    "df.sub_type.value_counts().sort_values(ascending=False).plot.bar(figsize=(6,4),rot=50, title='카테고리별 주문수량')"
   ]
  },
  {
   "cell_type": "code",
   "execution_count": 230,
   "metadata": {
    "ExecuteTime": {
     "end_time": "2021-05-18T16:34:55.221626Z",
     "start_time": "2021-05-18T16:34:55.210656Z"
    }
   },
   "outputs": [
    {
     "data": {
      "text/plain": [
       "1471"
      ]
     },
     "execution_count": 230,
     "metadata": {},
     "output_type": "execute_result"
    }
   ],
   "source": [
    "df.sub_type.value_counts().sum()"
   ]
  },
  {
   "cell_type": "code",
   "execution_count": 231,
   "metadata": {
    "ExecuteTime": {
     "end_time": "2021-05-18T16:34:55.266507Z",
     "start_time": "2021-05-18T16:34:55.224619Z"
    },
    "scrolled": true
   },
   "outputs": [
    {
     "data": {
      "text/html": [
       "<div>\n",
       "<style scoped>\n",
       "    .dataframe tbody tr th:only-of-type {\n",
       "        vertical-align: middle;\n",
       "    }\n",
       "\n",
       "    .dataframe tbody tr th {\n",
       "        vertical-align: top;\n",
       "    }\n",
       "\n",
       "    .dataframe thead th {\n",
       "        text-align: right;\n",
       "    }\n",
       "</style>\n",
       "<table border=\"1\" class=\"dataframe\">\n",
       "  <thead>\n",
       "    <tr style=\"text-align: right;\">\n",
       "      <th></th>\n",
       "      <th>count</th>\n",
       "      <th>mean</th>\n",
       "      <th>std</th>\n",
       "      <th>min</th>\n",
       "      <th>25%</th>\n",
       "      <th>50%</th>\n",
       "      <th>75%</th>\n",
       "      <th>max</th>\n",
       "    </tr>\n",
       "  </thead>\n",
       "  <tbody>\n",
       "    <tr>\n",
       "      <th>B</th>\n",
       "      <td>1229.00</td>\n",
       "      <td>0.05</td>\n",
       "      <td>0.30</td>\n",
       "      <td>0.00</td>\n",
       "      <td>0.00</td>\n",
       "      <td>0.00</td>\n",
       "      <td>0.00</td>\n",
       "      <td>6.00</td>\n",
       "    </tr>\n",
       "    <tr>\n",
       "      <th>BA</th>\n",
       "      <td>1229.00</td>\n",
       "      <td>0.56</td>\n",
       "      <td>0.50</td>\n",
       "      <td>0.00</td>\n",
       "      <td>0.00</td>\n",
       "      <td>1.00</td>\n",
       "      <td>1.00</td>\n",
       "      <td>2.00</td>\n",
       "    </tr>\n",
       "    <tr>\n",
       "      <th>D</th>\n",
       "      <td>1229.00</td>\n",
       "      <td>0.21</td>\n",
       "      <td>0.52</td>\n",
       "      <td>0.00</td>\n",
       "      <td>0.00</td>\n",
       "      <td>0.00</td>\n",
       "      <td>0.00</td>\n",
       "      <td>6.00</td>\n",
       "    </tr>\n",
       "    <tr>\n",
       "      <th>O</th>\n",
       "      <td>1229.00</td>\n",
       "      <td>0.22</td>\n",
       "      <td>0.43</td>\n",
       "      <td>0.00</td>\n",
       "      <td>0.00</td>\n",
       "      <td>0.00</td>\n",
       "      <td>0.00</td>\n",
       "      <td>2.00</td>\n",
       "    </tr>\n",
       "    <tr>\n",
       "      <th>T</th>\n",
       "      <td>1229.00</td>\n",
       "      <td>0.13</td>\n",
       "      <td>0.47</td>\n",
       "      <td>0.00</td>\n",
       "      <td>0.00</td>\n",
       "      <td>0.00</td>\n",
       "      <td>0.00</td>\n",
       "      <td>8.00</td>\n",
       "    </tr>\n",
       "    <tr>\n",
       "      <th>TP</th>\n",
       "      <td>1229.00</td>\n",
       "      <td>0.02</td>\n",
       "      <td>0.16</td>\n",
       "      <td>0.00</td>\n",
       "      <td>0.00</td>\n",
       "      <td>0.00</td>\n",
       "      <td>0.00</td>\n",
       "      <td>2.00</td>\n",
       "    </tr>\n",
       "  </tbody>\n",
       "</table>\n",
       "</div>"
      ],
      "text/plain": [
       "     count  mean  std  min  25%  50%  75%  max\n",
       "B  1229.00 0.05  0.30 0.00 0.00 0.00 0.00 6.00\n",
       "BA 1229.00 0.56  0.50 0.00 0.00 1.00 1.00 2.00\n",
       "D  1229.00 0.21  0.52 0.00 0.00 0.00 0.00 6.00\n",
       "O  1229.00 0.22  0.43 0.00 0.00 0.00 0.00 2.00\n",
       "T  1229.00 0.13  0.47 0.00 0.00 0.00 0.00 8.00\n",
       "TP 1229.00 0.02  0.16 0.00 0.00 0.00 0.00 2.00"
      ]
     },
     "execution_count": 231,
     "metadata": {},
     "output_type": "execute_result"
    }
   ],
   "source": [
    "df_user[['B','BA','D','O','T','TP']].describe().T"
   ]
  },
  {
   "cell_type": "code",
   "execution_count": 241,
   "metadata": {
    "ExecuteTime": {
     "end_time": "2021-05-18T16:35:13.391963Z",
     "start_time": "2021-05-18T16:35:13.353020Z"
    },
    "scrolled": true
   },
   "outputs": [
    {
     "data": {
      "text/html": [
       "<div>\n",
       "<style scoped>\n",
       "    .dataframe tbody tr th:only-of-type {\n",
       "        vertical-align: middle;\n",
       "    }\n",
       "\n",
       "    .dataframe tbody tr th {\n",
       "        vertical-align: top;\n",
       "    }\n",
       "\n",
       "    .dataframe thead th {\n",
       "        text-align: right;\n",
       "    }\n",
       "</style>\n",
       "<table border=\"1\" class=\"dataframe\">\n",
       "  <thead>\n",
       "    <tr style=\"text-align: right;\">\n",
       "      <th></th>\n",
       "      <th>brandnm</th>\n",
       "      <th>goodsnm</th>\n",
       "      <th>user</th>\n",
       "      <th>reg_date</th>\n",
       "      <th>order_date</th>\n",
       "      <th>p_type</th>\n",
       "      <th>sub_type</th>\n",
       "      <th>app_yn</th>\n",
       "      <th>reg_year</th>\n",
       "      <th>reg_month</th>\n",
       "      <th>reg_yearmonth</th>\n",
       "      <th>reg_dayofweek</th>\n",
       "      <th>order_month</th>\n",
       "      <th>order_week</th>\n",
       "      <th>order_dayofweek</th>\n",
       "      <th>brandnm_luxury</th>\n",
       "      <th>seg_new</th>\n",
       "    </tr>\n",
       "  </thead>\n",
       "  <tbody>\n",
       "    <tr>\n",
       "      <th>151</th>\n",
       "      <td>Vivienne Westwood</td>\n",
       "      <td>basic pattern t-shirts lavender</td>\n",
       "      <td>a1142677</td>\n",
       "      <td>2021-01-13</td>\n",
       "      <td>2021-01-18</td>\n",
       "      <td>4days</td>\n",
       "      <td>T</td>\n",
       "      <td>1</td>\n",
       "      <td>2021</td>\n",
       "      <td>01</td>\n",
       "      <td>2021-01</td>\n",
       "      <td>2.00</td>\n",
       "      <td>1</td>\n",
       "      <td>3</td>\n",
       "      <td>0</td>\n",
       "      <td>0</td>\n",
       "      <td>1</td>\n",
       "    </tr>\n",
       "    <tr>\n",
       "      <th>152</th>\n",
       "      <td>Greedilous</td>\n",
       "      <td>graphics pattern t-shirts yellow</td>\n",
       "      <td>a1142677</td>\n",
       "      <td>2021-01-13</td>\n",
       "      <td>2021-01-18</td>\n",
       "      <td>4days</td>\n",
       "      <td>T</td>\n",
       "      <td>1</td>\n",
       "      <td>2021</td>\n",
       "      <td>01</td>\n",
       "      <td>2021-01</td>\n",
       "      <td>2.00</td>\n",
       "      <td>1</td>\n",
       "      <td>3</td>\n",
       "      <td>0</td>\n",
       "      <td>0</td>\n",
       "      <td>1</td>\n",
       "    </tr>\n",
       "    <tr>\n",
       "      <th>153</th>\n",
       "      <td>System homme</td>\n",
       "      <td>pocket stripe pattern shirts pink</td>\n",
       "      <td>a1142677</td>\n",
       "      <td>2021-01-13</td>\n",
       "      <td>2021-01-18</td>\n",
       "      <td>4days</td>\n",
       "      <td>T</td>\n",
       "      <td>1</td>\n",
       "      <td>2021</td>\n",
       "      <td>01</td>\n",
       "      <td>2021-01</td>\n",
       "      <td>2.00</td>\n",
       "      <td>1</td>\n",
       "      <td>3</td>\n",
       "      <td>0</td>\n",
       "      <td>0</td>\n",
       "      <td>1</td>\n",
       "    </tr>\n",
       "    <tr>\n",
       "      <th>154</th>\n",
       "      <td>Covernat</td>\n",
       "      <td>button check pattern shirts mustard</td>\n",
       "      <td>a1142677</td>\n",
       "      <td>2021-01-13</td>\n",
       "      <td>2021-01-18</td>\n",
       "      <td>4days</td>\n",
       "      <td>T</td>\n",
       "      <td>1</td>\n",
       "      <td>2021</td>\n",
       "      <td>01</td>\n",
       "      <td>2021-01</td>\n",
       "      <td>2.00</td>\n",
       "      <td>1</td>\n",
       "      <td>3</td>\n",
       "      <td>0</td>\n",
       "      <td>0</td>\n",
       "      <td>1</td>\n",
       "    </tr>\n",
       "    <tr>\n",
       "      <th>155</th>\n",
       "      <td>Musinsa standard</td>\n",
       "      <td>button basic pattern shirts deeppink</td>\n",
       "      <td>a1142677</td>\n",
       "      <td>2021-01-13</td>\n",
       "      <td>2021-01-18</td>\n",
       "      <td>4days</td>\n",
       "      <td>T</td>\n",
       "      <td>1</td>\n",
       "      <td>2021</td>\n",
       "      <td>01</td>\n",
       "      <td>2021-01</td>\n",
       "      <td>2.00</td>\n",
       "      <td>1</td>\n",
       "      <td>3</td>\n",
       "      <td>0</td>\n",
       "      <td>0</td>\n",
       "      <td>1</td>\n",
       "    </tr>\n",
       "    <tr>\n",
       "      <th>156</th>\n",
       "      <td>Musinsa standard</td>\n",
       "      <td>button basic pattern polo-shirts beige</td>\n",
       "      <td>a1142677</td>\n",
       "      <td>2021-01-13</td>\n",
       "      <td>2021-01-18</td>\n",
       "      <td>4days</td>\n",
       "      <td>T</td>\n",
       "      <td>1</td>\n",
       "      <td>2021</td>\n",
       "      <td>01</td>\n",
       "      <td>2021-01</td>\n",
       "      <td>2.00</td>\n",
       "      <td>1</td>\n",
       "      <td>3</td>\n",
       "      <td>0</td>\n",
       "      <td>0</td>\n",
       "      <td>1</td>\n",
       "    </tr>\n",
       "    <tr>\n",
       "      <th>157</th>\n",
       "      <td>Lafudge Store</td>\n",
       "      <td>pocket basic pattern top beige</td>\n",
       "      <td>a1142677</td>\n",
       "      <td>2021-01-13</td>\n",
       "      <td>2021-01-18</td>\n",
       "      <td>4days</td>\n",
       "      <td>T</td>\n",
       "      <td>1</td>\n",
       "      <td>2021</td>\n",
       "      <td>01</td>\n",
       "      <td>2021-01</td>\n",
       "      <td>2.00</td>\n",
       "      <td>1</td>\n",
       "      <td>3</td>\n",
       "      <td>0</td>\n",
       "      <td>0</td>\n",
       "      <td>1</td>\n",
       "    </tr>\n",
       "    <tr>\n",
       "      <th>158</th>\n",
       "      <td>Calvin Klein</td>\n",
       "      <td>pocket basic pattern wool slacks grey</td>\n",
       "      <td>a1142677</td>\n",
       "      <td>2021-01-13</td>\n",
       "      <td>2021-01-18</td>\n",
       "      <td>4days</td>\n",
       "      <td>B</td>\n",
       "      <td>1</td>\n",
       "      <td>2021</td>\n",
       "      <td>01</td>\n",
       "      <td>2021-01</td>\n",
       "      <td>2.00</td>\n",
       "      <td>1</td>\n",
       "      <td>3</td>\n",
       "      <td>0</td>\n",
       "      <td>0</td>\n",
       "      <td>1</td>\n",
       "    </tr>\n",
       "    <tr>\n",
       "      <th>159</th>\n",
       "      <td>Massimo Dutti</td>\n",
       "      <td>pocket basic pattern shirts mint</td>\n",
       "      <td>a1142677</td>\n",
       "      <td>2021-01-13</td>\n",
       "      <td>2021-01-18</td>\n",
       "      <td>4days</td>\n",
       "      <td>T</td>\n",
       "      <td>1</td>\n",
       "      <td>2021</td>\n",
       "      <td>01</td>\n",
       "      <td>2021-01</td>\n",
       "      <td>2.00</td>\n",
       "      <td>1</td>\n",
       "      <td>3</td>\n",
       "      <td>0</td>\n",
       "      <td>0</td>\n",
       "      <td>1</td>\n",
       "    </tr>\n",
       "    <tr>\n",
       "      <th>1128</th>\n",
       "      <td>Alice &amp; Olivia</td>\n",
       "      <td>see-through lace detail blouse black</td>\n",
       "      <td>a1149461</td>\n",
       "      <td>2021-03-15</td>\n",
       "      <td>2021-03-17</td>\n",
       "      <td>4days</td>\n",
       "      <td>T</td>\n",
       "      <td>0</td>\n",
       "      <td>2021</td>\n",
       "      <td>03</td>\n",
       "      <td>2021-03</td>\n",
       "      <td>0.00</td>\n",
       "      <td>3</td>\n",
       "      <td>11</td>\n",
       "      <td>2</td>\n",
       "      <td>0</td>\n",
       "      <td>1</td>\n",
       "    </tr>\n",
       "    <tr>\n",
       "      <th>1129</th>\n",
       "      <td>Sandro</td>\n",
       "      <td>embroidery detail lace skirt multi</td>\n",
       "      <td>a1149461</td>\n",
       "      <td>2021-03-15</td>\n",
       "      <td>2021-03-17</td>\n",
       "      <td>4days</td>\n",
       "      <td>B</td>\n",
       "      <td>0</td>\n",
       "      <td>2021</td>\n",
       "      <td>03</td>\n",
       "      <td>2021-03</td>\n",
       "      <td>0.00</td>\n",
       "      <td>3</td>\n",
       "      <td>11</td>\n",
       "      <td>2</td>\n",
       "      <td>0</td>\n",
       "      <td>1</td>\n",
       "    </tr>\n",
       "    <tr>\n",
       "      <th>1130</th>\n",
       "      <td>Time</td>\n",
       "      <td>draping detail midi skirt gray</td>\n",
       "      <td>a1149461</td>\n",
       "      <td>2021-03-15</td>\n",
       "      <td>2021-03-17</td>\n",
       "      <td>4days</td>\n",
       "      <td>B</td>\n",
       "      <td>0</td>\n",
       "      <td>2021</td>\n",
       "      <td>03</td>\n",
       "      <td>2021-03</td>\n",
       "      <td>0.00</td>\n",
       "      <td>3</td>\n",
       "      <td>11</td>\n",
       "      <td>2</td>\n",
       "      <td>0</td>\n",
       "      <td>1</td>\n",
       "    </tr>\n",
       "    <tr>\n",
       "      <th>1131</th>\n",
       "      <td>El estilo de Claire</td>\n",
       "      <td>ruffle detail see-through sleeve blouse black</td>\n",
       "      <td>a1149461</td>\n",
       "      <td>2021-03-15</td>\n",
       "      <td>2021-03-17</td>\n",
       "      <td>4days</td>\n",
       "      <td>T</td>\n",
       "      <td>0</td>\n",
       "      <td>2021</td>\n",
       "      <td>03</td>\n",
       "      <td>2021-03</td>\n",
       "      <td>0.00</td>\n",
       "      <td>3</td>\n",
       "      <td>11</td>\n",
       "      <td>2</td>\n",
       "      <td>0</td>\n",
       "      <td>1</td>\n",
       "    </tr>\n",
       "    <tr>\n",
       "      <th>1132</th>\n",
       "      <td>It michaa</td>\n",
       "      <td>pocket basic pattern skirt green</td>\n",
       "      <td>a1149461</td>\n",
       "      <td>2021-03-15</td>\n",
       "      <td>2021-03-17</td>\n",
       "      <td>4days</td>\n",
       "      <td>B</td>\n",
       "      <td>0</td>\n",
       "      <td>2021</td>\n",
       "      <td>03</td>\n",
       "      <td>2021-03</td>\n",
       "      <td>0.00</td>\n",
       "      <td>3</td>\n",
       "      <td>11</td>\n",
       "      <td>2</td>\n",
       "      <td>0</td>\n",
       "      <td>1</td>\n",
       "    </tr>\n",
       "    <tr>\n",
       "      <th>1133</th>\n",
       "      <td>roajeu</td>\n",
       "      <td>ruffle basic pattern mermaid trumpet-skirt green</td>\n",
       "      <td>a1149461</td>\n",
       "      <td>2021-03-15</td>\n",
       "      <td>2021-03-17</td>\n",
       "      <td>4days</td>\n",
       "      <td>B</td>\n",
       "      <td>0</td>\n",
       "      <td>2021</td>\n",
       "      <td>03</td>\n",
       "      <td>2021-03</td>\n",
       "      <td>0.00</td>\n",
       "      <td>3</td>\n",
       "      <td>11</td>\n",
       "      <td>2</td>\n",
       "      <td>0</td>\n",
       "      <td>1</td>\n",
       "    </tr>\n",
       "    <tr>\n",
       "      <th>1134</th>\n",
       "      <td>Alexander Wang</td>\n",
       "      <td>basic pattern skirt grey</td>\n",
       "      <td>a1149461</td>\n",
       "      <td>2021-03-15</td>\n",
       "      <td>2021-03-17</td>\n",
       "      <td>4days</td>\n",
       "      <td>B</td>\n",
       "      <td>0</td>\n",
       "      <td>2021</td>\n",
       "      <td>03</td>\n",
       "      <td>2021-03</td>\n",
       "      <td>0.00</td>\n",
       "      <td>3</td>\n",
       "      <td>11</td>\n",
       "      <td>2</td>\n",
       "      <td>0</td>\n",
       "      <td>1</td>\n",
       "    </tr>\n",
       "    <tr>\n",
       "      <th>1135</th>\n",
       "      <td>Christian Dior</td>\n",
       "      <td>basic pattern sweater burgundy</td>\n",
       "      <td>a1149461</td>\n",
       "      <td>2021-03-15</td>\n",
       "      <td>2021-03-17</td>\n",
       "      <td>4days</td>\n",
       "      <td>T</td>\n",
       "      <td>0</td>\n",
       "      <td>2021</td>\n",
       "      <td>03</td>\n",
       "      <td>2021-03</td>\n",
       "      <td>0.00</td>\n",
       "      <td>3</td>\n",
       "      <td>11</td>\n",
       "      <td>2</td>\n",
       "      <td>1</td>\n",
       "      <td>1</td>\n",
       "    </tr>\n",
       "    <tr>\n",
       "      <th>1136</th>\n",
       "      <td>MSGM</td>\n",
       "      <td>basic pattern top black</td>\n",
       "      <td>a1149461</td>\n",
       "      <td>2021-03-15</td>\n",
       "      <td>2021-03-17</td>\n",
       "      <td>4days</td>\n",
       "      <td>T</td>\n",
       "      <td>0</td>\n",
       "      <td>2021</td>\n",
       "      <td>03</td>\n",
       "      <td>2021-03</td>\n",
       "      <td>0.00</td>\n",
       "      <td>3</td>\n",
       "      <td>11</td>\n",
       "      <td>2</td>\n",
       "      <td>0</td>\n",
       "      <td>1</td>\n",
       "    </tr>\n",
       "    <tr>\n",
       "      <th>1137</th>\n",
       "      <td>Fayewoo</td>\n",
       "      <td>ruffle lace pattern mermaid trumpet-skirt red</td>\n",
       "      <td>a1149461</td>\n",
       "      <td>2021-03-15</td>\n",
       "      <td>2021-03-17</td>\n",
       "      <td>4days</td>\n",
       "      <td>B</td>\n",
       "      <td>0</td>\n",
       "      <td>2021</td>\n",
       "      <td>03</td>\n",
       "      <td>2021-03</td>\n",
       "      <td>0.00</td>\n",
       "      <td>3</td>\n",
       "      <td>11</td>\n",
       "      <td>2</td>\n",
       "      <td>0</td>\n",
       "      <td>1</td>\n",
       "    </tr>\n",
       "    <tr>\n",
       "      <th>1138</th>\n",
       "      <td>Debb</td>\n",
       "      <td>ribbon basic pattern blouse brown</td>\n",
       "      <td>a1149461</td>\n",
       "      <td>2021-03-15</td>\n",
       "      <td>2021-03-17</td>\n",
       "      <td>4days</td>\n",
       "      <td>T</td>\n",
       "      <td>0</td>\n",
       "      <td>2021</td>\n",
       "      <td>03</td>\n",
       "      <td>2021-03</td>\n",
       "      <td>0.00</td>\n",
       "      <td>3</td>\n",
       "      <td>11</td>\n",
       "      <td>2</td>\n",
       "      <td>0</td>\n",
       "      <td>1</td>\n",
       "    </tr>\n",
       "    <tr>\n",
       "      <th>1141</th>\n",
       "      <td>Debb</td>\n",
       "      <td>ruffle detail silky sleeveless dress</td>\n",
       "      <td>a1149542</td>\n",
       "      <td>2021-03-16</td>\n",
       "      <td>2021-03-17</td>\n",
       "      <td>4days</td>\n",
       "      <td>D</td>\n",
       "      <td>1</td>\n",
       "      <td>2021</td>\n",
       "      <td>03</td>\n",
       "      <td>2021-03</td>\n",
       "      <td>1.00</td>\n",
       "      <td>3</td>\n",
       "      <td>11</td>\n",
       "      <td>2</td>\n",
       "      <td>0</td>\n",
       "      <td>1</td>\n",
       "    </tr>\n",
       "    <tr>\n",
       "      <th>1142</th>\n",
       "      <td>Elizabeth &amp; James</td>\n",
       "      <td>unbalance hem line sleeveless dress blue</td>\n",
       "      <td>a1149542</td>\n",
       "      <td>2021-03-16</td>\n",
       "      <td>2021-03-17</td>\n",
       "      <td>4days</td>\n",
       "      <td>D</td>\n",
       "      <td>1</td>\n",
       "      <td>2021</td>\n",
       "      <td>03</td>\n",
       "      <td>2021-03</td>\n",
       "      <td>1.00</td>\n",
       "      <td>3</td>\n",
       "      <td>11</td>\n",
       "      <td>2</td>\n",
       "      <td>0</td>\n",
       "      <td>1</td>\n",
       "    </tr>\n",
       "    <tr>\n",
       "      <th>1143</th>\n",
       "      <td>Victoria Bay</td>\n",
       "      <td>basic pattern H-Line dress ivory</td>\n",
       "      <td>a1149542</td>\n",
       "      <td>2021-03-16</td>\n",
       "      <td>2021-03-17</td>\n",
       "      <td>4days</td>\n",
       "      <td>D</td>\n",
       "      <td>1</td>\n",
       "      <td>2021</td>\n",
       "      <td>03</td>\n",
       "      <td>2021-03</td>\n",
       "      <td>1.00</td>\n",
       "      <td>3</td>\n",
       "      <td>11</td>\n",
       "      <td>2</td>\n",
       "      <td>0</td>\n",
       "      <td>1</td>\n",
       "    </tr>\n",
       "    <tr>\n",
       "      <th>1144</th>\n",
       "      <td>Reiss</td>\n",
       "      <td>basic pattern H-Line dress blue</td>\n",
       "      <td>a1149542</td>\n",
       "      <td>2021-03-16</td>\n",
       "      <td>2021-03-17</td>\n",
       "      <td>4days</td>\n",
       "      <td>D</td>\n",
       "      <td>1</td>\n",
       "      <td>2021</td>\n",
       "      <td>03</td>\n",
       "      <td>2021-03</td>\n",
       "      <td>1.00</td>\n",
       "      <td>3</td>\n",
       "      <td>11</td>\n",
       "      <td>2</td>\n",
       "      <td>0</td>\n",
       "      <td>1</td>\n",
       "    </tr>\n",
       "    <tr>\n",
       "      <th>1145</th>\n",
       "      <td>BCBG Max Azria</td>\n",
       "      <td>basic pattern H-Line dress navy</td>\n",
       "      <td>a1149542</td>\n",
       "      <td>2021-03-16</td>\n",
       "      <td>2021-03-17</td>\n",
       "      <td>4days</td>\n",
       "      <td>D</td>\n",
       "      <td>1</td>\n",
       "      <td>2021</td>\n",
       "      <td>03</td>\n",
       "      <td>2021-03</td>\n",
       "      <td>1.00</td>\n",
       "      <td>3</td>\n",
       "      <td>11</td>\n",
       "      <td>2</td>\n",
       "      <td>0</td>\n",
       "      <td>1</td>\n",
       "    </tr>\n",
       "    <tr>\n",
       "      <th>1146</th>\n",
       "      <td>Sandro</td>\n",
       "      <td>ruffle basic pattern mermaid dress white</td>\n",
       "      <td>a1149542</td>\n",
       "      <td>2021-03-16</td>\n",
       "      <td>2021-03-17</td>\n",
       "      <td>4days</td>\n",
       "      <td>D</td>\n",
       "      <td>1</td>\n",
       "      <td>2021</td>\n",
       "      <td>03</td>\n",
       "      <td>2021-03</td>\n",
       "      <td>1.00</td>\n",
       "      <td>3</td>\n",
       "      <td>11</td>\n",
       "      <td>2</td>\n",
       "      <td>0</td>\n",
       "      <td>1</td>\n",
       "    </tr>\n",
       "  </tbody>\n",
       "</table>\n",
       "</div>"
      ],
      "text/plain": [
       "                  brandnm                                           goodsnm  \\\n",
       "151   Vivienne Westwood    basic pattern t-shirts lavender                    \n",
       "152   Greedilous           graphics pattern t-shirts yellow                   \n",
       "153   System homme         pocket stripe pattern shirts pink                  \n",
       "154   Covernat             button check pattern shirts mustard                \n",
       "155   Musinsa standard     button basic pattern shirts deeppink               \n",
       "156   Musinsa standard     button basic pattern polo-shirts beige             \n",
       "157   Lafudge Store        pocket basic pattern top beige                     \n",
       "158   Calvin Klein         pocket basic pattern wool slacks grey              \n",
       "159   Massimo Dutti        pocket basic pattern shirts mint                   \n",
       "1128  Alice & Olivia       see-through lace detail blouse black               \n",
       "1129  Sandro               embroidery detail lace skirt multi                 \n",
       "1130  Time                 draping detail midi skirt gray                     \n",
       "1131  El estilo de Claire  ruffle detail see-through sleeve blouse black      \n",
       "1132  It michaa            pocket basic pattern skirt green                   \n",
       "1133  roajeu               ruffle basic pattern mermaid trumpet-skirt green   \n",
       "1134  Alexander Wang       basic pattern skirt grey                           \n",
       "1135  Christian Dior       basic pattern sweater burgundy                     \n",
       "1136  MSGM                 basic pattern top black                            \n",
       "1137  Fayewoo              ruffle lace pattern mermaid trumpet-skirt red      \n",
       "1138  Debb                 ribbon basic pattern blouse brown                  \n",
       "1141  Debb                 ruffle detail silky sleeveless dress               \n",
       "1142  Elizabeth & James    unbalance hem line sleeveless dress blue           \n",
       "1143  Victoria Bay         basic pattern H-Line dress ivory                   \n",
       "1144  Reiss                basic pattern H-Line dress blue                    \n",
       "1145  BCBG Max Azria       basic pattern H-Line dress navy                    \n",
       "1146  Sandro               ruffle basic pattern mermaid dress white           \n",
       "\n",
       "          user    reg_date  order_date p_type sub_type app_yn reg_year  \\\n",
       "151   a1142677  2021-01-13  2021-01-18  4days  T        1      2021      \n",
       "152   a1142677  2021-01-13  2021-01-18  4days  T        1      2021      \n",
       "153   a1142677  2021-01-13  2021-01-18  4days  T        1      2021      \n",
       "154   a1142677  2021-01-13  2021-01-18  4days  T        1      2021      \n",
       "155   a1142677  2021-01-13  2021-01-18  4days  T        1      2021      \n",
       "156   a1142677  2021-01-13  2021-01-18  4days  T        1      2021      \n",
       "157   a1142677  2021-01-13  2021-01-18  4days  T        1      2021      \n",
       "158   a1142677  2021-01-13  2021-01-18  4days  B        1      2021      \n",
       "159   a1142677  2021-01-13  2021-01-18  4days  T        1      2021      \n",
       "1128  a1149461  2021-03-15  2021-03-17  4days  T        0      2021      \n",
       "1129  a1149461  2021-03-15  2021-03-17  4days  B        0      2021      \n",
       "1130  a1149461  2021-03-15  2021-03-17  4days  B        0      2021      \n",
       "1131  a1149461  2021-03-15  2021-03-17  4days  T        0      2021      \n",
       "1132  a1149461  2021-03-15  2021-03-17  4days  B        0      2021      \n",
       "1133  a1149461  2021-03-15  2021-03-17  4days  B        0      2021      \n",
       "1134  a1149461  2021-03-15  2021-03-17  4days  B        0      2021      \n",
       "1135  a1149461  2021-03-15  2021-03-17  4days  T        0      2021      \n",
       "1136  a1149461  2021-03-15  2021-03-17  4days  T        0      2021      \n",
       "1137  a1149461  2021-03-15  2021-03-17  4days  B        0      2021      \n",
       "1138  a1149461  2021-03-15  2021-03-17  4days  T        0      2021      \n",
       "1141  a1149542  2021-03-16  2021-03-17  4days  D        1      2021      \n",
       "1142  a1149542  2021-03-16  2021-03-17  4days  D        1      2021      \n",
       "1143  a1149542  2021-03-16  2021-03-17  4days  D        1      2021      \n",
       "1144  a1149542  2021-03-16  2021-03-17  4days  D        1      2021      \n",
       "1145  a1149542  2021-03-16  2021-03-17  4days  D        1      2021      \n",
       "1146  a1149542  2021-03-16  2021-03-17  4days  D        1      2021      \n",
       "\n",
       "     reg_month reg_yearmonth  reg_dayofweek  order_month  order_week  \\\n",
       "151   01        2021-01      2.00            1            3            \n",
       "152   01        2021-01      2.00            1            3            \n",
       "153   01        2021-01      2.00            1            3            \n",
       "154   01        2021-01      2.00            1            3            \n",
       "155   01        2021-01      2.00            1            3            \n",
       "156   01        2021-01      2.00            1            3            \n",
       "157   01        2021-01      2.00            1            3            \n",
       "158   01        2021-01      2.00            1            3            \n",
       "159   01        2021-01      2.00            1            3            \n",
       "1128  03        2021-03      0.00            3            11           \n",
       "1129  03        2021-03      0.00            3            11           \n",
       "1130  03        2021-03      0.00            3            11           \n",
       "1131  03        2021-03      0.00            3            11           \n",
       "1132  03        2021-03      0.00            3            11           \n",
       "1133  03        2021-03      0.00            3            11           \n",
       "1134  03        2021-03      0.00            3            11           \n",
       "1135  03        2021-03      0.00            3            11           \n",
       "1136  03        2021-03      0.00            3            11           \n",
       "1137  03        2021-03      0.00            3            11           \n",
       "1138  03        2021-03      0.00            3            11           \n",
       "1141  03        2021-03      1.00            3            11           \n",
       "1142  03        2021-03      1.00            3            11           \n",
       "1143  03        2021-03      1.00            3            11           \n",
       "1144  03        2021-03      1.00            3            11           \n",
       "1145  03        2021-03      1.00            3            11           \n",
       "1146  03        2021-03      1.00            3            11           \n",
       "\n",
       "      order_dayofweek  brandnm_luxury  seg_new  \n",
       "151   0                0               1        \n",
       "152   0                0               1        \n",
       "153   0                0               1        \n",
       "154   0                0               1        \n",
       "155   0                0               1        \n",
       "156   0                0               1        \n",
       "157   0                0               1        \n",
       "158   0                0               1        \n",
       "159   0                0               1        \n",
       "1128  2                0               1        \n",
       "1129  2                0               1        \n",
       "1130  2                0               1        \n",
       "1131  2                0               1        \n",
       "1132  2                0               1        \n",
       "1133  2                0               1        \n",
       "1134  2                0               1        \n",
       "1135  2                1               1        \n",
       "1136  2                0               1        \n",
       "1137  2                0               1        \n",
       "1138  2                0               1        \n",
       "1141  2                0               1        \n",
       "1142  2                0               1        \n",
       "1143  2                0               1        \n",
       "1144  2                0               1        \n",
       "1145  2                0               1        \n",
       "1146  2                0               1        "
      ]
     },
     "execution_count": 241,
     "metadata": {},
     "output_type": "execute_result"
    }
   ],
   "source": [
    "# 유저가 대여시, 한번에 한 카테고리 집중된 케이스 : B, D, T \n",
    "df[df.user.isin(df_user.query('(B==6)|(D==6)|(T==8)').user.to_list())]"
   ]
  },
  {
   "cell_type": "markdown",
   "metadata": {},
   "source": [
    "- 가방(BA)이 압도적으로 많음 \n",
    "- 유저가 대여시, 한번에 한 카테고리 집중된 케이스 : B, D, T\n",
    "    - p_type 4일권\n",
    "    - 가입월 = 주문월, 차이 일주일 미만 : 신규 유저 이벤트?"
   ]
  },
  {
   "cell_type": "markdown",
   "metadata": {},
   "source": [
    "#### 주문 아이템 분석\n",
    "- 브랜드 별 선호도, 아이템 카테고리별 선호도 분석\n",
    "- 신규 유저들의 구매 트렌드 파악"
   ]
  },
  {
   "cell_type": "markdown",
   "metadata": {},
   "source": [
    "##### 브랜드/카테고리별 선호도 "
   ]
  },
  {
   "cell_type": "code",
   "execution_count": 242,
   "metadata": {
    "ExecuteTime": {
     "end_time": "2021-05-18T16:35:15.219042Z",
     "start_time": "2021-05-18T16:35:14.814123Z"
    },
    "scrolled": false
   },
   "outputs": [
    {
     "data": {
      "text/plain": [
       "<matplotlib.axes._subplots.AxesSubplot at 0x1c59dcef940>"
      ]
     },
     "execution_count": 242,
     "metadata": {},
     "output_type": "execute_result"
    },
    {
     "data": {
      "image/png": "[encoded data removed]",
      "text/plain": [
       "<Figure size 792x288 with 1 Axes>"
      ]
     },
     "metadata": {},
     "output_type": "display_data"
    }
   ],
   "source": [
    "df.brandnm.value_counts().sort_values(ascending=False).head(20).plot.bar(figsize=(11,4),rot=50, title='top20 brands')"
   ]
  },
  {
   "cell_type": "code",
   "execution_count": 243,
   "metadata": {
    "ExecuteTime": {
     "end_time": "2021-05-18T16:35:15.248996Z",
     "start_time": "2021-05-18T16:35:15.222035Z"
    },
    "scrolled": false
   },
   "outputs": [
    {
     "data": {
      "text/plain": [
       "Gucci                  232\n",
       "Thom Browne            2  \n",
       "Max Mara               1  \n",
       "El estilo de Claire    1  \n",
       "Kenzo                  1  \n",
       "L’ vir                 1  \n",
       "Burberry               1  \n",
       "Lenic & Mccoy          1  \n",
       "Time homme             1  \n",
       "Chanel                 1  \n",
       "Givenchy               1  \n",
       "Yves Saint Laurent     1  \n",
       "Time                   1  \n",
       "Celine                 1  \n",
       "Dolce & Gabbana        1  \n",
       "Vivienne Westwood      1  \n",
       "Carven                 1  \n",
       "Moncler                1  \n",
       "Mojosphine             1  \n",
       "Heohwan Simulation     1  \n",
       "Dewl                   1  \n",
       "Name: brandnm, dtype: int64"
      ]
     },
     "execution_count": 243,
     "metadata": {},
     "output_type": "execute_result"
    }
   ],
   "source": [
    "# gucci 대여 user 함께 대여한 브랜드 특별한 특징 없음 \n",
    "df[df.user.isin(df.query('brandnm==\"Gucci\"')['user'].tolist())]['brandnm'].value_counts()"
   ]
  },
  {
   "cell_type": "code",
   "execution_count": 244,
   "metadata": {
    "ExecuteTime": {
     "end_time": "2021-05-18T16:35:15.473361Z",
     "start_time": "2021-05-18T16:35:15.252983Z"
    },
    "scrolled": false
   },
   "outputs": [
    {
     "data": {
      "text/plain": [
       "<matplotlib.axes._subplots.AxesSubplot at 0x1c59edb70f0>"
      ]
     },
     "execution_count": 244,
     "metadata": {},
     "output_type": "execute_result"
    },
    {
     "data": {
      "image/png": "[encoded data removed]",
      "text/plain": [
       "<Figure size 360x288 with 1 Axes>"
      ]
     },
     "metadata": {},
     "output_type": "display_data"
    }
   ],
   "source": [
    "df.query('brandnm==\"Gucci\"').sub_type.value_counts().sort_values(ascending=False).head(20).plot.bar(figsize=(5,4),rot=50, title='top20 goods by Gucci')"
   ]
  },
  {
   "cell_type": "markdown",
   "metadata": {},
   "source": [
    "- top 20 브랜드 대부분 명품/고가 브랜드\n",
    "- 특정 브랜드 집중 : Gucci 가방"
   ]
  },
  {
   "cell_type": "markdown",
   "metadata": {},
   "source": [
    "##### 신규 유저들의 구매 트렌드 파악 \n",
    "- seg_new (binary) 신규유저 구분자 : 2021-01~03 가입자"
   ]
  },
  {
   "cell_type": "code",
   "execution_count": 245,
   "metadata": {
    "ExecuteTime": {
     "end_time": "2021-05-18T16:35:16.073756Z",
     "start_time": "2021-05-18T16:35:16.030871Z"
    },
    "scrolled": false
   },
   "outputs": [
    {
     "data": {
      "text/html": [
       "<div>\n",
       "<style scoped>\n",
       "    .dataframe tbody tr th:only-of-type {\n",
       "        vertical-align: middle;\n",
       "    }\n",
       "\n",
       "    .dataframe tbody tr th {\n",
       "        vertical-align: top;\n",
       "    }\n",
       "\n",
       "    .dataframe thead th {\n",
       "        text-align: right;\n",
       "    }\n",
       "</style>\n",
       "<table border=\"1\" class=\"dataframe\">\n",
       "  <thead>\n",
       "    <tr style=\"text-align: right;\">\n",
       "      <th></th>\n",
       "      <th>brandnm</th>\n",
       "      <th>goodsnm</th>\n",
       "      <th>user</th>\n",
       "      <th>reg_date</th>\n",
       "      <th>order_date</th>\n",
       "      <th>p_type</th>\n",
       "      <th>sub_type</th>\n",
       "      <th>app_yn</th>\n",
       "      <th>reg_year</th>\n",
       "      <th>reg_month</th>\n",
       "      <th>reg_yearmonth</th>\n",
       "      <th>reg_dayofweek</th>\n",
       "      <th>order_month</th>\n",
       "      <th>order_week</th>\n",
       "      <th>order_dayofweek</th>\n",
       "      <th>brandnm_luxury</th>\n",
       "      <th>seg_new</th>\n",
       "    </tr>\n",
       "  </thead>\n",
       "  <tbody>\n",
       "    <tr>\n",
       "      <th>0</th>\n",
       "      <td>Chanel</td>\n",
       "      <td>pocket graphics pattern zipup-jumper navy</td>\n",
       "      <td>a1112031</td>\n",
       "      <td>2020-08-15</td>\n",
       "      <td>2021-01-01</td>\n",
       "      <td>7days</td>\n",
       "      <td>O</td>\n",
       "      <td>0</td>\n",
       "      <td>2020</td>\n",
       "      <td>08</td>\n",
       "      <td>2020-08</td>\n",
       "      <td>5.00</td>\n",
       "      <td>1</td>\n",
       "      <td>53</td>\n",
       "      <td>4</td>\n",
       "      <td>1</td>\n",
       "      <td>0</td>\n",
       "    </tr>\n",
       "    <tr>\n",
       "      <th>1</th>\n",
       "      <td>El estilo de Claire</td>\n",
       "      <td>beads stud velvet jacket black</td>\n",
       "      <td>a196681</td>\n",
       "      <td>2020-04-17</td>\n",
       "      <td>2021-01-01</td>\n",
       "      <td>4days</td>\n",
       "      <td>O</td>\n",
       "      <td>1</td>\n",
       "      <td>2020</td>\n",
       "      <td>04</td>\n",
       "      <td>2020-04</td>\n",
       "      <td>4.00</td>\n",
       "      <td>1</td>\n",
       "      <td>53</td>\n",
       "      <td>4</td>\n",
       "      <td>0</td>\n",
       "      <td>0</td>\n",
       "    </tr>\n",
       "  </tbody>\n",
       "</table>\n",
       "</div>"
      ],
      "text/plain": [
       "               brandnm                                    goodsnm      user  \\\n",
       "0  Chanel               pocket graphics pattern zipup-jumper navy  a1112031   \n",
       "1  El estilo de Claire  beads stud velvet jacket black             a196681    \n",
       "\n",
       "     reg_date  order_date p_type sub_type app_yn reg_year reg_month  \\\n",
       "0  2020-08-15  2021-01-01  7days  O        0      2020     08         \n",
       "1  2020-04-17  2021-01-01  4days  O        1      2020     04         \n",
       "\n",
       "  reg_yearmonth  reg_dayofweek  order_month  order_week  order_dayofweek  \\\n",
       "0  2020-08      5.00            1            53          4                 \n",
       "1  2020-04      4.00            1            53          4                 \n",
       "\n",
       "   brandnm_luxury  seg_new  \n",
       "0  1               0        \n",
       "1  0               0        "
      ]
     },
     "execution_count": 245,
     "metadata": {},
     "output_type": "execute_result"
    }
   ],
   "source": [
    "new_list = df.query('(reg_yearmonth==\"2021-01\") |(reg_yearmonth==\"2021-02\")|(reg_yearmonth==\"2021-03\")').user.tolist()\n",
    "df['seg_new'] = np.where(df.user.isin(new_list), 1, 0)\n",
    "df.head(2)"
   ]
  },
  {
   "cell_type": "code",
   "execution_count": 246,
   "metadata": {
    "ExecuteTime": {
     "end_time": "2021-05-18T16:35:17.197751Z",
     "start_time": "2021-05-18T16:35:16.253277Z"
    },
    "scrolled": true
   },
   "outputs": [
    {
     "data": {
      "image/png": "[encoded data removed]",
      "text/plain": [
       "<Figure size 936x288 with 3 Axes>"
      ]
     },
     "metadata": {},
     "output_type": "display_data"
    }
   ],
   "source": [
    "fig, axes = plt.subplots(nrows=1, ncols=3,figsize=(13,4), sharey=True)\n",
    "fig.suptitle('전체user vs new user 선호 카테고리 비교', fontsize=15)\n",
    "df.sub_type.value_counts().plot.bar(rot=50, title='전체 user 카테고리별 주문수량', ax=axes[0])\n",
    "df.query('seg_new==0').sub_type.value_counts().plot.bar(rot=50, title='기존 user 카테고리별 주문수량', ax=axes[1])\n",
    "df.query('seg_new==1').sub_type.value_counts().plot.bar(rot=50, title='신규 user 카테고리별 주문수량', ax=axes[2])\n",
    "\n",
    "fig.tight_layout()\n",
    "fig.subplots_adjust(top=0.85)"
   ]
  },
  {
   "cell_type": "code",
   "execution_count": 247,
   "metadata": {
    "ExecuteTime": {
     "end_time": "2021-05-18T16:35:18.274874Z",
     "start_time": "2021-05-18T16:35:17.200746Z"
    },
    "scrolled": false
   },
   "outputs": [
    {
     "data": {
      "image/png": "[encoded data removed]",
      "text/plain": [
       "<Figure size 720x648 with 3 Axes>"
      ]
     },
     "metadata": {},
     "output_type": "display_data"
    }
   ],
   "source": [
    "fig, axes = plt.subplots(nrows=3, ncols=1,figsize=(10,9))\n",
    "fig.suptitle('전체 user 브랜드별 주문수량 vs new user 브랜드별 주문수량 비교', fontsize=15)\n",
    "df.brandnm.value_counts().sort_values(ascending=False).head(15).plot.bar(rot=45, title='전체 user 브랜드별 주문수량', ax=axes[0])\n",
    "df.query('seg_new==0').brandnm.value_counts().sort_values(ascending=False).head(15).plot.bar(rot=45, title='기존 user 브랜드별 주문수량', ax=axes[1])\n",
    "df.query('seg_new==1').brandnm.value_counts().sort_values(ascending=False).head(15).plot.bar(rot=45, title='new user 브랜드별 주문수량', ax=axes[2])\n",
    "\n",
    "fig.tight_layout()\n",
    "fig.subplots_adjust(top=0.85)"
   ]
  },
  {
   "cell_type": "code",
   "execution_count": 248,
   "metadata": {
    "ExecuteTime": {
     "end_time": "2021-05-18T16:35:18.648875Z",
     "start_time": "2021-05-18T16:35:18.277866Z"
    },
    "scrolled": false
   },
   "outputs": [
    {
     "data": {
      "text/plain": [
       "Text(0.5, 1.0, '전체user vs new user 선호 카테고리 비교')"
      ]
     },
     "execution_count": 248,
     "metadata": {},
     "output_type": "execute_result"
    },
    {
     "data": {
      "image/png": "[encoded data removed]",
      "text/plain": [
       "<Figure size 1080x360 with 1 Axes>"
      ]
     },
     "metadata": {},
     "output_type": "display_data"
    }
   ],
   "source": [
    "df.pivot_table(index='sub_type', \n",
    "               columns ='seg_new', \n",
    "               values='order_date', \n",
    "            aggfunc='count').fillna(0).plot(kind='bar', rot=45, figsize=(15,5))\n",
    "plt.title('전체user vs new user 선호 카테고리 비교',fontsize=15)"
   ]
  },
  {
   "cell_type": "markdown",
   "metadata": {},
   "source": [
    "- 전체 유저의 카테고리별 주문수량 vs 신규 유저 카테고리별 주문수량 트렌드 비교\n",
    "    1. 전체적인 순위는 유사, BA > O or D > T > B > TB\n",
    "    2. 신규 유저의 가방 수량 집중현상이 전체에 반영된 것으로 보임\n",
    "\n",
    "\n",
    "- 전체 user 브랜드별 주문수량 vs 신규유저 브랜드별 주문수량 비교\n",
    "    1. Gucci 집중은 유사한 형태"
   ]
  },
  {
   "cell_type": "code",
   "execution_count": 249,
   "metadata": {
    "ExecuteTime": {
     "end_time": "2021-05-18T16:35:18.753594Z",
     "start_time": "2021-05-18T16:35:18.651866Z"
    },
    "scrolled": true
   },
   "outputs": [
    {
     "data": {
      "image/png": "[encoded data removed]",
      "text/plain": [
       "<Figure size 360x288 with 1 Axes>"
      ]
     },
     "metadata": {},
     "output_type": "display_data"
    }
   ],
   "source": [
    "# 신규 유저 vs 기존 유저 주문 브랜드 차이 \n",
    "plt.figure(figsize=(5,4))\n",
    "venn2([set(df.query('seg_new==1')['brandnm'].tolist()),set(df.query('seg_new==0')['brandnm'].tolist())],\n",
    "     set_labels = ('new','returning'))\n",
    "plt.show()"
   ]
  },
  {
   "cell_type": "markdown",
   "metadata": {},
   "source": [
    "**- 신규유저 vs 기존유저 브랜드 선호도 차이**\n",
    "1. 신규 유저가 주문한 184개의 브랜드 중 80이 기존 유저와 중복됨 \n",
    "2. 신규 유저가 주문한 184개의 브랜드 중 104(50%)이 기존 유저와 다름 > 추가로 파악해볼 필요성 있음"
   ]
  },
  {
   "cell_type": "code",
   "execution_count": 253,
   "metadata": {
    "ExecuteTime": {
     "end_time": "2021-05-18T16:35:32.005130Z",
     "start_time": "2021-05-18T16:35:31.987164Z"
    }
   },
   "outputs": [],
   "source": [
    "new_brand_list = list(set(df.query('seg_new==1')['brandnm'].tolist())-set(df.query('seg_new==0')['brandnm'].tolist()))"
   ]
  },
  {
   "cell_type": "code",
   "execution_count": 254,
   "metadata": {
    "ExecuteTime": {
     "end_time": "2021-05-18T16:35:33.574928Z",
     "start_time": "2021-05-18T16:35:33.256222Z"
    },
    "scrolled": false
   },
   "outputs": [
    {
     "name": "stdout",
     "output_type": "stream",
     "text": [
      "Salvatore Ferragamo    9\n",
      "Mine                   7\n",
      "Debb                   5\n",
      "Alexander Wang         3\n",
      "Olive des Olive        3\n",
      "MSGM                   3\n",
      "Johnny Hates Jazz      3\n",
      "Studio Tomboy          3\n",
      "Banana Republic        3\n",
      "Zooc                   2\n",
      "Name: brandnm, dtype: int64\n"
     ]
    },
    {
     "data": {
      "text/plain": [
       "<matplotlib.axes._subplots.AxesSubplot at 0x1c5ad1434a8>"
      ]
     },
     "execution_count": 254,
     "metadata": {},
     "output_type": "execute_result"
    },
    {
     "data": {
      "image/png": "[encoded data removed]",
      "text/plain": [
       "<Figure size 576x288 with 1 Axes>"
      ]
     },
     "metadata": {},
     "output_type": "display_data"
    }
   ],
   "source": [
    "print(df[df.brandnm.isin(new_brand_list)].brandnm.value_counts().head(10))\n",
    "df[df.brandnm.isin(new_brand_list)].brandnm.value_counts().head(10).plot.bar(rot=45, figsize=(8,4))"
   ]
  },
  {
   "cell_type": "markdown",
   "metadata": {},
   "source": [
    "- Salvatore Ferragamo\n",
    "- Mine, Debb\n",
    "- 상대적으로 덜 고가의 브랜드가 추가됨"
   ]
  },
  {
   "cell_type": "markdown",
   "metadata": {},
   "source": [
    "##### heavy 유저 "
   ]
  },
  {
   "cell_type": "code",
   "execution_count": 255,
   "metadata": {
    "ExecuteTime": {
     "end_time": "2021-05-18T16:35:38.559953Z",
     "start_time": "2021-05-18T16:35:38.545959Z"
    },
    "scrolled": true
   },
   "outputs": [
    {
     "data": {
      "text/plain": [
       "count   1229.00\n",
       "mean    1.19   \n",
       "std     0.73   \n",
       "min     1.00   \n",
       "25%     1.00   \n",
       "50%     1.00   \n",
       "75%     1.00   \n",
       "max     11.00  \n",
       "Name: order_count, dtype: float64"
      ]
     },
     "execution_count": 255,
     "metadata": {},
     "output_type": "execute_result"
    }
   ],
   "source": [
    "df_user.order_count.describe().T"
   ]
  },
  {
   "cell_type": "code",
   "execution_count": 256,
   "metadata": {
    "ExecuteTime": {
     "end_time": "2021-05-18T16:35:39.220674Z",
     "start_time": "2021-05-18T16:35:39.206712Z"
    }
   },
   "outputs": [],
   "source": [
    "# 2건 이상 heavy user로 규정\n",
    "heavy_list=df_user.query('order_count>1').user.tolist()\n",
    "df['seg_heavy']=np.where(df.user.isin(heavy_list),1,0)"
   ]
  },
  {
   "cell_type": "code",
   "execution_count": 257,
   "metadata": {
    "ExecuteTime": {
     "end_time": "2021-05-18T16:35:40.703711Z",
     "start_time": "2021-05-18T16:35:39.659502Z"
    },
    "scrolled": true
   },
   "outputs": [
    {
     "data": {
      "text/plain": [
       "Text(0.5, 1.0, 'non heavy user vs heavy user 가입 월 비교')"
      ]
     },
     "execution_count": 257,
     "metadata": {},
     "output_type": "execute_result"
    },
    {
     "data": {
      "image/png": "[encoded data removed]",
      "text/plain": [
       "<Figure size 1440x360 with 1 Axes>"
      ]
     },
     "metadata": {},
     "output_type": "display_data"
    }
   ],
   "source": [
    "df.pivot_table(index='reg_yearmonth', \n",
    "               columns ='seg_heavy', \n",
    "               values='order_date', \n",
    "            aggfunc='count').fillna(0).plot(kind='bar', rot=45, figsize=(20,5))\n",
    "plt.title('non heavy user vs heavy user 가입 월 비교',fontsize=15)"
   ]
  },
  {
   "cell_type": "code",
   "execution_count": 258,
   "metadata": {
    "ExecuteTime": {
     "end_time": "2021-05-18T16:35:41.897544Z",
     "start_time": "2021-05-18T16:35:41.196417Z"
    },
    "scrolled": false
   },
   "outputs": [
    {
     "data": {
      "image/png": "[encoded data removed]",
      "text/plain": [
       "<Figure size 936x288 with 2 Axes>"
      ]
     },
     "metadata": {},
     "output_type": "display_data"
    }
   ],
   "source": [
    "fig, axes = plt.subplots(nrows=1, ncols=2,figsize=(13,4))\n",
    "fig.suptitle('전체 user 카테고리별 주문수량 vs heavy user 카테고리별 주문수량 트렌드 비교', fontsize=15)\n",
    "df.sub_type.value_counts().plot.bar(rot=50, title='전체 user 카테고리별 주문수량', ax=axes[0])\n",
    "df[df.user.isin(heavy_list)].sub_type.value_counts().plot.bar(rot=50, title='heavy user 카테고리별 주문수량', ax=axes[1])\n",
    "\n",
    "fig.tight_layout()\n",
    "fig.subplots_adjust(top=0.85)"
   ]
  },
  {
   "cell_type": "code",
   "execution_count": 259,
   "metadata": {
    "ExecuteTime": {
     "end_time": "2021-05-18T16:35:44.608396Z",
     "start_time": "2021-05-18T16:35:43.952148Z"
    },
    "scrolled": true
   },
   "outputs": [
    {
     "data": {
      "image/png": "[encoded data removed]",
      "text/plain": [
       "<Figure size 936x288 with 3 Axes>"
      ]
     },
     "metadata": {},
     "output_type": "display_data"
    }
   ],
   "source": [
    "fig, axes = plt.subplots(nrows=1, ncols=3,figsize=(13,4), sharey=True)\n",
    "fig.suptitle('전체user vs heavy user 선호 카테고리 비교', fontsize=15)\n",
    "df.sub_type.value_counts().plot.bar(rot=50, title='전체 user 카테고리별 주문수량', ax=axes[0])\n",
    "df.query('seg_heavy==0').sub_type.value_counts().plot.bar(rot=50, title='non heavy user 카테고리별 주문수량', ax=axes[1])\n",
    "df.query('seg_heavy==1').sub_type.value_counts().plot.bar(rot=50, title='heavy user 카테고리별 주문수량', ax=axes[2])\n",
    "\n",
    "fig.tight_layout()\n",
    "fig.subplots_adjust(top=0.85)"
   ]
  },
  {
   "cell_type": "code",
   "execution_count": 260,
   "metadata": {
    "ExecuteTime": {
     "end_time": "2021-05-18T16:35:46.213249Z",
     "start_time": "2021-05-18T16:35:44.912628Z"
    },
    "scrolled": false
   },
   "outputs": [
    {
     "data": {
      "image/png": "[encoded data removed]",
      "text/plain": [
       "<Figure size 720x720 with 3 Axes>"
      ]
     },
     "metadata": {},
     "output_type": "display_data"
    }
   ],
   "source": [
    "fig, axes = plt.subplots(nrows=3, ncols=1,figsize=(10,10))\n",
    "fig.suptitle('전체 user 브랜드별 주문수량 vs heavy user 브랜드별 주문수량 비교', fontsize=15)\n",
    "df.brandnm.value_counts().sort_values(ascending=False).head(15).plot.bar(rot=45, title='전체 user 브랜드별 주문수량', ax=axes[0])\n",
    "df.query('seg_heavy==0').brandnm.value_counts().sort_values(ascending=False).head(15).plot.bar(rot=45, title='기존 user 브랜드별 주문수량', ax=axes[1])\n",
    "df.query('seg_heavy==1').brandnm.value_counts().sort_values(ascending=False).head(15).plot.bar(rot=45, title='heavy user 브랜드별 주문수량', ax=axes[2])\n",
    "\n",
    "fig.tight_layout()\n",
    "fig.subplots_adjust(top=0.85)"
   ]
  },
  {
   "cell_type": "code",
   "execution_count": 261,
   "metadata": {
    "ExecuteTime": {
     "end_time": "2021-05-18T16:35:46.709780Z",
     "start_time": "2021-05-18T16:35:46.564169Z"
    }
   },
   "outputs": [
    {
     "data": {
      "image/png": "[encoded data removed]",
      "text/plain": [
       "<Figure size 432x288 with 1 Axes>"
      ]
     },
     "metadata": {},
     "output_type": "display_data"
    }
   ],
   "source": [
    "# 신규 유저 vs 기존 유저 주문 브랜드 차이 \n",
    "plt.figure(figsize=(6,4))\n",
    "venn2([set(df.query('seg_heavy==1').brandnm.value_counts().sort_values(ascending=False).index.tolist()),\n",
    "       set(df.query('seg_heavy==0').brandnm.value_counts().sort_values(ascending=False).index.tolist())],\n",
    "     set_labels = ('heavy user','non heavy user'))\n",
    "plt.show()"
   ]
  },
  {
   "cell_type": "markdown",
   "metadata": {},
   "source": [
    "- 유저 주문 건수 대부분 1 건 \n",
    "\n",
    "**Heavy user 구분 기준 주문 수량 2건 이상**\n",
    "\n",
    "**- 전체 유저의 카테고리별 주문수량 vs heavy user 카테고리별 주문수량 트렌드 비교**\n",
    "1. 전체 유저 가방이 압도적 : 가방 >>>> 아우터 > 드레스 > 상의 >> 하의 > 투피스\n",
    "2. heavy user(대여 제품 2건 이상 유저)의 경우 드레스 제일 많음 : 드레스 > 아우터 > 상의 > 가방 > 하의 >>> 투피스\n",
    "\n",
    "\n",
    "**- 전체 user 브랜드별 주문수량 vs heavy user 브랜드별 주문수량 비교**\n",
    "1. 브랜드 선호도에는 차이가 있음 (벤다이어그램)\n",
    "2. 대부분 luxury brand\n",
    "3. Gucci 집중현상 적음\n",
    "4. 브랜드 정보 없는 경우 (0) 신규유저/기존유저 50% 50%"
   ]
  },
  {
   "cell_type": "code",
   "execution_count": 262,
   "metadata": {
    "ExecuteTime": {
     "end_time": "2021-05-18T16:35:49.554944Z",
     "start_time": "2021-05-18T16:35:49.522033Z"
    }
   },
   "outputs": [
    {
     "data": {
      "text/plain": [
       "67"
      ]
     },
     "execution_count": 262,
     "metadata": {},
     "output_type": "execute_result"
    }
   ],
   "source": [
    "heavy_brand_list = list(set(df.query('seg_heavy==1')['brandnm'].tolist())-set(df.query('seg_heavy==0')['brandnm'].tolist()))\n",
    "len(heavy_brand_list)"
   ]
  },
  {
   "cell_type": "code",
   "execution_count": 263,
   "metadata": {
    "ExecuteTime": {
     "end_time": "2021-05-18T16:35:50.413201Z",
     "start_time": "2021-05-18T16:35:50.055608Z"
    },
    "scrolled": false
   },
   "outputs": [
    {
     "name": "stdout",
     "output_type": "stream",
     "text": [
      "Amsale              3\n",
      "Zooc                2\n",
      "C.holyn             2\n",
      "DKNY                2\n",
      "Cesare Paciotti     2\n",
      "BCBG Max Azria      2\n",
      "Convexo Concave     2\n",
      "Musinsa standard    2\n",
      "Andersson Bell      2\n",
      "Isabel Marant       2\n",
      "Name: brandnm, dtype: int64\n"
     ]
    },
    {
     "data": {
      "text/plain": [
       "<matplotlib.axes._subplots.AxesSubplot at 0x1c5bc72d2e8>"
      ]
     },
     "execution_count": 263,
     "metadata": {},
     "output_type": "execute_result"
    },
    {
     "data": {
      "image/png": "[encoded data removed]",
      "text/plain": [
       "<Figure size 576x288 with 1 Axes>"
      ]
     },
     "metadata": {},
     "output_type": "display_data"
    }
   ],
   "source": [
    "print(df[df.brandnm.isin(heavy_brand_list)].brandnm.value_counts().sort_values(ascending=False).head(10))\n",
    "df[df.brandnm.isin(heavy_brand_list)].brandnm.value_counts().sort_values(ascending=False).head(10).plot.bar(rot=45, figsize=(8,4))"
   ]
  },
  {
   "cell_type": "markdown",
   "metadata": {},
   "source": [
    "- 높은 건수는 아님\n",
    "- 고가의 브랜드는 아님"
   ]
  },
  {
   "cell_type": "markdown",
   "metadata": {},
   "source": [
    "#### 인기 브랜드 분석"
   ]
  },
  {
   "cell_type": "markdown",
   "metadata": {},
   "source": [
    "1. 집단 구분\n",
    "    - 신규 유저 vs 기존 유저\n",
    "    - 헤비 유저 vs non 헤비 유저\n",
    "    \n",
    "\n",
    "2. 상기 집단 구분에서 top 15 (주문수량기준) 내 브랜드 추출 후 중복되는 브랜드 : popular_brand_list 집중 분석\n",
    "    - 명품 브랜드"
   ]
  },
  {
   "cell_type": "code",
   "execution_count": 264,
   "metadata": {
    "ExecuteTime": {
     "end_time": "2021-05-18T16:35:51.477356Z",
     "start_time": "2021-05-18T16:35:51.444409Z"
    }
   },
   "outputs": [
    {
     "data": {
      "text/plain": [
       "11"
      ]
     },
     "execution_count": 264,
     "metadata": {},
     "output_type": "execute_result"
    }
   ],
   "source": [
    "s1 = set(df.query('seg_new==1').brandnm.value_counts().sort_values(ascending=False).head(15).index.tolist())\n",
    "s2 = set(df.query('seg_new==0').brandnm.value_counts().sort_values(ascending=False).head(15).index.tolist())\n",
    "s3 = set(df.query('seg_heavy==1').brandnm.value_counts().sort_values(ascending=False).head(15).index.tolist())\n",
    "s4 = set(df.query('seg_heavy==0').brandnm.value_counts().sort_values(ascending=False).head(15).index.tolist())\n",
    "popular_brand_list = list(s1&s2&s3&s4)\n",
    "len(list(s1&s2&s3&s4))"
   ]
  },
  {
   "cell_type": "code",
   "execution_count": 265,
   "metadata": {
    "ExecuteTime": {
     "end_time": "2021-05-18T16:35:51.537196Z",
     "start_time": "2021-05-18T16:35:51.519213Z"
    },
    "scrolled": false
   },
   "outputs": [
    {
     "data": {
      "text/plain": [
       "['Prada',\n",
       " 'Thom Browne',\n",
       " 'Fendi',\n",
       " 'Burberry',\n",
       " 'N/A',\n",
       " 'Max Mara',\n",
       " 'Chanel',\n",
       " 'Saint Laurent',\n",
       " 'Louis Vuitton',\n",
       " 'Sandro',\n",
       " 'Gucci']"
      ]
     },
     "execution_count": 265,
     "metadata": {},
     "output_type": "execute_result"
    }
   ],
   "source": [
    "#popular_brand_list.remove(\"0\")\n",
    "popular_brand_list"
   ]
  },
  {
   "cell_type": "code",
   "execution_count": 266,
   "metadata": {
    "ExecuteTime": {
     "end_time": "2021-05-18T16:35:51.611996Z",
     "start_time": "2021-05-18T16:35:51.580050Z"
    },
    "scrolled": true
   },
   "outputs": [
    {
     "data": {
      "text/html": [
       "<div>\n",
       "<style scoped>\n",
       "    .dataframe tbody tr th:only-of-type {\n",
       "        vertical-align: middle;\n",
       "    }\n",
       "\n",
       "    .dataframe tbody tr th {\n",
       "        vertical-align: top;\n",
       "    }\n",
       "\n",
       "    .dataframe thead th {\n",
       "        text-align: right;\n",
       "    }\n",
       "</style>\n",
       "<table border=\"1\" class=\"dataframe\">\n",
       "  <thead>\n",
       "    <tr style=\"text-align: right;\">\n",
       "      <th></th>\n",
       "      <th>brandnm</th>\n",
       "      <th>goodsnm</th>\n",
       "      <th>user</th>\n",
       "      <th>reg_date</th>\n",
       "      <th>order_date</th>\n",
       "      <th>p_type</th>\n",
       "      <th>sub_type</th>\n",
       "      <th>app_yn</th>\n",
       "      <th>reg_year</th>\n",
       "      <th>reg_month</th>\n",
       "      <th>reg_yearmonth</th>\n",
       "      <th>reg_dayofweek</th>\n",
       "      <th>order_month</th>\n",
       "      <th>order_week</th>\n",
       "      <th>order_dayofweek</th>\n",
       "      <th>brandnm_luxury</th>\n",
       "      <th>seg_new</th>\n",
       "      <th>seg_heavy</th>\n",
       "    </tr>\n",
       "  </thead>\n",
       "  <tbody>\n",
       "    <tr>\n",
       "      <th>0</th>\n",
       "      <td>Chanel</td>\n",
       "      <td>pocket graphics pattern zipup-jumper navy</td>\n",
       "      <td>a1112031</td>\n",
       "      <td>2020-08-15</td>\n",
       "      <td>2021-01-01</td>\n",
       "      <td>7days</td>\n",
       "      <td>O</td>\n",
       "      <td>0</td>\n",
       "      <td>2020</td>\n",
       "      <td>08</td>\n",
       "      <td>2020-08</td>\n",
       "      <td>5.00</td>\n",
       "      <td>1</td>\n",
       "      <td>53</td>\n",
       "      <td>4</td>\n",
       "      <td>1</td>\n",
       "      <td>0</td>\n",
       "      <td>0</td>\n",
       "    </tr>\n",
       "    <tr>\n",
       "      <th>6</th>\n",
       "      <td>Gucci</td>\n",
       "      <td>marmont gg logo quilted bag Black 4</td>\n",
       "      <td>a1127774</td>\n",
       "      <td>2020-10-30</td>\n",
       "      <td>2021-01-03</td>\n",
       "      <td>7days</td>\n",
       "      <td>BA</td>\n",
       "      <td>1</td>\n",
       "      <td>2020</td>\n",
       "      <td>10</td>\n",
       "      <td>2020-10</td>\n",
       "      <td>4.00</td>\n",
       "      <td>1</td>\n",
       "      <td>53</td>\n",
       "      <td>6</td>\n",
       "      <td>0</td>\n",
       "      <td>0</td>\n",
       "      <td>0</td>\n",
       "    </tr>\n",
       "    <tr>\n",
       "      <th>7</th>\n",
       "      <td>Gucci</td>\n",
       "      <td>sylvie mini chain ribbon bag white</td>\n",
       "      <td>a1138262</td>\n",
       "      <td>2020-12-19</td>\n",
       "      <td>2021-01-03</td>\n",
       "      <td>4days</td>\n",
       "      <td>BA</td>\n",
       "      <td>1</td>\n",
       "      <td>2020</td>\n",
       "      <td>12</td>\n",
       "      <td>2020-12</td>\n",
       "      <td>5.00</td>\n",
       "      <td>1</td>\n",
       "      <td>53</td>\n",
       "      <td>6</td>\n",
       "      <td>0</td>\n",
       "      <td>0</td>\n",
       "      <td>0</td>\n",
       "    </tr>\n",
       "    <tr>\n",
       "      <th>11</th>\n",
       "      <td>Max Mara</td>\n",
       "      <td>lace detail crop cardigan black_1</td>\n",
       "      <td>a1119528</td>\n",
       "      <td>2020-09-14</td>\n",
       "      <td>2021-01-04</td>\n",
       "      <td>4days</td>\n",
       "      <td>T</td>\n",
       "      <td>1</td>\n",
       "      <td>2020</td>\n",
       "      <td>09</td>\n",
       "      <td>2020-09</td>\n",
       "      <td>0.00</td>\n",
       "      <td>1</td>\n",
       "      <td>1</td>\n",
       "      <td>0</td>\n",
       "      <td>0</td>\n",
       "      <td>0</td>\n",
       "      <td>1</td>\n",
       "    </tr>\n",
       "    <tr>\n",
       "      <th>13</th>\n",
       "      <td>Burberry</td>\n",
       "      <td>belt basic pattern trench-coat red</td>\n",
       "      <td>a1119528</td>\n",
       "      <td>2020-09-14</td>\n",
       "      <td>2021-01-04</td>\n",
       "      <td>4days</td>\n",
       "      <td>O</td>\n",
       "      <td>1</td>\n",
       "      <td>2020</td>\n",
       "      <td>09</td>\n",
       "      <td>2020-09</td>\n",
       "      <td>0.00</td>\n",
       "      <td>1</td>\n",
       "      <td>1</td>\n",
       "      <td>0</td>\n",
       "      <td>1</td>\n",
       "      <td>0</td>\n",
       "      <td>1</td>\n",
       "    </tr>\n",
       "    <tr>\n",
       "      <th>...</th>\n",
       "      <td>...</td>\n",
       "      <td>...</td>\n",
       "      <td>...</td>\n",
       "      <td>...</td>\n",
       "      <td>...</td>\n",
       "      <td>...</td>\n",
       "      <td>...</td>\n",
       "      <td>...</td>\n",
       "      <td>...</td>\n",
       "      <td>...</td>\n",
       "      <td>...</td>\n",
       "      <td>...</td>\n",
       "      <td>...</td>\n",
       "      <td>...</td>\n",
       "      <td>...</td>\n",
       "      <td>...</td>\n",
       "      <td>...</td>\n",
       "      <td>...</td>\n",
       "    </tr>\n",
       "    <tr>\n",
       "      <th>1461</th>\n",
       "      <td>Gucci</td>\n",
       "      <td>graphics pattern sweat-shirts ivory</td>\n",
       "      <td>a1151496</td>\n",
       "      <td>2021-03-31</td>\n",
       "      <td>2021-03-31</td>\n",
       "      <td>7days</td>\n",
       "      <td>T</td>\n",
       "      <td>1</td>\n",
       "      <td>2021</td>\n",
       "      <td>03</td>\n",
       "      <td>2021-03</td>\n",
       "      <td>2.00</td>\n",
       "      <td>3</td>\n",
       "      <td>13</td>\n",
       "      <td>2</td>\n",
       "      <td>0</td>\n",
       "      <td>1</td>\n",
       "      <td>0</td>\n",
       "    </tr>\n",
       "    <tr>\n",
       "      <th>1462</th>\n",
       "      <td>Gucci</td>\n",
       "      <td>GG supreme clutch brown</td>\n",
       "      <td>a1151499</td>\n",
       "      <td>2021-03-31</td>\n",
       "      <td>2021-03-31</td>\n",
       "      <td>4days</td>\n",
       "      <td>BA</td>\n",
       "      <td>1</td>\n",
       "      <td>2021</td>\n",
       "      <td>03</td>\n",
       "      <td>2021-03</td>\n",
       "      <td>2.00</td>\n",
       "      <td>3</td>\n",
       "      <td>13</td>\n",
       "      <td>2</td>\n",
       "      <td>0</td>\n",
       "      <td>1</td>\n",
       "      <td>0</td>\n",
       "    </tr>\n",
       "    <tr>\n",
       "      <th>1465</th>\n",
       "      <td>Saint Laurent</td>\n",
       "      <td>chevron quilted cross bag black</td>\n",
       "      <td>a125904</td>\n",
       "      <td>2019-05-24</td>\n",
       "      <td>2021-03-31</td>\n",
       "      <td>4days</td>\n",
       "      <td>BA</td>\n",
       "      <td>1</td>\n",
       "      <td>2019</td>\n",
       "      <td>05</td>\n",
       "      <td>2019-05</td>\n",
       "      <td>4.00</td>\n",
       "      <td>3</td>\n",
       "      <td>13</td>\n",
       "      <td>2</td>\n",
       "      <td>1</td>\n",
       "      <td>0</td>\n",
       "      <td>0</td>\n",
       "    </tr>\n",
       "    <tr>\n",
       "      <th>1467</th>\n",
       "      <td>Louis Vuitton</td>\n",
       "      <td>monogram canvas clutch bag</td>\n",
       "      <td>a13741</td>\n",
       "      <td>2018-03-20</td>\n",
       "      <td>2021-03-31</td>\n",
       "      <td>4days</td>\n",
       "      <td>BA</td>\n",
       "      <td>1</td>\n",
       "      <td>2018</td>\n",
       "      <td>03</td>\n",
       "      <td>2018-03</td>\n",
       "      <td>1.00</td>\n",
       "      <td>3</td>\n",
       "      <td>13</td>\n",
       "      <td>2</td>\n",
       "      <td>1</td>\n",
       "      <td>0</td>\n",
       "      <td>0</td>\n",
       "    </tr>\n",
       "    <tr>\n",
       "      <th>1469</th>\n",
       "      <td>Louis Vuitton</td>\n",
       "      <td>Mogram neonoe bucket brown bag</td>\n",
       "      <td>a174354</td>\n",
       "      <td>2020-01-16</td>\n",
       "      <td>2021-03-31</td>\n",
       "      <td>4days</td>\n",
       "      <td>BA</td>\n",
       "      <td>1</td>\n",
       "      <td>2020</td>\n",
       "      <td>01</td>\n",
       "      <td>2020-01</td>\n",
       "      <td>3.00</td>\n",
       "      <td>3</td>\n",
       "      <td>13</td>\n",
       "      <td>2</td>\n",
       "      <td>1</td>\n",
       "      <td>0</td>\n",
       "      <td>0</td>\n",
       "    </tr>\n",
       "  </tbody>\n",
       "</table>\n",
       "<p>737 rows × 18 columns</p>\n",
       "</div>"
      ],
      "text/plain": [
       "            brandnm                                    goodsnm      user  \\\n",
       "0     Chanel         pocket graphics pattern zipup-jumper navy  a1112031   \n",
       "6     Gucci          marmont gg logo quilted bag Black 4        a1127774   \n",
       "7     Gucci          sylvie mini chain ribbon bag white         a1138262   \n",
       "11    Max Mara       lace detail crop cardigan black_1          a1119528   \n",
       "13    Burberry       belt basic pattern trench-coat red         a1119528   \n",
       "...        ...                                      ...              ...   \n",
       "1461  Gucci          graphics pattern sweat-shirts ivory        a1151496   \n",
       "1462  Gucci          GG supreme clutch brown                    a1151499   \n",
       "1465  Saint Laurent  chevron quilted cross bag black            a125904    \n",
       "1467  Louis Vuitton  monogram canvas clutch bag                 a13741     \n",
       "1469  Louis Vuitton  Mogram neonoe bucket brown bag             a174354    \n",
       "\n",
       "        reg_date  order_date p_type sub_type app_yn reg_year reg_month  \\\n",
       "0     2020-08-15  2021-01-01  7days  O        0      2020     08         \n",
       "6     2020-10-30  2021-01-03  7days  BA       1      2020     10         \n",
       "7     2020-12-19  2021-01-03  4days  BA       1      2020     12         \n",
       "11    2020-09-14  2021-01-04  4days  T        1      2020     09         \n",
       "13    2020-09-14  2021-01-04  4days  O        1      2020     09         \n",
       "...          ...         ...    ... ..       ..       ...     ..         \n",
       "1461  2021-03-31  2021-03-31  7days  T        1      2021     03         \n",
       "1462  2021-03-31  2021-03-31  4days  BA       1      2021     03         \n",
       "1465  2019-05-24  2021-03-31  4days  BA       1      2019     05         \n",
       "1467  2018-03-20  2021-03-31  4days  BA       1      2018     03         \n",
       "1469  2020-01-16  2021-03-31  4days  BA       1      2020     01         \n",
       "\n",
       "     reg_yearmonth  reg_dayofweek  order_month  order_week  order_dayofweek  \\\n",
       "0     2020-08      5.00            1            53          4                 \n",
       "6     2020-10      4.00            1            53          6                 \n",
       "7     2020-12      5.00            1            53          6                 \n",
       "11    2020-09      0.00            1            1           0                 \n",
       "13    2020-09      0.00            1            1           0                 \n",
       "...       ...       ...           ..           ..          ..                 \n",
       "1461  2021-03      2.00            3            13          2                 \n",
       "1462  2021-03      2.00            3            13          2                 \n",
       "1465  2019-05      4.00            3            13          2                 \n",
       "1467  2018-03      1.00            3            13          2                 \n",
       "1469  2020-01      3.00            3            13          2                 \n",
       "\n",
       "      brandnm_luxury  seg_new  seg_heavy  \n",
       "0     1               0        0          \n",
       "6     0               0        0          \n",
       "7     0               0        0          \n",
       "11    0               0        1          \n",
       "13    1               0        1          \n",
       "...  ..              ..       ..          \n",
       "1461  0               1        0          \n",
       "1462  0               1        0          \n",
       "1465  1               0        0          \n",
       "1467  1               0        0          \n",
       "1469  1               0        0          \n",
       "\n",
       "[737 rows x 18 columns]"
      ]
     },
     "execution_count": 266,
     "metadata": {},
     "output_type": "execute_result"
    }
   ],
   "source": [
    "df[df.brandnm.isin(popular_brand_list)]"
   ]
  },
  {
   "cell_type": "markdown",
   "metadata": {},
   "source": [
    "#### 연관분석\n",
    "- http://rasbt.github.io/mlxtend/user_guide/frequent_patterns/apriori/\n",
    "- https://wotres.tistory.com/entry/Association-Rule-%EC%97%B0%EA%B4%80%EC%84%B1-%EB%B6%84%EC%84%9D-in-python\n",
    "- 지지도 x, y가 함께 발생할 확률 \n",
    "- 향상도 1 : 품목간 관계 없음, >1 긍정 관계, <1 부정관계\n",
    "- 신뢰도 : 조건부 확률 x > y"
   ]
  },
  {
   "cell_type": "markdown",
   "metadata": {},
   "source": [
    "###### 연관분석 모듈 / function"
   ]
  },
  {
   "cell_type": "code",
   "execution_count": 267,
   "metadata": {
    "ExecuteTime": {
     "end_time": "2021-05-18T16:35:52.360974Z",
     "start_time": "2021-05-18T16:35:52.347013Z"
    }
   },
   "outputs": [],
   "source": [
    "# 연관규칙\n",
    "def toList(x):\n",
    "    return list(set(x))"
   ]
  },
  {
   "cell_type": "markdown",
   "metadata": {},
   "source": [
    "##### 브랜드  \n",
    "- 지지도 0.2보다 낮아서 사용 X"
   ]
  },
  {
   "cell_type": "code",
   "execution_count": 268,
   "metadata": {
    "ExecuteTime": {
     "end_time": "2021-05-18T16:35:59.590394Z",
     "start_time": "2021-05-18T16:35:59.509613Z"
    },
    "scrolled": false
   },
   "outputs": [
    {
     "data": {
      "text/html": [
       "<div>\n",
       "<style scoped>\n",
       "    .dataframe tbody tr th:only-of-type {\n",
       "        vertical-align: middle;\n",
       "    }\n",
       "\n",
       "    .dataframe tbody tr th {\n",
       "        vertical-align: top;\n",
       "    }\n",
       "\n",
       "    .dataframe thead th {\n",
       "        text-align: right;\n",
       "    }\n",
       "</style>\n",
       "<table border=\"1\" class=\"dataframe\">\n",
       "  <thead>\n",
       "    <tr style=\"text-align: right;\">\n",
       "      <th></th>\n",
       "      <th>user</th>\n",
       "      <th>brandnm</th>\n",
       "      <th>len</th>\n",
       "    </tr>\n",
       "  </thead>\n",
       "  <tbody>\n",
       "    <tr>\n",
       "      <th>0</th>\n",
       "      <td>a1100548</td>\n",
       "      <td>[Yves Saint Laurent, On&amp;On]</td>\n",
       "      <td>True</td>\n",
       "    </tr>\n",
       "    <tr>\n",
       "      <th>1</th>\n",
       "      <td>a1100887</td>\n",
       "      <td>[Gucci]</td>\n",
       "      <td>False</td>\n",
       "    </tr>\n",
       "    <tr>\n",
       "      <th>2</th>\n",
       "      <td>a1101514</td>\n",
       "      <td>[Max Mara]</td>\n",
       "      <td>False</td>\n",
       "    </tr>\n",
       "    <tr>\n",
       "      <th>3</th>\n",
       "      <td>a1101645</td>\n",
       "      <td>[Gucci]</td>\n",
       "      <td>False</td>\n",
       "    </tr>\n",
       "    <tr>\n",
       "      <th>4</th>\n",
       "      <td>a1102068</td>\n",
       "      <td>[Gucci]</td>\n",
       "      <td>False</td>\n",
       "    </tr>\n",
       "  </tbody>\n",
       "</table>\n",
       "</div>"
      ],
      "text/plain": [
       "       user                      brandnm    len\n",
       "0  a1100548  [Yves Saint Laurent, On&On]  True \n",
       "1  a1100887  [Gucci]                      False\n",
       "2  a1101514  [Max Mara]                   False\n",
       "3  a1101645  [Gucci]                      False\n",
       "4  a1102068  [Gucci]                      False"
      ]
     },
     "execution_count": 268,
     "metadata": {},
     "output_type": "execute_result"
    }
   ],
   "source": [
    "# 같이 구매한 브랜드 리스트\n",
    "# 2개 이상 필터링\n",
    "df_asso=df.groupby('user').brandnm.apply(lambda x : toList(x)).reset_index()\n",
    "df_asso['len'] = df_asso.brandnm.apply(lambda x: len(x)>=2)\n",
    "df_asso.head(5)"
   ]
  },
  {
   "cell_type": "code",
   "execution_count": 269,
   "metadata": {
    "ExecuteTime": {
     "end_time": "2021-05-18T16:36:00.091158Z",
     "start_time": "2021-05-18T16:36:00.080189Z"
    }
   },
   "outputs": [],
   "source": [
    "asso_list = list(df_asso.brandnm)"
   ]
  },
  {
   "cell_type": "code",
   "execution_count": 270,
   "metadata": {
    "ExecuteTime": {
     "end_time": "2021-05-18T16:36:00.517075Z",
     "start_time": "2021-05-18T16:36:00.507103Z"
    },
    "scrolled": false
   },
   "outputs": [
    {
     "data": {
      "text/plain": [
       "[['Yves Saint Laurent', 'On&On'],\n",
       " ['Gucci'],\n",
       " ['Max Mara'],\n",
       " ['Gucci'],\n",
       " ['Gucci'],\n",
       " ['Max Mara', 'Chanel'],\n",
       " ['Prada'],\n",
       " ['Gucci'],\n",
       " ['Chanel'],\n",
       " ['Yves Saint Laurent']]"
      ]
     },
     "execution_count": 270,
     "metadata": {},
     "output_type": "execute_result"
    }
   ],
   "source": [
    "asso_list[:10]"
   ]
  },
  {
   "cell_type": "code",
   "execution_count": 271,
   "metadata": {
    "ExecuteTime": {
     "end_time": "2021-05-18T16:36:00.533033Z",
     "start_time": "2021-05-18T16:36:00.522063Z"
    }
   },
   "outputs": [],
   "source": [
    "#! pip install mlxtend\n",
    "# 인코딩용\n",
    "from mlxtend.preprocessing import TransactionEncoder\n",
    "# 연관분석 \n",
    "from mlxtend.frequent_patterns import apriori\n",
    "te=TransactionEncoder() # 객체 생성"
   ]
  },
  {
   "cell_type": "code",
   "execution_count": 272,
   "metadata": {
    "ExecuteTime": {
     "end_time": "2021-05-18T16:36:01.328904Z",
     "start_time": "2021-05-18T16:36:01.316937Z"
    }
   },
   "outputs": [],
   "source": [
    "asso_list_encoded = te.fit(asso_list).transform(asso_list)\n",
    "# one hot encoding\n",
    "asso_list_encoded=asso_list_encoded.astype(\"int\")\n",
    "df_asso_encoded = pd.DataFrame(asso_list_encoded, columns=te.columns_)"
   ]
  },
  {
   "cell_type": "code",
   "execution_count": 273,
   "metadata": {
    "ExecuteTime": {
     "end_time": "2021-05-18T16:36:01.343865Z",
     "start_time": "2021-05-18T16:36:01.331899Z"
    }
   },
   "outputs": [
    {
     "data": {
      "text/plain": [
       "Index(['& Other Stories', 'A BY A', 'A.P.C.', 'ACNE STUDIOS', 'Adidas',\n",
       "       'Adidas X Stella Mccartney', 'Akro', 'Alexander Mcqueen',\n",
       "       'Alexander Wang', 'Alice & Olivia',\n",
       "       ...\n",
       "       'Wai Kei', 'Wonder Style', 'Your Name Here', 'Yves Saint Laurent',\n",
       "       'Zadig & Voltaire', 'Zooc', 'cecilie bahnsen', 'khrisjoy', 'roajeu',\n",
       "       'thom browne'],\n",
       "      dtype='object', length=246)"
      ]
     },
     "execution_count": 273,
     "metadata": {},
     "output_type": "execute_result"
    }
   ],
   "source": [
    "df_asso_encoded.columns"
   ]
  },
  {
   "cell_type": "code",
   "execution_count": 274,
   "metadata": {
    "ExecuteTime": {
     "end_time": "2021-05-18T16:36:01.373785Z",
     "start_time": "2021-05-18T16:36:01.345860Z"
    }
   },
   "outputs": [
    {
     "data": {
      "text/html": [
       "<div>\n",
       "<style scoped>\n",
       "    .dataframe tbody tr th:only-of-type {\n",
       "        vertical-align: middle;\n",
       "    }\n",
       "\n",
       "    .dataframe tbody tr th {\n",
       "        vertical-align: top;\n",
       "    }\n",
       "\n",
       "    .dataframe thead th {\n",
       "        text-align: right;\n",
       "    }\n",
       "</style>\n",
       "<table border=\"1\" class=\"dataframe\">\n",
       "  <thead>\n",
       "    <tr style=\"text-align: right;\">\n",
       "      <th></th>\n",
       "      <th>&amp; Other Stories</th>\n",
       "      <th>A BY A</th>\n",
       "      <th>A.P.C.</th>\n",
       "      <th>ACNE STUDIOS</th>\n",
       "      <th>Adidas</th>\n",
       "      <th>Adidas X Stella Mccartney</th>\n",
       "      <th>Akro</th>\n",
       "      <th>Alexander Mcqueen</th>\n",
       "      <th>Alexander Wang</th>\n",
       "      <th>Alice &amp; Olivia</th>\n",
       "      <th>...</th>\n",
       "      <th>Wai Kei</th>\n",
       "      <th>Wonder Style</th>\n",
       "      <th>Your Name Here</th>\n",
       "      <th>Yves Saint Laurent</th>\n",
       "      <th>Zadig &amp; Voltaire</th>\n",
       "      <th>Zooc</th>\n",
       "      <th>cecilie bahnsen</th>\n",
       "      <th>khrisjoy</th>\n",
       "      <th>roajeu</th>\n",
       "      <th>thom browne</th>\n",
       "    </tr>\n",
       "  </thead>\n",
       "  <tbody>\n",
       "    <tr>\n",
       "      <th>0</th>\n",
       "      <td>0</td>\n",
       "      <td>0</td>\n",
       "      <td>0</td>\n",
       "      <td>0</td>\n",
       "      <td>0</td>\n",
       "      <td>0</td>\n",
       "      <td>0</td>\n",
       "      <td>0</td>\n",
       "      <td>0</td>\n",
       "      <td>0</td>\n",
       "      <td>...</td>\n",
       "      <td>0</td>\n",
       "      <td>0</td>\n",
       "      <td>0</td>\n",
       "      <td>1</td>\n",
       "      <td>0</td>\n",
       "      <td>0</td>\n",
       "      <td>0</td>\n",
       "      <td>0</td>\n",
       "      <td>0</td>\n",
       "      <td>0</td>\n",
       "    </tr>\n",
       "    <tr>\n",
       "      <th>1</th>\n",
       "      <td>0</td>\n",
       "      <td>0</td>\n",
       "      <td>0</td>\n",
       "      <td>0</td>\n",
       "      <td>0</td>\n",
       "      <td>0</td>\n",
       "      <td>0</td>\n",
       "      <td>0</td>\n",
       "      <td>0</td>\n",
       "      <td>0</td>\n",
       "      <td>...</td>\n",
       "      <td>0</td>\n",
       "      <td>0</td>\n",
       "      <td>0</td>\n",
       "      <td>0</td>\n",
       "      <td>0</td>\n",
       "      <td>0</td>\n",
       "      <td>0</td>\n",
       "      <td>0</td>\n",
       "      <td>0</td>\n",
       "      <td>0</td>\n",
       "    </tr>\n",
       "    <tr>\n",
       "      <th>2</th>\n",
       "      <td>0</td>\n",
       "      <td>0</td>\n",
       "      <td>0</td>\n",
       "      <td>0</td>\n",
       "      <td>0</td>\n",
       "      <td>0</td>\n",
       "      <td>0</td>\n",
       "      <td>0</td>\n",
       "      <td>0</td>\n",
       "      <td>0</td>\n",
       "      <td>...</td>\n",
       "      <td>0</td>\n",
       "      <td>0</td>\n",
       "      <td>0</td>\n",
       "      <td>0</td>\n",
       "      <td>0</td>\n",
       "      <td>0</td>\n",
       "      <td>0</td>\n",
       "      <td>0</td>\n",
       "      <td>0</td>\n",
       "      <td>0</td>\n",
       "    </tr>\n",
       "    <tr>\n",
       "      <th>3</th>\n",
       "      <td>0</td>\n",
       "      <td>0</td>\n",
       "      <td>0</td>\n",
       "      <td>0</td>\n",
       "      <td>0</td>\n",
       "      <td>0</td>\n",
       "      <td>0</td>\n",
       "      <td>0</td>\n",
       "      <td>0</td>\n",
       "      <td>0</td>\n",
       "      <td>...</td>\n",
       "      <td>0</td>\n",
       "      <td>0</td>\n",
       "      <td>0</td>\n",
       "      <td>0</td>\n",
       "      <td>0</td>\n",
       "      <td>0</td>\n",
       "      <td>0</td>\n",
       "      <td>0</td>\n",
       "      <td>0</td>\n",
       "      <td>0</td>\n",
       "    </tr>\n",
       "    <tr>\n",
       "      <th>4</th>\n",
       "      <td>0</td>\n",
       "      <td>0</td>\n",
       "      <td>0</td>\n",
       "      <td>0</td>\n",
       "      <td>0</td>\n",
       "      <td>0</td>\n",
       "      <td>0</td>\n",
       "      <td>0</td>\n",
       "      <td>0</td>\n",
       "      <td>0</td>\n",
       "      <td>...</td>\n",
       "      <td>0</td>\n",
       "      <td>0</td>\n",
       "      <td>0</td>\n",
       "      <td>0</td>\n",
       "      <td>0</td>\n",
       "      <td>0</td>\n",
       "      <td>0</td>\n",
       "      <td>0</td>\n",
       "      <td>0</td>\n",
       "      <td>0</td>\n",
       "    </tr>\n",
       "  </tbody>\n",
       "</table>\n",
       "<p>5 rows × 246 columns</p>\n",
       "</div>"
      ],
      "text/plain": [
       "   & Other Stories  A BY A  A.P.C.  ACNE STUDIOS  Adidas  \\\n",
       "0  0                0       0       0             0        \n",
       "1  0                0       0       0             0        \n",
       "2  0                0       0       0             0        \n",
       "3  0                0       0       0             0        \n",
       "4  0                0       0       0             0        \n",
       "\n",
       "   Adidas X Stella Mccartney  Akro  Alexander Mcqueen  Alexander Wang  \\\n",
       "0  0                          0     0                  0                \n",
       "1  0                          0     0                  0                \n",
       "2  0                          0     0                  0                \n",
       "3  0                          0     0                  0                \n",
       "4  0                          0     0                  0                \n",
       "\n",
       "   Alice & Olivia  ...  Wai Kei  Wonder Style  Your Name Here  \\\n",
       "0  0               ...  0        0             0                \n",
       "1  0               ...  0        0             0                \n",
       "2  0               ...  0        0             0                \n",
       "3  0               ...  0        0             0                \n",
       "4  0               ...  0        0             0                \n",
       "\n",
       "   Yves Saint Laurent  Zadig & Voltaire  Zooc  cecilie bahnsen  khrisjoy  \\\n",
       "0  1                   0                 0     0                0          \n",
       "1  0                   0                 0     0                0          \n",
       "2  0                   0                 0     0                0          \n",
       "3  0                   0                 0     0                0          \n",
       "4  0                   0                 0     0                0          \n",
       "\n",
       "   roajeu  thom browne  \n",
       "0  0       0            \n",
       "1  0       0            \n",
       "2  0       0            \n",
       "3  0       0            \n",
       "4  0       0            \n",
       "\n",
       "[5 rows x 246 columns]"
      ]
     },
     "execution_count": 274,
     "metadata": {},
     "output_type": "execute_result"
    }
   ],
   "source": [
    "df_asso_encoded.head(5)"
   ]
  },
  {
   "cell_type": "code",
   "execution_count": 275,
   "metadata": {
    "ExecuteTime": {
     "end_time": "2021-05-18T16:36:01.809619Z",
     "start_time": "2021-05-18T16:36:01.767732Z"
    },
    "scrolled": true
   },
   "outputs": [
    {
     "data": {
      "text/html": [
       "<div>\n",
       "<style scoped>\n",
       "    .dataframe tbody tr th:only-of-type {\n",
       "        vertical-align: middle;\n",
       "    }\n",
       "\n",
       "    .dataframe tbody tr th {\n",
       "        vertical-align: top;\n",
       "    }\n",
       "\n",
       "    .dataframe thead th {\n",
       "        text-align: right;\n",
       "    }\n",
       "</style>\n",
       "<table border=\"1\" class=\"dataframe\">\n",
       "  <thead>\n",
       "    <tr style=\"text-align: right;\">\n",
       "      <th></th>\n",
       "      <th>support</th>\n",
       "      <th>itemsets</th>\n",
       "    </tr>\n",
       "  </thead>\n",
       "  <tbody>\n",
       "  </tbody>\n",
       "</table>\n",
       "</div>"
      ],
      "text/plain": [
       "Empty DataFrame\n",
       "Columns: [support, itemsets]\n",
       "Index: []"
      ]
     },
     "execution_count": 275,
     "metadata": {},
     "output_type": "execute_result"
    }
   ],
   "source": [
    "apriori(df_asso_encoded, min_support=0.2, use_colnames=True)"
   ]
  },
  {
   "cell_type": "markdown",
   "metadata": {},
   "source": [
    "##### 카테고리 \n",
    "**- 가방과 아우터 카테고리 간 지지도, 신뢰도, 향상도 높은 편이나, 전체 주문 수량의 50% 정도이기 때문인 것 같음**"
   ]
  },
  {
   "cell_type": "code",
   "execution_count": 276,
   "metadata": {
    "ExecuteTime": {
     "end_time": "2021-05-18T16:36:02.544656Z",
     "start_time": "2021-05-18T16:36:02.411013Z"
    }
   },
   "outputs": [
    {
     "data": {
      "text/html": [
       "<div>\n",
       "<style scoped>\n",
       "    .dataframe tbody tr th:only-of-type {\n",
       "        vertical-align: middle;\n",
       "    }\n",
       "\n",
       "    .dataframe tbody tr th {\n",
       "        vertical-align: top;\n",
       "    }\n",
       "\n",
       "    .dataframe thead th {\n",
       "        text-align: right;\n",
       "    }\n",
       "</style>\n",
       "<table border=\"1\" class=\"dataframe\">\n",
       "  <thead>\n",
       "    <tr style=\"text-align: right;\">\n",
       "      <th></th>\n",
       "      <th>B</th>\n",
       "      <th>BA</th>\n",
       "      <th>D</th>\n",
       "      <th>O</th>\n",
       "      <th>T</th>\n",
       "      <th>TP</th>\n",
       "    </tr>\n",
       "  </thead>\n",
       "  <tbody>\n",
       "    <tr>\n",
       "      <th>0</th>\n",
       "      <td>1</td>\n",
       "      <td>1</td>\n",
       "      <td>0</td>\n",
       "      <td>0</td>\n",
       "      <td>0</td>\n",
       "      <td>0</td>\n",
       "    </tr>\n",
       "    <tr>\n",
       "      <th>1</th>\n",
       "      <td>0</td>\n",
       "      <td>1</td>\n",
       "      <td>0</td>\n",
       "      <td>1</td>\n",
       "      <td>0</td>\n",
       "      <td>0</td>\n",
       "    </tr>\n",
       "    <tr>\n",
       "      <th>2</th>\n",
       "      <td>0</td>\n",
       "      <td>1</td>\n",
       "      <td>1</td>\n",
       "      <td>0</td>\n",
       "      <td>0</td>\n",
       "      <td>0</td>\n",
       "    </tr>\n",
       "    <tr>\n",
       "      <th>3</th>\n",
       "      <td>0</td>\n",
       "      <td>1</td>\n",
       "      <td>1</td>\n",
       "      <td>0</td>\n",
       "      <td>0</td>\n",
       "      <td>0</td>\n",
       "    </tr>\n",
       "    <tr>\n",
       "      <th>4</th>\n",
       "      <td>0</td>\n",
       "      <td>1</td>\n",
       "      <td>0</td>\n",
       "      <td>1</td>\n",
       "      <td>0</td>\n",
       "      <td>0</td>\n",
       "    </tr>\n",
       "  </tbody>\n",
       "</table>\n",
       "</div>"
      ],
      "text/plain": [
       "   B  BA  D  O  T  TP\n",
       "0  1  1   0  0  0  0 \n",
       "1  0  1   0  1  0  0 \n",
       "2  0  1   1  0  0  0 \n",
       "3  0  1   1  0  0  0 \n",
       "4  0  1   0  1  0  0 "
      ]
     },
     "execution_count": 276,
     "metadata": {},
     "output_type": "execute_result"
    }
   ],
   "source": [
    "# 같이 구매한 브랜드 리스트\n",
    "# 2개 이상 필터링\n",
    "df_asso2=df.groupby('user').sub_type.apply(lambda x : toList(x)).reset_index()\n",
    "df_asso2['len'] = df_asso2.sub_type.apply(lambda x: len(x)>=2)\n",
    "asso_list2 = list(df_asso2.query('len==True').sub_type)\n",
    "\n",
    "# 객체 생성\n",
    "te=TransactionEncoder() \n",
    "\n",
    "# Encoding \n",
    "asso_list_encoded2 = te.fit(asso_list2).transform(asso_list2)\n",
    "# 0,1 로 변환\n",
    "asso_list_encoded2=asso_list_encoded2.astype(\"int\")\n",
    "df_asso_encoded2 = pd.DataFrame(asso_list_encoded2, columns=te.columns_)\n",
    "\n",
    "# df_asso_encoded.columns\n",
    "df_asso_encoded2.head(5)"
   ]
  },
  {
   "cell_type": "code",
   "execution_count": 277,
   "metadata": {
    "ExecuteTime": {
     "end_time": "2021-05-18T16:36:02.590534Z",
     "start_time": "2021-05-18T16:36:02.549643Z"
    }
   },
   "outputs": [
    {
     "data": {
      "text/html": [
       "<div>\n",
       "<style scoped>\n",
       "    .dataframe tbody tr th:only-of-type {\n",
       "        vertical-align: middle;\n",
       "    }\n",
       "\n",
       "    .dataframe tbody tr th {\n",
       "        vertical-align: top;\n",
       "    }\n",
       "\n",
       "    .dataframe thead th {\n",
       "        text-align: right;\n",
       "    }\n",
       "</style>\n",
       "<table border=\"1\" class=\"dataframe\">\n",
       "  <thead>\n",
       "    <tr style=\"text-align: right;\">\n",
       "      <th></th>\n",
       "      <th>support</th>\n",
       "      <th>itemsets</th>\n",
       "    </tr>\n",
       "  </thead>\n",
       "  <tbody>\n",
       "    <tr>\n",
       "      <th>0</th>\n",
       "      <td>0.26</td>\n",
       "      <td>(B)</td>\n",
       "    </tr>\n",
       "    <tr>\n",
       "      <th>1</th>\n",
       "      <td>0.61</td>\n",
       "      <td>(BA)</td>\n",
       "    </tr>\n",
       "    <tr>\n",
       "      <th>2</th>\n",
       "      <td>0.33</td>\n",
       "      <td>(D)</td>\n",
       "    </tr>\n",
       "    <tr>\n",
       "      <th>3</th>\n",
       "      <td>0.65</td>\n",
       "      <td>(O)</td>\n",
       "    </tr>\n",
       "    <tr>\n",
       "      <th>4</th>\n",
       "      <td>0.37</td>\n",
       "      <td>(T)</td>\n",
       "    </tr>\n",
       "    <tr>\n",
       "      <th>5</th>\n",
       "      <td>0.39</td>\n",
       "      <td>(O, BA)</td>\n",
       "    </tr>\n",
       "  </tbody>\n",
       "</table>\n",
       "</div>"
      ],
      "text/plain": [
       "   support itemsets\n",
       "0 0.26      (B)    \n",
       "1 0.61      (BA)   \n",
       "2 0.33      (D)    \n",
       "3 0.65      (O)    \n",
       "4 0.37      (T)    \n",
       "5 0.39      (O, BA)"
      ]
     },
     "execution_count": 277,
     "metadata": {},
     "output_type": "execute_result"
    }
   ],
   "source": [
    "apriori(df_asso_encoded2, min_support=0.2, use_colnames=True)"
   ]
  },
  {
   "cell_type": "code",
   "execution_count": 278,
   "metadata": {
    "ExecuteTime": {
     "end_time": "2021-05-18T16:36:02.712208Z",
     "start_time": "2021-05-18T16:36:02.670321Z"
    }
   },
   "outputs": [
    {
     "data": {
      "text/html": [
       "<div>\n",
       "<style scoped>\n",
       "    .dataframe tbody tr th:only-of-type {\n",
       "        vertical-align: middle;\n",
       "    }\n",
       "\n",
       "    .dataframe tbody tr th {\n",
       "        vertical-align: top;\n",
       "    }\n",
       "\n",
       "    .dataframe thead th {\n",
       "        text-align: right;\n",
       "    }\n",
       "</style>\n",
       "<table border=\"1\" class=\"dataframe\">\n",
       "  <thead>\n",
       "    <tr style=\"text-align: right;\">\n",
       "      <th></th>\n",
       "      <th>support</th>\n",
       "      <th>itemsets</th>\n",
       "      <th>len</th>\n",
       "    </tr>\n",
       "  </thead>\n",
       "  <tbody>\n",
       "    <tr>\n",
       "      <th>5</th>\n",
       "      <td>0.39</td>\n",
       "      <td>(O, BA)</td>\n",
       "      <td>2</td>\n",
       "    </tr>\n",
       "  </tbody>\n",
       "</table>\n",
       "</div>"
      ],
      "text/plain": [
       "   support itemsets  len\n",
       "5 0.39      (O, BA)  2  "
      ]
     },
     "execution_count": 278,
     "metadata": {},
     "output_type": "execute_result"
    }
   ],
   "source": [
    "df_frequent_itemsets= apriori(df_asso_encoded2, min_support=0.2, use_colnames=True)\n",
    "df_frequent_itemsets['len']=df_frequent_itemsets['itemsets'].apply(lambda x : len(x))\n",
    "df_frequent_itemsets[df_frequent_itemsets['len']>=2]"
   ]
  },
  {
   "cell_type": "code",
   "execution_count": 279,
   "metadata": {
    "ExecuteTime": {
     "end_time": "2021-05-18T16:36:02.817926Z",
     "start_time": "2021-05-18T16:36:02.788005Z"
    }
   },
   "outputs": [
    {
     "data": {
      "text/html": [
       "<div>\n",
       "<style scoped>\n",
       "    .dataframe tbody tr th:only-of-type {\n",
       "        vertical-align: middle;\n",
       "    }\n",
       "\n",
       "    .dataframe tbody tr th {\n",
       "        vertical-align: top;\n",
       "    }\n",
       "\n",
       "    .dataframe thead th {\n",
       "        text-align: right;\n",
       "    }\n",
       "</style>\n",
       "<table border=\"1\" class=\"dataframe\">\n",
       "  <thead>\n",
       "    <tr style=\"text-align: right;\">\n",
       "      <th></th>\n",
       "      <th>antecedents</th>\n",
       "      <th>consequents</th>\n",
       "      <th>antecedent support</th>\n",
       "      <th>consequent support</th>\n",
       "      <th>support</th>\n",
       "      <th>confidence</th>\n",
       "      <th>lift</th>\n",
       "      <th>leverage</th>\n",
       "      <th>conviction</th>\n",
       "    </tr>\n",
       "  </thead>\n",
       "  <tbody>\n",
       "    <tr>\n",
       "      <th>0</th>\n",
       "      <td>(O)</td>\n",
       "      <td>(BA)</td>\n",
       "      <td>0.65</td>\n",
       "      <td>0.61</td>\n",
       "      <td>0.39</td>\n",
       "      <td>0.60</td>\n",
       "      <td>0.98</td>\n",
       "      <td>-0.01</td>\n",
       "      <td>0.97</td>\n",
       "    </tr>\n",
       "    <tr>\n",
       "      <th>1</th>\n",
       "      <td>(BA)</td>\n",
       "      <td>(O)</td>\n",
       "      <td>0.61</td>\n",
       "      <td>0.65</td>\n",
       "      <td>0.39</td>\n",
       "      <td>0.64</td>\n",
       "      <td>0.98</td>\n",
       "      <td>-0.01</td>\n",
       "      <td>0.97</td>\n",
       "    </tr>\n",
       "  </tbody>\n",
       "</table>\n",
       "</div>"
      ],
      "text/plain": [
       "  antecedents consequents  antecedent support  consequent support  support  \\\n",
       "0  (O)         (BA)       0.65                0.61                0.39       \n",
       "1  (BA)        (O)        0.61                0.65                0.39       \n",
       "\n",
       "   confidence  lift  leverage  conviction  \n",
       "0 0.60        0.98  -0.01     0.97         \n",
       "1 0.64        0.98  -0.01     0.97         "
      ]
     },
     "execution_count": 279,
     "metadata": {},
     "output_type": "execute_result"
    }
   ],
   "source": [
    "association_rules(df_frequent_itemsets, metric='lift')"
   ]
  },
  {
   "cell_type": "markdown",
   "metadata": {},
   "source": [
    "**- 가방과 아우터 카테고리 간 지지도, 신뢰도, 향상도 높은 편이나, 전체 주문 수량의 50% 정도이기 때문인 것 같음**"
   ]
  },
  {
   "cell_type": "markdown",
   "metadata": {},
   "source": [
    "##### 상품명 goodsnm \n",
    "**- 지지도 0.5이상인 ITEMSETS 5건, 생로랑 제품 건수의 영향 BUT 비즈니스 관련 인사이트 생각해보기**"
   ]
  },
  {
   "cell_type": "markdown",
   "metadata": {},
   "source": [
    "###### 주차별"
   ]
  },
  {
   "cell_type": "code",
   "execution_count": 280,
   "metadata": {
    "ExecuteTime": {
     "end_time": "2021-05-18T16:36:38.992419Z",
     "start_time": "2021-05-18T16:36:38.984405Z"
    }
   },
   "outputs": [
    {
     "data": {
      "text/plain": [
       "Index(['brandnm', 'goodsnm', 'user', 'reg_date', 'order_date', 'p_type',\n",
       "       'sub_type', 'app_yn', 'reg_year', 'reg_month', 'reg_yearmonth',\n",
       "       'reg_dayofweek', 'order_month', 'order_week', 'order_dayofweek',\n",
       "       'brandnm_luxury', 'seg_new', 'seg_heavy'],\n",
       "      dtype='object')"
      ]
     },
     "execution_count": 280,
     "metadata": {},
     "output_type": "execute_result"
    }
   ],
   "source": [
    "df.columns"
   ]
  },
  {
   "cell_type": "code",
   "execution_count": 281,
   "metadata": {
    "ExecuteTime": {
     "end_time": "2021-05-18T16:36:39.441184Z",
     "start_time": "2021-05-18T16:36:39.389324Z"
    },
    "scrolled": true
   },
   "outputs": [
    {
     "data": {
      "text/html": [
       "<div>\n",
       "<style scoped>\n",
       "    .dataframe tbody tr th:only-of-type {\n",
       "        vertical-align: middle;\n",
       "    }\n",
       "\n",
       "    .dataframe tbody tr th {\n",
       "        vertical-align: top;\n",
       "    }\n",
       "\n",
       "    .dataframe thead th {\n",
       "        text-align: right;\n",
       "    }\n",
       "</style>\n",
       "<table border=\"1\" class=\"dataframe\">\n",
       "  <thead>\n",
       "    <tr style=\"text-align: right;\">\n",
       "      <th></th>\n",
       "      <th>2.55 classic patent bag black</th>\n",
       "      <th>2.55 classic patent bag navy</th>\n",
       "      <th>2jours bag navy</th>\n",
       "      <th>3jours two way bag beige</th>\n",
       "      <th>5ac tote bag brown</th>\n",
       "      <th>Bucket black bag</th>\n",
       "      <th>El estilo de Claire - neoprene botanical print top_pleats fake leather skirt ash</th>\n",
       "      <th>GG clutch chain bag</th>\n",
       "      <th>GG marmont belt bag black</th>\n",
       "      <th>GG marmont belt bag bluegreen</th>\n",
       "      <th>...</th>\n",
       "      <th>wrap detail coat beige</th>\n",
       "      <th>wrap sleeveless dress</th>\n",
       "      <th>zebra print pattern turtle neck top multi</th>\n",
       "      <th>zig zag pattern cardigan multi</th>\n",
       "      <th>zipper clutch black</th>\n",
       "      <th>zipper detail bucket tote bag</th>\n",
       "      <th>zipper detail cape padding jumper</th>\n",
       "      <th>zipper detail pointed jacket beige</th>\n",
       "      <th>zipper detail two tone jacket</th>\n",
       "      <th>zipper stripe jacket black</th>\n",
       "    </tr>\n",
       "  </thead>\n",
       "  <tbody>\n",
       "    <tr>\n",
       "      <th>0</th>\n",
       "      <td>0</td>\n",
       "      <td>0</td>\n",
       "      <td>0</td>\n",
       "      <td>0</td>\n",
       "      <td>0</td>\n",
       "      <td>0</td>\n",
       "      <td>0</td>\n",
       "      <td>0</td>\n",
       "      <td>0</td>\n",
       "      <td>0</td>\n",
       "      <td>...</td>\n",
       "      <td>0</td>\n",
       "      <td>0</td>\n",
       "      <td>1</td>\n",
       "      <td>0</td>\n",
       "      <td>0</td>\n",
       "      <td>0</td>\n",
       "      <td>0</td>\n",
       "      <td>0</td>\n",
       "      <td>0</td>\n",
       "      <td>0</td>\n",
       "    </tr>\n",
       "    <tr>\n",
       "      <th>1</th>\n",
       "      <td>0</td>\n",
       "      <td>0</td>\n",
       "      <td>0</td>\n",
       "      <td>0</td>\n",
       "      <td>0</td>\n",
       "      <td>0</td>\n",
       "      <td>1</td>\n",
       "      <td>0</td>\n",
       "      <td>0</td>\n",
       "      <td>0</td>\n",
       "      <td>...</td>\n",
       "      <td>0</td>\n",
       "      <td>0</td>\n",
       "      <td>0</td>\n",
       "      <td>0</td>\n",
       "      <td>0</td>\n",
       "      <td>0</td>\n",
       "      <td>1</td>\n",
       "      <td>0</td>\n",
       "      <td>0</td>\n",
       "      <td>0</td>\n",
       "    </tr>\n",
       "    <tr>\n",
       "      <th>2</th>\n",
       "      <td>0</td>\n",
       "      <td>1</td>\n",
       "      <td>0</td>\n",
       "      <td>0</td>\n",
       "      <td>0</td>\n",
       "      <td>0</td>\n",
       "      <td>0</td>\n",
       "      <td>1</td>\n",
       "      <td>0</td>\n",
       "      <td>0</td>\n",
       "      <td>...</td>\n",
       "      <td>0</td>\n",
       "      <td>0</td>\n",
       "      <td>0</td>\n",
       "      <td>0</td>\n",
       "      <td>0</td>\n",
       "      <td>0</td>\n",
       "      <td>0</td>\n",
       "      <td>0</td>\n",
       "      <td>0</td>\n",
       "      <td>0</td>\n",
       "    </tr>\n",
       "    <tr>\n",
       "      <th>3</th>\n",
       "      <td>0</td>\n",
       "      <td>0</td>\n",
       "      <td>0</td>\n",
       "      <td>0</td>\n",
       "      <td>0</td>\n",
       "      <td>0</td>\n",
       "      <td>0</td>\n",
       "      <td>0</td>\n",
       "      <td>0</td>\n",
       "      <td>0</td>\n",
       "      <td>...</td>\n",
       "      <td>0</td>\n",
       "      <td>0</td>\n",
       "      <td>0</td>\n",
       "      <td>0</td>\n",
       "      <td>0</td>\n",
       "      <td>1</td>\n",
       "      <td>0</td>\n",
       "      <td>0</td>\n",
       "      <td>0</td>\n",
       "      <td>0</td>\n",
       "    </tr>\n",
       "    <tr>\n",
       "      <th>4</th>\n",
       "      <td>0</td>\n",
       "      <td>0</td>\n",
       "      <td>0</td>\n",
       "      <td>1</td>\n",
       "      <td>0</td>\n",
       "      <td>0</td>\n",
       "      <td>0</td>\n",
       "      <td>1</td>\n",
       "      <td>0</td>\n",
       "      <td>0</td>\n",
       "      <td>...</td>\n",
       "      <td>0</td>\n",
       "      <td>0</td>\n",
       "      <td>0</td>\n",
       "      <td>1</td>\n",
       "      <td>1</td>\n",
       "      <td>1</td>\n",
       "      <td>0</td>\n",
       "      <td>0</td>\n",
       "      <td>0</td>\n",
       "      <td>0</td>\n",
       "    </tr>\n",
       "  </tbody>\n",
       "</table>\n",
       "<p>5 rows × 979 columns</p>\n",
       "</div>"
      ],
      "text/plain": [
       "   2.55 classic patent bag black  2.55 classic patent bag navy  \\\n",
       "0  0                              0                              \n",
       "1  0                              0                              \n",
       "2  0                              1                              \n",
       "3  0                              0                              \n",
       "4  0                              0                              \n",
       "\n",
       "   2jours bag navy  3jours two way bag beige  5ac tote bag brown  \\\n",
       "0  0                0                         0                    \n",
       "1  0                0                         0                    \n",
       "2  0                0                         0                    \n",
       "3  0                0                         0                    \n",
       "4  0                1                         0                    \n",
       "\n",
       "   Bucket black bag  \\\n",
       "0  0                  \n",
       "1  0                  \n",
       "2  0                  \n",
       "3  0                  \n",
       "4  0                  \n",
       "\n",
       "   El estilo de Claire - neoprene botanical print top_pleats fake leather skirt ash  \\\n",
       "0  0                                                                                  \n",
       "1  1                                                                                  \n",
       "2  0                                                                                  \n",
       "3  0                                                                                  \n",
       "4  0                                                                                  \n",
       "\n",
       "   GG clutch chain bag  GG marmont belt bag black  \\\n",
       "0  0                    0                           \n",
       "1  0                    0                           \n",
       "2  1                    0                           \n",
       "3  0                    0                           \n",
       "4  1                    0                           \n",
       "\n",
       "   GG marmont belt bag bluegreen  ...  wrap detail coat beige  \\\n",
       "0  0                              ...  0                        \n",
       "1  0                              ...  0                        \n",
       "2  0                              ...  0                        \n",
       "3  0                              ...  0                        \n",
       "4  0                              ...  0                        \n",
       "\n",
       "   wrap sleeveless dress  zebra print pattern turtle neck top multi  \\\n",
       "0  0                      1                                           \n",
       "1  0                      0                                           \n",
       "2  0                      0                                           \n",
       "3  0                      0                                           \n",
       "4  0                      0                                           \n",
       "\n",
       "   zig zag pattern cardigan multi  zipper clutch black  \\\n",
       "0  0                               0                     \n",
       "1  0                               0                     \n",
       "2  0                               0                     \n",
       "3  0                               0                     \n",
       "4  1                               1                     \n",
       "\n",
       "   zipper detail bucket tote bag  zipper detail cape padding jumper  \\\n",
       "0  0                              0                                   \n",
       "1  0                              1                                   \n",
       "2  0                              0                                   \n",
       "3  1                              0                                   \n",
       "4  1                              0                                   \n",
       "\n",
       "   zipper detail pointed jacket beige  zipper detail two tone jacket  \\\n",
       "0  0                                   0                               \n",
       "1  0                                   0                               \n",
       "2  0                                   0                               \n",
       "3  0                                   0                               \n",
       "4  0                                   0                               \n",
       "\n",
       "   zipper stripe jacket black  \n",
       "0  0                           \n",
       "1  0                           \n",
       "2  0                           \n",
       "3  0                           \n",
       "4  0                           \n",
       "\n",
       "[5 rows x 979 columns]"
      ]
     },
     "execution_count": 281,
     "metadata": {},
     "output_type": "execute_result"
    }
   ],
   "source": [
    "# 같이 구매한 브랜드 리스트\n",
    "# 2개 이상 필터링\n",
    "df_asso3=df.groupby('order_week').goodsnm.apply(lambda x : toList(x)).reset_index()\n",
    "df_asso3['len'] = df_asso3.goodsnm.apply(lambda x: len(x)>=2)\n",
    "asso_list3 = list(df_asso3.query('len==True').goodsnm)\n",
    "\n",
    "# 객체 생성\n",
    "te=TransactionEncoder() \n",
    "\n",
    "# Encoding \n",
    "asso_list_encoded3 = te.fit(asso_list3).transform(asso_list3)\n",
    "# 0,1 로 변환\n",
    "asso_list_encoded3=asso_list_encoded3.astype(\"int\")\n",
    "df_asso_encoded3 = pd.DataFrame(asso_list_encoded3, columns=te.columns_)\n",
    "\n",
    "# df_asso_encoded.columns\n",
    "df_asso_encoded3.head(5)"
   ]
  },
  {
   "cell_type": "code",
   "execution_count": 282,
   "metadata": {
    "ExecuteTime": {
     "end_time": "2021-05-18T16:36:39.951367Z",
     "start_time": "2021-05-18T16:36:39.909434Z"
    }
   },
   "outputs": [
    {
     "data": {
      "text/html": [
       "<div>\n",
       "<style scoped>\n",
       "    .dataframe tbody tr th:only-of-type {\n",
       "        vertical-align: middle;\n",
       "    }\n",
       "\n",
       "    .dataframe tbody tr th {\n",
       "        vertical-align: top;\n",
       "    }\n",
       "\n",
       "    .dataframe thead th {\n",
       "        text-align: right;\n",
       "    }\n",
       "</style>\n",
       "<table border=\"1\" class=\"dataframe\">\n",
       "  <thead>\n",
       "    <tr style=\"text-align: right;\">\n",
       "      <th></th>\n",
       "      <th>order_week</th>\n",
       "      <th>goodsnm</th>\n",
       "      <th>len</th>\n",
       "    </tr>\n",
       "  </thead>\n",
       "  <tbody>\n",
       "    <tr>\n",
       "      <th>0</th>\n",
       "      <td>1</td>\n",
       "      <td>[mixed pattern ribbon jacket multi, graphics pattern dress pink, basic pattern top black, one shoulder dress purple, tailored collar coat, lace flower pattern A-Line dress deeppink, quilted calfskin shoulder bag, foldover top cross bag black, mixed pattern knit top multi, pocket basic pattern coat brown, basic pattern A-Line knit-dress nude, ribbon basic pattern H-Line dress black, letter pointed tote bag small, basic pattern skirt grey, belt basic pattern trench-coat red, marmont GG velvet bag purple, check pattern unbalance skirt ivory, basic pattern turtle neck sweater black, mammont chain wallet bag black, GG pattern cross body bag beige, slit basic pattern skirt white, button tweed pattern A-Line shirt-dress black, classic two way bag black, ophidia small black, button stripe pattern shirts skyblue, drop shoulder boxy coat, button basic pattern blazer black, pocket basic pattern slacks black, flare detail double button coat, stripe pattern pointed cardigan, ruffle detail belted dress black, frill detail pleats sleeve dress, pocket stripe pattern jacket, spangle one shoulder dress salmon, flap cross bag grey, puff sleeve flower pattern dress, strap basic pattern wrap-coat black, pocket basic pattern fur-outer grey, silver detailed cross bag black, slit stripe pattern wool top grey, lace detail crop cardigan black_1, strap basic pattern coat burgundy, padding two way bag black, nappa clasp chain bag, givenchy obsedia medium bag, belt basic pattern wool coat brown, drew bag beige, oblique jacquard shoulder bag, pocket basic pattern wool fullzip-jacket grey, zebra print pattern turtle neck top multi, pleats lace pattern H-Line dress white, classic chain shoulder bag black, dionysus cross bag2, embroidery basic pattern A-Line dress black, heart logo stripe shirts blue, basic pattern A-Line slip-dress black, cap sleeve tight dress gold, alma epi pm tote bag black, monogram clutch brown]</td>\n",
       "      <td>True</td>\n",
       "    </tr>\n",
       "    <tr>\n",
       "      <th>1</th>\n",
       "      <td>2</td>\n",
       "      <td>[lace detail stripe sleeveless top, luggage bag black, formal mood trimming dress multi, pocket basic pattern fur-outer pink, Geometric pattern ribbon belt dress, stripe pattern two way bucket bag brown, vintage web shoulder bag black, ribbon casual dress dark pink, microssima emily mini bag cream, mini sunset chain bag black, single button modern coat black, ruffle detail long coat, chevron quilted cross bag black, flap cross bag black, pocket basic pattern fur-outer ivory, quilted GG momont cross bag black, pattern pointed cardigan black, two way bucket bag white, frill detail knit &amp; dot pattern skirt, broach shirt layered dress brown, lined zip-up jumper black, padlock GG canvas shoulder bag, logo hobo bag black, ruffle detail blouse skyblue, collège medium cross bag, button stripe pattern cashmere sweater grey, strap basic pattern coat black, check pattern lined vest, quilted cross body bag black, zipper detail cape padding jumper, microssima emily mini bag black, button check pattern cape navy, graphics pattern top pink, flower dionysus shoulder bag beige, El estilo de Claire - neoprene botanical print top_pleats fake leather skirt ash, shawl collar double coat, color fur detail coat black, intrecciato clutch bag black 2, color block pattern wool fur-outer, twist monogram patent shoulder bag black, button flower pattern A-Line dress ivory, pocket Quilting pattern padding-outer khaki, beads cropped jacket black, pocket tweed pattern cashmere coat pink, microssima mini cross body bag pink, strap basic pattern wrap-coat black, sylvie leather mini chain bag black, collar point long coat multi, button basic pattern shirt-dress navy, brooch check pattern H-Line dress ivory, button check pattern wool singlebreasted-jacket brown, croisiere patent lady bag, ruffle basic pattern A-Line dress black, basic pattern sweater ivory, faye small bag black, mamont chain bag black, check pattern double breasted coat gray, pocket basic pattern coat black, frill basic pattern H-Line dress burgundy, belt basic pattern coat black, basic pattern sweat-shirts white, dionysus cross bag, brooch stripe pattern turtle neck turtleneck navy, printing lettering pattern t-shirts grey, belted short jacket, embroidery point oriental mini skirt blue, frill detail side button top beige, basic pattern A-Line dress skyblue, flower ethnic pattern cross bag white, basic pattern H-Line dress black, lace detail flared dress multi, buckle basic pattern zipup-jumper navy, basic pattern wool sweater black, monogram shoulder bag black]</td>\n",
       "      <td>True</td>\n",
       "    </tr>\n",
       "    <tr>\n",
       "      <th>2</th>\n",
       "      <td>3</td>\n",
       "      <td>[logo pointed cross bag, sylvie mini chain ribbon bag white, quilted calfskin shoulder bag, mixed pattern knit top multi, mixed pattern high neck blouse, dionysus cross bag beige, vintage web round cross bag black, monogram envelope chain cross bag, mammont chain wallet bag black, bauletto vitello pink, embroidery stripe pattern shirts blue, belted detail wrap dress blue, belt long trench coat black, button basic pattern doublebreasted-coat black, brillant GM satchel bag, basic pattern turtle neck sweater white, small logo classic two way bag black, pocket color block pattern fur-outer, marcie cross bag brown, button basic pattern jacket black &amp; pocket basic pattern slacks black, monogram clutch beige, pocket basic pattern shirts mint, daria tote bag brown, dionysus shoulder bag beige, chevron clutch black, classic logo chain shoulder bag white, chevron pattern chain bag beige, slit basic pattern H-Line shirt-dress white, stripe pattern pointed cardigan multi, slit basic pattern H-Line dress black, mamont chain bag red, pocket basic pattern jump-suit brown, button basic pattern shirts black, ruffle flower pattern A-Line halterneck-dress yellow, pocket basic pattern coat khaki, basic pattern t-shirts lavender, fur texture crop jacket purple, chevron quilted cross bag black, pocket basic pattern fur-outer black, graphics pattern t-shirts yellow, long sleeve rib t-shirt &amp; check pattern square neck dress, quilted chain shoulder bag black, 2.55 classic patent bag navy, basic pattern sweat-shirts grey, padlock GG canvas shoulder bag, button basic pattern coat black, button basic pattern wool jacket black, boite chapeau souple cross bag, wide collar detail coat cream, ophidia small black, marmont gg logo quilted bag Black 2, logo clutch bag black, button tweed pattern doublebreasted-coat multi &amp; tweed pattern skirt multi, printing pattern t-shirts grey, hoody belted coat black, classic tote bag black, logo chain tote bag black, chain strap tote bag multi, bucket shoulder bag beige, basic pattern H-Line dress black, pocket stripe pattern shirts pink, button stripe pattern wool cardigan black, slit basic pattern H-Line dress olive, pocket basic pattern padding-outer orange, peter pan collar coat black, button check pattern A-Line dress, basic pattern sweater navy, colorful pattern pointed shirt multi, pocket basic pattern padding-outer purple, embroidery animal print pattern wool sweat-shirts green, classic two way bag beige, button basic pattern jacket, printing pattern top multi, geometric pattern H-Line dress black, belle de jour clutch black, belt check pattern trench-coat beige, pocket graphics pattern hoodie yellow, vintage web GG backpack, pocket graphics pattern sweat-pants white, basic pattern wool sweater red, dionysus cross bag black, GG clutch chain bag, button basic pattern polo-shirts beige, pocket basic pattern wool slacks grey, monogram mini universal bag black, super mini sylvie white, monogram shoulder bag black, monogram clutch brown, fur detailed shining jacket gold, eight button belted dress red, cutout neck knit &amp; color pleats belt skirt, ribbon pointed rib sweater white, lace basic pattern A-Line dress black, banding point jumper skyblue, mini sunset chain bag black, intrecciato shoulder bag purple, pocket basic pattern fullzip-jacket black, trunkino small bag green 1, pocket check pattern sweater blue, pocket basic pattern top beige, ...]</td>\n",
       "      <td>True</td>\n",
       "    </tr>\n",
       "    <tr>\n",
       "      <th>3</th>\n",
       "      <td>4</td>\n",
       "      <td>[peral button tweed dress pink, graphics pattern cashmere sweater ivory, foldover top cross bag black, button basic pattern wool coat brown, roll up basic pattern slacks navy, monogram envelope chain cross bag, microssima emily mini bag black, fur detail slim line single coat, button flower pattern H-Line dress lavender, logo pointed cross bag black, round hem line sweater gray_1, leopard pattern fur jacket 2, slime line single coat black, basic pattern unbalance skirt skyblue, neck frill and ribbon detail blouse, silver detailed cross bag black, button basic pattern doublebreasted-jacket skyblue &amp; slit basic pattern skirt skyblue, v-neck flower pattern flare dress, belt basic pattern coat pink, button Quilting pattern padding-outer beige, chevron quilting cross bag black, basic pattern fur-outer, chevron quilted cross bag black, ruffle basic pattern A-Line dress mint, small logo quilted cross body bag black, mamont chain mini cross bag black, flower pattern A-Line dress multi, cabas monogramtote bag black, mammont tote red, chevron quilting cross bag cream, quilted shoulder bag black, classic cross bag black, button basic pattern H-Line knit-dress beige, marmont gg logo quilted bag Black 2, trimming pointed tweed dress, button basic pattern top black, button check pattern doublebreasted-jacket khaki, pocket basic pattern hoodie grey, lace long sleeve wrap dress, lace point shirring blouse pink &amp; lace detail long mermaid skirt, see-through lace detail tunic dress black, jackie 1961 hobo bag ivory, dionysus cross bag, trapeze tote bag black, oblique jacquard shoulder bag, logo chain tote bag black, lace stripe pattern A-Line shirt-dress navy, pocket basic pattern jacket brown, dionysus cross bag2, embroidery printing pattern wool sweater blue, mini round cross bag pink, ribbon point wrap dress navy, gold logo point tote bag blue, basic pattern A-Line dress charcoal, toque tote M black, printing pattern wool sweater black, leather point cross bag, quilted boy chain bag black, v neck floral printing dress, three button coat gray, logo hobo bag black, basic pattern H-Line dress grey, monogram chain wallet bag black, basic pattern blouse white, dionysos velvet chain shoulder bag navy, by the way small black, slit stripe pattern wool top grey, high neck design long coat brown, button basic pattern coat brown, feminine military blouse &amp; high waist wide slacks, lace flower pattern A-Line dress mint, gradation color padding jumper, gather basic pattern H-Line knit-dress khaki, monogram eva clutch, zipper detail bucket tote bag, heart pattern quilted skirts, luggage bag black, printing pattern hoodie grey &amp; pocket basic pattern jogger-pants grey, vara leather cross bag black, pocket check pattern wool duffle-coat bluegreen, unique pattern pointed frill dress, small logo pointed cross bag black, lace jacquard pattern H-Line dress brown, mamont bucket bag ivory, shawl collar long coat beige, pocket basic pattern fitness-jacket pink, two button shirt dress, tb leather belt bag black, pocket basic pattern wide-pants navy, croisiere patent lady bag, monogram canvas clutch bag, quilted leather clutch bag, belt basic pattern padding-outer black, layered collar detail dress multi, pocket basic pattern wool fullzip-jacket grey, gold logo crossbody bag hotpink, line detail flower dress multi, two way bucket bag black, embroidery velvet jacket black, oxford basic tee gray, ...]</td>\n",
       "      <td>True</td>\n",
       "    </tr>\n",
       "    <tr>\n",
       "      <th>4</th>\n",
       "      <td>5</td>\n",
       "      <td>[ribbon flower pattern A-Line dress multi, logo pointed cross bag, quilted calfskin shoulder bag, rockstud cross bag orange, dionysus cross bag beige, button basic pattern A-Line dress cream, center embroidery dress ivory, vintage web round cross bag black, high neck padding jumper black, basic pattern H-Line wool dress black, classic clutch black, mammont chain wallet bag black, check pattern lined vest, marmont gg logo quilted bag Black, color strap shoulder bag navy, quilting detail denim skirt, pocket point fur jumper black, button basic pattern doublebreasted-coat black, strap basic pattern wrap-coat black, sylvie leather mini chain bag black, discover the stencil embellishment, pleats basic pattern pleats-skirt grey, basic pattern sweat-shirts white, single breasted long coat black, flower pattern blouse burgundy, dionysus shoulder bag beige, classic logo chain shoulder bag white, tweed jacket brown, chevron quilting cross bag black, lettering point two way bag brown, pleats basic pattern wool pleats-skirt brown, mamont chain bag red, [66]El estilo de Claire - wang letter neoprene top_pleats leather style skirt black, pattern pointed a-line skirts, button check pattern dress brown, button basic pattern t-shirts white, small logo bucket bag black, chevron quilted cross bag black, mamont chain mini cross bag black, button basic pattern A-Line dress charcoal, pocket check pattern singlebreasted-coat, basic pattern skirt grey, classic two way bag pink, padlock GG canvas shoulder bag, button basic pattern coat black, GG marmont shoulder bag pink, collège medium cross bag, chevron quilting cross bag cream, button basic pattern fur-outer beige, quilted shoulder bag black, color block pattern wool fur-outer, padlock GG canvas chain bag 2, zig zag pattern cardigan multi, 3jours two way bag beige, button basic pattern jacket grey, flap cross bag grey, grand-shopping caviar cream, vintage check and leather cross bag black, faye small bag black, button basic pattern shirts white, button basic pattern doublebreasted-coat brown, belted short jacket cream 1, round neck cardigan beige, button stripe pattern sweater mustard, flower pattern v-neck long dress, button basic pattern coat red, tweed texture chain bag, button basic pattern shirts blue, verni mini clutch chain bag brown, chevron quilted cross bag green, check pattern hood wrap coat, ribbon basic pattern H-Line dress black, leopard pattern frill long dress_, damier eben tote bag, graphics pattern sweat-shirts grey, roll-up detail jumpsuit khaki, ribbon basic pattern jacket pink, draping detail raglan sleeve dress, surrey carryall bag brown, black point check shirt_1, check pattern H-Line dress, button basic pattern A-Line dress beige, fur collar padding jumper black, dionysus cross bag black, chevron logo clutch bag black, medium Nylon Backpack black, jackie 1961 hobo bag brown, lettering pattern sweater black, boy chanel clutch black, GG clutch chain bag, embroidery basic pattern sweater ivory, monogram eva clutch, zipper detail bucket tote bag, monogram shoulder bag black, boy chanel crossbody bag black, oblique canvas half moon bag, kate small monogram bag black, string belted padding jumper pink, monogram zucchino shoulder bag, vintage web shoulder bag black, ...]</td>\n",
       "      <td>True</td>\n",
       "    </tr>\n",
       "    <tr>\n",
       "      <th>5</th>\n",
       "      <td>6</td>\n",
       "      <td>[button basic pattern shirts black, bell line slip dress black, very shoulder bag black, high neck padding vest, belt motive clutch bag, front button check pattern jacket, daino crossbody bag pink, chevron quilted cross bag beige, strap basic pattern wool coat black, vintage blue coat, vintage mood slim collar coat, peekaboo tote bag beige, epi tote bag black, button basic pattern cardigan khaki, vanity bag brown, leather point cross bag, rose printing dress black, madras leather crossbody black, fur detail coat beige 2, padlock GG canvas shoulder bag, pocket basic pattern fur-outer beige, regular 2jours black, drew bag red, button stripe pattern cashmere sweater grey, strap basic pattern jacket navy, classic clutch black, drop shoulder boxy coat, verni shoulder bag purple, monogram chain wallet bag black, modern mood coat black, pocket basic pattern fur-outer brown, boy caviar quilted cluth black, stripe pattern top black, wood handle dionysus bag, button stripe pattern dress-shirts navy, button stripe pattern singlebreasted-jacket navy, dionysos velvet chain shoulder bag navy, double button long coat white, pionniere bag brown, slit check pattern H-Line knit-dress black, pocket graphics pattern cardigan brown, strap basic pattern wrap-coat black, X strap shirring dress black, 5ac tote bag brown, slit stripe pattern wool top grey, see-through lace detail tunic dress black, pocket basic pattern padding-outer skyblue, basic pattern H-Line halterneck-dress black, GG supreme clutch brown, belt basic pattern coat black, leather tassel cross body bag gray, logo enamel clutch black, pleats flower pattern doublebreasted-jacket black, drop shoulder coat yellow, basic pattern H-Line dress black, black line point belt dress white, alma epi pm tote bag black, favorite MM shoulder bag, matlase monogram bag black]</td>\n",
       "      <td>True</td>\n",
       "    </tr>\n",
       "    <tr>\n",
       "      <th>6</th>\n",
       "      <td>7</td>\n",
       "      <td>[lou cross bag black, new cubo satchel small black 1, quilted calfskin shoulder bag, lace detail pointed dress multi, stripe pattern blouse brown, dionysus cross bag beige, button check pattern jacket yellow &amp; pocket check pattern slacks yellow, button check pattern A-Line wrap-dress black, two tone color sleeveless mermaid dress, vintage web round cross bag black, strap basic pattern coat black, mammont chain wallet bag black, button basic pattern blazer black, microssima emily mini bag black, neonoe escale rainbow, basic pattern H-Line dress blue, classic box black, color strap shoulder bag navy, leather pointed half sleeve dress, button flower pattern H-Line dress lavender, patent small beige, button stripe pattern singlebreasted-jacket navy, brillant GM satchel bag, pocket tweed pattern cashmere coat pink, snake monogram bag beige, graphics pattern sweat-shirts ivory, lace dress skyblue, strap basic pattern wrap-coat black, fringe detail check pattern coat, matelasse chain mini bag pink, classic logo cross bag brown, basic pattern knit-dress brown, chevron quilting cross bag black, button check pattern shirts beige, garavani leather clutch brown, mamont chain bag red, corduroy quilted padding jumper yellow, chevron quilted cross bag black, small logo quilted cross body bag black, epi tote bag black, matelasse mademoiselle clutch bag black, basic pattern A-Line wool dress grey, 2.55 classic patent bag navy, padlock GG canvas shoulder bag, falabella box mini bag navy, lovely lace dress salmon, boite chapeau souple cross bag, collège medium cross bag, mammont cross bag multi, pocket basic pattern jacket pink, zipper detail cape padding jumper, quilted cross body bag black, color block logo clutch 2, shirring detail yoke velvet dress, grand-shopping caviar cream, square neck flower pattern dress, vintage check and leather cross bag black, dotcom bag black1, topaz 52., ribbon basic pattern H-Line dress navy, ribbon basic pattern A-Line wrap-dress blue, mamont chain bag black, hoodie basic pattern padding-outer charcoal, dionysus cross bag, herringbone pattern crop coat, logo chain tote bag black, button stripe pattern wool cardigan black, basic logo tote bag black 2, rockstud tote bag black, senat GM clutch bag brown, basic pattern A-Line dress cream, GG marmont quilted-leather belt bag, microssima emily mini bag cream, animal print pattern top white, leather point cross bag, damier ebene cross bag brown, no collar simple jacket&amp; crease slacks ivory, brooch basic pattern jacket black, cabas tote bag black, shirring blouson jumper khaki, slit neck slim line dress black, robe check coat brown, chain pattern twist cross bag, jackie 1961 hobo bag brown, boy chanel clutch black, classic flap clutch, stripe quilted padding jumper black, punching flower pattern H-Line dress black, waffle bulky knit &amp; wool slim skirt, gradation color padding jumper, monogram eva clutch, monogram shoulder bag black, zipper detail bucket tote bag, mixed pattern ribbon jacket multi, peplum tweed pattern H-Line dress black, mini sunset chain bag black, trunk mini saffiano bag black, matlase monogram bag gray, top handle corssbody bag black, belt basic pattern trench-coat beige, ...]</td>\n",
       "      <td>True</td>\n",
       "    </tr>\n",
       "    <tr>\n",
       "      <th>7</th>\n",
       "      <td>8</td>\n",
       "      <td>[logo pointed cross bag, embroidery point top grey, gather basic pattern A-Line dress white, monogram envelope chain cross bag, basic pattern A-Line dress grey, classic clutch black, strap basic pattern coat black, check pattern wrap coat blue, drop shoulder boxy coat, marmont gg logo quilted bag Black, gather color block pattern A-Line dress navy, logo pointed cross bag black, saffiano leather mini crossbody bag, puff sleeve flower pattern dress, sylvie leather mini chain bag black, button basic pattern H-Line dress, wappen pointed v-neck cardigan, shawl collar fur detail coat gray, strap basic pattern singlebreasted-jacket black, saffiano mini bag blue, dionysus shoulder bag beige, daria tote bag brown, ruffle basic pattern A-Line dress pink, big eye leather cross bag black, chevron clutch black, classic logo chain shoulder bag white, button stripe pattern shirts mint, button Quilting pattern padding-outer beige, chevron pattern chain bag beige, ribbon basic pattern sweater khaki, embroidery basic pattern sweater purple, stripe boat neck t-shirt &amp; buckle suspender dress, motor city bag charcoal gray, button basic pattern H-Line dress navy, ff logo point cross bag black, chevron quilted cross bag black, muse bag blue, mamont chain mini cross bag black, cabas monogram two way bag beige, epi tote bag black, small logo quilted cross body bag black, simple design long coat black, boy flab bag, pocket basic pattern cardigan khaki, quilted chain shoulder bag black, basic pattern sweat-shirts grey, padlock GG canvas shoulder bag, pocket detail ribbon belted blouse, button stripe pattern cashmere sweater grey, button basic pattern sweater beige, chevron quilting cross bag cream, none collar one button coat, quilted shoulder bag black, Y clutch black, matelasse cross body bag black, padlock GG canvas chain bag 2, basic pattern polo-shirts cream, double button long coat white, button basic pattern doublebreasted-jacket black, wrap sleeveless dress, basic pattern sweater blue, pattern duffle coat brown, button check pattern pants, pleats detail long shirts dress, gather basic pattern A-Line dress pink, unbalance detail zip-up jumper, button check pattern A-Line dress brown, stripe pattern long vest gray &amp; wrap detail stripe pattern wide pants, fur detail peekaboo mini red, vintage check lettering bag, button basic pattern singlebreasted-jacket grey, half round cross bag black, check pattern ribbon detail shirts, cassandre monogram clutch black, pocket flower pattern fitness-jacket black, monogram chain wallet bag black, boy caviar quilted cluth black, dionysos velvet chain shoulder bag navy, button basic pattern cashmere singlebreasted-coat black, dionysus cross bag black, lace yoke detail dress black, microssima emily shoulder bag black, logo point crop sweater wine, studded two way bag black, GG marmont belt bag black, pocket basic pattern coat black, lettering pattern sweater black, micro candy bag white, GG clutch chain bag, pintuck dress yellow, button geometric pattern singlebreasted-jacket grey, strap basic pattern coat navy, belt point trench coat green, lettering pattern t-shirts black, belt basic pattern trench-coat khaki, high neck hoodie jumper black, monogram clutch brown, strap basic pattern trench-coat beige, kate small monogram bag black, vintage web shoulder bag black, ...]</td>\n",
       "      <td>True</td>\n",
       "    </tr>\n",
       "    <tr>\n",
       "      <th>8</th>\n",
       "      <td>9</td>\n",
       "      <td>[graphics pattern sweat-shirts purple, quilted calfskin shoulder bag, button stripe pattern shirts white, foldover top cross bag black, dionysus cross bag beige, check mackenzie cross bag pink, gather basic pattern A-Line dress cream, lace detail long skirt black, microssima emily mini bag black, basic pattern wool sweater green, ruffle detail tiered lace dress multi, color strap shoulder bag navy, brillant GM satchel bag, logo pointed cross bag black, pocket tweed pattern cashmere coat pink, embroidery basic pattern wool sweater brown, button basic pattern wool cardigan grey, pocket check pattern padding-outer khaki, matelasse chain mini bag pink, Bucket black bag, belt basic pattern coat pink, dionysus shoulder bag beige, broach point cross bag khaki, pleats texture high neck blouse, romantic sleeve dress pink, stripe pattern pointed cardigan multi, logo point clutch bag pink, GG marmont belt bag bluegreen, strap basic pattern wool wrap-coat grey, ribbon flower pattern top navy &amp; flower pattern dress navy, chevron quilted cross bag black, wave neck line slim dress, mamont chain mini cross bag black, ribbon basic pattern cardigan black, button basic pattern coat black, lovely lace dress salmon, stripe pattern sweater, marmont gg logo quilted bag Black 2, button basic pattern singlebreasted-jacket black, grand-shopping caviar black shoulder bag, button basic pattern jacket grey, button basic pattern cardigan black, pleats detail sailor collar dress green, basic pattern H-Line knit-dress navy, check pattern flap tote bag, strap basic pattern cashmere coat black, jaxsra bag beige, basic pattern H-Line dress black, fold over chain cross bag, chevron quilted shoulder bag black, button basic pattern wool doublebreasted-jacket black, ginny cross bag navy, button color block pattern sweater ivory, bayswater dark brown tote bag 2, zipper detail two tone jacket, intrecciato cross body bag green, unique pattern sweater multi, croisiere patent lady bag navy, GG marmont quilted-leather belt bag, pleats basic pattern A-Line dress beige, stripe pattern A-Line shirt-dress yellow, button check pattern A-Line dress brown, black point flower dress multi, logo hobo bag black, zipper detail pointed jacket beige, lettering point bag white, belt check pattern trench-coat beige, cabas tote bag black, wood handle dionysus bag, unique pattern boy cross bag, lucky badges handle bag black, pocket basic pattern jacket black, jackie 1961 hobo bag brown, slit stripe pattern wool top grey, button flower pattern A-Line wrap-dress yellow, boy chanel clutch black, Mickeymouse Round Shoulder Bag, basic pattern H-Line dress mint, basic pattern sweat-shirts black, drew bag beige, high neck hood wind breaker, super mini sylvie white, basic pattern H-Line slip-dress black, button check pattern jacket brown &amp; pocket check pattern slacks brown, leopard pattern buckle bag, jacquard shoulder tote bag, gather flower pattern dress black, flap cross bag black, Pochette trunk vertical black bag, graphics pattern sweat-shirts white, vara leather cross bag black, two way bucket bag white, ribbon point collar dress multi, check pattern kilt-skirt brown, geometric pattern H-Line dress brown, mamont bucket bag ivory, monogram two way bag brown, galliera gm Shoulder hobo Bag white, flower pattern A-Line dress white, sylvie mini chain ribbon bag red, ...]</td>\n",
       "      <td>True</td>\n",
       "    </tr>\n",
       "    <tr>\n",
       "      <th>9</th>\n",
       "      <td>10</td>\n",
       "      <td>[saffiano lux chain bag, monogram envelope chain cross bag, lined zip-up jumper black, dots pattern H-Line dress black, classic clutch black, GG soho chain clutch bag black, ribbon check pattern wrap-skirt, gather flower pattern H-Line wrap-dress, pocket check pattern jacket charcoal, pocket basic pattern padding-outer pink, pleats basic pattern A-Line dress black, button flower pattern H-Line dress lavender, saffiano leather mini crossbody bag, sylvie leather mini chain bag black, silver detailed cross bag black, basic pattern coat, dionysus shoulder bag beige, stripe pattern H-Line shirt-dress blue, monogram cross body bag brown, fonte clutch, classic logo chain shoulder bag white, chevron pattern chain bag beige, button check pattern shirts red, unique pattern puff sleeve dress, stitch basic pattern jacket black, chevron quilted cross bag black, basic pattern t-shirts navy, epi tote bag black, boy flab bag, matelasse mademoiselle clutch bag black, sophia gancini tote bag, back to school bag 1, padlock GG canvas shoulder bag, basic stripe shirts red, pop knitted long cardigan cream, chevron quilting cross bag cream, pleats ribbon dress pink, quilted shoulder bag black, belt basic pattern coat ivory, button basic pattern top black, double button flare dress black, padlock GG canvas chain bag 2, zipper stripe jacket black, flap cross bag grey, slit basic pattern A-Line dress brown, lace texture flared dress pink, mamont chain bag black, jackie 1961 hobo bag ivory, quilted belt bag black, logo chain tote bag black, basic pattern H-Line dress white, jewerly neck dress black, vintage check shoulder bag, basic pattern H-Line dress black, button stripe pattern wool cardigan black, verni mini clutch chain bag brown, basic pattern top beige, strap basic pattern wool coat black, pleats detail chevron yoke dress, leather point cross bag, ribbon draping cap sleeve dress, check pattern H-Line dress pink, GG pattern cross body bag beige, printing pattern sweat-shirts grey, pocket basic pattern jeans blue, boy caviar quilted cluth black, embroidery graphics pattern hoodie white, dionysos velvet chain shoulder bag navy, dionysus cross bag black, studded two way bag black, chain pattern twist cross bag, GG marmont belt bag black, lettering pattern sweater black, ethic lace see through dress, drew bag beige, lettering pattern t-shirts black, monogram mini universal bag black, monogram eva clutch, super mini sylvie white, over sized wool coat black, monogram clutch brown, boy chanel crossbody bag black, luggage bag black, basic pattern wool sweater navy, pocket basic pattern H-Line dress khaki, kate small monogram bag black, mini sunset chain bag black, letter pointed tote bag, flap cross bag black, belt basic pattern trench-coat beige, top handle corssbody bag black, lace zigzag pattern A-Line dress white, pocket stripe pattern A-Line dress, slit basic pattern skirt white, verni shoulder bag purple, brooch basic pattern top red, pleats basic pattern H-Line dress deeppink, button basic pattern jacket black, ribbon basic pattern slacks black, button basic pattern coat grey, ...]</td>\n",
       "      <td>True</td>\n",
       "    </tr>\n",
       "    <tr>\n",
       "      <th>10</th>\n",
       "      <td>11</td>\n",
       "      <td>[logo pointed cross bag, studded shoulder bag black, basic pattern top black, very shoulder bag black, lou cross bag black, pandora small black, mixed pattern knit top multi, pocket check pattern coat grey, dionysus cross bag beige, frill basic pattern A-Line dress skyblue, monogram backpack brown, ruffle lace pattern mermaid trumpet-skirt red, cutout basic pattern H-Line dress black, classic clutch black, mammont chain wallet bag black, microssima emily mini bag black, 2jours bag navy, basic pattern H-Line dress blue, basic pattern H-Line dress nude, button stripe pattern singlebreasted-jacket navy, logo pointed cross bag black, ruffle detail silky sleeveless dress, basic pattern H-Line dress navy, lace pattern top pink &amp; lace pattern skirt pink, unbalance hem line sleeveless dress blue, logo point clutch bag black, button basic pattern blazer blue, GG marmont leather belt bag 2, metropolis cross bag cream, motor city bag grey, leather tassel cross body bag gray, daria tote bag brown, dionysus shoulder bag beige, hoodie basic pattern coat beige, button color block pattern wool cardigan multi, pattern hobo chain bag gray, kate chain bag red, ruffle flower pattern A-Line lavender, monogram clutch black, White clutch bag, chevron quilted cross bag black, trimming detail pointed coat multi, mamont chain mini cross bag black, basic pattern skirt grey, white collar pointed ribbon dress multi, cabas monogramtote bag black, front slit patterned skirt, button basic pattern blouse white, lace flower pattern H-Line dress red, embroidery detail lace skirt multi, see-through lace detail blouse black, belt basic pattern wool trench-coat khaki, quilted shoulder bag black, slit neck detail collar dress white, trimming pointed tweed dress, fabric fourre tout MM tote bag, matelasse cross body bag black, scarf tote bag, frill dots pattern blouse nude, monogram clutch navy, gather mermaid skirt black, button check pattern H-Line dress brown, dionysus cross bag, halterneck spangles dress black, ruffle basic pattern mermaid trumpet-skirt green, basic pattern sweat-shirts ivory, one button jacket gray, basic pattern H-Line dress white, basic pattern H-Line dress ivory, basic pattern H-Line dress black, gather basic pattern blouse white, embroidery basic pattern slip-dress black, slit basic pattern H-Line dress olive, brillant GM satchel bag black, favorite MM shoulder bag, rockstud tote bag black, frill lace punching dress, button basic pattern cardigan pink &amp; basic pattern skirt pink, stripe pattern two way bucket bag brown, basic pattern A-Line dress cream, croisiere patent lady bag navy, microssima emily mini bag cream, buckle detail tote bag orange, monogram shoulder bag brown, punching basic pattern skirt skyblue, monogram milla pochette MM, slim line trench coat beige, rough texture pointed dress yellow, cabas chyc large black 2, black point flower dress multi, basic pattern skirt pink, flower pattern A-Line dress pink, vintage web GG backpack, lettering pattern t-shirts white, check button dress red, pocket basic pattern trench-coat navy, ruffle lace dress black, geometric painting dress blue, cross halter neck design dress black, flap monogram clutch bag, ...]</td>\n",
       "      <td>True</td>\n",
       "    </tr>\n",
       "    <tr>\n",
       "      <th>11</th>\n",
       "      <td>12</td>\n",
       "      <td>[belle de jour clutch red, logo pointed cross bag, pocket basic pattern singlebreasted-jacket beige, lou cross bag black, button stripe pattern shirts white, dot pattern heart logo t-shirts, gather basic pattern top black, classic clutch black, marmont gg logo quilted bag Black, layered chiffon dress pink, classic box black, neonoe escale rainbow, one button short wool coat, slit basic pattern sweater beige, patent small beige, button check pattern blouse orange, button flower pattern H-Line dress lavender, button stripe pattern singlebreasted-jacket navy, brillant GM satchel bag, button flower pattern A-Line dress red, shoulder button pullover &amp; burnout flare skirt, ribbon flower pattern H-Line gown-dress nude, ruffle basic pattern blouse black, matelasse chain mini bag pink, double button two tone trench coat, lace detail tweed jacket ivory, strap basic pattern trench-coat grey, frill detail flower pattern long dress, buckle basic pattern slacks black, belt basic pattern coat pink, daria tote bag brown, monogram cross body bag brown, sac de jour tote pink, chevron pattern chain bag beige, GG marmont belt bag bluegreen, basic pattern A-Line dress black, lettering pattern sweat-shirts grey, button stripe pattern wool jacket black &amp; pocket stripe pattern wool slacks black, strap basic pattern trench-coat black, chevron quilted cross bag black, lace flower pattern pleats-skirt pink, small logo quilted cross body bag black, epi tote bag black, two tone detail sleeveless dress, vanity bag brown, matelasse mademoiselle clutch bag black, simple design trench coat, ribbon flower pattern A-Line wrap-dress ivory, button tweed pattern A-Line dress navy, padlock GG canvas shoulder bag, button stripe pattern cashmere sweater grey, tweed belt set dress, color block pattern wool sweater pink, pleats ribbon dress pink, flower dionysus shoulder bag beige, quilted shoulder bag black, Y clutch black, padlock GG canvas chain bag 2, grand-shopping caviar black shoulder bag, flap cross bag grey, check pattern point trench coat, Mogram neonoe bucket brown bag, python cross body bag black, button basic pattern A-Line shirt-dress black, 2.55 classic patent bag black, stripe pattern sweat-shirts navy, mamont chain bag black, jackie 1961 hobo bag ivory, vintage web bucket bag brown, button tweed pattern H-Line dress pink, side pocket wedding dress ivory, leather flaming convertible mini gold chain tassle crossback black, flower lace flare dress pink, button check pattern H-Line dress brown, oblique jacquard shoulder bag, luggage nano bag deep dark brown, intrecciato clutch bag black, ruffle animal print pattern mermaid trumpet-skirt ivory, check pattern mermaid trumpet-skirt grey, button basic pattern jacket white, trio bag black, pocket basic pattern chino-pants beige, button stripe pattern wool cardigan black, basic pattern wool sweater black, GG marmont cross bag bluegreen, verni mini clutch chain bag brown, lettering pattern top mint &amp; pocket basic pattern sweat-pants mint, pleats basic pattern A-Line dress beige, button check pattern H-Line jumper-dress grey, thames hobo shoulder bag brown, basic pattern skirt ivory, gather basic pattern H-Line dress charcoal, monogram tote bag brown, geometric pattern sweater beige, cassandre monogram clutch black, GG pattern boston bag beige, GG pattern cross body bag beige, motor city giant yellow, belt check pattern trench-coat beige, center frill dress navy, ...]</td>\n",
       "      <td>True</td>\n",
       "    </tr>\n",
       "    <tr>\n",
       "      <th>12</th>\n",
       "      <td>13</td>\n",
       "      <td>[ribbon flower pattern A-Line dress multi, button stripe pattern shirts white, vintage web cross bag brown, feminine mood flower shirring dress, heart logo pointed stripe shirts blue, gather basic pattern A-Line tulle-dress nude, basic pattern t-shirts ivory, classic clutch black, mammont chain wallet bag black, button basic pattern pants brown, microssima emily mini bag black, slit basic pattern skirt black, logo pointed cross bag black, graphics pattern sweat-shirts ivory, sylvie leather mini chain bag black, lace flower pattern H-Line dress green, button basic pattern A-Line dress skyblue, flower lace layered dress pink, leather tassel cross body bag gray, flare line lace dress pink, tweed jacket brown, chevron pattern chain bag beige, chevron quilting cross bag black, sac de jour tote pink, ribbon flower pattern blouse black &amp; pleats flower pattern pleats-skirt black, pocket basic pattern jump-suit brown, monogram clutch black, flower pattern A-Line dress ivory, chevron quilted cross bag black, wrap detail coat beige, pocket basic pattern jacket beige, basic pattern sweat-shirts grey, gather basic pattern H-Line dress green, quilted shoulder bag black, lace flower pattern A-Line dress ivory, button basic pattern top black, pocket check pattern singlebreasted-jacket brown, Mogram neonoe bucket brown bag, pocket basic pattern jacket charcoal, button check pattern H-Line dress multi, GG supreme clutch brown, button basic pattern singlebreasted-jacket khaki, favorite MM shoulder bag, stripe pattern two way bucket bag brown, GG marmont quilted-leather belt bag, long sleeve lace dress ivory, half round chain bag black, monogram milla pochette MM, paisley print pattern skirt, gather basic pattern H-Line dress charcoal, lace long sleeve dress green, classic two way bag beige, diabolic eyes clutch bag, button check pattern shirts multi, pocket check pattern slacks charcoal, lucky badges handle bag black, pocket basic pattern skirt white, frill stripe knit cardigan muti, basic pattern padding-outer black, classic mood check pattern jacket, round handle tote bag black, vintage web shoulder bag black, mini sunset chain bag black, gather check pattern H-Line dress multi, flap cross bag black, Pochette trunk vertical black bag, gather flower pattern A-Line dress burgundy, belt basic pattern trench-coat black, Luggage pink bag, color lace blouse &amp; color lace skirt, ville logo bag green, brooch check pattern H-Line dress ivory, sylvie leather mini chain bag red, monogram canvas clutch bag, verni mini clutch chain bag black, ruffle flower pattern A-Line dress, Tote beige bag, antigona S black 2, basic pattern H-Line wool dress grey, button basic pattern wool cardigan grey]</td>\n",
       "      <td>True</td>\n",
       "    </tr>\n",
       "    <tr>\n",
       "      <th>13</th>\n",
       "      <td>53</td>\n",
       "      <td>[luggage bag black, double button long coat white, geometric pattern A-Line dress purple, sylvie mini chain ribbon bag white, marmont gg logo quilted bag Black 4, pocket graphics pattern zipup-jumper navy, wave detail cape coat black, pleats basic pattern H-Line dress deeppink, frill dots pattern blouse black, beads stud velvet jacket black, button basic pattern blouse black]</td>\n",
       "      <td>True</td>\n",
       "    </tr>\n",
       "  </tbody>\n",
       "</table>\n",
       "</div>"
      ],
      "text/plain": [
       "    order_week  \\\n",
       "0   1            \n",
       "1   2            \n",
       "2   3            \n",
       "3   4            \n",
       "4   5            \n",
       "5   6            \n",
       "6   7            \n",
       "7   8            \n",
       "8   9            \n",
       "9   10           \n",
       "10  11           \n",
       "11  12           \n",
       "12  13           \n",
       "13  53           \n",
       "\n",
       "                                                                                                                                                                                                                                                                                                                                                                                                                                                                                                                                                                                                                                                                                                                                                                                                                                                                                                                                                                                                                                                                                                                                                                                                                                                                                                                                                                                                                                                                                                                                                                                                                                                                                                                                                                                                                                                                                                                                                                                                                                                                                                                                                                                                                                                                                                                                                                                                                                                                                                                                                                                                                                                                                                                                                                                                                                                                                                                                                                                                                                                                                                                                                                                                                                                                                                                                                                                                                                                                                                                                                                                goodsnm  \\\n",
       "0   [mixed pattern ribbon jacket multi, graphics pattern dress pink, basic pattern top black, one shoulder dress purple, tailored collar coat, lace flower pattern A-Line dress deeppink, quilted calfskin shoulder bag, foldover top cross bag black, mixed pattern knit top multi, pocket basic pattern coat brown, basic pattern A-Line knit-dress nude, ribbon basic pattern H-Line dress black, letter pointed tote bag small, basic pattern skirt grey, belt basic pattern trench-coat red, marmont GG velvet bag purple, check pattern unbalance skirt ivory, basic pattern turtle neck sweater black, mammont chain wallet bag black, GG pattern cross body bag beige, slit basic pattern skirt white, button tweed pattern A-Line shirt-dress black, classic two way bag black, ophidia small black, button stripe pattern shirts skyblue, drop shoulder boxy coat, button basic pattern blazer black, pocket basic pattern slacks black, flare detail double button coat, stripe pattern pointed cardigan, ruffle detail belted dress black, frill detail pleats sleeve dress, pocket stripe pattern jacket, spangle one shoulder dress salmon, flap cross bag grey, puff sleeve flower pattern dress, strap basic pattern wrap-coat black, pocket basic pattern fur-outer grey, silver detailed cross bag black, slit stripe pattern wool top grey, lace detail crop cardigan black_1, strap basic pattern coat burgundy, padding two way bag black, nappa clasp chain bag, givenchy obsedia medium bag, belt basic pattern wool coat brown, drew bag beige, oblique jacquard shoulder bag, pocket basic pattern wool fullzip-jacket grey, zebra print pattern turtle neck top multi, pleats lace pattern H-Line dress white, classic chain shoulder bag black, dionysus cross bag2, embroidery basic pattern A-Line dress black, heart logo stripe shirts blue, basic pattern A-Line slip-dress black, cap sleeve tight dress gold, alma epi pm tote bag black, monogram clutch brown]                                                                                                                                                                                                                                                                                                                                                                                                                                                                                                                                                                                                                                                                                                                                                                                                                                                                                                                                                                                                                                                                                                                                                                                                                                                                                                                                                                                                                                                                                                                                                                                        \n",
       "1   [lace detail stripe sleeveless top, luggage bag black, formal mood trimming dress multi, pocket basic pattern fur-outer pink, Geometric pattern ribbon belt dress, stripe pattern two way bucket bag brown, vintage web shoulder bag black, ribbon casual dress dark pink, microssima emily mini bag cream, mini sunset chain bag black, single button modern coat black, ruffle detail long coat, chevron quilted cross bag black, flap cross bag black, pocket basic pattern fur-outer ivory, quilted GG momont cross bag black, pattern pointed cardigan black, two way bucket bag white, frill detail knit & dot pattern skirt, broach shirt layered dress brown, lined zip-up jumper black, padlock GG canvas shoulder bag, logo hobo bag black, ruffle detail blouse skyblue, collège medium cross bag, button stripe pattern cashmere sweater grey, strap basic pattern coat black, check pattern lined vest, quilted cross body bag black, zipper detail cape padding jumper, microssima emily mini bag black, button check pattern cape navy, graphics pattern top pink, flower dionysus shoulder bag beige, El estilo de Claire - neoprene botanical print top_pleats fake leather skirt ash, shawl collar double coat, color fur detail coat black, intrecciato clutch bag black 2, color block pattern wool fur-outer, twist monogram patent shoulder bag black, button flower pattern A-Line dress ivory, pocket Quilting pattern padding-outer khaki, beads cropped jacket black, pocket tweed pattern cashmere coat pink, microssima mini cross body bag pink, strap basic pattern wrap-coat black, sylvie leather mini chain bag black, collar point long coat multi, button basic pattern shirt-dress navy, brooch check pattern H-Line dress ivory, button check pattern wool singlebreasted-jacket brown, croisiere patent lady bag, ruffle basic pattern A-Line dress black, basic pattern sweater ivory, faye small bag black, mamont chain bag black, check pattern double breasted coat gray, pocket basic pattern coat black, frill basic pattern H-Line dress burgundy, belt basic pattern coat black, basic pattern sweat-shirts white, dionysus cross bag, brooch stripe pattern turtle neck turtleneck navy, printing lettering pattern t-shirts grey, belted short jacket, embroidery point oriental mini skirt blue, frill detail side button top beige, basic pattern A-Line dress skyblue, flower ethnic pattern cross bag white, basic pattern H-Line dress black, lace detail flared dress multi, buckle basic pattern zipup-jumper navy, basic pattern wool sweater black, monogram shoulder bag black]                                                                                                                                                                                                                                                                                                                                                                                                                                                                                                                                                                                                                                                                                                                                                                                                                                                                                                                                            \n",
       "2   [logo pointed cross bag, sylvie mini chain ribbon bag white, quilted calfskin shoulder bag, mixed pattern knit top multi, mixed pattern high neck blouse, dionysus cross bag beige, vintage web round cross bag black, monogram envelope chain cross bag, mammont chain wallet bag black, bauletto vitello pink, embroidery stripe pattern shirts blue, belted detail wrap dress blue, belt long trench coat black, button basic pattern doublebreasted-coat black, brillant GM satchel bag, basic pattern turtle neck sweater white, small logo classic two way bag black, pocket color block pattern fur-outer, marcie cross bag brown, button basic pattern jacket black & pocket basic pattern slacks black, monogram clutch beige, pocket basic pattern shirts mint, daria tote bag brown, dionysus shoulder bag beige, chevron clutch black, classic logo chain shoulder bag white, chevron pattern chain bag beige, slit basic pattern H-Line shirt-dress white, stripe pattern pointed cardigan multi, slit basic pattern H-Line dress black, mamont chain bag red, pocket basic pattern jump-suit brown, button basic pattern shirts black, ruffle flower pattern A-Line halterneck-dress yellow, pocket basic pattern coat khaki, basic pattern t-shirts lavender, fur texture crop jacket purple, chevron quilted cross bag black, pocket basic pattern fur-outer black, graphics pattern t-shirts yellow, long sleeve rib t-shirt & check pattern square neck dress, quilted chain shoulder bag black, 2.55 classic patent bag navy, basic pattern sweat-shirts grey, padlock GG canvas shoulder bag, button basic pattern coat black, button basic pattern wool jacket black, boite chapeau souple cross bag, wide collar detail coat cream, ophidia small black, marmont gg logo quilted bag Black 2, logo clutch bag black, button tweed pattern doublebreasted-coat multi & tweed pattern skirt multi, printing pattern t-shirts grey, hoody belted coat black, classic tote bag black, logo chain tote bag black, chain strap tote bag multi, bucket shoulder bag beige, basic pattern H-Line dress black, pocket stripe pattern shirts pink, button stripe pattern wool cardigan black, slit basic pattern H-Line dress olive, pocket basic pattern padding-outer orange, peter pan collar coat black, button check pattern A-Line dress, basic pattern sweater navy, colorful pattern pointed shirt multi, pocket basic pattern padding-outer purple, embroidery animal print pattern wool sweat-shirts green, classic two way bag beige, button basic pattern jacket, printing pattern top multi, geometric pattern H-Line dress black, belle de jour clutch black, belt check pattern trench-coat beige, pocket graphics pattern hoodie yellow, vintage web GG backpack, pocket graphics pattern sweat-pants white, basic pattern wool sweater red, dionysus cross bag black, GG clutch chain bag, button basic pattern polo-shirts beige, pocket basic pattern wool slacks grey, monogram mini universal bag black, super mini sylvie white, monogram shoulder bag black, monogram clutch brown, fur detailed shining jacket gold, eight button belted dress red, cutout neck knit & color pleats belt skirt, ribbon pointed rib sweater white, lace basic pattern A-Line dress black, banding point jumper skyblue, mini sunset chain bag black, intrecciato shoulder bag purple, pocket basic pattern fullzip-jacket black, trunkino small bag green 1, pocket check pattern sweater blue, pocket basic pattern top beige, ...]                               \n",
       "3   [peral button tweed dress pink, graphics pattern cashmere sweater ivory, foldover top cross bag black, button basic pattern wool coat brown, roll up basic pattern slacks navy, monogram envelope chain cross bag, microssima emily mini bag black, fur detail slim line single coat, button flower pattern H-Line dress lavender, logo pointed cross bag black, round hem line sweater gray_1, leopard pattern fur jacket 2, slime line single coat black, basic pattern unbalance skirt skyblue, neck frill and ribbon detail blouse, silver detailed cross bag black, button basic pattern doublebreasted-jacket skyblue & slit basic pattern skirt skyblue, v-neck flower pattern flare dress, belt basic pattern coat pink, button Quilting pattern padding-outer beige, chevron quilting cross bag black, basic pattern fur-outer, chevron quilted cross bag black, ruffle basic pattern A-Line dress mint, small logo quilted cross body bag black, mamont chain mini cross bag black, flower pattern A-Line dress multi, cabas monogramtote bag black, mammont tote red, chevron quilting cross bag cream, quilted shoulder bag black, classic cross bag black, button basic pattern H-Line knit-dress beige, marmont gg logo quilted bag Black 2, trimming pointed tweed dress, button basic pattern top black, button check pattern doublebreasted-jacket khaki, pocket basic pattern hoodie grey, lace long sleeve wrap dress, lace point shirring blouse pink & lace detail long mermaid skirt, see-through lace detail tunic dress black, jackie 1961 hobo bag ivory, dionysus cross bag, trapeze tote bag black, oblique jacquard shoulder bag, logo chain tote bag black, lace stripe pattern A-Line shirt-dress navy, pocket basic pattern jacket brown, dionysus cross bag2, embroidery printing pattern wool sweater blue, mini round cross bag pink, ribbon point wrap dress navy, gold logo point tote bag blue, basic pattern A-Line dress charcoal, toque tote M black, printing pattern wool sweater black, leather point cross bag, quilted boy chain bag black, v neck floral printing dress, three button coat gray, logo hobo bag black, basic pattern H-Line dress grey, monogram chain wallet bag black, basic pattern blouse white, dionysos velvet chain shoulder bag navy, by the way small black, slit stripe pattern wool top grey, high neck design long coat brown, button basic pattern coat brown, feminine military blouse & high waist wide slacks, lace flower pattern A-Line dress mint, gradation color padding jumper, gather basic pattern H-Line knit-dress khaki, monogram eva clutch, zipper detail bucket tote bag, heart pattern quilted skirts, luggage bag black, printing pattern hoodie grey & pocket basic pattern jogger-pants grey, vara leather cross bag black, pocket check pattern wool duffle-coat bluegreen, unique pattern pointed frill dress, small logo pointed cross bag black, lace jacquard pattern H-Line dress brown, mamont bucket bag ivory, shawl collar long coat beige, pocket basic pattern fitness-jacket pink, two button shirt dress, tb leather belt bag black, pocket basic pattern wide-pants navy, croisiere patent lady bag, monogram canvas clutch bag, quilted leather clutch bag, belt basic pattern padding-outer black, layered collar detail dress multi, pocket basic pattern wool fullzip-jacket grey, gold logo crossbody bag hotpink, line detail flower dress multi, two way bucket bag black, embroidery velvet jacket black, oxford basic tee gray, ...]                           \n",
       "4   [ribbon flower pattern A-Line dress multi, logo pointed cross bag, quilted calfskin shoulder bag, rockstud cross bag orange, dionysus cross bag beige, button basic pattern A-Line dress cream, center embroidery dress ivory, vintage web round cross bag black, high neck padding jumper black, basic pattern H-Line wool dress black, classic clutch black, mammont chain wallet bag black, check pattern lined vest, marmont gg logo quilted bag Black, color strap shoulder bag navy, quilting detail denim skirt, pocket point fur jumper black, button basic pattern doublebreasted-coat black, strap basic pattern wrap-coat black, sylvie leather mini chain bag black, discover the stencil embellishment, pleats basic pattern pleats-skirt grey, basic pattern sweat-shirts white, single breasted long coat black, flower pattern blouse burgundy, dionysus shoulder bag beige, classic logo chain shoulder bag white, tweed jacket brown, chevron quilting cross bag black, lettering point two way bag brown, pleats basic pattern wool pleats-skirt brown, mamont chain bag red, [66]El estilo de Claire - wang letter neoprene top_pleats leather style skirt black, pattern pointed a-line skirts, button check pattern dress brown, button basic pattern t-shirts white, small logo bucket bag black, chevron quilted cross bag black, mamont chain mini cross bag black, button basic pattern A-Line dress charcoal, pocket check pattern singlebreasted-coat, basic pattern skirt grey, classic two way bag pink, padlock GG canvas shoulder bag, button basic pattern coat black, GG marmont shoulder bag pink, collège medium cross bag, chevron quilting cross bag cream, button basic pattern fur-outer beige, quilted shoulder bag black, color block pattern wool fur-outer, padlock GG canvas chain bag 2, zig zag pattern cardigan multi, 3jours two way bag beige, button basic pattern jacket grey, flap cross bag grey, grand-shopping caviar cream, vintage check and leather cross bag black, faye small bag black, button basic pattern shirts white, button basic pattern doublebreasted-coat brown, belted short jacket cream 1, round neck cardigan beige, button stripe pattern sweater mustard, flower pattern v-neck long dress, button basic pattern coat red, tweed texture chain bag, button basic pattern shirts blue, verni mini clutch chain bag brown, chevron quilted cross bag green, check pattern hood wrap coat, ribbon basic pattern H-Line dress black, leopard pattern frill long dress_, damier eben tote bag, graphics pattern sweat-shirts grey, roll-up detail jumpsuit khaki, ribbon basic pattern jacket pink, draping detail raglan sleeve dress, surrey carryall bag brown, black point check shirt_1, check pattern H-Line dress, button basic pattern A-Line dress beige, fur collar padding jumper black, dionysus cross bag black, chevron logo clutch bag black, medium Nylon Backpack black, jackie 1961 hobo bag brown, lettering pattern sweater black, boy chanel clutch black, GG clutch chain bag, embroidery basic pattern sweater ivory, monogram eva clutch, zipper detail bucket tote bag, monogram shoulder bag black, boy chanel crossbody bag black, oblique canvas half moon bag, kate small monogram bag black, string belted padding jumper pink, monogram zucchino shoulder bag, vintage web shoulder bag black, ...]                                                                                                                                                                           \n",
       "5   [button basic pattern shirts black, bell line slip dress black, very shoulder bag black, high neck padding vest, belt motive clutch bag, front button check pattern jacket, daino crossbody bag pink, chevron quilted cross bag beige, strap basic pattern wool coat black, vintage blue coat, vintage mood slim collar coat, peekaboo tote bag beige, epi tote bag black, button basic pattern cardigan khaki, vanity bag brown, leather point cross bag, rose printing dress black, madras leather crossbody black, fur detail coat beige 2, padlock GG canvas shoulder bag, pocket basic pattern fur-outer beige, regular 2jours black, drew bag red, button stripe pattern cashmere sweater grey, strap basic pattern jacket navy, classic clutch black, drop shoulder boxy coat, verni shoulder bag purple, monogram chain wallet bag black, modern mood coat black, pocket basic pattern fur-outer brown, boy caviar quilted cluth black, stripe pattern top black, wood handle dionysus bag, button stripe pattern dress-shirts navy, button stripe pattern singlebreasted-jacket navy, dionysos velvet chain shoulder bag navy, double button long coat white, pionniere bag brown, slit check pattern H-Line knit-dress black, pocket graphics pattern cardigan brown, strap basic pattern wrap-coat black, X strap shirring dress black, 5ac tote bag brown, slit stripe pattern wool top grey, see-through lace detail tunic dress black, pocket basic pattern padding-outer skyblue, basic pattern H-Line halterneck-dress black, GG supreme clutch brown, belt basic pattern coat black, leather tassel cross body bag gray, logo enamel clutch black, pleats flower pattern doublebreasted-jacket black, drop shoulder coat yellow, basic pattern H-Line dress black, black line point belt dress white, alma epi pm tote bag black, favorite MM shoulder bag, matlase monogram bag black]                                                                                                                                                                                                                                                                                                                                                                                                                                                                                                                                                                                                                                                                                                                                                                                                                                                                                                                                                                                                                                                                                                                                                                                                                                                                                                                                                                                                                                                                                                                                                                                                                                                                              \n",
       "6   [lou cross bag black, new cubo satchel small black 1, quilted calfskin shoulder bag, lace detail pointed dress multi, stripe pattern blouse brown, dionysus cross bag beige, button check pattern jacket yellow & pocket check pattern slacks yellow, button check pattern A-Line wrap-dress black, two tone color sleeveless mermaid dress, vintage web round cross bag black, strap basic pattern coat black, mammont chain wallet bag black, button basic pattern blazer black, microssima emily mini bag black, neonoe escale rainbow, basic pattern H-Line dress blue, classic box black, color strap shoulder bag navy, leather pointed half sleeve dress, button flower pattern H-Line dress lavender, patent small beige, button stripe pattern singlebreasted-jacket navy, brillant GM satchel bag, pocket tweed pattern cashmere coat pink, snake monogram bag beige, graphics pattern sweat-shirts ivory, lace dress skyblue, strap basic pattern wrap-coat black, fringe detail check pattern coat, matelasse chain mini bag pink, classic logo cross bag brown, basic pattern knit-dress brown, chevron quilting cross bag black, button check pattern shirts beige, garavani leather clutch brown, mamont chain bag red, corduroy quilted padding jumper yellow, chevron quilted cross bag black, small logo quilted cross body bag black, epi tote bag black, matelasse mademoiselle clutch bag black, basic pattern A-Line wool dress grey, 2.55 classic patent bag navy, padlock GG canvas shoulder bag, falabella box mini bag navy, lovely lace dress salmon, boite chapeau souple cross bag, collège medium cross bag, mammont cross bag multi, pocket basic pattern jacket pink, zipper detail cape padding jumper, quilted cross body bag black, color block logo clutch 2, shirring detail yoke velvet dress, grand-shopping caviar cream, square neck flower pattern dress, vintage check and leather cross bag black, dotcom bag black1, topaz 52., ribbon basic pattern H-Line dress navy, ribbon basic pattern A-Line wrap-dress blue, mamont chain bag black, hoodie basic pattern padding-outer charcoal, dionysus cross bag, herringbone pattern crop coat, logo chain tote bag black, button stripe pattern wool cardigan black, basic logo tote bag black 2, rockstud tote bag black, senat GM clutch bag brown, basic pattern A-Line dress cream, GG marmont quilted-leather belt bag, microssima emily mini bag cream, animal print pattern top white, leather point cross bag, damier ebene cross bag brown, no collar simple jacket& crease slacks ivory, brooch basic pattern jacket black, cabas tote bag black, shirring blouson jumper khaki, slit neck slim line dress black, robe check coat brown, chain pattern twist cross bag, jackie 1961 hobo bag brown, boy chanel clutch black, classic flap clutch, stripe quilted padding jumper black, punching flower pattern H-Line dress black, waffle bulky knit & wool slim skirt, gradation color padding jumper, monogram eva clutch, monogram shoulder bag black, zipper detail bucket tote bag, mixed pattern ribbon jacket multi, peplum tweed pattern H-Line dress black, mini sunset chain bag black, trunk mini saffiano bag black, matlase monogram bag gray, top handle corssbody bag black, belt basic pattern trench-coat beige, ...]                                                                                                                                                                                                                                           \n",
       "7   [logo pointed cross bag, embroidery point top grey, gather basic pattern A-Line dress white, monogram envelope chain cross bag, basic pattern A-Line dress grey, classic clutch black, strap basic pattern coat black, check pattern wrap coat blue, drop shoulder boxy coat, marmont gg logo quilted bag Black, gather color block pattern A-Line dress navy, logo pointed cross bag black, saffiano leather mini crossbody bag, puff sleeve flower pattern dress, sylvie leather mini chain bag black, button basic pattern H-Line dress, wappen pointed v-neck cardigan, shawl collar fur detail coat gray, strap basic pattern singlebreasted-jacket black, saffiano mini bag blue, dionysus shoulder bag beige, daria tote bag brown, ruffle basic pattern A-Line dress pink, big eye leather cross bag black, chevron clutch black, classic logo chain shoulder bag white, button stripe pattern shirts mint, button Quilting pattern padding-outer beige, chevron pattern chain bag beige, ribbon basic pattern sweater khaki, embroidery basic pattern sweater purple, stripe boat neck t-shirt & buckle suspender dress, motor city bag charcoal gray, button basic pattern H-Line dress navy, ff logo point cross bag black, chevron quilted cross bag black, muse bag blue, mamont chain mini cross bag black, cabas monogram two way bag beige, epi tote bag black, small logo quilted cross body bag black, simple design long coat black, boy flab bag, pocket basic pattern cardigan khaki, quilted chain shoulder bag black, basic pattern sweat-shirts grey, padlock GG canvas shoulder bag, pocket detail ribbon belted blouse, button stripe pattern cashmere sweater grey, button basic pattern sweater beige, chevron quilting cross bag cream, none collar one button coat, quilted shoulder bag black, Y clutch black, matelasse cross body bag black, padlock GG canvas chain bag 2, basic pattern polo-shirts cream, double button long coat white, button basic pattern doublebreasted-jacket black, wrap sleeveless dress, basic pattern sweater blue, pattern duffle coat brown, button check pattern pants, pleats detail long shirts dress, gather basic pattern A-Line dress pink, unbalance detail zip-up jumper, button check pattern A-Line dress brown, stripe pattern long vest gray & wrap detail stripe pattern wide pants, fur detail peekaboo mini red, vintage check lettering bag, button basic pattern singlebreasted-jacket grey, half round cross bag black, check pattern ribbon detail shirts, cassandre monogram clutch black, pocket flower pattern fitness-jacket black, monogram chain wallet bag black, boy caviar quilted cluth black, dionysos velvet chain shoulder bag navy, button basic pattern cashmere singlebreasted-coat black, dionysus cross bag black, lace yoke detail dress black, microssima emily shoulder bag black, logo point crop sweater wine, studded two way bag black, GG marmont belt bag black, pocket basic pattern coat black, lettering pattern sweater black, micro candy bag white, GG clutch chain bag, pintuck dress yellow, button geometric pattern singlebreasted-jacket grey, strap basic pattern coat navy, belt point trench coat green, lettering pattern t-shirts black, belt basic pattern trench-coat khaki, high neck hoodie jumper black, monogram clutch brown, strap basic pattern trench-coat beige, kate small monogram bag black, vintage web shoulder bag black, ...]                                                                                                         \n",
       "8   [graphics pattern sweat-shirts purple, quilted calfskin shoulder bag, button stripe pattern shirts white, foldover top cross bag black, dionysus cross bag beige, check mackenzie cross bag pink, gather basic pattern A-Line dress cream, lace detail long skirt black, microssima emily mini bag black, basic pattern wool sweater green, ruffle detail tiered lace dress multi, color strap shoulder bag navy, brillant GM satchel bag, logo pointed cross bag black, pocket tweed pattern cashmere coat pink, embroidery basic pattern wool sweater brown, button basic pattern wool cardigan grey, pocket check pattern padding-outer khaki, matelasse chain mini bag pink, Bucket black bag, belt basic pattern coat pink, dionysus shoulder bag beige, broach point cross bag khaki, pleats texture high neck blouse, romantic sleeve dress pink, stripe pattern pointed cardigan multi, logo point clutch bag pink, GG marmont belt bag bluegreen, strap basic pattern wool wrap-coat grey, ribbon flower pattern top navy & flower pattern dress navy, chevron quilted cross bag black, wave neck line slim dress, mamont chain mini cross bag black, ribbon basic pattern cardigan black, button basic pattern coat black, lovely lace dress salmon, stripe pattern sweater, marmont gg logo quilted bag Black 2, button basic pattern singlebreasted-jacket black, grand-shopping caviar black shoulder bag, button basic pattern jacket grey, button basic pattern cardigan black, pleats detail sailor collar dress green, basic pattern H-Line knit-dress navy, check pattern flap tote bag, strap basic pattern cashmere coat black, jaxsra bag beige, basic pattern H-Line dress black, fold over chain cross bag, chevron quilted shoulder bag black, button basic pattern wool doublebreasted-jacket black, ginny cross bag navy, button color block pattern sweater ivory, bayswater dark brown tote bag 2, zipper detail two tone jacket, intrecciato cross body bag green, unique pattern sweater multi, croisiere patent lady bag navy, GG marmont quilted-leather belt bag, pleats basic pattern A-Line dress beige, stripe pattern A-Line shirt-dress yellow, button check pattern A-Line dress brown, black point flower dress multi, logo hobo bag black, zipper detail pointed jacket beige, lettering point bag white, belt check pattern trench-coat beige, cabas tote bag black, wood handle dionysus bag, unique pattern boy cross bag, lucky badges handle bag black, pocket basic pattern jacket black, jackie 1961 hobo bag brown, slit stripe pattern wool top grey, button flower pattern A-Line wrap-dress yellow, boy chanel clutch black, Mickeymouse Round Shoulder Bag, basic pattern H-Line dress mint, basic pattern sweat-shirts black, drew bag beige, high neck hood wind breaker, super mini sylvie white, basic pattern H-Line slip-dress black, button check pattern jacket brown & pocket check pattern slacks brown, leopard pattern buckle bag, jacquard shoulder tote bag, gather flower pattern dress black, flap cross bag black, Pochette trunk vertical black bag, graphics pattern sweat-shirts white, vara leather cross bag black, two way bucket bag white, ribbon point collar dress multi, check pattern kilt-skirt brown, geometric pattern H-Line dress brown, mamont bucket bag ivory, monogram two way bag brown, galliera gm Shoulder hobo Bag white, flower pattern A-Line dress white, sylvie mini chain ribbon bag red, ...]                                                                                   \n",
       "9   [saffiano lux chain bag, monogram envelope chain cross bag, lined zip-up jumper black, dots pattern H-Line dress black, classic clutch black, GG soho chain clutch bag black, ribbon check pattern wrap-skirt, gather flower pattern H-Line wrap-dress, pocket check pattern jacket charcoal, pocket basic pattern padding-outer pink, pleats basic pattern A-Line dress black, button flower pattern H-Line dress lavender, saffiano leather mini crossbody bag, sylvie leather mini chain bag black, silver detailed cross bag black, basic pattern coat, dionysus shoulder bag beige, stripe pattern H-Line shirt-dress blue, monogram cross body bag brown, fonte clutch, classic logo chain shoulder bag white, chevron pattern chain bag beige, button check pattern shirts red, unique pattern puff sleeve dress, stitch basic pattern jacket black, chevron quilted cross bag black, basic pattern t-shirts navy, epi tote bag black, boy flab bag, matelasse mademoiselle clutch bag black, sophia gancini tote bag, back to school bag 1, padlock GG canvas shoulder bag, basic stripe shirts red, pop knitted long cardigan cream, chevron quilting cross bag cream, pleats ribbon dress pink, quilted shoulder bag black, belt basic pattern coat ivory, button basic pattern top black, double button flare dress black, padlock GG canvas chain bag 2, zipper stripe jacket black, flap cross bag grey, slit basic pattern A-Line dress brown, lace texture flared dress pink, mamont chain bag black, jackie 1961 hobo bag ivory, quilted belt bag black, logo chain tote bag black, basic pattern H-Line dress white, jewerly neck dress black, vintage check shoulder bag, basic pattern H-Line dress black, button stripe pattern wool cardigan black, verni mini clutch chain bag brown, basic pattern top beige, strap basic pattern wool coat black, pleats detail chevron yoke dress, leather point cross bag, ribbon draping cap sleeve dress, check pattern H-Line dress pink, GG pattern cross body bag beige, printing pattern sweat-shirts grey, pocket basic pattern jeans blue, boy caviar quilted cluth black, embroidery graphics pattern hoodie white, dionysos velvet chain shoulder bag navy, dionysus cross bag black, studded two way bag black, chain pattern twist cross bag, GG marmont belt bag black, lettering pattern sweater black, ethic lace see through dress, drew bag beige, lettering pattern t-shirts black, monogram mini universal bag black, monogram eva clutch, super mini sylvie white, over sized wool coat black, monogram clutch brown, boy chanel crossbody bag black, luggage bag black, basic pattern wool sweater navy, pocket basic pattern H-Line dress khaki, kate small monogram bag black, mini sunset chain bag black, letter pointed tote bag, flap cross bag black, belt basic pattern trench-coat beige, top handle corssbody bag black, lace zigzag pattern A-Line dress white, pocket stripe pattern A-Line dress, slit basic pattern skirt white, verni shoulder bag purple, brooch basic pattern top red, pleats basic pattern H-Line dress deeppink, button basic pattern jacket black, ribbon basic pattern slacks black, button basic pattern coat grey, ...]                                                                                                                                                                                                                                                                                                                                         \n",
       "10  [logo pointed cross bag, studded shoulder bag black, basic pattern top black, very shoulder bag black, lou cross bag black, pandora small black, mixed pattern knit top multi, pocket check pattern coat grey, dionysus cross bag beige, frill basic pattern A-Line dress skyblue, monogram backpack brown, ruffle lace pattern mermaid trumpet-skirt red, cutout basic pattern H-Line dress black, classic clutch black, mammont chain wallet bag black, microssima emily mini bag black, 2jours bag navy, basic pattern H-Line dress blue, basic pattern H-Line dress nude, button stripe pattern singlebreasted-jacket navy, logo pointed cross bag black, ruffle detail silky sleeveless dress, basic pattern H-Line dress navy, lace pattern top pink & lace pattern skirt pink, unbalance hem line sleeveless dress blue, logo point clutch bag black, button basic pattern blazer blue, GG marmont leather belt bag 2, metropolis cross bag cream, motor city bag grey, leather tassel cross body bag gray, daria tote bag brown, dionysus shoulder bag beige, hoodie basic pattern coat beige, button color block pattern wool cardigan multi, pattern hobo chain bag gray, kate chain bag red, ruffle flower pattern A-Line lavender, monogram clutch black, White clutch bag, chevron quilted cross bag black, trimming detail pointed coat multi, mamont chain mini cross bag black, basic pattern skirt grey, white collar pointed ribbon dress multi, cabas monogramtote bag black, front slit patterned skirt, button basic pattern blouse white, lace flower pattern H-Line dress red, embroidery detail lace skirt multi, see-through lace detail blouse black, belt basic pattern wool trench-coat khaki, quilted shoulder bag black, slit neck detail collar dress white, trimming pointed tweed dress, fabric fourre tout MM tote bag, matelasse cross body bag black, scarf tote bag, frill dots pattern blouse nude, monogram clutch navy, gather mermaid skirt black, button check pattern H-Line dress brown, dionysus cross bag, halterneck spangles dress black, ruffle basic pattern mermaid trumpet-skirt green, basic pattern sweat-shirts ivory, one button jacket gray, basic pattern H-Line dress white, basic pattern H-Line dress ivory, basic pattern H-Line dress black, gather basic pattern blouse white, embroidery basic pattern slip-dress black, slit basic pattern H-Line dress olive, brillant GM satchel bag black, favorite MM shoulder bag, rockstud tote bag black, frill lace punching dress, button basic pattern cardigan pink & basic pattern skirt pink, stripe pattern two way bucket bag brown, basic pattern A-Line dress cream, croisiere patent lady bag navy, microssima emily mini bag cream, buckle detail tote bag orange, monogram shoulder bag brown, punching basic pattern skirt skyblue, monogram milla pochette MM, slim line trench coat beige, rough texture pointed dress yellow, cabas chyc large black 2, black point flower dress multi, basic pattern skirt pink, flower pattern A-Line dress pink, vintage web GG backpack, lettering pattern t-shirts white, check button dress red, pocket basic pattern trench-coat navy, ruffle lace dress black, geometric painting dress blue, cross halter neck design dress black, flap monogram clutch bag, ...]                                                                                                                                                                                                                                                  \n",
       "11  [belle de jour clutch red, logo pointed cross bag, pocket basic pattern singlebreasted-jacket beige, lou cross bag black, button stripe pattern shirts white, dot pattern heart logo t-shirts, gather basic pattern top black, classic clutch black, marmont gg logo quilted bag Black, layered chiffon dress pink, classic box black, neonoe escale rainbow, one button short wool coat, slit basic pattern sweater beige, patent small beige, button check pattern blouse orange, button flower pattern H-Line dress lavender, button stripe pattern singlebreasted-jacket navy, brillant GM satchel bag, button flower pattern A-Line dress red, shoulder button pullover & burnout flare skirt, ribbon flower pattern H-Line gown-dress nude, ruffle basic pattern blouse black, matelasse chain mini bag pink, double button two tone trench coat, lace detail tweed jacket ivory, strap basic pattern trench-coat grey, frill detail flower pattern long dress, buckle basic pattern slacks black, belt basic pattern coat pink, daria tote bag brown, monogram cross body bag brown, sac de jour tote pink, chevron pattern chain bag beige, GG marmont belt bag bluegreen, basic pattern A-Line dress black, lettering pattern sweat-shirts grey, button stripe pattern wool jacket black & pocket stripe pattern wool slacks black, strap basic pattern trench-coat black, chevron quilted cross bag black, lace flower pattern pleats-skirt pink, small logo quilted cross body bag black, epi tote bag black, two tone detail sleeveless dress, vanity bag brown, matelasse mademoiselle clutch bag black, simple design trench coat, ribbon flower pattern A-Line wrap-dress ivory, button tweed pattern A-Line dress navy, padlock GG canvas shoulder bag, button stripe pattern cashmere sweater grey, tweed belt set dress, color block pattern wool sweater pink, pleats ribbon dress pink, flower dionysus shoulder bag beige, quilted shoulder bag black, Y clutch black, padlock GG canvas chain bag 2, grand-shopping caviar black shoulder bag, flap cross bag grey, check pattern point trench coat, Mogram neonoe bucket brown bag, python cross body bag black, button basic pattern A-Line shirt-dress black, 2.55 classic patent bag black, stripe pattern sweat-shirts navy, mamont chain bag black, jackie 1961 hobo bag ivory, vintage web bucket bag brown, button tweed pattern H-Line dress pink, side pocket wedding dress ivory, leather flaming convertible mini gold chain tassle crossback black, flower lace flare dress pink, button check pattern H-Line dress brown, oblique jacquard shoulder bag, luggage nano bag deep dark brown, intrecciato clutch bag black, ruffle animal print pattern mermaid trumpet-skirt ivory, check pattern mermaid trumpet-skirt grey, button basic pattern jacket white, trio bag black, pocket basic pattern chino-pants beige, button stripe pattern wool cardigan black, basic pattern wool sweater black, GG marmont cross bag bluegreen, verni mini clutch chain bag brown, lettering pattern top mint & pocket basic pattern sweat-pants mint, pleats basic pattern A-Line dress beige, button check pattern H-Line jumper-dress grey, thames hobo shoulder bag brown, basic pattern skirt ivory, gather basic pattern H-Line dress charcoal, monogram tote bag brown, geometric pattern sweater beige, cassandre monogram clutch black, GG pattern boston bag beige, GG pattern cross body bag beige, motor city giant yellow, belt check pattern trench-coat beige, center frill dress navy, ...]   \n",
       "12  [ribbon flower pattern A-Line dress multi, button stripe pattern shirts white, vintage web cross bag brown, feminine mood flower shirring dress, heart logo pointed stripe shirts blue, gather basic pattern A-Line tulle-dress nude, basic pattern t-shirts ivory, classic clutch black, mammont chain wallet bag black, button basic pattern pants brown, microssima emily mini bag black, slit basic pattern skirt black, logo pointed cross bag black, graphics pattern sweat-shirts ivory, sylvie leather mini chain bag black, lace flower pattern H-Line dress green, button basic pattern A-Line dress skyblue, flower lace layered dress pink, leather tassel cross body bag gray, flare line lace dress pink, tweed jacket brown, chevron pattern chain bag beige, chevron quilting cross bag black, sac de jour tote pink, ribbon flower pattern blouse black & pleats flower pattern pleats-skirt black, pocket basic pattern jump-suit brown, monogram clutch black, flower pattern A-Line dress ivory, chevron quilted cross bag black, wrap detail coat beige, pocket basic pattern jacket beige, basic pattern sweat-shirts grey, gather basic pattern H-Line dress green, quilted shoulder bag black, lace flower pattern A-Line dress ivory, button basic pattern top black, pocket check pattern singlebreasted-jacket brown, Mogram neonoe bucket brown bag, pocket basic pattern jacket charcoal, button check pattern H-Line dress multi, GG supreme clutch brown, button basic pattern singlebreasted-jacket khaki, favorite MM shoulder bag, stripe pattern two way bucket bag brown, GG marmont quilted-leather belt bag, long sleeve lace dress ivory, half round chain bag black, monogram milla pochette MM, paisley print pattern skirt, gather basic pattern H-Line dress charcoal, lace long sleeve dress green, classic two way bag beige, diabolic eyes clutch bag, button check pattern shirts multi, pocket check pattern slacks charcoal, lucky badges handle bag black, pocket basic pattern skirt white, frill stripe knit cardigan muti, basic pattern padding-outer black, classic mood check pattern jacket, round handle tote bag black, vintage web shoulder bag black, mini sunset chain bag black, gather check pattern H-Line dress multi, flap cross bag black, Pochette trunk vertical black bag, gather flower pattern A-Line dress burgundy, belt basic pattern trench-coat black, Luggage pink bag, color lace blouse & color lace skirt, ville logo bag green, brooch check pattern H-Line dress ivory, sylvie leather mini chain bag red, monogram canvas clutch bag, verni mini clutch chain bag black, ruffle flower pattern A-Line dress, Tote beige bag, antigona S black 2, basic pattern H-Line wool dress grey, button basic pattern wool cardigan grey]                                                                                                                                                                                                                                                                                                                                                                                                                                                                                                                                                                                                                                                                                                                                                                  \n",
       "13  [luggage bag black, double button long coat white, geometric pattern A-Line dress purple, sylvie mini chain ribbon bag white, marmont gg logo quilted bag Black 4, pocket graphics pattern zipup-jumper navy, wave detail cape coat black, pleats basic pattern H-Line dress deeppink, frill dots pattern blouse black, beads stud velvet jacket black, button basic pattern blouse black]                                                                                                                                                                                                                                                                                                                                                                                                                                                                                                                                                                                                                                                                                                                                                                                                                                                                                                                                                                                                                                                                                                                                                                                                                                                                                                                                                                                                                                                                                                                                                                                                                                                                                                                                                                                                                                                                                                                                                                                                                                                                                                                                                                                                                                                                                                                                                                                                                                                                                                                                                                                                                                                                                                                                                                                                                                                                                                                                                                                                                                                                                                                                                                                            \n",
       "\n",
       "     len  \n",
       "0   True  \n",
       "1   True  \n",
       "2   True  \n",
       "3   True  \n",
       "4   True  \n",
       "5   True  \n",
       "6   True  \n",
       "7   True  \n",
       "8   True  \n",
       "9   True  \n",
       "10  True  \n",
       "11  True  \n",
       "12  True  \n",
       "13  True  "
      ]
     },
     "execution_count": 282,
     "metadata": {},
     "output_type": "execute_result"
    }
   ],
   "source": [
    "df_asso3"
   ]
  },
  {
   "cell_type": "code",
   "execution_count": 292,
   "metadata": {
    "ExecuteTime": {
     "end_time": "2021-05-18T16:37:48.124807Z",
     "start_time": "2021-05-18T16:37:48.116320Z"
    },
    "scrolled": true
   },
   "outputs": [],
   "source": [
    "#apriori(df_asso_encoded3, min_support=0.3, use_colnames=True).sort_values('support', ascending=False)"
   ]
  },
  {
   "cell_type": "code",
   "execution_count": 284,
   "metadata": {
    "ExecuteTime": {
     "end_time": "2021-05-18T16:36:40.477045Z",
     "start_time": "2021-05-18T16:36:40.457063Z"
    }
   },
   "outputs": [],
   "source": [
    "pd.set_option('display.max_colwidth', -1)\n",
    "pd.set_option('display.max_rows', 500)"
   ]
  },
  {
   "cell_type": "code",
   "execution_count": 285,
   "metadata": {
    "ExecuteTime": {
     "end_time": "2021-05-18T16:36:41.302692Z",
     "start_time": "2021-05-18T16:36:41.245843Z"
    }
   },
   "outputs": [
    {
     "data": {
      "text/html": [
       "<div>\n",
       "<style scoped>\n",
       "    .dataframe tbody tr th:only-of-type {\n",
       "        vertical-align: middle;\n",
       "    }\n",
       "\n",
       "    .dataframe tbody tr th {\n",
       "        vertical-align: top;\n",
       "    }\n",
       "\n",
       "    .dataframe thead th {\n",
       "        text-align: right;\n",
       "    }\n",
       "</style>\n",
       "<table border=\"1\" class=\"dataframe\">\n",
       "  <thead>\n",
       "    <tr style=\"text-align: right;\">\n",
       "      <th></th>\n",
       "      <th>support</th>\n",
       "      <th>itemsets</th>\n",
       "      <th>len</th>\n",
       "    </tr>\n",
       "  </thead>\n",
       "  <tbody>\n",
       "    <tr>\n",
       "      <th>43</th>\n",
       "      <td>0.50</td>\n",
       "      <td>(chevron quilted cross bag black, padlock GG canvas shoulder bag)</td>\n",
       "      <td>2</td>\n",
       "    </tr>\n",
       "    <tr>\n",
       "      <th>44</th>\n",
       "      <td>0.50</td>\n",
       "      <td>(chevron quilted cross bag black, quilted shoulder bag black)</td>\n",
       "      <td>2</td>\n",
       "    </tr>\n",
       "    <tr>\n",
       "      <th>40</th>\n",
       "      <td>0.50</td>\n",
       "      <td>(chevron quilted cross bag black, mini sunset chain bag black)</td>\n",
       "      <td>2</td>\n",
       "    </tr>\n",
       "    <tr>\n",
       "      <th>39</th>\n",
       "      <td>0.43</td>\n",
       "      <td>(chevron quilted cross bag black, microssima emily mini bag black)</td>\n",
       "      <td>2</td>\n",
       "    </tr>\n",
       "    <tr>\n",
       "      <th>29</th>\n",
       "      <td>0.43</td>\n",
       "      <td>(chevron quilted cross bag black, classic clutch black)</td>\n",
       "      <td>2</td>\n",
       "    </tr>\n",
       "    <tr>\n",
       "      <th>53</th>\n",
       "      <td>0.43</td>\n",
       "      <td>(chevron quilted cross bag black, mini sunset chain bag black, padlock GG canvas shoulder bag)</td>\n",
       "      <td>3</td>\n",
       "    </tr>\n",
       "    <tr>\n",
       "      <th>52</th>\n",
       "      <td>0.43</td>\n",
       "      <td>(chevron quilted cross bag black, quilted shoulder bag black, classic clutch black)</td>\n",
       "      <td>3</td>\n",
       "    </tr>\n",
       "    <tr>\n",
       "      <th>32</th>\n",
       "      <td>0.43</td>\n",
       "      <td>(chevron quilted cross bag black, dionysus shoulder bag beige)</td>\n",
       "      <td>2</td>\n",
       "    </tr>\n",
       "    <tr>\n",
       "      <th>33</th>\n",
       "      <td>0.43</td>\n",
       "      <td>(chevron quilted cross bag black, flap cross bag black)</td>\n",
       "      <td>2</td>\n",
       "    </tr>\n",
       "    <tr>\n",
       "      <th>49</th>\n",
       "      <td>0.43</td>\n",
       "      <td>(mini sunset chain bag black, padlock GG canvas shoulder bag)</td>\n",
       "      <td>2</td>\n",
       "    </tr>\n",
       "    <tr>\n",
       "      <th>47</th>\n",
       "      <td>0.43</td>\n",
       "      <td>(quilted shoulder bag black, classic clutch black)</td>\n",
       "      <td>2</td>\n",
       "    </tr>\n",
       "    <tr>\n",
       "      <th>45</th>\n",
       "      <td>0.36</td>\n",
       "      <td>(chevron quilted cross bag black, sylvie leather mini chain bag black)</td>\n",
       "      <td>2</td>\n",
       "    </tr>\n",
       "    <tr>\n",
       "      <th>46</th>\n",
       "      <td>0.36</td>\n",
       "      <td>(classic clutch black, padlock GG canvas shoulder bag)</td>\n",
       "      <td>2</td>\n",
       "    </tr>\n",
       "    <tr>\n",
       "      <th>26</th>\n",
       "      <td>0.36</td>\n",
       "      <td>(chevron quilted cross bag black, basic pattern H-Line dress black)</td>\n",
       "      <td>2</td>\n",
       "    </tr>\n",
       "    <tr>\n",
       "      <th>48</th>\n",
       "      <td>0.36</td>\n",
       "      <td>(epi tote bag black, padlock GG canvas shoulder bag)</td>\n",
       "      <td>2</td>\n",
       "    </tr>\n",
       "    <tr>\n",
       "      <th>51</th>\n",
       "      <td>0.36</td>\n",
       "      <td>(monogram shoulder bag black, padlock GG canvas shoulder bag)</td>\n",
       "      <td>2</td>\n",
       "    </tr>\n",
       "    <tr>\n",
       "      <th>54</th>\n",
       "      <td>0.36</td>\n",
       "      <td>(chevron quilted cross bag black, mini sunset chain bag black, sylvie leather mini chain bag black)</td>\n",
       "      <td>3</td>\n",
       "    </tr>\n",
       "    <tr>\n",
       "      <th>50</th>\n",
       "      <td>0.36</td>\n",
       "      <td>(mini sunset chain bag black, sylvie leather mini chain bag black)</td>\n",
       "      <td>2</td>\n",
       "    </tr>\n",
       "    <tr>\n",
       "      <th>41</th>\n",
       "      <td>0.36</td>\n",
       "      <td>(chevron quilted cross bag black, monogram clutch brown)</td>\n",
       "      <td>2</td>\n",
       "    </tr>\n",
       "    <tr>\n",
       "      <th>42</th>\n",
       "      <td>0.36</td>\n",
       "      <td>(chevron quilted cross bag black, monogram shoulder bag black)</td>\n",
       "      <td>2</td>\n",
       "    </tr>\n",
       "    <tr>\n",
       "      <th>27</th>\n",
       "      <td>0.36</td>\n",
       "      <td>(chevron quilted cross bag black, boy chanel clutch black)</td>\n",
       "      <td>2</td>\n",
       "    </tr>\n",
       "    <tr>\n",
       "      <th>38</th>\n",
       "      <td>0.36</td>\n",
       "      <td>(chevron quilted cross bag black, marmont GG logo quilted bag black)</td>\n",
       "      <td>2</td>\n",
       "    </tr>\n",
       "    <tr>\n",
       "      <th>37</th>\n",
       "      <td>0.36</td>\n",
       "      <td>(chevron quilted cross bag black, mamont chain mini cross bag black)</td>\n",
       "      <td>2</td>\n",
       "    </tr>\n",
       "    <tr>\n",
       "      <th>36</th>\n",
       "      <td>0.36</td>\n",
       "      <td>(chevron quilted cross bag black, mammont chain wallet bag black)</td>\n",
       "      <td>2</td>\n",
       "    </tr>\n",
       "    <tr>\n",
       "      <th>35</th>\n",
       "      <td>0.36</td>\n",
       "      <td>(chevron quilted cross bag black, logo pointed cross bag black)</td>\n",
       "      <td>2</td>\n",
       "    </tr>\n",
       "    <tr>\n",
       "      <th>34</th>\n",
       "      <td>0.36</td>\n",
       "      <td>(logo pointed cross bag, chevron quilted cross bag black)</td>\n",
       "      <td>2</td>\n",
       "    </tr>\n",
       "    <tr>\n",
       "      <th>31</th>\n",
       "      <td>0.36</td>\n",
       "      <td>(chevron quilted cross bag black, dionysus cross bag beige)</td>\n",
       "      <td>2</td>\n",
       "    </tr>\n",
       "    <tr>\n",
       "      <th>30</th>\n",
       "      <td>0.36</td>\n",
       "      <td>(chevron quilted cross bag black, croisiere patent lady bag)</td>\n",
       "      <td>2</td>\n",
       "    </tr>\n",
       "    <tr>\n",
       "      <th>28</th>\n",
       "      <td>0.36</td>\n",
       "      <td>(chevron quilted cross bag black, chevron pattern chain bag beige)</td>\n",
       "      <td>2</td>\n",
       "    </tr>\n",
       "    <tr>\n",
       "      <th>55</th>\n",
       "      <td>0.36</td>\n",
       "      <td>(chevron quilted cross bag black, monogram shoulder bag black, padlock GG canvas shoulder bag)</td>\n",
       "      <td>3</td>\n",
       "    </tr>\n",
       "  </tbody>\n",
       "</table>\n",
       "</div>"
      ],
      "text/plain": [
       "    support  \\\n",
       "43 0.50       \n",
       "44 0.50       \n",
       "40 0.50       \n",
       "39 0.43       \n",
       "29 0.43       \n",
       "53 0.43       \n",
       "52 0.43       \n",
       "32 0.43       \n",
       "33 0.43       \n",
       "49 0.43       \n",
       "47 0.43       \n",
       "45 0.36       \n",
       "46 0.36       \n",
       "26 0.36       \n",
       "48 0.36       \n",
       "51 0.36       \n",
       "54 0.36       \n",
       "50 0.36       \n",
       "41 0.36       \n",
       "42 0.36       \n",
       "27 0.36       \n",
       "38 0.36       \n",
       "37 0.36       \n",
       "36 0.36       \n",
       "35 0.36       \n",
       "34 0.36       \n",
       "31 0.36       \n",
       "30 0.36       \n",
       "28 0.36       \n",
       "55 0.36       \n",
       "\n",
       "                                                                                               itemsets  \\\n",
       "43  (chevron quilted cross bag black, padlock GG canvas shoulder bag)                                     \n",
       "44  (chevron quilted cross bag black, quilted shoulder bag black)                                         \n",
       "40  (chevron quilted cross bag black, mini sunset chain bag black)                                        \n",
       "39  (chevron quilted cross bag black, microssima emily mini bag black)                                    \n",
       "29  (chevron quilted cross bag black, classic clutch black)                                               \n",
       "53  (chevron quilted cross bag black, mini sunset chain bag black, padlock GG canvas shoulder bag)        \n",
       "52  (chevron quilted cross bag black, quilted shoulder bag black, classic clutch black)                   \n",
       "32  (chevron quilted cross bag black, dionysus shoulder bag beige)                                        \n",
       "33  (chevron quilted cross bag black, flap cross bag black)                                               \n",
       "49  (mini sunset chain bag black, padlock GG canvas shoulder bag)                                         \n",
       "47  (quilted shoulder bag black, classic clutch black)                                                    \n",
       "45  (chevron quilted cross bag black, sylvie leather mini chain bag black)                                \n",
       "46  (classic clutch black, padlock GG canvas shoulder bag)                                                \n",
       "26  (chevron quilted cross bag black, basic pattern H-Line dress black)                                   \n",
       "48  (epi tote bag black, padlock GG canvas shoulder bag)                                                  \n",
       "51  (monogram shoulder bag black, padlock GG canvas shoulder bag)                                         \n",
       "54  (chevron quilted cross bag black, mini sunset chain bag black, sylvie leather mini chain bag black)   \n",
       "50  (mini sunset chain bag black, sylvie leather mini chain bag black)                                    \n",
       "41  (chevron quilted cross bag black, monogram clutch brown)                                              \n",
       "42  (chevron quilted cross bag black, monogram shoulder bag black)                                        \n",
       "27  (chevron quilted cross bag black, boy chanel clutch black)                                            \n",
       "38  (chevron quilted cross bag black, marmont GG logo quilted bag black)                                  \n",
       "37  (chevron quilted cross bag black, mamont chain mini cross bag black)                                  \n",
       "36  (chevron quilted cross bag black, mammont chain wallet bag black)                                     \n",
       "35  (chevron quilted cross bag black, logo pointed cross bag black)                                       \n",
       "34  (logo pointed cross bag, chevron quilted cross bag black)                                             \n",
       "31  (chevron quilted cross bag black, dionysus cross bag beige)                                           \n",
       "30  (chevron quilted cross bag black, croisiere patent lady bag)                                          \n",
       "28  (chevron quilted cross bag black, chevron pattern chain bag beige)                                    \n",
       "55  (chevron quilted cross bag black, monogram shoulder bag black, padlock GG canvas shoulder bag)        \n",
       "\n",
       "    len  \n",
       "43  2    \n",
       "44  2    \n",
       "40  2    \n",
       "39  2    \n",
       "29  2    \n",
       "53  3    \n",
       "52  3    \n",
       "32  2    \n",
       "33  2    \n",
       "49  2    \n",
       "47  2    \n",
       "45  2    \n",
       "46  2    \n",
       "26  2    \n",
       "48  2    \n",
       "51  2    \n",
       "54  3    \n",
       "50  2    \n",
       "41  2    \n",
       "42  2    \n",
       "27  2    \n",
       "38  2    \n",
       "37  2    \n",
       "36  2    \n",
       "35  2    \n",
       "34  2    \n",
       "31  2    \n",
       "30  2    \n",
       "28  2    \n",
       "55  3    "
      ]
     },
     "execution_count": 285,
     "metadata": {},
     "output_type": "execute_result"
    }
   ],
   "source": [
    "# 최소 지지도 0.3\n",
    "df_frequent_itemsets3= apriori(df_asso_encoded3, min_support=0.3, use_colnames=True)\n",
    "df_frequent_itemsets3['len']=df_frequent_itemsets3['itemsets'].apply(lambda x : len(x))\n",
    "# 2개 이상 품목\n",
    "df_frequent_itemsets3[df_frequent_itemsets3['len']>=2].sort_values('support', ascending =False)"
   ]
  },
  {
   "cell_type": "code",
   "execution_count": 286,
   "metadata": {
    "ExecuteTime": {
     "end_time": "2021-05-18T16:36:41.348566Z",
     "start_time": "2021-05-18T16:36:41.306681Z"
    },
    "scrolled": false
   },
   "outputs": [
    {
     "data": {
      "text/html": [
       "<div>\n",
       "<style scoped>\n",
       "    .dataframe tbody tr th:only-of-type {\n",
       "        vertical-align: middle;\n",
       "    }\n",
       "\n",
       "    .dataframe tbody tr th {\n",
       "        vertical-align: top;\n",
       "    }\n",
       "\n",
       "    .dataframe thead th {\n",
       "        text-align: right;\n",
       "    }\n",
       "</style>\n",
       "<table border=\"1\" class=\"dataframe\">\n",
       "  <thead>\n",
       "    <tr style=\"text-align: right;\">\n",
       "      <th></th>\n",
       "      <th>antecedents</th>\n",
       "      <th>consequents</th>\n",
       "      <th>antecedent support</th>\n",
       "      <th>consequent support</th>\n",
       "      <th>support</th>\n",
       "      <th>confidence</th>\n",
       "      <th>lift</th>\n",
       "      <th>leverage</th>\n",
       "      <th>conviction</th>\n",
       "    </tr>\n",
       "  </thead>\n",
       "  <tbody>\n",
       "    <tr>\n",
       "      <th>0</th>\n",
       "      <td>(chevron quilted cross bag black)</td>\n",
       "      <td>(mini sunset chain bag black)</td>\n",
       "      <td>0.79</td>\n",
       "      <td>0.50</td>\n",
       "      <td>0.50</td>\n",
       "      <td>0.64</td>\n",
       "      <td>1.27</td>\n",
       "      <td>0.11</td>\n",
       "      <td>1.38</td>\n",
       "    </tr>\n",
       "    <tr>\n",
       "      <th>1</th>\n",
       "      <td>(mini sunset chain bag black)</td>\n",
       "      <td>(chevron quilted cross bag black)</td>\n",
       "      <td>0.50</td>\n",
       "      <td>0.79</td>\n",
       "      <td>0.50</td>\n",
       "      <td>1.00</td>\n",
       "      <td>1.27</td>\n",
       "      <td>0.11</td>\n",
       "      <td>inf</td>\n",
       "    </tr>\n",
       "    <tr>\n",
       "      <th>2</th>\n",
       "      <td>(chevron quilted cross bag black)</td>\n",
       "      <td>(padlock GG canvas shoulder bag)</td>\n",
       "      <td>0.79</td>\n",
       "      <td>0.57</td>\n",
       "      <td>0.50</td>\n",
       "      <td>0.64</td>\n",
       "      <td>1.11</td>\n",
       "      <td>0.05</td>\n",
       "      <td>1.18</td>\n",
       "    </tr>\n",
       "    <tr>\n",
       "      <th>3</th>\n",
       "      <td>(padlock GG canvas shoulder bag)</td>\n",
       "      <td>(chevron quilted cross bag black)</td>\n",
       "      <td>0.57</td>\n",
       "      <td>0.79</td>\n",
       "      <td>0.50</td>\n",
       "      <td>0.88</td>\n",
       "      <td>1.11</td>\n",
       "      <td>0.05</td>\n",
       "      <td>1.71</td>\n",
       "    </tr>\n",
       "    <tr>\n",
       "      <th>4</th>\n",
       "      <td>(chevron quilted cross bag black)</td>\n",
       "      <td>(quilted shoulder bag black)</td>\n",
       "      <td>0.79</td>\n",
       "      <td>0.50</td>\n",
       "      <td>0.50</td>\n",
       "      <td>0.64</td>\n",
       "      <td>1.27</td>\n",
       "      <td>0.11</td>\n",
       "      <td>1.38</td>\n",
       "    </tr>\n",
       "    <tr>\n",
       "      <th>5</th>\n",
       "      <td>(quilted shoulder bag black)</td>\n",
       "      <td>(chevron quilted cross bag black)</td>\n",
       "      <td>0.50</td>\n",
       "      <td>0.79</td>\n",
       "      <td>0.50</td>\n",
       "      <td>1.00</td>\n",
       "      <td>1.27</td>\n",
       "      <td>0.11</td>\n",
       "      <td>inf</td>\n",
       "    </tr>\n",
       "  </tbody>\n",
       "</table>\n",
       "</div>"
      ],
      "text/plain": [
       "                         antecedents                        consequents  \\\n",
       "0  (chevron quilted cross bag black)  (mini sunset chain bag black)       \n",
       "1  (mini sunset chain bag black)      (chevron quilted cross bag black)   \n",
       "2  (chevron quilted cross bag black)  (padlock GG canvas shoulder bag)    \n",
       "3  (padlock GG canvas shoulder bag)   (chevron quilted cross bag black)   \n",
       "4  (chevron quilted cross bag black)  (quilted shoulder bag black)        \n",
       "5  (quilted shoulder bag black)       (chevron quilted cross bag black)   \n",
       "\n",
       "   antecedent support  consequent support  support  confidence  lift  \\\n",
       "0 0.79                0.50                0.50     0.64        1.27    \n",
       "1 0.50                0.79                0.50     1.00        1.27    \n",
       "2 0.79                0.57                0.50     0.64        1.11    \n",
       "3 0.57                0.79                0.50     0.88        1.11    \n",
       "4 0.79                0.50                0.50     0.64        1.27    \n",
       "5 0.50                0.79                0.50     1.00        1.27    \n",
       "\n",
       "   leverage  conviction  \n",
       "0 0.11      1.38         \n",
       "1 0.11      inf          \n",
       "2 0.05      1.18         \n",
       "3 0.05      1.71         \n",
       "4 0.11      1.38         \n",
       "5 0.11      inf          "
      ]
     },
     "execution_count": 286,
     "metadata": {},
     "output_type": "execute_result"
    }
   ],
   "source": [
    "association_rules(df_frequent_itemsets3, metric='support',min_threshold=0.45)"
   ]
  },
  {
   "cell_type": "code",
   "execution_count": 287,
   "metadata": {
    "ExecuteTime": {
     "end_time": "2021-05-18T16:36:41.378487Z",
     "start_time": "2021-05-18T16:36:41.351560Z"
    },
    "scrolled": true
   },
   "outputs": [
    {
     "data": {
      "text/plain": [
       "chevron quilted cross bag black    23\n",
       "classic clutch black               11\n",
       "boy chanel clutch black            11\n",
       "dionysus shoulder bag beige        8 \n",
       "padlock GG canvas shoulder bag     8 \n",
       "mini sunset chain bag black        8 \n",
       "flap cross bag black               7 \n",
       "dionysus cross bag beige           7 \n",
       "epi tote bag black                 7 \n",
       "quilted shoulder bag black         7 \n",
       "Name: goodsnm, dtype: int64"
      ]
     },
     "execution_count": 287,
     "metadata": {},
     "output_type": "execute_result"
    }
   ],
   "source": [
    "asso_check_list = df.query('goodsnm==\"chevron quilted cross bag black\"').order_week.tolist()\n",
    "df[df.order_week.isin(asso_check_list)].goodsnm.value_counts().head(10)"
   ]
  },
  {
   "cell_type": "code",
   "execution_count": 288,
   "metadata": {
    "ExecuteTime": {
     "end_time": "2021-05-18T16:36:41.408409Z",
     "start_time": "2021-05-18T16:36:41.380482Z"
    }
   },
   "outputs": [
    {
     "data": {
      "text/plain": [
       "brandnm        goodsnm                                \n",
       "Saint Laurent  chevron quilted cross bag black            23\n",
       "Chanel         boy chanel clutch black                    11\n",
       "               classic clutch black                       11\n",
       "Saint Laurent  mini sunset chain bag black                8 \n",
       "Gucci          dionysus shoulder bag beige                8 \n",
       "                                                         .. \n",
       "Givenchy       ribbon basic pattern H-Line dress black    1 \n",
       "Goyard         senat GM clutch bag brown                  1 \n",
       "Greedilous     graphics pattern t-shirts yellow           1 \n",
       "               rough texture pointed dress yellow         1 \n",
       "thom browne    zipper clutch black                        1 \n",
       "Length: 951, dtype: int64"
      ]
     },
     "execution_count": 288,
     "metadata": {},
     "output_type": "execute_result"
    }
   ],
   "source": [
    "df[df.order_week.isin(asso_check_list)][['brandnm','goodsnm']].value_counts()"
   ]
  },
  {
   "cell_type": "markdown",
   "metadata": {
    "ExecuteTime": {
     "end_time": "2021-05-18T16:39:35.697115Z",
     "start_time": "2021-05-18T16:39:35.677139Z"
    }
   },
   "source": [
    "**- 지지도 0.5이상인 ITEMSETS 5건**\n",
    "\n",
    "지지도 해석 : 동일한 주에 X,Y 모두 대여될 확률"
   ]
  },
  {
   "cell_type": "code",
   "execution_count": null,
   "metadata": {},
   "outputs": [],
   "source": []
  },
  {
   "cell_type": "code",
   "execution_count": null,
   "metadata": {},
   "outputs": [],
   "source": []
  },
  {
   "cell_type": "markdown",
   "metadata": {},
   "source": [
    "### EDA 2차\n",
    "1. 2021년 전후로 구분\t: 동섭, 낙주\n",
    "2. 구매건수에 따라 구분 : 재환, 지인\n",
    "3. 1,2,3월 구매유저로 구분 : 찬서, 준식\n",
    "\n",
    "\n",
    "1. 구매 소요 시간 분석\n",
    "    - 가입일로부터 구매일까지 전환된 소요시간 분석 (최근 3개월, 월별 변동사항, 트렌드)\n",
    "    \n",
    "    ex. 가입 1일 이내 전환 유저 : 10% -> 15% 상승 성과\n",
    "\n",
    "\n",
    "2. 구매 상품 트렌드 분석\n",
    "\n",
    "    2-1. 유저당 주문 수량 분석 (최근 3개월, 월별 변동사항, 트렌드)\n",
    "    \n",
    "    2-2. 주문 아이템 분석\n",
    "        - 브랜드 별 선호도, 아이템 카테고리별 선호도 분석\n",
    "        - 신규 유저들의 구매 트렌드 파악\n",
    "\n",
    "\n",
    "3. 분석 내용 토대로 인사이트 도출\n",
    "\n",
    "    3-1. 분석 내용 도식화\n",
    "        - 1~2의 분석 내용 종합 및 도식화 (표 또는 그래프)\n",
    "        - 유사성을 갖는 결과에 대하여 그룹화\n",
    "    3-2. 인사이트 도출\n",
    "        - 인사이트 도출 혹은 새로운 제안사항 전달\n"
   ]
  },
  {
   "cell_type": "markdown",
   "metadata": {
    "ExecuteTime": {
     "end_time": "2021-05-18T16:30:49.840078Z",
     "start_time": "2021-05-18T16:30:49.821619Z"
    }
   },
   "source": [
    "#### 구매건수 기준 유저 분류 기반\n"
   ]
  },
  {
   "cell_type": "markdown",
   "metadata": {
    "ExecuteTime": {
     "end_time": "2021-05-18T16:30:49.840078Z",
     "start_time": "2021-05-18T16:30:49.821619Z"
    }
   },
   "source": [
    "#### 구매건수 기준 유저 분류 기반\n"
   ]
  },
  {
   "cell_type": "code",
   "execution_count": 182,
   "metadata": {
    "ExecuteTime": {
     "end_time": "2021-05-18T13:10:30.062994Z",
     "start_time": "2021-05-18T13:10:28.944904Z"
    }
   },
   "outputs": [
    {
     "data": {
      "text/plain": [
       "<matplotlib.axes._subplots.AxesSubplot at 0x1c79099f5f8>"
      ]
     },
     "execution_count": 182,
     "metadata": {},
     "output_type": "execute_result"
    },
    {
     "data": {
      "image/png": "[encoded data removed]",
      "text/plain": [
       "<Figure size 1440x360 with 1 Axes>"
      ]
     },
     "metadata": {},
     "output_type": "display_data"
    }
   ],
   "source": [
    "df.pivot_table(index='reg_yearmonth', \n",
    "               values='reg_date', \n",
    "            aggfunc='count').fillna(0).plot(kind='bar', rot=45, figsize=(20,5))"
   ]
  },
  {
   "cell_type": "markdown",
   "metadata": {
    "ExecuteTime": {
     "end_time": "2021-05-18T16:30:49.840078Z",
     "start_time": "2021-05-18T16:30:49.821619Z"
    }
   },
   "source": [
    "#### 월별 구매유저 분류 기반\n"
   ]
  },
  {
   "cell_type": "code",
   "execution_count": null,
   "metadata": {},
   "outputs": [],
   "source": []
  },
  {
   "cell_type": "code",
   "execution_count": null,
   "metadata": {},
   "outputs": [],
   "source": []
  }
 ],
 "metadata": {
  "kernelspec": {
   "display_name": "Python 3",
   "language": "python",
   "name": "python3"
  },
  "language_info": {
   "codemirror_mode": {
    "name": "ipython",
    "version": 3
   },
   "file_extension": ".py",
   "mimetype": "text/x-python",
   "name": "python",
   "nbconvert_exporter": "python",
   "pygments_lexer": "ipython3",
   "version": "3.7.3"
  },
  "latex_envs": {
   "LaTeX_envs_menu_present": true,
   "autoclose": true,
   "autocomplete": true,
   "bibliofile": "biblio.bib",
   "cite_by": "apalike",
   "current_citInitial": 1,
   "eqLabelWithNumbers": true,
   "eqNumInitial": 1,
   "hotkeys": {
    "equation": "Ctrl-E",
    "itemize": "Ctrl-I"
   },
   "labels_anchors": false,
   "latex_user_defs": false,
   "report_style_numbering": false,
   "user_envs_cfg": false
  },
  "toc": {
   "base_numbering": 1,
   "nav_menu": {},
   "number_sections": true,
   "sideBar": true,
   "skip_h1_title": false,
   "title_cell": "Table of Contents",
   "title_sidebar": "Contents",
   "toc_cell": false,
   "toc_position": {
    "height": "calc(100% - 180px)",
    "left": "10px",
    "top": "150px",
    "width": "318.224px"
   },
   "toc_section_display": true,
   "toc_window_display": true
  },
  "varInspector": {
   "cols": {
    "lenName": 16,
    "lenType": 16,
    "lenVar": 40
   },
   "kernels_config": {
    "python": {
     "delete_cmd_postfix": "",
     "delete_cmd_prefix": "del ",
     "library": "var_list.py",
     "varRefreshCmd": "print(var_dic_list())"
    },
    "r": {
     "delete_cmd_postfix": ") ",
     "delete_cmd_prefix": "rm(",
     "library": "var_list.r",
     "varRefreshCmd": "cat(var_dic_list()) "
    }
   },
   "types_to_exclude": [
    "module",
    "function",
    "builtin_function_or_method",
    "instance",
    "_Feature"
   ],
   "window_display": false
  }
 },
 "nbformat": 4,
 "nbformat_minor": 2
}
