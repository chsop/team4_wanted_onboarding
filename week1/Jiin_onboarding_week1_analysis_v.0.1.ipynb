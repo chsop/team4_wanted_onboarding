{
 "cells": [
  {
   "cell_type": "markdown",
   "metadata": {
    "heading_collapsed": true
   },
   "source": [
    "### 모듈 import"
   ]
  },
  {
   "cell_type": "code",
   "execution_count": 1,
   "metadata": {
    "hidden": true
   },
   "outputs": [],
   "source": [
    "import numpy as np\n",
    "import pandas as pd\n",
    "\n",
    "# visualization\n",
    "\n",
    "import matplotlib.pyplot as plt\n",
    "import seaborn as sns\n",
    "%matplotlib inline\n",
    "sns.set_style(style=\"white\")\n",
    "plt.rc('font', family='Malgun Gothic') \n",
    "plt.rcParams['figure.figsize'] = (10, 7)\n",
    "plt.rcParams['axes.unicode_minus'] = False    # minus\n",
    "\n",
    "# interactive\n",
    "import plotly.express as px\n",
    "import plotly.graph_objects as go\n",
    "from plotly.subplots import make_subplots\n",
    "\n",
    "import warnings\n",
    "warnings.filterwarnings('ignore')"
   ]
  },
  {
   "cell_type": "markdown",
   "metadata": {
    "heading_collapsed": true
   },
   "source": [
    "### 노트북 세팅"
   ]
  },
  {
   "cell_type": "code",
   "execution_count": 2,
   "metadata": {
    "hidden": true
   },
   "outputs": [],
   "source": [
    "# 노트북 세팅\n",
    "pd.options.display.float_format = '{:.2f}'.format"
   ]
  },
  {
   "cell_type": "markdown",
   "metadata": {
    "heading_collapsed": true
   },
   "source": [
    "## 유니콘 기업 재정의\n",
    "- 2021년 (누적) 기준으로 유니콘 기업으로 선정된 기업들 중 하기 7개 기업의 국민연금 데이터로 분석 방향을 설정함"
   ]
  },
  {
   "cell_type": "markdown",
   "metadata": {
    "hidden": true
   },
   "source": [
    "### 유니콘 기업으로 선정된 기업 정보 수집 \n",
    "- 출처 : https://www.data.go.kr/data/3046071/fileData.do\n",
    "- 수집 대상 기업 : 비바리퍼블리카, 쏘카, 무신사, 크래프톤, 야놀자, 에이프로젠, 지피클럽\n",
    "- 수집 대상 기간 : 2015-2019년 (매년 12월 데이터)"
   ]
  },
  {
   "cell_type": "code",
   "execution_count": null,
   "metadata": {
    "hidden": true
   },
   "outputs": [],
   "source": [
    "unicorn2019 = pd.read_csv(\"국민연금 가입 사업장 내역 2019년 12월.csv\", encoding='cp949')\n",
    "unicorn2018 = pd.read_csv(\"국민연금 가입 사업장 내역 2018년 12월.csv\", encoding='cp949')\n",
    "unicorn2017 = pd.read_csv(\"국민연금 가입 사업장 내역 2017년 12월.csv\", encoding='cp949')\n",
    "unicorn2016 = pd.read_csv(\"국민연금 가입 사업장 내역 2016년 12월.csv\", encoding='cp949')\n",
    "unicorn2015 = pd.read_csv(\"국민연금 가입 사업장 내역 2015년 12월.csv\", encoding='cp949')"
   ]
  },
  {
   "cell_type": "code",
   "execution_count": null,
   "metadata": {
    "hidden": true
   },
   "outputs": [],
   "source": [
    "df_unicorn=pd.DataFrame()\n",
    "unicorn_list = ['비바리퍼블리카$', '쏘카', '주식회사 무신사', '크래프톤', '.주.야놀자$', '.주.에이프로젠$', '지피클럽']\n",
    "for i in unicorn_list :\n",
    "    df_unicorn = df_unicorn.append(unicorn2019[unicorn2019['사업장명 WKPL_NM\\tVARCHAR(100)'].str.contains(i)])\n",
    "    df_unicorn = df_unicorn.append(unicorn2018[unicorn2018['사업장명 WKPL_NM\\tVARCHAR(100)'].str.contains(i)])\n",
    "    df_unicorn = df_unicorn.append(unicorn2017[unicorn2017['사업장명 WKPL_NM\\tVARCHAR(100)'].str.contains(i)])\n",
    "    df_unicorn = df_unicorn.append(unicorn2016[unicorn2016['사업장명 WKPL_NM\\tVARCHAR(100)'].str.contains(i)])\n",
    "    df_unicorn = df_unicorn.append(unicorn2015[unicorn2015['사업장명 WKPL_NM\\tVARCHAR(100)'].str.contains(i)])\n",
    "\n",
    "# 불필요한 컬럼 제거 및 인덱스 리셋\n",
    "df_unicorn.drop(df_unicorn.filter(regex='주소|가입상태|우편번호|등록번호|등록일자|사업장업종코드 WKPL|탈퇴일자|구분코드').columns , axis=1, inplace=True)\n",
    "df_unicorn = df_unicorn.reset_index().drop('index', axis=1)\n",
    "\n",
    "# 컬럼명 재지정\n",
    "unicorn_newcol = ['년월','사업장명','업종', '적용일자', '직원수', '연금보험료', '신규취득자수','상실가입자수' ]\n",
    "df_unicorn.columns = unicorn_newcol\n",
    "\n",
    "# 연도, 월 컬럼 생성\n",
    "df_unicorn[['년도','월']]=pd.DataFrame(df_unicorn['년월'].str.split('-',2).tolist())\n",
    "df_unicorn.drop(['년월','월'], axis=1, inplace=True)\n",
    "df_unicorn['년도'] = df_unicorn['년도'].astype('int64')\n",
    "\n",
    "# 7개 유니콘 기업 기본 정보 (trend 파악용)\n",
    "df_unicorn.to_csv('유니콘기업정보.csv')"
   ]
  },
  {
   "cell_type": "code",
   "execution_count": 187,
   "metadata": {
    "hidden": true,
    "scrolled": false
   },
   "outputs": [
    {
     "data": {
      "text/html": [
       "<div>\n",
       "<style scoped>\n",
       "    .dataframe tbody tr th:only-of-type {\n",
       "        vertical-align: middle;\n",
       "    }\n",
       "\n",
       "    .dataframe tbody tr th {\n",
       "        vertical-align: top;\n",
       "    }\n",
       "\n",
       "    .dataframe thead th {\n",
       "        text-align: right;\n",
       "    }\n",
       "</style>\n",
       "<table border=\"1\" class=\"dataframe\">\n",
       "  <thead>\n",
       "    <tr style=\"text-align: right;\">\n",
       "      <th></th>\n",
       "      <th>사업장명</th>\n",
       "      <th>업종</th>\n",
       "      <th>적용일자</th>\n",
       "      <th>직원수</th>\n",
       "      <th>연금보험료</th>\n",
       "      <th>신규취득자수</th>\n",
       "      <th>상실가입자수</th>\n",
       "      <th>년도</th>\n",
       "    </tr>\n",
       "  </thead>\n",
       "  <tbody>\n",
       "    <tr>\n",
       "      <th>0</th>\n",
       "      <td>（주）비바리퍼블리카</td>\n",
       "      <td>응용 소프트웨어 개발 및 공급업</td>\n",
       "      <td>2013-08-01</td>\n",
       "      <td>310</td>\n",
       "      <td>118457320</td>\n",
       "      <td>18</td>\n",
       "      <td>12</td>\n",
       "      <td>2019</td>\n",
       "    </tr>\n",
       "    <tr>\n",
       "      <th>1</th>\n",
       "      <td>（주）비바리퍼블리카</td>\n",
       "      <td>응용 소프트웨어 개발 및 공급업</td>\n",
       "      <td>2013-08-01</td>\n",
       "      <td>158</td>\n",
       "      <td>57709520</td>\n",
       "      <td>5</td>\n",
       "      <td>3</td>\n",
       "      <td>2018</td>\n",
       "    </tr>\n",
       "    <tr>\n",
       "      <th>2</th>\n",
       "      <td>（주）비바리퍼블리카</td>\n",
       "      <td>응용 소프트웨어 개발 및 공급업</td>\n",
       "      <td>2013-08-01</td>\n",
       "      <td>103</td>\n",
       "      <td>34070000</td>\n",
       "      <td>5</td>\n",
       "      <td>2</td>\n",
       "      <td>2017</td>\n",
       "    </tr>\n",
       "    <tr>\n",
       "      <th>3</th>\n",
       "      <td>（주）비바리퍼블리카</td>\n",
       "      <td>응용 소프트웨어 개발 및 공급업</td>\n",
       "      <td>2013-08-01</td>\n",
       "      <td>60</td>\n",
       "      <td>17035140</td>\n",
       "      <td>5</td>\n",
       "      <td>3</td>\n",
       "      <td>2016</td>\n",
       "    </tr>\n",
       "    <tr>\n",
       "      <th>4</th>\n",
       "      <td>（주）비바리퍼블리카</td>\n",
       "      <td>응용 소프트웨어 개발 및 공급업</td>\n",
       "      <td>2013-08-01</td>\n",
       "      <td>27</td>\n",
       "      <td>6171340</td>\n",
       "      <td>0</td>\n",
       "      <td>2</td>\n",
       "      <td>2015</td>\n",
       "    </tr>\n",
       "  </tbody>\n",
       "</table>\n",
       "</div>"
      ],
      "text/plain": [
       "         사업장명                 업종        적용일자  직원수      연금보험료  신규취득자수  상실가입자수  \\\n",
       "0  （주）비바리퍼블리카  응용 소프트웨어 개발 및 공급업  2013-08-01  310  118457320      18      12   \n",
       "1  （주）비바리퍼블리카  응용 소프트웨어 개발 및 공급업  2013-08-01  158   57709520       5       3   \n",
       "2  （주）비바리퍼블리카  응용 소프트웨어 개발 및 공급업  2013-08-01  103   34070000       5       2   \n",
       "3  （주）비바리퍼블리카  응용 소프트웨어 개발 및 공급업  2013-08-01   60   17035140       5       3   \n",
       "4  （주）비바리퍼블리카  응용 소프트웨어 개발 및 공급업  2013-08-01   27    6171340       0       2   \n",
       "\n",
       "     년도  \n",
       "0  2019  \n",
       "1  2018  \n",
       "2  2017  \n",
       "3  2016  \n",
       "4  2015  "
      ]
     },
     "execution_count": 187,
     "metadata": {},
     "output_type": "execute_result"
    }
   ],
   "source": [
    "df_unicorn = pd.read_csv('유니콘기업정보.csv').drop('Unnamed: 0', axis=1)\n",
    "df_unicorn.head()"
   ]
  },
  {
   "cell_type": "code",
   "execution_count": 188,
   "metadata": {
    "hidden": true
   },
   "outputs": [
    {
     "data": {
      "text/plain": [
       "사업장명\n",
       "(주)야놀자        5\n",
       "(주)에이프로젠      5\n",
       "(주)크래프톤       5\n",
       "주식회사 무신사      5\n",
       "주식회사쏘카        5\n",
       "（주）비바리퍼블리카    5\n",
       "（주）지피클럽       5\n",
       "Name: 년도, dtype: int64"
      ]
     },
     "execution_count": 188,
     "metadata": {},
     "output_type": "execute_result"
    }
   ],
   "source": [
    "# 데이터 보유 기간 동일\n",
    "df_unicorn.groupby('사업장명').count()['년도']"
   ]
  },
  {
   "cell_type": "code",
   "execution_count": 189,
   "metadata": {
    "hidden": true,
    "scrolled": true
   },
   "outputs": [
    {
     "data": {
      "text/plain": [
       "<matplotlib.axes._subplots.AxesSubplot at 0x130c63f6e80>"
      ]
     },
     "execution_count": 189,
     "metadata": {},
     "output_type": "execute_result"
    },
    {
     "data": {
      "image/png": "[encoded data removed]",
      "text/plain": [
       "<Figure size 936x432 with 2 Axes>"
      ]
     },
     "metadata": {
      "needs_background": "light"
     },
     "output_type": "display_data"
    }
   ],
   "source": [
    "fig, axes = plt.subplots(ncols=2, figsize=(13,6), sharex=True, sharey=True)\n",
    "\n",
    "sns.lineplot(data = df_unicorn[['사업장명','직원수','년도']], x='년도', y='직원수', ax=axes[0])\n",
    "sns.lineplot(data = df_unicorn[['사업장명','직원수','년도']], x='년도', y='직원수', hue='사업장명', ax=axes[1])"
   ]
  },
  {
   "cell_type": "code",
   "execution_count": 190,
   "metadata": {
    "hidden": true,
    "scrolled": true
   },
   "outputs": [
    {
     "data": {
      "application/vnd.plotly.v1+json": {
       "config": {
        "plotlyServerURL": "https://plot.ly"
       },
       "data": [
        {
         "hovertemplate": "<b>%{hovertext}</b><br><br>사업장명=（주）비바리퍼블리카<br>년도=%{x}<br>직원수=%{y}<extra></extra>",
         "hovertext": [
          "（주）비바리퍼블리카",
          "（주）비바리퍼블리카",
          "（주）비바리퍼블리카",
          "（주）비바리퍼블리카",
          "（주）비바리퍼블리카"
         ],
         "legendgroup": "（주）비바리퍼블리카",
         "line": {
          "color": "#636efa",
          "dash": "solid"
         },
         "mode": "lines",
         "name": "（주）비바리퍼블리카",
         "orientation": "v",
         "showlegend": true,
         "type": "scatter",
         "x": [
          2019,
          2018,
          2017,
          2016,
          2015
         ],
         "xaxis": "x",
         "y": [
          310,
          158,
          103,
          60,
          27
         ],
         "yaxis": "y"
        },
        {
         "hovertemplate": "<b>%{hovertext}</b><br><br>사업장명=주식회사쏘카<br>년도=%{x}<br>직원수=%{y}<extra></extra>",
         "hovertext": [
          "주식회사쏘카",
          "주식회사쏘카",
          "주식회사쏘카",
          "주식회사쏘카",
          "주식회사쏘카"
         ],
         "legendgroup": "주식회사쏘카",
         "line": {
          "color": "#EF553B",
          "dash": "solid"
         },
         "mode": "lines",
         "name": "주식회사쏘카",
         "orientation": "v",
         "showlegend": true,
         "type": "scatter",
         "x": [
          2019,
          2018,
          2017,
          2016,
          2015
         ],
         "xaxis": "x",
         "y": [
          364,
          281,
          287,
          271,
          89
         ],
         "yaxis": "y"
        },
        {
         "hovertemplate": "<b>%{hovertext}</b><br><br>사업장명=주식회사 무신사<br>년도=%{x}<br>직원수=%{y}<extra></extra>",
         "hovertext": [
          "주식회사 무신사",
          "주식회사 무신사",
          "주식회사 무신사",
          "주식회사 무신사",
          "주식회사 무신사"
         ],
         "legendgroup": "주식회사 무신사",
         "line": {
          "color": "#00cc96",
          "dash": "solid"
         },
         "mode": "lines",
         "name": "주식회사 무신사",
         "orientation": "v",
         "showlegend": true,
         "type": "scatter",
         "x": [
          2019,
          2018,
          2017,
          2016,
          2015
         ],
         "xaxis": "x",
         "y": [
          332,
          174,
          100,
          84,
          61
         ],
         "yaxis": "y"
        },
        {
         "hovertemplate": "<b>%{hovertext}</b><br><br>사업장명=(주)크래프톤<br>년도=%{x}<br>직원수=%{y}<extra></extra>",
         "hovertext": [
          "(주)크래프톤",
          "(주)크래프톤",
          "(주)크래프톤",
          "(주)크래프톤",
          "(주)크래프톤"
         ],
         "legendgroup": "(주)크래프톤",
         "line": {
          "color": "#ab63fa",
          "dash": "solid"
         },
         "mode": "lines",
         "name": "(주)크래프톤",
         "orientation": "v",
         "showlegend": true,
         "type": "scatter",
         "x": [
          2019,
          2018,
          2017,
          2016,
          2015
         ],
         "xaxis": "x",
         "y": [
          718,
          570,
          404,
          257,
          244
         ],
         "yaxis": "y"
        },
        {
         "hovertemplate": "<b>%{hovertext}</b><br><br>사업장명=(주)야놀자<br>년도=%{x}<br>직원수=%{y}<extra></extra>",
         "hovertext": [
          "(주)야놀자",
          "(주)야놀자",
          "(주)야놀자",
          "(주)야놀자",
          "(주)야놀자"
         ],
         "legendgroup": "(주)야놀자",
         "line": {
          "color": "#FFA15A",
          "dash": "solid"
         },
         "mode": "lines",
         "name": "(주)야놀자",
         "orientation": "v",
         "showlegend": true,
         "type": "scatter",
         "x": [
          2019,
          2018,
          2017,
          2016,
          2015
         ],
         "xaxis": "x",
         "y": [
          752,
          414,
          281,
          218,
          130
         ],
         "yaxis": "y"
        },
        {
         "hovertemplate": "<b>%{hovertext}</b><br><br>사업장명=(주)에이프로젠<br>년도=%{x}<br>직원수=%{y}<extra></extra>",
         "hovertext": [
          "(주)에이프로젠",
          "(주)에이프로젠",
          "(주)에이프로젠",
          "(주)에이프로젠",
          "(주)에이프로젠"
         ],
         "legendgroup": "(주)에이프로젠",
         "line": {
          "color": "#19d3f3",
          "dash": "solid"
         },
         "mode": "lines",
         "name": "(주)에이프로젠",
         "orientation": "v",
         "showlegend": true,
         "type": "scatter",
         "x": [
          2019,
          2018,
          2017,
          2016,
          2015
         ],
         "xaxis": "x",
         "y": [
          178,
          128,
          145,
          119,
          85
         ],
         "yaxis": "y"
        },
        {
         "hovertemplate": "<b>%{hovertext}</b><br><br>사업장명=（주）지피클럽<br>년도=%{x}<br>직원수=%{y}<extra></extra>",
         "hovertext": [
          "（주）지피클럽",
          "（주）지피클럽",
          "（주）지피클럽",
          "（주）지피클럽",
          "（주）지피클럽"
         ],
         "legendgroup": "（주）지피클럽",
         "line": {
          "color": "#FF6692",
          "dash": "solid"
         },
         "mode": "lines",
         "name": "（주）지피클럽",
         "orientation": "v",
         "showlegend": true,
         "type": "scatter",
         "x": [
          2019,
          2018,
          2017,
          2016,
          2015
         ],
         "xaxis": "x",
         "y": [
          113,
          47,
          12,
          13,
          8
         ],
         "yaxis": "y"
        }
       ],
       "layout": {
        "autosize": false,
        "height": 500,
        "legend": {
         "title": {
          "text": "사업장명"
         },
         "tracegroupgap": 0
        },
        "template": {
         "data": {
          "bar": [
           {
            "error_x": {
             "color": "#2a3f5f"
            },
            "error_y": {
             "color": "#2a3f5f"
            },
            "marker": {
             "line": {
              "color": "#E5ECF6",
              "width": 0.5
             }
            },
            "type": "bar"
           }
          ],
          "barpolar": [
           {
            "marker": {
             "line": {
              "color": "#E5ECF6",
              "width": 0.5
             }
            },
            "type": "barpolar"
           }
          ],
          "carpet": [
           {
            "aaxis": {
             "endlinecolor": "#2a3f5f",
             "gridcolor": "white",
             "linecolor": "white",
             "minorgridcolor": "white",
             "startlinecolor": "#2a3f5f"
            },
            "baxis": {
             "endlinecolor": "#2a3f5f",
             "gridcolor": "white",
             "linecolor": "white",
             "minorgridcolor": "white",
             "startlinecolor": "#2a3f5f"
            },
            "type": "carpet"
           }
          ],
          "choropleth": [
           {
            "colorbar": {
             "outlinewidth": 0,
             "ticks": ""
            },
            "type": "choropleth"
           }
          ],
          "contour": [
           {
            "colorbar": {
             "outlinewidth": 0,
             "ticks": ""
            },
            "colorscale": [
             [
              0,
              "#0d0887"
             ],
             [
              0.1111111111111111,
              "#46039f"
             ],
             [
              0.2222222222222222,
              "#7201a8"
             ],
             [
              0.3333333333333333,
              "#9c179e"
             ],
             [
              0.4444444444444444,
              "#bd3786"
             ],
             [
              0.5555555555555556,
              "#d8576b"
             ],
             [
              0.6666666666666666,
              "#ed7953"
             ],
             [
              0.7777777777777778,
              "#fb9f3a"
             ],
             [
              0.8888888888888888,
              "#fdca26"
             ],
             [
              1,
              "#f0f921"
             ]
            ],
            "type": "contour"
           }
          ],
          "contourcarpet": [
           {
            "colorbar": {
             "outlinewidth": 0,
             "ticks": ""
            },
            "type": "contourcarpet"
           }
          ],
          "heatmap": [
           {
            "colorbar": {
             "outlinewidth": 0,
             "ticks": ""
            },
            "colorscale": [
             [
              0,
              "#0d0887"
             ],
             [
              0.1111111111111111,
              "#46039f"
             ],
             [
              0.2222222222222222,
              "#7201a8"
             ],
             [
              0.3333333333333333,
              "#9c179e"
             ],
             [
              0.4444444444444444,
              "#bd3786"
             ],
             [
              0.5555555555555556,
              "#d8576b"
             ],
             [
              0.6666666666666666,
              "#ed7953"
             ],
             [
              0.7777777777777778,
              "#fb9f3a"
             ],
             [
              0.8888888888888888,
              "#fdca26"
             ],
             [
              1,
              "#f0f921"
             ]
            ],
            "type": "heatmap"
           }
          ],
          "heatmapgl": [
           {
            "colorbar": {
             "outlinewidth": 0,
             "ticks": ""
            },
            "colorscale": [
             [
              0,
              "#0d0887"
             ],
             [
              0.1111111111111111,
              "#46039f"
             ],
             [
              0.2222222222222222,
              "#7201a8"
             ],
             [
              0.3333333333333333,
              "#9c179e"
             ],
             [
              0.4444444444444444,
              "#bd3786"
             ],
             [
              0.5555555555555556,
              "#d8576b"
             ],
             [
              0.6666666666666666,
              "#ed7953"
             ],
             [
              0.7777777777777778,
              "#fb9f3a"
             ],
             [
              0.8888888888888888,
              "#fdca26"
             ],
             [
              1,
              "#f0f921"
             ]
            ],
            "type": "heatmapgl"
           }
          ],
          "histogram": [
           {
            "marker": {
             "colorbar": {
              "outlinewidth": 0,
              "ticks": ""
             }
            },
            "type": "histogram"
           }
          ],
          "histogram2d": [
           {
            "colorbar": {
             "outlinewidth": 0,
             "ticks": ""
            },
            "colorscale": [
             [
              0,
              "#0d0887"
             ],
             [
              0.1111111111111111,
              "#46039f"
             ],
             [
              0.2222222222222222,
              "#7201a8"
             ],
             [
              0.3333333333333333,
              "#9c179e"
             ],
             [
              0.4444444444444444,
              "#bd3786"
             ],
             [
              0.5555555555555556,
              "#d8576b"
             ],
             [
              0.6666666666666666,
              "#ed7953"
             ],
             [
              0.7777777777777778,
              "#fb9f3a"
             ],
             [
              0.8888888888888888,
              "#fdca26"
             ],
             [
              1,
              "#f0f921"
             ]
            ],
            "type": "histogram2d"
           }
          ],
          "histogram2dcontour": [
           {
            "colorbar": {
             "outlinewidth": 0,
             "ticks": ""
            },
            "colorscale": [
             [
              0,
              "#0d0887"
             ],
             [
              0.1111111111111111,
              "#46039f"
             ],
             [
              0.2222222222222222,
              "#7201a8"
             ],
             [
              0.3333333333333333,
              "#9c179e"
             ],
             [
              0.4444444444444444,
              "#bd3786"
             ],
             [
              0.5555555555555556,
              "#d8576b"
             ],
             [
              0.6666666666666666,
              "#ed7953"
             ],
             [
              0.7777777777777778,
              "#fb9f3a"
             ],
             [
              0.8888888888888888,
              "#fdca26"
             ],
             [
              1,
              "#f0f921"
             ]
            ],
            "type": "histogram2dcontour"
           }
          ],
          "mesh3d": [
           {
            "colorbar": {
             "outlinewidth": 0,
             "ticks": ""
            },
            "type": "mesh3d"
           }
          ],
          "parcoords": [
           {
            "line": {
             "colorbar": {
              "outlinewidth": 0,
              "ticks": ""
             }
            },
            "type": "parcoords"
           }
          ],
          "pie": [
           {
            "automargin": true,
            "type": "pie"
           }
          ],
          "scatter": [
           {
            "marker": {
             "colorbar": {
              "outlinewidth": 0,
              "ticks": ""
             }
            },
            "type": "scatter"
           }
          ],
          "scatter3d": [
           {
            "line": {
             "colorbar": {
              "outlinewidth": 0,
              "ticks": ""
             }
            },
            "marker": {
             "colorbar": {
              "outlinewidth": 0,
              "ticks": ""
             }
            },
            "type": "scatter3d"
           }
          ],
          "scattercarpet": [
           {
            "marker": {
             "colorbar": {
              "outlinewidth": 0,
              "ticks": ""
             }
            },
            "type": "scattercarpet"
           }
          ],
          "scattergeo": [
           {
            "marker": {
             "colorbar": {
              "outlinewidth": 0,
              "ticks": ""
             }
            },
            "type": "scattergeo"
           }
          ],
          "scattergl": [
           {
            "marker": {
             "colorbar": {
              "outlinewidth": 0,
              "ticks": ""
             }
            },
            "type": "scattergl"
           }
          ],
          "scattermapbox": [
           {
            "marker": {
             "colorbar": {
              "outlinewidth": 0,
              "ticks": ""
             }
            },
            "type": "scattermapbox"
           }
          ],
          "scatterpolar": [
           {
            "marker": {
             "colorbar": {
              "outlinewidth": 0,
              "ticks": ""
             }
            },
            "type": "scatterpolar"
           }
          ],
          "scatterpolargl": [
           {
            "marker": {
             "colorbar": {
              "outlinewidth": 0,
              "ticks": ""
             }
            },
            "type": "scatterpolargl"
           }
          ],
          "scatterternary": [
           {
            "marker": {
             "colorbar": {
              "outlinewidth": 0,
              "ticks": ""
             }
            },
            "type": "scatterternary"
           }
          ],
          "surface": [
           {
            "colorbar": {
             "outlinewidth": 0,
             "ticks": ""
            },
            "colorscale": [
             [
              0,
              "#0d0887"
             ],
             [
              0.1111111111111111,
              "#46039f"
             ],
             [
              0.2222222222222222,
              "#7201a8"
             ],
             [
              0.3333333333333333,
              "#9c179e"
             ],
             [
              0.4444444444444444,
              "#bd3786"
             ],
             [
              0.5555555555555556,
              "#d8576b"
             ],
             [
              0.6666666666666666,
              "#ed7953"
             ],
             [
              0.7777777777777778,
              "#fb9f3a"
             ],
             [
              0.8888888888888888,
              "#fdca26"
             ],
             [
              1,
              "#f0f921"
             ]
            ],
            "type": "surface"
           }
          ],
          "table": [
           {
            "cells": {
             "fill": {
              "color": "#EBF0F8"
             },
             "line": {
              "color": "white"
             }
            },
            "header": {
             "fill": {
              "color": "#C8D4E3"
             },
             "line": {
              "color": "white"
             }
            },
            "type": "table"
           }
          ]
         },
         "layout": {
          "annotationdefaults": {
           "arrowcolor": "#2a3f5f",
           "arrowhead": 0,
           "arrowwidth": 1
          },
          "autotypenumbers": "strict",
          "coloraxis": {
           "colorbar": {
            "outlinewidth": 0,
            "ticks": ""
           }
          },
          "colorscale": {
           "diverging": [
            [
             0,
             "#8e0152"
            ],
            [
             0.1,
             "#c51b7d"
            ],
            [
             0.2,
             "#de77ae"
            ],
            [
             0.3,
             "#f1b6da"
            ],
            [
             0.4,
             "#fde0ef"
            ],
            [
             0.5,
             "#f7f7f7"
            ],
            [
             0.6,
             "#e6f5d0"
            ],
            [
             0.7,
             "#b8e186"
            ],
            [
             0.8,
             "#7fbc41"
            ],
            [
             0.9,
             "#4d9221"
            ],
            [
             1,
             "#276419"
            ]
           ],
           "sequential": [
            [
             0,
             "#0d0887"
            ],
            [
             0.1111111111111111,
             "#46039f"
            ],
            [
             0.2222222222222222,
             "#7201a8"
            ],
            [
             0.3333333333333333,
             "#9c179e"
            ],
            [
             0.4444444444444444,
             "#bd3786"
            ],
            [
             0.5555555555555556,
             "#d8576b"
            ],
            [
             0.6666666666666666,
             "#ed7953"
            ],
            [
             0.7777777777777778,
             "#fb9f3a"
            ],
            [
             0.8888888888888888,
             "#fdca26"
            ],
            [
             1,
             "#f0f921"
            ]
           ],
           "sequentialminus": [
            [
             0,
             "#0d0887"
            ],
            [
             0.1111111111111111,
             "#46039f"
            ],
            [
             0.2222222222222222,
             "#7201a8"
            ],
            [
             0.3333333333333333,
             "#9c179e"
            ],
            [
             0.4444444444444444,
             "#bd3786"
            ],
            [
             0.5555555555555556,
             "#d8576b"
            ],
            [
             0.6666666666666666,
             "#ed7953"
            ],
            [
             0.7777777777777778,
             "#fb9f3a"
            ],
            [
             0.8888888888888888,
             "#fdca26"
            ],
            [
             1,
             "#f0f921"
            ]
           ]
          },
          "colorway": [
           "#636efa",
           "#EF553B",
           "#00cc96",
           "#ab63fa",
           "#FFA15A",
           "#19d3f3",
           "#FF6692",
           "#B6E880",
           "#FF97FF",
           "#FECB52"
          ],
          "font": {
           "color": "#2a3f5f"
          },
          "geo": {
           "bgcolor": "white",
           "lakecolor": "white",
           "landcolor": "#E5ECF6",
           "showlakes": true,
           "showland": true,
           "subunitcolor": "white"
          },
          "hoverlabel": {
           "align": "left"
          },
          "hovermode": "closest",
          "mapbox": {
           "style": "light"
          },
          "paper_bgcolor": "white",
          "plot_bgcolor": "#E5ECF6",
          "polar": {
           "angularaxis": {
            "gridcolor": "white",
            "linecolor": "white",
            "ticks": ""
           },
           "bgcolor": "#E5ECF6",
           "radialaxis": {
            "gridcolor": "white",
            "linecolor": "white",
            "ticks": ""
           }
          },
          "scene": {
           "xaxis": {
            "backgroundcolor": "#E5ECF6",
            "gridcolor": "white",
            "gridwidth": 2,
            "linecolor": "white",
            "showbackground": true,
            "ticks": "",
            "zerolinecolor": "white"
           },
           "yaxis": {
            "backgroundcolor": "#E5ECF6",
            "gridcolor": "white",
            "gridwidth": 2,
            "linecolor": "white",
            "showbackground": true,
            "ticks": "",
            "zerolinecolor": "white"
           },
           "zaxis": {
            "backgroundcolor": "#E5ECF6",
            "gridcolor": "white",
            "gridwidth": 2,
            "linecolor": "white",
            "showbackground": true,
            "ticks": "",
            "zerolinecolor": "white"
           }
          },
          "shapedefaults": {
           "line": {
            "color": "#2a3f5f"
           }
          },
          "ternary": {
           "aaxis": {
            "gridcolor": "white",
            "linecolor": "white",
            "ticks": ""
           },
           "baxis": {
            "gridcolor": "white",
            "linecolor": "white",
            "ticks": ""
           },
           "bgcolor": "#E5ECF6",
           "caxis": {
            "gridcolor": "white",
            "linecolor": "white",
            "ticks": ""
           }
          },
          "title": {
           "x": 0.05
          },
          "xaxis": {
           "automargin": true,
           "gridcolor": "white",
           "linecolor": "white",
           "ticks": "",
           "title": {
            "standoff": 15
           },
           "zerolinecolor": "white",
           "zerolinewidth": 2
          },
          "yaxis": {
           "automargin": true,
           "gridcolor": "white",
           "linecolor": "white",
           "ticks": "",
           "title": {
            "standoff": 15
           },
           "zerolinecolor": "white",
           "zerolinewidth": 2
          }
         }
        },
        "title": {
         "text": "유니콘 기업 연도별 국민연금 가입자 수"
        },
        "width": 600,
        "xaxis": {
         "anchor": "y",
         "domain": [
          0,
          1
         ],
         "title": {
          "text": "년도"
         }
        },
        "yaxis": {
         "anchor": "x",
         "domain": [
          0,
          1
         ],
         "title": {
          "text": "직원수"
         }
        }
       }
      },
      "text/html": [
       "<div>                            <div id=\"ad3a033a-5ba7-4e4a-97f1-b11fa6c91e21\" class=\"plotly-graph-div\" style=\"height:500px; width:600px;\"></div>            <script type=\"text/javascript\">                require([\"plotly\"], function(Plotly) {                    window.PLOTLYENV=window.PLOTLYENV || {};                                    if (document.getElementById(\"ad3a033a-5ba7-4e4a-97f1-b11fa6c91e21\")) {                    Plotly.newPlot(                        \"ad3a033a-5ba7-4e4a-97f1-b11fa6c91e21\",                        [{\"hovertemplate\": \"<b>%{hovertext}</b><br><br>\\uc0ac\\uc5c5\\uc7a5\\uba85=\\uff08\\uc8fc\\uff09\\ube44\\ubc14\\ub9ac\\ud37c\\ube14\\ub9ac\\uce74<br>\\ub144\\ub3c4=%{x}<br>\\uc9c1\\uc6d0\\uc218=%{y}<extra></extra>\", \"hovertext\": [\"\\uff08\\uc8fc\\uff09\\ube44\\ubc14\\ub9ac\\ud37c\\ube14\\ub9ac\\uce74\", \"\\uff08\\uc8fc\\uff09\\ube44\\ubc14\\ub9ac\\ud37c\\ube14\\ub9ac\\uce74\", \"\\uff08\\uc8fc\\uff09\\ube44\\ubc14\\ub9ac\\ud37c\\ube14\\ub9ac\\uce74\", \"\\uff08\\uc8fc\\uff09\\ube44\\ubc14\\ub9ac\\ud37c\\ube14\\ub9ac\\uce74\", \"\\uff08\\uc8fc\\uff09\\ube44\\ubc14\\ub9ac\\ud37c\\ube14\\ub9ac\\uce74\"], \"legendgroup\": \"\\uff08\\uc8fc\\uff09\\ube44\\ubc14\\ub9ac\\ud37c\\ube14\\ub9ac\\uce74\", \"line\": {\"color\": \"#636efa\", \"dash\": \"solid\"}, \"mode\": \"lines\", \"name\": \"\\uff08\\uc8fc\\uff09\\ube44\\ubc14\\ub9ac\\ud37c\\ube14\\ub9ac\\uce74\", \"orientation\": \"v\", \"showlegend\": true, \"type\": \"scatter\", \"x\": [2019, 2018, 2017, 2016, 2015], \"xaxis\": \"x\", \"y\": [310, 158, 103, 60, 27], \"yaxis\": \"y\"}, {\"hovertemplate\": \"<b>%{hovertext}</b><br><br>\\uc0ac\\uc5c5\\uc7a5\\uba85=\\uc8fc\\uc2dd\\ud68c\\uc0ac\\uc3d8\\uce74<br>\\ub144\\ub3c4=%{x}<br>\\uc9c1\\uc6d0\\uc218=%{y}<extra></extra>\", \"hovertext\": [\"\\uc8fc\\uc2dd\\ud68c\\uc0ac\\uc3d8\\uce74\", \"\\uc8fc\\uc2dd\\ud68c\\uc0ac\\uc3d8\\uce74\", \"\\uc8fc\\uc2dd\\ud68c\\uc0ac\\uc3d8\\uce74\", \"\\uc8fc\\uc2dd\\ud68c\\uc0ac\\uc3d8\\uce74\", \"\\uc8fc\\uc2dd\\ud68c\\uc0ac\\uc3d8\\uce74\"], \"legendgroup\": \"\\uc8fc\\uc2dd\\ud68c\\uc0ac\\uc3d8\\uce74\", \"line\": {\"color\": \"#EF553B\", \"dash\": \"solid\"}, \"mode\": \"lines\", \"name\": \"\\uc8fc\\uc2dd\\ud68c\\uc0ac\\uc3d8\\uce74\", \"orientation\": \"v\", \"showlegend\": true, \"type\": \"scatter\", \"x\": [2019, 2018, 2017, 2016, 2015], \"xaxis\": \"x\", \"y\": [364, 281, 287, 271, 89], \"yaxis\": \"y\"}, {\"hovertemplate\": \"<b>%{hovertext}</b><br><br>\\uc0ac\\uc5c5\\uc7a5\\uba85=\\uc8fc\\uc2dd\\ud68c\\uc0ac \\ubb34\\uc2e0\\uc0ac<br>\\ub144\\ub3c4=%{x}<br>\\uc9c1\\uc6d0\\uc218=%{y}<extra></extra>\", \"hovertext\": [\"\\uc8fc\\uc2dd\\ud68c\\uc0ac \\ubb34\\uc2e0\\uc0ac\", \"\\uc8fc\\uc2dd\\ud68c\\uc0ac \\ubb34\\uc2e0\\uc0ac\", \"\\uc8fc\\uc2dd\\ud68c\\uc0ac \\ubb34\\uc2e0\\uc0ac\", \"\\uc8fc\\uc2dd\\ud68c\\uc0ac \\ubb34\\uc2e0\\uc0ac\", \"\\uc8fc\\uc2dd\\ud68c\\uc0ac \\ubb34\\uc2e0\\uc0ac\"], \"legendgroup\": \"\\uc8fc\\uc2dd\\ud68c\\uc0ac \\ubb34\\uc2e0\\uc0ac\", \"line\": {\"color\": \"#00cc96\", \"dash\": \"solid\"}, \"mode\": \"lines\", \"name\": \"\\uc8fc\\uc2dd\\ud68c\\uc0ac \\ubb34\\uc2e0\\uc0ac\", \"orientation\": \"v\", \"showlegend\": true, \"type\": \"scatter\", \"x\": [2019, 2018, 2017, 2016, 2015], \"xaxis\": \"x\", \"y\": [332, 174, 100, 84, 61], \"yaxis\": \"y\"}, {\"hovertemplate\": \"<b>%{hovertext}</b><br><br>\\uc0ac\\uc5c5\\uc7a5\\uba85=(\\uc8fc)\\ud06c\\ub798\\ud504\\ud1a4<br>\\ub144\\ub3c4=%{x}<br>\\uc9c1\\uc6d0\\uc218=%{y}<extra></extra>\", \"hovertext\": [\"(\\uc8fc)\\ud06c\\ub798\\ud504\\ud1a4\", \"(\\uc8fc)\\ud06c\\ub798\\ud504\\ud1a4\", \"(\\uc8fc)\\ud06c\\ub798\\ud504\\ud1a4\", \"(\\uc8fc)\\ud06c\\ub798\\ud504\\ud1a4\", \"(\\uc8fc)\\ud06c\\ub798\\ud504\\ud1a4\"], \"legendgroup\": \"(\\uc8fc)\\ud06c\\ub798\\ud504\\ud1a4\", \"line\": {\"color\": \"#ab63fa\", \"dash\": \"solid\"}, \"mode\": \"lines\", \"name\": \"(\\uc8fc)\\ud06c\\ub798\\ud504\\ud1a4\", \"orientation\": \"v\", \"showlegend\": true, \"type\": \"scatter\", \"x\": [2019, 2018, 2017, 2016, 2015], \"xaxis\": \"x\", \"y\": [718, 570, 404, 257, 244], \"yaxis\": \"y\"}, {\"hovertemplate\": \"<b>%{hovertext}</b><br><br>\\uc0ac\\uc5c5\\uc7a5\\uba85=(\\uc8fc)\\uc57c\\ub180\\uc790<br>\\ub144\\ub3c4=%{x}<br>\\uc9c1\\uc6d0\\uc218=%{y}<extra></extra>\", \"hovertext\": [\"(\\uc8fc)\\uc57c\\ub180\\uc790\", \"(\\uc8fc)\\uc57c\\ub180\\uc790\", \"(\\uc8fc)\\uc57c\\ub180\\uc790\", \"(\\uc8fc)\\uc57c\\ub180\\uc790\", \"(\\uc8fc)\\uc57c\\ub180\\uc790\"], \"legendgroup\": \"(\\uc8fc)\\uc57c\\ub180\\uc790\", \"line\": {\"color\": \"#FFA15A\", \"dash\": \"solid\"}, \"mode\": \"lines\", \"name\": \"(\\uc8fc)\\uc57c\\ub180\\uc790\", \"orientation\": \"v\", \"showlegend\": true, \"type\": \"scatter\", \"x\": [2019, 2018, 2017, 2016, 2015], \"xaxis\": \"x\", \"y\": [752, 414, 281, 218, 130], \"yaxis\": \"y\"}, {\"hovertemplate\": \"<b>%{hovertext}</b><br><br>\\uc0ac\\uc5c5\\uc7a5\\uba85=(\\uc8fc)\\uc5d0\\uc774\\ud504\\ub85c\\uc820<br>\\ub144\\ub3c4=%{x}<br>\\uc9c1\\uc6d0\\uc218=%{y}<extra></extra>\", \"hovertext\": [\"(\\uc8fc)\\uc5d0\\uc774\\ud504\\ub85c\\uc820\", \"(\\uc8fc)\\uc5d0\\uc774\\ud504\\ub85c\\uc820\", \"(\\uc8fc)\\uc5d0\\uc774\\ud504\\ub85c\\uc820\", \"(\\uc8fc)\\uc5d0\\uc774\\ud504\\ub85c\\uc820\", \"(\\uc8fc)\\uc5d0\\uc774\\ud504\\ub85c\\uc820\"], \"legendgroup\": \"(\\uc8fc)\\uc5d0\\uc774\\ud504\\ub85c\\uc820\", \"line\": {\"color\": \"#19d3f3\", \"dash\": \"solid\"}, \"mode\": \"lines\", \"name\": \"(\\uc8fc)\\uc5d0\\uc774\\ud504\\ub85c\\uc820\", \"orientation\": \"v\", \"showlegend\": true, \"type\": \"scatter\", \"x\": [2019, 2018, 2017, 2016, 2015], \"xaxis\": \"x\", \"y\": [178, 128, 145, 119, 85], \"yaxis\": \"y\"}, {\"hovertemplate\": \"<b>%{hovertext}</b><br><br>\\uc0ac\\uc5c5\\uc7a5\\uba85=\\uff08\\uc8fc\\uff09\\uc9c0\\ud53c\\ud074\\ub7fd<br>\\ub144\\ub3c4=%{x}<br>\\uc9c1\\uc6d0\\uc218=%{y}<extra></extra>\", \"hovertext\": [\"\\uff08\\uc8fc\\uff09\\uc9c0\\ud53c\\ud074\\ub7fd\", \"\\uff08\\uc8fc\\uff09\\uc9c0\\ud53c\\ud074\\ub7fd\", \"\\uff08\\uc8fc\\uff09\\uc9c0\\ud53c\\ud074\\ub7fd\", \"\\uff08\\uc8fc\\uff09\\uc9c0\\ud53c\\ud074\\ub7fd\", \"\\uff08\\uc8fc\\uff09\\uc9c0\\ud53c\\ud074\\ub7fd\"], \"legendgroup\": \"\\uff08\\uc8fc\\uff09\\uc9c0\\ud53c\\ud074\\ub7fd\", \"line\": {\"color\": \"#FF6692\", \"dash\": \"solid\"}, \"mode\": \"lines\", \"name\": \"\\uff08\\uc8fc\\uff09\\uc9c0\\ud53c\\ud074\\ub7fd\", \"orientation\": \"v\", \"showlegend\": true, \"type\": \"scatter\", \"x\": [2019, 2018, 2017, 2016, 2015], \"xaxis\": \"x\", \"y\": [113, 47, 12, 13, 8], \"yaxis\": \"y\"}],                        {\"autosize\": false, \"height\": 500, \"legend\": {\"title\": {\"text\": \"\\uc0ac\\uc5c5\\uc7a5\\uba85\"}, \"tracegroupgap\": 0}, \"template\": {\"data\": {\"bar\": [{\"error_x\": {\"color\": \"#2a3f5f\"}, \"error_y\": {\"color\": \"#2a3f5f\"}, \"marker\": {\"line\": {\"color\": \"#E5ECF6\", \"width\": 0.5}}, \"type\": \"bar\"}], \"barpolar\": [{\"marker\": {\"line\": {\"color\": \"#E5ECF6\", \"width\": 0.5}}, \"type\": \"barpolar\"}], \"carpet\": [{\"aaxis\": {\"endlinecolor\": \"#2a3f5f\", \"gridcolor\": \"white\", \"linecolor\": \"white\", \"minorgridcolor\": \"white\", \"startlinecolor\": \"#2a3f5f\"}, \"baxis\": {\"endlinecolor\": \"#2a3f5f\", \"gridcolor\": \"white\", \"linecolor\": \"white\", \"minorgridcolor\": \"white\", \"startlinecolor\": \"#2a3f5f\"}, \"type\": \"carpet\"}], \"choropleth\": [{\"colorbar\": {\"outlinewidth\": 0, \"ticks\": \"\"}, \"type\": \"choropleth\"}], \"contour\": [{\"colorbar\": {\"outlinewidth\": 0, \"ticks\": \"\"}, \"colorscale\": [[0.0, \"#0d0887\"], [0.1111111111111111, \"#46039f\"], [0.2222222222222222, \"#7201a8\"], [0.3333333333333333, \"#9c179e\"], [0.4444444444444444, \"#bd3786\"], [0.5555555555555556, \"#d8576b\"], [0.6666666666666666, \"#ed7953\"], [0.7777777777777778, \"#fb9f3a\"], [0.8888888888888888, \"#fdca26\"], [1.0, \"#f0f921\"]], \"type\": \"contour\"}], \"contourcarpet\": [{\"colorbar\": {\"outlinewidth\": 0, \"ticks\": \"\"}, \"type\": \"contourcarpet\"}], \"heatmap\": [{\"colorbar\": {\"outlinewidth\": 0, \"ticks\": \"\"}, \"colorscale\": [[0.0, \"#0d0887\"], [0.1111111111111111, \"#46039f\"], [0.2222222222222222, \"#7201a8\"], [0.3333333333333333, \"#9c179e\"], [0.4444444444444444, \"#bd3786\"], [0.5555555555555556, \"#d8576b\"], [0.6666666666666666, \"#ed7953\"], [0.7777777777777778, \"#fb9f3a\"], [0.8888888888888888, \"#fdca26\"], [1.0, \"#f0f921\"]], \"type\": \"heatmap\"}], \"heatmapgl\": [{\"colorbar\": {\"outlinewidth\": 0, \"ticks\": \"\"}, \"colorscale\": [[0.0, \"#0d0887\"], [0.1111111111111111, \"#46039f\"], [0.2222222222222222, \"#7201a8\"], [0.3333333333333333, \"#9c179e\"], [0.4444444444444444, \"#bd3786\"], [0.5555555555555556, \"#d8576b\"], [0.6666666666666666, \"#ed7953\"], [0.7777777777777778, \"#fb9f3a\"], [0.8888888888888888, \"#fdca26\"], [1.0, \"#f0f921\"]], \"type\": \"heatmapgl\"}], \"histogram\": [{\"marker\": {\"colorbar\": {\"outlinewidth\": 0, \"ticks\": \"\"}}, \"type\": \"histogram\"}], \"histogram2d\": [{\"colorbar\": {\"outlinewidth\": 0, \"ticks\": \"\"}, \"colorscale\": [[0.0, \"#0d0887\"], [0.1111111111111111, \"#46039f\"], [0.2222222222222222, \"#7201a8\"], [0.3333333333333333, \"#9c179e\"], [0.4444444444444444, \"#bd3786\"], [0.5555555555555556, \"#d8576b\"], [0.6666666666666666, \"#ed7953\"], [0.7777777777777778, \"#fb9f3a\"], [0.8888888888888888, \"#fdca26\"], [1.0, \"#f0f921\"]], \"type\": \"histogram2d\"}], \"histogram2dcontour\": [{\"colorbar\": {\"outlinewidth\": 0, \"ticks\": \"\"}, \"colorscale\": [[0.0, \"#0d0887\"], [0.1111111111111111, \"#46039f\"], [0.2222222222222222, \"#7201a8\"], [0.3333333333333333, \"#9c179e\"], [0.4444444444444444, \"#bd3786\"], [0.5555555555555556, \"#d8576b\"], [0.6666666666666666, \"#ed7953\"], [0.7777777777777778, \"#fb9f3a\"], [0.8888888888888888, \"#fdca26\"], [1.0, \"#f0f921\"]], \"type\": \"histogram2dcontour\"}], \"mesh3d\": [{\"colorbar\": {\"outlinewidth\": 0, \"ticks\": \"\"}, \"type\": \"mesh3d\"}], \"parcoords\": [{\"line\": {\"colorbar\": {\"outlinewidth\": 0, \"ticks\": \"\"}}, \"type\": \"parcoords\"}], \"pie\": [{\"automargin\": true, \"type\": \"pie\"}], \"scatter\": [{\"marker\": {\"colorbar\": {\"outlinewidth\": 0, \"ticks\": \"\"}}, \"type\": \"scatter\"}], \"scatter3d\": [{\"line\": {\"colorbar\": {\"outlinewidth\": 0, \"ticks\": \"\"}}, \"marker\": {\"colorbar\": {\"outlinewidth\": 0, \"ticks\": \"\"}}, \"type\": \"scatter3d\"}], \"scattercarpet\": [{\"marker\": {\"colorbar\": {\"outlinewidth\": 0, \"ticks\": \"\"}}, \"type\": \"scattercarpet\"}], \"scattergeo\": [{\"marker\": {\"colorbar\": {\"outlinewidth\": 0, \"ticks\": \"\"}}, \"type\": \"scattergeo\"}], \"scattergl\": [{\"marker\": {\"colorbar\": {\"outlinewidth\": 0, \"ticks\": \"\"}}, \"type\": \"scattergl\"}], \"scattermapbox\": [{\"marker\": {\"colorbar\": {\"outlinewidth\": 0, \"ticks\": \"\"}}, \"type\": \"scattermapbox\"}], \"scatterpolar\": [{\"marker\": {\"colorbar\": {\"outlinewidth\": 0, \"ticks\": \"\"}}, \"type\": \"scatterpolar\"}], \"scatterpolargl\": [{\"marker\": {\"colorbar\": {\"outlinewidth\": 0, \"ticks\": \"\"}}, \"type\": \"scatterpolargl\"}], \"scatterternary\": [{\"marker\": {\"colorbar\": {\"outlinewidth\": 0, \"ticks\": \"\"}}, \"type\": \"scatterternary\"}], \"surface\": [{\"colorbar\": {\"outlinewidth\": 0, \"ticks\": \"\"}, \"colorscale\": [[0.0, \"#0d0887\"], [0.1111111111111111, \"#46039f\"], [0.2222222222222222, \"#7201a8\"], [0.3333333333333333, \"#9c179e\"], [0.4444444444444444, \"#bd3786\"], [0.5555555555555556, \"#d8576b\"], [0.6666666666666666, \"#ed7953\"], [0.7777777777777778, \"#fb9f3a\"], [0.8888888888888888, \"#fdca26\"], [1.0, \"#f0f921\"]], \"type\": \"surface\"}], \"table\": [{\"cells\": {\"fill\": {\"color\": \"#EBF0F8\"}, \"line\": {\"color\": \"white\"}}, \"header\": {\"fill\": {\"color\": \"#C8D4E3\"}, \"line\": {\"color\": \"white\"}}, \"type\": \"table\"}]}, \"layout\": {\"annotationdefaults\": {\"arrowcolor\": \"#2a3f5f\", \"arrowhead\": 0, \"arrowwidth\": 1}, \"autotypenumbers\": \"strict\", \"coloraxis\": {\"colorbar\": {\"outlinewidth\": 0, \"ticks\": \"\"}}, \"colorscale\": {\"diverging\": [[0, \"#8e0152\"], [0.1, \"#c51b7d\"], [0.2, \"#de77ae\"], [0.3, \"#f1b6da\"], [0.4, \"#fde0ef\"], [0.5, \"#f7f7f7\"], [0.6, \"#e6f5d0\"], [0.7, \"#b8e186\"], [0.8, \"#7fbc41\"], [0.9, \"#4d9221\"], [1, \"#276419\"]], \"sequential\": [[0.0, \"#0d0887\"], [0.1111111111111111, \"#46039f\"], [0.2222222222222222, \"#7201a8\"], [0.3333333333333333, \"#9c179e\"], [0.4444444444444444, \"#bd3786\"], [0.5555555555555556, \"#d8576b\"], [0.6666666666666666, \"#ed7953\"], [0.7777777777777778, \"#fb9f3a\"], [0.8888888888888888, \"#fdca26\"], [1.0, \"#f0f921\"]], \"sequentialminus\": [[0.0, \"#0d0887\"], [0.1111111111111111, \"#46039f\"], [0.2222222222222222, \"#7201a8\"], [0.3333333333333333, \"#9c179e\"], [0.4444444444444444, \"#bd3786\"], [0.5555555555555556, \"#d8576b\"], [0.6666666666666666, \"#ed7953\"], [0.7777777777777778, \"#fb9f3a\"], [0.8888888888888888, \"#fdca26\"], [1.0, \"#f0f921\"]]}, \"colorway\": [\"#636efa\", \"#EF553B\", \"#00cc96\", \"#ab63fa\", \"#FFA15A\", \"#19d3f3\", \"#FF6692\", \"#B6E880\", \"#FF97FF\", \"#FECB52\"], \"font\": {\"color\": \"#2a3f5f\"}, \"geo\": {\"bgcolor\": \"white\", \"lakecolor\": \"white\", \"landcolor\": \"#E5ECF6\", \"showlakes\": true, \"showland\": true, \"subunitcolor\": \"white\"}, \"hoverlabel\": {\"align\": \"left\"}, \"hovermode\": \"closest\", \"mapbox\": {\"style\": \"light\"}, \"paper_bgcolor\": \"white\", \"plot_bgcolor\": \"#E5ECF6\", \"polar\": {\"angularaxis\": {\"gridcolor\": \"white\", \"linecolor\": \"white\", \"ticks\": \"\"}, \"bgcolor\": \"#E5ECF6\", \"radialaxis\": {\"gridcolor\": \"white\", \"linecolor\": \"white\", \"ticks\": \"\"}}, \"scene\": {\"xaxis\": {\"backgroundcolor\": \"#E5ECF6\", \"gridcolor\": \"white\", \"gridwidth\": 2, \"linecolor\": \"white\", \"showbackground\": true, \"ticks\": \"\", \"zerolinecolor\": \"white\"}, \"yaxis\": {\"backgroundcolor\": \"#E5ECF6\", \"gridcolor\": \"white\", \"gridwidth\": 2, \"linecolor\": \"white\", \"showbackground\": true, \"ticks\": \"\", \"zerolinecolor\": \"white\"}, \"zaxis\": {\"backgroundcolor\": \"#E5ECF6\", \"gridcolor\": \"white\", \"gridwidth\": 2, \"linecolor\": \"white\", \"showbackground\": true, \"ticks\": \"\", \"zerolinecolor\": \"white\"}}, \"shapedefaults\": {\"line\": {\"color\": \"#2a3f5f\"}}, \"ternary\": {\"aaxis\": {\"gridcolor\": \"white\", \"linecolor\": \"white\", \"ticks\": \"\"}, \"baxis\": {\"gridcolor\": \"white\", \"linecolor\": \"white\", \"ticks\": \"\"}, \"bgcolor\": \"#E5ECF6\", \"caxis\": {\"gridcolor\": \"white\", \"linecolor\": \"white\", \"ticks\": \"\"}}, \"title\": {\"x\": 0.05}, \"xaxis\": {\"automargin\": true, \"gridcolor\": \"white\", \"linecolor\": \"white\", \"ticks\": \"\", \"title\": {\"standoff\": 15}, \"zerolinecolor\": \"white\", \"zerolinewidth\": 2}, \"yaxis\": {\"automargin\": true, \"gridcolor\": \"white\", \"linecolor\": \"white\", \"ticks\": \"\", \"title\": {\"standoff\": 15}, \"zerolinecolor\": \"white\", \"zerolinewidth\": 2}}}, \"title\": {\"text\": \"\\uc720\\ub2c8\\ucf58 \\uae30\\uc5c5 \\uc5f0\\ub3c4\\ubcc4 \\uad6d\\ubbfc\\uc5f0\\uae08 \\uac00\\uc785\\uc790 \\uc218\"}, \"width\": 600, \"xaxis\": {\"anchor\": \"y\", \"domain\": [0.0, 1.0], \"title\": {\"text\": \"\\ub144\\ub3c4\"}}, \"yaxis\": {\"anchor\": \"x\", \"domain\": [0.0, 1.0], \"title\": {\"text\": \"\\uc9c1\\uc6d0\\uc218\"}}},                        {\"responsive\": true}                    ).then(function(){\n",
       "                            \n",
       "var gd = document.getElementById('ad3a033a-5ba7-4e4a-97f1-b11fa6c91e21');\n",
       "var x = new MutationObserver(function (mutations, observer) {{\n",
       "        var display = window.getComputedStyle(gd).display;\n",
       "        if (!display || display === 'none') {{\n",
       "            console.log([gd, 'removed!']);\n",
       "            Plotly.purge(gd);\n",
       "            observer.disconnect();\n",
       "        }}\n",
       "}});\n",
       "\n",
       "// Listen for the removal of the full notebook cells\n",
       "var notebookContainer = gd.closest('#notebook-container');\n",
       "if (notebookContainer) {{\n",
       "    x.observe(notebookContainer, {childList: true});\n",
       "}}\n",
       "\n",
       "// Listen for the clearing of the current output cell\n",
       "var outputEl = gd.closest('.output');\n",
       "if (outputEl) {{\n",
       "    x.observe(outputEl, {childList: true});\n",
       "}}\n",
       "\n",
       "                        })                };                });            </script>        </div>"
      ]
     },
     "metadata": {},
     "output_type": "display_data"
    }
   ],
   "source": [
    "# plotly\n",
    "fig = px.line(df_unicorn, x=\"년도\", y=\"직원수\", \n",
    "             title='유니콘 기업 연도별 국민연금 가입자 수',\n",
    "             color='사업장명',\n",
    "             line_group='사업장명',\n",
    "             hover_name='사업장명')\n",
    "fig.update_layout(\n",
    "    autosize=False,\n",
    "    width=600,\n",
    "    height=500)\n",
    "\n",
    "fig.show()"
   ]
  },
  {
   "cell_type": "code",
   "execution_count": 191,
   "metadata": {
    "hidden": true,
    "scrolled": false
   },
   "outputs": [
    {
     "data": {
      "text/html": [
       "<div>\n",
       "<style scoped>\n",
       "    .dataframe tbody tr th:only-of-type {\n",
       "        vertical-align: middle;\n",
       "    }\n",
       "\n",
       "    .dataframe tbody tr th {\n",
       "        vertical-align: top;\n",
       "    }\n",
       "\n",
       "    .dataframe thead th {\n",
       "        text-align: right;\n",
       "    }\n",
       "</style>\n",
       "<table border=\"1\" class=\"dataframe\">\n",
       "  <thead>\n",
       "    <tr style=\"text-align: right;\">\n",
       "      <th></th>\n",
       "      <th>사업장명</th>\n",
       "      <th>업종</th>\n",
       "      <th>적용일자</th>\n",
       "      <th>직원수</th>\n",
       "      <th>연금보험료</th>\n",
       "      <th>신규취득자수</th>\n",
       "      <th>상실가입자수</th>\n",
       "      <th>년도</th>\n",
       "      <th>성장율_직원수</th>\n",
       "      <th>기간내성장율_직원수</th>\n",
       "      <th>연평균성장율_직원수</th>\n",
       "      <th>valuation</th>\n",
       "    </tr>\n",
       "  </thead>\n",
       "  <tbody>\n",
       "    <tr>\n",
       "      <th>0</th>\n",
       "      <td>（주）비바리퍼블리카</td>\n",
       "      <td>응용 소프트웨어 개발 및 공급업</td>\n",
       "      <td>2013-08-01</td>\n",
       "      <td>310</td>\n",
       "      <td>118457320</td>\n",
       "      <td>18</td>\n",
       "      <td>12</td>\n",
       "      <td>2019</td>\n",
       "      <td>0.96</td>\n",
       "      <td>10.48</td>\n",
       "      <td>0.69</td>\n",
       "      <td>2.60</td>\n",
       "    </tr>\n",
       "  </tbody>\n",
       "</table>\n",
       "</div>"
      ],
      "text/plain": [
       "         사업장명                 업종        적용일자  직원수      연금보험료  신규취득자수  상실가입자수  \\\n",
       "0  （주）비바리퍼블리카  응용 소프트웨어 개발 및 공급업  2013-08-01  310  118457320      18      12   \n",
       "\n",
       "     년도  성장율_직원수  기간내성장율_직원수  연평균성장율_직원수  valuation  \n",
       "0  2019     0.96       10.48        0.69       2.60  "
      ]
     },
     "execution_count": 191,
     "metadata": {},
     "output_type": "execute_result"
    }
   ],
   "source": [
    "# 유니콘 기업별 직원수 연성장율 기업가치 파악\n",
    "df_unicorn_change = pd.DataFrame(df_unicorn.sort_values(['사업장명','년도']).groupby('사업장명')['직원수'].pct_change(periods=1)).rename(columns={'직원수':'성장율_직원수'}).fillna(0)\n",
    "df_unicorn_change_total = pd.DataFrame(df_unicorn.sort_values(['사업장명','년도']).groupby('사업장명')['직원수'].pct_change(periods=4)).rename(columns={'직원수':'기간내성장율_직원수'}).fillna(0)\n",
    "\n",
    "df_unicorn = df_unicorn.merge(df_unicorn_change,how='left', right_index=True,left_index=True)\n",
    "df_unicorn = df_unicorn.merge(df_unicorn_change_total, how='left', right_index=True,left_index=True)\n",
    "\n",
    "df_unicorn_growth = df_unicorn.groupby('사업장명').agg({'성장율_직원수':'mean'}).rename(columns={'성장율_직원수':'연평균성장율_직원수'})\n",
    "\n",
    "# valuation 정보 추가\n",
    "# valuation 정보는 유니콘 기업 선정시 공개자료 활용\n",
    "df_unicorn_growth['valuation']=list((1,1.04,5,2.2,1,2.6,1.32))\n",
    "\n",
    "# 유니콘 기업정보 최종 (직원수 - 성장율, 기간내성장율, 연평균성장율, valuation)\n",
    "df_unicorn = df_unicorn.merge(df_unicorn_growth, on='사업장명', how='left')\n",
    "df_unicorn.head(1)"
   ]
  },
  {
   "cell_type": "code",
   "execution_count": 52,
   "metadata": {
    "hidden": true,
    "scrolled": false
   },
   "outputs": [],
   "source": [
    "#df_unicorn[df_unicorn['년도']==2019].filter(regex='직원수|valuation|연금보험료').corr()['valuation']"
   ]
  },
  {
   "cell_type": "code",
   "execution_count": 192,
   "metadata": {
    "hidden": true,
    "scrolled": false
   },
   "outputs": [
    {
     "data": {
      "text/html": [
       "<div>\n",
       "<style scoped>\n",
       "    .dataframe tbody tr th:only-of-type {\n",
       "        vertical-align: middle;\n",
       "    }\n",
       "\n",
       "    .dataframe tbody tr th {\n",
       "        vertical-align: top;\n",
       "    }\n",
       "\n",
       "    .dataframe thead th {\n",
       "        text-align: right;\n",
       "    }\n",
       "</style>\n",
       "<table border=\"1\" class=\"dataframe\">\n",
       "  <thead>\n",
       "    <tr style=\"text-align: right;\">\n",
       "      <th></th>\n",
       "      <th>직원수</th>\n",
       "      <th>연금보험료</th>\n",
       "      <th>valuation</th>\n",
       "    </tr>\n",
       "  </thead>\n",
       "  <tbody>\n",
       "    <tr>\n",
       "      <th>직원수</th>\n",
       "      <td>1.00</td>\n",
       "      <td>0.98</td>\n",
       "      <td>0.36</td>\n",
       "    </tr>\n",
       "    <tr>\n",
       "      <th>연금보험료</th>\n",
       "      <td>0.98</td>\n",
       "      <td>1.00</td>\n",
       "      <td>0.44</td>\n",
       "    </tr>\n",
       "    <tr>\n",
       "      <th>valuation</th>\n",
       "      <td>0.36</td>\n",
       "      <td>0.44</td>\n",
       "      <td>1.00</td>\n",
       "    </tr>\n",
       "  </tbody>\n",
       "</table>\n",
       "</div>"
      ],
      "text/plain": [
       "           직원수  연금보험료  valuation\n",
       "직원수       1.00   0.98       0.36\n",
       "연금보험료     0.98   1.00       0.44\n",
       "valuation 0.36   0.44       1.00"
      ]
     },
     "execution_count": 192,
     "metadata": {},
     "output_type": "execute_result"
    }
   ],
   "source": [
    "df_unicorn.filter(regex='^직원수|연금보험료|valuation').corr()"
   ]
  },
  {
   "cell_type": "code",
   "execution_count": 197,
   "metadata": {
    "hidden": true,
    "scrolled": false
   },
   "outputs": [
    {
     "data": {
      "text/html": [
       "<div>\n",
       "<style scoped>\n",
       "    .dataframe tbody tr th:only-of-type {\n",
       "        vertical-align: middle;\n",
       "    }\n",
       "\n",
       "    .dataframe tbody tr th {\n",
       "        vertical-align: top;\n",
       "    }\n",
       "\n",
       "    .dataframe thead th {\n",
       "        text-align: right;\n",
       "    }\n",
       "</style>\n",
       "<table border=\"1\" class=\"dataframe\">\n",
       "  <thead>\n",
       "    <tr style=\"text-align: right;\">\n",
       "      <th></th>\n",
       "      <th>count</th>\n",
       "      <th>mean</th>\n",
       "      <th>std</th>\n",
       "      <th>min</th>\n",
       "      <th>25%</th>\n",
       "      <th>50%</th>\n",
       "      <th>75%</th>\n",
       "      <th>max</th>\n",
       "    </tr>\n",
       "  </thead>\n",
       "  <tbody>\n",
       "    <tr>\n",
       "      <th>성장율_직원수</th>\n",
       "      <td>35.00</td>\n",
       "      <td>0.50</td>\n",
       "      <td>0.63</td>\n",
       "      <td>-0.12</td>\n",
       "      <td>0.00</td>\n",
       "      <td>0.38</td>\n",
       "      <td>0.70</td>\n",
       "      <td>2.92</td>\n",
       "    </tr>\n",
       "    <tr>\n",
       "      <th>기간내성장율_직원수</th>\n",
       "      <td>35.00</td>\n",
       "      <td>1.11</td>\n",
       "      <td>2.95</td>\n",
       "      <td>0.00</td>\n",
       "      <td>0.00</td>\n",
       "      <td>0.00</td>\n",
       "      <td>0.00</td>\n",
       "      <td>13.12</td>\n",
       "    </tr>\n",
       "    <tr>\n",
       "      <th>연평균성장율_직원수</th>\n",
       "      <td>35.00</td>\n",
       "      <td>0.50</td>\n",
       "      <td>0.25</td>\n",
       "      <td>0.18</td>\n",
       "      <td>0.26</td>\n",
       "      <td>0.45</td>\n",
       "      <td>0.69</td>\n",
       "      <td>0.97</td>\n",
       "    </tr>\n",
       "  </tbody>\n",
       "</table>\n",
       "</div>"
      ],
      "text/plain": [
       "            count  mean  std   min  25%  50%  75%   max\n",
       "성장율_직원수     35.00  0.50 0.63 -0.12 0.00 0.38 0.70  2.92\n",
       "기간내성장율_직원수  35.00  1.11 2.95  0.00 0.00 0.00 0.00 13.12\n",
       "연평균성장율_직원수  35.00  0.50 0.25  0.18 0.26 0.45 0.69  0.97"
      ]
     },
     "execution_count": 197,
     "metadata": {},
     "output_type": "execute_result"
    }
   ],
   "source": [
    "df_unicorn.filter(regex='성장율').describe().T"
   ]
  },
  {
   "cell_type": "code",
   "execution_count": 919,
   "metadata": {
    "hidden": true,
    "scrolled": false
   },
   "outputs": [
    {
     "data": {
      "text/html": [
       "<div>\n",
       "<style scoped>\n",
       "    .dataframe tbody tr th:only-of-type {\n",
       "        vertical-align: middle;\n",
       "    }\n",
       "\n",
       "    .dataframe tbody tr th {\n",
       "        vertical-align: top;\n",
       "    }\n",
       "\n",
       "    .dataframe thead th {\n",
       "        text-align: right;\n",
       "    }\n",
       "</style>\n",
       "<table border=\"1\" class=\"dataframe\">\n",
       "  <thead>\n",
       "    <tr style=\"text-align: right;\">\n",
       "      <th></th>\n",
       "      <th>count</th>\n",
       "      <th>mean</th>\n",
       "      <th>std</th>\n",
       "      <th>min</th>\n",
       "      <th>25%</th>\n",
       "      <th>50%</th>\n",
       "      <th>75%</th>\n",
       "      <th>max</th>\n",
       "    </tr>\n",
       "  </thead>\n",
       "  <tbody>\n",
       "    <tr>\n",
       "      <th>2016</th>\n",
       "      <td>6.00</td>\n",
       "      <td>273816666.67</td>\n",
       "      <td>427445376.24</td>\n",
       "      <td>29900000.00</td>\n",
       "      <td>35875000.00</td>\n",
       "      <td>116800000.00</td>\n",
       "      <td>209575000.00</td>\n",
       "      <td>1130000000.00</td>\n",
       "    </tr>\n",
       "    <tr>\n",
       "      <th>2017</th>\n",
       "      <td>9.00</td>\n",
       "      <td>330011111.11</td>\n",
       "      <td>614343337.32</td>\n",
       "      <td>3400000.00</td>\n",
       "      <td>37200000.00</td>\n",
       "      <td>68000000.00</td>\n",
       "      <td>369100000.00</td>\n",
       "      <td>1919500000.00</td>\n",
       "    </tr>\n",
       "    <tr>\n",
       "      <th>2018</th>\n",
       "      <td>10.00</td>\n",
       "      <td>415390000.00</td>\n",
       "      <td>810037717.16</td>\n",
       "      <td>20000000.00</td>\n",
       "      <td>56400000.00</td>\n",
       "      <td>94350000.00</td>\n",
       "      <td>314225000.00</td>\n",
       "      <td>2680000000.00</td>\n",
       "    </tr>\n",
       "    <tr>\n",
       "      <th>2019</th>\n",
       "      <td>10.00</td>\n",
       "      <td>716130000.00</td>\n",
       "      <td>1314715995.57</td>\n",
       "      <td>48100000.00</td>\n",
       "      <td>82375000.00</td>\n",
       "      <td>236700000.00</td>\n",
       "      <td>492625000.00</td>\n",
       "      <td>4340000000.00</td>\n",
       "    </tr>\n",
       "  </tbody>\n",
       "</table>\n",
       "</div>"
      ],
      "text/plain": [
       "      count         mean           std         min         25%          50%  \\\n",
       "2016   6.00 273816666.67  427445376.24 29900000.00 35875000.00 116800000.00   \n",
       "2017   9.00 330011111.11  614343337.32  3400000.00 37200000.00  68000000.00   \n",
       "2018  10.00 415390000.00  810037717.16 20000000.00 56400000.00  94350000.00   \n",
       "2019  10.00 716130000.00 1314715995.57 48100000.00 82375000.00 236700000.00   \n",
       "\n",
       "              75%           max  \n",
       "2016 209575000.00 1130000000.00  \n",
       "2017 369100000.00 1919500000.00  \n",
       "2018 314225000.00 2680000000.00  \n",
       "2019 492625000.00 4340000000.00  "
      ]
     },
     "execution_count": 919,
     "metadata": {},
     "output_type": "execute_result"
    }
   ],
   "source": [
    "df_unicorn_sales = pd.read_csv('../매출액데이터.csv')\n",
    "df_unicorn_sales = df_unicorn_sales.set_index('사업장명').apply(lambda x : x*100000)\n",
    "df_unicorn_sales.describe().T"
   ]
  },
  {
   "cell_type": "markdown",
   "metadata": {
    "heading_collapsed": true,
    "hidden": true
   },
   "source": [
    "### 데이터 로드"
   ]
  },
  {
   "cell_type": "code",
   "execution_count": 223,
   "metadata": {
    "hidden": true
   },
   "outputs": [],
   "source": [
    "# 원본데이터 nps\n",
    "nps = pd.read_csv('../company_nps_data.csv', encoding = 'CP949')\n",
    "df = nps.copy()"
   ]
  },
  {
   "cell_type": "code",
   "execution_count": 16,
   "metadata": {
    "hidden": true
   },
   "outputs": [
    {
     "data": {
      "text/html": [
       "<div>\n",
       "<style scoped>\n",
       "    .dataframe tbody tr th:only-of-type {\n",
       "        vertical-align: middle;\n",
       "    }\n",
       "\n",
       "    .dataframe tbody tr th {\n",
       "        vertical-align: top;\n",
       "    }\n",
       "\n",
       "    .dataframe thead th {\n",
       "        text-align: right;\n",
       "    }\n",
       "</style>\n",
       "<table border=\"1\" class=\"dataframe\">\n",
       "  <thead>\n",
       "    <tr style=\"text-align: right;\">\n",
       "      <th></th>\n",
       "      <th>회사ID</th>\n",
       "      <th>연매출액</th>\n",
       "      <th>년도</th>\n",
       "      <th>월</th>\n",
       "      <th>월별_연금보험료</th>\n",
       "      <th>월별_직원수</th>\n",
       "    </tr>\n",
       "  </thead>\n",
       "  <tbody>\n",
       "    <tr>\n",
       "      <th>0</th>\n",
       "      <td>233757</td>\n",
       "      <td>41688077</td>\n",
       "      <td>2018</td>\n",
       "      <td>7</td>\n",
       "      <td>8912380</td>\n",
       "      <td>36</td>\n",
       "    </tr>\n",
       "    <tr>\n",
       "      <th>1</th>\n",
       "      <td>123464</td>\n",
       "      <td>1760695</td>\n",
       "      <td>2018</td>\n",
       "      <td>3</td>\n",
       "      <td>942380</td>\n",
       "      <td>5</td>\n",
       "    </tr>\n",
       "    <tr>\n",
       "      <th>2</th>\n",
       "      <td>342124</td>\n",
       "      <td>3221341</td>\n",
       "      <td>2018</td>\n",
       "      <td>7</td>\n",
       "      <td>781180</td>\n",
       "      <td>4</td>\n",
       "    </tr>\n",
       "    <tr>\n",
       "      <th>3</th>\n",
       "      <td>386420</td>\n",
       "      <td>4815584</td>\n",
       "      <td>2015</td>\n",
       "      <td>11</td>\n",
       "      <td>3795900</td>\n",
       "      <td>14</td>\n",
       "    </tr>\n",
       "    <tr>\n",
       "      <th>4</th>\n",
       "      <td>129243</td>\n",
       "      <td>9799736</td>\n",
       "      <td>2018</td>\n",
       "      <td>10</td>\n",
       "      <td>40724680</td>\n",
       "      <td>151</td>\n",
       "    </tr>\n",
       "    <tr>\n",
       "      <th>...</th>\n",
       "      <td>...</td>\n",
       "      <td>...</td>\n",
       "      <td>...</td>\n",
       "      <td>...</td>\n",
       "      <td>...</td>\n",
       "      <td>...</td>\n",
       "    </tr>\n",
       "    <tr>\n",
       "      <th>99796</th>\n",
       "      <td>171439</td>\n",
       "      <td>4630622</td>\n",
       "      <td>2017</td>\n",
       "      <td>2</td>\n",
       "      <td>2402740</td>\n",
       "      <td>11</td>\n",
       "    </tr>\n",
       "    <tr>\n",
       "      <th>99797</th>\n",
       "      <td>239388</td>\n",
       "      <td>1045021</td>\n",
       "      <td>2018</td>\n",
       "      <td>10</td>\n",
       "      <td>1428800</td>\n",
       "      <td>9</td>\n",
       "    </tr>\n",
       "    <tr>\n",
       "      <th>99798</th>\n",
       "      <td>272304</td>\n",
       "      <td>181898</td>\n",
       "      <td>2018</td>\n",
       "      <td>3</td>\n",
       "      <td>392560</td>\n",
       "      <td>4</td>\n",
       "    </tr>\n",
       "    <tr>\n",
       "      <th>99799</th>\n",
       "      <td>362194</td>\n",
       "      <td>2100218</td>\n",
       "      <td>2018</td>\n",
       "      <td>12</td>\n",
       "      <td>874780</td>\n",
       "      <td>3</td>\n",
       "    </tr>\n",
       "    <tr>\n",
       "      <th>99800</th>\n",
       "      <td>124281</td>\n",
       "      <td>132900</td>\n",
       "      <td>2017</td>\n",
       "      <td>11</td>\n",
       "      <td>291940</td>\n",
       "      <td>5</td>\n",
       "    </tr>\n",
       "  </tbody>\n",
       "</table>\n",
       "<p>99801 rows × 6 columns</p>\n",
       "</div>"
      ],
      "text/plain": [
       "         회사ID      연매출액    년도   월  월별_연금보험료  월별_직원수\n",
       "0      233757  41688077  2018   7   8912380      36\n",
       "1      123464   1760695  2018   3    942380       5\n",
       "2      342124   3221341  2018   7    781180       4\n",
       "3      386420   4815584  2015  11   3795900      14\n",
       "4      129243   9799736  2018  10  40724680     151\n",
       "...       ...       ...   ...  ..       ...     ...\n",
       "99796  171439   4630622  2017   2   2402740      11\n",
       "99797  239388   1045021  2018  10   1428800       9\n",
       "99798  272304    181898  2018   3    392560       4\n",
       "99799  362194   2100218  2018  12    874780       3\n",
       "99800  124281    132900  2017  11    291940       5\n",
       "\n",
       "[99801 rows x 6 columns]"
      ]
     },
     "execution_count": 16,
     "metadata": {},
     "output_type": "execute_result"
    }
   ],
   "source": [
    "df"
   ]
  },
  {
   "cell_type": "markdown",
   "metadata": {
    "heading_collapsed": true,
    "hidden": true
   },
   "source": [
    "### 데이터 개요"
   ]
  },
  {
   "cell_type": "code",
   "execution_count": 17,
   "metadata": {
    "hidden": true,
    "scrolled": true
   },
   "outputs": [
    {
     "data": {
      "text/html": [
       "<div>\n",
       "<style scoped>\n",
       "    .dataframe tbody tr th:only-of-type {\n",
       "        vertical-align: middle;\n",
       "    }\n",
       "\n",
       "    .dataframe tbody tr th {\n",
       "        vertical-align: top;\n",
       "    }\n",
       "\n",
       "    .dataframe thead th {\n",
       "        text-align: right;\n",
       "    }\n",
       "</style>\n",
       "<table border=\"1\" class=\"dataframe\">\n",
       "  <thead>\n",
       "    <tr style=\"text-align: right;\">\n",
       "      <th></th>\n",
       "      <th>회사ID</th>\n",
       "      <th>연매출액</th>\n",
       "      <th>년도</th>\n",
       "      <th>월</th>\n",
       "      <th>월별_연금보험료</th>\n",
       "      <th>월별_직원수</th>\n",
       "    </tr>\n",
       "  </thead>\n",
       "  <tbody>\n",
       "    <tr>\n",
       "      <th>0</th>\n",
       "      <td>233757</td>\n",
       "      <td>41688077</td>\n",
       "      <td>2018</td>\n",
       "      <td>7</td>\n",
       "      <td>8912380</td>\n",
       "      <td>36</td>\n",
       "    </tr>\n",
       "    <tr>\n",
       "      <th>1</th>\n",
       "      <td>123464</td>\n",
       "      <td>1760695</td>\n",
       "      <td>2018</td>\n",
       "      <td>3</td>\n",
       "      <td>942380</td>\n",
       "      <td>5</td>\n",
       "    </tr>\n",
       "    <tr>\n",
       "      <th>2</th>\n",
       "      <td>342124</td>\n",
       "      <td>3221341</td>\n",
       "      <td>2018</td>\n",
       "      <td>7</td>\n",
       "      <td>781180</td>\n",
       "      <td>4</td>\n",
       "    </tr>\n",
       "    <tr>\n",
       "      <th>3</th>\n",
       "      <td>386420</td>\n",
       "      <td>4815584</td>\n",
       "      <td>2015</td>\n",
       "      <td>11</td>\n",
       "      <td>3795900</td>\n",
       "      <td>14</td>\n",
       "    </tr>\n",
       "    <tr>\n",
       "      <th>4</th>\n",
       "      <td>129243</td>\n",
       "      <td>9799736</td>\n",
       "      <td>2018</td>\n",
       "      <td>10</td>\n",
       "      <td>40724680</td>\n",
       "      <td>151</td>\n",
       "    </tr>\n",
       "  </tbody>\n",
       "</table>\n",
       "</div>"
      ],
      "text/plain": [
       "     회사ID      연매출액    년도   월  월별_연금보험료  월별_직원수\n",
       "0  233757  41688077  2018   7   8912380      36\n",
       "1  123464   1760695  2018   3    942380       5\n",
       "2  342124   3221341  2018   7    781180       4\n",
       "3  386420   4815584  2015  11   3795900      14\n",
       "4  129243   9799736  2018  10  40724680     151"
      ]
     },
     "execution_count": 17,
     "metadata": {},
     "output_type": "execute_result"
    }
   ],
   "source": [
    "df.head()"
   ]
  },
  {
   "cell_type": "code",
   "execution_count": 18,
   "metadata": {
    "hidden": true,
    "scrolled": true
   },
   "outputs": [
    {
     "data": {
      "text/plain": [
       "Index(['회사ID', '연매출액', '년도', '월', '월별_연금보험료', '월별_직원수'], dtype='object')"
      ]
     },
     "execution_count": 18,
     "metadata": {},
     "output_type": "execute_result"
    }
   ],
   "source": [
    "df.columns"
   ]
  },
  {
   "cell_type": "code",
   "execution_count": 19,
   "metadata": {
    "hidden": true,
    "scrolled": false
   },
   "outputs": [
    {
     "name": "stdout",
     "output_type": "stream",
     "text": [
      "<class 'pandas.core.frame.DataFrame'>\n",
      "RangeIndex: 99801 entries, 0 to 99800\n",
      "Data columns (total 6 columns):\n",
      " #   Column    Non-Null Count  Dtype\n",
      "---  ------    --------------  -----\n",
      " 0   회사ID      99801 non-null  int64\n",
      " 1   연매출액      99801 non-null  int64\n",
      " 2   년도        99801 non-null  int64\n",
      " 3   월         99801 non-null  int64\n",
      " 4   월별_연금보험료  99801 non-null  int64\n",
      " 5   월별_직원수    99801 non-null  int64\n",
      "dtypes: int64(6)\n",
      "memory usage: 4.6 MB\n"
     ]
    }
   ],
   "source": [
    "df.info()"
   ]
  },
  {
   "cell_type": "code",
   "execution_count": 20,
   "metadata": {
    "hidden": true,
    "scrolled": false
   },
   "outputs": [
    {
     "data": {
      "text/plain": [
       "count   99801.00\n",
       "mean     2016.97\n",
       "std         0.98\n",
       "min      2015.00\n",
       "25%      2016.00\n",
       "50%      2017.00\n",
       "75%      2018.00\n",
       "max      2019.00\n",
       "Name: 년도, dtype: float64"
      ]
     },
     "execution_count": 20,
     "metadata": {},
     "output_type": "execute_result"
    }
   ],
   "source": [
    "df['년도'].describe()   # 2015년 - 2019년"
   ]
  },
  {
   "cell_type": "code",
   "execution_count": 21,
   "metadata": {
    "hidden": true
   },
   "outputs": [
    {
     "data": {
      "text/plain": [
       "5000"
      ]
     },
     "execution_count": 21,
     "metadata": {},
     "output_type": "execute_result"
    }
   ],
   "source": [
    "df['회사ID'].nunique()  # 5000개 회사"
   ]
  },
  {
   "cell_type": "code",
   "execution_count": 22,
   "metadata": {
    "hidden": true,
    "scrolled": true
   },
   "outputs": [
    {
     "data": {
      "text/html": [
       "<div>\n",
       "<style scoped>\n",
       "    .dataframe tbody tr th:only-of-type {\n",
       "        vertical-align: middle;\n",
       "    }\n",
       "\n",
       "    .dataframe tbody tr th {\n",
       "        vertical-align: top;\n",
       "    }\n",
       "\n",
       "    .dataframe thead th {\n",
       "        text-align: right;\n",
       "    }\n",
       "</style>\n",
       "<table border=\"1\" class=\"dataframe\">\n",
       "  <thead>\n",
       "    <tr style=\"text-align: right;\">\n",
       "      <th></th>\n",
       "      <th>회사ID</th>\n",
       "      <th>연매출액</th>\n",
       "      <th>년도</th>\n",
       "      <th>월</th>\n",
       "      <th>월별_연금보험료</th>\n",
       "      <th>월별_직원수</th>\n",
       "    </tr>\n",
       "  </thead>\n",
       "  <tbody>\n",
       "    <tr>\n",
       "      <th>33039</th>\n",
       "      <td>63</td>\n",
       "      <td>11328779396</td>\n",
       "      <td>2018</td>\n",
       "      <td>1</td>\n",
       "      <td>403119840</td>\n",
       "      <td>1006</td>\n",
       "    </tr>\n",
       "    <tr>\n",
       "      <th>74251</th>\n",
       "      <td>63</td>\n",
       "      <td>11328779396</td>\n",
       "      <td>2018</td>\n",
       "      <td>2</td>\n",
       "      <td>406770960</td>\n",
       "      <td>1018</td>\n",
       "    </tr>\n",
       "    <tr>\n",
       "      <th>80947</th>\n",
       "      <td>63</td>\n",
       "      <td>11328779396</td>\n",
       "      <td>2018</td>\n",
       "      <td>3</td>\n",
       "      <td>404826240</td>\n",
       "      <td>1013</td>\n",
       "    </tr>\n",
       "    <tr>\n",
       "      <th>80770</th>\n",
       "      <td>63</td>\n",
       "      <td>11328779396</td>\n",
       "      <td>2018</td>\n",
       "      <td>4</td>\n",
       "      <td>404211800</td>\n",
       "      <td>1012</td>\n",
       "    </tr>\n",
       "    <tr>\n",
       "      <th>28110</th>\n",
       "      <td>63</td>\n",
       "      <td>11328779396</td>\n",
       "      <td>2018</td>\n",
       "      <td>5</td>\n",
       "      <td>400339640</td>\n",
       "      <td>1002</td>\n",
       "    </tr>\n",
       "    <tr>\n",
       "      <th>...</th>\n",
       "      <td>...</td>\n",
       "      <td>...</td>\n",
       "      <td>...</td>\n",
       "      <td>...</td>\n",
       "      <td>...</td>\n",
       "      <td>...</td>\n",
       "    </tr>\n",
       "    <tr>\n",
       "      <th>244</th>\n",
       "      <td>3312354</td>\n",
       "      <td>1451563</td>\n",
       "      <td>2019</td>\n",
       "      <td>9</td>\n",
       "      <td>1312200</td>\n",
       "      <td>3</td>\n",
       "    </tr>\n",
       "    <tr>\n",
       "      <th>38757</th>\n",
       "      <td>3312354</td>\n",
       "      <td>1451563</td>\n",
       "      <td>2019</td>\n",
       "      <td>10</td>\n",
       "      <td>1312200</td>\n",
       "      <td>3</td>\n",
       "    </tr>\n",
       "    <tr>\n",
       "      <th>49019</th>\n",
       "      <td>3312354</td>\n",
       "      <td>1451563</td>\n",
       "      <td>2019</td>\n",
       "      <td>11</td>\n",
       "      <td>1312200</td>\n",
       "      <td>3</td>\n",
       "    </tr>\n",
       "    <tr>\n",
       "      <th>72163</th>\n",
       "      <td>3312354</td>\n",
       "      <td>1451563</td>\n",
       "      <td>2019</td>\n",
       "      <td>12</td>\n",
       "      <td>1312200</td>\n",
       "      <td>3</td>\n",
       "    </tr>\n",
       "    <tr>\n",
       "      <th>78099</th>\n",
       "      <td>5159723</td>\n",
       "      <td>2591898</td>\n",
       "      <td>2019</td>\n",
       "      <td>12</td>\n",
       "      <td>1257280</td>\n",
       "      <td>5</td>\n",
       "    </tr>\n",
       "  </tbody>\n",
       "</table>\n",
       "<p>99801 rows × 6 columns</p>\n",
       "</div>"
      ],
      "text/plain": [
       "          회사ID         연매출액    년도   월   월별_연금보험료  월별_직원수\n",
       "33039       63  11328779396  2018   1  403119840    1006\n",
       "74251       63  11328779396  2018   2  406770960    1018\n",
       "80947       63  11328779396  2018   3  404826240    1013\n",
       "80770       63  11328779396  2018   4  404211800    1012\n",
       "28110       63  11328779396  2018   5  400339640    1002\n",
       "...        ...          ...   ...  ..        ...     ...\n",
       "244    3312354      1451563  2019   9    1312200       3\n",
       "38757  3312354      1451563  2019  10    1312200       3\n",
       "49019  3312354      1451563  2019  11    1312200       3\n",
       "72163  3312354      1451563  2019  12    1312200       3\n",
       "78099  5159723      2591898  2019  12    1257280       5\n",
       "\n",
       "[99801 rows x 6 columns]"
      ]
     },
     "execution_count": 22,
     "metadata": {},
     "output_type": "execute_result"
    }
   ],
   "source": [
    "df.sort_values(['회사ID','년도','월'])"
   ]
  },
  {
   "cell_type": "markdown",
   "metadata": {
    "hidden": true
   },
   "source": [
    "- 5000개의 회사 데이터\n",
    "- '회사ID', '연매출액', '년도', '월', '월별_연금보험료', '월별_직원수'\n",
    "- 대상 기간: 2015년 - 2019년 (회사마다 데이터 보유기간 상이)"
   ]
  },
  {
   "cell_type": "markdown",
   "metadata": {
    "heading_collapsed": true,
    "hidden": true
   },
   "source": [
    "### 전처리"
   ]
  },
  {
   "cell_type": "code",
   "execution_count": 348,
   "metadata": {
    "hidden": true
   },
   "outputs": [],
   "source": [
    "df = df.drop(index=df.query('연매출액 < 0').index)\n",
    "df = df.drop(index=df.query('월별_직원수 == 0').index)"
   ]
  },
  {
   "cell_type": "code",
   "execution_count": 350,
   "metadata": {
    "hidden": true
   },
   "outputs": [],
   "source": [
    "# 1인당 매출액 추가\n",
    "df.loc[:,'인당_매출액'] = df.loc[:, '연매출액'] / df.loc[:, '월별_직원수']"
   ]
  },
  {
   "cell_type": "code",
   "execution_count": 355,
   "metadata": {
    "hidden": true
   },
   "outputs": [
    {
     "name": "stdout",
     "output_type": "stream",
     "text": [
      "전처리 후 기업 수 : 4998\n"
     ]
    }
   ],
   "source": [
    "print('전처리 후 기업 수 :', df['회사ID'].nunique())"
   ]
  },
  {
   "cell_type": "markdown",
   "metadata": {
    "heading_collapsed": true
   },
   "source": [
    "## EDA\n",
    "**EDA 목적 :유니콘 지수 산출**\n",
    ">   - 데이터 파악 및 전처리 작업으로 최종 분석 데이터셋 구성\n",
    ">   - 최종 분석 데이터셋으로 유니콘 지수 산출 (스코어링에 필요한 지표 및 가중치 파악)"
   ]
  },
  {
   "cell_type": "code",
   "execution_count": 358,
   "metadata": {
    "hidden": true,
    "scrolled": true
   },
   "outputs": [
    {
     "data": {
      "text/html": [
       "<div>\n",
       "<style scoped>\n",
       "    .dataframe tbody tr th:only-of-type {\n",
       "        vertical-align: middle;\n",
       "    }\n",
       "\n",
       "    .dataframe tbody tr th {\n",
       "        vertical-align: top;\n",
       "    }\n",
       "\n",
       "    .dataframe thead th {\n",
       "        text-align: right;\n",
       "    }\n",
       "</style>\n",
       "<table border=\"1\" class=\"dataframe\">\n",
       "  <thead>\n",
       "    <tr style=\"text-align: right;\">\n",
       "      <th></th>\n",
       "      <th>회사ID</th>\n",
       "      <th>연매출액</th>\n",
       "      <th>년도</th>\n",
       "      <th>월</th>\n",
       "      <th>월별_연금보험료</th>\n",
       "      <th>월별_직원수</th>\n",
       "      <th>인당_매출액</th>\n",
       "    </tr>\n",
       "  </thead>\n",
       "  <tbody>\n",
       "    <tr>\n",
       "      <th>0</th>\n",
       "      <td>63</td>\n",
       "      <td>11328779396</td>\n",
       "      <td>2018</td>\n",
       "      <td>1</td>\n",
       "      <td>403119840</td>\n",
       "      <td>1006</td>\n",
       "      <td>11261212.12</td>\n",
       "    </tr>\n",
       "    <tr>\n",
       "      <th>1</th>\n",
       "      <td>63</td>\n",
       "      <td>11328779396</td>\n",
       "      <td>2018</td>\n",
       "      <td>2</td>\n",
       "      <td>406770960</td>\n",
       "      <td>1018</td>\n",
       "      <td>11128466.99</td>\n",
       "    </tr>\n",
       "    <tr>\n",
       "      <th>2</th>\n",
       "      <td>63</td>\n",
       "      <td>11328779396</td>\n",
       "      <td>2018</td>\n",
       "      <td>3</td>\n",
       "      <td>404826240</td>\n",
       "      <td>1013</td>\n",
       "      <td>11183395.26</td>\n",
       "    </tr>\n",
       "    <tr>\n",
       "      <th>3</th>\n",
       "      <td>63</td>\n",
       "      <td>11328779396</td>\n",
       "      <td>2018</td>\n",
       "      <td>4</td>\n",
       "      <td>404211800</td>\n",
       "      <td>1012</td>\n",
       "      <td>11194446.04</td>\n",
       "    </tr>\n",
       "    <tr>\n",
       "      <th>4</th>\n",
       "      <td>63</td>\n",
       "      <td>11328779396</td>\n",
       "      <td>2018</td>\n",
       "      <td>5</td>\n",
       "      <td>400339640</td>\n",
       "      <td>1002</td>\n",
       "      <td>11306167.06</td>\n",
       "    </tr>\n",
       "  </tbody>\n",
       "</table>\n",
       "</div>"
      ],
      "text/plain": [
       "   회사ID         연매출액    년도  월   월별_연금보험료  월별_직원수      인당_매출액\n",
       "0    63  11328779396  2018  1  403119840    1006 11261212.12\n",
       "1    63  11328779396  2018  2  406770960    1018 11128466.99\n",
       "2    63  11328779396  2018  3  404826240    1013 11183395.26\n",
       "3    63  11328779396  2018  4  404211800    1012 11194446.04\n",
       "4    63  11328779396  2018  5  400339640    1002 11306167.06"
      ]
     },
     "execution_count": 358,
     "metadata": {},
     "output_type": "execute_result"
    }
   ],
   "source": [
    "# df_eda : 회사ID/년도/월별 sorting 데이터 셋\n",
    "df_eda = df.sort_values(['회사ID','년도','월']).reset_index().drop('index', axis=1)\n",
    "df_eda.head()"
   ]
  },
  {
   "cell_type": "markdown",
   "metadata": {
    "heading_collapsed": true,
    "hidden": true
   },
   "source": [
    "### 분석대상 필터링\n"
   ]
  },
  {
   "cell_type": "markdown",
   "metadata": {
    "hidden": true
   },
   "source": [
    "#### 분석대상금액 (연매출액기준)\n",
    "- 기준 : 연매출액 1000억원 이상\n",
    "- 근거 : 유니콘 기업들 등재시점 기준 연매출액 1000억원 이상"
   ]
  },
  {
   "cell_type": "code",
   "execution_count": 359,
   "metadata": {
    "hidden": true,
    "scrolled": true
   },
   "outputs": [
    {
     "name": "stdout",
     "output_type": "stream",
     "text": [
      "df_eda shape : (97662, 7)\n",
      "raw data 기업 수 : 4998\n",
      "분석대상금액 필터링 후 기업 수 : 4928\n"
     ]
    }
   ],
   "source": [
    "# 2019년 매출액 정보 있으면서 천억이상이 아닌 기업\n",
    "sales_list = list(df_eda.query('년도==2019&연매출액<100000000')['회사ID'].unique())\n",
    "df_eda = df_eda[~df_eda['회사ID'].isin(sales_list)].reset_index().drop('index',axis=1)\n",
    "print('df_eda shape :', df_eda.shape)\n",
    "print('raw data 기업 수 :', df['회사ID'].nunique())\n",
    "print('분석대상금액 필터링 후 기업 수 :', df_eda['회사ID'].nunique())"
   ]
  },
  {
   "cell_type": "code",
   "execution_count": 449,
   "metadata": {
    "hidden": true,
    "scrolled": false
   },
   "outputs": [
    {
     "name": "stdout",
     "output_type": "stream",
     "text": [
      "데이터 보유기간 1년 이하 기업 수 : 2407\n"
     ]
    },
    {
     "data": {
      "image/png": "[encoded data removed]",
      "text/plain": [
       "<Figure size 504x288 with 1 Axes>"
      ]
     },
     "metadata": {
      "needs_background": "light"
     },
     "output_type": "display_data"
    }
   ],
   "source": [
    "df_periodsize = pd.DataFrame(df_eda.groupby('회사ID').size()).reset_index().rename(columns={0:'데이터보유기간'})\n",
    "df_periodsize.groupby('데이터보유기간').count().rename(columns={'회사ID':'기업 수'}).plot.bar(rot=45, figsize=(7,4))\n",
    "print('데이터 보유기간 1년 이하 기업 수 :', df_periodsize.query('데이터보유기간<=12')['회사ID'].nunique())"
   ]
  },
  {
   "cell_type": "markdown",
   "metadata": {
    "hidden": true
   },
   "source": [
    "#### 분석대상기간 (1년이하)\n",
    "- 기준 : 데이터 기간 1년 이하\n",
    "- 근거 : "
   ]
  },
  {
   "cell_type": "markdown",
   "metadata": {
    "hidden": true
   },
   "source": [
    "**데이터기간 1년이하인 기업들 중 높은 직원성장율을 보이는 곳이 있는지 파악하고자 함**"
   ]
  },
  {
   "cell_type": "code",
   "execution_count": 450,
   "metadata": {
    "hidden": true,
    "scrolled": true
   },
   "outputs": [],
   "source": [
    "# 1년 이하의 데이터만 존재하는 기업 데이터 셋\n",
    "less_list = df_periodsize.query('데이터보유기간<=12')['회사ID'].to_list()\n",
    "df_less = df_eda[df_eda['회사ID'].isin(less_list)].sort_values(['회사ID','년도','월']).reset_index()\n",
    "\n",
    "# 시작 시점 (기준시점)\n",
    "df_less_start = df_less[df_less['index'].isin(list(df_less.groupby('회사ID').agg({'index':'min'})['index']))]\n",
    "df_less_start = df_less_start.drop('index', axis=1).rename(columns={'월별_연금보험료': '기준_연금보험료',\n",
    "                                                                  '월별_직원수':'기준_직원수',\n",
    "                                                                  '연매출액':'기준_연매출액',\n",
    "                                                                  '년도' :'기준_년도',\n",
    "                                                                  '월':'기준_월',\n",
    "                                                                     '인당_매출액':'기준_인당매출액'})\n",
    "# 마지막 시점 (비교시점)\n",
    "df_less_end = df_less[df_less['index'].isin(list(df_less.groupby('회사ID').agg({'index':'max'})['index']))]\n",
    "df_less_end = df_less_end.drop('index', axis=1).rename(columns={'월별_연금보험료': '비교_연금보험료',\n",
    "                                                              '월별_직원수':'비교_직원수',         \n",
    "                                                              '연매출액':'비교_연매출액',\n",
    "                                                              '년도' :'비교_년도',  \n",
    "                                                              '월':'비교_월',\n",
    "                                                               '인당_매출액':'비교_인당매출액'})\n",
    "#merge전 shape 체크\n",
    "#print(df_less_start.shape)\n",
    "#print(df_less_end.shape)\n",
    "\n",
    "# 1년 이하 기업들의 기간내 성장율, 증감 파악\n",
    "df_less_growth = df_less_start.merge(df_less_end, on='회사ID', how='inner')\n",
    "\n",
    "# 지표별 기간내 성장율 변수 추가\n",
    "df_less_growth['성장율_연금보험료'] = (df_less_growth['비교_연금보험료']-df_less_growth['기준_연금보험료'])/df_less_growth['기준_연금보험료']\n",
    "df_less_growth['성장율_직원수'] = (df_less_growth['비교_직원수']-df_less_growth['기준_직원수'])/df_less_growth['기준_직원수']\n",
    "# 대상기간이 1년보다 짧기 때문에 0일 가능성 높음\n",
    "df_less_growth['성장율_연매출액'] = (df_less_growth['비교_연매출액']-df_less_growth['기준_연매출액'])/df_less_growth['기준_연매출액']\n",
    "df_less_growth.head(1) \n",
    "\n",
    "# 지표별 기간내 증감 변수 추가\n",
    "df_less_growth['증감_연금보험료'] = (df_less_growth['비교_연금보험료']-df_less_growth['기준_연금보험료'])\n",
    "df_less_growth['증감_직원수'] = (df_less_growth['비교_직원수']-df_less_growth['기준_직원수'])\n",
    "# 대상기간이 1년보다 짧기 때문에 0일 가능성 높음\n",
    "df_less_growth['증감_연매출액'] = (df_less_growth['비교_연매출액']-df_less_growth['기준_연매출액'])"
   ]
  },
  {
   "cell_type": "code",
   "execution_count": 451,
   "metadata": {
    "hidden": true,
    "scrolled": false
   },
   "outputs": [
    {
     "name": "stdout",
     "output_type": "stream",
     "text": [
      "255\n"
     ]
    },
    {
     "data": {
      "text/html": [
       "<div>\n",
       "<style scoped>\n",
       "    .dataframe tbody tr th:only-of-type {\n",
       "        vertical-align: middle;\n",
       "    }\n",
       "\n",
       "    .dataframe tbody tr th {\n",
       "        vertical-align: top;\n",
       "    }\n",
       "\n",
       "    .dataframe thead th {\n",
       "        text-align: right;\n",
       "    }\n",
       "</style>\n",
       "<table border=\"1\" class=\"dataframe\">\n",
       "  <thead>\n",
       "    <tr style=\"text-align: right;\">\n",
       "      <th></th>\n",
       "      <th>회사ID</th>\n",
       "      <th>기준_연매출액</th>\n",
       "      <th>기준_년도</th>\n",
       "      <th>기준_월</th>\n",
       "      <th>기준_연금보험료</th>\n",
       "      <th>기준_직원수</th>\n",
       "      <th>기준_인당매출액</th>\n",
       "      <th>비교_연매출액</th>\n",
       "      <th>비교_년도</th>\n",
       "      <th>비교_월</th>\n",
       "      <th>비교_연금보험료</th>\n",
       "      <th>비교_직원수</th>\n",
       "      <th>비교_인당매출액</th>\n",
       "      <th>성장율_연금보험료</th>\n",
       "      <th>성장율_직원수</th>\n",
       "      <th>성장율_연매출액</th>\n",
       "      <th>증감_연금보험료</th>\n",
       "      <th>증감_직원수</th>\n",
       "      <th>증감_연매출액</th>\n",
       "    </tr>\n",
       "  </thead>\n",
       "  <tbody>\n",
       "    <tr>\n",
       "      <th>9</th>\n",
       "      <td>1125</td>\n",
       "      <td>53713870</td>\n",
       "      <td>2018</td>\n",
       "      <td>1</td>\n",
       "      <td>11197120</td>\n",
       "      <td>42</td>\n",
       "      <td>1278901.67</td>\n",
       "      <td>53713870</td>\n",
       "      <td>2018</td>\n",
       "      <td>12</td>\n",
       "      <td>43293280</td>\n",
       "      <td>137</td>\n",
       "      <td>392072.04</td>\n",
       "      <td>2.87</td>\n",
       "      <td>2.26</td>\n",
       "      <td>0.00</td>\n",
       "      <td>32096160</td>\n",
       "      <td>95</td>\n",
       "      <td>0</td>\n",
       "    </tr>\n",
       "    <tr>\n",
       "      <th>11</th>\n",
       "      <td>1807</td>\n",
       "      <td>5631138</td>\n",
       "      <td>2018</td>\n",
       "      <td>1</td>\n",
       "      <td>8205240</td>\n",
       "      <td>47</td>\n",
       "      <td>119811.45</td>\n",
       "      <td>5631138</td>\n",
       "      <td>2018</td>\n",
       "      <td>12</td>\n",
       "      <td>17526500</td>\n",
       "      <td>92</td>\n",
       "      <td>61208.02</td>\n",
       "      <td>1.14</td>\n",
       "      <td>0.96</td>\n",
       "      <td>0.00</td>\n",
       "      <td>9321260</td>\n",
       "      <td>45</td>\n",
       "      <td>0</td>\n",
       "    </tr>\n",
       "    <tr>\n",
       "      <th>19</th>\n",
       "      <td>3611</td>\n",
       "      <td>3955788</td>\n",
       "      <td>2018</td>\n",
       "      <td>1</td>\n",
       "      <td>301680</td>\n",
       "      <td>3</td>\n",
       "      <td>1318596.00</td>\n",
       "      <td>3955788</td>\n",
       "      <td>2018</td>\n",
       "      <td>12</td>\n",
       "      <td>5530120</td>\n",
       "      <td>38</td>\n",
       "      <td>104099.68</td>\n",
       "      <td>17.33</td>\n",
       "      <td>11.67</td>\n",
       "      <td>0.00</td>\n",
       "      <td>5228440</td>\n",
       "      <td>35</td>\n",
       "      <td>0</td>\n",
       "    </tr>\n",
       "    <tr>\n",
       "      <th>24</th>\n",
       "      <td>5202</td>\n",
       "      <td>90027705</td>\n",
       "      <td>2018</td>\n",
       "      <td>1</td>\n",
       "      <td>8594100</td>\n",
       "      <td>27</td>\n",
       "      <td>3334359.44</td>\n",
       "      <td>90027705</td>\n",
       "      <td>2018</td>\n",
       "      <td>12</td>\n",
       "      <td>15087700</td>\n",
       "      <td>45</td>\n",
       "      <td>2000615.67</td>\n",
       "      <td>0.76</td>\n",
       "      <td>0.67</td>\n",
       "      <td>0.00</td>\n",
       "      <td>6493600</td>\n",
       "      <td>18</td>\n",
       "      <td>0</td>\n",
       "    </tr>\n",
       "    <tr>\n",
       "      <th>28</th>\n",
       "      <td>6438</td>\n",
       "      <td>3770065</td>\n",
       "      <td>2018</td>\n",
       "      <td>1</td>\n",
       "      <td>2212900</td>\n",
       "      <td>19</td>\n",
       "      <td>198424.47</td>\n",
       "      <td>3770065</td>\n",
       "      <td>2018</td>\n",
       "      <td>12</td>\n",
       "      <td>5160360</td>\n",
       "      <td>34</td>\n",
       "      <td>110884.26</td>\n",
       "      <td>1.33</td>\n",
       "      <td>0.79</td>\n",
       "      <td>0.00</td>\n",
       "      <td>2947460</td>\n",
       "      <td>15</td>\n",
       "      <td>0</td>\n",
       "    </tr>\n",
       "    <tr>\n",
       "      <th>...</th>\n",
       "      <td>...</td>\n",
       "      <td>...</td>\n",
       "      <td>...</td>\n",
       "      <td>...</td>\n",
       "      <td>...</td>\n",
       "      <td>...</td>\n",
       "      <td>...</td>\n",
       "      <td>...</td>\n",
       "      <td>...</td>\n",
       "      <td>...</td>\n",
       "      <td>...</td>\n",
       "      <td>...</td>\n",
       "      <td>...</td>\n",
       "      <td>...</td>\n",
       "      <td>...</td>\n",
       "      <td>...</td>\n",
       "      <td>...</td>\n",
       "      <td>...</td>\n",
       "      <td>...</td>\n",
       "    </tr>\n",
       "    <tr>\n",
       "      <th>2386</th>\n",
       "      <td>635082</td>\n",
       "      <td>36069908</td>\n",
       "      <td>2018</td>\n",
       "      <td>1</td>\n",
       "      <td>29336740</td>\n",
       "      <td>139</td>\n",
       "      <td>259495.74</td>\n",
       "      <td>36069908</td>\n",
       "      <td>2018</td>\n",
       "      <td>12</td>\n",
       "      <td>50945840</td>\n",
       "      <td>254</td>\n",
       "      <td>142007.51</td>\n",
       "      <td>0.74</td>\n",
       "      <td>0.83</td>\n",
       "      <td>0.00</td>\n",
       "      <td>21609100</td>\n",
       "      <td>115</td>\n",
       "      <td>0</td>\n",
       "    </tr>\n",
       "    <tr>\n",
       "      <th>2390</th>\n",
       "      <td>782086</td>\n",
       "      <td>3845136</td>\n",
       "      <td>2018</td>\n",
       "      <td>9</td>\n",
       "      <td>1219300</td>\n",
       "      <td>5</td>\n",
       "      <td>769027.20</td>\n",
       "      <td>3845136</td>\n",
       "      <td>2018</td>\n",
       "      <td>12</td>\n",
       "      <td>1395000</td>\n",
       "      <td>8</td>\n",
       "      <td>480642.00</td>\n",
       "      <td>0.14</td>\n",
       "      <td>0.60</td>\n",
       "      <td>0.00</td>\n",
       "      <td>175700</td>\n",
       "      <td>3</td>\n",
       "      <td>0</td>\n",
       "    </tr>\n",
       "    <tr>\n",
       "      <th>2395</th>\n",
       "      <td>900163</td>\n",
       "      <td>836891</td>\n",
       "      <td>2018</td>\n",
       "      <td>2</td>\n",
       "      <td>442800</td>\n",
       "      <td>3</td>\n",
       "      <td>278963.67</td>\n",
       "      <td>836891</td>\n",
       "      <td>2018</td>\n",
       "      <td>12</td>\n",
       "      <td>916460</td>\n",
       "      <td>6</td>\n",
       "      <td>139481.83</td>\n",
       "      <td>1.07</td>\n",
       "      <td>1.00</td>\n",
       "      <td>0.00</td>\n",
       "      <td>473660</td>\n",
       "      <td>3</td>\n",
       "      <td>0</td>\n",
       "    </tr>\n",
       "    <tr>\n",
       "      <th>2396</th>\n",
       "      <td>918661</td>\n",
       "      <td>258590</td>\n",
       "      <td>2018</td>\n",
       "      <td>1</td>\n",
       "      <td>332900</td>\n",
       "      <td>3</td>\n",
       "      <td>86196.67</td>\n",
       "      <td>258590</td>\n",
       "      <td>2018</td>\n",
       "      <td>12</td>\n",
       "      <td>867140</td>\n",
       "      <td>6</td>\n",
       "      <td>43098.33</td>\n",
       "      <td>1.60</td>\n",
       "      <td>1.00</td>\n",
       "      <td>0.00</td>\n",
       "      <td>534240</td>\n",
       "      <td>3</td>\n",
       "      <td>0</td>\n",
       "    </tr>\n",
       "    <tr>\n",
       "      <th>2397</th>\n",
       "      <td>933076</td>\n",
       "      <td>213311</td>\n",
       "      <td>2018</td>\n",
       "      <td>3</td>\n",
       "      <td>288000</td>\n",
       "      <td>4</td>\n",
       "      <td>53327.75</td>\n",
       "      <td>213311</td>\n",
       "      <td>2018</td>\n",
       "      <td>12</td>\n",
       "      <td>648000</td>\n",
       "      <td>9</td>\n",
       "      <td>23701.22</td>\n",
       "      <td>1.25</td>\n",
       "      <td>1.25</td>\n",
       "      <td>0.00</td>\n",
       "      <td>360000</td>\n",
       "      <td>5</td>\n",
       "      <td>0</td>\n",
       "    </tr>\n",
       "  </tbody>\n",
       "</table>\n",
       "<p>255 rows × 19 columns</p>\n",
       "</div>"
      ],
      "text/plain": [
       "        회사ID   기준_연매출액  기준_년도  기준_월  기준_연금보험료  기준_직원수   기준_인당매출액   비교_연매출액  \\\n",
       "9       1125  53713870   2018     1  11197120      42 1278901.67  53713870   \n",
       "11      1807   5631138   2018     1   8205240      47  119811.45   5631138   \n",
       "19      3611   3955788   2018     1    301680       3 1318596.00   3955788   \n",
       "24      5202  90027705   2018     1   8594100      27 3334359.44  90027705   \n",
       "28      6438   3770065   2018     1   2212900      19  198424.47   3770065   \n",
       "...      ...       ...    ...   ...       ...     ...        ...       ...   \n",
       "2386  635082  36069908   2018     1  29336740     139  259495.74  36069908   \n",
       "2390  782086   3845136   2018     9   1219300       5  769027.20   3845136   \n",
       "2395  900163    836891   2018     2    442800       3  278963.67    836891   \n",
       "2396  918661    258590   2018     1    332900       3   86196.67    258590   \n",
       "2397  933076    213311   2018     3    288000       4   53327.75    213311   \n",
       "\n",
       "      비교_년도  비교_월  비교_연금보험료  비교_직원수   비교_인당매출액  성장율_연금보험료  성장율_직원수  성장율_연매출액  \\\n",
       "9      2018    12  43293280     137  392072.04       2.87     2.26      0.00   \n",
       "11     2018    12  17526500      92   61208.02       1.14     0.96      0.00   \n",
       "19     2018    12   5530120      38  104099.68      17.33    11.67      0.00   \n",
       "24     2018    12  15087700      45 2000615.67       0.76     0.67      0.00   \n",
       "28     2018    12   5160360      34  110884.26       1.33     0.79      0.00   \n",
       "...     ...   ...       ...     ...        ...        ...      ...       ...   \n",
       "2386   2018    12  50945840     254  142007.51       0.74     0.83      0.00   \n",
       "2390   2018    12   1395000       8  480642.00       0.14     0.60      0.00   \n",
       "2395   2018    12    916460       6  139481.83       1.07     1.00      0.00   \n",
       "2396   2018    12    867140       6   43098.33       1.60     1.00      0.00   \n",
       "2397   2018    12    648000       9   23701.22       1.25     1.25      0.00   \n",
       "\n",
       "      증감_연금보험료  증감_직원수  증감_연매출액  \n",
       "9     32096160      95        0  \n",
       "11     9321260      45        0  \n",
       "19     5228440      35        0  \n",
       "24     6493600      18        0  \n",
       "28     2947460      15        0  \n",
       "...        ...     ...      ...  \n",
       "2386  21609100     115        0  \n",
       "2390    175700       3        0  \n",
       "2395    473660       3        0  \n",
       "2396    534240       3        0  \n",
       "2397    360000       5        0  \n",
       "\n",
       "[255 rows x 19 columns]"
      ]
     },
     "execution_count": 451,
     "metadata": {},
     "output_type": "execute_result"
    }
   ],
   "source": [
    "# 유니콘 기업 연평균 직원성장율 중위값 (0.18) 기준으로 높은 직원성장율 보인 곳 \n",
    "print(df_less_growth.query('성장율_직원수>=0.45')['회사ID'].count())\n",
    "df_less_growth.query('성장율_직원수>=0.45')"
   ]
  },
  {
   "cell_type": "code",
   "execution_count": 663,
   "metadata": {
    "hidden": true
   },
   "outputs": [
    {
     "data": {
      "text/html": [
       "<div>\n",
       "<style scoped>\n",
       "    .dataframe tbody tr th:only-of-type {\n",
       "        vertical-align: middle;\n",
       "    }\n",
       "\n",
       "    .dataframe tbody tr th {\n",
       "        vertical-align: top;\n",
       "    }\n",
       "\n",
       "    .dataframe thead th {\n",
       "        text-align: right;\n",
       "    }\n",
       "</style>\n",
       "<table border=\"1\" class=\"dataframe\">\n",
       "  <thead>\n",
       "    <tr style=\"text-align: right;\">\n",
       "      <th></th>\n",
       "      <th>회사ID</th>\n",
       "      <th>기준_연매출액</th>\n",
       "      <th>기준_년도</th>\n",
       "      <th>기준_월</th>\n",
       "      <th>기준_연금보험료</th>\n",
       "      <th>기준_직원수</th>\n",
       "      <th>기준_인당매출액</th>\n",
       "      <th>비교_연매출액</th>\n",
       "      <th>비교_년도</th>\n",
       "      <th>비교_월</th>\n",
       "      <th>비교_연금보험료</th>\n",
       "      <th>비교_직원수</th>\n",
       "      <th>비교_인당매출액</th>\n",
       "      <th>성장율_연금보험료</th>\n",
       "      <th>성장율_직원수</th>\n",
       "      <th>성장율_연매출액</th>\n",
       "      <th>증감_연금보험료</th>\n",
       "      <th>증감_직원수</th>\n",
       "      <th>증감_연매출액</th>\n",
       "    </tr>\n",
       "  </thead>\n",
       "  <tbody>\n",
       "    <tr>\n",
       "      <th>9</th>\n",
       "      <td>1125</td>\n",
       "      <td>53713870</td>\n",
       "      <td>2018</td>\n",
       "      <td>1</td>\n",
       "      <td>11197120</td>\n",
       "      <td>42</td>\n",
       "      <td>1278901.67</td>\n",
       "      <td>53713870</td>\n",
       "      <td>2018</td>\n",
       "      <td>12</td>\n",
       "      <td>43293280</td>\n",
       "      <td>137</td>\n",
       "      <td>392072.04</td>\n",
       "      <td>2.87</td>\n",
       "      <td>2.26</td>\n",
       "      <td>0.00</td>\n",
       "      <td>32096160</td>\n",
       "      <td>95</td>\n",
       "      <td>0</td>\n",
       "    </tr>\n",
       "    <tr>\n",
       "      <th>11</th>\n",
       "      <td>1807</td>\n",
       "      <td>5631138</td>\n",
       "      <td>2018</td>\n",
       "      <td>1</td>\n",
       "      <td>8205240</td>\n",
       "      <td>47</td>\n",
       "      <td>119811.45</td>\n",
       "      <td>5631138</td>\n",
       "      <td>2018</td>\n",
       "      <td>12</td>\n",
       "      <td>17526500</td>\n",
       "      <td>92</td>\n",
       "      <td>61208.02</td>\n",
       "      <td>1.14</td>\n",
       "      <td>0.96</td>\n",
       "      <td>0.00</td>\n",
       "      <td>9321260</td>\n",
       "      <td>45</td>\n",
       "      <td>0</td>\n",
       "    </tr>\n",
       "    <tr>\n",
       "      <th>19</th>\n",
       "      <td>3611</td>\n",
       "      <td>3955788</td>\n",
       "      <td>2018</td>\n",
       "      <td>1</td>\n",
       "      <td>301680</td>\n",
       "      <td>3</td>\n",
       "      <td>1318596.00</td>\n",
       "      <td>3955788</td>\n",
       "      <td>2018</td>\n",
       "      <td>12</td>\n",
       "      <td>5530120</td>\n",
       "      <td>38</td>\n",
       "      <td>104099.68</td>\n",
       "      <td>17.33</td>\n",
       "      <td>11.67</td>\n",
       "      <td>0.00</td>\n",
       "      <td>5228440</td>\n",
       "      <td>35</td>\n",
       "      <td>0</td>\n",
       "    </tr>\n",
       "    <tr>\n",
       "      <th>24</th>\n",
       "      <td>5202</td>\n",
       "      <td>90027705</td>\n",
       "      <td>2018</td>\n",
       "      <td>1</td>\n",
       "      <td>8594100</td>\n",
       "      <td>27</td>\n",
       "      <td>3334359.44</td>\n",
       "      <td>90027705</td>\n",
       "      <td>2018</td>\n",
       "      <td>12</td>\n",
       "      <td>15087700</td>\n",
       "      <td>45</td>\n",
       "      <td>2000615.67</td>\n",
       "      <td>0.76</td>\n",
       "      <td>0.67</td>\n",
       "      <td>0.00</td>\n",
       "      <td>6493600</td>\n",
       "      <td>18</td>\n",
       "      <td>0</td>\n",
       "    </tr>\n",
       "    <tr>\n",
       "      <th>28</th>\n",
       "      <td>6438</td>\n",
       "      <td>3770065</td>\n",
       "      <td>2018</td>\n",
       "      <td>1</td>\n",
       "      <td>2212900</td>\n",
       "      <td>19</td>\n",
       "      <td>198424.47</td>\n",
       "      <td>3770065</td>\n",
       "      <td>2018</td>\n",
       "      <td>12</td>\n",
       "      <td>5160360</td>\n",
       "      <td>34</td>\n",
       "      <td>110884.26</td>\n",
       "      <td>1.33</td>\n",
       "      <td>0.79</td>\n",
       "      <td>0.00</td>\n",
       "      <td>2947460</td>\n",
       "      <td>15</td>\n",
       "      <td>0</td>\n",
       "    </tr>\n",
       "    <tr>\n",
       "      <th>...</th>\n",
       "      <td>...</td>\n",
       "      <td>...</td>\n",
       "      <td>...</td>\n",
       "      <td>...</td>\n",
       "      <td>...</td>\n",
       "      <td>...</td>\n",
       "      <td>...</td>\n",
       "      <td>...</td>\n",
       "      <td>...</td>\n",
       "      <td>...</td>\n",
       "      <td>...</td>\n",
       "      <td>...</td>\n",
       "      <td>...</td>\n",
       "      <td>...</td>\n",
       "      <td>...</td>\n",
       "      <td>...</td>\n",
       "      <td>...</td>\n",
       "      <td>...</td>\n",
       "      <td>...</td>\n",
       "    </tr>\n",
       "    <tr>\n",
       "      <th>2386</th>\n",
       "      <td>635082</td>\n",
       "      <td>36069908</td>\n",
       "      <td>2018</td>\n",
       "      <td>1</td>\n",
       "      <td>29336740</td>\n",
       "      <td>139</td>\n",
       "      <td>259495.74</td>\n",
       "      <td>36069908</td>\n",
       "      <td>2018</td>\n",
       "      <td>12</td>\n",
       "      <td>50945840</td>\n",
       "      <td>254</td>\n",
       "      <td>142007.51</td>\n",
       "      <td>0.74</td>\n",
       "      <td>0.83</td>\n",
       "      <td>0.00</td>\n",
       "      <td>21609100</td>\n",
       "      <td>115</td>\n",
       "      <td>0</td>\n",
       "    </tr>\n",
       "    <tr>\n",
       "      <th>2390</th>\n",
       "      <td>782086</td>\n",
       "      <td>3845136</td>\n",
       "      <td>2018</td>\n",
       "      <td>9</td>\n",
       "      <td>1219300</td>\n",
       "      <td>5</td>\n",
       "      <td>769027.20</td>\n",
       "      <td>3845136</td>\n",
       "      <td>2018</td>\n",
       "      <td>12</td>\n",
       "      <td>1395000</td>\n",
       "      <td>8</td>\n",
       "      <td>480642.00</td>\n",
       "      <td>0.14</td>\n",
       "      <td>0.60</td>\n",
       "      <td>0.00</td>\n",
       "      <td>175700</td>\n",
       "      <td>3</td>\n",
       "      <td>0</td>\n",
       "    </tr>\n",
       "    <tr>\n",
       "      <th>2395</th>\n",
       "      <td>900163</td>\n",
       "      <td>836891</td>\n",
       "      <td>2018</td>\n",
       "      <td>2</td>\n",
       "      <td>442800</td>\n",
       "      <td>3</td>\n",
       "      <td>278963.67</td>\n",
       "      <td>836891</td>\n",
       "      <td>2018</td>\n",
       "      <td>12</td>\n",
       "      <td>916460</td>\n",
       "      <td>6</td>\n",
       "      <td>139481.83</td>\n",
       "      <td>1.07</td>\n",
       "      <td>1.00</td>\n",
       "      <td>0.00</td>\n",
       "      <td>473660</td>\n",
       "      <td>3</td>\n",
       "      <td>0</td>\n",
       "    </tr>\n",
       "    <tr>\n",
       "      <th>2396</th>\n",
       "      <td>918661</td>\n",
       "      <td>258590</td>\n",
       "      <td>2018</td>\n",
       "      <td>1</td>\n",
       "      <td>332900</td>\n",
       "      <td>3</td>\n",
       "      <td>86196.67</td>\n",
       "      <td>258590</td>\n",
       "      <td>2018</td>\n",
       "      <td>12</td>\n",
       "      <td>867140</td>\n",
       "      <td>6</td>\n",
       "      <td>43098.33</td>\n",
       "      <td>1.60</td>\n",
       "      <td>1.00</td>\n",
       "      <td>0.00</td>\n",
       "      <td>534240</td>\n",
       "      <td>3</td>\n",
       "      <td>0</td>\n",
       "    </tr>\n",
       "    <tr>\n",
       "      <th>2397</th>\n",
       "      <td>933076</td>\n",
       "      <td>213311</td>\n",
       "      <td>2018</td>\n",
       "      <td>3</td>\n",
       "      <td>288000</td>\n",
       "      <td>4</td>\n",
       "      <td>53327.75</td>\n",
       "      <td>213311</td>\n",
       "      <td>2018</td>\n",
       "      <td>12</td>\n",
       "      <td>648000</td>\n",
       "      <td>9</td>\n",
       "      <td>23701.22</td>\n",
       "      <td>1.25</td>\n",
       "      <td>1.25</td>\n",
       "      <td>0.00</td>\n",
       "      <td>360000</td>\n",
       "      <td>5</td>\n",
       "      <td>0</td>\n",
       "    </tr>\n",
       "  </tbody>\n",
       "</table>\n",
       "<p>255 rows × 19 columns</p>\n",
       "</div>"
      ],
      "text/plain": [
       "        회사ID   기준_연매출액  기준_년도  기준_월  기준_연금보험료  기준_직원수   기준_인당매출액   비교_연매출액  \\\n",
       "9       1125  53713870   2018     1  11197120      42 1278901.67  53713870   \n",
       "11      1807   5631138   2018     1   8205240      47  119811.45   5631138   \n",
       "19      3611   3955788   2018     1    301680       3 1318596.00   3955788   \n",
       "24      5202  90027705   2018     1   8594100      27 3334359.44  90027705   \n",
       "28      6438   3770065   2018     1   2212900      19  198424.47   3770065   \n",
       "...      ...       ...    ...   ...       ...     ...        ...       ...   \n",
       "2386  635082  36069908   2018     1  29336740     139  259495.74  36069908   \n",
       "2390  782086   3845136   2018     9   1219300       5  769027.20   3845136   \n",
       "2395  900163    836891   2018     2    442800       3  278963.67    836891   \n",
       "2396  918661    258590   2018     1    332900       3   86196.67    258590   \n",
       "2397  933076    213311   2018     3    288000       4   53327.75    213311   \n",
       "\n",
       "      비교_년도  비교_월  비교_연금보험료  비교_직원수   비교_인당매출액  성장율_연금보험료  성장율_직원수  성장율_연매출액  \\\n",
       "9      2018    12  43293280     137  392072.04       2.87     2.26      0.00   \n",
       "11     2018    12  17526500      92   61208.02       1.14     0.96      0.00   \n",
       "19     2018    12   5530120      38  104099.68      17.33    11.67      0.00   \n",
       "24     2018    12  15087700      45 2000615.67       0.76     0.67      0.00   \n",
       "28     2018    12   5160360      34  110884.26       1.33     0.79      0.00   \n",
       "...     ...   ...       ...     ...        ...        ...      ...       ...   \n",
       "2386   2018    12  50945840     254  142007.51       0.74     0.83      0.00   \n",
       "2390   2018    12   1395000       8  480642.00       0.14     0.60      0.00   \n",
       "2395   2018    12    916460       6  139481.83       1.07     1.00      0.00   \n",
       "2396   2018    12    867140       6   43098.33       1.60     1.00      0.00   \n",
       "2397   2018    12    648000       9   23701.22       1.25     1.25      0.00   \n",
       "\n",
       "      증감_연금보험료  증감_직원수  증감_연매출액  \n",
       "9     32096160      95        0  \n",
       "11     9321260      45        0  \n",
       "19     5228440      35        0  \n",
       "24     6493600      18        0  \n",
       "28     2947460      15        0  \n",
       "...        ...     ...      ...  \n",
       "2386  21609100     115        0  \n",
       "2390    175700       3        0  \n",
       "2395    473660       3        0  \n",
       "2396    534240       3        0  \n",
       "2397    360000       5        0  \n",
       "\n",
       "[255 rows x 19 columns]"
      ]
     },
     "execution_count": 663,
     "metadata": {},
     "output_type": "execute_result"
    }
   ],
   "source": [
    "df_less_growth.query('성장율_직원수>=0.45')"
   ]
  },
  {
   "cell_type": "code",
   "execution_count": 342,
   "metadata": {
    "hidden": true
   },
   "outputs": [
    {
     "data": {
      "text/html": [
       "<div>\n",
       "<style scoped>\n",
       "    .dataframe tbody tr th:only-of-type {\n",
       "        vertical-align: middle;\n",
       "    }\n",
       "\n",
       "    .dataframe tbody tr th {\n",
       "        vertical-align: top;\n",
       "    }\n",
       "\n",
       "    .dataframe thead th {\n",
       "        text-align: right;\n",
       "    }\n",
       "</style>\n",
       "<table border=\"1\" class=\"dataframe\">\n",
       "  <thead>\n",
       "    <tr style=\"text-align: right;\">\n",
       "      <th></th>\n",
       "      <th>count</th>\n",
       "      <th>mean</th>\n",
       "      <th>std</th>\n",
       "      <th>min</th>\n",
       "      <th>25%</th>\n",
       "      <th>50%</th>\n",
       "      <th>75%</th>\n",
       "      <th>max</th>\n",
       "    </tr>\n",
       "  </thead>\n",
       "  <tbody>\n",
       "    <tr>\n",
       "      <th>성장율_직원수</th>\n",
       "      <td>35.00</td>\n",
       "      <td>0.50</td>\n",
       "      <td>0.63</td>\n",
       "      <td>-0.12</td>\n",
       "      <td>0.00</td>\n",
       "      <td>0.38</td>\n",
       "      <td>0.70</td>\n",
       "      <td>2.92</td>\n",
       "    </tr>\n",
       "    <tr>\n",
       "      <th>기간내성장율_직원수</th>\n",
       "      <td>35.00</td>\n",
       "      <td>1.11</td>\n",
       "      <td>2.95</td>\n",
       "      <td>0.00</td>\n",
       "      <td>0.00</td>\n",
       "      <td>0.00</td>\n",
       "      <td>0.00</td>\n",
       "      <td>13.12</td>\n",
       "    </tr>\n",
       "    <tr>\n",
       "      <th>연평균성장율_직원수</th>\n",
       "      <td>35.00</td>\n",
       "      <td>0.50</td>\n",
       "      <td>0.25</td>\n",
       "      <td>0.18</td>\n",
       "      <td>0.26</td>\n",
       "      <td>0.45</td>\n",
       "      <td>0.69</td>\n",
       "      <td>0.97</td>\n",
       "    </tr>\n",
       "  </tbody>\n",
       "</table>\n",
       "</div>"
      ],
      "text/plain": [
       "            count  mean  std   min  25%  50%  75%   max\n",
       "성장율_직원수     35.00  0.50 0.63 -0.12 0.00 0.38 0.70  2.92\n",
       "기간내성장율_직원수  35.00  1.11 2.95  0.00 0.00 0.00 0.00 13.12\n",
       "연평균성장율_직원수  35.00  0.50 0.25  0.18 0.26 0.45 0.69  0.97"
      ]
     },
     "execution_count": 342,
     "metadata": {},
     "output_type": "execute_result"
    }
   ],
   "source": [
    "df_unicorn.filter(regex='성장율').describe().T"
   ]
  },
  {
   "cell_type": "markdown",
   "metadata": {
    "hidden": true
   },
   "source": [
    "**데이터 기간 1년 이하인 기업들(2407개) 중 직원성장율 0.45 이상 기업**"
   ]
  },
  {
   "cell_type": "code",
   "execution_count": 452,
   "metadata": {
    "hidden": true,
    "scrolled": true
   },
   "outputs": [
    {
     "name": "stdout",
     "output_type": "stream",
     "text": [
      "유니콘 기업의 직원 수 연평균성장율 0.45 이상인 기업 : 4\n",
      "['（주）비바리퍼블리카' '주식회사쏘카' '(주)야놀자' '（주）지피클럽']\n"
     ]
    }
   ],
   "source": [
    "# 유니콘 기업의 직원 수 연평균성장율 0.4 이상인 기업 \n",
    "print('유니콘 기업의 직원 수 연평균성장율 0.45 이상인 기업 :', df_unicorn.query('연평균성장율_직원수>=0.45')['사업장명'].nunique())\n",
    "print(df_unicorn.query('연평균성장율_직원수>=0.45')['사업장명'].unique())"
   ]
  },
  {
   "cell_type": "markdown",
   "metadata": {
    "hidden": true
   },
   "source": [
    "**높은 직원 성장율을 보인 상기 기업을 제외한 데이터1년이하 기업 필터링**"
   ]
  },
  {
   "cell_type": "code",
   "execution_count": 472,
   "metadata": {
    "hidden": true,
    "scrolled": true
   },
   "outputs": [
    {
     "name": "stdout",
     "output_type": "stream",
     "text": [
      "raw data 기업 수 : 4998\n",
      "분석대상금액 필터링 후 기업 수 : 4928\n",
      "분석대상금액 필터링 후 기업 수 : 2776\n"
     ]
    }
   ],
   "source": [
    "print('raw data 기업 수 :', df['회사ID'].nunique())\n",
    "print('분석대상금액 필터링 후 기업 수 :', df_eda['회사ID'].nunique())\n",
    "# df_eda_filtered :매출액 1000억 기준, 데이터기간 1년 기준 필터링 후 데이터 셋\n",
    "df_eda_filtered_less = df_eda[~df_eda['회사ID'].isin(df_less_growth.query('성장율_직원수<=0.45')['회사ID'].to_list())].reset_index().drop('index', axis=1)\n",
    "print('분석대상금액 필터링 후 기업 수 :', df_eda_filtered['회사ID'].nunique())"
   ]
  },
  {
   "cell_type": "markdown",
   "metadata": {
    "hidden": true
   },
   "source": [
    "**df_eda_filtered_less : 분석대상, 분석기간 필터링 후 데이터셋**\n",
    "- 2776개의 기업\n",
    "- 2019년 데이터 있는 경우, 연매출액 1000억 이상\n",
    "- 데이터 기간 1년 이하인 경우 직원수 성장율 0.45이상"
   ]
  },
  {
   "cell_type": "markdown",
   "metadata": {
    "heading_collapsed": true
   },
   "source": [
    "## 연성장율 : df_growth_cleansed\n",
    "> - 회사 ID별로 데이터 기간 상이하나, **회사 ID별 연평균 (연금보험료/직원수/연매출액)성장율을 파악하고자 함**"
   ]
  },
  {
   "cell_type": "markdown",
   "metadata": {
    "hidden": true
   },
   "source": [
    "#### 성장율 분석 데이터셋"
   ]
  },
  {
   "cell_type": "code",
   "execution_count": 882,
   "metadata": {
    "hidden": true,
    "scrolled": true
   },
   "outputs": [
    {
     "data": {
      "text/html": [
       "<div>\n",
       "<style scoped>\n",
       "    .dataframe tbody tr th:only-of-type {\n",
       "        vertical-align: middle;\n",
       "    }\n",
       "\n",
       "    .dataframe tbody tr th {\n",
       "        vertical-align: top;\n",
       "    }\n",
       "\n",
       "    .dataframe thead th {\n",
       "        text-align: right;\n",
       "    }\n",
       "</style>\n",
       "<table border=\"1\" class=\"dataframe\">\n",
       "  <thead>\n",
       "    <tr style=\"text-align: right;\">\n",
       "      <th></th>\n",
       "      <th>회사ID</th>\n",
       "      <th>연매출액</th>\n",
       "      <th>년도</th>\n",
       "      <th>월</th>\n",
       "      <th>월별_연금보험료</th>\n",
       "      <th>월별_직원수</th>\n",
       "      <th>인당_매출액</th>\n",
       "    </tr>\n",
       "  </thead>\n",
       "  <tbody>\n",
       "    <tr>\n",
       "      <th>0</th>\n",
       "      <td>44851</td>\n",
       "      <td>939238</td>\n",
       "      <td>2016</td>\n",
       "      <td>1</td>\n",
       "      <td>1181140</td>\n",
       "      <td>8</td>\n",
       "      <td>117404.75</td>\n",
       "    </tr>\n",
       "    <tr>\n",
       "      <th>1</th>\n",
       "      <td>44851</td>\n",
       "      <td>939238</td>\n",
       "      <td>2016</td>\n",
       "      <td>2</td>\n",
       "      <td>1181140</td>\n",
       "      <td>8</td>\n",
       "      <td>117404.75</td>\n",
       "    </tr>\n",
       "  </tbody>\n",
       "</table>\n",
       "</div>"
      ],
      "text/plain": [
       "    회사ID    연매출액    년도  월  월별_연금보험료  월별_직원수    인당_매출액\n",
       "0  44851  939238  2016  1   1181140       8 117404.75\n",
       "1  44851  939238  2016  2   1181140       8 117404.75"
      ]
     },
     "execution_count": 882,
     "metadata": {},
     "output_type": "execute_result"
    }
   ],
   "source": [
    "df_eda_filtered = df_eda[~df_eda['회사ID'].isin(less_list)].sort_values(['회사ID','년도','월']).reset_index().drop('index', axis=1)\n",
    "df_eda_filtered.head(2)"
   ]
  },
  {
   "cell_type": "code",
   "execution_count": 788,
   "metadata": {
    "hidden": true,
    "scrolled": true
   },
   "outputs": [
    {
     "data": {
      "text/plain": [
       "(73191, 7)"
      ]
     },
     "execution_count": 788,
     "metadata": {},
     "output_type": "execute_result"
    }
   ],
   "source": [
    "df_eda_filtered.shape"
   ]
  },
  {
   "cell_type": "markdown",
   "metadata": {
    "hidden": true
   },
   "source": [
    "**df_eda_filtered : 분석대상, 분석기간 필터링 후 데이터셋**\n",
    "- 2776개의 기업\n",
    "- 2019년 데이터 있는 경우, 연매출액 1000억 이상\n",
    "- 데이터 기간 1년 초과 "
   ]
  },
  {
   "cell_type": "markdown",
   "metadata": {
    "heading_collapsed": true,
    "hidden": true
   },
   "source": [
    "### 월별 데이터 있는 변수 : 직원수, 연금보험료, 인당매출액\n",
    "key = 회사ID + - + 년도\n",
    "1. 월별성장율 계산\n",
    "2. 년도별로 월별성장율 평균 계산"
   ]
  },
  {
   "cell_type": "code",
   "execution_count": 883,
   "metadata": {
    "hidden": true,
    "scrolled": true
   },
   "outputs": [],
   "source": [
    "df_eda_filtered=df_eda_filtered.sort_values(['회사ID','년도','월']).reset_index().drop('index', axis=1)\n",
    "\n",
    "# df_eda_filtered.info()\n",
    "df_eda_filtered=df_eda_filtered.astype({'회사ID':str, '년도':str,'월':str})\n",
    "df_eda_filtered['key'] = df_eda_filtered['회사ID']+\"-\"+df_eda_filtered['년도']\n",
    "df_eda_filtered=df_eda_filtered.astype({'회사ID':int, '년도':int,'월':int})\n",
    "\n",
    "# index : key(회사ID+년도)로 설정\n",
    "df_eda_filtered.set_index('key', inplace=True)"
   ]
  },
  {
   "cell_type": "code",
   "execution_count": 884,
   "metadata": {
    "hidden": true
   },
   "outputs": [
    {
     "data": {
      "text/plain": [
       "(7480, 3)"
      ]
     },
     "execution_count": 884,
     "metadata": {},
     "output_type": "execute_result"
    }
   ],
   "source": [
    "# 월별 성장율 \n",
    "#df_eda_filtered.sort_values(['회사ID','년도','월']).filter(regex='연금|직원|인당').groupby('key').pct_change()#.groupby('key').agg('mean')\n",
    "\n",
    "# 평균 성장율\n",
    "df_eda_filtered.sort_values(['회사ID','년도','월']).filter(regex='연금|직원|인당').groupby('key').pct_change().groupby('key').agg('mean')\n",
    "df_growth_monthly = df_eda_filtered.sort_values(['회사ID','년도','월']).filter(regex='월|연금|직원|인당').groupby('key').pct_change().groupby('key').agg('mean')\n",
    "df_growth_monthly = df_growth_monthly.drop('월',axis=1).rename(columns = {'월별_연금보험료':'평균성장율_연금보험료',\n",
    "                                                      '월별_직원수':'평균성장율_직원수',\n",
    "                                                      '인당_매출액':'평균성장율_인당매출액'})\n",
    "df_growth_monthly.shape"
   ]
  },
  {
   "cell_type": "markdown",
   "metadata": {
    "heading_collapsed": true,
    "hidden": true
   },
   "source": [
    "### 연도별 데이터 있는 변수 : 매출액\n",
    "1. 연도별 성장율 계산"
   ]
  },
  {
   "cell_type": "code",
   "execution_count": 885,
   "metadata": {
    "hidden": true,
    "scrolled": false
   },
   "outputs": [
    {
     "data": {
      "text/plain": [
       "(7480, 1)"
      ]
     },
     "execution_count": 885,
     "metadata": {},
     "output_type": "execute_result"
    }
   ],
   "source": [
    "df_growth_yearly = df_eda_filtered.filter(regex='연매출액').groupby('key').agg('mean')\n",
    "df_growth_yearly.reset_index(inplace=True)\n",
    "\n",
    "# 회사ID 변수 추가\n",
    "df_growth_yearly['회사ID']=pd.DataFrame(df_growth_yearly['key'].str.split('-',2).tolist())[0]\n",
    "df_growth_yearly=df_growth_yearly.astype({'회사ID':'int'})\n",
    "# key유지, 회사별 성장율_연매출액 \n",
    "df_growth_yearly = df_growth_yearly.set_index('key').groupby('회사ID').pct_change().rename(columns={'연매출액':'성장율_연매출액'})\n",
    "df_growth_yearly.shape"
   ]
  },
  {
   "cell_type": "markdown",
   "metadata": {
    "heading_collapsed": true,
    "hidden": true
   },
   "source": [
    "### 지수 산출용 데이터셋"
   ]
  },
  {
   "cell_type": "code",
   "execution_count": 892,
   "metadata": {
    "hidden": true,
    "scrolled": false
   },
   "outputs": [
    {
     "name": "stdout",
     "output_type": "stream",
     "text": [
      "(7480, 4)\n"
     ]
    },
    {
     "data": {
      "text/html": [
       "<div>\n",
       "<style scoped>\n",
       "    .dataframe tbody tr th:only-of-type {\n",
       "        vertical-align: middle;\n",
       "    }\n",
       "\n",
       "    .dataframe tbody tr th {\n",
       "        vertical-align: top;\n",
       "    }\n",
       "\n",
       "    .dataframe thead th {\n",
       "        text-align: right;\n",
       "    }\n",
       "</style>\n",
       "<table border=\"1\" class=\"dataframe\">\n",
       "  <thead>\n",
       "    <tr style=\"text-align: right;\">\n",
       "      <th></th>\n",
       "      <th>평균성장율_연금보험료</th>\n",
       "      <th>평균성장율_직원수</th>\n",
       "      <th>평균성장율_인당매출액</th>\n",
       "      <th>성장율_연매출액</th>\n",
       "    </tr>\n",
       "    <tr>\n",
       "      <th>key</th>\n",
       "      <th></th>\n",
       "      <th></th>\n",
       "      <th></th>\n",
       "      <th></th>\n",
       "    </tr>\n",
       "  </thead>\n",
       "  <tbody>\n",
       "    <tr>\n",
       "      <th>122968-2015</th>\n",
       "      <td>-0.00</td>\n",
       "      <td>0.00</td>\n",
       "      <td>0.00</td>\n",
       "      <td>NaN</td>\n",
       "    </tr>\n",
       "    <tr>\n",
       "      <th>122968-2016</th>\n",
       "      <td>0.02</td>\n",
       "      <td>0.01</td>\n",
       "      <td>-0.01</td>\n",
       "      <td>-0.28</td>\n",
       "    </tr>\n",
       "    <tr>\n",
       "      <th>122968-2017</th>\n",
       "      <td>0.00</td>\n",
       "      <td>0.00</td>\n",
       "      <td>0.00</td>\n",
       "      <td>0.23</td>\n",
       "    </tr>\n",
       "    <tr>\n",
       "      <th>122968-2018</th>\n",
       "      <td>0.00</td>\n",
       "      <td>0.00</td>\n",
       "      <td>-0.00</td>\n",
       "      <td>-0.04</td>\n",
       "    </tr>\n",
       "    <tr>\n",
       "      <th>122983-2015</th>\n",
       "      <td>-0.01</td>\n",
       "      <td>-0.02</td>\n",
       "      <td>0.02</td>\n",
       "      <td>NaN</td>\n",
       "    </tr>\n",
       "  </tbody>\n",
       "</table>\n",
       "</div>"
      ],
      "text/plain": [
       "             평균성장율_연금보험료  평균성장율_직원수  평균성장율_인당매출액  성장율_연매출액\n",
       "key                                                       \n",
       "122968-2015        -0.00       0.00         0.00       NaN\n",
       "122968-2016         0.02       0.01        -0.01     -0.28\n",
       "122968-2017         0.00       0.00         0.00      0.23\n",
       "122968-2018         0.00       0.00        -0.00     -0.04\n",
       "122983-2015        -0.01      -0.02         0.02       NaN"
      ]
     },
     "execution_count": 892,
     "metadata": {},
     "output_type": "execute_result"
    }
   ],
   "source": [
    "# index = key 기준 inner join\n",
    "df_growth = df_growth_monthly.merge(df_growth_yearly, left_index=True,right_index=True, how='inner')\n",
    "print(df_growth.shape)\n",
    "df_growth.head()"
   ]
  },
  {
   "cell_type": "code",
   "execution_count": 897,
   "metadata": {
    "hidden": true,
    "scrolled": false
   },
   "outputs": [
    {
     "data": {
      "text/html": [
       "<div>\n",
       "<style scoped>\n",
       "    .dataframe tbody tr th:only-of-type {\n",
       "        vertical-align: middle;\n",
       "    }\n",
       "\n",
       "    .dataframe tbody tr th {\n",
       "        vertical-align: top;\n",
       "    }\n",
       "\n",
       "    .dataframe thead th {\n",
       "        text-align: right;\n",
       "    }\n",
       "</style>\n",
       "<table border=\"1\" class=\"dataframe\">\n",
       "  <thead>\n",
       "    <tr style=\"text-align: right;\">\n",
       "      <th></th>\n",
       "      <th>key</th>\n",
       "      <th>평균성장율_연금보험료</th>\n",
       "      <th>평균성장율_직원수</th>\n",
       "      <th>평균성장율_인당매출액</th>\n",
       "      <th>성장율_연매출액</th>\n",
       "      <th>회사ID</th>\n",
       "      <th>년도</th>\n",
       "    </tr>\n",
       "  </thead>\n",
       "  <tbody>\n",
       "    <tr>\n",
       "      <th>0</th>\n",
       "      <td>122968-2015</td>\n",
       "      <td>-0.28</td>\n",
       "      <td>0.00</td>\n",
       "      <td>0.00</td>\n",
       "      <td>NaN</td>\n",
       "      <td>122968</td>\n",
       "      <td>2015</td>\n",
       "    </tr>\n",
       "    <tr>\n",
       "      <th>1</th>\n",
       "      <td>122968-2016</td>\n",
       "      <td>2.26</td>\n",
       "      <td>1.40</td>\n",
       "      <td>-1.16</td>\n",
       "      <td>-28.21</td>\n",
       "      <td>122968</td>\n",
       "      <td>2016</td>\n",
       "    </tr>\n",
       "    <tr>\n",
       "      <th>2</th>\n",
       "      <td>122968-2017</td>\n",
       "      <td>0.15</td>\n",
       "      <td>0.44</td>\n",
       "      <td>0.44</td>\n",
       "      <td>22.86</td>\n",
       "      <td>122968</td>\n",
       "      <td>2017</td>\n",
       "    </tr>\n",
       "    <tr>\n",
       "      <th>3</th>\n",
       "      <td>122968-2018</td>\n",
       "      <td>0.38</td>\n",
       "      <td>0.27</td>\n",
       "      <td>-0.02</td>\n",
       "      <td>-4.50</td>\n",
       "      <td>122968</td>\n",
       "      <td>2018</td>\n",
       "    </tr>\n",
       "    <tr>\n",
       "      <th>4</th>\n",
       "      <td>122983-2015</td>\n",
       "      <td>-1.18</td>\n",
       "      <td>-1.56</td>\n",
       "      <td>1.59</td>\n",
       "      <td>NaN</td>\n",
       "      <td>122983</td>\n",
       "      <td>2015</td>\n",
       "    </tr>\n",
       "  </tbody>\n",
       "</table>\n",
       "</div>"
      ],
      "text/plain": [
       "           key  평균성장율_연금보험료  평균성장율_직원수  평균성장율_인당매출액  성장율_연매출액    회사ID    년도\n",
       "0  122968-2015        -0.28       0.00         0.00       NaN  122968  2015\n",
       "1  122968-2016         2.26       1.40        -1.16    -28.21  122968  2016\n",
       "2  122968-2017         0.15       0.44         0.44     22.86  122968  2017\n",
       "3  122968-2018         0.38       0.27        -0.02     -4.50  122968  2018\n",
       "4  122983-2015        -1.18      -1.56         1.59       NaN  122983  2015"
      ]
     },
     "execution_count": 897,
     "metadata": {},
     "output_type": "execute_result"
    }
   ],
   "source": [
    "# %로 전환\n",
    "df_growth = df_growth.apply(lambda x : x*100)\n",
    "df_growth.reset_index(inplace=True)\n",
    "df_growth[['회사ID','년도']]=pd.DataFrame(df_growth['key'].str.split('-',2).tolist())\n",
    "df_growth.head()"
   ]
  },
  {
   "cell_type": "code",
   "execution_count": 899,
   "metadata": {
    "hidden": true,
    "scrolled": true
   },
   "outputs": [
    {
     "name": "stdout",
     "output_type": "stream",
     "text": [
      "2521\n",
      "(4958, 7)\n"
     ]
    },
    {
     "data": {
      "text/html": [
       "<div>\n",
       "<style scoped>\n",
       "    .dataframe tbody tr th:only-of-type {\n",
       "        vertical-align: middle;\n",
       "    }\n",
       "\n",
       "    .dataframe tbody tr th {\n",
       "        vertical-align: top;\n",
       "    }\n",
       "\n",
       "    .dataframe thead th {\n",
       "        text-align: right;\n",
       "    }\n",
       "</style>\n",
       "<table border=\"1\" class=\"dataframe\">\n",
       "  <thead>\n",
       "    <tr style=\"text-align: right;\">\n",
       "      <th></th>\n",
       "      <th>회사ID</th>\n",
       "    </tr>\n",
       "    <tr>\n",
       "      <th>년도</th>\n",
       "      <th></th>\n",
       "    </tr>\n",
       "  </thead>\n",
       "  <tbody>\n",
       "    <tr>\n",
       "      <th>2016</th>\n",
       "      <td>1544</td>\n",
       "    </tr>\n",
       "    <tr>\n",
       "      <th>2017</th>\n",
       "      <td>1436</td>\n",
       "    </tr>\n",
       "    <tr>\n",
       "      <th>2018</th>\n",
       "      <td>1974</td>\n",
       "    </tr>\n",
       "    <tr>\n",
       "      <th>2019</th>\n",
       "      <td>4</td>\n",
       "    </tr>\n",
       "  </tbody>\n",
       "</table>\n",
       "</div>"
      ],
      "text/plain": [
       "      회사ID\n",
       "년도        \n",
       "2016  1544\n",
       "2017  1436\n",
       "2018  1974\n",
       "2019     4"
      ]
     },
     "execution_count": 899,
     "metadata": {},
     "output_type": "execute_result"
    }
   ],
   "source": [
    "df_growth_cleansed = df_growth.dropna(axis=0)\n",
    "print(df_growth_cleansed['회사ID'].nunique())\n",
    "print(df_growth_cleansed.shape)\n",
    "df_growth_cleansed.groupby('년도').agg({'회사ID':'count'})"
   ]
  },
  {
   "cell_type": "markdown",
   "metadata": {
    "heading_collapsed": true
   },
   "source": [
    "## 경기고려가중치추가 : df_growth_cleansed\n",
    "**동행지수순환변동치 평균값이 낮을 수록 높게 부여 > 경기가 안좋음에도 성장율이 높은 경우 극대화**\n",
    "- 4개 연도별 가중치변수적용 def eco"
   ]
  },
  {
   "cell_type": "code",
   "execution_count": 929,
   "metadata": {
    "hidden": true,
    "scrolled": true
   },
   "outputs": [
    {
     "data": {
      "text/html": [
       "<div>\n",
       "<style scoped>\n",
       "    .dataframe tbody tr th:only-of-type {\n",
       "        vertical-align: middle;\n",
       "    }\n",
       "\n",
       "    .dataframe tbody tr th {\n",
       "        vertical-align: top;\n",
       "    }\n",
       "\n",
       "    .dataframe thead th {\n",
       "        text-align: right;\n",
       "    }\n",
       "</style>\n",
       "<table border=\"1\" class=\"dataframe\">\n",
       "  <thead>\n",
       "    <tr style=\"text-align: right;\">\n",
       "      <th></th>\n",
       "      <th>년도</th>\n",
       "      <th>평균_동행지수순환변동치</th>\n",
       "    </tr>\n",
       "  </thead>\n",
       "  <tbody>\n",
       "    <tr>\n",
       "      <th>0</th>\n",
       "      <td>2016</td>\n",
       "      <td>0.03</td>\n",
       "    </tr>\n",
       "    <tr>\n",
       "      <th>1</th>\n",
       "      <td>2017</td>\n",
       "      <td>0.43</td>\n",
       "    </tr>\n",
       "    <tr>\n",
       "      <th>2</th>\n",
       "      <td>2018</td>\n",
       "      <td>0.37</td>\n",
       "    </tr>\n",
       "    <tr>\n",
       "      <th>3</th>\n",
       "      <td>2019</td>\n",
       "      <td>0.13</td>\n",
       "    </tr>\n",
       "  </tbody>\n",
       "</table>\n",
       "</div>"
      ],
      "text/plain": [
       "     년도  평균_동행지수순환변동치\n",
       "0  2016          0.03\n",
       "1  2017          0.43\n",
       "2  2018          0.37\n",
       "3  2019          0.13"
      ]
     },
     "execution_count": 929,
     "metadata": {},
     "output_type": "execute_result"
    }
   ],
   "source": [
    "년도 = [2016,2017,2018,2019]\n",
    "평균_동행지수순환변동치 = [0.0250, 0.4333, 0.3667, 0.1333]\n",
    "eco = pd.DataFrame()\n",
    "eco['년도']=년도\n",
    "eco=eco.astype({'년도':'object'}) # merge 시 충돌\n",
    "eco['평균_동행지수순환변동치'] = 평균_동행지수순환변동치\n",
    "eco"
   ]
  },
  {
   "cell_type": "code",
   "execution_count": 930,
   "metadata": {
    "hidden": true,
    "scrolled": true
   },
   "outputs": [
    {
     "data": {
      "text/html": [
       "<div>\n",
       "<style scoped>\n",
       "    .dataframe tbody tr th:only-of-type {\n",
       "        vertical-align: middle;\n",
       "    }\n",
       "\n",
       "    .dataframe tbody tr th {\n",
       "        vertical-align: top;\n",
       "    }\n",
       "\n",
       "    .dataframe thead th {\n",
       "        text-align: right;\n",
       "    }\n",
       "</style>\n",
       "<table border=\"1\" class=\"dataframe\">\n",
       "  <thead>\n",
       "    <tr style=\"text-align: right;\">\n",
       "      <th></th>\n",
       "      <th>count</th>\n",
       "      <th>mean</th>\n",
       "      <th>std</th>\n",
       "      <th>min</th>\n",
       "      <th>25%</th>\n",
       "      <th>50%</th>\n",
       "      <th>75%</th>\n",
       "      <th>max</th>\n",
       "    </tr>\n",
       "  </thead>\n",
       "  <tbody>\n",
       "    <tr>\n",
       "      <th>평균_동행지수순환변동치</th>\n",
       "      <td>4.00</td>\n",
       "      <td>0.24</td>\n",
       "      <td>0.19</td>\n",
       "      <td>0.03</td>\n",
       "      <td>0.11</td>\n",
       "      <td>0.25</td>\n",
       "      <td>0.38</td>\n",
       "      <td>0.43</td>\n",
       "    </tr>\n",
       "  </tbody>\n",
       "</table>\n",
       "</div>"
      ],
      "text/plain": [
       "              count  mean  std  min  25%  50%  75%  max\n",
       "평균_동행지수순환변동치   4.00  0.24 0.19 0.03 0.11 0.25 0.38 0.43"
      ]
     },
     "execution_count": 930,
     "metadata": {},
     "output_type": "execute_result"
    }
   ],
   "source": [
    "eco.describe().T"
   ]
  },
  {
   "cell_type": "code",
   "execution_count": 931,
   "metadata": {
    "hidden": true,
    "scrolled": false
   },
   "outputs": [
    {
     "data": {
      "text/html": [
       "<div>\n",
       "<style scoped>\n",
       "    .dataframe tbody tr th:only-of-type {\n",
       "        vertical-align: middle;\n",
       "    }\n",
       "\n",
       "    .dataframe tbody tr th {\n",
       "        vertical-align: top;\n",
       "    }\n",
       "\n",
       "    .dataframe thead th {\n",
       "        text-align: right;\n",
       "    }\n",
       "</style>\n",
       "<table border=\"1\" class=\"dataframe\">\n",
       "  <thead>\n",
       "    <tr style=\"text-align: right;\">\n",
       "      <th></th>\n",
       "      <th>년도</th>\n",
       "      <th>평균_동행지수순환변동치</th>\n",
       "      <th>경기지수점수</th>\n",
       "    </tr>\n",
       "  </thead>\n",
       "  <tbody>\n",
       "    <tr>\n",
       "      <th>0</th>\n",
       "      <td>2016</td>\n",
       "      <td>0.03</td>\n",
       "      <td>0.40</td>\n",
       "    </tr>\n",
       "    <tr>\n",
       "      <th>1</th>\n",
       "      <td>2017</td>\n",
       "      <td>0.43</td>\n",
       "      <td>0.10</td>\n",
       "    </tr>\n",
       "    <tr>\n",
       "      <th>2</th>\n",
       "      <td>2018</td>\n",
       "      <td>0.37</td>\n",
       "      <td>0.20</td>\n",
       "    </tr>\n",
       "    <tr>\n",
       "      <th>3</th>\n",
       "      <td>2019</td>\n",
       "      <td>0.13</td>\n",
       "      <td>0.30</td>\n",
       "    </tr>\n",
       "  </tbody>\n",
       "</table>\n",
       "</div>"
      ],
      "text/plain": [
       "     년도  평균_동행지수순환변동치  경기지수점수\n",
       "0  2016          0.03    0.40\n",
       "1  2017          0.43    0.10\n",
       "2  2018          0.37    0.20\n",
       "3  2019          0.13    0.30"
      ]
     },
     "execution_count": 931,
     "metadata": {},
     "output_type": "execute_result"
    }
   ],
   "source": [
    "eco['경기지수점수'] = [0.4,0.1,0.2,0.3]\n",
    "eco"
   ]
  },
  {
   "cell_type": "code",
   "execution_count": 942,
   "metadata": {
    "hidden": true
   },
   "outputs": [],
   "source": [
    "def eco(x):\n",
    "    if x==2016: return 0.4\n",
    "    elif x==2017: return 0.1\n",
    "    elif x==2018: return 0.2\n",
    "    else: return 0.3"
   ]
  },
  {
   "cell_type": "code",
   "execution_count": 943,
   "metadata": {
    "hidden": true
   },
   "outputs": [],
   "source": [
    "df_growth_cleansed['경기지수점수']=df['년도'].apply(eco)"
   ]
  },
  {
   "cell_type": "markdown",
   "metadata": {},
   "source": [
    "## 유니콘 지수 산출\n",
    "**(직원수성장율 + 매출액성장율) * 경기지수점수**\n",
    "- 산출식에 대한 논의 필요.."
   ]
  },
  {
   "cell_type": "markdown",
   "metadata": {
    "heading_collapsed": true
   },
   "source": [
    "### 표준화 X : df_unicorn_indicator"
   ]
  },
  {
   "cell_type": "code",
   "execution_count": 985,
   "metadata": {
    "hidden": true
   },
   "outputs": [],
   "source": [
    "# 분석 데이터 유지\n",
    "df_unicorn_indicator = df_growth_cleansed.copy()"
   ]
  },
  {
   "cell_type": "code",
   "execution_count": 979,
   "metadata": {
    "hidden": true,
    "scrolled": true
   },
   "outputs": [
    {
     "data": {
      "text/html": [
       "<div>\n",
       "<style scoped>\n",
       "    .dataframe tbody tr th:only-of-type {\n",
       "        vertical-align: middle;\n",
       "    }\n",
       "\n",
       "    .dataframe tbody tr th {\n",
       "        vertical-align: top;\n",
       "    }\n",
       "\n",
       "    .dataframe thead th {\n",
       "        text-align: right;\n",
       "    }\n",
       "</style>\n",
       "<table border=\"1\" class=\"dataframe\">\n",
       "  <thead>\n",
       "    <tr style=\"text-align: right;\">\n",
       "      <th></th>\n",
       "      <th>key</th>\n",
       "      <th>평균성장율_연금보험료</th>\n",
       "      <th>평균성장율_직원수</th>\n",
       "      <th>평균성장율_인당매출액</th>\n",
       "      <th>성장율_연매출액</th>\n",
       "      <th>회사ID</th>\n",
       "      <th>년도</th>\n",
       "      <th>경기지수점수</th>\n",
       "    </tr>\n",
       "  </thead>\n",
       "  <tbody>\n",
       "    <tr>\n",
       "      <th>1</th>\n",
       "      <td>122968-2016</td>\n",
       "      <td>2.26</td>\n",
       "      <td>1.40</td>\n",
       "      <td>-1.16</td>\n",
       "      <td>-28.21</td>\n",
       "      <td>122968</td>\n",
       "      <td>2016</td>\n",
       "      <td>0.20</td>\n",
       "    </tr>\n",
       "    <tr>\n",
       "      <th>2</th>\n",
       "      <td>122968-2017</td>\n",
       "      <td>0.15</td>\n",
       "      <td>0.44</td>\n",
       "      <td>0.44</td>\n",
       "      <td>22.86</td>\n",
       "      <td>122968</td>\n",
       "      <td>2017</td>\n",
       "      <td>0.20</td>\n",
       "    </tr>\n",
       "    <tr>\n",
       "      <th>3</th>\n",
       "      <td>122968-2018</td>\n",
       "      <td>0.38</td>\n",
       "      <td>0.27</td>\n",
       "      <td>-0.02</td>\n",
       "      <td>-4.50</td>\n",
       "      <td>122968</td>\n",
       "      <td>2018</td>\n",
       "      <td>0.30</td>\n",
       "    </tr>\n",
       "    <tr>\n",
       "      <th>5</th>\n",
       "      <td>122983-2016</td>\n",
       "      <td>0.04</td>\n",
       "      <td>0.00</td>\n",
       "      <td>0.30</td>\n",
       "      <td>-16.07</td>\n",
       "      <td>122983</td>\n",
       "      <td>2016</td>\n",
       "      <td>0.20</td>\n",
       "    </tr>\n",
       "    <tr>\n",
       "      <th>6</th>\n",
       "      <td>122983-2017</td>\n",
       "      <td>-3.27</td>\n",
       "      <td>-4.10</td>\n",
       "      <td>8.92</td>\n",
       "      <td>-53.33</td>\n",
       "      <td>122983</td>\n",
       "      <td>2017</td>\n",
       "      <td>0.40</td>\n",
       "    </tr>\n",
       "    <tr>\n",
       "      <th>...</th>\n",
       "      <td>...</td>\n",
       "      <td>...</td>\n",
       "      <td>...</td>\n",
       "      <td>...</td>\n",
       "      <td>...</td>\n",
       "      <td>...</td>\n",
       "      <td>...</td>\n",
       "      <td>...</td>\n",
       "    </tr>\n",
       "    <tr>\n",
       "      <th>7474</th>\n",
       "      <td>516653-2017</td>\n",
       "      <td>2.93</td>\n",
       "      <td>2.27</td>\n",
       "      <td>-1.82</td>\n",
       "      <td>12.08</td>\n",
       "      <td>516653</td>\n",
       "      <td>2017</td>\n",
       "      <td>0.20</td>\n",
       "    </tr>\n",
       "    <tr>\n",
       "      <th>7475</th>\n",
       "      <td>516653-2018</td>\n",
       "      <td>7.29</td>\n",
       "      <td>5.21</td>\n",
       "      <td>-0.83</td>\n",
       "      <td>-23.33</td>\n",
       "      <td>516653</td>\n",
       "      <td>2018</td>\n",
       "      <td>0.40</td>\n",
       "    </tr>\n",
       "    <tr>\n",
       "      <th>7477</th>\n",
       "      <td>59533-2016</td>\n",
       "      <td>2.03</td>\n",
       "      <td>1.82</td>\n",
       "      <td>-1.52</td>\n",
       "      <td>6.71</td>\n",
       "      <td>59533</td>\n",
       "      <td>2016</td>\n",
       "      <td>0.40</td>\n",
       "    </tr>\n",
       "    <tr>\n",
       "      <th>7478</th>\n",
       "      <td>59533-2017</td>\n",
       "      <td>-1.64</td>\n",
       "      <td>-1.52</td>\n",
       "      <td>1.82</td>\n",
       "      <td>-40.17</td>\n",
       "      <td>59533</td>\n",
       "      <td>2017</td>\n",
       "      <td>0.40</td>\n",
       "    </tr>\n",
       "    <tr>\n",
       "      <th>7479</th>\n",
       "      <td>59533-2018</td>\n",
       "      <td>-1.17</td>\n",
       "      <td>-1.21</td>\n",
       "      <td>3.03</td>\n",
       "      <td>16.34</td>\n",
       "      <td>59533</td>\n",
       "      <td>2018</td>\n",
       "      <td>0.20</td>\n",
       "    </tr>\n",
       "  </tbody>\n",
       "</table>\n",
       "<p>4958 rows × 8 columns</p>\n",
       "</div>"
      ],
      "text/plain": [
       "              key  평균성장율_연금보험료  평균성장율_직원수  평균성장율_인당매출액  성장율_연매출액    회사ID  \\\n",
       "1     122968-2016         2.26       1.40        -1.16    -28.21  122968   \n",
       "2     122968-2017         0.15       0.44         0.44     22.86  122968   \n",
       "3     122968-2018         0.38       0.27        -0.02     -4.50  122968   \n",
       "5     122983-2016         0.04       0.00         0.30    -16.07  122983   \n",
       "6     122983-2017        -3.27      -4.10         8.92    -53.33  122983   \n",
       "...           ...          ...        ...          ...       ...     ...   \n",
       "7474  516653-2017         2.93       2.27        -1.82     12.08  516653   \n",
       "7475  516653-2018         7.29       5.21        -0.83    -23.33  516653   \n",
       "7477   59533-2016         2.03       1.82        -1.52      6.71   59533   \n",
       "7478   59533-2017        -1.64      -1.52         1.82    -40.17   59533   \n",
       "7479   59533-2018        -1.17      -1.21         3.03     16.34   59533   \n",
       "\n",
       "        년도  경기지수점수  \n",
       "1     2016    0.20  \n",
       "2     2017    0.20  \n",
       "3     2018    0.30  \n",
       "5     2016    0.20  \n",
       "6     2017    0.40  \n",
       "...    ...     ...  \n",
       "7474  2017    0.20  \n",
       "7475  2018    0.40  \n",
       "7477  2016    0.40  \n",
       "7478  2017    0.40  \n",
       "7479  2018    0.20  \n",
       "\n",
       "[4958 rows x 8 columns]"
      ]
     },
     "execution_count": 979,
     "metadata": {},
     "output_type": "execute_result"
    }
   ],
   "source": [
    "df_growth_cleansed"
   ]
  },
  {
   "cell_type": "code",
   "execution_count": 982,
   "metadata": {
    "hidden": true,
    "scrolled": true
   },
   "outputs": [],
   "source": [
    "df_unicorn_indicator['유니콘지수_직원수&매출액']= df_unicorn_indicator['경기지수점수']*(df_unicorn_indicator['평균성장율_직원수']+df_unicorn_indicator['성장율_연매출액'])\n",
    "df_unicorn_indicator=df_unicorn_indicator.groupby('회사ID').agg({'유니콘지수_직원수&매출액':'mean'})"
   ]
  },
  {
   "cell_type": "code",
   "execution_count": 957,
   "metadata": {
    "hidden": true,
    "scrolled": true
   },
   "outputs": [
    {
     "data": {
      "text/html": [
       "<div>\n",
       "<style scoped>\n",
       "    .dataframe tbody tr th:only-of-type {\n",
       "        vertical-align: middle;\n",
       "    }\n",
       "\n",
       "    .dataframe tbody tr th {\n",
       "        vertical-align: top;\n",
       "    }\n",
       "\n",
       "    .dataframe thead th {\n",
       "        text-align: right;\n",
       "    }\n",
       "</style>\n",
       "<table border=\"1\" class=\"dataframe\">\n",
       "  <thead>\n",
       "    <tr style=\"text-align: right;\">\n",
       "      <th></th>\n",
       "      <th>count</th>\n",
       "      <th>mean</th>\n",
       "      <th>std</th>\n",
       "      <th>min</th>\n",
       "      <th>25%</th>\n",
       "      <th>50%</th>\n",
       "      <th>75%</th>\n",
       "      <th>max</th>\n",
       "    </tr>\n",
       "  </thead>\n",
       "  <tbody>\n",
       "    <tr>\n",
       "      <th>유니콘지수_직원수&amp;매출액</th>\n",
       "      <td>2519.00</td>\n",
       "      <td>10.49</td>\n",
       "      <td>96.06</td>\n",
       "      <td>-38.16</td>\n",
       "      <td>-1.48</td>\n",
       "      <td>1.82</td>\n",
       "      <td>7.28</td>\n",
       "      <td>2930.86</td>\n",
       "    </tr>\n",
       "  </tbody>\n",
       "</table>\n",
       "</div>"
      ],
      "text/plain": [
       "                count  mean   std    min   25%  50%  75%     max\n",
       "유니콘지수_직원수&매출액 2519.00 10.49 96.06 -38.16 -1.48 1.82 7.28 2930.86"
      ]
     },
     "execution_count": 957,
     "metadata": {},
     "output_type": "execute_result"
    }
   ],
   "source": [
    "df_unicorn_indicator.filter(regex='유니콘').describe().T"
   ]
  },
  {
   "cell_type": "code",
   "execution_count": 959,
   "metadata": {
    "hidden": true,
    "scrolled": false
   },
   "outputs": [
    {
     "data": {
      "text/html": [
       "<div>\n",
       "<style scoped>\n",
       "    .dataframe tbody tr th:only-of-type {\n",
       "        vertical-align: middle;\n",
       "    }\n",
       "\n",
       "    .dataframe tbody tr th {\n",
       "        vertical-align: top;\n",
       "    }\n",
       "\n",
       "    .dataframe thead th {\n",
       "        text-align: right;\n",
       "    }\n",
       "</style>\n",
       "<table border=\"1\" class=\"dataframe\">\n",
       "  <thead>\n",
       "    <tr style=\"text-align: right;\">\n",
       "      <th></th>\n",
       "      <th>유니콘지수_직원수&amp;매출액</th>\n",
       "    </tr>\n",
       "    <tr>\n",
       "      <th>회사ID</th>\n",
       "      <th></th>\n",
       "    </tr>\n",
       "  </thead>\n",
       "  <tbody>\n",
       "    <tr>\n",
       "      <th>268810</th>\n",
       "      <td>2930.86</td>\n",
       "    </tr>\n",
       "    <tr>\n",
       "      <th>242254</th>\n",
       "      <td>2446.62</td>\n",
       "    </tr>\n",
       "    <tr>\n",
       "      <th>417469</th>\n",
       "      <td>1906.98</td>\n",
       "    </tr>\n",
       "    <tr>\n",
       "      <th>184149</th>\n",
       "      <td>1396.67</td>\n",
       "    </tr>\n",
       "    <tr>\n",
       "      <th>433756</th>\n",
       "      <td>911.25</td>\n",
       "    </tr>\n",
       "  </tbody>\n",
       "</table>\n",
       "</div>"
      ],
      "text/plain": [
       "        유니콘지수_직원수&매출액\n",
       "회사ID                 \n",
       "268810        2930.86\n",
       "242254        2446.62\n",
       "417469        1906.98\n",
       "184149        1396.67\n",
       "433756         911.25"
      ]
     },
     "execution_count": 959,
     "metadata": {},
     "output_type": "execute_result"
    }
   ],
   "source": [
    "df_unicorn_indicator.filter(regex='유니콘').sort_values('유니콘지수_직원수&매출액', ascending=False).head(5)"
   ]
  },
  {
   "cell_type": "code",
   "execution_count": 972,
   "metadata": {
    "hidden": true
   },
   "outputs": [],
   "source": [
    "# 유니콘 기업 5개 리스트\n",
    "unicorn_test_list = df_unicorn_indicator.filter(regex='유니콘').sort_values('유니콘지수_직원수&매출액', ascending=False).head(5).index\n",
    "# int 변환\n",
    "unicorn_test_list = list(map(int,unicorn_test_list)) "
   ]
  },
  {
   "cell_type": "code",
   "execution_count": 977,
   "metadata": {
    "hidden": true
   },
   "outputs": [],
   "source": [
    "df_unicorn_indicator_test = pd.DataFrame()\n",
    "for uni in unicorn_test_list :\n",
    "    df_unicorn_indicator_test=df_unicorn_indicator_test.append(df[df['회사ID']==uni].sort_values(['년도','월']))"
   ]
  },
  {
   "cell_type": "code",
   "execution_count": 980,
   "metadata": {
    "hidden": true,
    "scrolled": true
   },
   "outputs": [
    {
     "data": {
      "text/html": [
       "<div>\n",
       "<style scoped>\n",
       "    .dataframe tbody tr th:only-of-type {\n",
       "        vertical-align: middle;\n",
       "    }\n",
       "\n",
       "    .dataframe tbody tr th {\n",
       "        vertical-align: top;\n",
       "    }\n",
       "\n",
       "    .dataframe thead th {\n",
       "        text-align: right;\n",
       "    }\n",
       "</style>\n",
       "<table border=\"1\" class=\"dataframe\">\n",
       "  <thead>\n",
       "    <tr style=\"text-align: right;\">\n",
       "      <th></th>\n",
       "      <th>회사ID</th>\n",
       "      <th>연매출액</th>\n",
       "      <th>년도</th>\n",
       "      <th>월</th>\n",
       "      <th>월별_연금보험료</th>\n",
       "      <th>월별_직원수</th>\n",
       "      <th>인당_매출액</th>\n",
       "    </tr>\n",
       "  </thead>\n",
       "  <tbody>\n",
       "    <tr>\n",
       "      <th>62429</th>\n",
       "      <td>417469</td>\n",
       "      <td>22982</td>\n",
       "      <td>2016</td>\n",
       "      <td>1</td>\n",
       "      <td>655200</td>\n",
       "      <td>4</td>\n",
       "      <td>5745.50</td>\n",
       "    </tr>\n",
       "    <tr>\n",
       "      <th>65874</th>\n",
       "      <td>417469</td>\n",
       "      <td>22982</td>\n",
       "      <td>2016</td>\n",
       "      <td>2</td>\n",
       "      <td>835200</td>\n",
       "      <td>5</td>\n",
       "      <td>4596.40</td>\n",
       "    </tr>\n",
       "    <tr>\n",
       "      <th>57761</th>\n",
       "      <td>417469</td>\n",
       "      <td>22982</td>\n",
       "      <td>2016</td>\n",
       "      <td>3</td>\n",
       "      <td>835200</td>\n",
       "      <td>5</td>\n",
       "      <td>4596.40</td>\n",
       "    </tr>\n",
       "    <tr>\n",
       "      <th>55279</th>\n",
       "      <td>417469</td>\n",
       "      <td>22982</td>\n",
       "      <td>2016</td>\n",
       "      <td>4</td>\n",
       "      <td>835200</td>\n",
       "      <td>5</td>\n",
       "      <td>4596.40</td>\n",
       "    </tr>\n",
       "    <tr>\n",
       "      <th>22384</th>\n",
       "      <td>417469</td>\n",
       "      <td>22982</td>\n",
       "      <td>2016</td>\n",
       "      <td>5</td>\n",
       "      <td>1015200</td>\n",
       "      <td>5</td>\n",
       "      <td>4596.40</td>\n",
       "    </tr>\n",
       "    <tr>\n",
       "      <th>71105</th>\n",
       "      <td>417469</td>\n",
       "      <td>22982</td>\n",
       "      <td>2016</td>\n",
       "      <td>6</td>\n",
       "      <td>1015200</td>\n",
       "      <td>5</td>\n",
       "      <td>4596.40</td>\n",
       "    </tr>\n",
       "    <tr>\n",
       "      <th>59851</th>\n",
       "      <td>417469</td>\n",
       "      <td>22982</td>\n",
       "      <td>2016</td>\n",
       "      <td>7</td>\n",
       "      <td>1005820</td>\n",
       "      <td>5</td>\n",
       "      <td>4596.40</td>\n",
       "    </tr>\n",
       "    <tr>\n",
       "      <th>49373</th>\n",
       "      <td>417469</td>\n",
       "      <td>22982</td>\n",
       "      <td>2016</td>\n",
       "      <td>8</td>\n",
       "      <td>1005820</td>\n",
       "      <td>5</td>\n",
       "      <td>4596.40</td>\n",
       "    </tr>\n",
       "    <tr>\n",
       "      <th>29203</th>\n",
       "      <td>417469</td>\n",
       "      <td>22982</td>\n",
       "      <td>2016</td>\n",
       "      <td>9</td>\n",
       "      <td>1005820</td>\n",
       "      <td>5</td>\n",
       "      <td>4596.40</td>\n",
       "    </tr>\n",
       "    <tr>\n",
       "      <th>99315</th>\n",
       "      <td>417469</td>\n",
       "      <td>22982</td>\n",
       "      <td>2016</td>\n",
       "      <td>10</td>\n",
       "      <td>1005820</td>\n",
       "      <td>5</td>\n",
       "      <td>4596.40</td>\n",
       "    </tr>\n",
       "    <tr>\n",
       "      <th>78835</th>\n",
       "      <td>417469</td>\n",
       "      <td>22982</td>\n",
       "      <td>2016</td>\n",
       "      <td>11</td>\n",
       "      <td>1005820</td>\n",
       "      <td>5</td>\n",
       "      <td>4596.40</td>\n",
       "    </tr>\n",
       "    <tr>\n",
       "      <th>66344</th>\n",
       "      <td>417469</td>\n",
       "      <td>22982</td>\n",
       "      <td>2016</td>\n",
       "      <td>12</td>\n",
       "      <td>1005820</td>\n",
       "      <td>5</td>\n",
       "      <td>4596.40</td>\n",
       "    </tr>\n",
       "    <tr>\n",
       "      <th>75588</th>\n",
       "      <td>417469</td>\n",
       "      <td>1115794</td>\n",
       "      <td>2018</td>\n",
       "      <td>1</td>\n",
       "      <td>519300</td>\n",
       "      <td>3</td>\n",
       "      <td>371931.33</td>\n",
       "    </tr>\n",
       "    <tr>\n",
       "      <th>20302</th>\n",
       "      <td>417469</td>\n",
       "      <td>1115794</td>\n",
       "      <td>2018</td>\n",
       "      <td>2</td>\n",
       "      <td>519300</td>\n",
       "      <td>3</td>\n",
       "      <td>371931.33</td>\n",
       "    </tr>\n",
       "    <tr>\n",
       "      <th>52635</th>\n",
       "      <td>417469</td>\n",
       "      <td>1115794</td>\n",
       "      <td>2018</td>\n",
       "      <td>3</td>\n",
       "      <td>519300</td>\n",
       "      <td>3</td>\n",
       "      <td>371931.33</td>\n",
       "    </tr>\n",
       "    <tr>\n",
       "      <th>33547</th>\n",
       "      <td>417469</td>\n",
       "      <td>1115794</td>\n",
       "      <td>2018</td>\n",
       "      <td>8</td>\n",
       "      <td>1537540</td>\n",
       "      <td>5</td>\n",
       "      <td>223158.80</td>\n",
       "    </tr>\n",
       "    <tr>\n",
       "      <th>13650</th>\n",
       "      <td>417469</td>\n",
       "      <td>1115794</td>\n",
       "      <td>2018</td>\n",
       "      <td>9</td>\n",
       "      <td>1537540</td>\n",
       "      <td>5</td>\n",
       "      <td>223158.80</td>\n",
       "    </tr>\n",
       "    <tr>\n",
       "      <th>21400</th>\n",
       "      <td>417469</td>\n",
       "      <td>1115794</td>\n",
       "      <td>2018</td>\n",
       "      <td>10</td>\n",
       "      <td>1537540</td>\n",
       "      <td>5</td>\n",
       "      <td>223158.80</td>\n",
       "    </tr>\n",
       "    <tr>\n",
       "      <th>23758</th>\n",
       "      <td>417469</td>\n",
       "      <td>1115794</td>\n",
       "      <td>2018</td>\n",
       "      <td>11</td>\n",
       "      <td>1897540</td>\n",
       "      <td>6</td>\n",
       "      <td>185965.67</td>\n",
       "    </tr>\n",
       "    <tr>\n",
       "      <th>19625</th>\n",
       "      <td>417469</td>\n",
       "      <td>1115794</td>\n",
       "      <td>2018</td>\n",
       "      <td>12</td>\n",
       "      <td>1897540</td>\n",
       "      <td>6</td>\n",
       "      <td>185965.67</td>\n",
       "    </tr>\n",
       "  </tbody>\n",
       "</table>\n",
       "</div>"
      ],
      "text/plain": [
       "         회사ID     연매출액    년도   월  월별_연금보험료  월별_직원수    인당_매출액\n",
       "62429  417469    22982  2016   1    655200       4   5745.50\n",
       "65874  417469    22982  2016   2    835200       5   4596.40\n",
       "57761  417469    22982  2016   3    835200       5   4596.40\n",
       "55279  417469    22982  2016   4    835200       5   4596.40\n",
       "22384  417469    22982  2016   5   1015200       5   4596.40\n",
       "71105  417469    22982  2016   6   1015200       5   4596.40\n",
       "59851  417469    22982  2016   7   1005820       5   4596.40\n",
       "49373  417469    22982  2016   8   1005820       5   4596.40\n",
       "29203  417469    22982  2016   9   1005820       5   4596.40\n",
       "99315  417469    22982  2016  10   1005820       5   4596.40\n",
       "78835  417469    22982  2016  11   1005820       5   4596.40\n",
       "66344  417469    22982  2016  12   1005820       5   4596.40\n",
       "75588  417469  1115794  2018   1    519300       3 371931.33\n",
       "20302  417469  1115794  2018   2    519300       3 371931.33\n",
       "52635  417469  1115794  2018   3    519300       3 371931.33\n",
       "33547  417469  1115794  2018   8   1537540       5 223158.80\n",
       "13650  417469  1115794  2018   9   1537540       5 223158.80\n",
       "21400  417469  1115794  2018  10   1537540       5 223158.80\n",
       "23758  417469  1115794  2018  11   1897540       6 185965.67\n",
       "19625  417469  1115794  2018  12   1897540       6 185965.67"
      ]
     },
     "execution_count": 980,
     "metadata": {},
     "output_type": "execute_result"
    }
   ],
   "source": [
    "df_unicorn_indicator_test.query('회사ID==417469')"
   ]
  },
  {
   "cell_type": "markdown",
   "metadata": {
    "hidden": true
   },
   "source": [
    "df_unicorn_indicator['유니콘지수_직원수&매출액']= df_unicorn_indicator['경기지수점수']*(df_unicorn_indicator['평균성장율_직원수']+df_unicorn_indicator['성장율_연매출액'])\n",
    "\n",
    "- 매출액 성장율이 상대적으로 직원수 성장율보다 높은 값을 가지기 때문에 (액수큼) 매출액 성장율에 의존도 높음\n",
    "- 표준화 필요?"
   ]
  },
  {
   "cell_type": "markdown",
   "metadata": {},
   "source": [
    "### 표준화 O : df_unicorn_indicator_s\n",
    "- standardized"
   ]
  },
  {
   "cell_type": "code",
   "execution_count": 986,
   "metadata": {},
   "outputs": [],
   "source": [
    "from sklearn.preprocessing import StandardScaler"
   ]
  },
  {
   "cell_type": "code",
   "execution_count": 1023,
   "metadata": {},
   "outputs": [],
   "source": [
    "df_unicorn_indicator_s = df_growth_cleansed.copy()"
   ]
  },
  {
   "cell_type": "code",
   "execution_count": 1024,
   "metadata": {
    "scrolled": true
   },
   "outputs": [
    {
     "data": {
      "text/html": [
       "<div>\n",
       "<style scoped>\n",
       "    .dataframe tbody tr th:only-of-type {\n",
       "        vertical-align: middle;\n",
       "    }\n",
       "\n",
       "    .dataframe tbody tr th {\n",
       "        vertical-align: top;\n",
       "    }\n",
       "\n",
       "    .dataframe thead th {\n",
       "        text-align: right;\n",
       "    }\n",
       "</style>\n",
       "<table border=\"1\" class=\"dataframe\">\n",
       "  <thead>\n",
       "    <tr style=\"text-align: right;\">\n",
       "      <th></th>\n",
       "      <th>key</th>\n",
       "      <th>평균성장율_연금보험료</th>\n",
       "      <th>평균성장율_직원수</th>\n",
       "      <th>평균성장율_인당매출액</th>\n",
       "      <th>성장율_연매출액</th>\n",
       "      <th>회사ID</th>\n",
       "      <th>년도</th>\n",
       "      <th>경기지수점수</th>\n",
       "    </tr>\n",
       "  </thead>\n",
       "  <tbody>\n",
       "    <tr>\n",
       "      <th>1</th>\n",
       "      <td>122968-2016</td>\n",
       "      <td>0.37</td>\n",
       "      <td>0.26</td>\n",
       "      <td>-0.43</td>\n",
       "      <td>-0.13</td>\n",
       "      <td>122968</td>\n",
       "      <td>2016</td>\n",
       "      <td>0.20</td>\n",
       "    </tr>\n",
       "  </tbody>\n",
       "</table>\n",
       "</div>"
      ],
      "text/plain": [
       "           key  평균성장율_연금보험료  평균성장율_직원수  평균성장율_인당매출액  성장율_연매출액    회사ID    년도  \\\n",
       "1  122968-2016         0.37       0.26        -0.43     -0.13  122968  2016   \n",
       "\n",
       "   경기지수점수  \n",
       "1    0.20  "
      ]
     },
     "execution_count": 1024,
     "metadata": {},
     "output_type": "execute_result"
    }
   ],
   "source": [
    "df_unicorn_indicator_s.iloc[:,1:5]=StandardScaler().fit_transform(df_unicorn_indicator_s.iloc[:,1:5])\n",
    "df_unicorn_indicator_s.head(1)"
   ]
  },
  {
   "cell_type": "code",
   "execution_count": 1025,
   "metadata": {},
   "outputs": [
    {
     "data": {
      "text/html": [
       "<div>\n",
       "<style scoped>\n",
       "    .dataframe tbody tr th:only-of-type {\n",
       "        vertical-align: middle;\n",
       "    }\n",
       "\n",
       "    .dataframe tbody tr th {\n",
       "        vertical-align: top;\n",
       "    }\n",
       "\n",
       "    .dataframe thead th {\n",
       "        text-align: right;\n",
       "    }\n",
       "</style>\n",
       "<table border=\"1\" class=\"dataframe\">\n",
       "  <thead>\n",
       "    <tr style=\"text-align: right;\">\n",
       "      <th></th>\n",
       "      <th>count</th>\n",
       "      <th>mean</th>\n",
       "      <th>std</th>\n",
       "      <th>min</th>\n",
       "      <th>25%</th>\n",
       "      <th>50%</th>\n",
       "      <th>75%</th>\n",
       "      <th>max</th>\n",
       "    </tr>\n",
       "  </thead>\n",
       "  <tbody>\n",
       "    <tr>\n",
       "      <th>유니콘지수_직원수&amp;매출액</th>\n",
       "      <td>2519.00</td>\n",
       "      <td>0.01</td>\n",
       "      <td>0.34</td>\n",
       "      <td>-1.73</td>\n",
       "      <td>-0.09</td>\n",
       "      <td>-0.03</td>\n",
       "      <td>0.05</td>\n",
       "      <td>8.69</td>\n",
       "    </tr>\n",
       "  </tbody>\n",
       "</table>\n",
       "</div>"
      ],
      "text/plain": [
       "                count  mean  std   min   25%   50%  75%  max\n",
       "유니콘지수_직원수&매출액 2519.00  0.01 0.34 -1.73 -0.09 -0.03 0.05 8.69"
      ]
     },
     "execution_count": 1025,
     "metadata": {},
     "output_type": "execute_result"
    }
   ],
   "source": [
    "df_unicorn_indicator_s['유니콘지수_직원수&매출액']= df_unicorn_indicator_s['경기지수점수']*(df_unicorn_indicator_s['평균성장율_직원수']+df_unicorn_indicator_s['성장율_연매출액'])\n",
    "df_unicorn_indicator_s=df_unicorn_indicator_s.groupby('회사ID').agg({'유니콘지수_직원수&매출액':'mean'})\n",
    "df_unicorn_indicator_s.filter(regex='유니콘').describe().T"
   ]
  },
  {
   "cell_type": "code",
   "execution_count": 1026,
   "metadata": {},
   "outputs": [
    {
     "data": {
      "text/html": [
       "<div>\n",
       "<style scoped>\n",
       "    .dataframe tbody tr th:only-of-type {\n",
       "        vertical-align: middle;\n",
       "    }\n",
       "\n",
       "    .dataframe tbody tr th {\n",
       "        vertical-align: top;\n",
       "    }\n",
       "\n",
       "    .dataframe thead th {\n",
       "        text-align: right;\n",
       "    }\n",
       "</style>\n",
       "<table border=\"1\" class=\"dataframe\">\n",
       "  <thead>\n",
       "    <tr style=\"text-align: right;\">\n",
       "      <th></th>\n",
       "      <th>유니콘지수_직원수&amp;매출액</th>\n",
       "    </tr>\n",
       "    <tr>\n",
       "      <th>회사ID</th>\n",
       "      <th></th>\n",
       "    </tr>\n",
       "  </thead>\n",
       "  <tbody>\n",
       "    <tr>\n",
       "      <th>380843</th>\n",
       "      <td>8.69</td>\n",
       "    </tr>\n",
       "    <tr>\n",
       "      <th>268810</th>\n",
       "      <td>6.33</td>\n",
       "    </tr>\n",
       "    <tr>\n",
       "      <th>417469</th>\n",
       "      <td>5.40</td>\n",
       "    </tr>\n",
       "    <tr>\n",
       "      <th>242254</th>\n",
       "      <td>4.46</td>\n",
       "    </tr>\n",
       "    <tr>\n",
       "      <th>184149</th>\n",
       "      <td>2.74</td>\n",
       "    </tr>\n",
       "  </tbody>\n",
       "</table>\n",
       "</div>"
      ],
      "text/plain": [
       "        유니콘지수_직원수&매출액\n",
       "회사ID                 \n",
       "380843           8.69\n",
       "268810           6.33\n",
       "417469           5.40\n",
       "242254           4.46\n",
       "184149           2.74"
      ]
     },
     "execution_count": 1026,
     "metadata": {},
     "output_type": "execute_result"
    }
   ],
   "source": [
    "df_unicorn_indicator_s.filter(regex='유니콘').sort_values('유니콘지수_직원수&매출액', ascending=False).head(5)"
   ]
  },
  {
   "cell_type": "code",
   "execution_count": 1027,
   "metadata": {},
   "outputs": [],
   "source": [
    "# 유니콘 기업 5개 리스트\n",
    "unicorn_test_list_s = df_unicorn_indicator_s.filter(regex='유니콘').sort_values('유니콘지수_직원수&매출액', ascending=False).head(5).index\n",
    "# int 변환\n",
    "unicorn_test_list_s = list(map(int,unicorn_test_list_s)) \n",
    "\n",
    "# 상위 5개 리스트 원본데이터 확인용\n",
    "df_unicorn_indicator_test_s = pd.DataFrame()\n",
    "for uni in unicorn_test_list_s :\n",
    "    df_unicorn_indicator_test_s=df_unicorn_indicator_test_s.append(df[df['회사ID']==uni].sort_values(['년도','월']))"
   ]
  },
  {
   "cell_type": "markdown",
   "metadata": {},
   "source": [
    "#### 인당 매출액을 넣으면 생기는 문제점..."
   ]
  },
  {
   "cell_type": "code",
   "execution_count": 1021,
   "metadata": {
    "scrolled": true
   },
   "outputs": [
    {
     "data": {
      "text/html": [
       "<div>\n",
       "<style scoped>\n",
       "    .dataframe tbody tr th:only-of-type {\n",
       "        vertical-align: middle;\n",
       "    }\n",
       "\n",
       "    .dataframe tbody tr th {\n",
       "        vertical-align: top;\n",
       "    }\n",
       "\n",
       "    .dataframe thead th {\n",
       "        text-align: right;\n",
       "    }\n",
       "</style>\n",
       "<table border=\"1\" class=\"dataframe\">\n",
       "  <thead>\n",
       "    <tr style=\"text-align: right;\">\n",
       "      <th></th>\n",
       "      <th>회사ID</th>\n",
       "      <th>연매출액</th>\n",
       "      <th>년도</th>\n",
       "      <th>월</th>\n",
       "      <th>월별_연금보험료</th>\n",
       "      <th>월별_직원수</th>\n",
       "      <th>인당_매출액</th>\n",
       "    </tr>\n",
       "  </thead>\n",
       "  <tbody>\n",
       "    <tr>\n",
       "      <th>91949</th>\n",
       "      <td>470208</td>\n",
       "      <td>12761864</td>\n",
       "      <td>2015</td>\n",
       "      <td>11</td>\n",
       "      <td>22799000</td>\n",
       "      <td>171</td>\n",
       "      <td>74630.78</td>\n",
       "    </tr>\n",
       "    <tr>\n",
       "      <th>19429</th>\n",
       "      <td>470208</td>\n",
       "      <td>12761864</td>\n",
       "      <td>2015</td>\n",
       "      <td>12</td>\n",
       "      <td>22514520</td>\n",
       "      <td>168</td>\n",
       "      <td>75963.48</td>\n",
       "    </tr>\n",
       "    <tr>\n",
       "      <th>14168</th>\n",
       "      <td>470208</td>\n",
       "      <td>6365368</td>\n",
       "      <td>2016</td>\n",
       "      <td>1</td>\n",
       "      <td>22297900</td>\n",
       "      <td>166</td>\n",
       "      <td>38345.59</td>\n",
       "    </tr>\n",
       "    <tr>\n",
       "      <th>78504</th>\n",
       "      <td>470208</td>\n",
       "      <td>6365368</td>\n",
       "      <td>2016</td>\n",
       "      <td>2</td>\n",
       "      <td>24200380</td>\n",
       "      <td>187</td>\n",
       "      <td>34039.40</td>\n",
       "    </tr>\n",
       "    <tr>\n",
       "      <th>54877</th>\n",
       "      <td>470208</td>\n",
       "      <td>6365368</td>\n",
       "      <td>2016</td>\n",
       "      <td>3</td>\n",
       "      <td>23597760</td>\n",
       "      <td>182</td>\n",
       "      <td>34974.55</td>\n",
       "    </tr>\n",
       "    <tr>\n",
       "      <th>83074</th>\n",
       "      <td>470208</td>\n",
       "      <td>6365368</td>\n",
       "      <td>2016</td>\n",
       "      <td>4</td>\n",
       "      <td>24276280</td>\n",
       "      <td>189</td>\n",
       "      <td>33679.20</td>\n",
       "    </tr>\n",
       "    <tr>\n",
       "      <th>44555</th>\n",
       "      <td>470208</td>\n",
       "      <td>6365368</td>\n",
       "      <td>2016</td>\n",
       "      <td>5</td>\n",
       "      <td>24437300</td>\n",
       "      <td>193</td>\n",
       "      <td>32981.18</td>\n",
       "    </tr>\n",
       "    <tr>\n",
       "      <th>64760</th>\n",
       "      <td>470208</td>\n",
       "      <td>6365368</td>\n",
       "      <td>2016</td>\n",
       "      <td>6</td>\n",
       "      <td>3200080</td>\n",
       "      <td>14</td>\n",
       "      <td>454669.14</td>\n",
       "    </tr>\n",
       "    <tr>\n",
       "      <th>45126</th>\n",
       "      <td>470208</td>\n",
       "      <td>6365368</td>\n",
       "      <td>2016</td>\n",
       "      <td>8</td>\n",
       "      <td>1095020</td>\n",
       "      <td>4</td>\n",
       "      <td>1591342.00</td>\n",
       "    </tr>\n",
       "    <tr>\n",
       "      <th>57399</th>\n",
       "      <td>470208</td>\n",
       "      <td>6365368</td>\n",
       "      <td>2016</td>\n",
       "      <td>9</td>\n",
       "      <td>1095020</td>\n",
       "      <td>4</td>\n",
       "      <td>1591342.00</td>\n",
       "    </tr>\n",
       "    <tr>\n",
       "      <th>87949</th>\n",
       "      <td>470208</td>\n",
       "      <td>6365368</td>\n",
       "      <td>2016</td>\n",
       "      <td>10</td>\n",
       "      <td>1095020</td>\n",
       "      <td>4</td>\n",
       "      <td>1591342.00</td>\n",
       "    </tr>\n",
       "    <tr>\n",
       "      <th>64478</th>\n",
       "      <td>470208</td>\n",
       "      <td>6365368</td>\n",
       "      <td>2016</td>\n",
       "      <td>11</td>\n",
       "      <td>1095020</td>\n",
       "      <td>4</td>\n",
       "      <td>1591342.00</td>\n",
       "    </tr>\n",
       "    <tr>\n",
       "      <th>45387</th>\n",
       "      <td>470208</td>\n",
       "      <td>6365368</td>\n",
       "      <td>2016</td>\n",
       "      <td>12</td>\n",
       "      <td>1095020</td>\n",
       "      <td>4</td>\n",
       "      <td>1591342.00</td>\n",
       "    </tr>\n",
       "  </tbody>\n",
       "</table>\n",
       "</div>"
      ],
      "text/plain": [
       "         회사ID      연매출액    년도   월  월별_연금보험료  월별_직원수     인당_매출액\n",
       "91949  470208  12761864  2015  11  22799000     171   74630.78\n",
       "19429  470208  12761864  2015  12  22514520     168   75963.48\n",
       "14168  470208   6365368  2016   1  22297900     166   38345.59\n",
       "78504  470208   6365368  2016   2  24200380     187   34039.40\n",
       "54877  470208   6365368  2016   3  23597760     182   34974.55\n",
       "83074  470208   6365368  2016   4  24276280     189   33679.20\n",
       "44555  470208   6365368  2016   5  24437300     193   32981.18\n",
       "64760  470208   6365368  2016   6   3200080      14  454669.14\n",
       "45126  470208   6365368  2016   8   1095020       4 1591342.00\n",
       "57399  470208   6365368  2016   9   1095020       4 1591342.00\n",
       "87949  470208   6365368  2016  10   1095020       4 1591342.00\n",
       "64478  470208   6365368  2016  11   1095020       4 1591342.00\n",
       "45387  470208   6365368  2016  12   1095020       4 1591342.00"
      ]
     },
     "execution_count": 1021,
     "metadata": {},
     "output_type": "execute_result"
    }
   ],
   "source": [
    "df_unicorn_indicator_test_s.query('회사ID==470208')"
   ]
  },
  {
   "cell_type": "markdown",
   "metadata": {},
   "source": [
    "## 유니콘 기업 체크 "
   ]
  },
  {
   "cell_type": "code",
   "execution_count": 1028,
   "metadata": {},
   "outputs": [
    {
     "data": {
      "text/plain": [
       "[268810, 242254, 417469, 184149, 433756]"
      ]
     },
     "execution_count": 1028,
     "metadata": {},
     "output_type": "execute_result"
    }
   ],
   "source": [
    "# 표준화 O\n",
    "unicorn_test_list\n",
    "# df_unicorn_indicator_test_s"
   ]
  },
  {
   "cell_type": "code",
   "execution_count": 1029,
   "metadata": {},
   "outputs": [],
   "source": [
    "df_unicorn_indicator_test_s_viz = df_unicorn_indicator_test_s.filter(regex='회사|연매출액|년도|월별|인당')"
   ]
  },
  {
   "cell_type": "code",
   "execution_count": 1030,
   "metadata": {},
   "outputs": [],
   "source": [
    "df_unicorn_indicator_test_viz = df_unicorn_indicator_test.filter(regex='회사|연매출액|년도|월별|인당')"
   ]
  },
  {
   "cell_type": "code",
   "execution_count": null,
   "metadata": {},
   "outputs": [],
   "source": []
  },
  {
   "cell_type": "code",
   "execution_count": null,
   "metadata": {},
   "outputs": [],
   "source": []
  },
  {
   "cell_type": "code",
   "execution_count": null,
   "metadata": {},
   "outputs": [],
   "source": []
  },
  {
   "cell_type": "code",
   "execution_count": null,
   "metadata": {},
   "outputs": [],
   "source": []
  },
  {
   "cell_type": "markdown",
   "metadata": {},
   "source": [
    "## 유니콘 기업 지수 산출 방향성 추가 논의 내역\n",
    "1. 직원수로 class 구분 \n",
    "2. 스코어링 지표 1-5점 척도\n",
    "> - 1인당 매출액\n",
    "> - 연성장율_연금보험료\n",
    "> - 연성장율_직원수\n",
    "> - 연성장율_매출액\n",
    "> - 최대최소매출액\n"
   ]
  },
  {
   "cell_type": "code",
   "execution_count": null,
   "metadata": {},
   "outputs": [],
   "source": []
  }
 ],
 "metadata": {
  "kernelspec": {
   "display_name": "Python 3",
   "language": "python",
   "name": "python3"
  },
  "language_info": {
   "codemirror_mode": {
    "name": "ipython",
    "version": 3
   },
   "file_extension": ".py",
   "mimetype": "text/x-python",
   "name": "python",
   "nbconvert_exporter": "python",
   "pygments_lexer": "ipython3",
   "version": "3.7.3"
  },
  "latex_envs": {
   "LaTeX_envs_menu_present": true,
   "autoclose": true,
   "autocomplete": true,
   "bibliofile": "biblio.bib",
   "cite_by": "apalike",
   "current_citInitial": 1,
   "eqLabelWithNumbers": true,
   "eqNumInitial": 1,
   "hotkeys": {
    "equation": "Ctrl-E",
    "itemize": "Ctrl-I"
   },
   "labels_anchors": false,
   "latex_user_defs": false,
   "report_style_numbering": false,
   "user_envs_cfg": false
  },
  "toc": {
   "base_numbering": 1,
   "nav_menu": {},
   "number_sections": true,
   "sideBar": true,
   "skip_h1_title": false,
   "title_cell": "Table of Contents",
   "title_sidebar": "Contents",
   "toc_cell": false,
   "toc_position": {
    "height": "calc(100% - 180px)",
    "left": "10px",
    "top": "150px",
    "width": "313.496px"
   },
   "toc_section_display": true,
   "toc_window_display": true
  },
  "varInspector": {
   "cols": {
    "lenName": 16,
    "lenType": 16,
    "lenVar": 40
   },
   "kernels_config": {
    "python": {
     "delete_cmd_postfix": "",
     "delete_cmd_prefix": "del ",
     "library": "var_list.py",
     "varRefreshCmd": "print(var_dic_list())"
    },
    "r": {
     "delete_cmd_postfix": ") ",
     "delete_cmd_prefix": "rm(",
     "library": "var_list.r",
     "varRefreshCmd": "cat(var_dic_list()) "
    }
   },
   "types_to_exclude": [
    "module",
    "function",
    "builtin_function_or_method",
    "instance",
    "_Feature"
   ],
   "window_display": false
  }
 },
 "nbformat": 4,
 "nbformat_minor": 4
}
