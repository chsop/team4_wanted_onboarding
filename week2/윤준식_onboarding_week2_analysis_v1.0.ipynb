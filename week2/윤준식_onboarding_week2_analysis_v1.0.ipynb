{
 "cells": [
  {
   "cell_type": "code",
   "execution_count": 96,
   "metadata": {},
   "outputs": [
    {
     "data": {
      "text/html": [
       "<div>\n",
       "<style scoped>\n",
       "    .dataframe tbody tr th:only-of-type {\n",
       "        vertical-align: middle;\n",
       "    }\n",
       "\n",
       "    .dataframe tbody tr th {\n",
       "        vertical-align: top;\n",
       "    }\n",
       "\n",
       "    .dataframe thead th {\n",
       "        text-align: right;\n",
       "    }\n",
       "</style>\n",
       "<table border=\"1\" class=\"dataframe\">\n",
       "  <thead>\n",
       "    <tr style=\"text-align: right;\">\n",
       "      <th></th>\n",
       "      <th>user_id</th>\n",
       "      <th>join_date</th>\n",
       "      <th>d_type</th>\n",
       "      <th>store_id</th>\n",
       "      <th>goods_type</th>\n",
       "      <th>date</th>\n",
       "      <th>count</th>\n",
       "      <th>ad1</th>\n",
       "    </tr>\n",
       "  </thead>\n",
       "  <tbody>\n",
       "    <tr>\n",
       "      <th>0</th>\n",
       "      <td>2858</td>\n",
       "      <td>2014-01-07</td>\n",
       "      <td>AA</td>\n",
       "      <td>1892</td>\n",
       "      <td>A</td>\n",
       "      <td>2020-01-01</td>\n",
       "      <td>1</td>\n",
       "      <td>GN</td>\n",
       "    </tr>\n",
       "    <tr>\n",
       "      <th>1</th>\n",
       "      <td>5647</td>\n",
       "      <td>2014-02-14</td>\n",
       "      <td>BB</td>\n",
       "      <td>182009</td>\n",
       "      <td>A</td>\n",
       "      <td>2020-01-01</td>\n",
       "      <td>1</td>\n",
       "      <td>J</td>\n",
       "    </tr>\n",
       "    <tr>\n",
       "      <th>2</th>\n",
       "      <td>33314</td>\n",
       "      <td>2014-11-20</td>\n",
       "      <td>BB</td>\n",
       "      <td>82431</td>\n",
       "      <td>A</td>\n",
       "      <td>2020-01-01</td>\n",
       "      <td>1</td>\n",
       "      <td>SC</td>\n",
       "    </tr>\n",
       "    <tr>\n",
       "      <th>3</th>\n",
       "      <td>37001</td>\n",
       "      <td>2014-12-04</td>\n",
       "      <td>BB</td>\n",
       "      <td>725</td>\n",
       "      <td>C</td>\n",
       "      <td>2020-01-01</td>\n",
       "      <td>1</td>\n",
       "      <td>MP</td>\n",
       "    </tr>\n",
       "    <tr>\n",
       "      <th>4</th>\n",
       "      <td>37819</td>\n",
       "      <td>2014-12-07</td>\n",
       "      <td>AA</td>\n",
       "      <td>220691</td>\n",
       "      <td>C</td>\n",
       "      <td>2020-01-01</td>\n",
       "      <td>1</td>\n",
       "      <td>JRR</td>\n",
       "    </tr>\n",
       "  </tbody>\n",
       "</table>\n",
       "</div>"
      ],
      "text/plain": [
       "   user_id   join_date d_type  store_id goods_type        date  count  ad1\n",
       "0     2858  2014-01-07     AA      1892          A  2020-01-01      1   GN\n",
       "1     5647  2014-02-14     BB    182009          A  2020-01-01      1    J\n",
       "2    33314  2014-11-20     BB     82431          A  2020-01-01      1   SC\n",
       "3    37001  2014-12-04     BB       725          C  2020-01-01      1   MP\n",
       "4    37819  2014-12-07     AA    220691          C  2020-01-01      1  JRR"
      ]
     },
     "execution_count": 96,
     "metadata": {},
     "output_type": "execute_result"
    }
   ],
   "source": [
    "import pandas as pd\n",
    "import numpy as np\n",
    "from matplotlib import pyplot as plt\n",
    "import seaborn as sns\n",
    "pd.set_option('display.max_rows', 20)\n",
    "plt.rcParams['font.family'] = \"Malgun Gothic\"\n",
    "# csv 읽어오기, 현재 위치에 해당 파일이 없으면 첫번째 파라미터에 정확한 경로를 포함한 파일명 기입\n",
    "df = pd.read_csv('모두컴퍼니_기술과제/실전DB.csv')# 'cp949', 'euc-kr'\n",
    "df = df.rename(columns=str.lower)\n",
    "df.head()"
   ]
  },
  {
   "cell_type": "markdown",
   "metadata": {},
   "source": [
    "## 전처리\n",
    "\n",
    "1. dtype < - datetime형식으로 변경\n",
    "2. 1970년도 데이터 삭제 <- 이상치\n",
    "3. 유저 아이디 99964 삭제 <- 이상치"
   ]
  },
  {
   "cell_type": "markdown",
   "metadata": {},
   "source": [
    "#### dtype\n",
    "\n",
    "join_date와 date부분 datetime 형식으로 변경"
   ]
  },
  {
   "cell_type": "code",
   "execution_count": 97,
   "metadata": {},
   "outputs": [],
   "source": [
    "# dtype 수정\n",
    "df[['user_id', 'store_id']] = df[['user_id', 'store_id']].astype(object)\n",
    "df[['join_date', 'date']] = df[['join_date', 'date']].apply(lambda X : pd.to_datetime(X))"
   ]
  },
  {
   "cell_type": "markdown",
   "metadata": {},
   "source": [
    "#### 1970년도 데이터 삭제,  유저 아이디 999664 삭제"
   ]
  },
  {
   "cell_type": "code",
   "execution_count": 98,
   "metadata": {},
   "outputs": [],
   "source": [
    "df = df[~(df['join_date']=='1970-01-01')]\n",
    "df = df[~(df['user_id']== 999665)]"
   ]
  },
  {
   "cell_type": "markdown",
   "metadata": {},
   "source": [
    "#### 추가 컬럼"
   ]
  },
  {
   "cell_type": "code",
   "execution_count": 99,
   "metadata": {},
   "outputs": [
    {
     "data": {
      "text/html": [
       "<div>\n",
       "<style scoped>\n",
       "    .dataframe tbody tr th:only-of-type {\n",
       "        vertical-align: middle;\n",
       "    }\n",
       "\n",
       "    .dataframe tbody tr th {\n",
       "        vertical-align: top;\n",
       "    }\n",
       "\n",
       "    .dataframe thead th {\n",
       "        text-align: right;\n",
       "    }\n",
       "</style>\n",
       "<table border=\"1\" class=\"dataframe\">\n",
       "  <thead>\n",
       "    <tr style=\"text-align: right;\">\n",
       "      <th></th>\n",
       "      <th>user_id</th>\n",
       "      <th>join_date</th>\n",
       "      <th>d_type</th>\n",
       "      <th>store_id</th>\n",
       "      <th>goods_type</th>\n",
       "      <th>date</th>\n",
       "      <th>count</th>\n",
       "      <th>ad1</th>\n",
       "      <th>join_yearmonth</th>\n",
       "      <th>join_year</th>\n",
       "      <th>pay_yearmonth</th>\n",
       "      <th>pay_dow</th>\n",
       "    </tr>\n",
       "  </thead>\n",
       "  <tbody>\n",
       "    <tr>\n",
       "      <th>0</th>\n",
       "      <td>2858</td>\n",
       "      <td>2014-01-07</td>\n",
       "      <td>AA</td>\n",
       "      <td>1892</td>\n",
       "      <td>A</td>\n",
       "      <td>2020-01-01</td>\n",
       "      <td>1</td>\n",
       "      <td>GN</td>\n",
       "      <td>2014-1</td>\n",
       "      <td>2014</td>\n",
       "      <td>2020-1</td>\n",
       "      <td>Wednesday</td>\n",
       "    </tr>\n",
       "    <tr>\n",
       "      <th>1</th>\n",
       "      <td>5647</td>\n",
       "      <td>2014-02-14</td>\n",
       "      <td>BB</td>\n",
       "      <td>182009</td>\n",
       "      <td>A</td>\n",
       "      <td>2020-01-01</td>\n",
       "      <td>1</td>\n",
       "      <td>J</td>\n",
       "      <td>2014-2</td>\n",
       "      <td>2014</td>\n",
       "      <td>2020-1</td>\n",
       "      <td>Wednesday</td>\n",
       "    </tr>\n",
       "    <tr>\n",
       "      <th>2</th>\n",
       "      <td>33314</td>\n",
       "      <td>2014-11-20</td>\n",
       "      <td>BB</td>\n",
       "      <td>82431</td>\n",
       "      <td>A</td>\n",
       "      <td>2020-01-01</td>\n",
       "      <td>1</td>\n",
       "      <td>SC</td>\n",
       "      <td>2014-11</td>\n",
       "      <td>2014</td>\n",
       "      <td>2020-1</td>\n",
       "      <td>Wednesday</td>\n",
       "    </tr>\n",
       "    <tr>\n",
       "      <th>3</th>\n",
       "      <td>37001</td>\n",
       "      <td>2014-12-04</td>\n",
       "      <td>BB</td>\n",
       "      <td>725</td>\n",
       "      <td>C</td>\n",
       "      <td>2020-01-01</td>\n",
       "      <td>1</td>\n",
       "      <td>MP</td>\n",
       "      <td>2014-12</td>\n",
       "      <td>2014</td>\n",
       "      <td>2020-1</td>\n",
       "      <td>Wednesday</td>\n",
       "    </tr>\n",
       "    <tr>\n",
       "      <th>4</th>\n",
       "      <td>37819</td>\n",
       "      <td>2014-12-07</td>\n",
       "      <td>AA</td>\n",
       "      <td>220691</td>\n",
       "      <td>C</td>\n",
       "      <td>2020-01-01</td>\n",
       "      <td>1</td>\n",
       "      <td>JRR</td>\n",
       "      <td>2014-12</td>\n",
       "      <td>2014</td>\n",
       "      <td>2020-1</td>\n",
       "      <td>Wednesday</td>\n",
       "    </tr>\n",
       "    <tr>\n",
       "      <th>...</th>\n",
       "      <td>...</td>\n",
       "      <td>...</td>\n",
       "      <td>...</td>\n",
       "      <td>...</td>\n",
       "      <td>...</td>\n",
       "      <td>...</td>\n",
       "      <td>...</td>\n",
       "      <td>...</td>\n",
       "      <td>...</td>\n",
       "      <td>...</td>\n",
       "      <td>...</td>\n",
       "      <td>...</td>\n",
       "    </tr>\n",
       "    <tr>\n",
       "      <th>879266</th>\n",
       "      <td>1830551</td>\n",
       "      <td>2020-12-31</td>\n",
       "      <td>BB</td>\n",
       "      <td>219886</td>\n",
       "      <td>B</td>\n",
       "      <td>2020-12-31</td>\n",
       "      <td>1</td>\n",
       "      <td>GN</td>\n",
       "      <td>2020-12</td>\n",
       "      <td>2020</td>\n",
       "      <td>2020-12</td>\n",
       "      <td>Thursday</td>\n",
       "    </tr>\n",
       "    <tr>\n",
       "      <th>879267</th>\n",
       "      <td>1830570</td>\n",
       "      <td>2020-12-31</td>\n",
       "      <td>BB</td>\n",
       "      <td>82433</td>\n",
       "      <td>B</td>\n",
       "      <td>2020-12-31</td>\n",
       "      <td>1</td>\n",
       "      <td>CY</td>\n",
       "      <td>2020-12</td>\n",
       "      <td>2020</td>\n",
       "      <td>2020-12</td>\n",
       "      <td>Thursday</td>\n",
       "    </tr>\n",
       "    <tr>\n",
       "      <th>879268</th>\n",
       "      <td>1830580</td>\n",
       "      <td>2020-12-31</td>\n",
       "      <td>AA</td>\n",
       "      <td>92020</td>\n",
       "      <td>B</td>\n",
       "      <td>2020-12-31</td>\n",
       "      <td>1</td>\n",
       "      <td>JRR</td>\n",
       "      <td>2020-12</td>\n",
       "      <td>2020</td>\n",
       "      <td>2020-12</td>\n",
       "      <td>Thursday</td>\n",
       "    </tr>\n",
       "    <tr>\n",
       "      <th>879269</th>\n",
       "      <td>1830589</td>\n",
       "      <td>2020-12-31</td>\n",
       "      <td>BB</td>\n",
       "      <td>92437</td>\n",
       "      <td>B</td>\n",
       "      <td>2020-12-31</td>\n",
       "      <td>1</td>\n",
       "      <td>J</td>\n",
       "      <td>2020-12</td>\n",
       "      <td>2020</td>\n",
       "      <td>2020-12</td>\n",
       "      <td>Thursday</td>\n",
       "    </tr>\n",
       "    <tr>\n",
       "      <th>879270</th>\n",
       "      <td>1830598</td>\n",
       "      <td>2020-12-31</td>\n",
       "      <td>AA</td>\n",
       "      <td>220959</td>\n",
       "      <td>B</td>\n",
       "      <td>2020-12-31</td>\n",
       "      <td>1</td>\n",
       "      <td>SC</td>\n",
       "      <td>2020-12</td>\n",
       "      <td>2020</td>\n",
       "      <td>2020-12</td>\n",
       "      <td>Thursday</td>\n",
       "    </tr>\n",
       "  </tbody>\n",
       "</table>\n",
       "<p>877812 rows × 12 columns</p>\n",
       "</div>"
      ],
      "text/plain": [
       "        user_id  join_date d_type store_id goods_type       date  count  ad1  \\\n",
       "0          2858 2014-01-07     AA     1892          A 2020-01-01      1   GN   \n",
       "1          5647 2014-02-14     BB   182009          A 2020-01-01      1    J   \n",
       "2         33314 2014-11-20     BB    82431          A 2020-01-01      1   SC   \n",
       "3         37001 2014-12-04     BB      725          C 2020-01-01      1   MP   \n",
       "4         37819 2014-12-07     AA   220691          C 2020-01-01      1  JRR   \n",
       "...         ...        ...    ...      ...        ...        ...    ...  ...   \n",
       "879266  1830551 2020-12-31     BB   219886          B 2020-12-31      1   GN   \n",
       "879267  1830570 2020-12-31     BB    82433          B 2020-12-31      1   CY   \n",
       "879268  1830580 2020-12-31     AA    92020          B 2020-12-31      1  JRR   \n",
       "879269  1830589 2020-12-31     BB    92437          B 2020-12-31      1    J   \n",
       "879270  1830598 2020-12-31     AA   220959          B 2020-12-31      1   SC   \n",
       "\n",
       "       join_yearmonth join_year pay_yearmonth    pay_dow  \n",
       "0              2014-1      2014        2020-1  Wednesday  \n",
       "1              2014-2      2014        2020-1  Wednesday  \n",
       "2             2014-11      2014        2020-1  Wednesday  \n",
       "3             2014-12      2014        2020-1  Wednesday  \n",
       "4             2014-12      2014        2020-1  Wednesday  \n",
       "...               ...       ...           ...        ...  \n",
       "879266        2020-12      2020       2020-12   Thursday  \n",
       "879267        2020-12      2020       2020-12   Thursday  \n",
       "879268        2020-12      2020       2020-12   Thursday  \n",
       "879269        2020-12      2020       2020-12   Thursday  \n",
       "879270        2020-12      2020       2020-12   Thursday  \n",
       "\n",
       "[877812 rows x 12 columns]"
      ]
     },
     "execution_count": 99,
     "metadata": {},
     "output_type": "execute_result"
    }
   ],
   "source": [
    "df['join_yearmonth'] = df['join_date'].dt.year.astype(str) + '-' +df['join_date'].dt.month.astype(str)\n",
    "df['join_year'] = df['join_date'].dt.year.astype(str)\n",
    "df['pay_yearmonth'] = df['date'].dt.year.astype(str) + '-' +df['date'].dt.month.astype(str)\n",
    "df['pay_dow'] = df['date'].dt.day_name()\n",
    "df"
   ]
  },
  {
   "cell_type": "markdown",
   "metadata": {},
   "source": [
    "## count, user간의 상관관계 분석"
   ]
  },
  {
   "cell_type": "markdown",
   "metadata": {},
   "source": [
    "### 2020 결재한 사람을 월별로 분류"
   ]
  },
  {
   "cell_type": "code",
   "execution_count": 100,
   "metadata": {},
   "outputs": [
    {
     "data": {
      "text/html": [
       "<div>\n",
       "<style scoped>\n",
       "    .dataframe tbody tr th:only-of-type {\n",
       "        vertical-align: middle;\n",
       "    }\n",
       "\n",
       "    .dataframe tbody tr th {\n",
       "        vertical-align: top;\n",
       "    }\n",
       "\n",
       "    .dataframe thead th {\n",
       "        text-align: right;\n",
       "    }\n",
       "</style>\n",
       "<table border=\"1\" class=\"dataframe\">\n",
       "  <thead>\n",
       "    <tr style=\"text-align: right;\">\n",
       "      <th></th>\n",
       "      <th>join_yearmonth</th>\n",
       "      <th>user_count</th>\n",
       "    </tr>\n",
       "  </thead>\n",
       "  <tbody>\n",
       "    <tr>\n",
       "      <th>0</th>\n",
       "      <td>2013-12</td>\n",
       "      <td>9</td>\n",
       "    </tr>\n",
       "    <tr>\n",
       "      <th>1</th>\n",
       "      <td>2014-1</td>\n",
       "      <td>14</td>\n",
       "    </tr>\n",
       "    <tr>\n",
       "      <th>2</th>\n",
       "      <td>2014-10</td>\n",
       "      <td>119</td>\n",
       "    </tr>\n",
       "    <tr>\n",
       "      <th>3</th>\n",
       "      <td>2014-11</td>\n",
       "      <td>133</td>\n",
       "    </tr>\n",
       "    <tr>\n",
       "      <th>4</th>\n",
       "      <td>2014-12</td>\n",
       "      <td>117</td>\n",
       "    </tr>\n",
       "    <tr>\n",
       "      <th>...</th>\n",
       "      <td>...</td>\n",
       "      <td>...</td>\n",
       "    </tr>\n",
       "    <tr>\n",
       "      <th>80</th>\n",
       "      <td>2020-5</td>\n",
       "      <td>6621</td>\n",
       "    </tr>\n",
       "    <tr>\n",
       "      <th>81</th>\n",
       "      <td>2020-6</td>\n",
       "      <td>7036</td>\n",
       "    </tr>\n",
       "    <tr>\n",
       "      <th>82</th>\n",
       "      <td>2020-7</td>\n",
       "      <td>7858</td>\n",
       "    </tr>\n",
       "    <tr>\n",
       "      <th>83</th>\n",
       "      <td>2020-8</td>\n",
       "      <td>7113</td>\n",
       "    </tr>\n",
       "    <tr>\n",
       "      <th>84</th>\n",
       "      <td>2020-9</td>\n",
       "      <td>6478</td>\n",
       "    </tr>\n",
       "  </tbody>\n",
       "</table>\n",
       "<p>85 rows × 2 columns</p>\n",
       "</div>"
      ],
      "text/plain": [
       "   join_yearmonth  user_count\n",
       "0         2013-12           9\n",
       "1          2014-1          14\n",
       "2         2014-10         119\n",
       "3         2014-11         133\n",
       "4         2014-12         117\n",
       "..            ...         ...\n",
       "80         2020-5        6621\n",
       "81         2020-6        7036\n",
       "82         2020-7        7858\n",
       "83         2020-8        7113\n",
       "84         2020-9        6478\n",
       "\n",
       "[85 rows x 2 columns]"
      ]
     },
     "execution_count": 100,
     "metadata": {},
     "output_type": "execute_result"
    }
   ],
   "source": [
    "df_user = df.groupby('join_yearmonth')['user_id'].nunique().reset_index()\n",
    "df_user.rename(columns = {'user_id': 'user_count'}, inplace= True)\n",
    "df_user"
   ]
  },
  {
   "cell_type": "markdown",
   "metadata": {},
   "source": [
    "### 2020 결재한 count 개수를 월별로 분류"
   ]
  },
  {
   "cell_type": "code",
   "execution_count": 102,
   "metadata": {},
   "outputs": [
    {
     "data": {
      "text/html": [
       "<div>\n",
       "<style scoped>\n",
       "    .dataframe tbody tr th:only-of-type {\n",
       "        vertical-align: middle;\n",
       "    }\n",
       "\n",
       "    .dataframe tbody tr th {\n",
       "        vertical-align: top;\n",
       "    }\n",
       "\n",
       "    .dataframe thead th {\n",
       "        text-align: right;\n",
       "    }\n",
       "</style>\n",
       "<table border=\"1\" class=\"dataframe\">\n",
       "  <thead>\n",
       "    <tr style=\"text-align: right;\">\n",
       "      <th></th>\n",
       "      <th>join_yearmonth</th>\n",
       "      <th>count</th>\n",
       "    </tr>\n",
       "  </thead>\n",
       "  <tbody>\n",
       "    <tr>\n",
       "      <th>0</th>\n",
       "      <td>2013-12</td>\n",
       "      <td>38</td>\n",
       "    </tr>\n",
       "    <tr>\n",
       "      <th>1</th>\n",
       "      <td>2014-1</td>\n",
       "      <td>113</td>\n",
       "    </tr>\n",
       "    <tr>\n",
       "      <th>2</th>\n",
       "      <td>2014-10</td>\n",
       "      <td>500</td>\n",
       "    </tr>\n",
       "    <tr>\n",
       "      <th>3</th>\n",
       "      <td>2014-11</td>\n",
       "      <td>682</td>\n",
       "    </tr>\n",
       "    <tr>\n",
       "      <th>4</th>\n",
       "      <td>2014-12</td>\n",
       "      <td>791</td>\n",
       "    </tr>\n",
       "    <tr>\n",
       "      <th>...</th>\n",
       "      <td>...</td>\n",
       "      <td>...</td>\n",
       "    </tr>\n",
       "    <tr>\n",
       "      <th>80</th>\n",
       "      <td>2020-5</td>\n",
       "      <td>34079</td>\n",
       "    </tr>\n",
       "    <tr>\n",
       "      <th>81</th>\n",
       "      <td>2020-6</td>\n",
       "      <td>35782</td>\n",
       "    </tr>\n",
       "    <tr>\n",
       "      <th>82</th>\n",
       "      <td>2020-7</td>\n",
       "      <td>35300</td>\n",
       "    </tr>\n",
       "    <tr>\n",
       "      <th>83</th>\n",
       "      <td>2020-8</td>\n",
       "      <td>30689</td>\n",
       "    </tr>\n",
       "    <tr>\n",
       "      <th>84</th>\n",
       "      <td>2020-9</td>\n",
       "      <td>25699</td>\n",
       "    </tr>\n",
       "  </tbody>\n",
       "</table>\n",
       "<p>85 rows × 2 columns</p>\n",
       "</div>"
      ],
      "text/plain": [
       "   join_yearmonth  count\n",
       "0         2013-12     38\n",
       "1          2014-1    113\n",
       "2         2014-10    500\n",
       "3         2014-11    682\n",
       "4         2014-12    791\n",
       "..            ...    ...\n",
       "80         2020-5  34079\n",
       "81         2020-6  35782\n",
       "82         2020-7  35300\n",
       "83         2020-8  30689\n",
       "84         2020-9  25699\n",
       "\n",
       "[85 rows x 2 columns]"
      ]
     },
     "execution_count": 102,
     "metadata": {},
     "output_type": "execute_result"
    }
   ],
   "source": [
    "df_count = df.groupby('join_yearmonth')['count'].sum().reset_index()\n",
    "df_count"
   ]
  },
  {
   "cell_type": "markdown",
   "metadata": {},
   "source": [
    "### 월별 가입자들의 평균 count\n",
    "\n",
    "#### 가설: \n",
    "1. 2020 결재일 데이터 이기 때문에 가입한지 오래된 사람들은 아닌 사람들보다 더 결제를 많이 했을것이다.\n",
    "\n",
    "-------------\n",
    "\n",
    "#### 계산 순서:\n",
    "1. 월별 가입자 분류\n",
    "2. 월별 count 분류\n",
    "3. 월별 count / 월별 가입자 = '월별 가입자의 평균 count 수'\n",
    "\n",
    "즉 average_count는 월별 가입자들의 평균 count 수를 측정 할 수 있을 것."
   ]
  },
  {
   "cell_type": "code",
   "execution_count": 67,
   "metadata": {},
   "outputs": [
    {
     "data": {
      "text/html": [
       "<div>\n",
       "<style scoped>\n",
       "    .dataframe tbody tr th:only-of-type {\n",
       "        vertical-align: middle;\n",
       "    }\n",
       "\n",
       "    .dataframe tbody tr th {\n",
       "        vertical-align: top;\n",
       "    }\n",
       "\n",
       "    .dataframe thead th {\n",
       "        text-align: right;\n",
       "    }\n",
       "</style>\n",
       "<table border=\"1\" class=\"dataframe\">\n",
       "  <thead>\n",
       "    <tr style=\"text-align: right;\">\n",
       "      <th></th>\n",
       "      <th>index</th>\n",
       "      <th>join_yearmonth</th>\n",
       "      <th>user_count</th>\n",
       "      <th>count</th>\n",
       "      <th>average_count</th>\n",
       "    </tr>\n",
       "  </thead>\n",
       "  <tbody>\n",
       "    <tr>\n",
       "      <th>0</th>\n",
       "      <td>0</td>\n",
       "      <td>2013-12-01</td>\n",
       "      <td>9</td>\n",
       "      <td>38</td>\n",
       "      <td>4.222222</td>\n",
       "    </tr>\n",
       "    <tr>\n",
       "      <th>1</th>\n",
       "      <td>1</td>\n",
       "      <td>2014-01-01</td>\n",
       "      <td>14</td>\n",
       "      <td>113</td>\n",
       "      <td>8.071429</td>\n",
       "    </tr>\n",
       "    <tr>\n",
       "      <th>2</th>\n",
       "      <td>5</td>\n",
       "      <td>2014-02-01</td>\n",
       "      <td>9</td>\n",
       "      <td>33</td>\n",
       "      <td>3.666667</td>\n",
       "    </tr>\n",
       "    <tr>\n",
       "      <th>3</th>\n",
       "      <td>6</td>\n",
       "      <td>2014-03-01</td>\n",
       "      <td>10</td>\n",
       "      <td>121</td>\n",
       "      <td>12.100000</td>\n",
       "    </tr>\n",
       "    <tr>\n",
       "      <th>4</th>\n",
       "      <td>7</td>\n",
       "      <td>2014-04-01</td>\n",
       "      <td>1</td>\n",
       "      <td>5</td>\n",
       "      <td>5.000000</td>\n",
       "    </tr>\n",
       "    <tr>\n",
       "      <th>...</th>\n",
       "      <td>...</td>\n",
       "      <td>...</td>\n",
       "      <td>...</td>\n",
       "      <td>...</td>\n",
       "      <td>...</td>\n",
       "    </tr>\n",
       "    <tr>\n",
       "      <th>80</th>\n",
       "      <td>83</td>\n",
       "      <td>2020-08-01</td>\n",
       "      <td>7113</td>\n",
       "      <td>30689</td>\n",
       "      <td>4.314495</td>\n",
       "    </tr>\n",
       "    <tr>\n",
       "      <th>81</th>\n",
       "      <td>84</td>\n",
       "      <td>2020-09-01</td>\n",
       "      <td>6478</td>\n",
       "      <td>25699</td>\n",
       "      <td>3.967119</td>\n",
       "    </tr>\n",
       "    <tr>\n",
       "      <th>82</th>\n",
       "      <td>74</td>\n",
       "      <td>2020-10-01</td>\n",
       "      <td>7571</td>\n",
       "      <td>20988</td>\n",
       "      <td>2.772157</td>\n",
       "    </tr>\n",
       "    <tr>\n",
       "      <th>83</th>\n",
       "      <td>75</td>\n",
       "      <td>2020-11-01</td>\n",
       "      <td>6994</td>\n",
       "      <td>15639</td>\n",
       "      <td>2.236059</td>\n",
       "    </tr>\n",
       "    <tr>\n",
       "      <th>84</th>\n",
       "      <td>76</td>\n",
       "      <td>2020-12-01</td>\n",
       "      <td>4345</td>\n",
       "      <td>8506</td>\n",
       "      <td>1.957652</td>\n",
       "    </tr>\n",
       "  </tbody>\n",
       "</table>\n",
       "<p>85 rows × 5 columns</p>\n",
       "</div>"
      ],
      "text/plain": [
       "    index join_yearmonth  user_count  count  average_count\n",
       "0       0     2013-12-01           9     38       4.222222\n",
       "1       1     2014-01-01          14    113       8.071429\n",
       "2       5     2014-02-01           9     33       3.666667\n",
       "3       6     2014-03-01          10    121      12.100000\n",
       "4       7     2014-04-01           1      5       5.000000\n",
       "..    ...            ...         ...    ...            ...\n",
       "80     83     2020-08-01        7113  30689       4.314495\n",
       "81     84     2020-09-01        6478  25699       3.967119\n",
       "82     74     2020-10-01        7571  20988       2.772157\n",
       "83     75     2020-11-01        6994  15639       2.236059\n",
       "84     76     2020-12-01        4345   8506       1.957652\n",
       "\n",
       "[85 rows x 5 columns]"
      ]
     },
     "execution_count": 67,
     "metadata": {},
     "output_type": "execute_result"
    }
   ],
   "source": [
    "df_yearmonth = pd.merge(df_user, df_count, left_on='join_yearmonth', right_on='join_yearmonth', how='inner')\n",
    "df_yearmonth['average_count'] = df_yearmonth['count'] / df_yearmonth['user_count']\n",
    "df_yearmonth['join_yearmonth'] = df_yearmonth['join_yearmonth'].apply(lambda X : pd.to_datetime(X))\n",
    "df_yearmonth = df_yearmonth.sort_values(by='join_yearmonth')\n",
    "df_yearmonth = df_yearmonth.astype({'join_yearmonth':'str'})\n",
    "df_yearmonth.reset_index()"
   ]
  },
  {
   "cell_type": "markdown",
   "metadata": {},
   "source": [
    "## 가입자 월별 Count 그래프\n",
    "\n",
    " - 2013 기준으로 계속 증가하는 모습을 보이고 있지만, 2020년 시점으로 하락\n",
    " - 그 이유는 해당 데이터가 `2020년도 결재일` 데이터 이기 때문\n",
    " - 예) 2020-12월에 가입한 사람은 2020년도 이전에 가입한 사람들에 비해 기간 부족\n",
    " - 따라서 해당 그래프를 보고 count 수가 감소했다고 말하면 안된다"
   ]
  },
  {
   "cell_type": "code",
   "execution_count": 103,
   "metadata": {},
   "outputs": [
    {
     "data": {
      "text/plain": [
       "<AxesSubplot:xlabel='join_yearmonth', ylabel='count'>"
      ]
     },
     "execution_count": 103,
     "metadata": {},
     "output_type": "execute_result"
    },
    {
     "data": {
      "image/png": "[encoded data removed]",
      "text/plain": [
       "<Figure size 1440x360 with 1 Axes>"
      ]
     },
     "metadata": {
      "needs_background": "light"
     },
     "output_type": "display_data"
    }
   ],
   "source": [
    "plt.figure(figsize=(20, 5))\n",
    "plt.xticks(rotation = 90)\n",
    "\n",
    "sns.barplot(x = df_yearmonth['join_yearmonth'], y = df_yearmonth['count'])"
   ]
  },
  {
   "cell_type": "markdown",
   "metadata": {},
   "source": [
    "## 가입자 월별 user 그래프\n",
    "\n",
    "1. 월별 user수 또한 마찬가지로 2020년을 기점으로 상승하는듯이 보이지만 하락하고 있다.\n",
    "2. 다만 월별 user수는 월별 count수보다 하락세가 덜하기 때문에 count/user로 유저별 월별 count수를 나타내 볼 필요성이 있다."
   ]
  },
  {
   "cell_type": "code",
   "execution_count": 105,
   "metadata": {},
   "outputs": [
    {
     "data": {
      "text/plain": [
       "<AxesSubplot:xlabel='join_yearmonth', ylabel='user_count'>"
      ]
     },
     "execution_count": 105,
     "metadata": {},
     "output_type": "execute_result"
    },
    {
     "data": {
      "image/png": "[encoded data removed]",
      "text/plain": [
       "<Figure size 1440x360 with 1 Axes>"
      ]
     },
     "metadata": {
      "needs_background": "light"
     },
     "output_type": "display_data"
    }
   ],
   "source": [
    "plt.figure(figsize=(20, 5))\n",
    "plt.xticks(rotation = 90)\n",
    "\n",
    "sns.barplot(x = df_yearmonth['join_yearmonth'], y = df_yearmonth['user_count'])"
   ]
  },
  {
   "cell_type": "markdown",
   "metadata": {},
   "source": [
    "## 월별 유저당 평균 결제건수\n",
    "\n",
    "1. 전체기간동안 유저당 평균 6.14건을 결제하였다. \n",
    "2. 13~ 14까지 변화폭이 큰 이유는 해당 년도에 가입자 수가 많지 않기 때문에 분포가 큰 것.\n",
    "3. 여기서 중요한 Insight는 2020년기점으로 유저당 평균 결제 건수가 줄어든다는 점이다.★★\n",
    "   - 위에서 말했듯이 2020년도 가입 user는 결제 기간에 대한 count에 대하여 불평등이 있다. \n",
    "   - 하지만 결제 1회(즉, 유저 수)에 한해서는 불평등이 크게 존재하지 않는다.(단 한번만 결제하면 되기 때문) \n",
    "   - 따라서 위에 그래프에서 보이는 것 처럼 count는 2020을 기준으로 급격하게 줄어들지만 user수는 그렇지 않다.\n",
    "   - 때문에 2020년이후에 유저당 평균 결제건수가 줄어드는 것은 지켜봐야될 지표"
   ]
  },
  {
   "cell_type": "code",
   "execution_count": 106,
   "metadata": {},
   "outputs": [
    {
     "data": {
      "text/plain": [
       "<AxesSubplot:xlabel='join_yearmonth', ylabel='average_count'>"
      ]
     },
     "execution_count": 106,
     "metadata": {},
     "output_type": "execute_result"
    },
    {
     "data": {
      "image/png": "[encoded data removed]",
      "text/plain": [
       "<Figure size 1440x360 with 1 Axes>"
      ]
     },
     "metadata": {
      "needs_background": "light"
     },
     "output_type": "display_data"
    }
   ],
   "source": [
    "plt.figure(figsize = (20, 5))\n",
    "plt.xticks(rotation = 90)\n",
    "sns.barplot(x = df_yearmonth['join_yearmonth'], y = df_yearmonth['average_count'])"
   ]
  },
  {
   "cell_type": "markdown",
   "metadata": {},
   "source": [
    "### 따라서 전체기간 인당 평균 결제수는 \n",
    "\n",
    "따라서 가중치 계산\n",
    " 1. join_date가 2020년 이전인 데이터\n",
    " 2.  weight x (366 / 해당날짜 유저수)"
   ]
  },
  {
   "cell_type": "code",
   "execution_count": 108,
   "metadata": {},
   "outputs": [
    {
     "data": {
      "text/plain": [
       "6.145081742624897"
      ]
     },
     "execution_count": 108,
     "metadata": {},
     "output_type": "execute_result"
    }
   ],
   "source": [
    "#평균 df_new_year['average_count'].mean()으로 하면X 가입자 수는 2013부터 증가하기때문에 동등한 가중치로 볼 수 없기 때문\n",
    "\n",
    "df= df.sort_values(by='join_date')\n",
    "weight = df.query('join_date < datetime(2020, 1, 1)')['count'].sum()  / df.query('join_date < datetime(2020, 1, 1)')['user_id'].nunique()\n",
    "weight\n",
    "\n",
    "#전체기간 인당 평균 결제수 weight = 6.1450817..."
   ]
  },
  {
   "cell_type": "markdown",
   "metadata": {},
   "source": [
    "## 2021년 예측\n",
    "\n",
    "### 위 데이터로 2021년 데이터 그래프를 그려보자\n",
    "\n",
    "1. 가입일자가 2013~2020년도인 유저들의 2020년도 결제 그래프를 통해 위와 같이 해당 추이를 살펴보았다.\n",
    "2. 해당 추이를 통해 2020년도 가입자에 한해 count가중치를 준다.\n",
    "3. 따라서 가입일자가 2013~2020년도인 유저들의 2021년도 결제 그래프를 만들어 보자."
   ]
  },
  {
   "cell_type": "markdown",
   "metadata": {},
   "source": [
    "### Real Count 유도 ★★★\n",
    "\n",
    "1. 2020년 가입자들은 해당 데이터에서 count에 한해 '기한적 손해'를 보고 있다.\n",
    "2. 따라서 '손해를 본 기간'만큼의 가중치를 해당 count에 더해서 real_count를 만들어 준다.\n",
    "3. 해당 공식은 이렇다\n",
    "\n",
    "   ### real_count   =   (count  +  ((weight/366)  *  (손해 기간)) / (total_count))  *  (weight/total_count)\n",
    "   <br>\n",
    "   * weight = 유저별 월평균 결제 건수 <br>\n",
    "   * total_count = 유저의 전체 결제 건수 <br>\n",
    "   * 손해 기간 = 가입일자로부터 2020년 1월 1일 사이의 날짜 수 <br>\n"
   ]
  },
  {
   "cell_type": "code",
   "execution_count": 109,
   "metadata": {},
   "outputs": [],
   "source": [
    "from datetime import datetime\n",
    "##total_count\n",
    "df2 = df.groupby(['join_year', 'user_id'])['count'].sum().reset_index()\n",
    "df2.rename(columns = {\"count\": \"total_count\"}, inplace = True)\n",
    "df_final = pd.merge(df, df2, left_on = 'user_id', right_on = 'user_id', how='outer')\n",
    "\n",
    "##real_count 계산\n",
    "df_final['real_count'] = (df_final['count'] + ((weight / 366) * df_final['join_date'].dt.dayofyear.astype(int))/df_final['total_count']) * (weight/(df_final['total_count'] / df_final['count']))\n"
   ]
  },
  {
   "cell_type": "code",
   "execution_count": 114,
   "metadata": {},
   "outputs": [
    {
     "data": {
      "text/html": [
       "<div>\n",
       "<style scoped>\n",
       "    .dataframe tbody tr th:only-of-type {\n",
       "        vertical-align: middle;\n",
       "    }\n",
       "\n",
       "    .dataframe tbody tr th {\n",
       "        vertical-align: top;\n",
       "    }\n",
       "\n",
       "    .dataframe thead th {\n",
       "        text-align: right;\n",
       "    }\n",
       "</style>\n",
       "<table border=\"1\" class=\"dataframe\">\n",
       "  <thead>\n",
       "    <tr style=\"text-align: right;\">\n",
       "      <th></th>\n",
       "      <th>user_id</th>\n",
       "      <th>join_date</th>\n",
       "      <th>d_type</th>\n",
       "      <th>store_id</th>\n",
       "      <th>goods_type</th>\n",
       "      <th>date</th>\n",
       "      <th>count</th>\n",
       "      <th>ad1</th>\n",
       "      <th>join_yearmonth</th>\n",
       "      <th>join_year_x</th>\n",
       "      <th>pay_yearmonth</th>\n",
       "      <th>pay_dow</th>\n",
       "      <th>join_year_y</th>\n",
       "      <th>total_count</th>\n",
       "      <th>real_count</th>\n",
       "    </tr>\n",
       "  </thead>\n",
       "  <tbody>\n",
       "    <tr>\n",
       "      <th>0</th>\n",
       "      <td>224</td>\n",
       "      <td>2013-12-16</td>\n",
       "      <td>AA</td>\n",
       "      <td>181833</td>\n",
       "      <td>C</td>\n",
       "      <td>2020-12-09</td>\n",
       "      <td>1</td>\n",
       "      <td>J</td>\n",
       "      <td>2013-12</td>\n",
       "      <td>2013</td>\n",
       "      <td>2020-12</td>\n",
       "      <td>Wednesday</td>\n",
       "      <td>2013</td>\n",
       "      <td>2</td>\n",
       "      <td>1.0</td>\n",
       "    </tr>\n",
       "    <tr>\n",
       "      <th>1</th>\n",
       "      <td>224</td>\n",
       "      <td>2013-12-16</td>\n",
       "      <td>AA</td>\n",
       "      <td>92510</td>\n",
       "      <td>A</td>\n",
       "      <td>2020-01-12</td>\n",
       "      <td>1</td>\n",
       "      <td>J</td>\n",
       "      <td>2013-12</td>\n",
       "      <td>2013</td>\n",
       "      <td>2020-1</td>\n",
       "      <td>Sunday</td>\n",
       "      <td>2013</td>\n",
       "      <td>2</td>\n",
       "      <td>1.0</td>\n",
       "    </tr>\n",
       "    <tr>\n",
       "      <th>2</th>\n",
       "      <td>232</td>\n",
       "      <td>2013-12-17</td>\n",
       "      <td>BB</td>\n",
       "      <td>220077</td>\n",
       "      <td>C</td>\n",
       "      <td>2020-05-02</td>\n",
       "      <td>1</td>\n",
       "      <td>JRR</td>\n",
       "      <td>2013-12</td>\n",
       "      <td>2013</td>\n",
       "      <td>2020-5</td>\n",
       "      <td>Saturday</td>\n",
       "      <td>2013</td>\n",
       "      <td>24</td>\n",
       "      <td>1.0</td>\n",
       "    </tr>\n",
       "  </tbody>\n",
       "</table>\n",
       "</div>"
      ],
      "text/plain": [
       "  user_id  join_date d_type store_id goods_type       date  count  ad1  \\\n",
       "0     224 2013-12-16     AA   181833          C 2020-12-09      1    J   \n",
       "1     224 2013-12-16     AA    92510          A 2020-01-12      1    J   \n",
       "2     232 2013-12-17     BB   220077          C 2020-05-02      1  JRR   \n",
       "\n",
       "  join_yearmonth join_year_x pay_yearmonth    pay_dow join_year_y  \\\n",
       "0        2013-12        2013       2020-12  Wednesday        2013   \n",
       "1        2013-12        2013        2020-1     Sunday        2013   \n",
       "2        2013-12        2013        2020-5   Saturday        2013   \n",
       "\n",
       "   total_count  real_count  \n",
       "0            2         1.0  \n",
       "1            2         1.0  \n",
       "2           24         1.0  "
      ]
     },
     "execution_count": 114,
     "metadata": {},
     "output_type": "execute_result"
    }
   ],
   "source": [
    "# 2020년 이전 가입자들의 real_count = 1로 변경 (가중치가 없기 때문)\n",
    "df_final.loc[:528339, 'real_count'] = df['count']\n",
    "df_final.head(3)"
   ]
  },
  {
   "cell_type": "markdown",
   "metadata": {},
   "source": [
    "\n",
    "## 2021년도 예상 그래프\n",
    "\n",
    "※ 2021년도 1회이상 결제 가입자중 2013~2020년도에 가입한 유저"
   ]
  },
  {
   "cell_type": "code",
   "execution_count": 93,
   "metadata": {},
   "outputs": [
    {
     "data": {
      "text/plain": [
       "<AxesSubplot:xlabel='join_yearmonth', ylabel='real_count'>"
      ]
     },
     "execution_count": 93,
     "metadata": {},
     "output_type": "execute_result"
    },
    {
     "data": {
      "image/png": "[encoded data removed]",
      "text/plain": [
       "<Figure size 1440x360 with 1 Axes>"
      ]
     },
     "metadata": {
      "needs_background": "light"
     },
     "output_type": "display_data"
    }
   ],
   "source": [
    "df_visualize = df_final.groupby('join_yearmonth')['real_count'].sum().reset_index()\n",
    "df_visualize['join_yearmonth'] = df_visualize['join_yearmonth'].apply(lambda X : pd.to_datetime(X))\n",
    "df_visualize = df_visualize.sort_values(by='join_yearmonth')\n",
    "df_visualize = df_visualize.astype({'join_yearmonth':'str'})\n",
    "df_visualize.reset_index()\n",
    "plt.figure(figsize=(20, 5))\n",
    "plt.xticks(rotation = 90)\n",
    "sns.barplot(x = df_visualize['join_yearmonth'], y = df_visualize['real_count'])"
   ]
  },
  {
   "cell_type": "markdown",
   "metadata": {},
   "source": [
    "### 그래프 해석\n",
    "\n",
    "1. count가 급격하게 증가하는 것을 볼 수 있다.\n",
    "2. 2020-12에 감소하는데, 2020 12년도 가입자에 대한 결측 데이터가 있는 것으로 추측된다.\n",
    "3. 2020-11 가입자의 21년도 예상 count는 20만건이 넘는다."
   ]
  },
  {
   "cell_type": "markdown",
   "metadata": {},
   "source": [
    "# Business Insight"
   ]
  },
  {
   "cell_type": "markdown",
   "metadata": {},
   "source": [
    "## 재결재율\n",
    "\n",
    "1. 해당 데이터의 재결재율은 어떻게 될까?\n",
    "2. 예를들어 한번 결재한 사람의 재결재율과 10번 결재한 사람의 재결재율은 어떻게 다를까?"
   ]
  },
  {
   "cell_type": "code",
   "execution_count": 112,
   "metadata": {},
   "outputs": [
    {
     "data": {
      "text/html": [
       "<div>\n",
       "<style scoped>\n",
       "    .dataframe tbody tr th:only-of-type {\n",
       "        vertical-align: middle;\n",
       "    }\n",
       "\n",
       "    .dataframe tbody tr th {\n",
       "        vertical-align: top;\n",
       "    }\n",
       "\n",
       "    .dataframe thead th {\n",
       "        text-align: right;\n",
       "    }\n",
       "</style>\n",
       "<table border=\"1\" class=\"dataframe\">\n",
       "  <thead>\n",
       "    <tr style=\"text-align: right;\">\n",
       "      <th></th>\n",
       "      <th>user_id</th>\n",
       "      <th>count</th>\n",
       "    </tr>\n",
       "  </thead>\n",
       "  <tbody>\n",
       "    <tr>\n",
       "      <th>0</th>\n",
       "      <td>224</td>\n",
       "      <td>2</td>\n",
       "    </tr>\n",
       "    <tr>\n",
       "      <th>1</th>\n",
       "      <td>232</td>\n",
       "      <td>24</td>\n",
       "    </tr>\n",
       "    <tr>\n",
       "      <th>2</th>\n",
       "      <td>342</td>\n",
       "      <td>1</td>\n",
       "    </tr>\n",
       "    <tr>\n",
       "      <th>3</th>\n",
       "      <td>565</td>\n",
       "      <td>2</td>\n",
       "    </tr>\n",
       "    <tr>\n",
       "      <th>4</th>\n",
       "      <td>729</td>\n",
       "      <td>1</td>\n",
       "    </tr>\n",
       "    <tr>\n",
       "      <th>...</th>\n",
       "      <td>...</td>\n",
       "      <td>...</td>\n",
       "    </tr>\n",
       "    <tr>\n",
       "      <th>165155</th>\n",
       "      <td>1830551</td>\n",
       "      <td>1</td>\n",
       "    </tr>\n",
       "    <tr>\n",
       "      <th>165156</th>\n",
       "      <td>1830570</td>\n",
       "      <td>1</td>\n",
       "    </tr>\n",
       "    <tr>\n",
       "      <th>165157</th>\n",
       "      <td>1830580</td>\n",
       "      <td>1</td>\n",
       "    </tr>\n",
       "    <tr>\n",
       "      <th>165158</th>\n",
       "      <td>1830589</td>\n",
       "      <td>1</td>\n",
       "    </tr>\n",
       "    <tr>\n",
       "      <th>165159</th>\n",
       "      <td>1830598</td>\n",
       "      <td>1</td>\n",
       "    </tr>\n",
       "  </tbody>\n",
       "</table>\n",
       "<p>165160 rows × 2 columns</p>\n",
       "</div>"
      ],
      "text/plain": [
       "        user_id  count\n",
       "0           224      2\n",
       "1           232     24\n",
       "2           342      1\n",
       "3           565      2\n",
       "4           729      1\n",
       "...         ...    ...\n",
       "165155  1830551      1\n",
       "165156  1830570      1\n",
       "165157  1830580      1\n",
       "165158  1830589      1\n",
       "165159  1830598      1\n",
       "\n",
       "[165160 rows x 2 columns]"
      ]
     },
     "execution_count": 112,
     "metadata": {},
     "output_type": "execute_result"
    }
   ],
   "source": [
    "##한번이라도 결재한 사람의 재결재 비율 (2020년)\n",
    "df_user = df.groupby('user_id')['count'].sum().reset_index()\n",
    "df_user"
   ]
  },
  {
   "cell_type": "code",
   "execution_count": 21,
   "metadata": {},
   "outputs": [
    {
     "data": {
      "text/plain": [
       "0.5532090094453863"
      ]
     },
     "execution_count": 21,
     "metadata": {},
     "output_type": "execute_result"
    }
   ],
   "source": [
    "##한번 이상 결재한 사람의 재결재 비율 (2020년)\n",
    "\n",
    "pay_more_than_2 = df_user.query('count > 1')['user_id'].count() / df_user.query('count >= 1')['user_id'].count()\n",
    "pay_more_than_2"
   ]
  },
  {
   "cell_type": "code",
   "execution_count": 22,
   "metadata": {},
   "outputs": [
    {
     "data": {
      "text/plain": [
       "0.7067572892040977"
      ]
     },
     "execution_count": 22,
     "metadata": {},
     "output_type": "execute_result"
    }
   ],
   "source": [
    "##두번 이상 결재한 사람의 재결재 비율 (2020년)\n",
    "\n",
    "pay_more_than_2 = df_user.query('count > 2')['user_id'].count() / df_user.query('count >= 2')['user_id'].count()\n",
    "pay_more_than_2"
   ]
  },
  {
   "cell_type": "code",
   "execution_count": 23,
   "metadata": {},
   "outputs": [],
   "source": [
    "##함수로 만들어서 적용\n",
    "\n",
    "def pay_again_rate(column, count):\n",
    "    \n",
    "    pay_rate = df_user.query(f'count > {count}')[f'{column}'].count() / df_user.query(f'count >= {count}')[f'{column}'].count()\n",
    "    \n",
    "    return pay_rate"
   ]
  },
  {
   "cell_type": "code",
   "execution_count": 24,
   "metadata": {},
   "outputs": [
    {
     "data": {
      "text/plain": [
       "<BarContainer object of 49 artists>"
      ]
     },
     "execution_count": 24,
     "metadata": {},
     "output_type": "execute_result"
    },
    {
     "data": {
      "image/png": "[encoded data removed]",
      "text/plain": [
       "<Figure size 432x288 with 1 Axes>"
      ]
     },
     "metadata": {
      "needs_background": "light"
     },
     "output_type": "display_data"
    }
   ],
   "source": [
    "pay_again_list = []\n",
    "\n",
    "for i in range(1, 50):\n",
    "    \n",
    "    pay_again_list.append(pay_again_rate('user_id', i))\n",
    "    \n",
    "pay_again_list\n",
    "\n",
    "plt.bar(np.arange(len(pay_again_list)), pay_again_list)"
   ]
  },
  {
   "cell_type": "markdown",
   "metadata": {},
   "source": [
    "### 인사이트\n",
    "\n",
    "1. 한번이라도 결재한사람의 두번쨰 결재율은 55%정도 된다.\n",
    "2. 반면 10번이상 결재한 사람의 11번째 결재율은 90% 이상이다.\n",
    "\n",
    "- 비즈니스 적으로 한번 결재한사람의 재결재율을 끌어올릴 수 있다면 매출상승에 큰 도움이 될 것.\n",
    "- 또한 10번이상 결재한 'Steady user'들을 계속해서 유지해나갈 방법또한 필요해 보임"
   ]
  }
 ],
 "metadata": {
  "kernelspec": {
   "display_name": "Python 3",
   "language": "python",
   "name": "python3"
  },
  "language_info": {
   "codemirror_mode": {
    "name": "ipython",
    "version": 3
   },
   "file_extension": ".py",
   "mimetype": "text/x-python",
   "name": "python",
   "nbconvert_exporter": "python",
   "pygments_lexer": "ipython3",
   "version": "3.8.5"
  }
 },
 "nbformat": 4,
 "nbformat_minor": 4
}
