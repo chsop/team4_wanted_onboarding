{
 "cells": [
  {
   "cell_type": "markdown",
   "metadata": {
    "scrolled": true
   },
   "source": [
    "목차\n",
    "\n",
    "0. 데이터 불러오기\n",
    "1. data description\n",
    "2. 결측치 이상치\n",
    "3. feature engineering\n",
    "4. EDA\n",
    "5. 모델링\n",
    "\n",
    "요약 \n",
    "예?\n"
   ]
  },
  {
   "cell_type": "code",
   "execution_count": 793,
   "metadata": {},
   "outputs": [],
   "source": [
    "import numpy as np\n",
    "import pandas as pd\n",
    "import seaborn as sns\n",
    "import matplotlib.pyplot as plt\n",
    "\n",
    "from sklearn.ensemble import RandomForestRegressor\n",
    "from sklearn.model_selection import train_test_split\n",
    "from sklearn.preprocessing import LabelEncoder\n",
    "from sklearn.metrics import mean_squared_error, mean_absolute_error\n",
    "\n",
    "import warnings\n",
    "warnings.filterwarnings('ignore')"
   ]
  },
  {
   "cell_type": "code",
   "execution_count": 794,
   "metadata": {},
   "outputs": [],
   "source": [
    "%matplotlib inline\n",
    "plt.rcParams['font.family'] = 'Malgun Gothic'  # (Windows 용) 한글 출력을 위한 글꼴 설정\n",
    "#plt.rcParams['font.family'] = 'AppleGothic'  # (MAC, 리눅스 용)\n",
    "plt.rcParams['axes.unicode_minus'] = False    # 문자 - (마이너스) 정상 출력을 위한 코드\n",
    "\n",
    "pd.options.display.float_format = '{:20,.0f}'.format\n",
    "pd.options.display.max_columns = 99\n",
    "np.random.seed(42)"
   ]
  },
  {
   "cell_type": "code",
   "execution_count": 795,
   "metadata": {},
   "outputs": [],
   "source": [
    "df = pd.read_csv('실전db.csv', encoding='cp949')"
   ]
  },
  {
   "cell_type": "code",
   "execution_count": 796,
   "metadata": {},
   "outputs": [],
   "source": [
    "df = df.rename(columns=str.lower)"
   ]
  },
  {
   "cell_type": "code",
   "execution_count": 797,
   "metadata": {},
   "outputs": [
    {
     "data": {
      "text/html": [
       "<div>\n",
       "<style scoped>\n",
       "    .dataframe tbody tr th:only-of-type {\n",
       "        vertical-align: middle;\n",
       "    }\n",
       "\n",
       "    .dataframe tbody tr th {\n",
       "        vertical-align: top;\n",
       "    }\n",
       "\n",
       "    .dataframe thead th {\n",
       "        text-align: right;\n",
       "    }\n",
       "</style>\n",
       "<table border=\"1\" class=\"dataframe\">\n",
       "  <thead>\n",
       "    <tr style=\"text-align: right;\">\n",
       "      <th></th>\n",
       "      <th>user_id</th>\n",
       "      <th>store_id</th>\n",
       "      <th>count</th>\n",
       "    </tr>\n",
       "  </thead>\n",
       "  <tbody>\n",
       "    <tr>\n",
       "      <th>count</th>\n",
       "      <td>879,271</td>\n",
       "      <td>879,271</td>\n",
       "      <td>879,271</td>\n",
       "    </tr>\n",
       "    <tr>\n",
       "      <th>mean</th>\n",
       "      <td>1,206,566</td>\n",
       "      <td>149,600</td>\n",
       "      <td>1</td>\n",
       "    </tr>\n",
       "    <tr>\n",
       "      <th>std</th>\n",
       "      <td>420,653</td>\n",
       "      <td>68,898</td>\n",
       "      <td>1</td>\n",
       "    </tr>\n",
       "    <tr>\n",
       "      <th>min</th>\n",
       "      <td>224</td>\n",
       "      <td>4</td>\n",
       "      <td>1</td>\n",
       "    </tr>\n",
       "    <tr>\n",
       "      <th>25%</th>\n",
       "      <td>900,576</td>\n",
       "      <td>92,437</td>\n",
       "      <td>1</td>\n",
       "    </tr>\n",
       "    <tr>\n",
       "      <th>50%</th>\n",
       "      <td>1,321,440</td>\n",
       "      <td>173,059</td>\n",
       "      <td>1</td>\n",
       "    </tr>\n",
       "    <tr>\n",
       "      <th>75%</th>\n",
       "      <td>1,542,416</td>\n",
       "      <td>220,661</td>\n",
       "      <td>1</td>\n",
       "    </tr>\n",
       "    <tr>\n",
       "      <th>max</th>\n",
       "      <td>1,830,598</td>\n",
       "      <td>231,465</td>\n",
       "      <td>61</td>\n",
       "    </tr>\n",
       "  </tbody>\n",
       "</table>\n",
       "</div>"
      ],
      "text/plain": [
       "                   user_id             store_id                count\n",
       "count              879,271              879,271              879,271\n",
       "mean             1,206,566              149,600                    1\n",
       "std                420,653               68,898                    1\n",
       "min                    224                    4                    1\n",
       "25%                900,576               92,437                    1\n",
       "50%              1,321,440              173,059                    1\n",
       "75%              1,542,416              220,661                    1\n",
       "max              1,830,598              231,465                   61"
      ]
     },
     "execution_count": 797,
     "metadata": {},
     "output_type": "execute_result"
    }
   ],
   "source": [
    "df.describe()"
   ]
  },
  {
   "cell_type": "code",
   "execution_count": 798,
   "metadata": {},
   "outputs": [
    {
     "name": "stdout",
     "output_type": "stream",
     "text": [
      "<class 'pandas.core.frame.DataFrame'>\n",
      "RangeIndex: 879271 entries, 0 to 879270\n",
      "Data columns (total 8 columns):\n",
      " #   Column      Non-Null Count   Dtype \n",
      "---  ------      --------------   ----- \n",
      " 0   user_id     879271 non-null  int64 \n",
      " 1   join_date   879271 non-null  object\n",
      " 2   d_type      879271 non-null  object\n",
      " 3   store_id    879271 non-null  int64 \n",
      " 4   goods_type  879271 non-null  object\n",
      " 5   date        879271 non-null  object\n",
      " 6   count       879271 non-null  int64 \n",
      " 7   ad1         879271 non-null  object\n",
      "dtypes: int64(3), object(5)\n",
      "memory usage: 53.7+ MB\n"
     ]
    }
   ],
   "source": [
    "df.info()"
   ]
  },
  {
   "cell_type": "code",
   "execution_count": 799,
   "metadata": {},
   "outputs": [
    {
     "data": {
      "text/html": [
       "<div>\n",
       "<style scoped>\n",
       "    .dataframe tbody tr th:only-of-type {\n",
       "        vertical-align: middle;\n",
       "    }\n",
       "\n",
       "    .dataframe tbody tr th {\n",
       "        vertical-align: top;\n",
       "    }\n",
       "\n",
       "    .dataframe thead th {\n",
       "        text-align: right;\n",
       "    }\n",
       "</style>\n",
       "<table border=\"1\" class=\"dataframe\">\n",
       "  <thead>\n",
       "    <tr style=\"text-align: right;\">\n",
       "      <th></th>\n",
       "      <th>user_id</th>\n",
       "      <th>join_date</th>\n",
       "      <th>d_type</th>\n",
       "      <th>store_id</th>\n",
       "      <th>goods_type</th>\n",
       "      <th>date</th>\n",
       "      <th>count</th>\n",
       "      <th>ad1</th>\n",
       "    </tr>\n",
       "  </thead>\n",
       "  <tbody>\n",
       "    <tr>\n",
       "      <th>0</th>\n",
       "      <td>2858</td>\n",
       "      <td>2014-01-07</td>\n",
       "      <td>AA</td>\n",
       "      <td>1892</td>\n",
       "      <td>A</td>\n",
       "      <td>2020-01-01</td>\n",
       "      <td>1</td>\n",
       "      <td>GN</td>\n",
       "    </tr>\n",
       "    <tr>\n",
       "      <th>1</th>\n",
       "      <td>5647</td>\n",
       "      <td>2014-02-14</td>\n",
       "      <td>BB</td>\n",
       "      <td>182009</td>\n",
       "      <td>A</td>\n",
       "      <td>2020-01-01</td>\n",
       "      <td>1</td>\n",
       "      <td>J</td>\n",
       "    </tr>\n",
       "    <tr>\n",
       "      <th>2</th>\n",
       "      <td>33314</td>\n",
       "      <td>2014-11-20</td>\n",
       "      <td>BB</td>\n",
       "      <td>82431</td>\n",
       "      <td>A</td>\n",
       "      <td>2020-01-01</td>\n",
       "      <td>1</td>\n",
       "      <td>SC</td>\n",
       "    </tr>\n",
       "    <tr>\n",
       "      <th>3</th>\n",
       "      <td>37001</td>\n",
       "      <td>2014-12-04</td>\n",
       "      <td>BB</td>\n",
       "      <td>725</td>\n",
       "      <td>C</td>\n",
       "      <td>2020-01-01</td>\n",
       "      <td>1</td>\n",
       "      <td>MP</td>\n",
       "    </tr>\n",
       "    <tr>\n",
       "      <th>4</th>\n",
       "      <td>37819</td>\n",
       "      <td>2014-12-07</td>\n",
       "      <td>AA</td>\n",
       "      <td>220691</td>\n",
       "      <td>C</td>\n",
       "      <td>2020-01-01</td>\n",
       "      <td>1</td>\n",
       "      <td>JRR</td>\n",
       "    </tr>\n",
       "  </tbody>\n",
       "</table>\n",
       "</div>"
      ],
      "text/plain": [
       "   user_id   join_date d_type  store_id goods_type        date  count  ad1\n",
       "0     2858  2014-01-07     AA      1892          A  2020-01-01      1   GN\n",
       "1     5647  2014-02-14     BB    182009          A  2020-01-01      1    J\n",
       "2    33314  2014-11-20     BB     82431          A  2020-01-01      1   SC\n",
       "3    37001  2014-12-04     BB       725          C  2020-01-01      1   MP\n",
       "4    37819  2014-12-07     AA    220691          C  2020-01-01      1  JRR"
      ]
     },
     "execution_count": 799,
     "metadata": {},
     "output_type": "execute_result"
    }
   ],
   "source": [
    "df.head()"
   ]
  },
  {
   "cell_type": "markdown",
   "metadata": {},
   "source": [
    "<br><br>\n",
    "## 🚙 Step 1. data 정확히 이해하기\n",
    "\n",
    "#### ⚠️ categorical 변수들에 대해서는 제대로 설명이 되어 있지 않음\n",
    "\n",
    "### 📋주어진 Data Description\n",
    "\n",
    "1. count : 결제 건수\n",
    "2. join_date : 가입일\n",
    "3. d_type : \n",
    "4. store_id : 점포 주소\n",
    "5. goods_type :\n",
    "6. date : 결제일\n",
    "7. count : 결제건수\n",
    "8. ad1 : \n",
    "\n",
    "🚙 **데이터와 모두의 주차장 앱을 서칭하며 비어있는 data description을 파악해보자**"
   ]
  },
  {
   "cell_type": "markdown",
   "metadata": {},
   "source": [
    "##### 1. d_type"
   ]
  },
  {
   "cell_type": "code",
   "execution_count": 800,
   "metadata": {},
   "outputs": [
    {
     "data": {
      "image/png": "[encoded data removed]",
      "text/plain": [
       "<Figure size 432x288 with 1 Axes>"
      ]
     },
     "metadata": {
      "needs_background": "light"
     },
     "output_type": "display_data"
    }
   ],
   "source": [
    "# d_type별 count개수\n",
    "countbytypes = pd.DataFrame(df['d_type'].value_counts())\n",
    "countbytypes.plot(kind = 'bar', title = 'd_type별 count 개수', rot = 0);"
   ]
  },
  {
   "cell_type": "code",
   "execution_count": 801,
   "metadata": {},
   "outputs": [
    {
     "data": {
      "text/plain": [
       "AA    493166\n",
       "BB    384541\n",
       "CC      1564\n",
       "Name: d_type, dtype: int64"
      ]
     },
     "execution_count": 801,
     "metadata": {},
     "output_type": "execute_result"
    }
   ],
   "source": [
    "df['d_type'].value_counts()"
   ]
  },
  {
   "cell_type": "code",
   "execution_count": 802,
   "metadata": {},
   "outputs": [
    {
     "data": {
      "text/plain": [
       "user_id  d_type\n",
       "224      AA         2\n",
       "232      BB        23\n",
       "342      AA         1\n",
       "565      AA         2\n",
       "729      AA         1\n",
       "                   ..\n",
       "1830551  BB         1\n",
       "1830570  BB         1\n",
       "1830580  AA         1\n",
       "1830589  BB         1\n",
       "1830598  AA         1\n",
       "Name: d_type, Length: 165425, dtype: int64"
      ]
     },
     "execution_count": 802,
     "metadata": {},
     "output_type": "execute_result"
    }
   ],
   "source": [
    "# d_type이 user_id에 1:1 대응되는 모습\n",
    "df.groupby('user_id')['d_type'].value_counts()"
   ]
  },
  {
   "cell_type": "code",
   "execution_count": 803,
   "metadata": {},
   "outputs": [
    {
     "data": {
      "text/plain": [
       "store_id  d_type\n",
       "4         AA        13\n",
       "          BB        12\n",
       "8         BB        28\n",
       "          AA        19\n",
       "161       BB         3\n",
       "                    ..\n",
       "231444    AA         1\n",
       "231453    AA        14\n",
       "          BB         8\n",
       "231465    AA        10\n",
       "          BB         4\n",
       "Name: d_type, Length: 2272, dtype: int64"
      ]
     },
     "execution_count": 803,
     "metadata": {},
     "output_type": "execute_result"
    }
   ],
   "source": [
    "# d_type이 store_id에 n:m 대응되는 모습\n",
    "df.groupby('store_id')['d_type'].value_counts()"
   ]
  },
  {
   "cell_type": "markdown",
   "metadata": {},
   "source": [
    "##### 2. goods_type"
   ]
  },
  {
   "cell_type": "code",
   "execution_count": 804,
   "metadata": {},
   "outputs": [
    {
     "data": {
      "image/png": "[encoded data removed]",
      "text/plain": [
       "<Figure size 432x288 with 1 Axes>"
      ]
     },
     "metadata": {
      "needs_background": "light"
     },
     "output_type": "display_data"
    }
   ],
   "source": [
    "# goods_type 개수\n",
    "sns.countplot(x = \"goods_type\", data = df)\n",
    "plt.show()"
   ]
  },
  {
   "cell_type": "code",
   "execution_count": 805,
   "metadata": {},
   "outputs": [
    {
     "data": {
      "text/plain": [
       "A    609790\n",
       "C    131163\n",
       "B    118541\n",
       "D     19777\n",
       "Name: goods_type, dtype: int64"
      ]
     },
     "execution_count": 805,
     "metadata": {},
     "output_type": "execute_result"
    }
   ],
   "source": [
    "df['goods_type'].value_counts()"
   ]
  },
  {
   "cell_type": "code",
   "execution_count": 806,
   "metadata": {
    "scrolled": true
   },
   "outputs": [
    {
     "data": {
      "text/html": [
       "<div>\n",
       "<style scoped>\n",
       "    .dataframe tbody tr th:only-of-type {\n",
       "        vertical-align: middle;\n",
       "    }\n",
       "\n",
       "    .dataframe tbody tr th {\n",
       "        vertical-align: top;\n",
       "    }\n",
       "\n",
       "    .dataframe thead th {\n",
       "        text-align: right;\n",
       "    }\n",
       "</style>\n",
       "<table border=\"1\" class=\"dataframe\">\n",
       "  <thead>\n",
       "    <tr style=\"text-align: right;\">\n",
       "      <th>goods_type</th>\n",
       "      <th>A</th>\n",
       "      <th>B</th>\n",
       "      <th>C</th>\n",
       "      <th>D</th>\n",
       "    </tr>\n",
       "    <tr>\n",
       "      <th>date</th>\n",
       "      <th></th>\n",
       "      <th></th>\n",
       "      <th></th>\n",
       "      <th></th>\n",
       "    </tr>\n",
       "  </thead>\n",
       "  <tbody>\n",
       "    <tr>\n",
       "      <th>2020-01-01</th>\n",
       "      <td>661</td>\n",
       "      <td>34</td>\n",
       "      <td>210</td>\n",
       "      <td>19</td>\n",
       "    </tr>\n",
       "    <tr>\n",
       "      <th>2020-01-02</th>\n",
       "      <td>921</td>\n",
       "      <td>304</td>\n",
       "      <td>197</td>\n",
       "      <td>56</td>\n",
       "    </tr>\n",
       "    <tr>\n",
       "      <th>2020-01-03</th>\n",
       "      <td>905</td>\n",
       "      <td>505</td>\n",
       "      <td>268</td>\n",
       "      <td>46</td>\n",
       "    </tr>\n",
       "    <tr>\n",
       "      <th>2020-01-04</th>\n",
       "      <td>1553</td>\n",
       "      <td>144</td>\n",
       "      <td>454</td>\n",
       "      <td>37</td>\n",
       "    </tr>\n",
       "    <tr>\n",
       "      <th>2020-01-05</th>\n",
       "      <td>1065</td>\n",
       "      <td>56</td>\n",
       "      <td>351</td>\n",
       "      <td>27</td>\n",
       "    </tr>\n",
       "    <tr>\n",
       "      <th>2020-01-06</th>\n",
       "      <td>950</td>\n",
       "      <td>276</td>\n",
       "      <td>192</td>\n",
       "      <td>45</td>\n",
       "    </tr>\n",
       "    <tr>\n",
       "      <th>2020-01-07</th>\n",
       "      <td>1021</td>\n",
       "      <td>347</td>\n",
       "      <td>225</td>\n",
       "      <td>33</td>\n",
       "    </tr>\n",
       "    <tr>\n",
       "      <th>2020-01-08</th>\n",
       "      <td>997</td>\n",
       "      <td>437</td>\n",
       "      <td>195</td>\n",
       "      <td>33</td>\n",
       "    </tr>\n",
       "    <tr>\n",
       "      <th>2020-01-09</th>\n",
       "      <td>988</td>\n",
       "      <td>433</td>\n",
       "      <td>255</td>\n",
       "      <td>42</td>\n",
       "    </tr>\n",
       "    <tr>\n",
       "      <th>2020-01-10</th>\n",
       "      <td>1024</td>\n",
       "      <td>692</td>\n",
       "      <td>298</td>\n",
       "      <td>51</td>\n",
       "    </tr>\n",
       "    <tr>\n",
       "      <th>2020-01-11</th>\n",
       "      <td>1753</td>\n",
       "      <td>194</td>\n",
       "      <td>476</td>\n",
       "      <td>32</td>\n",
       "    </tr>\n",
       "    <tr>\n",
       "      <th>2020-01-12</th>\n",
       "      <td>1248</td>\n",
       "      <td>51</td>\n",
       "      <td>385</td>\n",
       "      <td>22</td>\n",
       "    </tr>\n",
       "    <tr>\n",
       "      <th>2020-01-13</th>\n",
       "      <td>1029</td>\n",
       "      <td>306</td>\n",
       "      <td>212</td>\n",
       "      <td>41</td>\n",
       "    </tr>\n",
       "    <tr>\n",
       "      <th>2020-01-14</th>\n",
       "      <td>1031</td>\n",
       "      <td>434</td>\n",
       "      <td>234</td>\n",
       "      <td>35</td>\n",
       "    </tr>\n",
       "    <tr>\n",
       "      <th>2020-01-15</th>\n",
       "      <td>993</td>\n",
       "      <td>428</td>\n",
       "      <td>261</td>\n",
       "      <td>32</td>\n",
       "    </tr>\n",
       "    <tr>\n",
       "      <th>2020-01-16</th>\n",
       "      <td>1001</td>\n",
       "      <td>481</td>\n",
       "      <td>241</td>\n",
       "      <td>33</td>\n",
       "    </tr>\n",
       "    <tr>\n",
       "      <th>2020-01-17</th>\n",
       "      <td>1171</td>\n",
       "      <td>663</td>\n",
       "      <td>345</td>\n",
       "      <td>46</td>\n",
       "    </tr>\n",
       "    <tr>\n",
       "      <th>2020-01-18</th>\n",
       "      <td>1895</td>\n",
       "      <td>184</td>\n",
       "      <td>603</td>\n",
       "      <td>48</td>\n",
       "    </tr>\n",
       "    <tr>\n",
       "      <th>2020-01-19</th>\n",
       "      <td>1244</td>\n",
       "      <td>44</td>\n",
       "      <td>364</td>\n",
       "      <td>18</td>\n",
       "    </tr>\n",
       "    <tr>\n",
       "      <th>2020-01-20</th>\n",
       "      <td>1094</td>\n",
       "      <td>352</td>\n",
       "      <td>248</td>\n",
       "      <td>67</td>\n",
       "    </tr>\n",
       "    <tr>\n",
       "      <th>2020-01-21</th>\n",
       "      <td>1134</td>\n",
       "      <td>473</td>\n",
       "      <td>238</td>\n",
       "      <td>27</td>\n",
       "    </tr>\n",
       "    <tr>\n",
       "      <th>2020-01-22</th>\n",
       "      <td>1176</td>\n",
       "      <td>475</td>\n",
       "      <td>263</td>\n",
       "      <td>27</td>\n",
       "    </tr>\n",
       "    <tr>\n",
       "      <th>2020-01-23</th>\n",
       "      <td>1098</td>\n",
       "      <td>423</td>\n",
       "      <td>325</td>\n",
       "      <td>73</td>\n",
       "    </tr>\n",
       "    <tr>\n",
       "      <th>2020-01-24</th>\n",
       "      <td>544</td>\n",
       "      <td>48</td>\n",
       "      <td>242</td>\n",
       "      <td>105</td>\n",
       "    </tr>\n",
       "    <tr>\n",
       "      <th>2020-01-25</th>\n",
       "      <td>342</td>\n",
       "      <td>30</td>\n",
       "      <td>109</td>\n",
       "      <td>61</td>\n",
       "    </tr>\n",
       "    <tr>\n",
       "      <th>2020-01-26</th>\n",
       "      <td>730</td>\n",
       "      <td>64</td>\n",
       "      <td>290</td>\n",
       "      <td>23</td>\n",
       "    </tr>\n",
       "    <tr>\n",
       "      <th>2020-01-27</th>\n",
       "      <td>810</td>\n",
       "      <td>43</td>\n",
       "      <td>288</td>\n",
       "      <td>26</td>\n",
       "    </tr>\n",
       "    <tr>\n",
       "      <th>2020-01-28</th>\n",
       "      <td>1106</td>\n",
       "      <td>319</td>\n",
       "      <td>222</td>\n",
       "      <td>52</td>\n",
       "    </tr>\n",
       "    <tr>\n",
       "      <th>2020-01-29</th>\n",
       "      <td>1197</td>\n",
       "      <td>408</td>\n",
       "      <td>272</td>\n",
       "      <td>70</td>\n",
       "    </tr>\n",
       "    <tr>\n",
       "      <th>2020-01-30</th>\n",
       "      <td>1147</td>\n",
       "      <td>427</td>\n",
       "      <td>280</td>\n",
       "      <td>45</td>\n",
       "    </tr>\n",
       "    <tr>\n",
       "      <th>2020-01-31</th>\n",
       "      <td>1247</td>\n",
       "      <td>574</td>\n",
       "      <td>319</td>\n",
       "      <td>58</td>\n",
       "    </tr>\n",
       "  </tbody>\n",
       "</table>\n",
       "</div>"
      ],
      "text/plain": [
       "goods_type     A    B    C    D\n",
       "date                           \n",
       "2020-01-01   661   34  210   19\n",
       "2020-01-02   921  304  197   56\n",
       "2020-01-03   905  505  268   46\n",
       "2020-01-04  1553  144  454   37\n",
       "2020-01-05  1065   56  351   27\n",
       "2020-01-06   950  276  192   45\n",
       "2020-01-07  1021  347  225   33\n",
       "2020-01-08   997  437  195   33\n",
       "2020-01-09   988  433  255   42\n",
       "2020-01-10  1024  692  298   51\n",
       "2020-01-11  1753  194  476   32\n",
       "2020-01-12  1248   51  385   22\n",
       "2020-01-13  1029  306  212   41\n",
       "2020-01-14  1031  434  234   35\n",
       "2020-01-15   993  428  261   32\n",
       "2020-01-16  1001  481  241   33\n",
       "2020-01-17  1171  663  345   46\n",
       "2020-01-18  1895  184  603   48\n",
       "2020-01-19  1244   44  364   18\n",
       "2020-01-20  1094  352  248   67\n",
       "2020-01-21  1134  473  238   27\n",
       "2020-01-22  1176  475  263   27\n",
       "2020-01-23  1098  423  325   73\n",
       "2020-01-24   544   48  242  105\n",
       "2020-01-25   342   30  109   61\n",
       "2020-01-26   730   64  290   23\n",
       "2020-01-27   810   43  288   26\n",
       "2020-01-28  1106  319  222   52\n",
       "2020-01-29  1197  408  272   70\n",
       "2020-01-30  1147  427  280   45\n",
       "2020-01-31  1247  574  319   58"
      ]
     },
     "execution_count": 806,
     "metadata": {},
     "output_type": "execute_result"
    }
   ],
   "source": [
    "# date별 goods_type의 패턴\n",
    "df.groupby(['date', 'goods_type']).size().unstack(fill_value=0).loc['2020-01-01':'2020-01-31',:]"
   ]
  },
  {
   "cell_type": "code",
   "execution_count": 807,
   "metadata": {},
   "outputs": [
    {
     "data": {
      "image/png": "[encoded data removed]",
      "text/plain": [
       "<Figure size 1440x576 with 1 Axes>"
      ]
     },
     "metadata": {
      "needs_background": "light"
     },
     "output_type": "display_data"
    }
   ],
   "source": [
    "# goods_type 별 결제량 시각화\n",
    "countbydate = df.groupby(['date', 'goods_type']).size().unstack(fill_value=0)\n",
    "\n",
    "plt.figure(figsize=(20,8))\n",
    "sns.lineplot(countbydate.index, countbydate['A'])\n",
    "sns.lineplot(countbydate.index, countbydate['B'])\n",
    "sns.lineplot(countbydate.index, countbydate['C'])\n",
    "sns.lineplot(countbydate.index, countbydate['D'])\n",
    "\n",
    "plt.legend(['A', 'B', 'C', 'D'], loc='best', fontsize=16)\n",
    "plt.title('goods_type 별 결제량', fontsize=18)\n",
    "plt.ylabel('counts', fontsize=16)\n",
    "plt.xlabel('date', fontsize=16)\n",
    "plt.xticks(ticks = None)\n",
    "plt.show()\n"
   ]
  },
  {
   "cell_type": "markdown",
   "metadata": {},
   "source": [
    "##### 3. ad1"
   ]
  },
  {
   "cell_type": "code",
   "execution_count": 808,
   "metadata": {},
   "outputs": [
    {
     "data": {
      "text/plain": [
       "array(['GN', 'J', 'SC', 'MP', 'JRR', 'YD', 'GJ', 'YO', 'GSN', 'GBC', 'BF',\n",
       "       'DJ', '0', 'CD', 'NO', 'CY', 'YC', 'SD', 'GD', 'GSW', 'DM', 'R',\n",
       "       'GB', 'GS', 'GHN', 'SB', 'IND', 'P', 'GW', 'JR', 'GEJ', 'GGY',\n",
       "       'GKP', 'CAS', 'SG', 'BJG', 'BHW', 'GAY', 'GYI', 'CCA', 'PJP',\n",
       "       'GGC', 'IYS', 'DB', 'GGM', 'GAS', 'WOID', 'DIV', 'AOI', 'COI',\n",
       "       'GPJ', 'SOI', 'ABP', 'DOI', 'WF', 'BI', 'ZP', 'EP', 'Q', 'BO',\n",
       "       'ZE', 'RRR', 'QGI', 'DSO', 'SOD', 'BOI', 'WT', 'BP', 'SP', 'CN',\n",
       "       'SJV', 'SDU', 'QH', 'BUD', 'CU', 'VU', 'WAE', 'NW', 'DY', 'WH',\n",
       "       'GR', 'X', 'CVB', 'ADS', 'VO'], dtype=object)"
      ]
     },
     "execution_count": 808,
     "metadata": {},
     "output_type": "execute_result"
    }
   ],
   "source": [
    "df['ad1'].unique()"
   ]
  },
  {
   "cell_type": "markdown",
   "metadata": {},
   "source": [
    "<br><br>\n",
    "### 📋 Data description 재정의\n",
    "\n",
    "|변수명|정의|값|\n",
    "|:---:|:---:|:---|\n",
    "|count|결제 건수||\n",
    "|join_date|가입일||\n",
    "|d_type|**결제 수단**|AA : 카드 결제<br>BB : 네이버 페이<br>CC : 휴대폰 결제|\n",
    "|store_id|점포 주소||\n",
    "|goods_type|**판매 주차권**|A : 모든 종류의 평일 주간 주차권<br>B : 모든 종류의 평일 야간 주차권<br>C : 모든 종류의 주말 주간 주차권<br>D : 모든 종류의 주말 야간 주차권|\n",
    "|date|결제일||\n",
    "|count|결제 건수||\n",
    "|ad1|**지역 코드**|예) GN : 강남, MP : 마포 ...|\n",
    "\n",
    "<br>\n",
    "\n",
    "* goods_type 세분화\n",
    "\n",
    "|goods_type|주간|야간|\n",
    "|---|---|---|\n",
    "|평일|A|B|\n",
    "|주말|C|D|\n",
    "\n",
    "* 지역 코드 ad1의 경우, 함께 주어진 외부 데이터가 서울시 중심이라 서울 지역을 세분화한 코드라고 예측.\n",
    "\n",
    "❗️ **회의를 통해 가장 가능성이 높은 설명을 붙였으며, 정의를 단정짓기는 어려움**\n"
   ]
  },
  {
   "cell_type": "markdown",
   "metadata": {},
   "source": [
    "<br><br>\n",
    "## 🚫 Step 2. 결측치, 이상치 확인\n",
    "\n",
    "+ 결측치 : 없음\n",
    "+ 이상치 : \n",
    " - join_date == 1970-01-01 데이터는 치환 없이 삭제하기로 결정 (5.10 회의)\n",
    " - user_id == 999665 데이터는 비상식적인 결제량 정보를 담고 있으므로 제거 (찬서님 의견 + 코드)"
   ]
  },
  {
   "cell_type": "code",
   "execution_count": 809,
   "metadata": {},
   "outputs": [
    {
     "data": {
      "text/html": [
       "<div>\n",
       "<style scoped>\n",
       "    .dataframe tbody tr th:only-of-type {\n",
       "        vertical-align: middle;\n",
       "    }\n",
       "\n",
       "    .dataframe tbody tr th {\n",
       "        vertical-align: top;\n",
       "    }\n",
       "\n",
       "    .dataframe thead th {\n",
       "        text-align: right;\n",
       "    }\n",
       "</style>\n",
       "<table border=\"1\" class=\"dataframe\">\n",
       "  <thead>\n",
       "    <tr style=\"text-align: right;\">\n",
       "      <th></th>\n",
       "      <th>user_id</th>\n",
       "      <th>join_date</th>\n",
       "      <th>d_type</th>\n",
       "      <th>store_id</th>\n",
       "      <th>goods_type</th>\n",
       "      <th>date</th>\n",
       "      <th>count</th>\n",
       "      <th>ad1</th>\n",
       "    </tr>\n",
       "  </thead>\n",
       "  <tbody>\n",
       "    <tr>\n",
       "      <th>368711</th>\n",
       "      <td>1277650</td>\n",
       "      <td>1970-01-01</td>\n",
       "      <td>CC</td>\n",
       "      <td>92264</td>\n",
       "      <td>C</td>\n",
       "      <td>2020-06-26</td>\n",
       "      <td>4</td>\n",
       "      <td>JRR</td>\n",
       "    </tr>\n",
       "    <tr>\n",
       "      <th>269797</th>\n",
       "      <td>851134</td>\n",
       "      <td>1970-01-01</td>\n",
       "      <td>CC</td>\n",
       "      <td>190482</td>\n",
       "      <td>A</td>\n",
       "      <td>2020-05-17</td>\n",
       "      <td>3</td>\n",
       "      <td>GN</td>\n",
       "    </tr>\n",
       "    <tr>\n",
       "      <th>71522</th>\n",
       "      <td>1493307</td>\n",
       "      <td>1970-01-01</td>\n",
       "      <td>CC</td>\n",
       "      <td>82433</td>\n",
       "      <td>D</td>\n",
       "      <td>2020-02-10</td>\n",
       "      <td>3</td>\n",
       "      <td>CY</td>\n",
       "    </tr>\n",
       "    <tr>\n",
       "      <th>590435</th>\n",
       "      <td>1661920</td>\n",
       "      <td>1970-01-01</td>\n",
       "      <td>CC</td>\n",
       "      <td>109877</td>\n",
       "      <td>C</td>\n",
       "      <td>2020-09-18</td>\n",
       "      <td>2</td>\n",
       "      <td>GN</td>\n",
       "    </tr>\n",
       "    <tr>\n",
       "      <th>139409</th>\n",
       "      <td>654237</td>\n",
       "      <td>1970-01-01</td>\n",
       "      <td>CC</td>\n",
       "      <td>181777</td>\n",
       "      <td>C</td>\n",
       "      <td>2020-03-17</td>\n",
       "      <td>2</td>\n",
       "      <td>BF</td>\n",
       "    </tr>\n",
       "    <tr>\n",
       "      <th>...</th>\n",
       "      <td>...</td>\n",
       "      <td>...</td>\n",
       "      <td>...</td>\n",
       "      <td>...</td>\n",
       "      <td>...</td>\n",
       "      <td>...</td>\n",
       "      <td>...</td>\n",
       "      <td>...</td>\n",
       "    </tr>\n",
       "    <tr>\n",
       "      <th>175767</th>\n",
       "      <td>654237</td>\n",
       "      <td>1970-01-01</td>\n",
       "      <td>CC</td>\n",
       "      <td>181777</td>\n",
       "      <td>C</td>\n",
       "      <td>2020-04-03</td>\n",
       "      <td>1</td>\n",
       "      <td>BF</td>\n",
       "    </tr>\n",
       "    <tr>\n",
       "      <th>176320</th>\n",
       "      <td>1071641</td>\n",
       "      <td>1970-01-01</td>\n",
       "      <td>CC</td>\n",
       "      <td>221045</td>\n",
       "      <td>A</td>\n",
       "      <td>2020-04-03</td>\n",
       "      <td>1</td>\n",
       "      <td>GN</td>\n",
       "    </tr>\n",
       "    <tr>\n",
       "      <th>176853</th>\n",
       "      <td>1355917</td>\n",
       "      <td>1970-01-01</td>\n",
       "      <td>CC</td>\n",
       "      <td>220700</td>\n",
       "      <td>A</td>\n",
       "      <td>2020-04-03</td>\n",
       "      <td>1</td>\n",
       "      <td>GN</td>\n",
       "    </tr>\n",
       "    <tr>\n",
       "      <th>176971</th>\n",
       "      <td>1415023</td>\n",
       "      <td>1970-01-01</td>\n",
       "      <td>CC</td>\n",
       "      <td>131081</td>\n",
       "      <td>A</td>\n",
       "      <td>2020-04-03</td>\n",
       "      <td>1</td>\n",
       "      <td>YO</td>\n",
       "    </tr>\n",
       "    <tr>\n",
       "      <th>879171</th>\n",
       "      <td>1829458</td>\n",
       "      <td>1970-01-01</td>\n",
       "      <td>CC</td>\n",
       "      <td>137452</td>\n",
       "      <td>A</td>\n",
       "      <td>2020-12-31</td>\n",
       "      <td>1</td>\n",
       "      <td>CY</td>\n",
       "    </tr>\n",
       "  </tbody>\n",
       "</table>\n",
       "<p>1093 rows × 8 columns</p>\n",
       "</div>"
      ],
      "text/plain": [
       "        user_id   join_date d_type  store_id goods_type        date  count  \\\n",
       "368711  1277650  1970-01-01     CC     92264          C  2020-06-26      4   \n",
       "269797   851134  1970-01-01     CC    190482          A  2020-05-17      3   \n",
       "71522   1493307  1970-01-01     CC     82433          D  2020-02-10      3   \n",
       "590435  1661920  1970-01-01     CC    109877          C  2020-09-18      2   \n",
       "139409   654237  1970-01-01     CC    181777          C  2020-03-17      2   \n",
       "...         ...         ...    ...       ...        ...         ...    ...   \n",
       "175767   654237  1970-01-01     CC    181777          C  2020-04-03      1   \n",
       "176320  1071641  1970-01-01     CC    221045          A  2020-04-03      1   \n",
       "176853  1355917  1970-01-01     CC    220700          A  2020-04-03      1   \n",
       "176971  1415023  1970-01-01     CC    131081          A  2020-04-03      1   \n",
       "879171  1829458  1970-01-01     CC    137452          A  2020-12-31      1   \n",
       "\n",
       "        ad1  \n",
       "368711  JRR  \n",
       "269797   GN  \n",
       "71522    CY  \n",
       "590435   GN  \n",
       "139409   BF  \n",
       "...     ...  \n",
       "175767   BF  \n",
       "176320   GN  \n",
       "176853   GN  \n",
       "176971   YO  \n",
       "879171   CY  \n",
       "\n",
       "[1093 rows x 8 columns]"
      ]
     },
     "execution_count": 809,
     "metadata": {},
     "output_type": "execute_result"
    }
   ],
   "source": [
    "# Unix time error\n",
    "df[(df['join_date'] == '1970-01-01')].sort_values(by = 'count', ascending = False)"
   ]
  },
  {
   "cell_type": "code",
   "execution_count": 810,
   "metadata": {},
   "outputs": [
    {
     "data": {
      "text/html": [
       "<div>\n",
       "<style scoped>\n",
       "    .dataframe tbody tr th:only-of-type {\n",
       "        vertical-align: middle;\n",
       "    }\n",
       "\n",
       "    .dataframe tbody tr th {\n",
       "        vertical-align: top;\n",
       "    }\n",
       "\n",
       "    .dataframe thead th {\n",
       "        text-align: right;\n",
       "    }\n",
       "</style>\n",
       "<table border=\"1\" class=\"dataframe\">\n",
       "  <thead>\n",
       "    <tr style=\"text-align: right;\">\n",
       "      <th></th>\n",
       "      <th>user_id</th>\n",
       "      <th>join_date</th>\n",
       "      <th>d_type</th>\n",
       "      <th>store_id</th>\n",
       "      <th>goods_type</th>\n",
       "      <th>date</th>\n",
       "      <th>count</th>\n",
       "      <th>ad1</th>\n",
       "    </tr>\n",
       "  </thead>\n",
       "  <tbody>\n",
       "    <tr>\n",
       "      <th>729776</th>\n",
       "      <td>999665</td>\n",
       "      <td>2018-12-16</td>\n",
       "      <td>CC</td>\n",
       "      <td>96266</td>\n",
       "      <td>A</td>\n",
       "      <td>2020-11-07</td>\n",
       "      <td>61</td>\n",
       "      <td>GN</td>\n",
       "    </tr>\n",
       "    <tr>\n",
       "      <th>748372</th>\n",
       "      <td>999665</td>\n",
       "      <td>2018-12-16</td>\n",
       "      <td>CC</td>\n",
       "      <td>109677</td>\n",
       "      <td>A</td>\n",
       "      <td>2020-11-13</td>\n",
       "      <td>59</td>\n",
       "      <td>JRR</td>\n",
       "    </tr>\n",
       "    <tr>\n",
       "      <th>751974</th>\n",
       "      <td>999665</td>\n",
       "      <td>2018-12-16</td>\n",
       "      <td>CC</td>\n",
       "      <td>1109</td>\n",
       "      <td>A</td>\n",
       "      <td>2020-11-14</td>\n",
       "      <td>58</td>\n",
       "      <td>JRR</td>\n",
       "    </tr>\n",
       "    <tr>\n",
       "      <th>726277</th>\n",
       "      <td>999665</td>\n",
       "      <td>2018-12-16</td>\n",
       "      <td>CC</td>\n",
       "      <td>190055</td>\n",
       "      <td>A</td>\n",
       "      <td>2020-11-06</td>\n",
       "      <td>55</td>\n",
       "      <td>SB</td>\n",
       "    </tr>\n",
       "    <tr>\n",
       "      <th>767392</th>\n",
       "      <td>999665</td>\n",
       "      <td>2018-12-16</td>\n",
       "      <td>CC</td>\n",
       "      <td>131081</td>\n",
       "      <td>A</td>\n",
       "      <td>2020-11-19</td>\n",
       "      <td>53</td>\n",
       "      <td>YO</td>\n",
       "    </tr>\n",
       "    <tr>\n",
       "      <th>687010</th>\n",
       "      <td>999665</td>\n",
       "      <td>2018-12-16</td>\n",
       "      <td>CC</td>\n",
       "      <td>182320</td>\n",
       "      <td>A</td>\n",
       "      <td>2020-10-24</td>\n",
       "      <td>51</td>\n",
       "      <td>JRR</td>\n",
       "    </tr>\n",
       "    <tr>\n",
       "      <th>690265</th>\n",
       "      <td>999665</td>\n",
       "      <td>2018-12-16</td>\n",
       "      <td>CC</td>\n",
       "      <td>222401</td>\n",
       "      <td>A</td>\n",
       "      <td>2020-10-25</td>\n",
       "      <td>50</td>\n",
       "      <td>CY</td>\n",
       "    </tr>\n",
       "    <tr>\n",
       "      <th>708664</th>\n",
       "      <td>999665</td>\n",
       "      <td>2018-12-16</td>\n",
       "      <td>CC</td>\n",
       "      <td>104067</td>\n",
       "      <td>A</td>\n",
       "      <td>2020-10-31</td>\n",
       "      <td>50</td>\n",
       "      <td>MP</td>\n",
       "    </tr>\n",
       "    <tr>\n",
       "      <th>764097</th>\n",
       "      <td>999665</td>\n",
       "      <td>2018-12-16</td>\n",
       "      <td>CC</td>\n",
       "      <td>220607</td>\n",
       "      <td>A</td>\n",
       "      <td>2020-11-18</td>\n",
       "      <td>49</td>\n",
       "      <td>GN</td>\n",
       "    </tr>\n",
       "    <tr>\n",
       "      <th>705100</th>\n",
       "      <td>999665</td>\n",
       "      <td>2018-12-16</td>\n",
       "      <td>CC</td>\n",
       "      <td>1900</td>\n",
       "      <td>C</td>\n",
       "      <td>2020-10-30</td>\n",
       "      <td>49</td>\n",
       "      <td>GN</td>\n",
       "    </tr>\n",
       "  </tbody>\n",
       "</table>\n",
       "</div>"
      ],
      "text/plain": [
       "        user_id   join_date d_type  store_id goods_type        date  count  \\\n",
       "729776   999665  2018-12-16     CC     96266          A  2020-11-07     61   \n",
       "748372   999665  2018-12-16     CC    109677          A  2020-11-13     59   \n",
       "751974   999665  2018-12-16     CC      1109          A  2020-11-14     58   \n",
       "726277   999665  2018-12-16     CC    190055          A  2020-11-06     55   \n",
       "767392   999665  2018-12-16     CC    131081          A  2020-11-19     53   \n",
       "687010   999665  2018-12-16     CC    182320          A  2020-10-24     51   \n",
       "690265   999665  2018-12-16     CC    222401          A  2020-10-25     50   \n",
       "708664   999665  2018-12-16     CC    104067          A  2020-10-31     50   \n",
       "764097   999665  2018-12-16     CC    220607          A  2020-11-18     49   \n",
       "705100   999665  2018-12-16     CC      1900          C  2020-10-30     49   \n",
       "\n",
       "        ad1  \n",
       "729776   GN  \n",
       "748372  JRR  \n",
       "751974  JRR  \n",
       "726277   SB  \n",
       "767392   YO  \n",
       "687010  JRR  \n",
       "690265   CY  \n",
       "708664   MP  \n",
       "764097   GN  \n",
       "705100   GN  "
      ]
     },
     "execution_count": 810,
     "metadata": {},
     "output_type": "execute_result"
    }
   ],
   "source": [
    "df[(df['user_id'] == 999665)].sort_values(by = 'count', ascending = False).head(10)"
   ]
  },
  {
   "cell_type": "code",
   "execution_count": 811,
   "metadata": {},
   "outputs": [],
   "source": [
    "df = df[(df['join_date'] != '1970-01-01')]\n",
    "df = df[df['user_id'] != 999665]"
   ]
  },
  {
   "cell_type": "markdown",
   "metadata": {},
   "source": [
    "<br><br><br>\n",
    "## 🔧Step 3. Feature Engineering 진행\n",
    "\n",
    "- 1. 외부데이터인 '서울시_기상데이터.csv'를 이용하여 count와 관계가 있을 만한 변수를 가져온다.\n",
    "- 2. 주어진 데이터의 기본 변수에서 새로운 컬럼을 추가한다.\n"
   ]
  },
  {
   "cell_type": "markdown",
   "metadata": {},
   "source": [
    "#### ✅Feature Engineering 을 진행하기 전 먼저 train과 test 데이터를 분류해준다."
   ]
  },
  {
   "cell_type": "code",
   "execution_count": 812,
   "metadata": {},
   "outputs": [
    {
     "data": {
      "text/html": [
       "<div>\n",
       "<style scoped>\n",
       "    .dataframe tbody tr th:only-of-type {\n",
       "        vertical-align: middle;\n",
       "    }\n",
       "\n",
       "    .dataframe tbody tr th {\n",
       "        vertical-align: top;\n",
       "    }\n",
       "\n",
       "    .dataframe thead th {\n",
       "        text-align: right;\n",
       "    }\n",
       "</style>\n",
       "<table border=\"1\" class=\"dataframe\">\n",
       "  <thead>\n",
       "    <tr style=\"text-align: right;\">\n",
       "      <th></th>\n",
       "      <th>user_id</th>\n",
       "      <th>join_date</th>\n",
       "      <th>d_type</th>\n",
       "      <th>store_id</th>\n",
       "      <th>goods_type</th>\n",
       "      <th>date</th>\n",
       "      <th>count</th>\n",
       "      <th>ad1</th>\n",
       "    </tr>\n",
       "  </thead>\n",
       "  <tbody>\n",
       "    <tr>\n",
       "      <th>0</th>\n",
       "      <td>2858</td>\n",
       "      <td>2014-01-07</td>\n",
       "      <td>AA</td>\n",
       "      <td>1892</td>\n",
       "      <td>A</td>\n",
       "      <td>2020-01-01</td>\n",
       "      <td>1</td>\n",
       "      <td>GN</td>\n",
       "    </tr>\n",
       "    <tr>\n",
       "      <th>1</th>\n",
       "      <td>5647</td>\n",
       "      <td>2014-02-14</td>\n",
       "      <td>BB</td>\n",
       "      <td>182009</td>\n",
       "      <td>A</td>\n",
       "      <td>2020-01-01</td>\n",
       "      <td>1</td>\n",
       "      <td>J</td>\n",
       "    </tr>\n",
       "    <tr>\n",
       "      <th>2</th>\n",
       "      <td>33314</td>\n",
       "      <td>2014-11-20</td>\n",
       "      <td>BB</td>\n",
       "      <td>82431</td>\n",
       "      <td>A</td>\n",
       "      <td>2020-01-01</td>\n",
       "      <td>1</td>\n",
       "      <td>SC</td>\n",
       "    </tr>\n",
       "    <tr>\n",
       "      <th>3</th>\n",
       "      <td>37001</td>\n",
       "      <td>2014-12-04</td>\n",
       "      <td>BB</td>\n",
       "      <td>725</td>\n",
       "      <td>C</td>\n",
       "      <td>2020-01-01</td>\n",
       "      <td>1</td>\n",
       "      <td>MP</td>\n",
       "    </tr>\n",
       "    <tr>\n",
       "      <th>4</th>\n",
       "      <td>37819</td>\n",
       "      <td>2014-12-07</td>\n",
       "      <td>AA</td>\n",
       "      <td>220691</td>\n",
       "      <td>C</td>\n",
       "      <td>2020-01-01</td>\n",
       "      <td>1</td>\n",
       "      <td>JRR</td>\n",
       "    </tr>\n",
       "    <tr>\n",
       "      <th>...</th>\n",
       "      <td>...</td>\n",
       "      <td>...</td>\n",
       "      <td>...</td>\n",
       "      <td>...</td>\n",
       "      <td>...</td>\n",
       "      <td>...</td>\n",
       "      <td>...</td>\n",
       "      <td>...</td>\n",
       "    </tr>\n",
       "    <tr>\n",
       "      <th>623574</th>\n",
       "      <td>1709914</td>\n",
       "      <td>2020-09-30</td>\n",
       "      <td>BB</td>\n",
       "      <td>221022</td>\n",
       "      <td>B</td>\n",
       "      <td>2020-09-30</td>\n",
       "      <td>1</td>\n",
       "      <td>GN</td>\n",
       "    </tr>\n",
       "    <tr>\n",
       "      <th>623575</th>\n",
       "      <td>1709935</td>\n",
       "      <td>2020-09-30</td>\n",
       "      <td>AA</td>\n",
       "      <td>725</td>\n",
       "      <td>B</td>\n",
       "      <td>2020-09-30</td>\n",
       "      <td>1</td>\n",
       "      <td>MP</td>\n",
       "    </tr>\n",
       "    <tr>\n",
       "      <th>623576</th>\n",
       "      <td>1709942</td>\n",
       "      <td>2020-09-30</td>\n",
       "      <td>AA</td>\n",
       "      <td>223058</td>\n",
       "      <td>B</td>\n",
       "      <td>2020-09-30</td>\n",
       "      <td>1</td>\n",
       "      <td>BF</td>\n",
       "    </tr>\n",
       "    <tr>\n",
       "      <th>623577</th>\n",
       "      <td>1709950</td>\n",
       "      <td>2020-09-30</td>\n",
       "      <td>BB</td>\n",
       "      <td>182320</td>\n",
       "      <td>A</td>\n",
       "      <td>2020-09-30</td>\n",
       "      <td>2</td>\n",
       "      <td>JRR</td>\n",
       "    </tr>\n",
       "    <tr>\n",
       "      <th>623578</th>\n",
       "      <td>1709952</td>\n",
       "      <td>2020-09-30</td>\n",
       "      <td>AA</td>\n",
       "      <td>105033</td>\n",
       "      <td>A</td>\n",
       "      <td>2020-09-30</td>\n",
       "      <td>1</td>\n",
       "      <td>SC</td>\n",
       "    </tr>\n",
       "  </tbody>\n",
       "</table>\n",
       "<p>622333 rows × 8 columns</p>\n",
       "</div>"
      ],
      "text/plain": [
       "        user_id   join_date d_type  store_id goods_type        date  count  \\\n",
       "0          2858  2014-01-07     AA      1892          A  2020-01-01      1   \n",
       "1          5647  2014-02-14     BB    182009          A  2020-01-01      1   \n",
       "2         33314  2014-11-20     BB     82431          A  2020-01-01      1   \n",
       "3         37001  2014-12-04     BB       725          C  2020-01-01      1   \n",
       "4         37819  2014-12-07     AA    220691          C  2020-01-01      1   \n",
       "...         ...         ...    ...       ...        ...         ...    ...   \n",
       "623574  1709914  2020-09-30     BB    221022          B  2020-09-30      1   \n",
       "623575  1709935  2020-09-30     AA       725          B  2020-09-30      1   \n",
       "623576  1709942  2020-09-30     AA    223058          B  2020-09-30      1   \n",
       "623577  1709950  2020-09-30     BB    182320          A  2020-09-30      2   \n",
       "623578  1709952  2020-09-30     AA    105033          A  2020-09-30      1   \n",
       "\n",
       "        ad1  \n",
       "0        GN  \n",
       "1         J  \n",
       "2        SC  \n",
       "3        MP  \n",
       "4       JRR  \n",
       "...     ...  \n",
       "623574   GN  \n",
       "623575   MP  \n",
       "623576   BF  \n",
       "623577  JRR  \n",
       "623578   SC  \n",
       "\n",
       "[622333 rows x 8 columns]"
      ]
     },
     "metadata": {},
     "output_type": "display_data"
    },
    {
     "data": {
      "text/html": [
       "<div>\n",
       "<style scoped>\n",
       "    .dataframe tbody tr th:only-of-type {\n",
       "        vertical-align: middle;\n",
       "    }\n",
       "\n",
       "    .dataframe tbody tr th {\n",
       "        vertical-align: top;\n",
       "    }\n",
       "\n",
       "    .dataframe thead th {\n",
       "        text-align: right;\n",
       "    }\n",
       "</style>\n",
       "<table border=\"1\" class=\"dataframe\">\n",
       "  <thead>\n",
       "    <tr style=\"text-align: right;\">\n",
       "      <th></th>\n",
       "      <th>user_id</th>\n",
       "      <th>join_date</th>\n",
       "      <th>d_type</th>\n",
       "      <th>store_id</th>\n",
       "      <th>goods_type</th>\n",
       "      <th>date</th>\n",
       "      <th>count</th>\n",
       "      <th>ad1</th>\n",
       "    </tr>\n",
       "  </thead>\n",
       "  <tbody>\n",
       "    <tr>\n",
       "      <th>623579</th>\n",
       "      <td>15521</td>\n",
       "      <td>2014-09-12</td>\n",
       "      <td>AA</td>\n",
       "      <td>182320</td>\n",
       "      <td>A</td>\n",
       "      <td>2020-10-01</td>\n",
       "      <td>1</td>\n",
       "      <td>JRR</td>\n",
       "    </tr>\n",
       "    <tr>\n",
       "      <th>623580</th>\n",
       "      <td>17651</td>\n",
       "      <td>2014-09-19</td>\n",
       "      <td>BB</td>\n",
       "      <td>82434</td>\n",
       "      <td>D</td>\n",
       "      <td>2020-10-01</td>\n",
       "      <td>1</td>\n",
       "      <td>J</td>\n",
       "    </tr>\n",
       "    <tr>\n",
       "      <th>623581</th>\n",
       "      <td>26388</td>\n",
       "      <td>2014-10-25</td>\n",
       "      <td>BB</td>\n",
       "      <td>182320</td>\n",
       "      <td>A</td>\n",
       "      <td>2020-10-01</td>\n",
       "      <td>1</td>\n",
       "      <td>JRR</td>\n",
       "    </tr>\n",
       "    <tr>\n",
       "      <th>623582</th>\n",
       "      <td>81772</td>\n",
       "      <td>2015-05-02</td>\n",
       "      <td>BB</td>\n",
       "      <td>204438</td>\n",
       "      <td>A</td>\n",
       "      <td>2020-10-01</td>\n",
       "      <td>1</td>\n",
       "      <td>DJ</td>\n",
       "    </tr>\n",
       "    <tr>\n",
       "      <th>623583</th>\n",
       "      <td>92258</td>\n",
       "      <td>2015-05-24</td>\n",
       "      <td>AA</td>\n",
       "      <td>220745</td>\n",
       "      <td>A</td>\n",
       "      <td>2020-10-01</td>\n",
       "      <td>1</td>\n",
       "      <td>SD</td>\n",
       "    </tr>\n",
       "    <tr>\n",
       "      <th>...</th>\n",
       "      <td>...</td>\n",
       "      <td>...</td>\n",
       "      <td>...</td>\n",
       "      <td>...</td>\n",
       "      <td>...</td>\n",
       "      <td>...</td>\n",
       "      <td>...</td>\n",
       "      <td>...</td>\n",
       "    </tr>\n",
       "    <tr>\n",
       "      <th>879266</th>\n",
       "      <td>1830551</td>\n",
       "      <td>2020-12-31</td>\n",
       "      <td>BB</td>\n",
       "      <td>219886</td>\n",
       "      <td>B</td>\n",
       "      <td>2020-12-31</td>\n",
       "      <td>1</td>\n",
       "      <td>GN</td>\n",
       "    </tr>\n",
       "    <tr>\n",
       "      <th>879267</th>\n",
       "      <td>1830570</td>\n",
       "      <td>2020-12-31</td>\n",
       "      <td>BB</td>\n",
       "      <td>82433</td>\n",
       "      <td>B</td>\n",
       "      <td>2020-12-31</td>\n",
       "      <td>1</td>\n",
       "      <td>CY</td>\n",
       "    </tr>\n",
       "    <tr>\n",
       "      <th>879268</th>\n",
       "      <td>1830580</td>\n",
       "      <td>2020-12-31</td>\n",
       "      <td>AA</td>\n",
       "      <td>92020</td>\n",
       "      <td>B</td>\n",
       "      <td>2020-12-31</td>\n",
       "      <td>1</td>\n",
       "      <td>JRR</td>\n",
       "    </tr>\n",
       "    <tr>\n",
       "      <th>879269</th>\n",
       "      <td>1830589</td>\n",
       "      <td>2020-12-31</td>\n",
       "      <td>BB</td>\n",
       "      <td>92437</td>\n",
       "      <td>B</td>\n",
       "      <td>2020-12-31</td>\n",
       "      <td>1</td>\n",
       "      <td>J</td>\n",
       "    </tr>\n",
       "    <tr>\n",
       "      <th>879270</th>\n",
       "      <td>1830598</td>\n",
       "      <td>2020-12-31</td>\n",
       "      <td>AA</td>\n",
       "      <td>220959</td>\n",
       "      <td>B</td>\n",
       "      <td>2020-12-31</td>\n",
       "      <td>1</td>\n",
       "      <td>SC</td>\n",
       "    </tr>\n",
       "  </tbody>\n",
       "</table>\n",
       "<p>255479 rows × 8 columns</p>\n",
       "</div>"
      ],
      "text/plain": [
       "        user_id   join_date d_type  store_id goods_type        date  count  \\\n",
       "623579    15521  2014-09-12     AA    182320          A  2020-10-01      1   \n",
       "623580    17651  2014-09-19     BB     82434          D  2020-10-01      1   \n",
       "623581    26388  2014-10-25     BB    182320          A  2020-10-01      1   \n",
       "623582    81772  2015-05-02     BB    204438          A  2020-10-01      1   \n",
       "623583    92258  2015-05-24     AA    220745          A  2020-10-01      1   \n",
       "...         ...         ...    ...       ...        ...         ...    ...   \n",
       "879266  1830551  2020-12-31     BB    219886          B  2020-12-31      1   \n",
       "879267  1830570  2020-12-31     BB     82433          B  2020-12-31      1   \n",
       "879268  1830580  2020-12-31     AA     92020          B  2020-12-31      1   \n",
       "879269  1830589  2020-12-31     BB     92437          B  2020-12-31      1   \n",
       "879270  1830598  2020-12-31     AA    220959          B  2020-12-31      1   \n",
       "\n",
       "        ad1  \n",
       "623579  JRR  \n",
       "623580    J  \n",
       "623581  JRR  \n",
       "623582   DJ  \n",
       "623583   SD  \n",
       "...     ...  \n",
       "879266   GN  \n",
       "879267   CY  \n",
       "879268  JRR  \n",
       "879269    J  \n",
       "879270   SC  \n",
       "\n",
       "[255479 rows x 8 columns]"
      ]
     },
     "metadata": {},
     "output_type": "display_data"
    }
   ],
   "source": [
    "# train, test\n",
    "train = df[df.date <= '2020-09-30']\n",
    "test = df[df.date > '2020-09-30']\n",
    "display(train, test)"
   ]
  },
  {
   "cell_type": "markdown",
   "metadata": {},
   "source": [
    "#### 1. 외부 데이터 Feature Engineering"
   ]
  },
  {
   "cell_type": "code",
   "execution_count": 813,
   "metadata": {},
   "outputs": [
    {
     "data": {
      "text/plain": [
       "지점        int64\n",
       "일시       object\n",
       "기온      float64\n",
       "강수량     float64\n",
       "풍속      float64\n",
       "습도        int64\n",
       "일조시간    float64\n",
       "적설량     float64\n",
       "지면온도    float64\n",
       "지중온도    float64\n",
       "dtype: object"
      ]
     },
     "execution_count": 813,
     "metadata": {},
     "output_type": "execute_result"
    }
   ],
   "source": [
    "weather_data = pd.read_csv('서울시_기상데이터.csv', encoding='cp949')\n",
    "weather_data.dtypes"
   ]
  },
  {
   "cell_type": "code",
   "execution_count": 814,
   "metadata": {},
   "outputs": [],
   "source": [
    "# 데이터 기본 전처리\n",
    "weather_data['일시'] = weather_data['일시'].astype('datetime64')\n",
    "weather_data['date'] = weather_data['일시'].dt.date\n",
    "\n",
    "# 날씨 데이터의 `기온` 컬럼에서 8월 26일 13시 데이터 하나가 결측치로 잡혀있다. \n",
    "# 이 부분은 12시 데이터와 14시 데이터를 참고하여 34℃로 삽입했다.\n",
    "weather_data['기온'] = weather_data['기온'].fillna(34)\n",
    "weather_data = weather_data.fillna(0)"
   ]
  },
  {
   "cell_type": "code",
   "execution_count": 815,
   "metadata": {},
   "outputs": [],
   "source": [
    "# 일 최고기온과 누적강수량, 불쾌지수를 구하는 weather_max\n",
    "weather_data['누적강수량'] = weather_data.groupby('date')['강수량'].cumsum()\n",
    "weather_data['discomfort'] = (0.81 * weather_data['기온']) + (0.01*weather_data['습도']*(0.99*weather_data['기온']-14.3)) + 46.3\n",
    "weather_max = weather_data.groupby('date').max().reset_index()\n",
    "\n",
    "# 누적강수량 15mm를 기준으로 [강한비, 약한비, 해당없음, 눈온날] 로 구분하는 extreme_weather\n",
    "weather_max['extreme_weather'] = np.where(weather_max[\"적설량\"].values > 0, '눈', np.where(weather_max[\"누적강수량\"].values > 15, '강한비', np.where(weather_max[\"누적강수량\"].values > 0, '약한비', '없음')))\n",
    "\n",
    "# 날씨 데이터 12월 31일 데이터에는 00시 날씨 정보만 삽입되어 있기 때문에 최고 기온을 고쳐준다.  \n",
    "weather_max.loc[365, '기온'] = -5\n",
    "\n",
    "# 불쾌지수를 그룹핑해주는 discomfort_index\n",
    "weather_max['discomfort_index'] = np.where(weather_max[\"discomfort\"].values > 80, '매우불쾌', np.where(weather_max[\"discomfort\"].values > 70, '불쾌', '쾌적'))\n",
    "\n",
    "# 변수명을 최고기온으로 맞춰주고, date의 type을 시간데이터로 맞춰서 머지\n",
    "weather_max = weather_max.rename(columns = {'기온': 'max_temp'}, inplace = False)\n",
    "weather_max = weather_max[['date', 'max_temp', 'discomfort_index', 'extreme_weather']]\n",
    "df['date'] = df['date'].astype('datetime64')\n",
    "weather_max['date'] = weather_max['date'].astype('datetime64')\n",
    "df = pd.merge(df, weather_max, how = 'left', on = 'date')"
   ]
  },
  {
   "cell_type": "markdown",
   "metadata": {},
   "source": [
    "#### 2. 기본 변수에 대한 Feature Engineering"
   ]
  },
  {
   "cell_type": "code",
   "execution_count": 816,
   "metadata": {},
   "outputs": [],
   "source": [
    "# 기본 날짜 데이터 쪼개기\n",
    "df['year'] = df['date'].dt.year\n",
    "df['month'] = df['date'].dt.month\n",
    "df['day'] = df['date'].dt.day\n",
    "df['weekday'] = df['date'].dt.weekday\n",
    "df['week'] = df['date'].dt.isocalendar().week\n",
    "\n",
    "# 공휴일 추가\n",
    "df['isholiday'] = df['date'].isin(['2020-01-01', '2020-01-24', '2020-01-25', '2020-01-26', '2020-03-01', '2020-04-30', '2020-05-05', '2020-06-06', '2020-08-15', '2020-08-17', '2020-09-30', '2020-10-01', '2020-10-02', '2020-10-03', '2020-10-09', '2020-12-25'])\n",
    "\n",
    "# 몇개월차 유저인가\n",
    "df['join_date'] = df['join_date'].astype('datetime64')\n",
    "df['howlonguser'] = (df['year']*12 + df['month']) - (df['join_date'].dt.year*12 + df['join_date'].dt.month) + 1"
   ]
  },
  {
   "cell_type": "code",
   "execution_count": 817,
   "metadata": {},
   "outputs": [],
   "source": [
    "# 해당 날짜까지의 누적 카운트를 구하는 freq_cum과 활성화 정도를 보여주는 active를 구하기 위한 코드\n",
    "\n",
    "# 누적 결제 횟수\n",
    "df_l = df.sort_values(['user_id','date']).reset_index(drop=True)\n",
    "df_l['next'] = df_l.sort_values(['user_id','date']).groupby('user_id')['date'].shift(-1)\n",
    "df_l['before'] = df_l.sort_values(['user_id','date']).groupby('user_id')['date'].shift(1)\n",
    "df_l['freq_cum'] = pd.DataFrame(df_l.groupby(['user_id','date'])['before'].count()).groupby('user_id')['before'].cumsum().values\n",
    "df_l['ranking'] = np.where(df_l[\"freq_cum\"].values <= 1 , '브론즈', np.where(df_l[\"freq_cum\"].values <= 5 , '실버', np.where(df_l[\"freq_cum\"].values <= 18 , '골드', '플레티넘')))"
   ]
  },
  {
   "cell_type": "code",
   "execution_count": 818,
   "metadata": {},
   "outputs": [
    {
     "data": {
      "text/plain": [
       "count                877,812\n",
       "mean                      15\n",
       "std                       24\n",
       "min                        0\n",
       "25%                        1\n",
       "50%                        5\n",
       "75%                       18\n",
       "max                      243\n",
       "Name: freq_cum, dtype: float64"
      ]
     },
     "execution_count": 818,
     "metadata": {},
     "output_type": "execute_result"
    }
   ],
   "source": [
    "# ranking을 분류하는 기준은 누적 카운트의 통계량을 기준으로 정했음\n",
    "df_l['freq_cum'].describe()"
   ]
  },
  {
   "cell_type": "code",
   "execution_count": 819,
   "metadata": {},
   "outputs": [],
   "source": [
    "# 활성화 정도를 보여주는 active를 구하기\n",
    "# 주의할 점 : active는 현시점(2020-12-31)을 기준으로 고객을 분류하기 때문에 EDA에서만 사용하고 모델링에서는 반드시 제거해줘야함\n",
    "\n",
    "df_l['comeback'] = (pd.to_datetime('2020-12-31') - df_l['date']).dt.days\n",
    "\n",
    "# 최근 결제 날짜\n",
    "www = pd.DataFrame(df_l.groupby(['user_id'])['comeback'].min()).reset_index()\n",
    "www = www.rename(columns = {'comeback': 'min_cb'}, inplace = False)\n",
    "\n",
    "# 최대 누적 카운트\n",
    "eee = pd.DataFrame(df_l.groupby(['user_id'])['freq_cum'].max()).reset_index()\n",
    "eee = eee.rename(columns = {'freq_cum': 'max_freq'}, inplace = False)\n",
    "\n",
    "df_cb = pd.merge(www, eee, how = 'left', on = 'user_id')\n",
    "df_l = pd.merge(df_l, df_cb, how = 'left', on = ['user_id'])\n",
    "df_l['active'] = np.where(df_l['min_cb'] <= 31, '활성유저', np.where(df_l['max_freq'] >= 5, '잠수유저', '비활성유저'))"
   ]
  },
  {
   "cell_type": "code",
   "execution_count": 820,
   "metadata": {},
   "outputs": [],
   "source": [
    "# freq_cum과  active를 df에 머지\n",
    "freqbyuser = df_l[['user_id', 'date', 'freq_cum', 'ranking', 'active']]\n",
    "df = pd.merge(df, freqbyuser, how = 'left', on = ['user_id', 'date'])\n",
    "\n",
    "####################### howlonguser를 기준으로 고객 등급 매기기\n",
    "df['howlong'] = np.where(df['howlonguser'] <= 3, '1~3', np.where(df['howlonguser'] <= 6, '3~6', np.where(df['howlonguser'] <= 12, '6~12', np.where(df['howlonguser'] <= 24, '1년차', '2년 이상'))))"
   ]
  },
  {
   "cell_type": "code",
   "execution_count": 821,
   "metadata": {},
   "outputs": [
    {
     "data": {
      "text/plain": [
       "브론즈     255588\n",
       "골드      218012\n",
       "플레티넘    216979\n",
       "실버      187233\n",
       "Name: ranking, dtype: int64"
      ]
     },
     "execution_count": 821,
     "metadata": {},
     "output_type": "execute_result"
    }
   ],
   "source": [
    "# 각 그룹에 대한 데이터는 균형있게 들어갔는지 확인\n",
    "df['ranking'].value_counts()"
   ]
  },
  {
   "cell_type": "code",
   "execution_count": 822,
   "metadata": {
    "scrolled": true
   },
   "outputs": [
    {
     "data": {
      "text/plain": [
       "활성유저     380526\n",
       "잠수유저     294942\n",
       "비활성유저    202344\n",
       "Name: active, dtype: int64"
      ]
     },
     "execution_count": 822,
     "metadata": {},
     "output_type": "execute_result"
    }
   ],
   "source": [
    "df['active'].value_counts()"
   ]
  },
  {
   "cell_type": "code",
   "execution_count": 823,
   "metadata": {},
   "outputs": [
    {
     "data": {
      "text/plain": [
       "1~3      219630\n",
       "2년 이상    201190\n",
       "1년차      187005\n",
       "6~12     156922\n",
       "3~6      113065\n",
       "Name: howlong, dtype: int64"
      ]
     },
     "execution_count": 823,
     "metadata": {},
     "output_type": "execute_result"
    }
   ],
   "source": [
    "df['howlong'].value_counts()"
   ]
  },
  {
   "cell_type": "markdown",
   "metadata": {},
   "source": [
    "<br><br>\n",
    "#### 🔧Feature Engineering 내용 정리\n",
    "\n",
    "1. 주어진 서울시 기상데이터 csv 파일로 `weather`, `mean_temp`, `temp_diff` 변수를 추가했다.\n",
    "    - weather : 날씨 ('눈', '비', '해당없음')\n",
    "    - mean_temp : 평균 온도\n",
    "    - temp_diff : 일교차 (일 최고기온 - 최저기온)\n",
    "<br> 주어진 데이터에서 기온 값에 하나의 NA값이 존재하는데, max나 min에 영향을 받지 않을 정도의 숫자 30을 임의로 집어넣었다.\n",
    "<br>또한 12월 31일 날짜에는 00시 데이터만 있다. 12월 31 날짜의 평균 온도와 일교차는 아래 링크를 참고하여 데이터를 삽입했다.<br>  https://www.weather.go.kr/weather/climate/past_cal.jsp?stn=108&yy=2020&mm=12&x=20&y=5&obs=1\n",
    "<br><br>\n",
    "2. date 변수를 연, 월, 일자, 날짜, 주차로 쪼개서 저장하여 각각 `year`, `month`, `day`, `weekday`, `week`의 변수를 추가했다.\n",
    "<br><br>\n",
    "3. (결제년월 - 가입년월)로 몇 개월차 유저인지 파악하는 변수 `howlonguser`를 만들었다.\n",
    "<br><br>\n",
    "4. 국가 공휴일 데이터인 `isholiday` 변수를 추가했다. 다음의 사이트를 참고하였다.<br>\n",
    "https://publicholidays.co.kr/ko/2020-dates/\n",
    "<br><br>\n",
    "5. 누적 결제를 카운트하는 `freq_cum`을 만들고 `freq_cum`의 통계량을 바탕으로 회원 등급을 매기는 `ranking` 컬럼을 만들었다. (지인님 코드)\n",
    "    - 브론즈 : 0 ~ 1회\n",
    "    - 실버 : 2 ~ 5회\n",
    "    - 골드 : 6 ~18회\n",
    "    - 플래티넘 : 19회 이상\n",
    "<br><br>\n",
    "6. 2020년 12월 31일을 기준으로 유저의 활성화 정도를 확인하는 `active` 컬럼을 만들었다.\n",
    "    - 활성유저 : 한 달 이내 결제 건이 있는 유저\n",
    "    - 잠수유저 : 한 달 이내 결제 건은 없지만 이전 count 건수가 5회 이상인 유저\n",
    "    - 비활성유저 : 한 달 이내 결제 건도 없고, 이전 count 건수가 5회 미만인 유저\n",
    "    \n",
    "#### ⚠️ year와 active컬럼은 모델링 과정에서 drop해야하는 컬럼이다"
   ]
  },
  {
   "cell_type": "markdown",
   "metadata": {},
   "source": [
    "## 🚙 Step 4. EDA"
   ]
  },
  {
   "cell_type": "markdown",
   "metadata": {},
   "source": [
    "#### 1. count\n",
    "종속 변수이기 때문에 필수적으로 살펴본다."
   ]
  },
  {
   "cell_type": "code",
   "execution_count": 824,
   "metadata": {},
   "outputs": [
    {
     "data": {
      "text/plain": [
       "1     862704\n",
       "2      13500\n",
       "3       1058\n",
       "4        270\n",
       "5        133\n",
       "6         63\n",
       "7         36\n",
       "9         12\n",
       "8         11\n",
       "10         6\n",
       "15         4\n",
       "11         3\n",
       "12         3\n",
       "13         3\n",
       "23         2\n",
       "22         1\n",
       "17         1\n",
       "19         1\n",
       "20         1\n",
       "Name: count, dtype: int64"
      ]
     },
     "execution_count": 824,
     "metadata": {},
     "output_type": "execute_result"
    }
   ],
   "source": [
    "# count\n",
    "df['count'].value_counts()"
   ]
  },
  {
   "cell_type": "code",
   "execution_count": 825,
   "metadata": {},
   "outputs": [
    {
     "data": {
      "image/png": "[encoded data removed]",
      "text/plain": [
       "<Figure size 432x288 with 1 Axes>"
      ]
     },
     "metadata": {
      "needs_background": "light"
     },
     "output_type": "display_data"
    }
   ],
   "source": [
    "# count == 1이 아니면 전부 이상치로 판단하는 모습\n",
    "sns.boxplot(x = \"count\",\n",
    "            data = df)\n",
    "plt.show()"
   ]
  },
  {
   "cell_type": "code",
   "execution_count": 826,
   "metadata": {},
   "outputs": [
    {
     "data": {
      "image/png": "[encoded data removed]",
      "text/plain": [
       "<Figure size 432x288 with 1 Axes>"
      ]
     },
     "metadata": {
      "needs_background": "light"
     },
     "output_type": "display_data"
    }
   ],
   "source": [
    "# count 빈도 log\n",
    "sns.distplot(np.log(df['count']));"
   ]
  },
  {
   "cell_type": "code",
   "execution_count": 827,
   "metadata": {},
   "outputs": [
    {
     "data": {
      "image/png": "[encoded data removed]",
      "text/plain": [
       "<Figure size 432x288 with 1 Axes>"
      ]
     },
     "metadata": {
      "needs_background": "light"
     },
     "output_type": "display_data"
    }
   ],
   "source": [
    "# count != 1 빈도\n",
    "withoutcount1 = df.drop(df[df['count'] == 1].index)\n",
    "sns.distplot(np.log(withoutcount1['count']));"
   ]
  },
  {
   "cell_type": "markdown",
   "metadata": {},
   "source": [
    "<br>\n",
    "\n",
    "#### 2. corrplot\n",
    "\n",
    "상관 분석을 위해 corrplot을 그려본다.\n",
    "\n",
    "count == 1의 값이 압도적으로 많으므로, count == 1을 제외한 데이터의 corrplot도 함께 살펴본다.\n",
    "\n",
    "##### 1) count == 1 포함 corrplot"
   ]
  },
  {
   "cell_type": "code",
   "execution_count": 828,
   "metadata": {},
   "outputs": [
    {
     "data": {
      "image/png": "[encoded data removed]",
      "text/plain": [
       "<Figure size 792x648 with 2 Axes>"
      ]
     },
     "metadata": {
      "needs_background": "light"
     },
     "output_type": "display_data"
    }
   ],
   "source": [
    "df_corr = df.drop(['year', 'month', 'day', 'weekday', 'week'], 1)\n",
    "\n",
    "corr = df_corr.corr()\n",
    "mask = np.triu(np.ones_like(corr, dtype=bool))\n",
    "f, ax = plt.subplots(figsize=(11, 9))\n",
    "cmap = sns.diverging_palette(230, 20, as_cmap=True)\n",
    "sns.heatmap(corr, mask=mask, cmap=cmap, vmax=.3, center=0,\n",
    "            square=True, linewidths=.5, cbar_kws={\"shrink\": .5}, annot=True)\n",
    "plt.show()"
   ]
  },
  {
   "cell_type": "markdown",
   "metadata": {},
   "source": [
    "##### 2) count != 1 데이터의 corrplot"
   ]
  },
  {
   "cell_type": "code",
   "execution_count": 829,
   "metadata": {
    "scrolled": false
   },
   "outputs": [
    {
     "data": {
      "image/png": "[encoded data removed]",
      "text/plain": [
       "<Figure size 792x648 with 2 Axes>"
      ]
     },
     "metadata": {
      "needs_background": "light"
     },
     "output_type": "display_data"
    }
   ],
   "source": [
    "no_one = df_corr[df_corr['count'] != 1]\n",
    "\n",
    "corr = no_one.corr()\n",
    "mask = np.triu(np.ones_like(corr, dtype=bool))\n",
    "f, ax = plt.subplots(figsize=(11, 9))\n",
    "cmap = sns.diverging_palette(230, 20, as_cmap=True)\n",
    "sns.heatmap(corr, mask=mask, cmap=cmap, vmax=.3, center=0,\n",
    "            square=True, linewidths=.5, cbar_kws={\"shrink\": .5}, annot=True)\n",
    "plt.show()"
   ]
  },
  {
   "cell_type": "markdown",
   "metadata": {},
   "source": [
    "#### corrplot 결과\n",
    "\n",
    "0. 데이터가 갖는 편향성(count == 1이 압도적) 때문에 corrplot으로 count와 다른 feature들과의 상관관계를 정확히 파악하기 힘듬\n",
    "1. count가 1인 경우를 제외하면서 corrplot을 살펴보았을 때도 마찬가지임\n",
    "2. 2020년 결제 데이터라 `year` 변수는 모델링 관점에서는 의미가 없음\n",
    "3. `howlonguser`와 `user_id`의 상관계수가 -1에 가깝기 때문에 모델링 시 하나의 변수는 제거 가능"
   ]
  },
  {
   "cell_type": "markdown",
   "metadata": {},
   "source": [
    "#### 3. Features"
   ]
  },
  {
   "cell_type": "markdown",
   "metadata": {},
   "source": [
    "##### Q1) 요일별 결제량은 어떻게 변할까?"
   ]
  },
  {
   "cell_type": "code",
   "execution_count": 830,
   "metadata": {
    "scrolled": false
   },
   "outputs": [
    {
     "data": {
      "image/png": "[encoded data removed]",
      "text/plain": [
       "<Figure size 936x432 with 1 Axes>"
      ]
     },
     "metadata": {
      "needs_background": "light"
     },
     "output_type": "display_data"
    }
   ],
   "source": [
    "plt.figure(figsize=(13,6))\n",
    "sns.countplot(data = df, x = 'weekday')\n",
    "plt.title('요일별 결제량 차트', fontsize=18);"
   ]
  },
  {
   "cell_type": "markdown",
   "metadata": {},
   "source": [
    "- 금요일 결제량이 더 높다는 점 외엔 월요일부터 토요일까지는 큰 변화가 없지만, 일요일 결제량은 크게 감소하는 것을 확인할 수 있다.\n",
    "<br><br>"
   ]
  },
  {
   "cell_type": "markdown",
   "metadata": {},
   "source": [
    "##### Q2) 월별 결제량 차트는 어떻게 나타날까?"
   ]
  },
  {
   "cell_type": "code",
   "execution_count": 831,
   "metadata": {},
   "outputs": [
    {
     "data": {
      "image/png": "[encoded data removed]",
      "text/plain": [
       "<Figure size 936x432 with 1 Axes>"
      ]
     },
     "metadata": {
      "needs_background": "light"
     },
     "output_type": "display_data"
    }
   ],
   "source": [
    "plt.figure(figsize=(13,6))\n",
    "sns.countplot(data = df, x = 'month')\n",
    "plt.title('월별 결제량 차트', fontsize=18);"
   ]
  },
  {
   "cell_type": "markdown",
   "metadata": {},
   "source": [
    "- 2020년 결제건만 존재하기 때문에 월별 결제량 차트의 유의미한 해석이 불가능해보인다.\n",
    "<br><br>"
   ]
  },
  {
   "cell_type": "markdown",
   "metadata": {},
   "source": [
    "<br>\n",
    "\n",
    "##### Q3) 최고 기온에 따른 이용량은 어떻게 나타날까?"
   ]
  },
  {
   "cell_type": "code",
   "execution_count": 832,
   "metadata": {},
   "outputs": [
    {
     "data": {
      "image/png": "[encoded data removed]",
      "text/plain": [
       "<Figure size 936x432 with 1 Axes>"
      ]
     },
     "metadata": {
      "needs_background": "light"
     },
     "output_type": "display_data"
    }
   ],
   "source": [
    "# 평균 온도에 따른 이용량 추이\n",
    "plt.figure(figsize=(13,6))\n",
    "df_m_temp = df.groupby('max_temp')['count'].sum().reset_index()\n",
    "df_m_temp['max_temp'] = round(df_m_temp['max_temp'])\n",
    "sns.lineplot(data = df_m_temp, x = 'max_temp', y = 'count');"
   ]
  },
  {
   "cell_type": "markdown",
   "metadata": {},
   "source": [
    "- 최고 기온에 따른 이용량을 보면, 25 ~ 27℃ 사이에 결제량이 많은 걸 확인할 수 있다. (그래프는 최고 기온의 소수점 첫째자리에서 반올림)\n",
    "\n",
    "- 한편 데이터가 2020년에 제한된 데이터이기 때문에, 날짜와 관련된 차트는 유의성을 판단하기가 어렵다."
   ]
  },
  {
   "cell_type": "markdown",
   "metadata": {},
   "source": [
    "##### Q4) 불쾌지수에 가장 민감한 반응을 보인 유저는 어떤 유저일까?"
   ]
  },
  {
   "cell_type": "code",
   "execution_count": 833,
   "metadata": {},
   "outputs": [],
   "source": [
    "zzz = df[df['discomfort_index'] == \"매우불쾌\"]"
   ]
  },
  {
   "cell_type": "code",
   "execution_count": 834,
   "metadata": {},
   "outputs": [
    {
     "data": {
      "image/png": "[encoded data removed]",
      "text/plain": [
       "<Figure size 936x432 with 1 Axes>"
      ]
     },
     "metadata": {
      "needs_background": "light"
     },
     "output_type": "display_data"
    }
   ],
   "source": [
    "plt.figure(figsize=(13,6))\n",
    "sns.countplot(x = \"howlong\",  data = df)\n",
    "plt.show()"
   ]
  },
  {
   "cell_type": "code",
   "execution_count": 835,
   "metadata": {},
   "outputs": [
    {
     "data": {
      "image/png": "[encoded data removed]",
      "text/plain": [
       "<Figure size 936x432 with 1 Axes>"
      ]
     },
     "metadata": {
      "needs_background": "light"
     },
     "output_type": "display_data"
    }
   ],
   "source": [
    "plt.figure(figsize=(13,6))\n",
    "sns.countplot(x = \"howlong\",  data = zzz)\n",
    "plt.show()"
   ]
  },
  {
   "cell_type": "code",
   "execution_count": 836,
   "metadata": {},
   "outputs": [
    {
     "data": {
      "image/png": "[encoded data removed]",
      "text/plain": [
       "<Figure size 936x432 with 1 Axes>"
      ]
     },
     "metadata": {
      "needs_background": "light"
     },
     "output_type": "display_data"
    }
   ],
   "source": [
    "plt.figure(figsize=(13,6))\n",
    "sns.countplot(x = \"ranking\",  data = df, order = ['브론즈', '실버', '골드', '플레티넘'])\n",
    "plt.show()"
   ]
  },
  {
   "cell_type": "code",
   "execution_count": 837,
   "metadata": {},
   "outputs": [
    {
     "data": {
      "image/png": "[encoded data removed]",
      "text/plain": [
       "<Figure size 936x432 with 1 Axes>"
      ]
     },
     "metadata": {
      "needs_background": "light"
     },
     "output_type": "display_data"
    }
   ],
   "source": [
    "plt.figure(figsize=(13,6))\n",
    "sns.countplot(x = \"ranking\", data = zzz, order = ['브론즈', '실버', '골드', '플레티넘'])\n",
    "plt.show()"
   ]
  },
  {
   "cell_type": "code",
   "execution_count": 838,
   "metadata": {},
   "outputs": [
    {
     "data": {
      "image/png": "[encoded data removed]",
      "text/plain": [
       "<Figure size 936x432 with 1 Axes>"
      ]
     },
     "metadata": {
      "needs_background": "light"
     },
     "output_type": "display_data"
    }
   ],
   "source": [
    "plt.figure(figsize=(13,6))\n",
    "sns.countplot(x = \"active\", data = df, order = ['활성유저', '잠수유저', '비활성유저'])\n",
    "plt.show()"
   ]
  },
  {
   "cell_type": "code",
   "execution_count": 839,
   "metadata": {},
   "outputs": [
    {
     "data": {
      "image/png": "[encoded data removed]",
      "text/plain": [
       "<Figure size 936x432 with 1 Axes>"
      ]
     },
     "metadata": {
      "needs_background": "light"
     },
     "output_type": "display_data"
    }
   ],
   "source": [
    "plt.figure(figsize=(13,6))\n",
    "sns.countplot(x = \"active\", data = zzz,order = ['활성유저', '잠수유저', '비활성유저'])\n",
    "plt.show()"
   ]
  },
  {
   "cell_type": "markdown",
   "metadata": {},
   "source": [
    "- ranking으로 보았을 때는 플래티넘 유저가, active로 보았을 때는 잠수 유저가 불쾌지수가 높은 날에 상대적으로 더 많이 이용했다."
   ]
  },
  {
   "cell_type": "markdown",
   "metadata": {},
   "source": [
    "aa1 = df['active'].value_counts().reset_index()\n",
    "aa2 = df[df['discomfort_index'] == '불쾌']['active'].value_counts().reset_index()\n",
    "aa3 = pd.concat([aa1.transpose(), aa2.transpose()])\n",
    "aa3 = aa3.loc[\"active\"]\n",
    "aa3 = aa3.rename(columns = {0: '활성유저', 1:'잠수유저', 2:'비활성유저'}, inplace = False)\n",
    "\n",
    "stacked_data = aa3.apply(lambda x: x*100/sum(x), axis=1)\n",
    "stacked_data.plot(kind=\"bar\", stacked=True, rot=0)\n",
    "plt.title(\"불쾌지수에 따른 이용량 변화\")\n",
    "plt.xlabel(\" \");"
   ]
  },
  {
   "cell_type": "markdown",
   "metadata": {},
   "source": [
    "bb1 = df['howlong'].value_counts().reset_index()\n",
    "bb2 = df[df['discomfort_index'] == '불쾌']['howlong'].value_counts().reset_index()\n",
    "bb3 = pd.concat([bb1.transpose(), bb2.transpose()])\n",
    "bb3 = bb3.loc[\"howlong\"]\n",
    "bb3 = bb3.rename(columns = {0: '1~3', 1:'3~6', 2:'6~12', 3:'1년차', 4:'2년 이상'}, inplace = False)\n",
    "stacked_data = bb3.apply(lambda x: x*100/sum(x), axis=1)\n",
    "stacked_data.plot(kind=\"bar\", stacked=True, rot=0)\n",
    "plt.title(\"Mince Pie Consumption Breakdown\")\n",
    "plt.xlabel(\" \");"
   ]
  },
  {
   "cell_type": "markdown",
   "metadata": {},
   "source": [
    "cc1 = df['ranking'].value_counts().reset_index()\n",
    "cc2 = df[df['discomfort_index'] == '불쾌']['ranking'].value_counts().reset_index()\n",
    "cc3 = pd.concat([cc1.transpose(), cc2.transpose()])\n",
    "cc3 = cc3.loc[\"ranking\"]\n",
    "cc3 = cc3.rename(columns = {0: '브론즈', 1:'골드', 2:'플래티넘', 3:'실버'}, inplace = False)\n",
    "stacked_data = cc3.apply(lambda x: x*100/sum(x), axis=1)\n",
    "stacked_data.plot(kind=\"bar\", stacked=True, rot=0)\n",
    "plt.title(\"Mince Pie Consumption Breakdown\")\n",
    "plt.xlabel(\" \");"
   ]
  },
  {
   "cell_type": "code",
   "execution_count": null,
   "metadata": {},
   "outputs": [],
   "source": []
  },
  {
   "cell_type": "markdown",
   "metadata": {},
   "source": [
    "##### Q5) extreme_weather에 구애받지 않는 유저는?"
   ]
  },
  {
   "cell_type": "code",
   "execution_count": 840,
   "metadata": {},
   "outputs": [
    {
     "data": {
      "image/png": "[encoded data removed]",
      "text/plain": [
       "<Figure size 936x432 with 1 Axes>"
      ]
     },
     "metadata": {
      "needs_background": "light"
     },
     "output_type": "display_data"
    }
   ],
   "source": [
    "plt.figure(figsize=(13,6))\n",
    "sns.countplot(x = \"extreme_weather\",  hue = \"howlong\", data = df[df['extreme_weather'] != \"없음\"])\n",
    "plt.show()"
   ]
  },
  {
   "cell_type": "code",
   "execution_count": 841,
   "metadata": {},
   "outputs": [
    {
     "data": {
      "image/png": "[encoded data removed]",
      "text/plain": [
       "<Figure size 936x432 with 1 Axes>"
      ]
     },
     "metadata": {
      "needs_background": "light"
     },
     "output_type": "display_data"
    }
   ],
   "source": [
    "plt.figure(figsize=(13,6))\n",
    "sns.countplot(x = \"extreme_weather\",  hue = \"ranking\", data = df[df['extreme_weather'] != \"없음\"])\n",
    "plt.show()"
   ]
  },
  {
   "cell_type": "code",
   "execution_count": 842,
   "metadata": {},
   "outputs": [
    {
     "data": {
      "image/png": "[encoded data removed]",
      "text/plain": [
       "<Figure size 936x432 with 1 Axes>"
      ]
     },
     "metadata": {
      "needs_background": "light"
     },
     "output_type": "display_data"
    }
   ],
   "source": [
    "plt.figure(figsize=(13,6))\n",
    "sns.countplot(x = \"extreme_weather\",  hue = \"active\", data = df[df['extreme_weather'] != \"없음\"])\n",
    "plt.show()"
   ]
  },
  {
   "cell_type": "markdown",
   "metadata": {},
   "source": [
    "- extreme_weather에 대한 반응은 howlong과 ranking에서는 나타나지 않는다.\n",
    "- 활성유저는 눈이 오늘 날 주차장을 찾기 위한 활동에 조금 더 적극적이다."
   ]
  },
  {
   "cell_type": "code",
   "execution_count": 843,
   "metadata": {},
   "outputs": [
    {
     "name": "stdout",
     "output_type": "stream",
     "text": [
      "26211\n"
     ]
    },
    {
     "data": {
      "text/plain": [
       "901"
      ]
     },
     "execution_count": 843,
     "metadata": {},
     "output_type": "execute_result"
    }
   ],
   "source": [
    "snow = df[df['extreme_weather'] == '눈'][['user_id', 'join_date', 'date']].drop_duplicates()\n",
    "print(len(snow))\n",
    "snow['gap'] = (snow['date'] - snow['join_date']).dt.days\n",
    "len(snow[snow['gap'] == 0])\n"
   ]
  },
  {
   "cell_type": "markdown",
   "metadata": {},
   "source": [
    "- 한편 2020년 눈이 내리는 날에 모두의 주차장 앱에 가입하여 결제까지 진행한 유저는 901명으로, 전체 눈 오는 날 결제 건수의 3.4% 정도이다."
   ]
  },
  {
   "cell_type": "markdown",
   "metadata": {},
   "source": [
    "##### Q6) 유저의 가입기간, 등급, 활성화 정도에 따라 날짜별 이용이 어떻게 달라질까?"
   ]
  },
  {
   "cell_type": "code",
   "execution_count": 844,
   "metadata": {},
   "outputs": [
    {
     "data": {
      "image/png": "[encoded data removed]",
      "text/plain": [
       "<Figure size 936x432 with 1 Axes>"
      ]
     },
     "metadata": {
      "needs_background": "light"
     },
     "output_type": "display_data"
    }
   ],
   "source": [
    "plt.figure(figsize=(13,6))\n",
    "sns.countplot(x = \"weekday\",  hue = \"howlong\", data = df)\n",
    "plt.show()"
   ]
  },
  {
   "cell_type": "code",
   "execution_count": 845,
   "metadata": {},
   "outputs": [
    {
     "data": {
      "image/png": "[encoded data removed]",
      "text/plain": [
       "<Figure size 936x432 with 1 Axes>"
      ]
     },
     "metadata": {
      "needs_background": "light"
     },
     "output_type": "display_data"
    }
   ],
   "source": [
    "plt.figure(figsize=(13,6))\n",
    "sns.countplot(x = \"weekday\",  hue = \"ranking\", data = df)\n",
    "plt.show()"
   ]
  },
  {
   "cell_type": "code",
   "execution_count": 846,
   "metadata": {},
   "outputs": [
    {
     "data": {
      "image/png": "[encoded data removed]",
      "text/plain": [
       "<Figure size 936x432 with 1 Axes>"
      ]
     },
     "metadata": {
      "needs_background": "light"
     },
     "output_type": "display_data"
    }
   ],
   "source": [
    "plt.figure(figsize=(13,6))\n",
    "sns.countplot(x = \"weekday\",  hue = \"active\", data = df)\n",
    "plt.show()"
   ]
  },
  {
   "cell_type": "markdown",
   "metadata": {},
   "source": [
    "- 유저의 가입기간에 따른 날짜별 이용량은 큰 차이가 없다.\n",
    "- 등급이 높은 유저일수록(모두의 주차장 앱을 많이 이용한 유저일수록) 주중 이용 횟수가 주말 이용 횟수보다 많아진다. \n",
    "- 활성유저는 평일 이용량이 주말보다 높다. \n",
    "- 잠수유저의 이용량 추이는 활성유저와 비슷하지만, 비활성 유저의 경우는 정반대로 이용량이 금토일에 집중적으로 나타났다. "
   ]
  },
  {
   "cell_type": "markdown",
   "metadata": {},
   "source": [
    "##### Q7) 유저의 가입기간, 등급, 활성화 정도에 따라 goods_type 이용이 어떻게 달라질까?"
   ]
  },
  {
   "cell_type": "code",
   "execution_count": 847,
   "metadata": {},
   "outputs": [
    {
     "data": {
      "image/png": "[encoded data removed]",
      "text/plain": [
       "<Figure size 936x432 with 1 Axes>"
      ]
     },
     "metadata": {
      "needs_background": "light"
     },
     "output_type": "display_data"
    }
   ],
   "source": [
    "plt.figure(figsize=(13,6))\n",
    "sns.countplot(x = \"goods_type\",  hue = \"howlong\", data = df, order = ['A', 'B', 'C', 'D'])\n",
    "plt.show()"
   ]
  },
  {
   "cell_type": "code",
   "execution_count": 848,
   "metadata": {},
   "outputs": [
    {
     "data": {
      "image/png": "[encoded data removed]",
      "text/plain": [
       "<Figure size 936x432 with 1 Axes>"
      ]
     },
     "metadata": {
      "needs_background": "light"
     },
     "output_type": "display_data"
    }
   ],
   "source": [
    "plt.figure(figsize=(13,6))\n",
    "sns.countplot(x = \"goods_type\",  hue = \"ranking\", data = df, order = ['A', 'B', 'C', 'D'])\n",
    "plt.show()"
   ]
  },
  {
   "cell_type": "code",
   "execution_count": 849,
   "metadata": {},
   "outputs": [
    {
     "data": {
      "image/png": "[encoded data removed]",
      "text/plain": [
       "<Figure size 936x432 with 1 Axes>"
      ]
     },
     "metadata": {
      "needs_background": "light"
     },
     "output_type": "display_data"
    }
   ],
   "source": [
    "plt.figure(figsize=(13,6))\n",
    "sns.countplot(x = \"goods_type\",  hue = \"active\", data = df, order = ['A', 'B', 'C', 'D'])\n",
    "plt.show()"
   ]
  },
  {
   "cell_type": "markdown",
   "metadata": {},
   "source": [
    "- 가입 기간에 따른 goods_type 이용의 차이는 보이지 않는다.\n",
    "- 등급에 따라 goods_type 이용을 살펴보았을 때, 모두의 주차장 앱을 많이 이용한 유저(골드, 플레티넘)일수록 type A를 많이 이용하는 것으로 보인다. \n",
    "- 그리고 이용량이 적은 유저(브론즈, 실버)일수록 상대적으로 B와 C type을 더 구매하는 것을 알 수 있다.\n",
    "- 유저 활성화는 goods_type의 관계에서 재미있는 건 비율에 상관없이 B, C, D를 이용하는 건수가 엇비슷하다는 점이다. 하지만 전반적으로 Type A를 가장 많이 이용한다."
   ]
  },
  {
   "cell_type": "code",
   "execution_count": null,
   "metadata": {},
   "outputs": [],
   "source": []
  },
  {
   "cell_type": "code",
   "execution_count": 850,
   "metadata": {},
   "outputs": [],
   "source": [
    "##### Q8) "
   ]
  },
  {
   "cell_type": "code",
   "execution_count": null,
   "metadata": {},
   "outputs": [],
   "source": []
  },
  {
   "cell_type": "code",
   "execution_count": null,
   "metadata": {},
   "outputs": [],
   "source": []
  },
  {
   "cell_type": "code",
   "execution_count": null,
   "metadata": {},
   "outputs": [],
   "source": []
  },
  {
   "cell_type": "code",
   "execution_count": null,
   "metadata": {},
   "outputs": [],
   "source": []
  },
  {
   "cell_type": "code",
   "execution_count": null,
   "metadata": {},
   "outputs": [],
   "source": []
  },
  {
   "cell_type": "code",
   "execution_count": null,
   "metadata": {},
   "outputs": [],
   "source": []
  },
  {
   "cell_type": "code",
   "execution_count": null,
   "metadata": {},
   "outputs": [],
   "source": []
  },
  {
   "cell_type": "markdown",
   "metadata": {},
   "source": [
    "### 🚙 EDA 내용 정리\n",
    "\n",
    "1. count == 1 값이 압도적이라 corrplot에서 모든 feature가 count와의 상관관계 값을 0으로 갖는다. 로그를 씌워도 정규성 확보가 어렵다.\n",
    "\n",
    "2. corrplot의 상관관계는 count가 1인 경우를 제외하고 보더라도 크게 달라지지 않는다. 이외에도 다른 방식으로 살펴보았는데 count가 8 이상일 때 상관계수에 의미있는 숫자들이 등장했다. 그렇지만 이 경우는 데이터가 70개 정도로 상관 분석을 하기에 적당하지 않다. 따라서 해당 데이터로 상관관계를 분석하는 것은 의미가 없다고 판단한다.\n",
    "\n",
    "3. 비활성유저와 잠수유저의 특징에 맞게 깨우는 방법이 달라져야 한다.\n",
    "    <br>예) 잠수 유저는 평일 주차권 쿠폰, 비활성유저는 금토일 주차권 쿠폰 제공\n",
    "\n",
    "4. 유저 등급에 따라 쿠폰 제공을 다르게 해야 한다.\n",
    "    <br>예) 신규유저(브론즈 등급)에게는 금토일 주차권 제공, 고인물일수록 평일 주차권 쿠폰 제공\n",
    "    \n",
    "5. 신규 유저와 비활성유저가 보여지는 추세가 비슷하다. 재결제를 유도하기 위한 전략이 필요하다.\n",
    "    <br>- 고객 정보를 이용한 방향 :\n",
    "    <br>고객이 30대 이상이면 자차로 이동할 확률이 높다고 판단해서 30대 이상 복귀 유저에게 쿠폰 증정\n",
    "    <br>- 차량 정보를 이용한 방향 :\n",
    "    <br>차량 번호 조회로 렌트카인지 아닌지 확인 후, 렌트카 유저를 제외하고 쿠폰 증정"
   ]
  },
  {
   "cell_type": "markdown",
   "metadata": {},
   "source": [
    "## ⚙️ Step 5. label encoding과 Random Forest Regressor\n",
    "\n",
    "0. label encoding 전 train, test 데이터 확인. 전체 데이터(df)의 결측치 재확인\n",
    "1. 전체 데이터를 가공용 데이터(alldata)로 만들어서 코드 진행. \n",
    "2. 문자열 변수의 경우 전체 label encoding 진행\n",
    "3. alldata를 train, test 데이터의 차원에 맞게 쪼개기\n",
    "4. 불필요한 변수 제거\n",
    "5. 예측\n",
    "6. 예측 평가 MSE, MAE"
   ]
  },
  {
   "cell_type": "code",
   "execution_count": 851,
   "metadata": {
    "scrolled": true
   },
   "outputs": [
    {
     "data": {
      "text/html": [
       "<div>\n",
       "<style scoped>\n",
       "    .dataframe tbody tr th:only-of-type {\n",
       "        vertical-align: middle;\n",
       "    }\n",
       "\n",
       "    .dataframe tbody tr th {\n",
       "        vertical-align: top;\n",
       "    }\n",
       "\n",
       "    .dataframe thead th {\n",
       "        text-align: right;\n",
       "    }\n",
       "</style>\n",
       "<table border=\"1\" class=\"dataframe\">\n",
       "  <thead>\n",
       "    <tr style=\"text-align: right;\">\n",
       "      <th></th>\n",
       "      <th>user_id</th>\n",
       "      <th>join_date</th>\n",
       "      <th>d_type</th>\n",
       "      <th>store_id</th>\n",
       "      <th>goods_type</th>\n",
       "      <th>date</th>\n",
       "      <th>count</th>\n",
       "      <th>ad1</th>\n",
       "    </tr>\n",
       "  </thead>\n",
       "  <tbody>\n",
       "    <tr>\n",
       "      <th>0</th>\n",
       "      <td>2858</td>\n",
       "      <td>2014-01-07</td>\n",
       "      <td>AA</td>\n",
       "      <td>1892</td>\n",
       "      <td>A</td>\n",
       "      <td>2020-01-01</td>\n",
       "      <td>1</td>\n",
       "      <td>GN</td>\n",
       "    </tr>\n",
       "    <tr>\n",
       "      <th>1</th>\n",
       "      <td>5647</td>\n",
       "      <td>2014-02-14</td>\n",
       "      <td>BB</td>\n",
       "      <td>182009</td>\n",
       "      <td>A</td>\n",
       "      <td>2020-01-01</td>\n",
       "      <td>1</td>\n",
       "      <td>J</td>\n",
       "    </tr>\n",
       "    <tr>\n",
       "      <th>2</th>\n",
       "      <td>33314</td>\n",
       "      <td>2014-11-20</td>\n",
       "      <td>BB</td>\n",
       "      <td>82431</td>\n",
       "      <td>A</td>\n",
       "      <td>2020-01-01</td>\n",
       "      <td>1</td>\n",
       "      <td>SC</td>\n",
       "    </tr>\n",
       "    <tr>\n",
       "      <th>3</th>\n",
       "      <td>37001</td>\n",
       "      <td>2014-12-04</td>\n",
       "      <td>BB</td>\n",
       "      <td>725</td>\n",
       "      <td>C</td>\n",
       "      <td>2020-01-01</td>\n",
       "      <td>1</td>\n",
       "      <td>MP</td>\n",
       "    </tr>\n",
       "    <tr>\n",
       "      <th>4</th>\n",
       "      <td>37819</td>\n",
       "      <td>2014-12-07</td>\n",
       "      <td>AA</td>\n",
       "      <td>220691</td>\n",
       "      <td>C</td>\n",
       "      <td>2020-01-01</td>\n",
       "      <td>1</td>\n",
       "      <td>JRR</td>\n",
       "    </tr>\n",
       "    <tr>\n",
       "      <th>...</th>\n",
       "      <td>...</td>\n",
       "      <td>...</td>\n",
       "      <td>...</td>\n",
       "      <td>...</td>\n",
       "      <td>...</td>\n",
       "      <td>...</td>\n",
       "      <td>...</td>\n",
       "      <td>...</td>\n",
       "    </tr>\n",
       "    <tr>\n",
       "      <th>623574</th>\n",
       "      <td>1709914</td>\n",
       "      <td>2020-09-30</td>\n",
       "      <td>BB</td>\n",
       "      <td>221022</td>\n",
       "      <td>B</td>\n",
       "      <td>2020-09-30</td>\n",
       "      <td>1</td>\n",
       "      <td>GN</td>\n",
       "    </tr>\n",
       "    <tr>\n",
       "      <th>623575</th>\n",
       "      <td>1709935</td>\n",
       "      <td>2020-09-30</td>\n",
       "      <td>AA</td>\n",
       "      <td>725</td>\n",
       "      <td>B</td>\n",
       "      <td>2020-09-30</td>\n",
       "      <td>1</td>\n",
       "      <td>MP</td>\n",
       "    </tr>\n",
       "    <tr>\n",
       "      <th>623576</th>\n",
       "      <td>1709942</td>\n",
       "      <td>2020-09-30</td>\n",
       "      <td>AA</td>\n",
       "      <td>223058</td>\n",
       "      <td>B</td>\n",
       "      <td>2020-09-30</td>\n",
       "      <td>1</td>\n",
       "      <td>BF</td>\n",
       "    </tr>\n",
       "    <tr>\n",
       "      <th>623577</th>\n",
       "      <td>1709950</td>\n",
       "      <td>2020-09-30</td>\n",
       "      <td>BB</td>\n",
       "      <td>182320</td>\n",
       "      <td>A</td>\n",
       "      <td>2020-09-30</td>\n",
       "      <td>2</td>\n",
       "      <td>JRR</td>\n",
       "    </tr>\n",
       "    <tr>\n",
       "      <th>623578</th>\n",
       "      <td>1709952</td>\n",
       "      <td>2020-09-30</td>\n",
       "      <td>AA</td>\n",
       "      <td>105033</td>\n",
       "      <td>A</td>\n",
       "      <td>2020-09-30</td>\n",
       "      <td>1</td>\n",
       "      <td>SC</td>\n",
       "    </tr>\n",
       "  </tbody>\n",
       "</table>\n",
       "<p>622333 rows × 8 columns</p>\n",
       "</div>"
      ],
      "text/plain": [
       "        user_id   join_date d_type  store_id goods_type        date  count  \\\n",
       "0          2858  2014-01-07     AA      1892          A  2020-01-01      1   \n",
       "1          5647  2014-02-14     BB    182009          A  2020-01-01      1   \n",
       "2         33314  2014-11-20     BB     82431          A  2020-01-01      1   \n",
       "3         37001  2014-12-04     BB       725          C  2020-01-01      1   \n",
       "4         37819  2014-12-07     AA    220691          C  2020-01-01      1   \n",
       "...         ...         ...    ...       ...        ...         ...    ...   \n",
       "623574  1709914  2020-09-30     BB    221022          B  2020-09-30      1   \n",
       "623575  1709935  2020-09-30     AA       725          B  2020-09-30      1   \n",
       "623576  1709942  2020-09-30     AA    223058          B  2020-09-30      1   \n",
       "623577  1709950  2020-09-30     BB    182320          A  2020-09-30      2   \n",
       "623578  1709952  2020-09-30     AA    105033          A  2020-09-30      1   \n",
       "\n",
       "        ad1  \n",
       "0        GN  \n",
       "1         J  \n",
       "2        SC  \n",
       "3        MP  \n",
       "4       JRR  \n",
       "...     ...  \n",
       "623574   GN  \n",
       "623575   MP  \n",
       "623576   BF  \n",
       "623577  JRR  \n",
       "623578   SC  \n",
       "\n",
       "[622333 rows x 8 columns]"
      ]
     },
     "metadata": {},
     "output_type": "display_data"
    },
    {
     "data": {
      "text/html": [
       "<div>\n",
       "<style scoped>\n",
       "    .dataframe tbody tr th:only-of-type {\n",
       "        vertical-align: middle;\n",
       "    }\n",
       "\n",
       "    .dataframe tbody tr th {\n",
       "        vertical-align: top;\n",
       "    }\n",
       "\n",
       "    .dataframe thead th {\n",
       "        text-align: right;\n",
       "    }\n",
       "</style>\n",
       "<table border=\"1\" class=\"dataframe\">\n",
       "  <thead>\n",
       "    <tr style=\"text-align: right;\">\n",
       "      <th></th>\n",
       "      <th>user_id</th>\n",
       "      <th>join_date</th>\n",
       "      <th>d_type</th>\n",
       "      <th>store_id</th>\n",
       "      <th>goods_type</th>\n",
       "      <th>date</th>\n",
       "      <th>count</th>\n",
       "      <th>ad1</th>\n",
       "    </tr>\n",
       "  </thead>\n",
       "  <tbody>\n",
       "    <tr>\n",
       "      <th>623579</th>\n",
       "      <td>15521</td>\n",
       "      <td>2014-09-12</td>\n",
       "      <td>AA</td>\n",
       "      <td>182320</td>\n",
       "      <td>A</td>\n",
       "      <td>2020-10-01</td>\n",
       "      <td>1</td>\n",
       "      <td>JRR</td>\n",
       "    </tr>\n",
       "    <tr>\n",
       "      <th>623580</th>\n",
       "      <td>17651</td>\n",
       "      <td>2014-09-19</td>\n",
       "      <td>BB</td>\n",
       "      <td>82434</td>\n",
       "      <td>D</td>\n",
       "      <td>2020-10-01</td>\n",
       "      <td>1</td>\n",
       "      <td>J</td>\n",
       "    </tr>\n",
       "    <tr>\n",
       "      <th>623581</th>\n",
       "      <td>26388</td>\n",
       "      <td>2014-10-25</td>\n",
       "      <td>BB</td>\n",
       "      <td>182320</td>\n",
       "      <td>A</td>\n",
       "      <td>2020-10-01</td>\n",
       "      <td>1</td>\n",
       "      <td>JRR</td>\n",
       "    </tr>\n",
       "    <tr>\n",
       "      <th>623582</th>\n",
       "      <td>81772</td>\n",
       "      <td>2015-05-02</td>\n",
       "      <td>BB</td>\n",
       "      <td>204438</td>\n",
       "      <td>A</td>\n",
       "      <td>2020-10-01</td>\n",
       "      <td>1</td>\n",
       "      <td>DJ</td>\n",
       "    </tr>\n",
       "    <tr>\n",
       "      <th>623583</th>\n",
       "      <td>92258</td>\n",
       "      <td>2015-05-24</td>\n",
       "      <td>AA</td>\n",
       "      <td>220745</td>\n",
       "      <td>A</td>\n",
       "      <td>2020-10-01</td>\n",
       "      <td>1</td>\n",
       "      <td>SD</td>\n",
       "    </tr>\n",
       "    <tr>\n",
       "      <th>...</th>\n",
       "      <td>...</td>\n",
       "      <td>...</td>\n",
       "      <td>...</td>\n",
       "      <td>...</td>\n",
       "      <td>...</td>\n",
       "      <td>...</td>\n",
       "      <td>...</td>\n",
       "      <td>...</td>\n",
       "    </tr>\n",
       "    <tr>\n",
       "      <th>879266</th>\n",
       "      <td>1830551</td>\n",
       "      <td>2020-12-31</td>\n",
       "      <td>BB</td>\n",
       "      <td>219886</td>\n",
       "      <td>B</td>\n",
       "      <td>2020-12-31</td>\n",
       "      <td>1</td>\n",
       "      <td>GN</td>\n",
       "    </tr>\n",
       "    <tr>\n",
       "      <th>879267</th>\n",
       "      <td>1830570</td>\n",
       "      <td>2020-12-31</td>\n",
       "      <td>BB</td>\n",
       "      <td>82433</td>\n",
       "      <td>B</td>\n",
       "      <td>2020-12-31</td>\n",
       "      <td>1</td>\n",
       "      <td>CY</td>\n",
       "    </tr>\n",
       "    <tr>\n",
       "      <th>879268</th>\n",
       "      <td>1830580</td>\n",
       "      <td>2020-12-31</td>\n",
       "      <td>AA</td>\n",
       "      <td>92020</td>\n",
       "      <td>B</td>\n",
       "      <td>2020-12-31</td>\n",
       "      <td>1</td>\n",
       "      <td>JRR</td>\n",
       "    </tr>\n",
       "    <tr>\n",
       "      <th>879269</th>\n",
       "      <td>1830589</td>\n",
       "      <td>2020-12-31</td>\n",
       "      <td>BB</td>\n",
       "      <td>92437</td>\n",
       "      <td>B</td>\n",
       "      <td>2020-12-31</td>\n",
       "      <td>1</td>\n",
       "      <td>J</td>\n",
       "    </tr>\n",
       "    <tr>\n",
       "      <th>879270</th>\n",
       "      <td>1830598</td>\n",
       "      <td>2020-12-31</td>\n",
       "      <td>AA</td>\n",
       "      <td>220959</td>\n",
       "      <td>B</td>\n",
       "      <td>2020-12-31</td>\n",
       "      <td>1</td>\n",
       "      <td>SC</td>\n",
       "    </tr>\n",
       "  </tbody>\n",
       "</table>\n",
       "<p>255479 rows × 8 columns</p>\n",
       "</div>"
      ],
      "text/plain": [
       "        user_id   join_date d_type  store_id goods_type        date  count  \\\n",
       "623579    15521  2014-09-12     AA    182320          A  2020-10-01      1   \n",
       "623580    17651  2014-09-19     BB     82434          D  2020-10-01      1   \n",
       "623581    26388  2014-10-25     BB    182320          A  2020-10-01      1   \n",
       "623582    81772  2015-05-02     BB    204438          A  2020-10-01      1   \n",
       "623583    92258  2015-05-24     AA    220745          A  2020-10-01      1   \n",
       "...         ...         ...    ...       ...        ...         ...    ...   \n",
       "879266  1830551  2020-12-31     BB    219886          B  2020-12-31      1   \n",
       "879267  1830570  2020-12-31     BB     82433          B  2020-12-31      1   \n",
       "879268  1830580  2020-12-31     AA     92020          B  2020-12-31      1   \n",
       "879269  1830589  2020-12-31     BB     92437          B  2020-12-31      1   \n",
       "879270  1830598  2020-12-31     AA    220959          B  2020-12-31      1   \n",
       "\n",
       "        ad1  \n",
       "623579  JRR  \n",
       "623580    J  \n",
       "623581  JRR  \n",
       "623582   DJ  \n",
       "623583   SD  \n",
       "...     ...  \n",
       "879266   GN  \n",
       "879267   CY  \n",
       "879268  JRR  \n",
       "879269    J  \n",
       "879270   SC  \n",
       "\n",
       "[255479 rows x 8 columns]"
      ]
     },
     "metadata": {},
     "output_type": "display_data"
    },
    {
     "data": {
      "text/html": [
       "<div>\n",
       "<style scoped>\n",
       "    .dataframe tbody tr th:only-of-type {\n",
       "        vertical-align: middle;\n",
       "    }\n",
       "\n",
       "    .dataframe tbody tr th {\n",
       "        vertical-align: top;\n",
       "    }\n",
       "\n",
       "    .dataframe thead th {\n",
       "        text-align: right;\n",
       "    }\n",
       "</style>\n",
       "<table border=\"1\" class=\"dataframe\">\n",
       "  <thead>\n",
       "    <tr style=\"text-align: right;\">\n",
       "      <th></th>\n",
       "      <th>user_id</th>\n",
       "      <th>join_date</th>\n",
       "      <th>d_type</th>\n",
       "      <th>store_id</th>\n",
       "      <th>goods_type</th>\n",
       "      <th>date</th>\n",
       "      <th>count</th>\n",
       "      <th>ad1</th>\n",
       "      <th>max_temp</th>\n",
       "      <th>discomfort_index</th>\n",
       "      <th>extreme_weather</th>\n",
       "      <th>year</th>\n",
       "      <th>month</th>\n",
       "      <th>day</th>\n",
       "      <th>weekday</th>\n",
       "      <th>week</th>\n",
       "      <th>isholiday</th>\n",
       "      <th>howlonguser</th>\n",
       "      <th>freq_cum</th>\n",
       "      <th>ranking</th>\n",
       "      <th>active</th>\n",
       "      <th>howlong</th>\n",
       "    </tr>\n",
       "  </thead>\n",
       "  <tbody>\n",
       "    <tr>\n",
       "      <th>0</th>\n",
       "      <td>2858</td>\n",
       "      <td>2014-01-07</td>\n",
       "      <td>AA</td>\n",
       "      <td>1892</td>\n",
       "      <td>A</td>\n",
       "      <td>2020-01-01</td>\n",
       "      <td>1</td>\n",
       "      <td>GN</td>\n",
       "      <td>0</td>\n",
       "      <td>쾌적</td>\n",
       "      <td>약한비</td>\n",
       "      <td>2020</td>\n",
       "      <td>1</td>\n",
       "      <td>1</td>\n",
       "      <td>2</td>\n",
       "      <td>1</td>\n",
       "      <td>True</td>\n",
       "      <td>73</td>\n",
       "      <td>0</td>\n",
       "      <td>브론즈</td>\n",
       "      <td>비활성유저</td>\n",
       "      <td>2년 이상</td>\n",
       "    </tr>\n",
       "    <tr>\n",
       "      <th>1</th>\n",
       "      <td>5647</td>\n",
       "      <td>2014-02-14</td>\n",
       "      <td>BB</td>\n",
       "      <td>182009</td>\n",
       "      <td>A</td>\n",
       "      <td>2020-01-01</td>\n",
       "      <td>1</td>\n",
       "      <td>J</td>\n",
       "      <td>0</td>\n",
       "      <td>쾌적</td>\n",
       "      <td>약한비</td>\n",
       "      <td>2020</td>\n",
       "      <td>1</td>\n",
       "      <td>1</td>\n",
       "      <td>2</td>\n",
       "      <td>1</td>\n",
       "      <td>True</td>\n",
       "      <td>72</td>\n",
       "      <td>0</td>\n",
       "      <td>브론즈</td>\n",
       "      <td>비활성유저</td>\n",
       "      <td>2년 이상</td>\n",
       "    </tr>\n",
       "    <tr>\n",
       "      <th>2</th>\n",
       "      <td>33314</td>\n",
       "      <td>2014-11-20</td>\n",
       "      <td>BB</td>\n",
       "      <td>82431</td>\n",
       "      <td>A</td>\n",
       "      <td>2020-01-01</td>\n",
       "      <td>1</td>\n",
       "      <td>SC</td>\n",
       "      <td>0</td>\n",
       "      <td>쾌적</td>\n",
       "      <td>약한비</td>\n",
       "      <td>2020</td>\n",
       "      <td>1</td>\n",
       "      <td>1</td>\n",
       "      <td>2</td>\n",
       "      <td>1</td>\n",
       "      <td>True</td>\n",
       "      <td>63</td>\n",
       "      <td>0</td>\n",
       "      <td>브론즈</td>\n",
       "      <td>비활성유저</td>\n",
       "      <td>2년 이상</td>\n",
       "    </tr>\n",
       "    <tr>\n",
       "      <th>3</th>\n",
       "      <td>37001</td>\n",
       "      <td>2014-12-04</td>\n",
       "      <td>BB</td>\n",
       "      <td>725</td>\n",
       "      <td>C</td>\n",
       "      <td>2020-01-01</td>\n",
       "      <td>1</td>\n",
       "      <td>MP</td>\n",
       "      <td>0</td>\n",
       "      <td>쾌적</td>\n",
       "      <td>약한비</td>\n",
       "      <td>2020</td>\n",
       "      <td>1</td>\n",
       "      <td>1</td>\n",
       "      <td>2</td>\n",
       "      <td>1</td>\n",
       "      <td>True</td>\n",
       "      <td>62</td>\n",
       "      <td>0</td>\n",
       "      <td>브론즈</td>\n",
       "      <td>활성유저</td>\n",
       "      <td>2년 이상</td>\n",
       "    </tr>\n",
       "    <tr>\n",
       "      <th>4</th>\n",
       "      <td>37819</td>\n",
       "      <td>2014-12-07</td>\n",
       "      <td>AA</td>\n",
       "      <td>220691</td>\n",
       "      <td>C</td>\n",
       "      <td>2020-01-01</td>\n",
       "      <td>1</td>\n",
       "      <td>JRR</td>\n",
       "      <td>0</td>\n",
       "      <td>쾌적</td>\n",
       "      <td>약한비</td>\n",
       "      <td>2020</td>\n",
       "      <td>1</td>\n",
       "      <td>1</td>\n",
       "      <td>2</td>\n",
       "      <td>1</td>\n",
       "      <td>True</td>\n",
       "      <td>62</td>\n",
       "      <td>0</td>\n",
       "      <td>브론즈</td>\n",
       "      <td>비활성유저</td>\n",
       "      <td>2년 이상</td>\n",
       "    </tr>\n",
       "    <tr>\n",
       "      <th>...</th>\n",
       "      <td>...</td>\n",
       "      <td>...</td>\n",
       "      <td>...</td>\n",
       "      <td>...</td>\n",
       "      <td>...</td>\n",
       "      <td>...</td>\n",
       "      <td>...</td>\n",
       "      <td>...</td>\n",
       "      <td>...</td>\n",
       "      <td>...</td>\n",
       "      <td>...</td>\n",
       "      <td>...</td>\n",
       "      <td>...</td>\n",
       "      <td>...</td>\n",
       "      <td>...</td>\n",
       "      <td>...</td>\n",
       "      <td>...</td>\n",
       "      <td>...</td>\n",
       "      <td>...</td>\n",
       "      <td>...</td>\n",
       "      <td>...</td>\n",
       "      <td>...</td>\n",
       "    </tr>\n",
       "    <tr>\n",
       "      <th>877807</th>\n",
       "      <td>1830551</td>\n",
       "      <td>2020-12-31</td>\n",
       "      <td>BB</td>\n",
       "      <td>219886</td>\n",
       "      <td>B</td>\n",
       "      <td>2020-12-31</td>\n",
       "      <td>1</td>\n",
       "      <td>GN</td>\n",
       "      <td>-5</td>\n",
       "      <td>쾌적</td>\n",
       "      <td>없음</td>\n",
       "      <td>2020</td>\n",
       "      <td>12</td>\n",
       "      <td>31</td>\n",
       "      <td>3</td>\n",
       "      <td>53</td>\n",
       "      <td>False</td>\n",
       "      <td>1</td>\n",
       "      <td>0</td>\n",
       "      <td>브론즈</td>\n",
       "      <td>활성유저</td>\n",
       "      <td>1~3</td>\n",
       "    </tr>\n",
       "    <tr>\n",
       "      <th>877808</th>\n",
       "      <td>1830570</td>\n",
       "      <td>2020-12-31</td>\n",
       "      <td>BB</td>\n",
       "      <td>82433</td>\n",
       "      <td>B</td>\n",
       "      <td>2020-12-31</td>\n",
       "      <td>1</td>\n",
       "      <td>CY</td>\n",
       "      <td>-5</td>\n",
       "      <td>쾌적</td>\n",
       "      <td>없음</td>\n",
       "      <td>2020</td>\n",
       "      <td>12</td>\n",
       "      <td>31</td>\n",
       "      <td>3</td>\n",
       "      <td>53</td>\n",
       "      <td>False</td>\n",
       "      <td>1</td>\n",
       "      <td>0</td>\n",
       "      <td>브론즈</td>\n",
       "      <td>활성유저</td>\n",
       "      <td>1~3</td>\n",
       "    </tr>\n",
       "    <tr>\n",
       "      <th>877809</th>\n",
       "      <td>1830580</td>\n",
       "      <td>2020-12-31</td>\n",
       "      <td>AA</td>\n",
       "      <td>92020</td>\n",
       "      <td>B</td>\n",
       "      <td>2020-12-31</td>\n",
       "      <td>1</td>\n",
       "      <td>JRR</td>\n",
       "      <td>-5</td>\n",
       "      <td>쾌적</td>\n",
       "      <td>없음</td>\n",
       "      <td>2020</td>\n",
       "      <td>12</td>\n",
       "      <td>31</td>\n",
       "      <td>3</td>\n",
       "      <td>53</td>\n",
       "      <td>False</td>\n",
       "      <td>1</td>\n",
       "      <td>0</td>\n",
       "      <td>브론즈</td>\n",
       "      <td>활성유저</td>\n",
       "      <td>1~3</td>\n",
       "    </tr>\n",
       "    <tr>\n",
       "      <th>877810</th>\n",
       "      <td>1830589</td>\n",
       "      <td>2020-12-31</td>\n",
       "      <td>BB</td>\n",
       "      <td>92437</td>\n",
       "      <td>B</td>\n",
       "      <td>2020-12-31</td>\n",
       "      <td>1</td>\n",
       "      <td>J</td>\n",
       "      <td>-5</td>\n",
       "      <td>쾌적</td>\n",
       "      <td>없음</td>\n",
       "      <td>2020</td>\n",
       "      <td>12</td>\n",
       "      <td>31</td>\n",
       "      <td>3</td>\n",
       "      <td>53</td>\n",
       "      <td>False</td>\n",
       "      <td>1</td>\n",
       "      <td>0</td>\n",
       "      <td>브론즈</td>\n",
       "      <td>활성유저</td>\n",
       "      <td>1~3</td>\n",
       "    </tr>\n",
       "    <tr>\n",
       "      <th>877811</th>\n",
       "      <td>1830598</td>\n",
       "      <td>2020-12-31</td>\n",
       "      <td>AA</td>\n",
       "      <td>220959</td>\n",
       "      <td>B</td>\n",
       "      <td>2020-12-31</td>\n",
       "      <td>1</td>\n",
       "      <td>SC</td>\n",
       "      <td>-5</td>\n",
       "      <td>쾌적</td>\n",
       "      <td>없음</td>\n",
       "      <td>2020</td>\n",
       "      <td>12</td>\n",
       "      <td>31</td>\n",
       "      <td>3</td>\n",
       "      <td>53</td>\n",
       "      <td>False</td>\n",
       "      <td>1</td>\n",
       "      <td>0</td>\n",
       "      <td>브론즈</td>\n",
       "      <td>활성유저</td>\n",
       "      <td>1~3</td>\n",
       "    </tr>\n",
       "  </tbody>\n",
       "</table>\n",
       "<p>877812 rows × 22 columns</p>\n",
       "</div>"
      ],
      "text/plain": [
       "        user_id  join_date d_type  store_id goods_type       date  count  ad1  \\\n",
       "0          2858 2014-01-07     AA      1892          A 2020-01-01      1   GN   \n",
       "1          5647 2014-02-14     BB    182009          A 2020-01-01      1    J   \n",
       "2         33314 2014-11-20     BB     82431          A 2020-01-01      1   SC   \n",
       "3         37001 2014-12-04     BB       725          C 2020-01-01      1   MP   \n",
       "4         37819 2014-12-07     AA    220691          C 2020-01-01      1  JRR   \n",
       "...         ...        ...    ...       ...        ...        ...    ...  ...   \n",
       "877807  1830551 2020-12-31     BB    219886          B 2020-12-31      1   GN   \n",
       "877808  1830570 2020-12-31     BB     82433          B 2020-12-31      1   CY   \n",
       "877809  1830580 2020-12-31     AA     92020          B 2020-12-31      1  JRR   \n",
       "877810  1830589 2020-12-31     BB     92437          B 2020-12-31      1    J   \n",
       "877811  1830598 2020-12-31     AA    220959          B 2020-12-31      1   SC   \n",
       "\n",
       "                   max_temp discomfort_index extreme_weather  year  month  \\\n",
       "0                         0               쾌적             약한비  2020      1   \n",
       "1                         0               쾌적             약한비  2020      1   \n",
       "2                         0               쾌적             약한비  2020      1   \n",
       "3                         0               쾌적             약한비  2020      1   \n",
       "4                         0               쾌적             약한비  2020      1   \n",
       "...                     ...              ...             ...   ...    ...   \n",
       "877807                   -5               쾌적              없음  2020     12   \n",
       "877808                   -5               쾌적              없음  2020     12   \n",
       "877809                   -5               쾌적              없음  2020     12   \n",
       "877810                   -5               쾌적              없음  2020     12   \n",
       "877811                   -5               쾌적              없음  2020     12   \n",
       "\n",
       "        day  weekday  week  isholiday  howlonguser  freq_cum ranking active  \\\n",
       "0         1        2     1       True           73         0     브론즈  비활성유저   \n",
       "1         1        2     1       True           72         0     브론즈  비활성유저   \n",
       "2         1        2     1       True           63         0     브론즈  비활성유저   \n",
       "3         1        2     1       True           62         0     브론즈   활성유저   \n",
       "4         1        2     1       True           62         0     브론즈  비활성유저   \n",
       "...     ...      ...   ...        ...          ...       ...     ...    ...   \n",
       "877807   31        3    53      False            1         0     브론즈   활성유저   \n",
       "877808   31        3    53      False            1         0     브론즈   활성유저   \n",
       "877809   31        3    53      False            1         0     브론즈   활성유저   \n",
       "877810   31        3    53      False            1         0     브론즈   활성유저   \n",
       "877811   31        3    53      False            1         0     브론즈   활성유저   \n",
       "\n",
       "       howlong  \n",
       "0        2년 이상  \n",
       "1        2년 이상  \n",
       "2        2년 이상  \n",
       "3        2년 이상  \n",
       "4        2년 이상  \n",
       "...        ...  \n",
       "877807     1~3  \n",
       "877808     1~3  \n",
       "877809     1~3  \n",
       "877810     1~3  \n",
       "877811     1~3  \n",
       "\n",
       "[877812 rows x 22 columns]"
      ]
     },
     "metadata": {},
     "output_type": "display_data"
    }
   ],
   "source": [
    "display(train, test, df)"
   ]
  },
  {
   "cell_type": "code",
   "execution_count": 852,
   "metadata": {},
   "outputs": [
    {
     "data": {
      "text/plain": [
       "user_id                      int64\n",
       "join_date           datetime64[ns]\n",
       "d_type                      object\n",
       "store_id                     int64\n",
       "goods_type                  object\n",
       "date                datetime64[ns]\n",
       "count                        int64\n",
       "ad1                         object\n",
       "max_temp                   float64\n",
       "discomfort_index            object\n",
       "extreme_weather             object\n",
       "year                         int64\n",
       "month                        int64\n",
       "day                          int64\n",
       "weekday                      int64\n",
       "week                        UInt32\n",
       "isholiday                     bool\n",
       "howlonguser                  int64\n",
       "freq_cum                     int64\n",
       "ranking                     object\n",
       "active                      object\n",
       "howlong                     object\n",
       "dtype: object"
      ]
     },
     "execution_count": 852,
     "metadata": {},
     "output_type": "execute_result"
    }
   ],
   "source": [
    "df.dtypes"
   ]
  },
  {
   "cell_type": "code",
   "execution_count": 853,
   "metadata": {},
   "outputs": [
    {
     "data": {
      "text/plain": [
       "user_id             0\n",
       "join_date           0\n",
       "d_type              0\n",
       "store_id            0\n",
       "goods_type          0\n",
       "date                0\n",
       "count               0\n",
       "ad1                 0\n",
       "max_temp            0\n",
       "discomfort_index    0\n",
       "extreme_weather     0\n",
       "year                0\n",
       "month               0\n",
       "day                 0\n",
       "weekday             0\n",
       "week                0\n",
       "isholiday           0\n",
       "howlonguser         0\n",
       "freq_cum            0\n",
       "ranking             0\n",
       "active              0\n",
       "howlong             0\n",
       "dtype: int64"
      ]
     },
     "execution_count": 853,
     "metadata": {},
     "output_type": "execute_result"
    }
   ],
   "source": [
    "df.isna().sum()"
   ]
  },
  {
   "cell_type": "code",
   "execution_count": 854,
   "metadata": {},
   "outputs": [],
   "source": [
    "alldata = df"
   ]
  },
  {
   "cell_type": "code",
   "execution_count": 855,
   "metadata": {},
   "outputs": [],
   "source": [
    "le = LabelEncoder()\n",
    "\n",
    "cat_cols = alldata.columns[alldata.dtypes == object]\n",
    "for i in cat_cols:\n",
    "    alldata[i] = le.fit_transform(alldata[i])"
   ]
  },
  {
   "cell_type": "code",
   "execution_count": 863,
   "metadata": {
    "scrolled": false
   },
   "outputs": [
    {
     "data": {
      "text/html": [
       "<div>\n",
       "<style scoped>\n",
       "    .dataframe tbody tr th:only-of-type {\n",
       "        vertical-align: middle;\n",
       "    }\n",
       "\n",
       "    .dataframe tbody tr th {\n",
       "        vertical-align: top;\n",
       "    }\n",
       "\n",
       "    .dataframe thead th {\n",
       "        text-align: right;\n",
       "    }\n",
       "</style>\n",
       "<table border=\"1\" class=\"dataframe\">\n",
       "  <thead>\n",
       "    <tr style=\"text-align: right;\">\n",
       "      <th></th>\n",
       "      <th>user_id</th>\n",
       "      <th>d_type</th>\n",
       "      <th>store_id</th>\n",
       "      <th>goods_type</th>\n",
       "      <th>ad1</th>\n",
       "      <th>max_temp</th>\n",
       "      <th>discomfort_index</th>\n",
       "      <th>extreme_weather</th>\n",
       "      <th>weekday</th>\n",
       "      <th>isholiday</th>\n",
       "    </tr>\n",
       "  </thead>\n",
       "  <tbody>\n",
       "    <tr>\n",
       "      <th>0</th>\n",
       "      <td>2858</td>\n",
       "      <td>0</td>\n",
       "      <td>1892</td>\n",
       "      <td>0</td>\n",
       "      <td>39</td>\n",
       "      <td>0</td>\n",
       "      <td>2</td>\n",
       "      <td>2</td>\n",
       "      <td>2</td>\n",
       "      <td>True</td>\n",
       "    </tr>\n",
       "    <tr>\n",
       "      <th>1</th>\n",
       "      <td>5647</td>\n",
       "      <td>1</td>\n",
       "      <td>182009</td>\n",
       "      <td>0</td>\n",
       "      <td>49</td>\n",
       "      <td>0</td>\n",
       "      <td>2</td>\n",
       "      <td>2</td>\n",
       "      <td>2</td>\n",
       "      <td>True</td>\n",
       "    </tr>\n",
       "    <tr>\n",
       "      <th>2</th>\n",
       "      <td>33314</td>\n",
       "      <td>1</td>\n",
       "      <td>82431</td>\n",
       "      <td>0</td>\n",
       "      <td>63</td>\n",
       "      <td>0</td>\n",
       "      <td>2</td>\n",
       "      <td>2</td>\n",
       "      <td>2</td>\n",
       "      <td>True</td>\n",
       "    </tr>\n",
       "    <tr>\n",
       "      <th>3</th>\n",
       "      <td>37001</td>\n",
       "      <td>1</td>\n",
       "      <td>725</td>\n",
       "      <td>2</td>\n",
       "      <td>52</td>\n",
       "      <td>0</td>\n",
       "      <td>2</td>\n",
       "      <td>2</td>\n",
       "      <td>2</td>\n",
       "      <td>True</td>\n",
       "    </tr>\n",
       "    <tr>\n",
       "      <th>4</th>\n",
       "      <td>37819</td>\n",
       "      <td>0</td>\n",
       "      <td>220691</td>\n",
       "      <td>2</td>\n",
       "      <td>51</td>\n",
       "      <td>0</td>\n",
       "      <td>2</td>\n",
       "      <td>2</td>\n",
       "      <td>2</td>\n",
       "      <td>True</td>\n",
       "    </tr>\n",
       "    <tr>\n",
       "      <th>...</th>\n",
       "      <td>...</td>\n",
       "      <td>...</td>\n",
       "      <td>...</td>\n",
       "      <td>...</td>\n",
       "      <td>...</td>\n",
       "      <td>...</td>\n",
       "      <td>...</td>\n",
       "      <td>...</td>\n",
       "      <td>...</td>\n",
       "      <td>...</td>\n",
       "    </tr>\n",
       "    <tr>\n",
       "      <th>622328</th>\n",
       "      <td>1709914</td>\n",
       "      <td>1</td>\n",
       "      <td>221022</td>\n",
       "      <td>1</td>\n",
       "      <td>39</td>\n",
       "      <td>26</td>\n",
       "      <td>1</td>\n",
       "      <td>0</td>\n",
       "      <td>2</td>\n",
       "      <td>True</td>\n",
       "    </tr>\n",
       "    <tr>\n",
       "      <th>622329</th>\n",
       "      <td>1709935</td>\n",
       "      <td>0</td>\n",
       "      <td>725</td>\n",
       "      <td>1</td>\n",
       "      <td>52</td>\n",
       "      <td>26</td>\n",
       "      <td>1</td>\n",
       "      <td>0</td>\n",
       "      <td>2</td>\n",
       "      <td>True</td>\n",
       "    </tr>\n",
       "    <tr>\n",
       "      <th>622330</th>\n",
       "      <td>1709942</td>\n",
       "      <td>0</td>\n",
       "      <td>223058</td>\n",
       "      <td>1</td>\n",
       "      <td>4</td>\n",
       "      <td>26</td>\n",
       "      <td>1</td>\n",
       "      <td>0</td>\n",
       "      <td>2</td>\n",
       "      <td>True</td>\n",
       "    </tr>\n",
       "    <tr>\n",
       "      <th>622331</th>\n",
       "      <td>1709950</td>\n",
       "      <td>1</td>\n",
       "      <td>182320</td>\n",
       "      <td>0</td>\n",
       "      <td>51</td>\n",
       "      <td>26</td>\n",
       "      <td>1</td>\n",
       "      <td>0</td>\n",
       "      <td>2</td>\n",
       "      <td>True</td>\n",
       "    </tr>\n",
       "    <tr>\n",
       "      <th>622332</th>\n",
       "      <td>1709952</td>\n",
       "      <td>0</td>\n",
       "      <td>105033</td>\n",
       "      <td>0</td>\n",
       "      <td>63</td>\n",
       "      <td>26</td>\n",
       "      <td>1</td>\n",
       "      <td>0</td>\n",
       "      <td>2</td>\n",
       "      <td>True</td>\n",
       "    </tr>\n",
       "  </tbody>\n",
       "</table>\n",
       "<p>622333 rows × 10 columns</p>\n",
       "</div>"
      ],
      "text/plain": [
       "        user_id  d_type  store_id  goods_type  ad1             max_temp  \\\n",
       "0          2858       0      1892           0   39                    0   \n",
       "1          5647       1    182009           0   49                    0   \n",
       "2         33314       1     82431           0   63                    0   \n",
       "3         37001       1       725           2   52                    0   \n",
       "4         37819       0    220691           2   51                    0   \n",
       "...         ...     ...       ...         ...  ...                  ...   \n",
       "622328  1709914       1    221022           1   39                   26   \n",
       "622329  1709935       0       725           1   52                   26   \n",
       "622330  1709942       0    223058           1    4                   26   \n",
       "622331  1709950       1    182320           0   51                   26   \n",
       "622332  1709952       0    105033           0   63                   26   \n",
       "\n",
       "        discomfort_index  extreme_weather  weekday  isholiday  \n",
       "0                      2                2        2       True  \n",
       "1                      2                2        2       True  \n",
       "2                      2                2        2       True  \n",
       "3                      2                2        2       True  \n",
       "4                      2                2        2       True  \n",
       "...                  ...              ...      ...        ...  \n",
       "622328                 1                0        2       True  \n",
       "622329                 1                0        2       True  \n",
       "622330                 1                0        2       True  \n",
       "622331                 1                0        2       True  \n",
       "622332                 1                0        2       True  \n",
       "\n",
       "[622333 rows x 10 columns]"
      ]
     },
     "execution_count": 863,
     "metadata": {},
     "output_type": "execute_result"
    }
   ],
   "source": [
    "# drop columns\n",
    "# train, test\n",
    "train2 = alldata[alldata.date <= '2020-09-30']\n",
    "test2 = alldata[alldata.date > '2020-09-30']\n",
    "\n",
    "# week를 드랍하는 이유는 우리나라 명절 중 설날, 추석은 음력으로 계산하기 때문에 매년 week값이 바뀌기 때문이다.\n",
    "train3 = train2.drop(['count', 'join_date', 'date', 'year', 'week', 'month', 'day', 'howlonguser', 'freq_cum', 'ranking', 'active', 'howlong'], 1)\n",
    "test3 = test2.drop(['count', 'join_date', 'date', 'year', 'week', 'month', 'day', 'howlonguser', 'freq_cum', 'ranking', 'active', 'howlong'], 1)\n",
    "\n",
    "train3"
   ]
  },
  {
   "cell_type": "code",
   "execution_count": 864,
   "metadata": {},
   "outputs": [],
   "source": [
    "rf = RandomForestRegressor()"
   ]
  },
  {
   "cell_type": "code",
   "execution_count": 865,
   "metadata": {
    "scrolled": true
   },
   "outputs": [
    {
     "name": "stdout",
     "output_type": "stream",
     "text": [
      "Wall time: 38.2 s\n"
     ]
    }
   ],
   "source": [
    "%%time\n",
    "rf.fit(train3, train['count'])\n",
    "result = rf.predict(test3)\n",
    "result"
   ]
  },
  {
   "cell_type": "code",
   "execution_count": 866,
   "metadata": {},
   "outputs": [],
   "source": [
    "MSE = mean_squared_error(result, test['count'])\n",
    "MAE = mean_absolute_error(result, test['count'])"
   ]
  },
  {
   "cell_type": "code",
   "execution_count": 867,
   "metadata": {},
   "outputs": [
    {
     "name": "stdout",
     "output_type": "stream",
     "text": [
      "MSE :  0.08236597319805801 \n",
      "MAE :  0.11246440346695163\n"
     ]
    }
   ],
   "source": [
    "print('MSE : ', MSE, '\\nMAE : ', MAE)"
   ]
  },
  {
   "cell_type": "code",
   "execution_count": 868,
   "metadata": {},
   "outputs": [
    {
     "data": {
      "text/plain": [
       "{1.0: 167390,\n",
       " 1.0333333333333332: 2,\n",
       " 1.05: 1,\n",
       " 1.0666666666666667: 1,\n",
       " 1.0666666666666669: 7,\n",
       " 1.08: 1,\n",
       " 1.1: 37119,\n",
       " 1.15: 1,\n",
       " 1.1666666666666667: 2,\n",
       " 1.2: 15146,\n",
       " 1.2666666666666668: 11,\n",
       " 1.28: 1,\n",
       " 1.3: 9233,\n",
       " 1.4: 6729,\n",
       " 1.5: 11628,\n",
       " 1.6: 6094,\n",
       " 1.7: 500,\n",
       " 1.8: 260,\n",
       " 1.9: 254,\n",
       " 2.0: 118,\n",
       " 2.1: 14,\n",
       " 2.2: 136,\n",
       " 2.3: 36,\n",
       " 2.4: 115,\n",
       " 2.5: 58,\n",
       " 2.6: 29,\n",
       " 2.7: 24,\n",
       " 2.8: 263,\n",
       " 2.9: 39,\n",
       " 3.0: 89,\n",
       " 3.1: 18,\n",
       " 3.2: 6,\n",
       " 3.3: 2,\n",
       " 3.4: 23,\n",
       " 3.5: 8,\n",
       " 3.6: 3,\n",
       " 3.7: 4,\n",
       " 3.8: 14,\n",
       " 3.9: 2,\n",
       " 4.1: 2,\n",
       " 4.6: 38,\n",
       " 4.7: 6,\n",
       " 4.8: 11,\n",
       " 4.9: 2,\n",
       " 5.0: 1,\n",
       " 5.1: 2,\n",
       " 6.0: 2,\n",
       " 6.2: 1,\n",
       " 6.3: 1,\n",
       " 6.366666666666666: 1,\n",
       " 6.4: 17,\n",
       " 6.5: 5,\n",
       " 6.7: 1,\n",
       " 6.8: 5,\n",
       " 6.9: 1,\n",
       " 7.4: 1,\n",
       " 9.6: 1}"
      ]
     },
     "execution_count": 868,
     "metadata": {},
     "output_type": "execute_result"
    }
   ],
   "source": [
    "unique, counts = np.unique(result, return_counts=True)\n",
    "dict(zip(unique, counts))"
   ]
  },
  {
   "cell_type": "code",
   "execution_count": null,
   "metadata": {},
   "outputs": [],
   "source": []
  }
 ],
 "metadata": {
  "kernelspec": {
   "display_name": "Python 3",
   "language": "python",
   "name": "python3"
  },
  "language_info": {
   "codemirror_mode": {
    "name": "ipython",
    "version": 3
   },
   "file_extension": ".py",
   "mimetype": "text/x-python",
   "name": "python",
   "nbconvert_exporter": "python",
   "pygments_lexer": "ipython3",
   "version": "3.7.1"
  }
 },
 "nbformat": 4,
 "nbformat_minor": 2
}
